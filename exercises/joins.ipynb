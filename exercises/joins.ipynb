{
 "cells": [
  {
   "cell_type": "markdown",
   "metadata": {},
   "source": [
    "## Ejercicio unión de bases de datos\n",
    "\n",
    "## Contexto:\n",
    "---\n",
    "\n",
    "Los fabricantes de grandes máquinas analizan rutinariamente los materiales que utilizan. Este conjunto de datos contiene información sobre varios tubos utilizados en máquinas. Puedes imaginar que las grandes máquinas requieren diferentes tipos de tubos; los coches tienen tubos, los aviones tienen tubos y las excavadoras también tienen tubos. Hablemos un poco sobre cómo se ve un tubo en este conjunto de datos.\n",
    "\n",
    "La parte más pequeña de un ensamblaje de tubos es un componente. Los componentes pueden ser cosas como abrazaderas, juntas o algún otro tipo de accesorios. En general, los ensamblajes de tubos consisten en uno o más componentes y también pueden ser diferentes combinaciones de componentes. En este ejercicio, analizarás los datos y responderás algunas preguntas sobre los pesos. Sin embargo, antes de poder analizar los datos, debes organizarlos en un formato manejable. Necesitarás usar lo que has aprendido sobre la combinación y agrupación de datos.\n",
    "\n",
    "Tienes estos dos dataframes para responder las preguntas. Echa un vistazo y familiarízate con ellos:\n",
    "\n",
    "- **component_counts**: contiene la cantidad de componentes en cada ensamblaje de tubos.\n",
    "- **component_weights**: contiene los pesos de los componentes individuales.\n",
    "\n",
    "### Preguntas a contestar \n",
    "\n",
    "1. Cuales son los 5 tubos más pesados? cuales son sus pesos?\n",
    "2. Cuantos *tube_assembly_id* tienen más de cinco componentes? R: 120\n",
    "3. Cuantos *component_id* son usados en más de 50 *tube_assemblies*? R:69\n",
    "4. Cual es el peso promedio de los 5 componenentes más pesados? R: 95.4894\n",
    "\n",
    "### Referencias\n",
    "- https://github.com/timmyshen/Cat_Tube\n",
    "- https://www.kaggle.com/code/crawford/python-groupby-and-merge-exercises/notebook\n"
   ]
  },
  {
   "cell_type": "markdown",
   "metadata": {},
   "source": [
    "## Ejercicio\n",
    "---\n",
    "En este ejercicio, nos adentraremos en el análisis de datos relacionados con la fabricación de grandes máquinas, centrando nuestra atención en los tubos que las componen. El **objetivo** de este análisis es responder preguntas específicas sobre los pesos de estos tubos y sus componentes. Para ello, trabajaremos con dos dataframes clave: `component_counts`, que registra la cantidad de componentes por ensamblaje de tubos, y `component_weights`, que contiene los pesos individuales de los componentes.\n",
    "\n",
    "Nuestro enfoque se centrará en combinar y agrupar estos datos para obtener insights valiosos, como identificar los tubos más pesados y analizar la distribución de componentes en los ensamblajes.\n",
    "\n",
    "El primer paso será importar el ambiente y las dos distintas bases de datos. "
   ]
  },
  {
   "cell_type": "code",
   "execution_count": 36,
   "metadata": {},
   "outputs": [],
   "source": [
    "# Set del ambiente e importación del dataframe\n",
    "\n",
    "## Importar paquetes\n",
    "import pandas as pd\n",
    "\n",
    "## Cargar base de datos\n",
    "### Número de componentes\n",
    "component_counts = pd.read_csv(\"../exercises/data/component_count.csv\")\n",
    "\n",
    "### Peso componentes\n",
    "component_weights = pd.read_csv(\"../exercises/data/component_weights.csv\")"
   ]
  },
  {
   "cell_type": "markdown",
   "metadata": {},
   "source": [
    "### Inspección de los datos\n",
    "Antes de realizar el análisis, es necesario realizar una inspección inicial de los datos. Esto nos permitirá entender mejor la estructura de los dataframes, identificar cualquier valor nulo o anómalo, y verificar la consistencia entre las columnas clave. Durante esta inspección,analizaremos las dimensiones.\n"
   ]
  },
  {
   "cell_type": "code",
   "execution_count": 37,
   "metadata": {},
   "outputs": [
    {
     "name": "stdout",
     "output_type": "stream",
     "text": [
      "<class 'pandas.core.frame.DataFrame'>\n",
      "RangeIndex: 39459 entries, 0 to 39458\n",
      "Data columns (total 3 columns):\n",
      " #   Column            Non-Null Count  Dtype  \n",
      "---  ------            --------------  -----  \n",
      " 0   tube_assembly_id  39459 non-null  object \n",
      " 1   component_id      39459 non-null  object \n",
      " 2   component_count   39459 non-null  float64\n",
      "dtypes: float64(1), object(2)\n",
      "memory usage: 924.9+ KB\n",
      "\n"
     ]
    },
    {
     "data": {
      "text/html": [
       "<div>\n",
       "<style scoped>\n",
       "    .dataframe tbody tr th:only-of-type {\n",
       "        vertical-align: middle;\n",
       "    }\n",
       "\n",
       "    .dataframe tbody tr th {\n",
       "        vertical-align: top;\n",
       "    }\n",
       "\n",
       "    .dataframe thead th {\n",
       "        text-align: right;\n",
       "    }\n",
       "</style>\n",
       "<table border=\"1\" class=\"dataframe\">\n",
       "  <thead>\n",
       "    <tr style=\"text-align: right;\">\n",
       "      <th></th>\n",
       "      <th>tube_assembly_id</th>\n",
       "      <th>component_id</th>\n",
       "      <th>component_count</th>\n",
       "    </tr>\n",
       "  </thead>\n",
       "  <tbody>\n",
       "    <tr>\n",
       "      <th>19905</th>\n",
       "      <td>TA-01097</td>\n",
       "      <td>C-0449</td>\n",
       "      <td>2.0</td>\n",
       "    </tr>\n",
       "    <tr>\n",
       "      <th>28156</th>\n",
       "      <td>TA-12550</td>\n",
       "      <td>C-1628</td>\n",
       "      <td>1.0</td>\n",
       "    </tr>\n",
       "    <tr>\n",
       "      <th>27013</th>\n",
       "      <td>TA-10992</td>\n",
       "      <td>C-1846</td>\n",
       "      <td>2.0</td>\n",
       "    </tr>\n",
       "    <tr>\n",
       "      <th>30121</th>\n",
       "      <td>TA-15287</td>\n",
       "      <td>C-1660</td>\n",
       "      <td>1.0</td>\n",
       "    </tr>\n",
       "    <tr>\n",
       "      <th>15544</th>\n",
       "      <td>TA-17261</td>\n",
       "      <td>C-1845</td>\n",
       "      <td>1.0</td>\n",
       "    </tr>\n",
       "  </tbody>\n",
       "</table>\n",
       "</div>"
      ],
      "text/plain": [
       "      tube_assembly_id component_id  component_count\n",
       "19905         TA-01097       C-0449              2.0\n",
       "28156         TA-12550       C-1628              1.0\n",
       "27013         TA-10992       C-1846              2.0\n",
       "30121         TA-15287       C-1660              1.0\n",
       "15544         TA-17261       C-1845              1.0"
      ]
     },
     "execution_count": 37,
     "metadata": {},
     "output_type": "execute_result"
    }
   ],
   "source": [
    "# Información general de la tabla de conteo de componentes\n",
    "## Información general \n",
    "component_counts.info()\n",
    "print()\n",
    "\n",
    "## Inspección general \n",
    "component_counts.sample(5)"
   ]
  },
  {
   "cell_type": "code",
   "execution_count": 38,
   "metadata": {},
   "outputs": [
    {
     "name": "stdout",
     "output_type": "stream",
     "text": [
      "<class 'pandas.core.frame.DataFrame'>\n",
      "RangeIndex: 2047 entries, 0 to 2046\n",
      "Data columns (total 2 columns):\n",
      " #   Column        Non-Null Count  Dtype  \n",
      "---  ------        --------------  -----  \n",
      " 0   component_id  2047 non-null   object \n",
      " 1   weight        2047 non-null   float64\n",
      "dtypes: float64(1), object(1)\n",
      "memory usage: 32.1+ KB\n",
      "\n"
     ]
    },
    {
     "data": {
      "text/html": [
       "<div>\n",
       "<style scoped>\n",
       "    .dataframe tbody tr th:only-of-type {\n",
       "        vertical-align: middle;\n",
       "    }\n",
       "\n",
       "    .dataframe tbody tr th {\n",
       "        vertical-align: top;\n",
       "    }\n",
       "\n",
       "    .dataframe thead th {\n",
       "        text-align: right;\n",
       "    }\n",
       "</style>\n",
       "<table border=\"1\" class=\"dataframe\">\n",
       "  <thead>\n",
       "    <tr style=\"text-align: right;\">\n",
       "      <th></th>\n",
       "      <th>component_id</th>\n",
       "      <th>weight</th>\n",
       "    </tr>\n",
       "  </thead>\n",
       "  <tbody>\n",
       "    <tr>\n",
       "      <th>593</th>\n",
       "      <td>C-1013</td>\n",
       "      <td>0.364</td>\n",
       "    </tr>\n",
       "    <tr>\n",
       "      <th>1563</th>\n",
       "      <td>C-0434</td>\n",
       "      <td>0.191</td>\n",
       "    </tr>\n",
       "    <tr>\n",
       "      <th>1694</th>\n",
       "      <td>C-1392</td>\n",
       "      <td>0.077</td>\n",
       "    </tr>\n",
       "    <tr>\n",
       "      <th>1162</th>\n",
       "      <td>C-1003</td>\n",
       "      <td>0.000</td>\n",
       "    </tr>\n",
       "    <tr>\n",
       "      <th>497</th>\n",
       "      <td>C-1502</td>\n",
       "      <td>0.418</td>\n",
       "    </tr>\n",
       "  </tbody>\n",
       "</table>\n",
       "</div>"
      ],
      "text/plain": [
       "     component_id  weight\n",
       "593        C-1013   0.364\n",
       "1563       C-0434   0.191\n",
       "1694       C-1392   0.077\n",
       "1162       C-1003   0.000\n",
       "497        C-1502   0.418"
      ]
     },
     "execution_count": 38,
     "metadata": {},
     "output_type": "execute_result"
    }
   ],
   "source": [
    "# Información general de la tabla de peso de los componentes\n",
    "## Información general \n",
    "component_weights.info()\n",
    "print()\n",
    "\n",
    "## Inspección general \n",
    "component_weights.sample(5)\n"
   ]
  },
  {
   "cell_type": "code",
   "execution_count": 39,
   "metadata": {},
   "outputs": [
    {
     "name": "stdout",
     "output_type": "stream",
     "text": [
      "Valores ausentes tabla número de componentes:  0\n",
      "Valores ausentes tabla peso de componentes:  0\n"
     ]
    }
   ],
   "source": [
    "## Inspección valores nulos (Confirmación)\n",
    "### Para número de componentes\n",
    "print(\"Valores ausentes tabla número de componentes: \", component_counts.isna().sum().sum())\n",
    "\n",
    "### Para peso componentes\n",
    "print(\"Valores ausentes tabla peso de componentes: \", component_weights.isna().sum().sum())"
   ]
  },
  {
   "cell_type": "code",
   "execution_count": 40,
   "metadata": {},
   "outputs": [
    {
     "name": "stdout",
     "output_type": "stream",
     "text": [
      "component_id\n",
      "C-1621    2114\n",
      "C-1628    2103\n",
      "C-1629    1965\n",
      "C-1622    1933\n",
      "C-1624    1585\n",
      "          ... \n",
      "C-1049       1\n",
      "C-0981       1\n",
      "C-0967       1\n",
      "C-0934       1\n",
      "C-0663       1\n",
      "Name: count, Length: 2048, dtype: int64\n",
      "Valores únivocos en tabla de número de componentes:  2048\n",
      "Valores duplicados en tabla de número de componentes:  37411\n",
      "\n",
      "component_id\n",
      "C-2033    1\n",
      "C-0005    1\n",
      "C-0006    1\n",
      "C-1435    1\n",
      "C-1546    1\n",
      "         ..\n",
      "C-1229    1\n",
      "C-1198    1\n",
      "C-1197    1\n",
      "C-1196    1\n",
      "C-1195    1\n",
      "Name: count, Length: 2047, dtype: int64\n",
      "Valores únivocos en tabla de peso de componentes:  2047\n",
      "Valores duplicados en tabla de peso de componentes:  0\n"
     ]
    }
   ],
   "source": [
    "## Inspección valores duplicados\n",
    "\n",
    "### Para número de componentes\n",
    "print(component_counts[\"component_id\"].value_counts())\n",
    "print(\"Valores únivocos en tabla de número de componentes: \", component_counts[\"component_id\"].nunique())\n",
    "print(\"Valores duplicados en tabla de número de componentes: \", component_counts[\"component_id\"].duplicated().sum())\n",
    "print()\n",
    "\n",
    "### Para peso de componentes \n",
    "print(component_weights[\"component_id\"].value_counts())\n",
    "print(\"Valores únivocos en tabla de peso de componentes: \", component_weights[\"component_id\"].nunique())\n",
    "print(\"Valores duplicados en tabla de peso de componentes: \", component_weights[\"component_id\"].duplicated().sum())\n"
   ]
  },
  {
   "cell_type": "markdown",
   "metadata": {},
   "source": [
    "La inspección de la tabla `component_counts` muestra que cuenta con 39459 observaciones sin valores nulos. Dentro de estas observaciones, se identificaron 2048 `component_id` distintos. Aunque no existen duplicados explícitos en términos de filas idénticas, algunos `component_id` se repiten con frecuencia. Un ejemplo es el `component_id` \"C-1621\", que aparece 2,114 veces.\n",
    "\n",
    "Por otro lado, la tabla `component_weights` consta de 2047 observaciones, sin valores nulos y sin duplicados.\n",
    "\n",
    "Estas tablas están relacionadas mediante la columna `component_id`. Aunque hay una gran cantidad de `component_id`, podemos inferir que no hay variaciones de peso para un mismo componente, lo cual simplificará el análisis posterior."
   ]
  },
  {
   "cell_type": "markdown",
   "metadata": {},
   "source": [
    "### Manipulación de los datos\n",
    "En esta etapa, nos centramos en la manipulación de los datos mediante la unión de las dos tablas: `component_counts` y `component_weights`,  ambas relacionadas por la columna component_id. Como resultado de esta unión tendrémos una nueva tabla `component_df`, facilitando el análisis posterior sobre los pesos de los tubos y sus componentes."
   ]
  },
  {
   "cell_type": "code",
   "execution_count": 51,
   "metadata": {},
   "outputs": [
    {
     "name": "stdout",
     "output_type": "stream",
     "text": [
      "  component_id  weight tube_assembly_id  component_count\n",
      "0       C-0005   0.206         TA-01388              1.0\n",
      "1       C-0006   0.083         TA-01219              1.0\n",
      "2       C-1435   0.023         TA-00695              2.0\n",
      "3       C-1435   0.023         TA-00696              2.0\n",
      "4       C-1435   0.023         TA-00832              2.0\n",
      "(39457, 4)\n",
      "(39459, 4)\n",
      "  tube_assembly_id component_id  component_count  weight\n",
      "0         TA-21143         9999              1.0     NaN\n",
      "1         TA-21144         9999              1.0     NaN\n",
      "2         TA-00416       C-0001              2.0   0.013\n",
      "3         TA-00417       C-0001              2.0   0.013\n",
      "4         TA-00602       C-0001              2.0   0.013\n"
     ]
    }
   ],
   "source": [
    "## Unión de las bases de datos\n",
    "### Creación de la base de datos nueva\n",
    "component_df = pd.merge(left=component_weights, right= component_counts, how = \"inner\", on=\"component_id\")\n",
    "\n",
    "print(component_df.head())\n",
    "\n",
    "print(component_df.shape)\n",
    "\n",
    "component_df2 = pd.merge(left=component_counts, right= component_weights, how = \"outer\", on=\"component_id\")\n",
    "print(component_df2.shape)\n",
    "print(component_df2.head())\n"
   ]
  },
  {
   "cell_type": "code",
   "execution_count": null,
   "metadata": {},
   "outputs": [],
   "source": []
  }
 ],
 "metadata": {
  "kernelspec": {
   "display_name": "Python 3",
   "language": "python",
   "name": "python3"
  },
  "language_info": {
   "codemirror_mode": {
    "name": "ipython",
    "version": 3
   },
   "file_extension": ".py",
   "mimetype": "text/x-python",
   "name": "python",
   "nbconvert_exporter": "python",
   "pygments_lexer": "ipython3",
   "version": "3.12.4"
  }
 },
 "nbformat": 4,
 "nbformat_minor": 2
}

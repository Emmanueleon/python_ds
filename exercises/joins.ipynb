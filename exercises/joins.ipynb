{
 "cells": [
  {
   "cell_type": "markdown",
   "metadata": {},
   "source": [
    "## Ejercicio unión de bases de datos\n",
    "\n",
    "## Contexto:\n",
    "---\n",
    "\n",
    "Los fabricantes de grandes máquinas analizan rutinariamente los materiales que utilizan. Este conjunto de datos contiene información sobre varios tubos utilizados en máquinas. Puedes imaginar que las grandes máquinas requieren diferentes tipos de tubos; los coches tienen tubos, los aviones tienen tubos y las excavadoras también tienen tubos. Hablemos un poco sobre cómo se ve un tubo en este conjunto de datos.\n",
    "\n",
    "La parte más pequeña de un ensamblaje de tubos es un componente. Los componentes pueden ser cosas como abrazaderas, juntas o algún otro tipo de accesorios. En general, los ensamblajes de tubos consisten en uno o más componentes y también pueden ser diferentes combinaciones de componentes. En este ejercicio, analizarás los datos y responderás algunas preguntas sobre los pesos. Sin embargo, antes de poder analizar los datos, debes organizarlos en un formato manejable. Necesitarás usar lo que has aprendido sobre la combinación y agrupación de datos.\n",
    "\n",
    "Tienes estos dos dataframes para responder las preguntas. Echa un vistazo y familiarízate con ellos:\n",
    "\n",
    "- **component_counts**: contiene la cantidad de componentes en cada ensamblaje de tubos.\n",
    "- **component_weights**: contiene los pesos de los componentes individuales.\n",
    "\n",
    "### Preguntas a contestar \n",
    "\n",
    "1. Cuales son los 5 tubos más pesados? cuales son sus pesos?\n",
    "2. Cuantos *tube_assembly_id* tienen más de cinco componentes? R: 120\n",
    "3. Cuantos *component_id* son usados en más de 50 *tube_assemblies*? R:69\n",
    "4. Cual es el peso promedio de los 5 componenentes más pesados? R: 95.4894\n",
    "\n",
    "### Referencias\n",
    "- https://github.com/timmyshen/Cat_Tube\n",
    "- https://www.kaggle.com/code/crawford/python-groupby-and-merge-exercises/notebook\n"
   ]
  },
  {
   "cell_type": "markdown",
   "metadata": {},
   "source": [
    "## Ejercicio\n",
    "---\n",
    "En este ejercicio, nos adentraremos en el análisis de datos relacionados con la fabricación de grandes máquinas, centrando nuestra atención en los tubos que las componen. El **objetivo** de este análisis es responder preguntas específicas sobre los pesos de estos tubos y sus componentes. Para ello, trabajaremos con dos dataframes clave: `component_counts`, que registra la cantidad de componentes por ensamblaje de tubos, y `component_weights`, que contiene los pesos individuales de los componentes.\n",
    "\n",
    "Nuestro enfoque se centrará en combinar y agrupar estos datos para obtener insights valiosos, como identificar los tubos más pesados y analizar la distribución de componentes en los ensamblajes.\n",
    "\n",
    "El primer paso será importar el ambiente y las dos distintas bases de datos. "
   ]
  },
  {
   "cell_type": "code",
   "execution_count": 31,
   "metadata": {},
   "outputs": [],
   "source": [
    "# Set del ambiente e importación del dataframe\n",
    "\n",
    "## Importar paquetes\n",
    "import pandas as pd\n",
    "\n",
    "## Cargar base de datos\n",
    "### Número de componentes\n",
    "component_counts = pd.read_csv(\"../exercises/data/component_count.csv\")\n",
    "\n",
    "### Peso componentes\n",
    "component_weights = pd.read_csv(\"../exercises/data/component_weights.csv\")"
   ]
  },
  {
   "cell_type": "markdown",
   "metadata": {},
   "source": [
    "### Inspección de los datos\n",
    "Antes de realizar el análisis, es necesario realizar una inspección inicial de los datos. Esto nos permitirá entender mejor la estructura de los dataframes, identificar cualquier valor nulo o anómalo, y verificar la consistencia entre las columnas clave. Durante esta inspección,analizaremos las dimensiones.\n"
   ]
  },
  {
   "cell_type": "code",
   "execution_count": 32,
   "metadata": {},
   "outputs": [
    {
     "name": "stdout",
     "output_type": "stream",
     "text": [
      "<class 'pandas.core.frame.DataFrame'>\n",
      "RangeIndex: 39459 entries, 0 to 39458\n",
      "Data columns (total 3 columns):\n",
      " #   Column            Non-Null Count  Dtype  \n",
      "---  ------            --------------  -----  \n",
      " 0   tube_assembly_id  39459 non-null  object \n",
      " 1   component_id      39459 non-null  object \n",
      " 2   component_count   39459 non-null  float64\n",
      "dtypes: float64(1), object(2)\n",
      "memory usage: 924.9+ KB\n",
      "\n"
     ]
    },
    {
     "data": {
      "text/html": [
       "<div>\n",
       "<style scoped>\n",
       "    .dataframe tbody tr th:only-of-type {\n",
       "        vertical-align: middle;\n",
       "    }\n",
       "\n",
       "    .dataframe tbody tr th {\n",
       "        vertical-align: top;\n",
       "    }\n",
       "\n",
       "    .dataframe thead th {\n",
       "        text-align: right;\n",
       "    }\n",
       "</style>\n",
       "<table border=\"1\" class=\"dataframe\">\n",
       "  <thead>\n",
       "    <tr style=\"text-align: right;\">\n",
       "      <th></th>\n",
       "      <th>tube_assembly_id</th>\n",
       "      <th>component_id</th>\n",
       "      <th>component_count</th>\n",
       "    </tr>\n",
       "  </thead>\n",
       "  <tbody>\n",
       "    <tr>\n",
       "      <th>5178</th>\n",
       "      <td>TA-05666</td>\n",
       "      <td>C-1625</td>\n",
       "      <td>2.0</td>\n",
       "    </tr>\n",
       "    <tr>\n",
       "      <th>909</th>\n",
       "      <td>TA-00994</td>\n",
       "      <td>C-1622</td>\n",
       "      <td>2.0</td>\n",
       "    </tr>\n",
       "    <tr>\n",
       "      <th>15776</th>\n",
       "      <td>TA-17521</td>\n",
       "      <td>C-1312</td>\n",
       "      <td>2.0</td>\n",
       "    </tr>\n",
       "    <tr>\n",
       "      <th>36780</th>\n",
       "      <td>TA-12604</td>\n",
       "      <td>C-1638</td>\n",
       "      <td>1.0</td>\n",
       "    </tr>\n",
       "    <tr>\n",
       "      <th>33152</th>\n",
       "      <td>TA-19959</td>\n",
       "      <td>C-1628</td>\n",
       "      <td>2.0</td>\n",
       "    </tr>\n",
       "  </tbody>\n",
       "</table>\n",
       "</div>"
      ],
      "text/plain": [
       "      tube_assembly_id component_id  component_count\n",
       "5178          TA-05666       C-1625              2.0\n",
       "909           TA-00994       C-1622              2.0\n",
       "15776         TA-17521       C-1312              2.0\n",
       "36780         TA-12604       C-1638              1.0\n",
       "33152         TA-19959       C-1628              2.0"
      ]
     },
     "execution_count": 32,
     "metadata": {},
     "output_type": "execute_result"
    }
   ],
   "source": [
    "# Información general de la tabla de conteo de componentes\n",
    "## Información general \n",
    "component_counts.info()\n",
    "print()\n",
    "\n",
    "## Inspección general \n",
    "component_counts.sample(5)"
   ]
  },
  {
   "cell_type": "code",
   "execution_count": 33,
   "metadata": {},
   "outputs": [
    {
     "name": "stdout",
     "output_type": "stream",
     "text": [
      "<class 'pandas.core.frame.DataFrame'>\n",
      "RangeIndex: 2047 entries, 0 to 2046\n",
      "Data columns (total 2 columns):\n",
      " #   Column        Non-Null Count  Dtype  \n",
      "---  ------        --------------  -----  \n",
      " 0   component_id  2047 non-null   object \n",
      " 1   weight        2047 non-null   float64\n",
      "dtypes: float64(1), object(1)\n",
      "memory usage: 32.1+ KB\n",
      "\n"
     ]
    },
    {
     "data": {
      "text/html": [
       "<div>\n",
       "<style scoped>\n",
       "    .dataframe tbody tr th:only-of-type {\n",
       "        vertical-align: middle;\n",
       "    }\n",
       "\n",
       "    .dataframe tbody tr th {\n",
       "        vertical-align: top;\n",
       "    }\n",
       "\n",
       "    .dataframe thead th {\n",
       "        text-align: right;\n",
       "    }\n",
       "</style>\n",
       "<table border=\"1\" class=\"dataframe\">\n",
       "  <thead>\n",
       "    <tr style=\"text-align: right;\">\n",
       "      <th></th>\n",
       "      <th>component_id</th>\n",
       "      <th>weight</th>\n",
       "    </tr>\n",
       "  </thead>\n",
       "  <tbody>\n",
       "    <tr>\n",
       "      <th>1529</th>\n",
       "      <td>C-0220</td>\n",
       "      <td>0.970</td>\n",
       "    </tr>\n",
       "    <tr>\n",
       "      <th>537</th>\n",
       "      <td>C-1248</td>\n",
       "      <td>0.018</td>\n",
       "    </tr>\n",
       "    <tr>\n",
       "      <th>1581</th>\n",
       "      <td>C-0480</td>\n",
       "      <td>0.000</td>\n",
       "    </tr>\n",
       "    <tr>\n",
       "      <th>204</th>\n",
       "      <td>C-0238</td>\n",
       "      <td>1.121</td>\n",
       "    </tr>\n",
       "    <tr>\n",
       "      <th>1813</th>\n",
       "      <td>C-1884</td>\n",
       "      <td>0.716</td>\n",
       "    </tr>\n",
       "  </tbody>\n",
       "</table>\n",
       "</div>"
      ],
      "text/plain": [
       "     component_id  weight\n",
       "1529       C-0220   0.970\n",
       "537        C-1248   0.018\n",
       "1581       C-0480   0.000\n",
       "204        C-0238   1.121\n",
       "1813       C-1884   0.716"
      ]
     },
     "execution_count": 33,
     "metadata": {},
     "output_type": "execute_result"
    }
   ],
   "source": [
    "# Información general de la tabla de peso de los componentes\n",
    "## Información general \n",
    "component_weights.info()\n",
    "print()\n",
    "\n",
    "## Inspección general \n",
    "component_weights.sample(5)\n"
   ]
  },
  {
   "cell_type": "code",
   "execution_count": 34,
   "metadata": {},
   "outputs": [
    {
     "name": "stdout",
     "output_type": "stream",
     "text": [
      "Valores ausentes tabla número de componentes:  0\n",
      "Valores ausentes tabla peso de componentes:  0\n"
     ]
    }
   ],
   "source": [
    "## Inspección valores nulos (Confirmación)\n",
    "### Para número de componentes\n",
    "print(\"Valores ausentes tabla número de componentes: \", component_counts.isna().sum().sum())\n",
    "\n",
    "### Para peso componentes\n",
    "print(\"Valores ausentes tabla peso de componentes: \", component_weights.isna().sum().sum())"
   ]
  },
  {
   "cell_type": "code",
   "execution_count": 35,
   "metadata": {},
   "outputs": [
    {
     "name": "stdout",
     "output_type": "stream",
     "text": [
      "component_id\n",
      "C-1621    2114\n",
      "C-1628    2103\n",
      "C-1629    1965\n",
      "C-1622    1933\n",
      "C-1624    1585\n",
      "          ... \n",
      "C-1049       1\n",
      "C-0981       1\n",
      "C-0967       1\n",
      "C-0934       1\n",
      "C-0663       1\n",
      "Name: count, Length: 2048, dtype: int64\n",
      "Valores únivocos en tabla de número de componentes:  2048\n",
      "Valores duplicados en tabla de número de componentes:  37411\n",
      "\n",
      "component_id\n",
      "C-2033    1\n",
      "C-0005    1\n",
      "C-0006    1\n",
      "C-1435    1\n",
      "C-1546    1\n",
      "         ..\n",
      "C-1229    1\n",
      "C-1198    1\n",
      "C-1197    1\n",
      "C-1196    1\n",
      "C-1195    1\n",
      "Name: count, Length: 2047, dtype: int64\n",
      "Valores únivocos en tabla de peso de componentes:  2047\n",
      "Valores duplicados en tabla de peso de componentes:  0\n"
     ]
    }
   ],
   "source": [
    "## Inspección valores duplicados\n",
    "\n",
    "### Para número de componentes\n",
    "print(component_counts[\"component_id\"].value_counts())\n",
    "print(\"Valores únivocos en tabla de número de componentes: \", component_counts[\"component_id\"].nunique())\n",
    "print(\"Valores duplicados en tabla de número de componentes: \", component_counts[\"component_id\"].duplicated().sum())\n",
    "print()\n",
    "\n",
    "### Para peso de componentes \n",
    "print(component_weights[\"component_id\"].value_counts())\n",
    "print(\"Valores únivocos en tabla de peso de componentes: \", component_weights[\"component_id\"].nunique())\n",
    "print(\"Valores duplicados en tabla de peso de componentes: \", component_weights[\"component_id\"].duplicated().sum())\n"
   ]
  },
  {
   "cell_type": "markdown",
   "metadata": {},
   "source": [
    "La inspección de la tabla `component_counts` muestra que cuenta con 39459 observaciones sin valores nulos. Dentro de estas observaciones, se identificaron 2048 `component_id` distintos. Aunque no existen duplicados explícitos en términos de filas idénticas, algunos `component_id` se repiten con frecuencia. Un ejemplo es el `component_id` \"C-1621\", que aparece 2114 veces.\n",
    "\n",
    "Por otro lado, la tabla `component_weights` consta de 2047 observaciones, sin valores nulos y sin duplicados.\n",
    "\n",
    "Estas tablas están relacionadas mediante la columna `component_id`. Aunque hay una gran cantidad de `component_id`, podemos inferir que no hay variaciones de peso para un mismo componente, lo cual simplificará el análisis posterior."
   ]
  },
  {
   "cell_type": "markdown",
   "metadata": {},
   "source": [
    "### Manipulación de los datos\n",
    "En esta etapa, nos centramos en la manipulación de los datos mediante la unión de las dos tablas: `component_counts` y `component_weights`,  ambas relacionadas por la columna component_id. Como resultado de esta unión tendrémos una nueva tabla `component_df`, facilitando el análisis posterior sobre los pesos de los tubos y sus componentes."
   ]
  },
  {
   "cell_type": "code",
   "execution_count": 36,
   "metadata": {},
   "outputs": [],
   "source": [
    "## Unión de las bases de datos\n",
    "### Creación de la base de datos nueva\n",
    "component_df = pd.merge(left=component_counts, right= component_weights, how = \"left\", on=\"component_id\")"
   ]
  },
  {
   "cell_type": "markdown",
   "metadata": {},
   "source": [
    "Después de realizar la unión, es útil inspeccionar las primeras filas del dataframe resultante para confirmar que la operación se haya realizado correctamente."
   ]
  },
  {
   "cell_type": "code",
   "execution_count": 37,
   "metadata": {},
   "outputs": [
    {
     "name": "stdout",
     "output_type": "stream",
     "text": [
      "  tube_assembly_id component_id  component_count  weight\n",
      "0         TA-00001       C-1622              2.0   0.036\n",
      "1         TA-00002       C-1312              2.0   0.009\n",
      "2         TA-00003       C-1312              2.0   0.009\n",
      "3         TA-00004       C-1312              2.0   0.009\n",
      "4         TA-00005       C-1624              1.0   0.035\n",
      "\n",
      "(39459, 4)\n"
     ]
    }
   ],
   "source": [
    "## Inspección del df compuesto\n",
    "### Primeras filas\n",
    "print(component_df.head())\n",
    "print()\n",
    "\n",
    "## Dimensión\n",
    "print(component_df.shape)"
   ]
  },
  {
   "cell_type": "markdown",
   "metadata": {},
   "source": [
    "Como podemos observar, tenemos una tabla similar a la tabla del número de componentes pero con la adición del peso de cada componente. A partir de esto se puede proseguir con la exploración de datos para tratar de responder las preguntas. Es importante tener en cuenta que esta nueva base tiene valores duplicados, esto ocurre porque en la tabla `component_counts`, un mismo `component_id` puede aparecer varias veces debido a que un componente puede estar presente en múltiples ensamblajes de tubos.\n",
    "\n",
    "Estos \"duplicados\" son en realidad filas necesarias para el análisis, ya que representan la presencia del mismo componente en diferentes ensamblajes de tubos, dependerá del análisis que necesitemos para ver la manera en que trabajaremos con ellos. "
   ]
  },
  {
   "cell_type": "markdown",
   "metadata": {},
   "source": [
    "### Exploración de datos\n",
    "Con los datos ya combinados, pasamos a la fase de análisis de datos. En esta etapa, nos enfocaremos en responder las preguntas planteadas al inicio. Utilizaremos técnicas de agrupación, filtrado y ordenamiento para extraer insights valiosos sobre los tubos y sus componentes."
   ]
  },
  {
   "cell_type": "code",
   "execution_count": 38,
   "metadata": {},
   "outputs": [
    {
     "name": "stdout",
     "output_type": "stream",
     "text": [
      "      tube_assembly_id component_id  component_count  weight\n",
      "38201         TA-18226       C-1290              1.0   13.77\n",
      "29561         TA-14536       C-1050              1.0   12.90\n",
      "26561         TA-10360       C-0794              1.0   12.03\n",
      "31038         TA-16670       C-0404              1.0   10.56\n",
      "24580         TA-07626       C-0646              1.0   10.19\n"
     ]
    }
   ],
   "source": [
    "# 1. Conocer los 5 tubos más pesados y con sus respectivos pesos\n",
    "## Ordenar la tabla de mayor a menor\n",
    "component_df_sorted = component_df.sort_values(by = \"weight\", ascending = False)\n",
    "\n",
    "## Eliminar los duplicados\n",
    "heavy_id = component_df_sorted.drop_duplicates(subset=\"component_id\")\n",
    "\n",
    "print(heavy_id.head(5))"
   ]
  },
  {
   "cell_type": "markdown",
   "metadata": {},
   "source": [
    "**Nota**\n",
    "La primera opción que intentamos fue eliminar los duplicados y ordenar los valores. Sin embargo, posteriormente nos piden el valor promedio de los 5 componenentes más pesados, por lo que no se puede usar la misma base de datos ya filtrando los valores únicos. Por ello primero decidimos ordenar las filas de mayor a menor y eliminar los duplicados para el primer ejercicio, eso no compromete responder la pregunta posterior. "
   ]
  },
  {
   "cell_type": "code",
   "execution_count": 39,
   "metadata": {},
   "outputs": [
    {
     "name": "stdout",
     "output_type": "stream",
     "text": [
      "120\n"
     ]
    }
   ],
   "source": [
    "# 2. Cuantos *tube_assembly_id* tienen más de cinco componentes? R: 120\n",
    "## Agrupar el número de componentes por id de ensamblaje\n",
    "component_num_by_assembly = component_df.groupby(by= \"tube_assembly_id\")[\"component_count\"].sum()\n",
    "\n",
    "## Filtrar los ensamblajes que tengan mas de 5 componentes \n",
    "popular_assembly = component_num_by_assembly[component_num_by_assembly > 5]\n",
    "\n",
    "## Contar e impirmir el número de ensamblajes\n",
    "print(popular_assembly.count()) \n"
   ]
  },
  {
   "cell_type": "code",
   "execution_count": 40,
   "metadata": {},
   "outputs": [
    {
     "name": "stdout",
     "output_type": "stream",
     "text": [
      "69\n"
     ]
    }
   ],
   "source": [
    "# 3. Cuantos *component_id* son usados en más de 50 *tube_assemblies*? R:69\n",
    "## Agrupar los ensamblajes por id de componente y contabilizarlos\n",
    "assembly_by_component = component_df_sorted.groupby(by=\"component_id\")[\"tube_assembly_id\"].count()\n",
    "\n",
    "## Filtrar los componentes con mas de 50 ensamblajes\n",
    "popular_component = assembly_by_component[assembly_by_component > 50].sort_values(ascending = False)\n",
    "\n",
    "## Determinar longiitud de la lista\n",
    "print(len(popular_component))"
   ]
  },
  {
   "cell_type": "code",
   "execution_count": 41,
   "metadata": {},
   "outputs": [
    {
     "name": "stdout",
     "output_type": "stream",
     "text": [
      "11.457142857142857\n"
     ]
    }
   ],
   "source": [
    "# 4. Cual es el peso promedio de los 5 componenentes más pesados? R: 95.4894\n",
    "# Obtener los primeros 5 valores de heavy_id\n",
    "top_heavy_id = heavy_id.iloc[:5]\n",
    "\n",
    "## Extaer los componentes más pesados\n",
    "heavy_component_lst = top_heavy_id[\"component_id\"].tolist()\n",
    "\n",
    "## Seleccionar los componentes más pesados del df\n",
    "heavy_component_df = component_df_sorted[component_df_sorted[\"component_id\"].isin(heavy_component_lst)]\n",
    "\n",
    "## Determinar promedio de los componentes más pesados\n",
    "print(heavy_component_df[\"weight\"].mean())\n",
    "\n"
   ]
  },
  {
   "cell_type": "markdown",
   "metadata": {},
   "source": [
    "En este análisis, identificamos los cinco tubos más pesados: C-1290, C-1050, C-0794, C-0404 y C-0646. Además, determinamos que 120 ensamblajes contienen más de cinco componentes y que 69 componentes son utilizados en más de 50 ensamblajes. Finalmente, calculamos el peso promedio de los componentes más pesados, obteniendo un valor de 11.58. Este resultado difiere del valor esperado de 95.48, lo que sugiere un posible malentendido en la interpretación de la pregunta.\n",
    "\n",
    "Desde mi perspectiva, el peso promedio de los componentes más pesados no debería superar los valores observados en la primera pregunta, que oscilan entre 10.19 y 13.77. Por lo tanto, sería recomendable revisar esta cuestión con el profesor.\n",
    "\n",
    "Este análisis nos ha permitido comprender mejor la distribución y características de los tubos, lo que a su vez facilitará la optimización en su selección y uso en diversas aplicaciones industriales."
   ]
  }
 ],
 "metadata": {
  "kernelspec": {
   "display_name": "Python 3",
   "language": "python",
   "name": "python3"
  },
  "language_info": {
   "codemirror_mode": {
    "name": "ipython",
    "version": 3
   },
   "file_extension": ".py",
   "mimetype": "text/x-python",
   "name": "python",
   "nbconvert_exporter": "python",
   "pygments_lexer": "ipython3",
   "version": "3.12.4"
  }
 },
 "nbformat": 4,
 "nbformat_minor": 2
}

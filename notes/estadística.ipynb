{
 "cells": [
  {
   "cell_type": "markdown",
   "metadata": {},
   "source": [
    "## Estadística\n",
    " "
   ]
  },
  {
   "cell_type": "code",
   "execution_count": 155,
   "metadata": {},
   "outputs": [],
   "source": [
    "## Importar paqueterías\n",
    "import numpy as np\n",
    "import pandas as pd"
   ]
  },
  {
   "cell_type": "markdown",
   "metadata": {},
   "source": [
    "## Medidas de posición\n",
    "Son estadísticas descriptivas que nos indican dónde se encuentran ubicados los datos dentro de una distribución. Nos ayudan a entender el centro o la tendencia central de un conjunto de datos.\n",
    "\n",
    "- **Media o Promedio**: Suma de todos los valores dividida entre el número total de valores.\n",
    "- **Mediana**: Valor que divide al conjunto de datos en dos partes iguales.\n",
    "- **ModaL**: Valor que más se repite en el conjunto de datos.\n",
    "- **Cuartiles**: Dividen al conjunto de datos en cuatro partes iguales.\n",
    "- **Percentiles**: Dividen al conjunto de datos en 100 partes iguales.\n"
   ]
  },
  {
   "cell_type": "code",
   "execution_count": 156,
   "metadata": {},
   "outputs": [
    {
     "name": "stdout",
     "output_type": "stream",
     "text": [
      "Media: 5.1\n",
      "Mediana: 5.0\n",
      "Moda: 0    5\n",
      "Name: Valor, dtype: int64\n",
      "Cuartiles:\n",
      " 0.25    3.25\n",
      "0.50    5.00\n",
      "0.75    6.75\n",
      "Name: Valor, dtype: float64\n"
     ]
    }
   ],
   "source": [
    "# Crear un DataFrame de ejemplo\n",
    "data = {'Valor': [1, 2, 3, 4, 5, 5, 6, 7, 8, 10]}\n",
    "df = pd.DataFrame(data)\n",
    "\n",
    "# Calcular medidas de posición\n",
    "media = df['Valor'].mean()\n",
    "mediana = df['Valor'].median()\n",
    "moda = df['Valor'].mode()\n",
    "cuartiles = df['Valor'].quantile([0.25, 0.5, 0.75])\n",
    "\n",
    "# Imprimir resultados\n",
    "print('Media:', media)\n",
    "print('Mediana:', mediana)\n",
    "print('Moda:', moda)\n",
    "print('Cuartiles:\\n', cuartiles)"
   ]
  },
  {
   "cell_type": "markdown",
   "metadata": {},
   "source": [
    "## Medidas de variabilidad\n",
    "Las medidas de variabilidad nos permiten cuantificar el grado de dispersión o heterogeneidad de un conjunto de datos. Es decir, nos indican qué tan diferentes son los valores entre sí.\n",
    "\n",
    "- **Rango**: Diferencia entre el valor máximo y el valor mínimo de un conjunto de datos.\n",
    "- **Varianza**: Promedio de las desviaciones cuadráticas de cada dato respecto a la media.\n",
    "- **Desviación** estándar: Raíz cuadrada de la varianza.\n",
    "- **Coeficiente** de variación: Relación entre la desviación estándar y la media, expresada como porcentaje.\n",
    "- **Cuartiles y rango intercuartílico**: El rango intercuartílico (IQR) es la diferencia entre el tercer y el primer cuartil.\n",
    "\n",
    "La **varianza** se puede calcular mediamnte la función `var()`. "
   ]
  },
  {
   "cell_type": "code",
   "execution_count": 157,
   "metadata": {},
   "outputs": [
    {
     "name": "stdout",
     "output_type": "stream",
     "text": [
      "2.9166666666666665\n"
     ]
    }
   ],
   "source": [
    "## Calcular la varianza\n",
    "x = [1, 2, 3, 4, 5, 6] # dataset\n",
    "\n",
    "variance = np.var(x)\n",
    "print(variance)"
   ]
  },
  {
   "cell_type": "markdown",
   "metadata": {},
   "source": [
    "Para calcular la **covarianza** es necesario calcular la matriz de covarianza utilizando el comando `cov()`. "
   ]
  },
  {
   "cell_type": "code",
   "execution_count": 158,
   "metadata": {},
   "outputs": [
    {
     "name": "stdout",
     "output_type": "stream",
     "text": [
      "51.5\n"
     ]
    }
   ],
   "source": [
    "## Calcular la cobvarianza\n",
    "x = [1, 2, 3, 4, 5, 6] # dataset 1\n",
    "y = [41, 62, 89, 96, 108, 115] # dataset 2\n",
    "\n",
    "## Calculamos la matriz de covarianza\n",
    "covariance_matrix = np.cov(x,y)\n",
    "\n",
    "## Extraemos la covarianza como valor\n",
    "covariance = covariance_matrix[0][1] \n",
    "print(covariance)"
   ]
  },
  {
   "cell_type": "markdown",
   "metadata": {},
   "source": [
    "Para calcular la desviación estándar, que es la raíz cuadrada de la varianza, se puede utilizar el método `describe()` o bien con el método `std()` de la paquetería Numpy. "
   ]
  },
  {
   "cell_type": "code",
   "execution_count": 159,
   "metadata": {},
   "outputs": [
    {
     "name": "stdout",
     "output_type": "stream",
     "text": [
      "count    6.00\n",
      "mean     3.50\n",
      "std      1.87\n",
      "min      1.00\n",
      "25%      2.25\n",
      "50%      3.50\n",
      "75%      4.75\n",
      "max      6.00\n",
      "dtype: float64\n",
      "\n",
      "1.71\n"
     ]
    }
   ],
   "source": [
    "# Obtener la varianza \n",
    "## Método describe()\n",
    "s = pd.Series([1, 2, 3, 4, 5, 6])\n",
    "print(s.describe().round(2))\n",
    "print()\n",
    "\n",
    "## Método std()\n",
    "standard_deviation = np.std(x)\n",
    "print(standard_deviation.round(2))"
   ]
  },
  {
   "cell_type": "markdown",
   "metadata": {},
   "source": [
    "## Probabilidad de espacio muestral\n",
    "Se define como **espacio muestral** a el conjunto de todos estos resultados posibles, y se como ***S***. \n",
    "\n",
    "Es necesario tener en cuenta que **todos y cada uno** de los resultados deben incluirse en el espacio muestral. \n",
    "\n",
    "En Python, los cálculos de probabilidad simples basados en espacios muestrales se pueden realizar fácilmente usando el operador lógico `==` y la función `len()`.\n"
   ]
  },
  {
   "cell_type": "code",
   "execution_count": 160,
   "metadata": {},
   "outputs": [
    {
     "name": "stdout",
     "output_type": "stream",
     "text": [
      "       Artist                        Song\n",
      "0       Queen         The Show Must Go On\n",
      "1       Queen  Another One Bites The Dust\n",
      "2       Queen            We Will Rock You\n",
      "3  Pink Floyd          Wish You Were Here\n",
      "4     Nirvana     Smells Like Teen Spirit\n",
      "5       AC/DC             Highway To Hell\n",
      "6       AC/DC               Back in Black\n",
      "7   Scorpions              Wind Of Change\n",
      "8   Scorpions            Still Loving You\n",
      "9   Scorpions            Send Me An Angel\n"
     ]
    }
   ],
   "source": [
    "cool_rock = pd.DataFrame(\n",
    "    {\n",
    "        'Artist': [\n",
    "            'Queen',\n",
    "            'Queen',\n",
    "            'Queen',\n",
    "            'Pink Floyd',\n",
    "            'Nirvana',\n",
    "            'AC/DC',\n",
    "            'AC/DC',\n",
    "            'Scorpions',\n",
    "            'Scorpions',\n",
    "            'Scorpions',\n",
    "        ],\n",
    "        'Song': [\n",
    "            'The Show Must Go On',\n",
    "            'Another One Bites The Dust',\n",
    "            'We Will Rock You',\n",
    "            'Wish You Were Here',\n",
    "            'Smells Like Teen Spirit',\n",
    "            'Highway To Hell',\n",
    "            'Back in Black',\n",
    "            'Wind Of Change',\n",
    "            'Still Loving You',\n",
    "            'Send Me An Angel',\n",
    "        ],\n",
    "    }\n",
    ")\n",
    "print(cool_rock)"
   ]
  },
  {
   "cell_type": "markdown",
   "metadata": {},
   "source": [
    "¿Cuál es la probabilidad de que si pulso aleatorio salga la canción \"Smells Like Teen Spirit\""
   ]
  },
  {
   "cell_type": "code",
   "execution_count": 161,
   "metadata": {},
   "outputs": [
    {
     "name": "stdout",
     "output_type": "stream",
     "text": [
      "Por pasos: 0.1\n",
      "Directo: 0.1\n"
     ]
    }
   ],
   "source": [
    "# Calcular la probabilidad\n",
    "## Identificar los resultados que satisfacen el evento\n",
    "interested_song = cool_rock[cool_rock[\"Song\"]==\"Smells Like Teen Spirit\"]\n",
    "\n",
    "## Determinar el número de resultados que satisfacen el evento\n",
    "len_song_interested = len(interested_song)\n",
    "\n",
    "## Contar el tamaño del espacio muestral.\n",
    "total_song = len(cool_rock)\n",
    "\n",
    "## Obtener la probabilidad\n",
    "print(\"Por pasos:\", len_song_interested/total_song)\n",
    "\n",
    "## Obtener la probabilidad en un solo comando \n",
    "print(\"Directo:\", len(cool_rock[cool_rock[\"Song\"]==\"Smells Like Teen Spirit\"])/len(cool_rock))\n"
   ]
  },
  {
   "cell_type": "markdown",
   "metadata": {},
   "source": [
    "## Factoriales \n",
    "\n",
    "Para calcular el número de permutaciones de *n* elementos se utiliza el factorial `!`. Para calcularlo en Python se puede utilizar la función `factorial()` del módulo `math`."
   ]
  },
  {
   "cell_type": "code",
   "execution_count": 162,
   "metadata": {},
   "outputs": [
    {
     "name": "stdout",
     "output_type": "stream",
     "text": [
      "6\n"
     ]
    }
   ],
   "source": [
    "# Importar la función factorial del módulo matemático\n",
    "from math import factorial\n",
    "\n",
    "# Definir el número necesario de elementos\n",
    "courses_amount = 3\n",
    "\n",
    "# Calculae el factorial de 3 (el valor de la variable courses_amount)\n",
    "result = factorial(courses_amount)\n",
    "\n",
    "print(result)"
   ]
  },
  {
   "cell_type": "markdown",
   "metadata": {},
   "source": [
    "## Combinaciones\n",
    "Otra parte importante de la probabilidad y estadística son las **combinaciones**. Para calcular el número de combinaciones de *k* elementos de *n* opciones posibles:"
   ]
  },
  {
   "cell_type": "code",
   "execution_count": 163,
   "metadata": {},
   "outputs": [
    {
     "name": "stdout",
     "output_type": "stream",
     "text": [
      "120.0\n"
     ]
    }
   ],
   "source": [
    "# Definir los valores para las variables n y k\n",
    "n = 10 # Número de elementos\n",
    "k = 3  # Número de opciones posibilidades\n",
    "\n",
    "# Realizar los cálculos\n",
    "combinations = factorial(n) / (factorial(k) * factorial(n-k))\n",
    "print(combinations)"
   ]
  },
  {
   "cell_type": "markdown",
   "metadata": {},
   "source": [
    "Si observamos, la fórmula de permutación es similar a la fórmula e combinaciones, donde se le agregan los términos relacionados con el número de combinaciones de *k*. "
   ]
  },
  {
   "cell_type": "markdown",
   "metadata": {},
   "source": [
    "### Ejercicio\n",
    "\n",
    "Estás desarrollando con tus amigos un juego de búsqueda que consta de 10 tareas diferentes. Las tareas pueden realizarse en cualquier orden, pero solo una secuencia de todas las existentes permite a los jugadores ganar el superpremio. ¿Cuál es la probabilidad de ganar el superpremio, suponiendo que la probabilidad de elegir cada tarea en cualquier fase de la búsqueda es la misma?"
   ]
  },
  {
   "cell_type": "code",
   "execution_count": 164,
   "metadata": {},
   "outputs": [
    {
     "name": "stdout",
     "output_type": "stream",
     "text": [
      "2.755731922398589e-07\n"
     ]
    }
   ],
   "source": [
    "# Definir los valores para las variables n y k\n",
    "## Solo hay elementos y no hay combinaciones específicas, k=0\n",
    "tasks = 10 # Elementos o n\n",
    "\n",
    "## Calculo de las permutaciones o combinaciones posibles\n",
    "permutations = factorial(tasks)\n",
    "\n",
    "## Probabilidad: solo una secuencia permite ganar el superpremio\n",
    "probability = 1 / permutations\n",
    "\n",
    "print(probability)"
   ]
  },
  {
   "cell_type": "markdown",
   "metadata": {},
   "source": [
    "Existen 10 tareas diferentes, por lo tanto, existen 3,628,800 combinaciones diferentes. La probabilidad de ganar el superpremio con la secuencia de tareas ordenadas de manera correcta es inferior al 0.00003%. \n",
    "\n",
    "Ahora, los jugadores pueden elegir las tres tareas con las que quieren empezar el juego. El orden de las tareas no importa, lo importante es la combinación. Si los jugadores consiguen adivinar la \"combinación secreta\", recibirán un código promocional de descuento. Por lo tanto  "
   ]
  },
  {
   "cell_type": "code",
   "execution_count": 165,
   "metadata": {},
   "outputs": [
    {
     "name": "stdout",
     "output_type": "stream",
     "text": [
      "120.0\n",
      "0.008333333333333333\n"
     ]
    }
   ],
   "source": [
    "# Definir los valores para las variables n y k\n",
    "## Existen 10 tareas y se pueden seleccionar 3 tareas con las que empezar\n",
    "tasks = 10 # Elementos o n\n",
    "chosen = 3 # Opciones a seleccionar o k\n",
    "\n",
    "## Calculo de las permutaciones o combinaciones posibles\n",
    "permutations = factorial(tasks)/(factorial(chosen)*factorial(tasks-chosen))\n",
    "print(permutations)\n",
    "## Probabilidad: solo una secuencia permite ganar el superpremio\n",
    "probability = 1 / permutations\n",
    "\n",
    "print(probability)"
   ]
  },
  {
   "cell_type": "markdown",
   "metadata": {},
   "source": [
    "En esta ocasión, de las 10 tareas existentes y al seleccionar las tres posibles tareas con las cuales empezar, se tienen 120 opciones disponibles. Esto hace que la probabilidad de obtener un código promocional es de casi el 1% "
   ]
  },
  {
   "cell_type": "markdown",
   "metadata": {},
   "source": [
    "## Distribuciones\n",
    "---\n",
    "La mayoría de las variables aleatorias se modelan en una forma que puede ser descrita por parámetros. Esto es lo que normalmente llamamos **distribuciones de datos**.\n",
    "\n",
    "Las distribuciones de datos son una de las piedras angulares de las estadísticas. Las pruebas de hipótesis y la teoría de la probabilidad surgieron del simple concepto de trazar las múltiples ocurrencias de una variable aleatoria, visualizar su forma y realizar algún cálculo con ella. Las distribuciones nos ayudan a entender:\n",
    "\n",
    "- ¿Cuál es el promedio/valor esperado de una variable aleatoria?\n",
    "- ¿Cuál es la varianza/dispersión de una variable aleatoria?\n",
    "- ¿Cuál es el rango de valores?\n",
    "\n",
    "Existen dos tipos de distribuciones **discretas** (toman un cierto número de valores) y **contínuas** (toman un número infinitesimal de valores). \n",
    "\n",
    "En Python, es posible crear datasets con varios tipos de distribución, vamos a utilizar la librería NumPy. El objeto principal es un `ndarray` (array N-dimensional), que es un array multidimensional que contiene elementos del mismo tipo y no puede modificarse durante la ejecución del código.Para crear ndarray utilizamos la función `np.array()`. "
   ]
  },
  {
   "cell_type": "code",
   "execution_count": 166,
   "metadata": {},
   "outputs": [],
   "source": [
    "## Creación de un ndarray\n",
    "data = np.array([1, 3, 5, 7, 11, 13, 17, 19, 23, 317])"
   ]
  },
  {
   "cell_type": "markdown",
   "metadata": {},
   "source": [
    "## Distribuciones\n",
    "\n"
   ]
  },
  {
   "cell_type": "markdown",
   "metadata": {},
   "source": [
    "### Distribución normal\n",
    "\n",
    "Numpy puede utilizarse para generar números aleatorios con una distribución específica. Para crear una distribución normal es necesario llamar la función `normal()` del método `random`. "
   ]
  },
  {
   "cell_type": "code",
   "execution_count": 167,
   "metadata": {},
   "outputs": [
    {
     "name": "stdout",
     "output_type": "stream",
     "text": [
      "[ 1.45894028 -0.67569883 -1.02160435 -1.74454689  0.2734696  -1.84439435\n",
      " -0.90970952 -0.85851309  1.11720635  0.61495306  0.44906847 -0.17359892\n",
      " -2.62712456 -0.6850846  -1.34096444  0.31736263 -0.3865321   0.37835843\n",
      "  0.47365329  0.16827802]\n"
     ]
    }
   ],
   "source": [
    "data = np.random.normal(size=20)\n",
    "print(data)"
   ]
  },
  {
   "cell_type": "markdown",
   "metadata": {},
   "source": [
    "Es posible generar arrays con media y desviación estándar dadas, para ello tenemos que especificarlos dentro de la función con los parámetros `loc` y `scale`, respectivamente. "
   ]
  },
  {
   "cell_type": "code",
   "execution_count": 168,
   "metadata": {},
   "outputs": [
    {
     "name": "stdout",
     "output_type": "stream",
     "text": [
      "[ 7.77971919 17.04481283 13.22036567 15.20044722 15.0723213  19.49309772\n",
      " 16.35942332 19.10804815 21.4130295  13.80986728 11.30325418 22.82624399\n",
      " 14.98246005 13.96663611 22.56999564 25.75576117 21.38897669 17.30580714\n",
      " 15.96805833 16.01985792]\n"
     ]
    }
   ],
   "source": [
    "data = np.random.normal(loc=15, scale=5, size=20)\n",
    "print(data)"
   ]
  },
  {
   "cell_type": "markdown",
   "metadata": {},
   "source": [
    "**Ejercicio**: Tenemos que contar a los estudiantes que obtuvieron resultados: excelente (90 puntos o más), notable (70-89 puntos), satisfactorio (50-69), aprobado (20-49) y que reprobaron (20 o menos). \n",
    "\n",
    "Crea un diccionario summarized_data y escribe código para rellenarlo con los datos necesarios."
   ]
  },
  {
   "cell_type": "code",
   "execution_count": 169,
   "metadata": {},
   "outputs": [
    {
     "name": "stdout",
     "output_type": "stream",
     "text": [
      "excellent - 1\n",
      "good - 2\n",
      "average - 14\n",
      "passable - 10\n",
      "failed - 3\n"
     ]
    }
   ],
   "source": [
    "## Datos\n",
    "exam_results = np.array(\n",
    "    [\n",
    "        42,  56,  59,  76,  43,  34,  62,  51,  50,  65,  \n",
    "        66,  50,  46,  5,  79, 99,  51,  26,  35,   8,  \n",
    "        34,  47,  64,  58,  61,  12,  30,  63,  20,  68\n",
    "    ]\n",
    ")\n",
    "\n",
    "## Diccionario con valores iniciales\n",
    "summarized_data = {'excellent': 0, \n",
    "                   'good': 0, \n",
    "                   'average': 0, \n",
    "                   'passable': 0,  \n",
    "                   'failed': 0\n",
    "                  }\n",
    "\n",
    "## Bucle para sumar a la lista  \n",
    "for grade in exam_results: \n",
    "    if grade >= 90:\n",
    "        summarized_data[\"excellent\"] +=1\n",
    "    elif grade >= 70:\n",
    "        summarized_data[\"good\"] +=1\n",
    "    elif grade >= 50:\n",
    "        summarized_data[\"average\"] +=1\n",
    "    elif grade >= 20:\n",
    "        summarized_data[\"passable\"] +=1\n",
    "    else: \n",
    "        summarized_data[\"failed\"] +=1\n",
    "        \n",
    "\n",
    "## Código para mostrar los resultados en pantalla.\n",
    "for result in summarized_data:\n",
    "    print(result, '-', summarized_data[result])"
   ]
  },
  {
   "cell_type": "markdown",
   "metadata": {},
   "source": [
    "### Distribución binomial o de Bernoulli\n",
    "En el mundo real, existen muchos experimentos con dos resultados posibles. Por ejemplo ganar o no la lotería, si la tostada cae boca arriba o boca abajo, si el cliente cambia de cuenta premium o rechaza la oferta. Cuando realizamos un experimento una vez y hay dos resultados posibles, estamos ante un **experimento binomial simple** o **ensayo de Bernoulli.**. \n",
    "\n",
    "Este tipo de experimentos tiene dos tipos de resultados ***éxito*** o ***fracaso***. Si la probabilidad de éxito es *p*, entonces el fracaso es 1-*p*. Recordemos que la probabilidad es el 100% osea 1. \n",
    "\n",
    "Si queremos determinar la probabilidad de e una cierta combinación de éxitos y fracasos es el producto de las probabilidades de cada éxito y fracaso individual. Es decir si queremos calcular la probabilidad de la combinación de éxito-éxito-fracaso-fracaso-éxito (**en ese orden**), calculamos p * p * (1-p) * (1-p) * p. \n",
    "\n",
    "**Ejemplo**: Supongamos que en el 88% de las casos los usuarios y las usuarias hacen su primer clic en un banner publicitario, y en el 12% de los casos hacen clic en otro sitio y acaban en una página diferente. ¿Cuál es la probabilidad de que, de dos usuarios diferentes, uno haga clic en el banner y el otro no?   \n",
    "\n",
    "Para un usuario sería la probabilidad de hacerlo por la probabilidad de no hacerlo, por lo tanto sería: 0.88 * 0.12 = 0.1056, si eso lo aplicamos para el segundo usuario, tendríamos que la suma de ambos sería 0.21112, es decir el 21.12%.\n",
    "\n",
    "\n",
    "**Ejercicio**: \n",
    "Los portátiles de Pineapple son caros, pero siguen siendo populares entre los geeks de la informática: el 60% de los clientes están dispuestos a comprarse una computadora portátil de esta marca si acuden a la tienda. Los portátiles de Banana son más baratos, pero no tan populares: solo el 20% de los visitantes de la tienda están dispuestos a comprarlos.\n",
    "Supongamos que la tienda solo tiene a la venta equipos de Pineapple. ¿Cuál es la probabilidad de que 50 de cada 80 clientes realicen una compra en un día?"
   ]
  },
  {
   "cell_type": "code",
   "execution_count": 170,
   "metadata": {},
   "outputs": [],
   "source": [
    "## Probabilidades\n",
    "probs= np.array([0.75, 0.25])\n",
    "\n",
    "## Opciones\n"
   ]
  },
  {
   "cell_type": "code",
   "execution_count": 171,
   "metadata": {},
   "outputs": [
    {
     "name": "stdout",
     "output_type": "stream",
     "text": [
      "0.0826713508623046\n"
     ]
    }
   ],
   "source": [
    "p = 0.6 # la probabilidad de que un cliente realice una compra\n",
    "q = 0.4 # la probabilidad de que un cliente NO realice una compra\n",
    "n = 80  # el número total de visitantes\n",
    "k = 50  # el número de visitantes que esperamos que realicen una compra\n",
    "\n",
    "probability = factorial(n) / (factorial(k) * factorial(n-k)) * (p ** k) * (q ** (n-k))\n",
    "\n",
    "print(probability)"
   ]
  },
  {
   "cell_type": "markdown",
   "metadata": {},
   "source": [
    "### Distribución uniforme\n",
    "Discreta\n",
    "\n",
    "Continua"
   ]
  },
  {
   "cell_type": "markdown",
   "metadata": {},
   "source": [
    "### Distribución binomial\n",
    "Es el experimento de Bernoiulli pero realizado con repeticiones\n"
   ]
  },
  {
   "cell_type": "markdown",
   "metadata": {},
   "source": [
    "### Distibución normal (Gaussiana)\n",
    "\n",
    "En Python es posible generar distribuciones normales con parámetros dados utilizando la función `stats.norm()`, con la librería SciPy. También estudiaremos los métodos `norm.cdf` y `norm.ppf`, que permiten: \n",
    "\n",
    "| Nombre| Sintaxis| Explicación\t| Ejemplo|\n",
    "| ---   | ---    | --- | --- |\n",
    "|La función de distribución acumulativa| `norm.cdf()`\t|Da la probabilidad de que una variable aleatoria sea menor o igual que un valor determinado |\t¿Cuál es la probabilidad de que un estudiante pueda aprender una nueva profesión por menos de 4 000 dólares?|\n",
    "|La función de punto porcentual| \t`norm.ppf()` | Da el valor de la variable aleatoria que corresponde a una determinada probabilidad|\t¿Cuál es el coste máximo de la formación para el 10% de los estudiantes que gastaron menos dinero en sus estudios?| "
   ]
  },
  {
   "cell_type": "code",
   "execution_count": null,
   "metadata": {},
   "outputs": [],
   "source": [
    "## Importar el módulo stats.\n",
    "from scipy import stats as st\n",
    "\n",
    "#® Crear una distribuidos normal con una media de 5 000 y una desviación estándar de 1500.\n",
    "data = st.norm(5000, 1500)\n",
    "\n",
    "# Pregunta 1\n",
    "## Crear una variable para almacenar el coste deseado.\n",
    "desired_cost = 4000\n",
    "\n",
    "## Calcular la probabilidad de obtener el valor desired_cost.\n",
    "probability = data.cdf(desired_cost)\n",
    "\n",
    "print(probability)\n",
    "\n",
    "# Pregunta 2\n",
    "## Establecemos el valor de la probabilidad. Buscaremos el umbral del coste de los estudios \n",
    "# para el 10% de los estudiantes que gastaron menos dinero.\n",
    "target_level = 0.1\n",
    "\n",
    "## Encontramos el importe que no supere los gastos del 10% de estudiantes que gastaron menos dinero.\n",
    "cost = data.ppf(target_level)\n",
    "\n",
    "print(cost)"
   ]
  },
  {
   "cell_type": "markdown",
   "metadata": {},
   "source": [
    "Ejercicio\n",
    "La puntuación media en el examen del Certificado de análisis de datos es 1000 y la desviación estándar es 100. Hay que encontrar la probabilidad de obtener entre 900 y 1 100 puntos en el examen.\n",
    "\n",
    "¿Qué código se debe utilizar para ello?\n",
    "**R**: `st.norm(1000, 100).cdf(1100) - st.norm(1000, 100).cdf(900)`"
   ]
  },
  {
   "cell_type": "markdown",
   "metadata": {},
   "source": [
    "> El `cdf`siempre ira acompañado a la pregunta ¿cuá es la probabilidad?"
   ]
  },
  {
   "cell_type": "markdown",
   "metadata": {},
   "source": [
    "Encuentra la probabilidad de que en el próximo mes el sitio web del outlet tenga:\n",
    "\n",
    "menos de 92 000 visitantes;\n",
    "más de 111 000 visitantes."
   ]
  },
  {
   "cell_type": "code",
   "execution_count": 175,
   "metadata": {},
   "outputs": [
    {
     "name": "stdout",
     "output_type": "stream",
     "text": [
      "Probabilidad de que el número de visitantes sea superior a 111000: 0.0013498980316301035\n",
      "Probabilidad de que el número de visitantes sea inferior a 92000: 0.0075792194387197245\n"
     ]
    }
   ],
   "source": [
    "from scipy import stats as st\n",
    "\n",
    "mu = 100500\n",
    "sigma = 3500\n",
    "\n",
    "more_threshold = 111000\n",
    "fewer_threshold = 92000\n",
    "\n",
    "p_more_visitors = 1 - st.norm(mu, sigma).cdf(more_threshold)\n",
    "p_fewer_visitors = st.norm(mu, sigma).cdf(fewer_threshold)\n",
    "\n",
    "print(f'Probabilidad de que el número de visitantes sea superior a {more_threshold}: {p_more_visitors}')\n",
    "print(f'Probabilidad de que el número de visitantes sea inferior a {fewer_threshold}: {p_fewer_visitors}')"
   ]
  },
  {
   "cell_type": "markdown",
   "metadata": {},
   "source": [
    "> Si me dan la probabilidad entonces va de la mano del `ppf()`"
   ]
  },
  {
   "cell_type": "markdown",
   "metadata": {},
   "source": [
    "Fancy Pants, vende productos de regalo a un público muy limitado de clientes corporativos. Las ventas semanales en la tienda de conjuntos de ajedrez de lujo fabricados con colmillo de mamut tienen una distribución normal con una media de 420 y una desviación estándar de 65.\n",
    "\n",
    "El equipo de inventario está decidiendo cuántos conjuntos pedir. Quieren que la posibilidad de venderlos todos la próxima semana sea del 90%. ¿Cuántos deben pedir?"
   ]
  },
  {
   "cell_type": "code",
   "execution_count": null,
   "metadata": {},
   "outputs": [],
   "source": [
    "from scipy import stats as st\n",
    "\n",
    "mu = 420\n",
    "sigma = 65\n",
    "prob = 0.9\n",
    "\n",
    "n_shipment = st.norm(mu, sigma).ppf(1 - prob)\n",
    "\n",
    "print('Cantidad de artículos a pedir:', int(n_shipment))"
   ]
  },
  {
   "cell_type": "markdown",
   "metadata": {},
   "source": [
    "### Combinación de las distribuciones binomiales y normales\n"
   ]
  },
  {
   "cell_type": "markdown",
   "metadata": {},
   "source": [
    "### Distribución de Poisson\n"
   ]
  }
 ],
 "metadata": {
  "kernelspec": {
   "display_name": "Python 3",
   "language": "python",
   "name": "python3"
  },
  "language_info": {
   "codemirror_mode": {
    "name": "ipython",
    "version": 3
   },
   "file_extension": ".py",
   "mimetype": "text/x-python",
   "name": "python",
   "nbconvert_exporter": "python",
   "pygments_lexer": "ipython3",
   "version": "3.12.4"
  }
 },
 "nbformat": 4,
 "nbformat_minor": 2
}

{
 "cells": [
  {
   "cell_type": "markdown",
   "metadata": {},
   "source": [
    "# Probabilidad y estadística"
   ]
  },
  {
   "cell_type": "code",
   "execution_count": 182,
   "metadata": {},
   "outputs": [],
   "source": [
    "## Importar paqueterías\n",
    "import numpy as np\n",
    "import pandas as pd\n",
    "import matplotlib.pyplot as plt\n",
    "from scipy import stats as st"
   ]
  },
  {
   "cell_type": "markdown",
   "metadata": {},
   "source": [
    "## Estadística descriptiva\n",
    "---"
   ]
  },
  {
   "cell_type": "markdown",
   "metadata": {},
   "source": [
    "### Medidas de posición\n",
    "Son estadísticas descriptivas que nos indican dónde se encuentran ubicados los datos dentro de una distribución. Nos ayudan a entender el centro o la tendencia central de un conjunto de datos.\n",
    "\n",
    "- **Media o Promedio**: Suma de todos los valores dividida entre el número total de valores.\n",
    "- **Mediana**: Valor que divide al conjunto de datos en dos partes iguales.\n",
    "- **ModaL**: Valor que más se repite en el conjunto de datos.\n",
    "- **Cuartiles**: Dividen al conjunto de datos en cuatro partes iguales.\n",
    "- **Percentiles**: Dividen al conjunto de datos en 100 partes iguales.\n"
   ]
  },
  {
   "cell_type": "code",
   "execution_count": 183,
   "metadata": {},
   "outputs": [
    {
     "name": "stdout",
     "output_type": "stream",
     "text": [
      "Media: 5.1\n",
      "Mediana: 5.0\n",
      "Moda: 0    5\n",
      "Name: Valor, dtype: int64\n",
      "Cuartiles:\n",
      " 0.25    3.25\n",
      "0.50    5.00\n",
      "0.75    6.75\n",
      "Name: Valor, dtype: float64\n"
     ]
    }
   ],
   "source": [
    "# Crear un DataFrame de ejemplo\n",
    "data = {'Valor': [1, 2, 3, 4, 5, 5, 6, 7, 8, 10]}\n",
    "df = pd.DataFrame(data)\n",
    "\n",
    "# Calcular medidas de posición\n",
    "media = df['Valor'].mean()\n",
    "mediana = df['Valor'].median()\n",
    "moda = df['Valor'].mode()\n",
    "cuartiles = df['Valor'].quantile([0.25, 0.5, 0.75])\n",
    "\n",
    "# Imprimir resultados\n",
    "print('Media:', media)\n",
    "print('Mediana:', mediana)\n",
    "print('Moda:', moda)\n",
    "print('Cuartiles:\\n', cuartiles)"
   ]
  },
  {
   "cell_type": "markdown",
   "metadata": {},
   "source": [
    "### Medidas de variabilidad\n",
    "Las medidas de variabilidad nos permiten cuantificar el grado de dispersión o heterogeneidad de un conjunto de datos. Es decir, nos indican qué tan diferentes son los valores entre sí.\n",
    "\n",
    "- **Rango**: Diferencia entre el valor máximo y el valor mínimo de un conjunto de datos.\n",
    "- **Varianza**: Promedio de las desviaciones cuadráticas de cada dato respecto a la media.\n",
    "- **Desviación** estándar: Raíz cuadrada de la varianza.\n",
    "- **Coeficiente** de variación: Relación entre la desviación estándar y la media, expresada como porcentaje.\n",
    "- **Cuartiles y rango intercuartílico**: El rango intercuartílico (IQR) es la diferencia entre el tercer y el primer cuartil."
   ]
  },
  {
   "cell_type": "markdown",
   "metadata": {},
   "source": [
    "La **varianza** se puede calcular mediamnte la función `var()`. "
   ]
  },
  {
   "cell_type": "code",
   "execution_count": 184,
   "metadata": {},
   "outputs": [
    {
     "name": "stdout",
     "output_type": "stream",
     "text": [
      "2.92\n"
     ]
    }
   ],
   "source": [
    "## Calcular la varianza\n",
    "x = [1, 2, 3, 4, 5, 6] # dataset\n",
    "\n",
    "variance = np.var(x)\n",
    "print(variance.round(2))"
   ]
  },
  {
   "cell_type": "markdown",
   "metadata": {},
   "source": [
    "Para calcular la desviación estándar, que es la raíz cuadrada de la varianza, se puede utilizar el método `describe()` o bien con el método `std()` de la paquetería Numpy. "
   ]
  },
  {
   "cell_type": "code",
   "execution_count": 185,
   "metadata": {},
   "outputs": [
    {
     "name": "stdout",
     "output_type": "stream",
     "text": [
      "count    6.00\n",
      "mean     3.50\n",
      "std      1.87\n",
      "min      1.00\n",
      "25%      2.25\n",
      "50%      3.50\n",
      "75%      4.75\n",
      "max      6.00\n",
      "dtype: float64\n",
      "\n",
      "1.71\n"
     ]
    }
   ],
   "source": [
    "# Obtener la varianza \n",
    "## Método describe()\n",
    "s = pd.Series([1, 2, 3, 4, 5, 6])\n",
    "print(s.describe().round(2))\n",
    "print()\n",
    "\n",
    "## Método std()\n",
    "standard_deviation = np.std(x)\n",
    "print(standard_deviation.round(2))"
   ]
  },
  {
   "cell_type": "markdown",
   "metadata": {},
   "source": [
    "Para calcular la **covarianza** es necesario calcular la matriz de covarianza utilizando el comando `cov()`. "
   ]
  },
  {
   "cell_type": "code",
   "execution_count": 186,
   "metadata": {},
   "outputs": [
    {
     "name": "stdout",
     "output_type": "stream",
     "text": [
      "51.5\n"
     ]
    }
   ],
   "source": [
    "## Calcular la cobvarianza\n",
    "x = [1, 2, 3, 4, 5, 6] # dataset 1\n",
    "y = [41, 62, 89, 96, 108, 115] # dataset 2\n",
    "\n",
    "## Calculamos la matriz de covarianza\n",
    "covariance_matrix = np.cov(x,y)\n",
    "\n",
    "## Extraemos la covarianza como valor\n",
    "covariance = covariance_matrix[0][1] \n",
    "print(covariance)"
   ]
  },
  {
   "cell_type": "markdown",
   "metadata": {},
   "source": [
    "## Probabilidad\n",
    "---"
   ]
  },
  {
   "cell_type": "markdown",
   "metadata": {},
   "source": [
    "## Espacio muestral\n",
    "Se define como **espacio muestral** a el conjunto de todos estos resultados posibles, y se como ***S***. Es necesario tener en cuenta que **todos y cada uno** de los resultados deben incluirse en el espacio muestral. \n",
    "\n",
    "En Python, los cálculos de probabilidad simples basados en espacios muestrales se pueden realizar fácilmente usando el operador lógico `==` y la función `len()`.\n",
    "    1. Con el `==` identifico el evento de mi interés\n",
    "    2. Con `len()` determino el número de eventos de mi interés y el númeor total de eventos"
   ]
  },
  {
   "cell_type": "code",
   "execution_count": 187,
   "metadata": {},
   "outputs": [
    {
     "name": "stdout",
     "output_type": "stream",
     "text": [
      "       Artist                        Song\n",
      "0       Queen         The Show Must Go On\n",
      "1       Queen  Another One Bites The Dust\n",
      "2       Queen            We Will Rock You\n",
      "3  Pink Floyd          Wish You Were Here\n",
      "4     Nirvana     Smells Like Teen Spirit\n",
      "5       AC/DC             Highway To Hell\n",
      "6       AC/DC               Back in Black\n",
      "7   Scorpions              Wind Of Change\n",
      "8   Scorpions            Still Loving You\n",
      "9   Scorpions            Send Me An Angel\n"
     ]
    }
   ],
   "source": [
    "## Creación de un df\n",
    "cool_rock = pd.DataFrame(\n",
    "    {\n",
    "        'Artist': [\n",
    "            'Queen',\n",
    "            'Queen',\n",
    "            'Queen',\n",
    "            'Pink Floyd',\n",
    "            'Nirvana',\n",
    "            'AC/DC',\n",
    "            'AC/DC',\n",
    "            'Scorpions',\n",
    "            'Scorpions',\n",
    "            'Scorpions',\n",
    "        ],\n",
    "        'Song': [\n",
    "            'The Show Must Go On',\n",
    "            'Another One Bites The Dust',\n",
    "            'We Will Rock You',\n",
    "            'Wish You Were Here',\n",
    "            'Smells Like Teen Spirit',\n",
    "            'Highway To Hell',\n",
    "            'Back in Black',\n",
    "            'Wind Of Change',\n",
    "            'Still Loving You',\n",
    "            'Send Me An Angel',\n",
    "        ],\n",
    "    }\n",
    ")\n",
    "print(cool_rock)"
   ]
  },
  {
   "cell_type": "markdown",
   "metadata": {},
   "source": [
    "¿Cuál es la probabilidad de que si pulso aleatorio salga la canción \"Smells Like Teen Spirit\""
   ]
  },
  {
   "cell_type": "code",
   "execution_count": 188,
   "metadata": {},
   "outputs": [
    {
     "name": "stdout",
     "output_type": "stream",
     "text": [
      "Por pasos: 0.1\n",
      "Directo: 0.1\n"
     ]
    }
   ],
   "source": [
    "# Calcular la probabilidad\n",
    "## Identificar los resultados que satisfacen el evento\n",
    "interested_song = cool_rock[cool_rock[\"Song\"]==\"Smells Like Teen Spirit\"]\n",
    "\n",
    "## Determinar el número de resultados que satisfacen el evento\n",
    "len_song_interested = len(interested_song)\n",
    "\n",
    "## Contar el tamaño del espacio muestral.\n",
    "total_song = len(cool_rock)\n",
    "\n",
    "## Obtener la probabilidad\n",
    "print(\"Por pasos:\", len_song_interested/total_song)\n",
    "\n",
    "## Obtener la probabilidad en un solo comando \n",
    "print(\"Directo:\", len(cool_rock[cool_rock[\"Song\"]==\"Smells Like Teen Spirit\"])/len(cool_rock))\n"
   ]
  },
  {
   "cell_type": "markdown",
   "metadata": {},
   "source": [
    "### Factoriales \n",
    "\n",
    "En probabilidad y estadística muy a menudo nos encontramos con distintas maneras de organizar o reordenar un conjunto de elementos (**permutaciones**). A veces, es posible que el cálculo sea mental, en otras ocasiones no es tan sencillo.  \n",
    "\n",
    "Ejemplo:    \n",
    "Una escuela online ofreció a un estudiante tres cursos gratuitos: \n",
    "- ¿Cómo escribir un currículum eficaz?\n",
    "- Ayuda profesional en orientación profesional.\n",
    "- ¡Mejora tus habilidades para las entrevistas!   \n",
    "\n",
    "Estos cursos pueden tomarse en cualquier orden. ¿Cuántos itinerarios educativos diferentes pueden crearse a partir de estos cursos?. Para ello utilizamos la fórmula\n",
    "\n",
    "$Pn =n!$\n",
    "\n",
    "Para calcular el número de permutaciones de *n* elementos se utiliza el factorial `!`. Para calcularlo en Python se puede utilizar la función `factorial()` del módulo `math`."
   ]
  },
  {
   "cell_type": "code",
   "execution_count": 189,
   "metadata": {},
   "outputs": [
    {
     "name": "stdout",
     "output_type": "stream",
     "text": [
      "6\n"
     ]
    }
   ],
   "source": [
    "# Importar la función factorial del módulo matemático\n",
    "from math import factorial\n",
    "\n",
    "# Definir el número necesario de elementos\n",
    "courses_amount = 3\n",
    "\n",
    "# Calculae el factorial de 3 (el valor de la variable courses_amount)\n",
    "result = factorial(courses_amount)\n",
    "\n",
    "print(result)"
   ]
  },
  {
   "cell_type": "markdown",
   "metadata": {},
   "source": [
    "### Combinaciones\n",
    "Otra parte importante de la probabilidad y estadística son las **combinaciones**. Para calcular el número de combinaciones de *k* elementos de *n* opciones posibles:"
   ]
  },
  {
   "cell_type": "code",
   "execution_count": 190,
   "metadata": {},
   "outputs": [
    {
     "name": "stdout",
     "output_type": "stream",
     "text": [
      "120.0\n"
     ]
    }
   ],
   "source": [
    "# Definir los valores para las variables n y k\n",
    "n = 10 # Número de elementos\n",
    "k = 3  # Número de opciones posibles\n",
    "\n",
    "# Realizar los cálculos\n",
    "combinations = factorial(n) / (factorial(k) * factorial(n-k))\n",
    "print(combinations)"
   ]
  },
  {
   "cell_type": "markdown",
   "metadata": {},
   "source": [
    "Si observamos, la fórmula de permutación es similar a la fórmula e combinaciones, donde se le agregan los términos relacionados con el número de combinaciones de *k*."
   ]
  },
  {
   "cell_type": "markdown",
   "metadata": {},
   "source": [
    "**Ejercicio 1**    \n",
    "Estás desarrollando con tus amigos un juego de búsqueda que consta de 10 tareas diferentes. Las tareas pueden realizarse en cualquier orden, pero solo una secuencia de todas las existentes permite a los jugadores ganar el superpremio. ¿Cuál es la probabilidad de ganar el superpremio, suponiendo que la probabilidad de elegir cada tarea en cualquier fase de la búsqueda es la misma?\n",
    "\n",
    "**Resultado 1**   \n",
    "Son 10 tareas distintas, y aunque dice que puede ser cualquier orden solo 1 secuencia es la ganadora. Por lo tanto la probabilidad sería 1 serie entre el número de eventos posible en orden dado. "
   ]
  },
  {
   "cell_type": "code",
   "execution_count": 191,
   "metadata": {},
   "outputs": [
    {
     "name": "stdout",
     "output_type": "stream",
     "text": [
      "3628800\n",
      "\n",
      "2.755731922398589e-07\n"
     ]
    }
   ],
   "source": [
    "# Definir los valores para las variables n y k\n",
    "## Solo hay elementos y no hay combinaciones específicas, k=0\n",
    "tasks = 10 # Elementos o n\n",
    "\n",
    "## Calculo de las permutaciones o combinaciones posibles\n",
    "permutations = factorial(tasks)\n",
    "print(permutations)\n",
    "print() \n",
    "\n",
    "## Probabilidad: solo una secuencia permite ganar el superpremio\n",
    "probability = 1 / permutations\n",
    "\n",
    "print(probability)"
   ]
  },
  {
   "cell_type": "markdown",
   "metadata": {},
   "source": [
    "Existen 10 tareas diferentes, por lo tanto, existen 3,628,800 combinaciones diferentes. La probabilidad de ganar el superpremio con la secuencia de tareas ordenadas de manera correcta es inferior al 0.00003%. "
   ]
  },
  {
   "cell_type": "markdown",
   "metadata": {},
   "source": [
    "**Ejercicio 2**   \n",
    "Ahora, los jugadores pueden elegir las tres tareas con las que quieren empezar el juego. El orden de las tareas no importa, lo importante es la combinación. Si los jugadores consiguen adivinar la \"combinación secreta\", recibirán un código promocional de descuento. Por lo tanto  \n",
    "\n",
    "**Resultado 2**\n",
    "Son las mismas 10 tareas, solo que ahora tenemos una combinación de 3 tareas y las combinaciones no tienen un orden específico."
   ]
  },
  {
   "cell_type": "code",
   "execution_count": 192,
   "metadata": {},
   "outputs": [
    {
     "name": "stdout",
     "output_type": "stream",
     "text": [
      "120.0\n",
      "\n",
      "0.008333333333333333\n"
     ]
    }
   ],
   "source": [
    "# Definir los valores para las variables n y k\n",
    "## Existen 10 tareas y se pueden seleccionar 3 tareas con las que empezar\n",
    "tasks = 10 # Elementos o n\n",
    "chosen = 3 # Opciones a seleccionar o k\n",
    "\n",
    "## Calculo de las permutaciones o combinaciones posibles\n",
    "permutations = factorial(tasks)/(factorial(chosen)*factorial(tasks-chosen))\n",
    "print(permutations)\n",
    "print()\n",
    "\n",
    "## Probabilidad: solo una secuencia permite ganar el superpremio\n",
    "probability = 1 / permutations\n",
    "\n",
    "print(probability)"
   ]
  },
  {
   "cell_type": "markdown",
   "metadata": {},
   "source": [
    "En esta ocasión, de las 10 tareas existentes y al seleccionar las tres posibles tareas con las cuales empezar, se tienen 120 opciones disponibles. Esto hace que la probabilidad de obtener un código promocional es de casi el 1% "
   ]
  },
  {
   "cell_type": "markdown",
   "metadata": {},
   "source": [
    "## Distribuciones\n",
    "---\n",
    "La mayoría de las variables aleatorias se modelan en una forma que puede ser descrita por parámetros. Esto es lo que normalmente llamamos **distribuciones de datos**.\n",
    "\n",
    "Las distribuciones de datos son una de las piedras angulares de las estadísticas. Las pruebas de hipótesis y la teoría de la probabilidad surgieron del simple concepto de trazar las múltiples ocurrencias de una variable aleatoria, visualizar su forma y realizar algún cálculo con ella. Las distribuciones nos ayudan a entender:\n",
    "\n",
    "- ¿Cuál es el promedio/valor esperado de una variable aleatoria?\n",
    "- ¿Cuál es la varianza/dispersión de una variable aleatoria?\n",
    "- ¿Cuál es el rango de valores?\n",
    "\n",
    "Existen dos tipos de distribuciones **discretas** (toman un cierto número de valores) y **contínuas** (toman un número infinitesimal de valores). \n",
    "\n",
    "En Python, es posible crear datasets con varios tipos de distribución, utilizando la librería NumPy, capaz de generar números aleatorios con una distribución específica.\n",
    "\n",
    "El objeto principal es un `ndarray` (array N-dimensional), que es un array multidimensional que contiene elementos del mismo tipo y no puede modificarse durante la ejecución del código.Para crear ndarray utilizamos la función `np.array()`. "
   ]
  },
  {
   "cell_type": "code",
   "execution_count": 193,
   "metadata": {},
   "outputs": [],
   "source": [
    "## Creación de un ndarray\n",
    "data = np.array([1, 3, 5, 7, 11, 13, 17, 19, 23, 317])"
   ]
  },
  {
   "cell_type": "markdown",
   "metadata": {},
   "source": [
    "### Distribución normal\n",
    "Es la distribución de probabilidad más común, forma parte de las distribuciones contínuas. Describe la probabilidad de que una variable aleatoria tome un valor determinado alrededor de una media, con una desviación estándar determinada.\n",
    "\n",
    "Para crear una distribución normal es necesario llamar la función `normal()` del método `random`. "
   ]
  },
  {
   "cell_type": "code",
   "execution_count": 194,
   "metadata": {},
   "outputs": [
    {
     "data": {
      "image/png": "[encoded data removed]",
      "text/plain": [
       "<Figure size 640x480 with 1 Axes>"
      ]
     },
     "metadata": {},
     "output_type": "display_data"
    }
   ],
   "source": [
    "## Generar 20 valores aleatorios\n",
    "data = np.random.normal(size=20)\n",
    "\n",
    "\n",
    "# Graficar los datos\n",
    "plt.bar(range(len(data)), data)\n",
    "plt.xlabel('Observaciones', fontsize=12)\n",
    "plt.ylabel('Valor', fontsize=12)\n",
    "plt.title('Distribución Normal', fontsize=14)\n",
    "\n",
    "# Mostrar la gráfica\n",
    "plt.show()"
   ]
  },
  {
   "cell_type": "markdown",
   "metadata": {},
   "source": [
    "Esta distribución está definida por dos parámetros clave: la **media** (μ) y la **varianza** (σ²). Describe la probabilidad de que una variable aleatoria tome un valor cercano a la media, con una desviación estándar específica (σ).\n",
    "\n",
    "Es posible generar arrays con media y desviación estándar dadas, para ello tenemos que especificarlos dentro de la función con los parámetros `loc` y `scale`, respectivamente. "
   ]
  },
  {
   "cell_type": "code",
   "execution_count": 195,
   "metadata": {},
   "outputs": [
    {
     "name": "stdout",
     "output_type": "stream",
     "text": [
      "[16.37025049 18.18571069 12.23055211 13.86127238  9.18277362 14.80733504\n",
      " 12.25677229  9.78597226 18.35341775 17.3634952   4.94501468 15.60285787\n",
      "  6.9860645  13.75694278  8.58581233 10.43237719 14.6640753  16.67195316\n",
      " 19.03646785 14.51890773]\n"
     ]
    },
    {
     "data": {
      "image/png": "[encoded data removed]",
      "text/plain": [
       "<Figure size 640x480 with 1 Axes>"
      ]
     },
     "metadata": {},
     "output_type": "display_data"
    }
   ],
   "source": [
    "## Generar 20 valores con promedio de 15 y desviación estándar de 5\n",
    "mean = 15  # media entre 1 y 30\n",
    "std_dev = 5  # desviación estándar aleatoria\n",
    "\n",
    "data = np.random.normal(loc= mean, scale= std_dev, size = 20)\n",
    "print(data)\n",
    "\n",
    "# Graficar los datos\n",
    "plt.bar(range(len(data)), data)\n",
    "plt.xlabel('Observaciones', fontsize=12)\n",
    "plt.ylabel('Valor', fontsize=12)\n",
    "plt.title('Distribución Normal', fontsize=14)\n",
    "\n",
    "# Mostrar la gráfica\n",
    "plt.show()"
   ]
  },
  {
   "cell_type": "markdown",
   "metadata": {},
   "source": [
    "En Python, es posible realizar cálculos con datos que siguen una distribución normal utilizando la librería **SciPy** y su módulo **stats**.\n",
    "\n",
    "Para generar una distribución normal con parámetros específicos como la media y la desviación estándar, se emplea la función `stats.norm()`."
   ]
  },
  {
   "cell_type": "code",
   "execution_count": 196,
   "metadata": {},
   "outputs": [
    {
     "data": {
      "image/png": "[encoded data removed]",
      "text/plain": [
       "<Figure size 640x480 with 1 Axes>"
      ]
     },
     "metadata": {},
     "output_type": "display_data"
    }
   ],
   "source": [
    "# Datos distribuidos normalmente con una media de 5 000 y una desviación estándar de 1500.\n",
    "## Crear un rango de valores\n",
    "n = np.linspace(mean - 4*std_dev, mean + 4*std_dev, 1000)\n",
    "\n",
    "## Distribución normal\n",
    "data = st.norm(5000, 1500)\n",
    "\n",
    "# Calcular la función de densidad de probabilidad (PDF)\n",
    "pdf = data.pdf(n)\n",
    "\n",
    "# Calcular la función de densidad de probabilidad (PDF)\n",
    "pdf = data.pdf(n)\n",
    "\n",
    "# Graficar la PDF (esto dará la forma de la campana de Gauss)\n",
    "plt.plot(n, pdf, label='Distribución Normal', color='blue')\n",
    "plt.title('Distribución Normal con media=5000 y desviación estándar=1500')\n",
    "plt.xlabel('Valor')\n",
    "plt.ylabel('Densidad de probabilidad')\n",
    "plt.grid(True)\n",
    "plt.legend()\n",
    "plt.show()\n"
   ]
  },
  {
   "cell_type": "code",
   "execution_count": 197,
   "metadata": {},
   "outputs": [
    {
     "data": {
      "image/png": "[encoded data removed]",
      "text/plain": [
       "<Figure size 640x480 with 1 Axes>"
      ]
     },
     "metadata": {},
     "output_type": "display_data"
    }
   ],
   "source": [
    "# Parámetros de la distribución normal\n",
    "mean = 5000\n",
    "std_dev = 1500\n",
    "\n",
    "# Crear un rango de valores centrado alrededor de la media, extendido para ver la curva\n",
    "n = np.linspace(mean - 4*std_dev, mean + 4*std_dev, 1000)\n",
    "\n",
    "# Distribución normal con media 5000 y desviación estándar 1500\n",
    "data = st.norm(mean, std_dev)\n",
    "\n",
    "# Calcular la función de densidad de probabilidad (PDF)\n",
    "pdf = data.pdf(n)\n",
    "\n",
    "# Graficar la PDF (esto dará la forma de la campana de Gauss)\n",
    "plt.plot(n, pdf, label='Distribución Normal', color='blue')\n",
    "plt.title('Distribución Normal con media=5000 y desviación estándar=1500')\n",
    "plt.xlabel('Valor')\n",
    "plt.ylabel('Densidad de probabilidad')\n",
    "plt.grid(True)\n",
    "plt.show()\n"
   ]
  },
  {
   "cell_type": "markdown",
   "metadata": {},
   "source": [
    "Los métodos más comunes para trabajar con esta distribución incluyen:\n",
    "\n",
    "- `norm.cdf()`: Calcula la probabilidad de que la variable aleatoria sea menor o igual a un valor dado. Responde a la pregunta: \"¿Cuál es la probabilidad de que ocurra un valor menor o igual que x?\"\n",
    "\n",
    "- `norm.ppf()`: Devuelve el valor de la variable aleatoria asociado a una determinada probabilidad. Responde a la pregunta: \"¿Qué valor de x corresponde a una probabilidad acumulada dada?\""
   ]
  },
  {
   "cell_type": "markdown",
   "metadata": {},
   "source": [
    "**Ejercicio 1**  \n",
    "El número de visitantes mensuales de una tienda virtual tiene una distribución normal con una media de 100 500 y una desviación estándar de 3 500.\n",
    "\n",
    "Encuentra la probabilidad de que en el próximo mes el sitio web del outlet tenga:\n",
    "\n",
    "- menos de 92 000 visitantes;\n",
    "- más de 111 000 visitantes."
   ]
  },
  {
   "cell_type": "code",
   "execution_count": 198,
   "metadata": {},
   "outputs": [
    {
     "name": "stdout",
     "output_type": "stream",
     "text": [
      "0.76\n",
      "0.13\n"
     ]
    }
   ],
   "source": [
    "## Asignar variables\n",
    "mu = 100500\n",
    "sigma= 3500\n",
    "\n",
    "fewer_threshold=92000\n",
    "upper_threshold= 111000\n",
    "\n",
    "## Calculas la probabilidad baja\n",
    "p_fewer_visitors = st.norm(mu, sigma).cdf(fewer_threshold)\n",
    "\n",
    "print(round(float(p_fewer_visitors),4)*100)\n",
    "\n",
    "## Calcula la probabilidad arriba\n",
    "p_upper_visitors = 1-st.norm(mu, sigma).cdf(upper_threshold)\n",
    "\n",
    "print(round(float(p_upper_visitors),4)*100)"
   ]
  },
  {
   "cell_type": "markdown",
   "metadata": {},
   "source": [
    "La probabilidad de tener menos de 92,000 visitantes es aproximadamente 0.76%, lo que indica que es bastante improbable que el número de visitantes sea tan bajo.\n",
    "\n",
    "La probabilidad de tener **más de** 111,000 visitantes es alrededor de 0.13%, lo que sugiere que es muy poco probable que el número de visitantes exceda este valor en el próximo mes."
   ]
  },
  {
   "cell_type": "markdown",
   "metadata": {},
   "source": [
    "> [Nota]   \n",
    "> El CDF devuelve la probabilidad acumulada de que el valor de la variable aleatoria sea **menor o igual** a cierto umbral. Si estás buscando la probabilidad de que el valor **sea mayor** a un cierto umbral, es necesario usar el complemento de la CDF. Como la probabilidad total es 1, el complemento $(1 - CDF)$ "
   ]
  },
  {
   "cell_type": "markdown",
   "metadata": {},
   "source": [
    "**Ejercicio 2**  \n",
    "Fancy Pants vende productos de regalo a un público muy limitado de clientes corporativos. Las ventas semanales en la tienda de conjuntos de ajedrez de lujo fabricados con colmillo de mamut tienen una distribución normal con una media de 420 y una desviación estándar de 65.\n",
    "\n",
    "El equipo de inventario está decidiendo cuántos conjuntos pedir. Quieren que la posibilidad de venderlos todos la próxima semana sea del 90%. ¿Cuántos deben pedir?\n",
    "\n",
    "**Respuesta 2**  \n",
    "Nos da datos como la media y la desviación estandar. Además, nos pregunta la cantidad de productos que se tienen que pedir para vender aprox. el 90%. Por lo tanto:  "
   ]
  },
  {
   "cell_type": "code",
   "execution_count": 199,
   "metadata": {},
   "outputs": [
    {
     "name": "stdout",
     "output_type": "stream",
     "text": [
      "336.7\n"
     ]
    }
   ],
   "source": [
    "## Asignar valores dados\n",
    "mu = 420\n",
    "sigma = 65\n",
    "prob= 0.9\n",
    "\n",
    "## Calcular el valor de la variable aleatoria\n",
    "n_shipment= st.norm(mu,sigma).ppf(1-prob)\n",
    "\n",
    "print(round(float(n_shipment), 2))"
   ]
  },
  {
   "cell_type": "markdown",
   "metadata": {},
   "source": [
    "Se tienen que pedir 336 artículos para no tener demasiado inventario y maximizar ingresos. "
   ]
  },
  {
   "cell_type": "markdown",
   "metadata": {},
   "source": [
    "-----\n"
   ]
  },
  {
   "cell_type": "markdown",
   "metadata": {},
   "source": [
    "**Ejercicio 1**   \n",
    "Tenemos que contar a los estudiantes que obtuvieron resultados: excelente (90 puntos o más), notable (70-89 puntos), satisfactorio (50-69), aprobado (20-49) y que reprobaron (20 o menos). \n",
    "\n",
    "**Resultado 1**   \n",
    "Crea un diccionario summarized_data y escribe código para rellenarlo con los datos necesarios."
   ]
  },
  {
   "cell_type": "code",
   "execution_count": 200,
   "metadata": {},
   "outputs": [
    {
     "name": "stdout",
     "output_type": "stream",
     "text": [
      "excellent - 1\n",
      "good - 2\n",
      "average - 14\n",
      "passable - 10\n",
      "failed - 3\n"
     ]
    }
   ],
   "source": [
    "## Datos\n",
    "exam_results = np.array(\n",
    "    [\n",
    "        42,  56,  59,  76,  43,  34,  62,  51,  50,  65,  \n",
    "        66,  50,  46,  5,  79, 99,  51,  26,  35,   8,  \n",
    "        34,  47,  64,  58,  61,  12,  30,  63,  20,  68\n",
    "    ]\n",
    ")\n",
    "\n",
    "## Diccionario con valores iniciales\n",
    "summarized_data = {'excellent': 0, \n",
    "                   'good': 0, \n",
    "                   'average': 0, \n",
    "                   'passable': 0,  \n",
    "                   'failed': 0\n",
    "                  }\n",
    "\n",
    "## Bucle para sumar a la lista  \n",
    "for grade in exam_results: \n",
    "    if grade >= 90:\n",
    "        summarized_data[\"excellent\"] +=1\n",
    "    elif grade >= 70:\n",
    "        summarized_data[\"good\"] +=1\n",
    "    elif grade >= 50:\n",
    "        summarized_data[\"average\"] +=1\n",
    "    elif grade >= 20:\n",
    "        summarized_data[\"passable\"] +=1\n",
    "    else: \n",
    "        summarized_data[\"failed\"] +=1\n",
    "        \n",
    "\n",
    "## Código para mostrar los resultados en pantalla.\n",
    "for result in summarized_data:\n",
    "    print(result, '-', summarized_data[result])"
   ]
  },
  {
   "cell_type": "markdown",
   "metadata": {},
   "source": [
    "### Binomial \n",
    "Describe la probabilidad discreta que describe el número de éxitos en una **secuencia de ensayos** independientes con dos resultados posibles, generalmente denominados ***éxito y fracaso***.\n",
    "\n",
    "Si la probabilidad de éxito es *𝑝*, la probabilidad de fracaso es $1−p$, ya que la suma de las probabilidades siempre es 1, es decir, 100%.\n",
    "\n",
    "Si solo se realiza un solo experimento, estamos ante una distribución sencilla o **experimento de Bernoulli**. La probabilidad en este tipo de distribuciones se determina multiplicando la probabilidaddes individuales de cada resultado. \n",
    "\n",
    "**Ejemplo 1**  \n",
    "Queremos calcular la probabilidad de la combinación de éxito-éxito-fracaso-fracaso-éxito (**en ese orden**),\n",
    "\n",
    "**Resultado 1**   \n",
    "Entendemos que éxito es p y fracaso es $1-p$. Por lo tanto: \n",
    "\n",
    "$p * p * (1-p) * (1-p) * p$ \n",
    "\n",
    "**Ejemplo 2**    \n",
    "Supongamos que en el 88% de las casos los usuarios hacen su primer clic en un banner publicitario, y en el 12% de los casos hacen clic en otro sitio y acaban en una página diferente. ¿Cuál es la probabilidad de que, de dos usuarios diferentes, uno haga clic en el banner y el otro no?   \n",
    "\n",
    "**Resultado 2**  \n",
    "Primer usuario, tiene la probabilidad de 88% y un 12% de no hacerlo, por lo tanto: \n",
    "\n",
    "$P=0.88*0.12=0.1056$\n",
    "\n",
    "si eso lo aplicamos al segundo usuario, entonces: \n",
    "\n",
    "$P=(0.88*0.12=0.1056)·2 = 0.2112 = 21.12\\%$"
   ]
  },
  {
   "cell_type": "markdown",
   "metadata": {},
   "source": [
    "Cuando realizamos **más de un experimento**, utilizamos la distribución binomial para calcular la probabilidad de obtener un número específico de éxitos en n pruebas. En este caso, debemos considerar todas las posibles formas en las que se pueden distribuir k éxitos entre n ensayos.\n",
    "\n",
    "Para calcular esta probabilidad, usamos la fórmula:\n",
    "\n",
    "$P= C k,n  ·  p^k ·  q^(n-k)$\n",
    "\n",
    "donde: \n",
    "\n",
    "- $C k,n$ es el número de combinaciones posibles de k éxitos en n ensayos.\n",
    "- $p^k$ es la probabilidad de obtener k éxitos.\n",
    "- $q^(n-k)$ es la probabilidad de obtener $n - k$ fracasos\n",
    "\n",
    "**Ejercicio 1**  \n",
    "Los portátiles de Pineapple son caros, pero siguen siendo populares entre los geeks de la informática: el 60% de los clientes están dispuestos a comprarse una computadora portátil de esta marca si acuden a la tienda. Los portátiles de Banana son más baratos, pero no tan populares: solo el 20% de los visitantes de la tienda están dispuestos a comprarlos.\n",
    "\n",
    "Supongamos que la tienda solo tiene a la venta equipos de Pineapple. ¿Cuál es la probabilidad de que 50 de cada 80 clientes realicen una compra en un día?"
   ]
  },
  {
   "cell_type": "code",
   "execution_count": 201,
   "metadata": {},
   "outputs": [
    {
     "name": "stdout",
     "output_type": "stream",
     "text": [
      "0.0826713508623046\n"
     ]
    }
   ],
   "source": [
    "p = 0.6 # la probabilidad de que un cliente realice una compra\n",
    "q = 0.4 # la probabilidad de que un cliente NO realice una compra\n",
    "n = 80  # el número total de visitantes\n",
    "k = 50  # el número de visitantes que esperamos que realicen una compra\n",
    "\n",
    "probability = factorial(n) / (factorial(k) * factorial(n-k)) * (p ** k) * (q ** (n-k))\n",
    "\n",
    "print(probability)"
   ]
  },
  {
   "cell_type": "markdown",
   "metadata": {},
   "source": [
    "La probabilidad de que exactamente 50 personas compren computadoras portátiles es ligeramente superior al 8%. Un  buen resultado para un producto caro. "
   ]
  },
  {
   "cell_type": "markdown",
   "metadata": {},
   "source": [
    "**Ejercicio 2**    \n",
    "Supongamos que, al lado de una tienda de hardware Pineapple, hay un gran centro comercial con otra tienda que vende computadoras Banana. 160 clientes visitan esa tienda durante el día. ¿Cuál es la probabilidad de que 50 de esos visitantes se compren una computadora portátil?\n",
    "\n",
    "Recuerda que solo el 20% de los usuarios están dispuestos a comprar un portátil de la marca Banana."
   ]
  },
  {
   "cell_type": "code",
   "execution_count": 202,
   "metadata": {},
   "outputs": [
    {
     "name": "stdout",
     "output_type": "stream",
     "text": [
      "0.00024035993375900262\n"
     ]
    }
   ],
   "source": [
    "p = 0.2 # la probabilidad de que un cliente realice una compra\n",
    "q = 0.8 # la probabilidad de que un cliente NO realice una compra\n",
    "n = 160# el número total de visitantes\n",
    "k = 50 # el número de visitantes que esperamos que realicen una compra\n",
    "\n",
    "probability = factorial(n) / (factorial(k) * factorial(n - k)) * (p**k) * (q**(n-k)) \n",
    "\n",
    "print(probability)"
   ]
  },
  {
   "cell_type": "markdown",
   "metadata": {},
   "source": [
    "La probabilidad de que compren este portatil es más de 300 veces menor que el ejemplo pasado. "
   ]
  },
  {
   "cell_type": "code",
   "execution_count": 203,
   "metadata": {},
   "outputs": [],
   "source": [
    "## Probabilidades\n",
    "probs= np.array([0.75, 0.25])\n",
    "\n",
    "## Opciones\n"
   ]
  },
  {
   "cell_type": "markdown",
   "metadata": {},
   "source": [
    "### Distribución uniforme\n",
    "Discreta\n",
    "\n",
    "Continua"
   ]
  },
  {
   "cell_type": "markdown",
   "metadata": {},
   "source": [
    "### Distribución binomial\n",
    "Es el experimento de Bernoiulli pero realizado con repeticiones\n"
   ]
  },
  {
   "cell_type": "markdown",
   "metadata": {},
   "source": [
    "### Distibución normal (Gaussiana)\n",
    "\n",
    "En Python es posible generar distribuciones normales con parámetros dados utilizando la función `stats.norm()`, con la librería SciPy. También estudiaremos los métodos `norm.cdf` y `norm.ppf`, que permiten: \n",
    "\n",
    "| Nombre| Sintaxis| Explicación\t| Ejemplo|\n",
    "| ---   | ---    | --- | --- |\n",
    "|La función de distribución acumulativa| `norm.cdf()`\t|Da la probabilidad de que una variable aleatoria sea menor o igual que un valor determinado |\t¿Cuál es la probabilidad de que un estudiante pueda aprender una nueva profesión por menos de 4 000 dólares?|\n",
    "|La función de punto porcentual| \t`norm.ppf()` | Da el valor de la variable aleatoria que corresponde a una determinada probabilidad|\t¿Cuál es el coste máximo de la formación para el 10% de los estudiantes que gastaron menos dinero en sus estudios?| "
   ]
  },
  {
   "cell_type": "code",
   "execution_count": 204,
   "metadata": {},
   "outputs": [
    {
     "name": "stdout",
     "output_type": "stream",
     "text": [
      "0.2524925375469229\n",
      "3077.6726516830995\n"
     ]
    }
   ],
   "source": [
    "## Importar el módulo stats.\n",
    "from scipy import stats as st\n",
    "\n",
    "#® Crear una distribuidos normal con una media de 5 000 y una desviación estándar de 1500.\n",
    "data = st.norm(5000, 1500)\n",
    "\n",
    "# Pregunta 1\n",
    "## Crear una variable para almacenar el coste deseado.\n",
    "desired_cost = 4000\n",
    "\n",
    "## Calcular la probabilidad de obtener el valor desired_cost.\n",
    "probability = data.cdf(desired_cost)\n",
    "\n",
    "print(probability)\n",
    "\n",
    "# Pregunta 2\n",
    "## Establecemos el valor de la probabilidad. Buscaremos el umbral del coste de los estudios \n",
    "# para el 10% de los estudiantes que gastaron menos dinero.\n",
    "target_level = 0.1\n",
    "\n",
    "## Encontramos el importe que no supere los gastos del 10% de estudiantes que gastaron menos dinero.\n",
    "cost = data.ppf(target_level)\n",
    "\n",
    "print(cost)"
   ]
  },
  {
   "cell_type": "markdown",
   "metadata": {},
   "source": [
    "Ejercicio\n",
    "La puntuación media en el examen del Certificado de análisis de datos es 1000 y la desviación estándar es 100. Hay que encontrar la probabilidad de obtener entre 900 y 1 100 puntos en el examen.\n",
    "\n",
    "¿Qué código se debe utilizar para ello?\n",
    "**R**: `st.norm(1000, 100).cdf(1100) - st.norm(1000, 100).cdf(900)`"
   ]
  },
  {
   "cell_type": "markdown",
   "metadata": {},
   "source": [
    "> El `cdf`siempre ira acompañado a la pregunta ¿cuá es la probabilidad?"
   ]
  },
  {
   "cell_type": "markdown",
   "metadata": {},
   "source": [
    "Encuentra la probabilidad de que en el próximo mes el sitio web del outlet tenga:\n",
    "\n",
    "menos de 92 000 visitantes;\n",
    "más de 111 000 visitantes."
   ]
  },
  {
   "cell_type": "code",
   "execution_count": 205,
   "metadata": {},
   "outputs": [
    {
     "name": "stdout",
     "output_type": "stream",
     "text": [
      "Probabilidad de que el número de visitantes sea superior a 111000: 0.0013498980316301035\n",
      "Probabilidad de que el número de visitantes sea inferior a 92000: 0.0075792194387197245\n"
     ]
    }
   ],
   "source": [
    "from scipy import stats as st\n",
    "\n",
    "mu = 100500\n",
    "sigma = 3500\n",
    "\n",
    "more_threshold = 111000\n",
    "fewer_threshold = 92000\n",
    "\n",
    "p_more_visitors = 1 - st.norm(mu, sigma).cdf(more_threshold)\n",
    "p_fewer_visitors = st.norm(mu, sigma).cdf(fewer_threshold)\n",
    "\n",
    "print(f'Probabilidad de que el número de visitantes sea superior a {more_threshold}: {p_more_visitors}')\n",
    "print(f'Probabilidad de que el número de visitantes sea inferior a {fewer_threshold}: {p_fewer_visitors}')"
   ]
  },
  {
   "cell_type": "markdown",
   "metadata": {},
   "source": [
    "> Si me dan la probabilidad entonces va de la mano del `ppf()`"
   ]
  },
  {
   "cell_type": "markdown",
   "metadata": {},
   "source": [
    "Fancy Pants, vende productos de regalo a un público muy limitado de clientes corporativos. Las ventas semanales en la tienda de conjuntos de ajedrez de lujo fabricados con colmillo de mamut tienen una distribución normal con una media de 420 y una desviación estándar de 65.\n",
    "\n",
    "El equipo de inventario está decidiendo cuántos conjuntos pedir. Quieren que la posibilidad de venderlos todos la próxima semana sea del 90%. ¿Cuántos deben pedir?"
   ]
  },
  {
   "cell_type": "code",
   "execution_count": 206,
   "metadata": {},
   "outputs": [
    {
     "name": "stdout",
     "output_type": "stream",
     "text": [
      "Cantidad de artículos a pedir: 336\n"
     ]
    }
   ],
   "source": [
    "from scipy import stats as st\n",
    "\n",
    "mu = 420\n",
    "sigma = 65\n",
    "prob = 0.9\n",
    "\n",
    "n_shipment = st.norm(mu, sigma).ppf(1 - prob)\n",
    "\n",
    "print('Cantidad de artículos a pedir:', int(n_shipment))"
   ]
  },
  {
   "cell_type": "markdown",
   "metadata": {},
   "source": [
    "### Combinación de las distribuciones binomiales y normales\n"
   ]
  },
  {
   "cell_type": "markdown",
   "metadata": {},
   "source": [
    "### Distribución de Poisson\n"
   ]
  },
  {
   "cell_type": "markdown",
   "metadata": {},
   "source": [
    "## Test estadísticos\n",
    "\n",
    "Los **tests de hipótesis** son métodos estadísticos utilizados para evaluar si una afirmación sobre un conjunto de datos es razonable o no. A través del análisis de los datos, se determina si hay suficiente evidencia para rechazar la hipótesis nula en favor de la alternativa, usando medidas como el valor p y un nivel de significancia predefinido (α).\n",
    "\n",
    "### Usos \n",
    "- **Investigación clínica**\n",
    "- **Pruebas A/B**\n",
    "- **Selección de características en ML**\n",
    "\n",
    "### Pasos \n",
    "1. **Definir la hipótesis nula y alternativa**. Se comienza con una hipótesis nula (H₀), que representa una afirmación de \"no efecto\" o \"no diferencia\", y una hipótesis alternativa (H₁), que sugiere lo contrario. \n",
    "2. **Elegir la prueba estadística adecuada**\n",
    "3. **Calcular el valor de (*p value*)**\n",
    "4. **Determinar la significancia estadística**\n",
    "\n",
    "### Pruebas estadísticas\n",
    "Existen diferentes tipos comunes de prueba estadísticas, entre ellas: \n",
    "\n",
    "- **T de student**\n",
    "- **Z test**\n",
    "- **Análisis de varianza (ANOVA)**\n",
    "- **Chi cuadrada**\n",
    "- "
   ]
  }
 ],
 "metadata": {
  "kernelspec": {
   "display_name": "Python 3",
   "language": "python",
   "name": "python3"
  },
  "language_info": {
   "codemirror_mode": {
    "name": "ipython",
    "version": 3
   },
   "file_extension": ".py",
   "mimetype": "text/x-python",
   "name": "python",
   "nbconvert_exporter": "python",
   "pygments_lexer": "ipython3",
   "version": "3.12.4"
  }
 },
 "nbformat": 4,
 "nbformat_minor": 2
}

{
 "cells": [
  {
   "cell_type": "markdown",
   "metadata": {},
   "source": [
    "# Python a fondo"
   ]
  },
  {
   "cell_type": "markdown",
   "metadata": {},
   "source": [
    "## Bucles sobre claves y valores\n",
    "\n",
    "Existen varias formas de acceder a los elementos de un diccionario. Es posible usar los métodos `keys()`, `values()` e `items()` para recorrer elementos específicos del diccionario.\n",
    "\n",
    "- `keys()`. Ver las claves del diccionario. \n",
    "- `values()`. Ver los valores del diccionario. \n",
    "- `items()`. Ver los pares (claves, valores) del diccionario."
   ]
  },
  {
   "cell_type": "code",
   "execution_count": 3,
   "metadata": {},
   "outputs": [
    {
     "name": "stdout",
     "output_type": "stream",
     "text": [
      "American Express\n",
      "Boeing\n",
      "Coca-Cola\n",
      "Walt Disney\n",
      "Nike\n",
      "JPMorgan\n",
      "Walmart\n",
      "93.23\n",
      "178.44\n",
      "45.15\n",
      "119.34\n",
      "97.99\n",
      "96.27\n",
      "130.68\n"
     ]
    }
   ],
   "source": [
    "## Definir diccionario \n",
    "financial_info = { \n",
    "\t\t\t\t  'American Express': 93.23,\n",
    "\t\t\t\t  'Boeing': 178.44, \n",
    "\t\t\t\t  'Coca-Cola': 45.15, \n",
    "\t\t\t\t  'Walt Disney': 119.34,\n",
    "\t\t\t\t  'Nike': 97.99, \n",
    "\t\t\t\t  'JPMorgan':96.27,\n",
    "\t\t\t\t  'Walmart': 130.68 \n",
    "\t\t\t\t  }\n",
    "\n"
   ]
  },
  {
   "cell_type": "markdown",
   "metadata": {},
   "source": [
    "Para ver las **claves** del diccionario, utilizamos el método `keys()`."
   ]
  },
  {
   "cell_type": "code",
   "execution_count": null,
   "metadata": {},
   "outputs": [],
   "source": [
    "## Bucle sobre claves\n",
    "for key in financial_info.keys():\n",
    "\tprint(key)"
   ]
  },
  {
   "cell_type": "markdown",
   "metadata": {},
   "source": [
    "Para ver los valores del diccionario, utilizamos el método `values()`."
   ]
  },
  {
   "cell_type": "code",
   "execution_count": null,
   "metadata": {},
   "outputs": [],
   "source": [
    "## Bucle sobre valores \n",
    "for value in financial_info.values():\n",
    "\tprint(value)"
   ]
  },
  {
   "cell_type": "markdown",
   "metadata": {},
   "source": [
    "Para ver los los pares (clave, valor) del diccionario, utilizamos el método `items()`. Puede ser útil cuando quieres iterar sobre los pares y realizar alguna operación en cada uno."
   ]
  },
  {
   "cell_type": "code",
   "execution_count": null,
   "metadata": {},
   "outputs": [],
   "source": [
    "financial_info = { \n",
    "\t\t\t\t  'American Express': 93.23,\n",
    "\t\t\t\t  'Boeing': 178.44, \n",
    "\t\t\t\t  'Coca-Cola': 45.15, \n",
    "\t\t\t\t  'Walt Disney': 119.34,\n",
    "\t\t\t\t  'Nike': 97.99, \n",
    "\t\t\t\t  'JPMorgan':96.27,\n",
    "\t\t\t\t  'Walmart': 130.68 \n",
    "\t\t\t\t  } \n",
    "for key, value in financial_info.items():\n",
    "\tprint(key, value)"
   ]
  },
  {
   "cell_type": "markdown",
   "metadata": {},
   "source": [
    "Puedes usar este truco para resolver todo tipo de problemas en los que tienes que hacer algo con cada elemento de un diccionario."
   ]
  },
  {
   "cell_type": "code",
   "execution_count": null,
   "metadata": {},
   "outputs": [],
   "source": [
    "## Definir el diccionario\n",
    "financial_info = {\n",
    "    'American Express': 93,\n",
    "    'Boeing': 178,\n",
    "    'Coca-Cola': 45,\n",
    "    'Walt Disney': 119,\n",
    "    'Nike': 97,\n",
    "    'JPMorgan': 96,\n",
    "    'Walmart': 130\n",
    "}\n",
    "\n",
    "total_value = 0 # el valor que actualizarás en cada iteración del bucle\n",
    "\n",
    "\n",
    "# Bucle for para sumar los valores de cada acción\n",
    "for value in financial_info.values(): \n",
    "    total_value += value  # Actualiza total_value en cada iteración\n",
    "\n",
    "print(\"El valor total de todas las acciones es:\", total_value)"
   ]
  },
  {
   "cell_type": "markdown",
   "metadata": {},
   "source": [
    "> Si utilizas el método `items()`, no olvides poner en el bucle la dupla `key` y `value`. "
   ]
  },
  {
   "cell_type": "markdown",
   "metadata": {},
   "source": [
    "## Estructuras de datos anidadas con diccionarios\n"
   ]
  }
 ],
 "metadata": {
  "kernelspec": {
   "display_name": "Python 3",
   "language": "python",
   "name": "python3"
  },
  "language_info": {
   "codemirror_mode": {
    "name": "ipython",
    "version": 3
   },
   "file_extension": ".py",
   "mimetype": "text/x-python",
   "name": "python",
   "nbconvert_exporter": "python",
   "pygments_lexer": "ipython3",
   "version": "3.12.4"
  }
 },
 "nbformat": 4,
 "nbformat_minor": 2
}

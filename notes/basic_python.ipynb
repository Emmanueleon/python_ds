{
 "cells": [
  {
   "cell_type": "markdown",
   "metadata": {},
   "source": [
    "# Notas Python básico \n",
    "\n",
    "## Introducción a Python\n",
    "---\n",
    "\n",
    "Python es un lenguaje de programación que ha revolucionado la manera en que los desarrolladores abordan la resolución de problemas en la era digital. Su popularidad no es casualidad; está impulsada por una combinación única de características que lo hacen accesible, poderoso y altamente versátil. \n",
    "\n",
    "### ¿Qué hace a Python tan especial?\n",
    "\n",
    "- **Sintaxis limpia y legible**: Python está diseñado con la simplicidad en mente. Su sintaxis es intuitiva y se asemeja al lenguaje humano, lo que no solo facilita el aprendizaje para principiantes, sino que también permite a los expertos desarrollar soluciones complejas con rapidez y precisión.\n",
    "\n",
    "- **Multipropósito y flexible**: Ya sea que estés construyendo aplicaciones web, analizando datos, creando algoritmos de inteligencia artificial, o automatizando tareas, Python te brinda las herramientas necesarias. Su capacidad para adaptarse a diferentes dominios lo convierte en un lenguaje verdaderamente multipropósito.\n",
    "\n",
    "- **Amplia comunidad y recursos**: Con una de las comunidades más grandes y activas en el mundo de la programación, Python ofrece un vasto ecosistema de bibliotecas, frameworks, y documentación. Esto significa que, independientemente del desafío, probablemente haya una solución existente o un recurso que te ayude a resolverlo.\n",
    "\n",
    "- **Portabilidad y rapidez en el desarrollo**: Como lenguaje interpretado, Python elimina la necesidad de compilación, lo que permite a los desarrolladores escribir y probar código de manera más ágil. Además, es multiplataforma, lo que garantiza que tus proyectos funcionen en distintos sistemas operativos sin necesidad de cambios significativos.\n",
    "\n",
    "- **Preferido en ciencia de datos e IA**: En el ámbito de la ciencia de datos, machine learning y deep learning, Python es el lenguaje de referencia. Herramientas como Pandas, NumPy, TensorFlow, y PyTorch han sido desarrolladas y optimizadas para Python, consolidando su posición en estos campos avanzados."
   ]
  },
  {
   "cell_type": "markdown",
   "metadata": {},
   "source": [
    "## Variables\n",
    "---\n",
    "\n",
    "En programación, una **variable** es una forma de almacenar y gestionar datos en la memoria de la computadora. Las variables permiten a los programadores guardar, modificar y recuperar valores durante la ejecución de un programa. Son una de las piedras angulares de la programación, ya que facilitan el manejo dinámico de información.\n",
    "\n",
    "### Conceptos claves sobre las variables \n",
    "\n",
    "- **Asignación de Valores**: Las variables se utilizan para asignar valores que pueden cambiar a lo largo del tiempo. En Python, esto se realiza mediante el operador de asignación `=`."
   ]
  },
  {
   "cell_type": "code",
   "execution_count": 9,
   "metadata": {},
   "outputs": [],
   "source": [
    "users = 6"
   ]
  },
  {
   "cell_type": "markdown",
   "metadata": {},
   "source": [
    "- **Nombres de Variables**: Los nombres de las variables deben seguir ciertas reglas:\n",
    "\n",
    "  1. Deben comenzar con una letra (a-z, A-Z) o un guion bajo (_).\n",
    "  2. Pueden incluir letras, números (0-9), y guiones bajos.\n",
    "  3. No pueden comenzar con un número y no deben coincidir con palabras reservadas del lenguaje."
   ]
  },
  {
   "cell_type": "code",
   "execution_count": 10,
   "metadata": {},
   "outputs": [
    {
     "ename": "SyntaxError",
     "evalue": "invalid decimal literal (951965779.py, line 7)",
     "output_type": "error",
     "traceback": [
      "\u001b[0;36m  Cell \u001b[0;32mIn[10], line 7\u001b[0;36m\u001b[0m\n\u001b[0;31m    2edad = 30      # Empieza con un número\u001b[0m\n\u001b[0m    ^\u001b[0m\n\u001b[0;31mSyntaxError\u001b[0m\u001b[0;31m:\u001b[0m invalid decimal literal\n"
     ]
    }
   ],
   "source": [
    "## Ejemplos válidos\n",
    "temperatura = 22.5\n",
    "cantidad_items = 10\n",
    "_nombre_completo = \"Lucero Pilli\"\n",
    "\n",
    "## Ejemplos inválidos\n",
    "2edad = 30      # Empieza con un número\n",
    "nombre completo = \"Carlos\"  # Contiene un espacio"
   ]
  },
  {
   "cell_type": "markdown",
   "metadata": {},
   "source": [
    "- **Modificación y Uso**: Una vez que una variable ha sido definida, puedes cambiar su valor en cualquier momento. Esto permite a los programas ser flexibles y adaptarse a nuevas condiciones o datos. Además, puedes utilizar variables en expresiones y operaciones."
   ]
  },
  {
   "cell_type": "code",
   "execution_count": null,
   "metadata": {},
   "outputs": [],
   "source": [
    "edad = 25\n",
    "edad = edad + 1  # Incrementa el valor de edad en 1"
   ]
  },
  {
   "cell_type": "markdown",
   "metadata": {},
   "source": [
    "## Función print()\n",
    "---\n",
    "\n",
    "La función `print()` es una de las funciones más básicas y útiles en Python. Se utiliza para mostrar información en la consola o salida estándar, lo que permite a los programadores ver los resultados de sus operaciones y depurar su código.\n",
    "\n",
    "### ¿Cómo se Utiliza?\n",
    "\n",
    "La función toma uno o más argumentos y los muestra en la salida estándar. Puedes pasarle varios tipos de datos, incluyendo cadenas de texto, números, listas, y otros objetos. La sintaxis básica es la siguiente:"
   ]
  },
  {
   "cell_type": "code",
   "execution_count": null,
   "metadata": {},
   "outputs": [
    {
     "name": "stdout",
     "output_type": "stream",
     "text": [
      "6\n",
      "El número de usuarios es  6\n"
     ]
    }
   ],
   "source": [
    "## Un solo llamado \n",
    "print(users)\n",
    "\n",
    "## Varios datos\n",
    "print(\"El número de usuarios es: \",users)"
   ]
  },
  {
   "cell_type": "markdown",
   "metadata": {},
   "source": [
    "## Operaciones aritméticas\n",
    "---\n",
    "\n",
    "Python ofrece una serie de operadores aritméticos que permiten realizar cálculos matemáticos básicos y avanzados. Estos operadores trabajan con números enteros (`int`) y números decimales (`float`), facilitando una amplia gama de operaciones matemáticas.\n",
    "\n",
    "El orden en que se realizan las operaciones aritméticas en Python sigue las reglas estándar de la matemática. Este orden determina cómo se evalúan las expresiones y garantiza que los cálculos se realicen de manera consistente.   \n",
    "\n",
    "En Python, las operaciones aritméticas se ejecutan siguiendo una jerarquía de prioridades, conocida como **precedencia de operadores**.\n",
    "\n",
    "1. Paréntesis `()`  \n",
    "2. Exponentiación `**`  \n",
    "3. Multiplicación `*`, división `/`, división entera `//` y módulo `%`   \n",
    "4. Suma `+` y resta `-`  "
   ]
  },
  {
   "cell_type": "code",
   "execution_count": null,
   "metadata": {},
   "outputs": [
    {
     "name": "stdout",
     "output_type": "stream",
     "text": [
      "9\n",
      "1\n",
      "20\n",
      "1.25\n",
      "1\n",
      "1\n"
     ]
    }
   ],
   "source": [
    "print(4 + 5)\n",
    "print(5 - 4)\n",
    "print(5 * 4)\n",
    "print(5/4)\n",
    "print(5//4)\n",
    "print(5 % 4)"
   ]
  },
  {
   "cell_type": "markdown",
   "metadata": {},
   "source": [
    "## Tipos de datos\n",
    "---\n",
    "Las variables pueden almacenar diferentes **tipos de datos** que determinan el tipo de valor que una variable puede almacenar y cómo se puede manipular ese valor. Python es un lenguaje de tipado dinámico, lo que significa que no necesitas especificar el tipo de dato al declarar una variable. Python lo determina automáticamente según el valor asignado.\n",
    "\n",
    "Existen 4 tipos de datos basicos: \n",
    "1. **Números enteros (`int`)**. Representan números enteros, positivos o negativos, sin decimales.\n",
    "\n",
    "2. **Números decimales (`float`)**. Representan números con parte decimal.\n",
    "3. **Cadenas de texto o strings (`str`)**. Representan secuencias de caracteres. Se definen usando comillas simples (') o dobles (\").\n",
    "4. **Valores booleanos (`bool`)**. Representan valores de verdad, `True` o `False`."
   ]
  },
  {
   "cell_type": "code",
   "execution_count": null,
   "metadata": {},
   "outputs": [
    {
     "name": "stdout",
     "output_type": "stream",
     "text": [
      "<class 'int'>\n",
      "<class 'float'>\n",
      "<class 'str'>\n",
      "<class 'bool'>\n"
     ]
    }
   ],
   "source": [
    "## Tipos de datos básicos\n",
    "number = 5\n",
    "decimales = 5.23 \n",
    "cadena = \"Hola mundo\"\n",
    "veracidad = True\n",
    "\n",
    "print(type(number))\n",
    "print(type(decimales))\n",
    "print(type(cadena))\n",
    "print(type(veracidad))"
   ]
  },
  {
   "cell_type": "markdown",
   "metadata": {},
   "source": [
    "Tipos de Datos Compuestos\n",
    "Listas (list): Colecciones ordenadas de elementos, que pueden ser de diferentes tipos. Las listas son mutables, lo que significa que sus elementos pueden ser modificados.\n",
    "\n",
    "python\n",
    "Copiar código\n",
    "lista = [1, 2, 3, \"cuatro\", 5.0]\n",
    "Tuplas (tuple): Colecciones ordenadas de elementos similares a las listas, pero inmutables. Una vez creadas, sus elementos no pueden ser modificados.\n",
    "\n",
    "python\n",
    "Copiar código\n",
    "tupla = (1, 2, 3, \"cuatro\", 5.0)\n",
    "Conjuntos (set): Colecciones desordenadas de elementos únicos. Los conjuntos no permiten duplicados.\n",
    "\n",
    "python\n",
    "Copiar código\n",
    "conjunto = {1, 2, 3, 4, 5}\n",
    "Diccionarios (dict): Colecciones desordenadas de pares clave-valor. Cada clave debe ser única, y los valores pueden ser de cualquier tipo.\n",
    "\n",
    "python\n",
    "Copiar código\n",
    "diccionario = {\"nombre\": \"Ana\", \"edad\": 30, \"ciudad\": \"Madrid\"}"
   ]
  },
  {
   "cell_type": "markdown",
   "metadata": {},
   "source": [
    "## Conversión de datos\n",
    "---\n",
    "\n",
    "La conversión de tipos de datos en Python es un proceso que permite transformar un valor de un tipo de dato a otro. Esta capacidad es fundamental cuando se necesita adaptar datos a diferentes formatos para realizar operaciones específicas. Python proporciona varias funciones integradas para llevar a cabo estas conversiones.\n",
    "\n",
    "### Funciones de Conversión de Tipos\n",
    "- **A enteros**. Convierte un valor a un entero (`int`). Si el valor es una cadena que representa un número entero, o un número decimal, se convierte a un entero. En el caso de los números decimales, **se trunca la parte decimal**.\n",
    "\n",
    "- **A flotantes**. Convierte un valor a un número decimal (`float`). Esta función puede convertir tanto enteros como cadenas que representan números decimales.\n",
    "\n",
    "- **A strings**. Convierte un valor a una cadena de texto (`str`). Esta función es útil para convertir cualquier tipo de dato a una representación textual.\n",
    "\n",
    "- **A lista**. Convierte un valor a una lista (`list`). Esto es especialmente útil para convertir otros tipos de secuencias o iterables en listas."
   ]
  },
  {
   "cell_type": "code",
   "execution_count": null,
   "metadata": {},
   "outputs": [
    {
     "name": "stdout",
     "output_type": "stream",
     "text": [
      "String a entero:  24\n",
      "Decimal a entero:  3\n",
      "Entero a flotante:  2.0\n",
      "String a flotante:  19.24\n",
      "Entero a string:  2\n",
      "Decimal a string:  3.14\n",
      "['1', '9', '.', '2', '4']\n"
     ]
    }
   ],
   "source": [
    "## Variables\n",
    "numero_entero = 2\n",
    "numero_decimal = 3.14\n",
    "numero_string = \"24\"\n",
    "numero_decimal_string = \"19.24\"\n",
    "\n",
    "## A entero\n",
    "print(\"String a entero: \", int(numero_string))\n",
    "print(\"Decimal a entero: \", int(numero_decimal)) \n",
    "\n",
    "## A flotantes\n",
    "print(\"Entero a flotante: \", float(numero_entero))\n",
    "print(\"String a flotante: \", float(numero_decimal_string))\n",
    "\n",
    "## A strings a enteros\n",
    "print(\"Entero a string: \", str(numero_entero))\n",
    "print(\"Decimal a string: \", str(numero_decimal))\n",
    "\n",
    "## A lista \n",
    "print(list(numero_decimal_string))"
   ]
  },
  {
   "cell_type": "markdown",
   "metadata": {},
   "source": [
    "### Conversiones inválidas\n",
    "Aunque Python ofrece una gran flexibilidad en la conversión de tipos de datos, hay algunas conversiones que no se pueden realizar directamente porque los tipos de datos involucrados no son compatibles. Intentar realizar estas conversiones producirá un error, generalmente un `TypeError` o `ValueError`.\n",
    "\n",
    "1. **Conversión de una Cadena de Texto No Numérica a Entero o Decimal**. Si intentas convertir una cadena que no representa un número válido en un entero (`int`) o un número decimal (`float`), Python generará un `ValueError`.  \n",
    "\n",
    "2. **Conversión de una Lista o Conjunto a un Entero o Decimal**. Las listas y conjuntos son colecciones de elementos y no pueden ser convertidos directamente en un número entero o decimal. Intentar hacerlo producirá un `TypeError`."
   ]
  },
  {
   "cell_type": "code",
   "execution_count": null,
   "metadata": {},
   "outputs": [
    {
     "ename": "ValueError",
     "evalue": "invalid literal for int() with base 10: 'Hola mundo'",
     "output_type": "error",
     "traceback": [
      "\u001b[0;31m---------------------------------------------------------------------------\u001b[0m",
      "\u001b[0;31mValueError\u001b[0m                                Traceback (most recent call last)",
      "Cell \u001b[0;32mIn[17], line 2\u001b[0m\n\u001b[1;32m      1\u001b[0m \u001b[39m## Conversión de strings a números\u001b[39;00m\n\u001b[0;32m----> 2\u001b[0m \u001b[39mprint\u001b[39m(\u001b[39mint\u001b[39;49m(\u001b[39m\"\u001b[39;49m\u001b[39mHola mundo\u001b[39;49m\u001b[39m\"\u001b[39;49m))\n",
      "\u001b[0;31mValueError\u001b[0m: invalid literal for int() with base 10: 'Hola mundo'"
     ]
    }
   ],
   "source": [
    "## Conversión de strings a números\n",
    "print(int(\"Hola mundo\"))\n",
    "\n",
    "## Conversión de lista a número \n",
    "print(int([1, 2, 3]))"
   ]
  },
  {
   "cell_type": "markdown",
   "metadata": {},
   "source": [
    "En estos caso Python marca que existe un error. "
   ]
  },
  {
   "cell_type": "markdown",
   "metadata": {},
   "source": [
    "## Mensajes de error\n",
    "---\n",
    "\n",
    "Los **mensajes de error** en Python son herramientas cruciales para los desarrolladores. Cuando algo no funciona correctamente en tu código, Python genera un mensaje de error que describe el problema. Aprender a interpretar estos mensajes es esencial para depurar y corregir tu código de manera eficiente.\n",
    "\n",
    "### Tipos de errores comúnes\n",
    "\n",
    "1.  **Sintaxis incorrecta`SyntaxError`**. Este error ocurre cuando el código no sigue las reglas de la sintaxis de Python. Es el tipo de error más básico y generalmente es fácil de identificar. \n",
    "    \n",
    "2. **Referencia inválida `NameError`**: Este error se produce cuando se intenta utilizar una variable o función que no ha sido definida.\n",
    "\n",
    "3.  **Incompatibilidad `TypeError`** Se genera cuando se intenta realizar una operación en un tipo de dato no compatible.\n",
    "   \n",
    "4.  **Argumento incorrecto `ValueError`**. Este error ocurre cuando una función recibe un argumento con el tipo correcto, pero un valor inapropiado.\n",
    "   \n",
    "5. **Acceso incorrecto `IndexError`**. Ocurre cuando se intenta acceder a un índice que está fuera del rango de una lista, tupla u otro tipo de secuencia. \n",
    "\n",
    "6. **Clave incorrecta `KeyError`**. Este error se produce cuando se intenta acceder a una clave que no existe en un diccionario.\n",
    "\n",
    "7. **Atributo incorrecto `AtributeError`**. Se genera cuando se intenta acceder a un atributo o método que no existe en un objeto.\n",
    "\n",
    "8. **Problemas importación `ImportError` y `ModuleNotFoundError`**. Estos errores ocurren cuando un módulo no puede ser importado, ya sea porque no existe o porque hay un error en el nombre del módulo.\n",
    "\n",
    "9. **Operaciones prohibidas `ZeroDivisionError`**. Intentar cualquier operación imposible como dividir cualquier número por cero es una operación matemáticamente inválida. "
   ]
  },
  {
   "cell_type": "code",
   "execution_count": null,
   "metadata": {},
   "outputs": [
    {
     "ename": "SyntaxError",
     "evalue": "incomplete input (3367145748.py, line 7)",
     "output_type": "error",
     "traceback": [
      "\u001b[0;36m  Cell \u001b[0;32mIn[8], line 7\u001b[0;36m\u001b[0m\n\u001b[0;31m    # print(carenas)\u001b[0m\n\u001b[0m                    ^\u001b[0m\n\u001b[0;31mSyntaxError\u001b[0m\u001b[0;31m:\u001b[0m incomplete input\n"
     ]
    }
   ],
   "source": [
    "## Sintaxis incorrecta\n",
    "print(\"Hola mundo\""
   ]
  },
  {
   "cell_type": "code",
   "execution_count": null,
   "metadata": {},
   "outputs": [
    {
     "ename": "NameError",
     "evalue": "name 'cadenas' is not defined",
     "output_type": "error",
     "traceback": [
      "\u001b[0;31m---------------------------------------------------------------------------\u001b[0m",
      "\u001b[0;31mNameError\u001b[0m                                 Traceback (most recent call last)",
      "Cell \u001b[0;32mIn[3], line 3\u001b[0m\n\u001b[1;32m      1\u001b[0m \u001b[38;5;66;03m## Referencia inválida\u001b[39;00m\n\u001b[1;32m      2\u001b[0m cadena \u001b[38;5;241m=\u001b[39m \u001b[38;5;241m345\u001b[39m\n\u001b[0;32m----> 3\u001b[0m \u001b[38;5;28mprint\u001b[39m(\u001b[43mcadenas\u001b[49m)\n",
      "\u001b[0;31mNameError\u001b[0m: name 'cadenas' is not defined"
     ]
    }
   ],
   "source": [
    "## Referencia inválida\n",
    "cadena = 345\n",
    "print(cadenas)"
   ]
  },
  {
   "cell_type": "code",
   "execution_count": null,
   "metadata": {},
   "outputs": [
    {
     "ename": "TypeError",
     "evalue": "can only concatenate str (not \"int\") to str",
     "output_type": "error",
     "traceback": [
      "\u001b[0;31m---------------------------------------------------------------------------\u001b[0m",
      "\u001b[0;31mTypeError\u001b[0m                                 Traceback (most recent call last)",
      "Cell \u001b[0;32mIn[4], line 2\u001b[0m\n\u001b[1;32m      1\u001b[0m \u001b[38;5;66;03m## Incompatibilidad\u001b[39;00m\n\u001b[0;32m----> 2\u001b[0m suma \u001b[38;5;241m=\u001b[39m \u001b[38;5;124;43m\"\u001b[39;49m\u001b[38;5;124;43mhola\u001b[39;49m\u001b[38;5;124;43m\"\u001b[39;49m\u001b[43m \u001b[49m\u001b[38;5;241;43m+\u001b[39;49m\u001b[43m \u001b[49m\u001b[38;5;241;43m5\u001b[39;49m\n\u001b[1;32m      3\u001b[0m \u001b[38;5;28mprint\u001b[39m(suma)\n",
      "\u001b[0;31mTypeError\u001b[0m: can only concatenate str (not \"int\") to str"
     ]
    }
   ],
   "source": [
    "## Incompatibilidad\n",
    "suma = \"hola\" + 5\n",
    "print(suma)"
   ]
  },
  {
   "cell_type": "code",
   "execution_count": null,
   "metadata": {},
   "outputs": [
    {
     "ename": "ValueError",
     "evalue": "invalid literal for int() with base 10: 'Python'",
     "output_type": "error",
     "traceback": [
      "\u001b[0;31m---------------------------------------------------------------------------\u001b[0m",
      "\u001b[0;31mValueError\u001b[0m                                Traceback (most recent call last)",
      "Cell \u001b[0;32mIn[5], line 2\u001b[0m\n\u001b[1;32m      1\u001b[0m \u001b[38;5;66;03m## Argumento incorrecto\u001b[39;00m\n\u001b[0;32m----> 2\u001b[0m numero \u001b[38;5;241m=\u001b[39m \u001b[38;5;28;43mint\u001b[39;49m\u001b[43m(\u001b[49m\u001b[38;5;124;43m\"\u001b[39;49m\u001b[38;5;124;43mPython\u001b[39;49m\u001b[38;5;124;43m\"\u001b[39;49m\u001b[43m)\u001b[49m\n",
      "\u001b[0;31mValueError\u001b[0m: invalid literal for int() with base 10: 'Python'"
     ]
    }
   ],
   "source": [
    "## Argumento incorrecto\n",
    "numero = int(\"Python\")"
   ]
  },
  {
   "cell_type": "code",
   "execution_count": null,
   "metadata": {},
   "outputs": [
    {
     "ename": "IndexError",
     "evalue": "list index out of range",
     "output_type": "error",
     "traceback": [
      "\u001b[0;31m---------------------------------------------------------------------------\u001b[0m",
      "\u001b[0;31mIndexError\u001b[0m                                Traceback (most recent call last)",
      "Cell \u001b[0;32mIn[6], line 3\u001b[0m\n\u001b[1;32m      1\u001b[0m \u001b[38;5;66;03m## Indice incorrecto \u001b[39;00m\n\u001b[1;32m      2\u001b[0m lista \u001b[38;5;241m=\u001b[39m [\u001b[38;5;241m1\u001b[39m, \u001b[38;5;241m2\u001b[39m, \u001b[38;5;241m3\u001b[39m]\n\u001b[0;32m----> 3\u001b[0m \u001b[38;5;28mprint\u001b[39m(\u001b[43mlista\u001b[49m\u001b[43m[\u001b[49m\u001b[38;5;241;43m5\u001b[39;49m\u001b[43m]\u001b[49m)\n",
      "\u001b[0;31mIndexError\u001b[0m: list index out of range"
     ]
    }
   ],
   "source": [
    "## Indice incorrecto \n",
    "lista = [1, 2, 3]\n",
    "print(lista[5])"
   ]
  },
  {
   "cell_type": "code",
   "execution_count": null,
   "metadata": {},
   "outputs": [],
   "source": [
    "## Clave incorrecta\n",
    "diccionario = {\"a\": 1, \"b\": 2}\n",
    "print(diccionario[\"c\"])"
   ]
  },
  {
   "cell_type": "code",
   "execution_count": null,
   "metadata": {},
   "outputs": [
    {
     "ename": "AttributeError",
     "evalue": "'list' object has no attribute 'push'",
     "output_type": "error",
     "traceback": [
      "\u001b[0;31m---------------------------------------------------------------------------\u001b[0m",
      "\u001b[0;31mAttributeError\u001b[0m                            Traceback (most recent call last)",
      "Cell \u001b[0;32mIn[7], line 4\u001b[0m\n\u001b[1;32m      2\u001b[0m lista \u001b[38;5;241m=\u001b[39m [\u001b[38;5;241m1\u001b[39m, \u001b[38;5;241m2\u001b[39m, \u001b[38;5;241m3\u001b[39m]\n\u001b[1;32m      3\u001b[0m lista\u001b[38;5;241m.\u001b[39mappend(\u001b[38;5;241m4\u001b[39m)\n\u001b[0;32m----> 4\u001b[0m \u001b[43mlista\u001b[49m\u001b[38;5;241;43m.\u001b[39;49m\u001b[43mpush\u001b[49m(\u001b[38;5;241m5\u001b[39m) \n",
      "\u001b[0;31mAttributeError\u001b[0m: 'list' object has no attribute 'push'"
     ]
    }
   ],
   "source": [
    "## Atributo incorrecto\n",
    "lista = [1, 2, 3]\n",
    "lista.append(4)\n",
    "lista.push(5) "
   ]
  },
  {
   "cell_type": "code",
   "execution_count": null,
   "metadata": {},
   "outputs": [
    {
     "ename": "ModuleNotFoundError",
     "evalue": "No module named 'mathh'",
     "output_type": "error",
     "traceback": [
      "\u001b[0;31m---------------------------------------------------------------------------\u001b[0m",
      "\u001b[0;31mModuleNotFoundError\u001b[0m                       Traceback (most recent call last)",
      "Cell \u001b[0;32mIn[8], line 1\u001b[0m\n\u001b[0;32m----> 1\u001b[0m \u001b[38;5;28;01mimport\u001b[39;00m \u001b[38;5;21;01mmathh\u001b[39;00m\n",
      "\u001b[0;31mModuleNotFoundError\u001b[0m: No module named 'mathh'"
     ]
    }
   ],
   "source": [
    "## Importación incorrecta\n",
    "import mathh"
   ]
  },
  {
   "cell_type": "code",
   "execution_count": 11,
   "metadata": {},
   "outputs": [
    {
     "ename": "ZeroDivisionError",
     "evalue": "division by zero",
     "output_type": "error",
     "traceback": [
      "\u001b[0;31m---------------------------------------------------------------------------\u001b[0m",
      "\u001b[0;31mZeroDivisionError\u001b[0m                         Traceback (most recent call last)",
      "Cell \u001b[0;32mIn[11], line 2\u001b[0m\n\u001b[1;32m      1\u001b[0m \u001b[38;5;66;03m## Operaciones prohibidas\u001b[39;00m\n\u001b[0;32m----> 2\u001b[0m \u001b[38;5;28mprint\u001b[39m(\u001b[38;5;241;43m10\u001b[39;49m\u001b[38;5;241;43m/\u001b[39;49m\u001b[38;5;241;43m0\u001b[39;49m)\n",
      "\u001b[0;31mZeroDivisionError\u001b[0m: division by zero"
     ]
    }
   ],
   "source": [
    "## Operaciones prohibidas\n",
    "print(10/0)"
   ]
  },
  {
   "cell_type": "markdown",
   "metadata": {},
   "source": [
    "### Manejo de errores\n",
    "Cuando se trabaja con Python, es inevitable encontrarse con errores. Sin embargo, Python ofrece una manera de manejar estos errores de forma controlada mediante el uso de bloques `try` y `except`. Esto permite que tu programa continúe ejecutándose incluso cuando se produce un error, en lugar de detenerse abruptamente.\n",
    "\n",
    "Un bloque `try` es una sección de código en la que Python \"intentará\" ejecutar las instrucciones que se encuentran dentro de él. Si se produce un error en alguna de estas instrucciones, Python \"captura\" el error y pasa el control al bloque `except`, donde puedes definir qué hacer en caso de que ocurra ese error."
   ]
  },
  {
   "cell_type": "code",
   "execution_count": 12,
   "metadata": {},
   "outputs": [
    {
     "name": "stdout",
     "output_type": "stream",
     "text": [
      "No se puede dividir por cero\n"
     ]
    }
   ],
   "source": [
    "### Sintaxis Básica\n",
    "\n",
    "try:\n",
    "    # Código que podría generar un error\n",
    "    resultado = 10 / 0\n",
    "\n",
    "except ZeroDivisionError:\n",
    "    # Código que se ejecuta si ocurre el error\n",
    "    print(\"No se puede dividir por cero\")"
   ]
  },
  {
   "cell_type": "markdown",
   "metadata": {},
   "source": [
    "## Strings \n",
    "---\n",
    "\n",
    "Algunos de los métodos utilizados para trabajar con cadenas incluyen: \n",
    "- `len()`\n",
    "- \n",
    "\n",
    "## Longitud de la cadena\n",
    "print(len(cadena))\n",
    "\n",
    "## Caracteres de escape\n",
    "\n",
    "\n",
    "## Strings de varias líneas\n",
    "nombre = \"Soy Emmanuel\"\n",
    "\n",
    "print(cadena + \" \" + nombre)\n",
    "\n",
    "## Formatear strings\n",
    "\n",
    "\n",
    "## Uso de índices \n",
    "### Indexación normal, comienza de izquierda a derecha desde 0\n",
    "print(nombre[2])\n",
    "\n",
    "print(nombre[ :4])\n",
    "\n",
    "### Indexación negativa, empieza de derecha a izquierda desde -1\n",
    "print(nombre[-1])\n",
    "print(nombre[-len(nombre): ])\n",
    "\n",
    "\n",
    "## Procesamiento mediante métodos especiales\n",
    "\n",
    "\n",
    "## Métodos \n",
    "strings_prueba = \" Strings De Prueba \"\n",
    "\n",
    "print(strings_prueba.upper())\n",
    "print(strings_prueba.lower())\n",
    "print(strings_prueba.replace(\"De\", \"de\"))\n",
    "print(len(strings_prueba))\n",
    "print(len(strings_prueba.strip()))  # Remueve los espacios antes y después del string"
   ]
  },
  {
   "cell_type": "markdown",
   "metadata": {},
   "source": [
    "## Listas"
   ]
  },
  {
   "cell_type": "markdown",
   "metadata": {},
   "source": [
    "## Bucles"
   ]
  },
  {
   "cell_type": "markdown",
   "metadata": {},
   "source": [
    "## Sentencias condicionales"
   ]
  }
 ],
 "metadata": {
  "kernelspec": {
   "display_name": "Python 3",
   "language": "python",
   "name": "python3"
  },
  "language_info": {
   "codemirror_mode": {
    "name": "ipython",
    "version": 3
   },
   "file_extension": ".py",
   "mimetype": "text/x-python",
   "name": "python",
   "nbconvert_exporter": "python",
   "pygments_lexer": "ipython3",
   "version": "3.12.4"
  }
 },
 "nbformat": 4,
 "nbformat_minor": 2
}

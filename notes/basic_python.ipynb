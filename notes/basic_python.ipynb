{
 "cells": [
  {
   "cell_type": "markdown",
   "metadata": {},
   "source": [
    "# Notas Python básico \n",
    "\n",
    "## Variables\n",
    "Las variables en python se asignan mediante el operador `=`"
   ]
  },
  {
   "cell_type": "code",
   "execution_count": 1,
   "metadata": {},
   "outputs": [],
   "source": [
    "users = 6"
   ]
  },
  {
   "cell_type": "markdown",
   "metadata": {},
   "source": [
    "## Función `print()`\n",
    "Una de las funciones más útiles en python es `print()` que similar que en R me permite ir evaluando mis resultados"
   ]
  },
  {
   "cell_type": "code",
   "execution_count": 2,
   "metadata": {},
   "outputs": [
    {
     "name": "stdout",
     "output_type": "stream",
     "text": [
      "6\n"
     ]
    }
   ],
   "source": [
    "print(users)"
   ]
  },
  {
   "cell_type": "markdown",
   "metadata": {},
   "source": [
    "## Operaciones aritméticas\n",
    "En Python similar a otros lenguajes de priogramación permite realizar operaciones aritméticas, siempre respetando el orden de las operaciones"
   ]
  },
  {
   "cell_type": "code",
   "execution_count": 3,
   "metadata": {},
   "outputs": [
    {
     "name": "stdout",
     "output_type": "stream",
     "text": [
      "9\n",
      "1\n",
      "20\n",
      "1.25\n",
      "1\n"
     ]
    }
   ],
   "source": [
    "print(4 + 5)\n",
    "print(5 - 4)\n",
    "print(5 * 4)\n",
    "print(5/4)\n",
    "print(5 % 4)"
   ]
  },
  {
   "cell_type": "markdown",
   "metadata": {},
   "source": [
    "## Tipos de datos\n",
    "En python existen 4 tipos de datos basicos: \n",
    "1. Cadenas de caracteres o strings `str`.\n",
    "2. Números enteros `int`.\n",
    "3. Números decimales `float`.\n",
    "4. Valores booleanos `bool`. "
   ]
  },
  {
   "cell_type": "code",
   "execution_count": 4,
   "metadata": {},
   "outputs": [
    {
     "name": "stdout",
     "output_type": "stream",
     "text": [
      "<class 'int'>\n",
      "<class 'float'>\n",
      "<class 'str'>\n",
      "<class 'bool'>\n"
     ]
    }
   ],
   "source": [
    "## Tipos de datos básicos\n",
    "number = 5\n",
    "decimales = 5.23 \n",
    "cadena = \"Hola mundo\"\n",
    "veracidad = True\n",
    "\n",
    "print(type(number))\n",
    "print(type(decimales))\n",
    "print(type(cadena))\n",
    "print(type(veracidad))"
   ]
  },
  {
   "cell_type": "markdown",
   "metadata": {},
   "source": [
    "## Conversión de datos\n",
    "\n",
    "- Flotantes a enteros\n",
    "Cambio de número decimales a enteros. Este cambio hace que se **pierdan** decimales print(int(decimales)).\n",
    "\n",
    "- Strings a enteros\n",
    "Cambio de string a un número entero. "
   ]
  },
  {
   "cell_type": "code",
   "execution_count": 5,
   "metadata": {},
   "outputs": [
    {
     "name": "stdout",
     "output_type": "stream",
     "text": [
      "5\n",
      "5.2\n"
     ]
    }
   ],
   "source": [
    "## Flotantes a enteros \n",
    "print(int(decimales))\n",
    "\n",
    "## Strings a enteros\n",
    "print(int(\"5\"))\n",
    "print(str(5.2))"
   ]
  },
  {
   "cell_type": "markdown",
   "metadata": {},
   "source": [
    "En algunas ocasiones queremos convertir tipos de datos que son imposibles de convertir por ejemplo convertir strings en números. "
   ]
  },
  {
   "cell_type": "code",
   "execution_count": 6,
   "metadata": {},
   "outputs": [
    {
     "ename": "ValueError",
     "evalue": "invalid literal for int() with base 10: 'Hola mundo'",
     "output_type": "error",
     "traceback": [
      "\u001b[0;31m---------------------------------------------------------------------------\u001b[0m",
      "\u001b[0;31mValueError\u001b[0m                                Traceback (most recent call last)",
      "Cell \u001b[0;32mIn[6], line 2\u001b[0m\n\u001b[1;32m      1\u001b[0m \u001b[39m## Conversión de strings a números\u001b[39;00m\n\u001b[0;32m----> 2\u001b[0m \u001b[39mprint\u001b[39m(\u001b[39mint\u001b[39;49m(\u001b[39m\"\u001b[39;49m\u001b[39mHola mundo\u001b[39;49m\u001b[39m\"\u001b[39;49m))\n\u001b[1;32m      4\u001b[0m \u001b[39m## Conversión de números a flotantes\u001b[39;00m\n\u001b[1;32m      5\u001b[0m \u001b[39mprint\u001b[39m(\u001b[39mfloat\u001b[39m(\u001b[39m5\u001b[39m))\n",
      "\u001b[0;31mValueError\u001b[0m: invalid literal for int() with base 10: 'Hola mundo'"
     ]
    }
   ],
   "source": [
    "## Conversión de strings a números\n",
    "print(int(\"Hola mundo\"))\n"
   ]
  },
  {
   "cell_type": "markdown",
   "metadata": {},
   "source": [
    "En estos caso Python marca que existe un error. "
   ]
  },
  {
   "cell_type": "markdown",
   "metadata": {},
   "source": [
    "## Mensajes de error\n",
    "Python tiene un sistema de mensajes de error indicando en la terminal el tipo de error y el lugar donde se encuentra el error. Dentro de los mensajes de error se incluyen : \n",
    "\n",
    "- Sintaxis incorrecta \n",
    "- Operaciones prohibidas\n",
    "- Referencia inválida"
   ]
  },
  {
   "cell_type": "code",
   "execution_count": 8,
   "metadata": {},
   "outputs": [
    {
     "ename": "SyntaxError",
     "evalue": "incomplete input (3367145748.py, line 7)",
     "output_type": "error",
     "traceback": [
      "\u001b[0;36m  Cell \u001b[0;32mIn[8], line 7\u001b[0;36m\u001b[0m\n\u001b[0;31m    # print(carenas)\u001b[0m\n\u001b[0m                    ^\u001b[0m\n\u001b[0;31mSyntaxError\u001b[0m\u001b[0;31m:\u001b[0m incomplete input\n"
     ]
    }
   ],
   "source": [
    "## Sintaxis incorrecta\n",
    "print(\"Hola mundo\""
   ]
  },
  {
   "cell_type": "code",
   "execution_count": 10,
   "metadata": {},
   "outputs": [
    {
     "ename": "ZeroDivisionError",
     "evalue": "division by zero",
     "output_type": "error",
     "traceback": [
      "\u001b[0;31m---------------------------------------------------------------------------\u001b[0m",
      "\u001b[0;31mZeroDivisionError\u001b[0m                         Traceback (most recent call last)",
      "Cell \u001b[0;32mIn[10], line 2\u001b[0m\n\u001b[1;32m      1\u001b[0m \u001b[39m## Operaciones prohibidas\u001b[39;00m\n\u001b[0;32m----> 2\u001b[0m \u001b[39mprint\u001b[39m(\u001b[39m10\u001b[39;49m\u001b[39m/\u001b[39;49m\u001b[39m0\u001b[39;49m)\n",
      "\u001b[0;31mZeroDivisionError\u001b[0m: division by zero"
     ]
    }
   ],
   "source": [
    "## Operaciones prohibidas\n",
    "print(10/0)"
   ]
  },
  {
   "cell_type": "code",
   "execution_count": 11,
   "metadata": {},
   "outputs": [
    {
     "ename": "NameError",
     "evalue": "name 'cadenas' is not defined",
     "output_type": "error",
     "traceback": [
      "\u001b[0;31m---------------------------------------------------------------------------\u001b[0m",
      "\u001b[0;31mNameError\u001b[0m                                 Traceback (most recent call last)",
      "Cell \u001b[0;32mIn[11], line 3\u001b[0m\n\u001b[1;32m      1\u001b[0m \u001b[39m## Referencia inválida\u001b[39;00m\n\u001b[1;32m      2\u001b[0m cadena \u001b[39m=\u001b[39m \u001b[39m345\u001b[39m\n\u001b[0;32m----> 3\u001b[0m \u001b[39mprint\u001b[39m(cadenas)\n",
      "\u001b[0;31mNameError\u001b[0m: name 'cadenas' is not defined"
     ]
    }
   ],
   "source": [
    "## Referencia inválida\n",
    "cadena = 345\n",
    "print(cadenas)"
   ]
  }
 ],
 "metadata": {
  "language_info": {
   "name": "python"
  }
 },
 "nbformat": 4,
 "nbformat_minor": 2
}

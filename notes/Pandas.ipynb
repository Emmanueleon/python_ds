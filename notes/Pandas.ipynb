{
 "cells": [
  {
   "cell_type": "code",
   "execution_count": null,
   "metadata": {},
   "outputs": [],
   "source": [
    "import pandas as pd"
   ]
  },
  {
   "cell_type": "markdown",
   "metadata": {},
   "source": [
    "## Procesamiento de datos\n",
    "- Valores ausentes\n",
    "- Valores duplicados\n"
   ]
  },
  {
   "cell_type": "markdown",
   "metadata": {},
   "source": [
    "### Procesar valores ausentes\n",
    "\n",
    "- Conocer el número de datos ausentes\n",
    "- Sustituir valores ausentes con otros valores\n",
    "- Imputación de los valores ausentes"
   ]
  },
  {
   "cell_type": "code",
   "execution_count": null,
   "metadata": {},
   "outputs": [],
   "source": [
    "## Conocer el número de valores nulos\n",
    "print(cholera.isna().sum())\n",
    "\n",
    "\n",
    "## Sustituir  valores nulos\n",
    "cholera[\"imported_cases\"] = cholera[\"imported_cases\"].fillna(0)\n",
    "\n",
    "cholera[\"imported_cases\"].fillna(0, inplace = True) # inplace hace que no sea necesario la reasignación\n",
    "\n",
    "\n",
    "## Imputar valores ausentes\n",
    "### Eliminar filas con valores ausentes\n",
    "cholera = cholera.dropna(subset = [\"total_cases\", \"deaths\", \"case_fatality_rate\"])\n",
    "\n",
    "### Eliminar columnas con valores ausentes\n",
    "cholera = cholera.dropna(axis = \"columns\")\n",
    "\n",
    "### Eliminar solo determinadas columnas\n",
    "cholera = cholera.drop(labes = [\"notes\"], axis = \"columns\")\n",
    "\n",
    "\n",
    "## Bucle para reemplazar valores através del df\n",
    "### Columnas a remplazar\n",
    "columns_to_replace = ['genre', 'Artist', 'track']\n",
    "\n",
    "### Bucle\n",
    "for col in columns_to_replace:\n",
    "    df[col].fillna(\"no_info\", inplace = True)\n"
   ]
  },
  {
   "cell_type": "markdown",
   "metadata": {},
   "source": [
    "**Nota**\n",
    "El método `dropna()` si se selecciona el argumento `axis = columns`, se eliminará todas las columnas con valores ausentes. Para ello, es preferible usar el método `drop()`. "
   ]
  },
  {
   "cell_type": "markdown",
   "metadata": {},
   "source": [
    "### Procesar valores duplicados\n"
   ]
  }
 ],
 "metadata": {
  "language_info": {
   "name": "python"
  }
 },
 "nbformat": 4,
 "nbformat_minor": 2
}

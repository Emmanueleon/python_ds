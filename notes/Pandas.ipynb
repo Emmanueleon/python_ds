{
 "cells": [
  {
   "cell_type": "code",
   "execution_count": 1,
   "metadata": {},
   "outputs": [
    {
     "ename": "ModuleNotFoundError",
     "evalue": "No module named 'pandas'",
     "output_type": "error",
     "traceback": [
      "\u001b[0;31m---------------------------------------------------------------------------\u001b[0m",
      "\u001b[0;31mModuleNotFoundError\u001b[0m                       Traceback (most recent call last)",
      "Cell \u001b[0;32mIn[1], line 1\u001b[0m\n\u001b[0;32m----> 1\u001b[0m \u001b[39mimport\u001b[39;00m \u001b[39mpandas\u001b[39;00m \u001b[39mas\u001b[39;00m \u001b[39mpd\u001b[39;00m\n",
      "\u001b[0;31mModuleNotFoundError\u001b[0m: No module named 'pandas'"
     ]
    }
   ],
   "source": [
    "import pandas as pd"
   ]
  },
  {
   "cell_type": "markdown",
   "metadata": {},
   "source": [
    "## Procesamiento de datos\n",
    "- Valores ausentes\n",
    "- Valores duplicados"
   ]
  },
  {
   "cell_type": "markdown",
   "metadata": {},
   "source": [
    "### Procesar valores ausentes\n",
    "\n",
    "- Conocer el número de datos ausentes\n",
    "- Sustituir valores ausentes con otros valores\n",
    "- Imputación de los valores ausentes"
   ]
  },
  {
   "cell_type": "code",
   "execution_count": null,
   "metadata": {},
   "outputs": [],
   "source": [
    "## Conocer el número de valores nulos\n",
    "print(cholera.isna().sum())\n",
    "\n",
    "\n",
    "## Sustituir  valores nulos\n",
    "cholera[\"imported_cases\"] = cholera[\"imported_cases\"].fillna(0)\n",
    "\n",
    "cholera[\"imported_cases\"].fillna(0, inplace = True) # inplace hace que no sea necesario la reasignación\n",
    "\n",
    "\n",
    "## Imputar valores ausentes\n",
    "### Eliminar filas con valores ausentes\n",
    "cholera = cholera.dropna(subset = [\"total_cases\", \"deaths\", \"case_fatality_rate\"])\n",
    "\n",
    "### Eliminar columnas con valores ausentes\n",
    "cholera = cholera.dropna(axis = \"columns\")\n",
    "\n",
    "### Eliminar solo determinadas columnas\n",
    "cholera = cholera.drop(labes = [\"notes\"], axis = \"columns\")\n",
    "\n",
    "\n",
    "## Bucle para reemplazar valores através del df\n",
    "### Columnas a remplazar\n",
    "columns_to_replace = ['genre', 'Artist', 'track']\n",
    "\n",
    "### Bucle\n",
    "for col in columns_to_replace:\n",
    "    df[col].fillna(\"no_info\", inplace = True)\n"
   ]
  },
  {
   "cell_type": "markdown",
   "metadata": {},
   "source": [
    "**Nota**   \n",
    "El método `dropna()` si se selecciona el argumento `axis = columns`, se eliminará todas las columnas con valores ausentes. Para ello, es preferible usar el método `drop()`. "
   ]
  },
  {
   "cell_type": "markdown",
   "metadata": {},
   "source": [
    "### Procesar valores duplicados\n",
    "\n",
    "**Valores duplicados explícitamente**    \n",
    "Para eliminar los valores duplicados de manera explícita, es decir, completamente identicos, se utiliza el método `drop_duplicated()`. esto hace que los índices se queden igual, por lo que es necesario reasignarlos con la función `reset_index(drop = True)`. \n",
    "\n",
    "\n",
    "\n",
    "**Valores duplicados implícitamente**  \n",
    "Para eliminar valores duplicados de manera implícita, es decir, aquellos menos obvios como *typos*, uso inconsistente de terminos, se utiliza el método `unique()` y `nunique()`. Conocer de manera previa los datos ayuda mucho a distinguir errores implícitos.\n",
    "\n",
    "Identificado el valor, ahora lo restante es remplazarlo con el método `replace()`. "
   ]
  },
  {
   "cell_type": "code",
   "execution_count": null,
   "metadata": {},
   "outputs": [],
   "source": [
    "## Duplicados explícitos\n",
    "### Identificar columnas con duplicados explícitos\n",
    "df.duplicated()\n",
    "\n",
    "## Sumar los valores explícitos\n",
    "df.duplicated().sum \n",
    "\n",
    "## Eliminar las filas duplicadas\n",
    "df = df.drop_duplicates()\n",
    "df.drop_duplicates(inplace = True)  # Evitar la sobreasignación\n",
    "\n",
    "## Reasignación de los índices\n",
    "df.drop_duplicates(inplace = True).reset_idex(drop=True)\n",
    "\n",
    "\n",
    "## Duplicados implícitos\n",
    "### Identificar los valores implícitos\n",
    "df[\"artist\"].unique()\n",
    "\n",
    "### Número de valores únicos \n",
    "df[\"artist\"].nunique()\n",
    "\n",
    "df[\"artist\"] = df[\"artist\"].replace(\"Lady Gafa\", \"Lady Gaga\")\n",
    "df[\"artist\"].replace(\"Lady Gafa\", \"Lady Gaga\", inplace =True)\n",
    "\n",
    "### Función para corregir valores incorrectos\n",
    "def replace_wrong_values(df, column, wrong_values, correct_value):\n",
    "\n",
    "    for wrong_value in wrong_values: \n",
    "        df[column] = df[column].replace(wrong_value, correct_value)\n",
    "    return df"
   ]
  },
  {
   "cell_type": "markdown",
   "metadata": {},
   "source": [
    "## Agrupación de datos\n",
    "La agrupación de datos tiene tres etapas: \n",
    "\n",
    "1. **Dividir**. Segmentar los grupos de acuerdo a cierto criterio. \n",
    "\n",
    "2. **Aplicar**. Realizar distintos métodos de cálculo para grupos.\n",
    "\n",
    "3. **Combinar**. Almacenar los resultados en una estructura de datos.   \n",
    "\n",
    "Al aplicar la segmentación de datos se crea un nuevo tipo de dato `DataFrameGroupBy`\n"
   ]
  },
  {
   "cell_type": "code",
   "execution_count": null,
   "metadata": {},
   "outputs": [],
   "source": [
    "## Segmentación \n",
    "df.groupby(\"genre\")\n",
    "\n",
    "## Aplicar método de cálculo \n",
    "df.groupby(\"genre\").sum()\n",
    "\n",
    "## Combinar el resumen\n",
    "df.groupby(\"genre\")[\"total_play\"].sum()"
   ]
  },
  {
   "cell_type": "markdown",
   "metadata": {},
   "source": [
    "## Ordenamiento de datos\n",
    "Para este caso utilizamos el método `sort_values()`. Si se requiere que los resultados estén mostrados de manera descendente se especifica el argumento `ascending =  False`.  \n",
    "\n",
    "Se pueden realizar filtros para cumplir con determinadas condiciones con el objetivo de tener información más específica. "
   ]
  },
  {
   "cell_type": "code",
   "execution_count": null,
   "metadata": {},
   "outputs": [],
   "source": [
    "## Ordenamiento mediante el uso del método sort_values\n",
    "time_by_genre.sort_values(ascending = False)\n",
    "\n",
    "## Ordenamiento con filtros\n",
    "df_pop_90 = df[df[\"genre\"] == \"pop\"]\n",
    "\n",
    "df_pop_90 = df_pop_90[df_pop_90[\"total_play\"] >= 90]\n",
    "\n",
    "print(df_pop_90.sort_values(by= \"total_play\", ascending= False))\n"
   ]
  }
 ],
 "metadata": {
  "language_info": {
   "name": "python"
  }
 },
 "nbformat": 4,
 "nbformat_minor": 2
}

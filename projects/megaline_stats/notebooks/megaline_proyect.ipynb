{
 "cells": [
  {
   "cell_type": "markdown",
   "metadata": {
    "id": "3rYiDeEH0q0f"
   },
   "source": [
    "# ¿Cuál es la mejor tarifa?\n",
    "\n",
    "## Descripción del proyecto\n",
    "---\n",
    "\n",
    "Trabajas como analista para el operador de telecomunicaciones Megaline. La empresa ofrece a sus clientes dos tarifas de prepago, Surf y Ultimate. El departamento comercial quiere saber cuál de las tarifas genera más ingresos para poder ajustar el presupuesto de publicidad.\n",
    "\n",
    "Vas a realizar un análisis preliminar de las tarifas basado en una selección de clientes relativamente pequeña. Tendrás los datos de 500 clientes de Megaline: quiénes son los clientes, de dónde son, qué tarifa usan, así como la cantidad de llamadas que hicieron y los mensajes de texto que enviaron en 2018. Tu trabajo es analizar el comportamiento de los clientes y determinar qué tarifa de prepago genera más ingresos."
   ]
  },
  {
   "cell_type": "markdown",
   "metadata": {
    "id": "VNddPNRQ0q0w"
   },
   "source": [
    "### Objetivo\n",
    "El objetivo de este proyecto es evaluar el comportamiento de los clientes y determinar cuál tarifa de Megaline es más rentable.\n",
    "\n",
    "Las acciones a realizar: \n",
    "- Paso 1: Cargar y explorar los datos\n",
    "- Paso 2: Manipulación de datos\n",
    "- Paso 3: Análisis de datos\n",
    "- Paso 4: Pruebas de hipótesis\n",
    "- Paso 5: Conclusiones"
   ]
  },
  {
   "cell_type": "markdown",
   "metadata": {},
   "source": [
    "## Descripción de los datos\n",
    "---"
   ]
  },
  {
   "cell_type": "markdown",
   "metadata": {
    "id": "MQi4IPy70q0y"
   },
   "source": [
    "### Cargar librerías y datos\n",
    "Primero, importamos las bibliotecas necesarias para el análisis de datos, las cuales incluyen: pandas, numpy, matplotlib, math y stats. "
   ]
  },
  {
   "cell_type": "code",
   "execution_count": 4,
   "metadata": {
    "id": "MtYIuBxu0q0z"
   },
   "outputs": [],
   "source": [
    "# Cargar todas las librerías\n",
    "import pandas as pd\n",
    "import numpy as np\n",
    "import math as mt\n",
    "from matplotlib import pyplot as plt\n",
    "from scipy import stats as st"
   ]
  },
  {
   "cell_type": "markdown",
   "metadata": {},
   "source": [
    "Posteriormente cargamos los archivos CSV que contienen los datos del proyecto y verificamos como es que se visualizan. "
   ]
  },
  {
   "cell_type": "code",
   "execution_count": 6,
   "metadata": {
    "id": "CCqPW7rS0q01"
   },
   "outputs": [],
   "source": [
    "# Cargar los archivos de datos en diferentes DataFrames\n",
    "\n",
    "## Usuarios\n",
    "users= pd.read_csv(\"../data/megaline_users.csv\")\n",
    "\n",
    "## Llamadas\n",
    "calls= pd.read_csv(\"../data/megaline_calls.csv\")\n",
    "\n",
    "## Mensajes\n",
    "messages= pd.read_csv(\"../data/megaline_messages.csv\")\n",
    "\n",
    "## Tráfico de datos\n",
    "internet= pd.read_csv(\"../data/megaline_internet.csv\")\n",
    "\n",
    "## Tarifas\n",
    "plans= pd.read_csv(\"../data/megaline_plans.csv\")"
   ]
  },
  {
   "cell_type": "markdown",
   "metadata": {
    "id": "69qqoJ3r0q01"
   },
   "source": [
    "## Manipulación de datos\n",
    "---"
   ]
  },
  {
   "cell_type": "markdown",
   "metadata": {
    "id": "vUuZw80S0q01"
   },
   "source": [
    "En este paso se relizará la exploración y manipulación de los distintas dataframes. "
   ]
  },
  {
   "cell_type": "markdown",
   "metadata": {
    "id": "ohBhimvH0q01"
   },
   "source": [
    "### Tarifas"
   ]
  },
  {
   "cell_type": "code",
   "execution_count": 9,
   "metadata": {
    "id": "GptqP3Q40q02"
   },
   "outputs": [
    {
     "name": "stdout",
     "output_type": "stream",
     "text": [
      "<class 'pandas.core.frame.DataFrame'>\n",
      "RangeIndex: 2 entries, 0 to 1\n",
      "Data columns (total 8 columns):\n",
      " #   Column                 Non-Null Count  Dtype  \n",
      "---  ------                 --------------  -----  \n",
      " 0   messages_included      2 non-null      int64  \n",
      " 1   mb_per_month_included  2 non-null      int64  \n",
      " 2   minutes_included       2 non-null      int64  \n",
      " 3   usd_monthly_pay        2 non-null      int64  \n",
      " 4   usd_per_gb             2 non-null      int64  \n",
      " 5   usd_per_message        2 non-null      float64\n",
      " 6   usd_per_minute         2 non-null      float64\n",
      " 7   plan_name              2 non-null      object \n",
      "dtypes: float64(2), int64(5), object(1)\n",
      "memory usage: 260.0+ bytes\n",
      "\n",
      "       messages_included  mb_per_month_included  minutes_included  \\\n",
      "count           2.000000               2.000000          2.000000   \n",
      "mean          525.000000           23040.000000       1750.000000   \n",
      "std           671.751442           10861.160159       1767.766953   \n",
      "min            50.000000           15360.000000        500.000000   \n",
      "25%           287.500000           19200.000000       1125.000000   \n",
      "50%           525.000000           23040.000000       1750.000000   \n",
      "75%           762.500000           26880.000000       2375.000000   \n",
      "max          1000.000000           30720.000000       3000.000000   \n",
      "\n",
      "       usd_monthly_pay  usd_per_gb  usd_per_message  usd_per_minute  \n",
      "count         2.000000     2.00000         2.000000        2.000000  \n",
      "mean         45.000000     8.50000         0.020000        0.020000  \n",
      "std          35.355339     2.12132         0.014142        0.014142  \n",
      "min          20.000000     7.00000         0.010000        0.010000  \n",
      "25%          32.500000     7.75000         0.015000        0.015000  \n",
      "50%          45.000000     8.50000         0.020000        0.020000  \n",
      "75%          57.500000     9.25000         0.025000        0.025000  \n",
      "max          70.000000    10.00000         0.030000        0.030000  \n"
     ]
    }
   ],
   "source": [
    "# Imprime la información general/resumida sobre el DataFrame de las tarifas\n",
    "plans.info(show_counts=True)\n",
    "print()\n",
    "print(plans.describe())"
   ]
  },
  {
   "cell_type": "code",
   "execution_count": 10,
   "metadata": {
    "id": "64xzjwL70q02"
   },
   "outputs": [
    {
     "name": "stdout",
     "output_type": "stream",
     "text": [
      "   messages_included  mb_per_month_included  minutes_included  \\\n",
      "0                 50                  15360               500   \n",
      "1               1000                  30720              3000   \n",
      "\n",
      "   usd_monthly_pay  usd_per_gb  usd_per_message  usd_per_minute plan_name  \n",
      "0               20          10             0.03            0.03      surf  \n",
      "1               70           7             0.01            0.01  ultimate  \n"
     ]
    }
   ],
   "source": [
    "# Imprime una muestra de los datos para las tarifas\n",
    "print(plans.head())"
   ]
  },
  {
   "cell_type": "markdown",
   "metadata": {
    "id": "mEc_3_hs0q02"
   },
   "source": [
    "La tabla `plans` solo contiene 2 observaciones y 8 columnas que incluyen información sobre las 2 tarifas que analizaremos de la empresa, estas son surf y ultimate.Aunque no falta información podríamos mejorar: \n",
    "\n",
    "- Nombres de columnas por nombres más explícitos. \n",
    "- Conversión de Mb a Gb. \n",
    "- "
   ]
  },
  {
   "cell_type": "markdown",
   "metadata": {
    "id": "R3C05i1l0q03"
   },
   "source": [
    "#### Corregir datos"
   ]
  },
  {
   "cell_type": "markdown",
   "metadata": {
    "id": "bIi8StZI0q03"
   },
   "source": [
    "[Corrige los problemas obvios con los datos basándote en las observaciones iniciales.]"
   ]
  },
  {
   "cell_type": "code",
   "execution_count": null,
   "metadata": {
    "id": "Y7SVmjGn0q03"
   },
   "outputs": [],
   "source": []
  },
  {
   "cell_type": "markdown",
   "metadata": {
    "id": "LJir7bml0q03"
   },
   "source": [
    "#### Enriquecer los datos"
   ]
  },
  {
   "cell_type": "markdown",
   "metadata": {
    "id": "eqADpCfg0q04"
   },
   "source": [
    "[Agrega factores adicionales a los datos si crees que pudieran ser útiles.]"
   ]
  },
  {
   "cell_type": "code",
   "execution_count": null,
   "metadata": {
    "id": "gfcIEuXV0q04"
   },
   "outputs": [],
   "source": []
  },
  {
   "cell_type": "markdown",
   "metadata": {
    "id": "1n2X6WXf0q04"
   },
   "source": [
    "### Usuarios/as"
   ]
  },
  {
   "cell_type": "code",
   "execution_count": 94,
   "metadata": {
    "id": "2NgjWFqx0q05"
   },
   "outputs": [],
   "source": [
    "# Imprime la información general/resumida sobre el DataFrame de usuarios\n",
    "\n"
   ]
  },
  {
   "cell_type": "code",
   "execution_count": 95,
   "metadata": {
    "id": "1IN1L9uh0q05"
   },
   "outputs": [],
   "source": [
    "# Imprime una muestra de datos para usuarios\n",
    "\n"
   ]
  },
  {
   "cell_type": "markdown",
   "metadata": {
    "id": "dCZoUq4f0q06"
   },
   "source": [
    "[Describe lo que ves y observas en la información general y en la muestra de datos impresa para el precio de datos anterior. ¿Hay algún problema (tipos de datos no adecuados, datos ausentes, etc.) que pudieran necesitar investigación y cambios adicionales? ¿Cómo se puede arreglar?]"
   ]
  },
  {
   "cell_type": "markdown",
   "metadata": {
    "id": "BX5FQh_I0q06"
   },
   "source": [
    "#### Corregir los datos"
   ]
  },
  {
   "cell_type": "markdown",
   "metadata": {
    "id": "8OdKMwJv0q06"
   },
   "source": [
    "[Corrige los problemas obvios con los datos basándote en las observaciones iniciales.]"
   ]
  },
  {
   "cell_type": "code",
   "execution_count": null,
   "metadata": {
    "id": "yUqX-K0C0q07"
   },
   "outputs": [],
   "source": []
  },
  {
   "cell_type": "markdown",
   "metadata": {
    "id": "ycwuARJp0q07"
   },
   "source": [
    "#### Enriquecer los datos"
   ]
  },
  {
   "cell_type": "markdown",
   "metadata": {
    "id": "96NIh4CJ0q08"
   },
   "source": [
    "[Agrega factores adicionales a los datos si crees que pudieran ser útiles.]"
   ]
  },
  {
   "cell_type": "code",
   "execution_count": null,
   "metadata": {
    "id": "iq0AaBS90q08"
   },
   "outputs": [],
   "source": []
  },
  {
   "cell_type": "markdown",
   "metadata": {
    "id": "o7MeKCid0q08"
   },
   "source": [
    "### Llamadas"
   ]
  },
  {
   "cell_type": "code",
   "execution_count": 96,
   "metadata": {
    "id": "6dDlnoDm0q08"
   },
   "outputs": [],
   "source": [
    "# Imprime la información general/resumida sobre el DataFrame de las llamadas\n",
    "\n"
   ]
  },
  {
   "cell_type": "code",
   "execution_count": 97,
   "metadata": {
    "id": "kuh1vlNB0q09"
   },
   "outputs": [],
   "source": [
    "# Imprime una muestra de datos para las llamadas\n",
    "\n"
   ]
  },
  {
   "cell_type": "markdown",
   "metadata": {
    "id": "DOAxYJSx0q09"
   },
   "source": [
    "[Describe lo que ves y observas en la información general y en la muestra de datos impresa para el precio de datos anterior. ¿Hay algún problema (tipos de datos no adecuados, datos ausentes, etc.) que pudieran necesitar investigación y cambios adicionales? ¿Cómo se puede arreglar?]"
   ]
  },
  {
   "cell_type": "markdown",
   "metadata": {
    "id": "S7hzxmbX0q0-"
   },
   "source": [
    "#### Corregir los datos"
   ]
  },
  {
   "cell_type": "markdown",
   "metadata": {
    "id": "YxWyAjD20q0-"
   },
   "source": [
    "[Corrige los problemas obvios con los datos basándote en las observaciones iniciales.]"
   ]
  },
  {
   "cell_type": "code",
   "execution_count": null,
   "metadata": {
    "id": "S2r8xA4f0q0-"
   },
   "outputs": [],
   "source": []
  },
  {
   "cell_type": "markdown",
   "metadata": {
    "id": "KrMgTrlG0q0_"
   },
   "source": [
    "#### Enriquecer los datos"
   ]
  },
  {
   "cell_type": "markdown",
   "metadata": {
    "id": "a9MbmEvE0q0_"
   },
   "source": [
    "[Agrega factores adicionales a los datos si crees que pudieran ser útiles.]"
   ]
  },
  {
   "cell_type": "code",
   "execution_count": null,
   "metadata": {
    "id": "iZ1avpA_0q0_"
   },
   "outputs": [],
   "source": []
  },
  {
   "cell_type": "markdown",
   "metadata": {
    "id": "mOUZSi180q0_"
   },
   "source": [
    "### Mensajes"
   ]
  },
  {
   "cell_type": "code",
   "execution_count": 98,
   "metadata": {
    "id": "R-bYJpdV0q1A"
   },
   "outputs": [],
   "source": [
    "# Imprime la información general/resumida sobre el DataFrame de los mensajes\n",
    "\n"
   ]
  },
  {
   "cell_type": "code",
   "execution_count": 99,
   "metadata": {
    "id": "mCEl2iGE0q1A"
   },
   "outputs": [],
   "source": [
    "# Imprime una muestra de datos para los mensajes\n",
    "\n"
   ]
  },
  {
   "cell_type": "markdown",
   "metadata": {
    "id": "04xDj7KH0q1A"
   },
   "source": [
    "[Describe lo que ves y observas en la información general y en la muestra de datos impresa para el precio de datos anterior. ¿Hay algún problema (tipos de datos no adecuados, datos ausentes, etc.) que pudieran necesitar investigación y cambios adicionales? ¿Cómo se puede arreglar?]"
   ]
  },
  {
   "cell_type": "markdown",
   "metadata": {
    "id": "Sprfak900q1B"
   },
   "source": [
    "#### Corregir los datos"
   ]
  },
  {
   "cell_type": "markdown",
   "metadata": {
    "id": "eGw7d9j10q1B"
   },
   "source": [
    "[Corrige los problemas obvios con los datos basándote en las observaciones iniciales.]"
   ]
  },
  {
   "cell_type": "code",
   "execution_count": null,
   "metadata": {
    "id": "vsllvkoa0q1B"
   },
   "outputs": [],
   "source": []
  },
  {
   "cell_type": "markdown",
   "metadata": {
    "id": "HvLid7iD0q1B"
   },
   "source": [
    "#### Enriquecer los datos"
   ]
  },
  {
   "cell_type": "markdown",
   "metadata": {
    "id": "8nhPFKIe0q1C"
   },
   "source": [
    "[Agrega factores adicionales a los datos si crees que pudieran ser útiles.]"
   ]
  },
  {
   "cell_type": "code",
   "execution_count": null,
   "metadata": {
    "id": "zYEXZac10q1C"
   },
   "outputs": [],
   "source": []
  },
  {
   "cell_type": "markdown",
   "metadata": {
    "id": "bStkaxn40q1C"
   },
   "source": [
    "### Internet"
   ]
  },
  {
   "cell_type": "code",
   "execution_count": 100,
   "metadata": {
    "id": "e-Uz5qyn0q1C"
   },
   "outputs": [],
   "source": [
    "# Imprime la información general/resumida sobre el DataFrame de internet\n",
    "\n"
   ]
  },
  {
   "cell_type": "code",
   "execution_count": 101,
   "metadata": {
    "id": "9r3x_XLw0q1C"
   },
   "outputs": [],
   "source": [
    "# Imprime una muestra de datos para el tráfico de internet\n",
    "\n"
   ]
  },
  {
   "cell_type": "markdown",
   "metadata": {
    "id": "EzOG5ik30q1D"
   },
   "source": [
    "[Describe lo que ves y observas en la información general y en la muestra de datos impresa para el precio de datos anterior. ¿Hay algún problema (tipos de datos no adecuados, datos ausentes, etc.) que pudieran necesitar investigación y cambios adicionales? ¿Cómo se puede arreglar?]"
   ]
  },
  {
   "cell_type": "markdown",
   "metadata": {
    "id": "yA0tkPFg0q1D"
   },
   "source": [
    "#### Corregir los datos"
   ]
  },
  {
   "cell_type": "markdown",
   "metadata": {
    "id": "zlZMuIEK0q1D"
   },
   "source": [
    "[Corrige los problemas obvios con los datos basándote en las observaciones iniciales.]"
   ]
  },
  {
   "cell_type": "code",
   "execution_count": null,
   "metadata": {
    "id": "zVeanzdd0q1E"
   },
   "outputs": [],
   "source": []
  },
  {
   "cell_type": "markdown",
   "metadata": {
    "id": "e8_mLF4a0q1E"
   },
   "source": [
    "#### Enriquecer los datos"
   ]
  },
  {
   "cell_type": "markdown",
   "metadata": {
    "id": "xhNdn2tE0q1E"
   },
   "source": [
    "[Agrega factores adicionales a los datos si crees que pudieran ser útiles.]"
   ]
  },
  {
   "cell_type": "code",
   "execution_count": null,
   "metadata": {
    "id": "ESiYPIEK0q1E"
   },
   "outputs": [],
   "source": []
  },
  {
   "cell_type": "markdown",
   "metadata": {
    "id": "3UA2cqIW0q1E"
   },
   "source": [
    "## Estudiar las condiciones de las tarifas"
   ]
  },
  {
   "cell_type": "markdown",
   "metadata": {
    "id": "T86Sqltq0q1F"
   },
   "source": [
    "[Es sumamente importante entender cómo funcionan las tarifas, cómo se les cobra a los usuarios en función de su plan de suscripción. Así que te sugerimos imprimir la información de la tarifa para ver una vez más sus condiciones.]"
   ]
  },
  {
   "cell_type": "code",
   "execution_count": 102,
   "metadata": {
    "id": "i409op8p0q1F"
   },
   "outputs": [],
   "source": [
    "# Imprime las condiciones de la tarifa y asegúrate de que te quedan claras\n",
    "\n"
   ]
  },
  {
   "cell_type": "markdown",
   "metadata": {
    "id": "hMR1tP5d0q1F"
   },
   "source": [
    "## Agregar datos por usuario\n",
    "\n",
    "[Ahora que los datos están limpios, agrega los datos por usuario y por periodo para que solo haya un registro por usuario y por periodo. Esto facilitará mucho el análisis posterior.]"
   ]
  },
  {
   "cell_type": "code",
   "execution_count": 103,
   "metadata": {
    "id": "A332cedB0q1G"
   },
   "outputs": [],
   "source": [
    "# Calcula el número de llamadas hechas por cada usuario al mes. Guarda el resultado.\n",
    "\n"
   ]
  },
  {
   "cell_type": "code",
   "execution_count": 104,
   "metadata": {
    "id": "aw2cmuql0q1G"
   },
   "outputs": [],
   "source": [
    "# Calcula la cantidad de minutos usados por cada usuario al mes. Guarda el resultado.\n",
    "\n"
   ]
  },
  {
   "cell_type": "code",
   "execution_count": 105,
   "metadata": {
    "id": "CcQvNHn60q1G"
   },
   "outputs": [],
   "source": [
    "# Calcula el número de mensajes enviados por cada usuario al mes. Guarda el resultado.\n",
    "\n"
   ]
  },
  {
   "cell_type": "code",
   "execution_count": 106,
   "metadata": {
    "id": "H1AqN2eG0q1H"
   },
   "outputs": [],
   "source": [
    "# Calcula el volumen del tráfico de Internet usado por cada usuario al mes. Guarda el resultado.\n",
    "\n"
   ]
  },
  {
   "cell_type": "markdown",
   "metadata": {
    "id": "VDfYXnj80q1H"
   },
   "source": [
    "[Junta los datos agregados en un DataFrame para que haya un registro que represente lo que consumió un usuario único en un mes determinado.]"
   ]
  },
  {
   "cell_type": "code",
   "execution_count": 107,
   "metadata": {
    "id": "FW99ykyf0q1H"
   },
   "outputs": [],
   "source": [
    "# Fusiona los datos de llamadas, minutos, mensajes e Internet con base en user_id y month\n",
    "\n"
   ]
  },
  {
   "cell_type": "code",
   "execution_count": 108,
   "metadata": {
    "id": "0dNOXHag0q1H"
   },
   "outputs": [],
   "source": [
    "# Añade la información de la tarifa\n",
    "\n"
   ]
  },
  {
   "cell_type": "markdown",
   "metadata": {
    "id": "1IwGo4wg0q1I"
   },
   "source": [
    "[Calcula los ingresos mensuales por usuario (resta el límite del paquete gratuito del número total de llamadas, mensajes de texto y datos; multiplica el resultado por el valor del plan de llamadas; añade la tarifa mensual en función del plan de llamadas). Nota: Dadas las condiciones del plan, ¡esto podría no ser tan trivial como un par de líneas! Así que no pasa nada si dedicas algo de tiempo a ello.]"
   ]
  },
  {
   "cell_type": "code",
   "execution_count": 109,
   "metadata": {
    "id": "5FGCf_c60q1I"
   },
   "outputs": [],
   "source": [
    "# Calcula el ingreso mensual para cada usuario\n",
    "\n"
   ]
  },
  {
   "cell_type": "markdown",
   "metadata": {
    "id": "-jtyHzJb0q1I"
   },
   "source": [
    "## Estudia el comportamiento de usuario"
   ]
  },
  {
   "cell_type": "markdown",
   "metadata": {
    "id": "AxU3Y0N70q1J"
   },
   "source": [
    "[Calcula algunas estadísticas descriptivas para los datos agregados y fusionados que nos sean útiles y que muestren un panorama general captado por los datos. Dibuja gráficos útiles para facilitar la comprensión. Dado que la tarea principal es comparar las tarifas y decidir cuál es más rentable, las estadísticas y gráficas deben calcularse por tarifa.]\n",
    "\n",
    "[En los comentarios hallarás pistas relevantes para las llamadas, pero no las hay para los mensajes e Internet. Sin embargo, el principio del estudio estadístico que se aplica para ellos es el mismo que para las llamadas.]"
   ]
  },
  {
   "cell_type": "markdown",
   "metadata": {
    "id": "vtW4CJEe0q1J"
   },
   "source": [
    "### Llamadas"
   ]
  },
  {
   "cell_type": "code",
   "execution_count": 110,
   "metadata": {
    "id": "Jf5v5--k0q1J"
   },
   "outputs": [],
   "source": [
    "# Compara la duración promedio de llamadas por cada plan y por cada mes. Traza un gráfico de barras para visualizarla.\n",
    "\n"
   ]
  },
  {
   "cell_type": "code",
   "execution_count": 111,
   "metadata": {
    "id": "QoLqW1S_0q1J"
   },
   "outputs": [],
   "source": [
    "# Compara el número de minutos mensuales que necesitan los usuarios de cada plan. Traza un histograma.\n",
    "\n"
   ]
  },
  {
   "cell_type": "markdown",
   "metadata": {
    "id": "bLS9T8OH0q1K"
   },
   "source": [
    "[Calcula la media y la variable de la duración de las llamadas para averiguar si los usuarios de los distintos planes se comportan de forma diferente al realizar sus llamadas.]"
   ]
  },
  {
   "cell_type": "code",
   "execution_count": 112,
   "metadata": {
    "id": "oSndbAnt0q1K"
   },
   "outputs": [],
   "source": [
    "# Calcula la media y la varianza de la duración mensual de llamadas.\n",
    "\n"
   ]
  },
  {
   "cell_type": "code",
   "execution_count": 113,
   "metadata": {
    "id": "nZzoRUKc0q1K"
   },
   "outputs": [],
   "source": [
    "# Traza un diagrama de caja para visualizar la distribución de la duración mensual de llamadas\n",
    "\n"
   ]
  },
  {
   "cell_type": "markdown",
   "metadata": {
    "id": "r627zBO50q1K"
   },
   "source": [
    "[Elabora las conclusiones sobre el comportamiento de los usuarios con respecto a las llamadas. ¿Su comportamiento varía en función del plan?]"
   ]
  },
  {
   "cell_type": "markdown",
   "metadata": {
    "id": "8idKy8Wh0q1L"
   },
   "source": [
    "### Mensajes"
   ]
  },
  {
   "cell_type": "code",
   "execution_count": 114,
   "metadata": {
    "id": "NXLxiTit0q1L"
   },
   "outputs": [],
   "source": [
    "# Comprara el número de mensajes que tienden a enviar cada mes los usuarios de cada plan\n",
    "\n"
   ]
  },
  {
   "cell_type": "code",
   "execution_count": 115,
   "metadata": {
    "id": "GRI_R7xF0q1L"
   },
   "outputs": [],
   "source": [
    "# Compara la cantidad de tráfico de Internet consumido por usuarios por plan\n",
    "\n"
   ]
  },
  {
   "cell_type": "code",
   "execution_count": null,
   "metadata": {
    "id": "dtFwCGAp0q1M"
   },
   "outputs": [],
   "source": []
  },
  {
   "cell_type": "markdown",
   "metadata": {
    "id": "390SSL480q1M"
   },
   "source": [
    "[Elabora las conclusiones sobre el comportamiento de los usuarios con respecto a los mensajes. ¿Su comportamiento varía en función del plan?]"
   ]
  },
  {
   "cell_type": "markdown",
   "metadata": {
    "id": "42YSypXz0q1M"
   },
   "source": [
    "### Internet"
   ]
  },
  {
   "cell_type": "code",
   "execution_count": null,
   "metadata": {
    "id": "lSuKPtjh0q1M"
   },
   "outputs": [],
   "source": []
  },
  {
   "cell_type": "code",
   "execution_count": null,
   "metadata": {
    "id": "wnh8jYXi0q1N"
   },
   "outputs": [],
   "source": []
  },
  {
   "cell_type": "code",
   "execution_count": null,
   "metadata": {
    "id": "5VlyJ9ry0q1N"
   },
   "outputs": [],
   "source": []
  },
  {
   "cell_type": "markdown",
   "metadata": {
    "id": "UN9zwuMP0q1N"
   },
   "source": [
    "[Elabora las conclusiones sobre cómo los usuarios tienden a consumir el tráfico de Internet. ¿Su comportamiento varía en función del plan?]"
   ]
  },
  {
   "cell_type": "markdown",
   "metadata": {
    "id": "tCijq3260q1N"
   },
   "source": [
    "## Ingreso"
   ]
  },
  {
   "cell_type": "markdown",
   "metadata": {
    "id": "9nq5IAcy0q1O"
   },
   "source": [
    "[Del mismo modo que has estudiado el comportamiento de los usuarios, describe estadísticamente los ingresos de los planes.]"
   ]
  },
  {
   "cell_type": "code",
   "execution_count": null,
   "metadata": {
    "id": "tz-dq_V00q1O"
   },
   "outputs": [],
   "source": []
  },
  {
   "cell_type": "code",
   "execution_count": null,
   "metadata": {
    "id": "0Y1v8ZUz0q1P"
   },
   "outputs": [],
   "source": []
  },
  {
   "cell_type": "code",
   "execution_count": null,
   "metadata": {
    "id": "bYmwxyVh0q1P"
   },
   "outputs": [],
   "source": []
  },
  {
   "cell_type": "markdown",
   "metadata": {
    "id": "KAFidcXZ0q1P"
   },
   "source": [
    "[Elabora las conclusiones sobre cómo difiere el ingreso entre los planes.]"
   ]
  },
  {
   "cell_type": "markdown",
   "metadata": {
    "id": "ajJ7VKeI0q1Q"
   },
   "source": [
    "## Prueba las hipótesis estadísticas"
   ]
  },
  {
   "cell_type": "markdown",
   "metadata": {
    "id": "AdXAZ-yL0q1Q"
   },
   "source": [
    "[Prueba la hipótesis de que son diferentes los ingresos promedio procedentes de los usuarios de los planes de llamada Ultimate y Surf.]"
   ]
  },
  {
   "cell_type": "markdown",
   "metadata": {
    "id": "IQwa_hsh0q1Q"
   },
   "source": [
    "[Elabora las hipótesis nula y alternativa, escoge la prueba estadística, determina el valor alfa.]"
   ]
  },
  {
   "cell_type": "code",
   "execution_count": 116,
   "metadata": {
    "id": "nFoPNlPq0q1R"
   },
   "outputs": [],
   "source": [
    "# Prueba las hipótesis\n",
    "\n"
   ]
  },
  {
   "cell_type": "markdown",
   "metadata": {
    "id": "tCcAruM60q1R"
   },
   "source": [
    "[Prueba la hipótesis de que el ingreso promedio de los usuarios del área NY-NJ es diferente al de los usuarios de otras regiones.]"
   ]
  },
  {
   "cell_type": "markdown",
   "metadata": {
    "id": "LsBgitqj0q1R"
   },
   "source": [
    "[Elabora las hipótesis nula y alternativa, escoge la prueba estadística, determina el valor alfa.]"
   ]
  },
  {
   "cell_type": "code",
   "execution_count": 117,
   "metadata": {
    "id": "Cqcj7wrZ0q1S"
   },
   "outputs": [],
   "source": [
    "# Prueba las hipótesis\n",
    "\n"
   ]
  },
  {
   "cell_type": "markdown",
   "metadata": {
    "id": "bbTR8UQO0q1T"
   },
   "source": [
    "## Conclusión general\n",
    "\n",
    "[En esta sección final, enumera tus conclusiones importantes. Asegúrate de que estas abarquen todas las decisiones (suposiciones) importantes que adoptaste y que determinaron la forma elegida para procesar y analizar los datos.]"
   ]
  }
 ],
 "metadata": {
  "ExecuteTimeLog": [
   {
    "duration": 828,
    "start_time": "2021-11-16T09:21:11.304Z"
   },
   {
    "duration": 893,
    "start_time": "2021-11-16T09:21:17.728Z"
   },
   {
    "duration": 1150,
    "start_time": "2021-11-16T09:21:29.568Z"
   },
   {
    "duration": 3,
    "start_time": "2021-11-16T09:24:14.495Z"
   },
   {
    "duration": 120,
    "start_time": "2021-11-16T09:24:46.630Z"
   },
   {
    "duration": 3,
    "start_time": "2021-11-16T09:28:27.882Z"
   },
   {
    "duration": 4,
    "start_time": "2021-11-16T09:29:54.281Z"
   },
   {
    "duration": 3,
    "start_time": "2021-11-16T09:30:45.936Z"
   },
   {
    "duration": 4,
    "start_time": "2021-11-16T09:31:06.300Z"
   },
   {
    "duration": 113,
    "start_time": "2021-11-16T09:31:37.208Z"
   },
   {
    "duration": 143,
    "start_time": "2021-11-16T09:31:48.656Z"
   },
   {
    "duration": 98,
    "start_time": "2021-11-16T09:31:55.678Z"
   },
   {
    "duration": 3,
    "start_time": "2021-11-16T09:32:08.535Z"
   },
   {
    "duration": 111,
    "start_time": "2021-11-16T09:32:10.120Z"
   },
   {
    "duration": 3,
    "start_time": "2021-11-16T09:32:15.732Z"
   },
   {
    "duration": 4,
    "start_time": "2021-11-16T09:32:29.423Z"
   },
   {
    "duration": 3,
    "start_time": "2021-11-16T10:03:03.074Z"
   },
   {
    "duration": 3,
    "start_time": "2021-11-16T10:10:01.288Z"
   },
   {
    "duration": 3,
    "start_time": "2021-11-16T10:10:46.923Z"
   },
   {
    "duration": 121,
    "start_time": "2021-11-16T10:37:46.494Z"
   },
   {
    "duration": 125,
    "start_time": "2021-11-16T10:38:20.632Z"
   },
   {
    "duration": 112,
    "start_time": "2021-11-16T10:46:53.001Z"
   },
   {
    "duration": 110,
    "start_time": "2021-11-16T10:48:25.775Z"
   },
   {
    "duration": 3,
    "start_time": "2021-11-16T10:50:18.720Z"
   },
   {
    "duration": 4,
    "start_time": "2021-11-16T10:50:37.649Z"
   },
   {
    "duration": 2,
    "start_time": "2021-11-16T10:50:51.884Z"
   },
   {
    "duration": 3,
    "start_time": "2021-11-16T10:51:56.237Z"
   },
   {
    "duration": 101,
    "start_time": "2021-11-16T10:53:13.791Z"
   },
   {
    "duration": 3,
    "start_time": "2021-11-16T10:55:59.186Z"
   },
   {
    "duration": 3,
    "start_time": "2021-11-16T10:56:10.751Z"
   },
   {
    "duration": 3,
    "start_time": "2021-11-16T10:56:49.038Z"
   },
   {
    "duration": 3,
    "start_time": "2021-11-16T10:56:49.174Z"
   },
   {
    "duration": 4,
    "start_time": "2021-11-16T10:56:49.414Z"
   },
   {
    "duration": 3,
    "start_time": "2021-11-16T10:56:49.680Z"
   },
   {
    "duration": 3,
    "start_time": "2021-11-16T10:56:50.370Z"
   },
   {
    "duration": 114,
    "start_time": "2021-11-16T10:59:34.518Z"
   },
   {
    "duration": 3,
    "start_time": "2021-11-16T11:01:41.201Z"
   },
   {
    "duration": 116,
    "start_time": "2021-11-16T11:01:48.754Z"
   },
   {
    "duration": 3,
    "start_time": "2021-11-16T11:02:16.685Z"
   },
   {
    "duration": 3,
    "start_time": "2021-11-16T11:02:19.479Z"
   },
   {
    "duration": 3,
    "start_time": "2021-11-16T11:02:47.067Z"
   },
   {
    "duration": 3,
    "start_time": "2021-11-16T11:02:49.353Z"
   },
   {
    "duration": 3,
    "start_time": "2021-11-16T11:03:07.835Z"
   },
   {
    "duration": 3,
    "start_time": "2021-11-16T11:03:07.953Z"
   },
   {
    "duration": 112,
    "start_time": "2021-11-16T11:07:52.072Z"
   },
   {
    "duration": 187,
    "start_time": "2021-11-16T11:09:23.468Z"
   },
   {
    "duration": 4,
    "start_time": "2021-11-16T11:10:01.455Z"
   },
   {
    "duration": 3,
    "start_time": "2021-11-16T11:10:05.069Z"
   },
   {
    "duration": 4,
    "start_time": "2021-11-16T11:10:13.376Z"
   },
   {
    "duration": 3,
    "start_time": "2021-11-16T11:10:14.434Z"
   },
   {
    "duration": 3,
    "start_time": "2021-11-16T11:10:22.853Z"
   },
   {
    "duration": 4,
    "start_time": "2021-11-16T11:27:29.279Z"
   },
   {
    "duration": 4,
    "start_time": "2021-11-16T11:29:08.919Z"
   },
   {
    "duration": 118,
    "start_time": "2021-11-16T11:29:46.703Z"
   },
   {
    "duration": 437,
    "start_time": "2021-11-16T11:36:02.181Z"
   },
   {
    "duration": 157,
    "start_time": "2021-11-16T11:36:14.388Z"
   },
   {
    "duration": 207,
    "start_time": "2021-11-16T11:47:15.898Z"
   },
   {
    "duration": 3,
    "start_time": "2021-11-16T11:53:52.092Z"
   },
   {
    "duration": 3,
    "start_time": "2021-11-16T11:53:52.236Z"
   },
   {
    "duration": 3,
    "start_time": "2021-11-16T11:59:12.005Z"
   },
   {
    "duration": 112,
    "start_time": "2021-11-16T12:00:33.446Z"
   },
   {
    "duration": 3,
    "start_time": "2021-11-16T12:02:14.453Z"
   },
   {
    "duration": 3,
    "start_time": "2021-11-16T12:02:39.512Z"
   },
   {
    "duration": 106,
    "start_time": "2021-11-16T12:03:03.460Z"
   },
   {
    "duration": 3,
    "start_time": "2021-11-17T20:37:21.139Z"
   },
   {
    "duration": 3,
    "start_time": "2021-11-17T20:37:22.229Z"
   },
   {
    "duration": 3,
    "start_time": "2021-11-17T20:38:38.806Z"
   },
   {
    "duration": 3,
    "start_time": "2021-11-17T20:38:41.958Z"
   },
   {
    "duration": 3,
    "start_time": "2021-11-17T20:43:46.551Z"
   },
   {
    "duration": 4,
    "start_time": "2021-11-17T20:58:21.835Z"
   },
   {
    "duration": 3,
    "start_time": "2021-11-17T20:59:21.872Z"
   },
   {
    "duration": 4,
    "start_time": "2021-11-17T20:59:45.352Z"
   },
   {
    "duration": 4,
    "start_time": "2021-11-17T20:59:49.646Z"
   },
   {
    "duration": 159,
    "start_time": "2021-11-17T21:02:26.949Z"
   },
   {
    "duration": 3,
    "start_time": "2021-11-17T21:03:53.461Z"
   },
   {
    "duration": 3,
    "start_time": "2021-11-17T21:03:53.694Z"
   },
   {
    "duration": 3,
    "start_time": "2021-11-17T21:05:28.145Z"
   },
   {
    "duration": 116,
    "start_time": "2021-11-17T21:05:57.787Z"
   },
   {
    "duration": 3,
    "start_time": "2021-11-17T21:06:37.993Z"
   },
   {
    "duration": 3,
    "start_time": "2021-11-17T21:06:38.261Z"
   },
   {
    "duration": 3,
    "start_time": "2021-11-17T21:11:54.358Z"
   },
   {
    "duration": 3,
    "start_time": "2021-11-17T21:12:43.846Z"
   },
   {
    "duration": 4,
    "start_time": "2021-11-17T21:13:08.773Z"
   },
   {
    "duration": 3,
    "start_time": "2021-11-17T21:14:44.441Z"
   },
   {
    "duration": 3,
    "start_time": "2021-11-17T21:15:42.059Z"
   },
   {
    "duration": 4,
    "start_time": "2021-11-17T21:15:51.995Z"
   },
   {
    "duration": 3,
    "start_time": "2021-11-17T21:15:53.923Z"
   },
   {
    "duration": 3,
    "start_time": "2021-11-17T21:15:55.282Z"
   },
   {
    "duration": 3,
    "start_time": "2021-11-17T21:16:28.492Z"
   },
   {
    "duration": 3,
    "start_time": "2021-11-17T21:16:32.603Z"
   },
   {
    "duration": 3,
    "start_time": "2021-11-17T21:17:06.941Z"
   },
   {
    "duration": 98,
    "start_time": "2021-11-17T21:18:05.733Z"
   },
   {
    "duration": 4,
    "start_time": "2021-11-17T21:21:35.255Z"
   },
   {
    "duration": 3,
    "start_time": "2021-11-17T21:21:37.804Z"
   },
   {
    "duration": 4,
    "start_time": "2021-11-17T21:23:06.071Z"
   },
   {
    "duration": 3,
    "start_time": "2021-11-17T21:23:24.799Z"
   },
   {
    "duration": 3,
    "start_time": "2021-11-17T21:23:32.591Z"
   },
   {
    "duration": 98,
    "start_time": "2021-11-17T21:28:31.559Z"
   },
   {
    "duration": 3,
    "start_time": "2021-11-17T21:28:45.448Z"
   },
   {
    "duration": 3,
    "start_time": "2021-11-17T21:29:17.303Z"
   },
   {
    "duration": 3,
    "start_time": "2021-11-17T21:29:29.617Z"
   },
   {
    "duration": 3,
    "start_time": "2021-11-17T21:29:32.681Z"
   },
   {
    "duration": 3,
    "start_time": "2021-11-17T21:36:11.474Z"
   },
   {
    "duration": 3,
    "start_time": "2021-11-17T21:36:14.791Z"
   },
   {
    "duration": 3,
    "start_time": "2021-11-17T21:36:53.943Z"
   },
   {
    "duration": 3,
    "start_time": "2021-11-17T21:36:56.165Z"
   },
   {
    "duration": 4,
    "start_time": "2021-11-17T21:37:16.590Z"
   },
   {
    "duration": 3,
    "start_time": "2021-11-17T21:37:22.702Z"
   },
   {
    "duration": 4,
    "start_time": "2021-11-17T21:38:03.479Z"
   },
   {
    "duration": 3,
    "start_time": "2021-11-17T21:38:08.601Z"
   },
   {
    "duration": 3,
    "start_time": "2021-11-17T21:38:12.928Z"
   },
   {
    "duration": 3,
    "start_time": "2021-11-17T21:38:48.896Z"
   },
   {
    "duration": 2,
    "start_time": "2021-11-17T21:38:49.171Z"
   },
   {
    "duration": 4,
    "start_time": "2021-11-17T21:39:57.889Z"
   },
   {
    "duration": 3,
    "start_time": "2021-11-17T21:39:58.057Z"
   },
   {
    "duration": 3,
    "start_time": "2021-11-17T21:41:20.108Z"
   },
   {
    "duration": 3,
    "start_time": "2021-11-17T21:41:20.629Z"
   },
   {
    "duration": 3,
    "start_time": "2021-11-17T21:42:49.136Z"
   },
   {
    "duration": 3,
    "start_time": "2021-11-17T21:43:15.137Z"
   },
   {
    "duration": 4,
    "start_time": "2021-11-17T21:43:16.766Z"
   },
   {
    "duration": 4,
    "start_time": "2021-11-17T21:43:31.711Z"
   },
   {
    "duration": 3,
    "start_time": "2021-11-17T21:43:36.312Z"
   },
   {
    "duration": 4,
    "start_time": "2021-11-17T21:45:08.825Z"
   },
   {
    "duration": 4,
    "start_time": "2021-11-17T21:45:10.119Z"
   },
   {
    "duration": 4,
    "start_time": "2021-11-17T21:45:13.748Z"
   },
   {
    "duration": 3,
    "start_time": "2021-11-17T21:45:22.219Z"
   },
   {
    "duration": 3,
    "start_time": "2021-11-17T21:45:33.412Z"
   },
   {
    "duration": 2,
    "start_time": "2021-11-17T21:46:01.885Z"
   },
   {
    "duration": 3,
    "start_time": "2021-11-17T21:46:03.628Z"
   },
   {
    "duration": 107,
    "start_time": "2021-11-17T21:47:32.512Z"
   },
   {
    "duration": 103,
    "start_time": "2021-11-17T21:50:36.243Z"
   },
   {
    "duration": 3,
    "start_time": "2021-11-18T06:28:31.440Z"
   },
   {
    "duration": 3,
    "start_time": "2021-11-18T06:29:00.168Z"
   },
   {
    "duration": 3,
    "start_time": "2021-11-18T06:31:27.008Z"
   },
   {
    "duration": 2,
    "start_time": "2021-11-18T06:35:34.288Z"
   },
   {
    "duration": 2,
    "start_time": "2021-11-18T06:38:04.527Z"
   },
   {
    "duration": 2457,
    "start_time": "2024-09-13T22:23:48.704Z"
   },
   {
    "duration": 4,
    "start_time": "2024-09-13T22:26:09.788Z"
   },
   {
    "duration": 2,
    "start_time": "2024-09-13T22:26:09.794Z"
   },
   {
    "duration": 2,
    "start_time": "2024-09-13T22:26:09.840Z"
   },
   {
    "duration": 3,
    "start_time": "2024-09-13T22:26:09.844Z"
   },
   {
    "duration": 2,
    "start_time": "2024-09-13T22:26:09.850Z"
   },
   {
    "duration": 2,
    "start_time": "2024-09-13T22:26:09.854Z"
   },
   {
    "duration": 2,
    "start_time": "2024-09-13T22:26:09.859Z"
   },
   {
    "duration": 3,
    "start_time": "2024-09-13T22:26:09.862Z"
   },
   {
    "duration": 2,
    "start_time": "2024-09-13T22:26:09.867Z"
   },
   {
    "duration": 2,
    "start_time": "2024-09-13T22:26:09.871Z"
   },
   {
    "duration": 1,
    "start_time": "2024-09-13T22:26:09.878Z"
   },
   {
    "duration": 2,
    "start_time": "2024-09-13T22:26:09.882Z"
   },
   {
    "duration": 2,
    "start_time": "2024-09-13T22:26:09.886Z"
   },
   {
    "duration": 5,
    "start_time": "2024-09-13T22:26:09.900Z"
   },
   {
    "duration": 2,
    "start_time": "2024-09-13T22:26:09.907Z"
   },
   {
    "duration": 2,
    "start_time": "2024-09-13T22:26:09.911Z"
   },
   {
    "duration": 13,
    "start_time": "2024-09-13T22:26:09.916Z"
   },
   {
    "duration": 3,
    "start_time": "2024-09-13T22:26:09.930Z"
   },
   {
    "duration": 2,
    "start_time": "2024-09-13T22:26:09.934Z"
   },
   {
    "duration": 2,
    "start_time": "2024-09-13T22:26:09.938Z"
   },
   {
    "duration": 3,
    "start_time": "2024-09-13T22:26:09.942Z"
   },
   {
    "duration": 3,
    "start_time": "2024-09-13T22:26:09.946Z"
   },
   {
    "duration": 2,
    "start_time": "2024-09-13T22:26:09.951Z"
   },
   {
    "duration": 2,
    "start_time": "2024-09-13T22:26:09.955Z"
   },
   {
    "duration": 3,
    "start_time": "2024-09-13T22:26:09.959Z"
   },
   {
    "duration": 3,
    "start_time": "2024-09-13T22:26:10.005Z"
   },
   {
    "duration": 3,
    "start_time": "2024-09-13T22:26:10.009Z"
   },
   {
    "duration": 2,
    "start_time": "2024-09-13T22:26:10.013Z"
   },
   {
    "duration": 9,
    "start_time": "2024-09-13T22:28:48.175Z"
   },
   {
    "duration": 237,
    "start_time": "2024-09-13T22:30:26.151Z"
   },
   {
    "duration": 209,
    "start_time": "2024-09-13T22:30:40.850Z"
   },
   {
    "duration": 6,
    "start_time": "2024-09-13T22:30:57.814Z"
   },
   {
    "duration": 3,
    "start_time": "2024-09-13T22:31:37.834Z"
   },
   {
    "duration": 155,
    "start_time": "2024-09-13T22:31:37.839Z"
   },
   {
    "duration": 3,
    "start_time": "2024-09-13T22:31:37.995Z"
   },
   {
    "duration": 6,
    "start_time": "2024-09-13T22:31:37.999Z"
   },
   {
    "duration": 1,
    "start_time": "2024-09-13T22:31:38.008Z"
   },
   {
    "duration": 3,
    "start_time": "2024-09-13T22:31:38.011Z"
   },
   {
    "duration": 3,
    "start_time": "2024-09-13T22:31:38.015Z"
   },
   {
    "duration": 3,
    "start_time": "2024-09-13T22:31:38.020Z"
   },
   {
    "duration": 3,
    "start_time": "2024-09-13T22:31:38.024Z"
   },
   {
    "duration": 3,
    "start_time": "2024-09-13T22:31:38.028Z"
   },
   {
    "duration": 3,
    "start_time": "2024-09-13T22:31:38.033Z"
   },
   {
    "duration": 3,
    "start_time": "2024-09-13T22:31:38.037Z"
   },
   {
    "duration": 2,
    "start_time": "2024-09-13T22:31:38.042Z"
   },
   {
    "duration": 3,
    "start_time": "2024-09-13T22:31:38.046Z"
   },
   {
    "duration": 3,
    "start_time": "2024-09-13T22:31:38.050Z"
   },
   {
    "duration": 2,
    "start_time": "2024-09-13T22:31:38.055Z"
   },
   {
    "duration": 48,
    "start_time": "2024-09-13T22:31:38.059Z"
   },
   {
    "duration": 2,
    "start_time": "2024-09-13T22:31:38.109Z"
   },
   {
    "duration": 2,
    "start_time": "2024-09-13T22:31:38.113Z"
   },
   {
    "duration": 2,
    "start_time": "2024-09-13T22:31:38.117Z"
   },
   {
    "duration": 3,
    "start_time": "2024-09-13T22:31:38.120Z"
   },
   {
    "duration": 3,
    "start_time": "2024-09-13T22:31:38.124Z"
   },
   {
    "duration": 3,
    "start_time": "2024-09-13T22:31:38.128Z"
   },
   {
    "duration": 3,
    "start_time": "2024-09-13T22:31:38.132Z"
   },
   {
    "duration": 2,
    "start_time": "2024-09-13T22:31:38.136Z"
   },
   {
    "duration": 2,
    "start_time": "2024-09-13T22:31:38.141Z"
   },
   {
    "duration": 3,
    "start_time": "2024-09-13T22:31:38.144Z"
   },
   {
    "duration": 2,
    "start_time": "2024-09-13T22:31:38.149Z"
   },
   {
    "duration": 3,
    "start_time": "2024-09-13T22:33:25.160Z"
   },
   {
    "duration": 169,
    "start_time": "2024-09-13T22:33:25.165Z"
   },
   {
    "duration": 3,
    "start_time": "2024-09-13T22:33:25.338Z"
   },
   {
    "duration": 5,
    "start_time": "2024-09-13T22:33:25.342Z"
   },
   {
    "duration": 2,
    "start_time": "2024-09-13T22:33:25.351Z"
   },
   {
    "duration": 5,
    "start_time": "2024-09-13T22:33:25.356Z"
   },
   {
    "duration": 5,
    "start_time": "2024-09-13T22:33:25.363Z"
   },
   {
    "duration": 3,
    "start_time": "2024-09-13T22:33:25.370Z"
   },
   {
    "duration": 2,
    "start_time": "2024-09-13T22:33:25.375Z"
   },
   {
    "duration": 3,
    "start_time": "2024-09-13T22:33:25.379Z"
   },
   {
    "duration": 3,
    "start_time": "2024-09-13T22:33:25.407Z"
   },
   {
    "duration": 3,
    "start_time": "2024-09-13T22:33:25.411Z"
   },
   {
    "duration": 3,
    "start_time": "2024-09-13T22:33:25.415Z"
   },
   {
    "duration": 2,
    "start_time": "2024-09-13T22:33:25.420Z"
   },
   {
    "duration": 3,
    "start_time": "2024-09-13T22:33:25.424Z"
   },
   {
    "duration": 3,
    "start_time": "2024-09-13T22:33:25.428Z"
   },
   {
    "duration": 3,
    "start_time": "2024-09-13T22:33:25.432Z"
   },
   {
    "duration": 2,
    "start_time": "2024-09-13T22:33:25.437Z"
   },
   {
    "duration": 2,
    "start_time": "2024-09-13T22:33:25.441Z"
   },
   {
    "duration": 2,
    "start_time": "2024-09-13T22:33:25.445Z"
   },
   {
    "duration": 3,
    "start_time": "2024-09-13T22:33:25.449Z"
   },
   {
    "duration": 2,
    "start_time": "2024-09-13T22:33:25.453Z"
   },
   {
    "duration": 2,
    "start_time": "2024-09-13T22:33:25.505Z"
   },
   {
    "duration": 4,
    "start_time": "2024-09-13T22:33:25.509Z"
   },
   {
    "duration": 3,
    "start_time": "2024-09-13T22:33:25.515Z"
   },
   {
    "duration": 2,
    "start_time": "2024-09-13T22:33:25.519Z"
   },
   {
    "duration": 2,
    "start_time": "2024-09-13T22:33:25.526Z"
   },
   {
    "duration": 2,
    "start_time": "2024-09-13T22:33:25.530Z"
   },
   {
    "duration": 3,
    "start_time": "2024-09-13T22:36:51.637Z"
   },
   {
    "duration": 155,
    "start_time": "2024-09-13T22:36:51.643Z"
   },
   {
    "duration": 3,
    "start_time": "2024-09-13T22:36:51.800Z"
   },
   {
    "duration": 2,
    "start_time": "2024-09-13T22:36:51.805Z"
   },
   {
    "duration": 2,
    "start_time": "2024-09-13T22:36:51.810Z"
   },
   {
    "duration": 2,
    "start_time": "2024-09-13T22:36:51.814Z"
   },
   {
    "duration": 2,
    "start_time": "2024-09-13T22:36:51.818Z"
   },
   {
    "duration": 2,
    "start_time": "2024-09-13T22:36:51.822Z"
   },
   {
    "duration": 2,
    "start_time": "2024-09-13T22:36:51.852Z"
   },
   {
    "duration": 2,
    "start_time": "2024-09-13T22:36:51.856Z"
   },
   {
    "duration": 2,
    "start_time": "2024-09-13T22:36:51.923Z"
   },
   {
    "duration": 2,
    "start_time": "2024-09-13T22:36:51.928Z"
   },
   {
    "duration": 2,
    "start_time": "2024-09-13T22:36:51.991Z"
   },
   {
    "duration": 2,
    "start_time": "2024-09-13T22:36:51.995Z"
   },
   {
    "duration": 3,
    "start_time": "2024-09-13T22:36:51.998Z"
   },
   {
    "duration": 2,
    "start_time": "2024-09-13T22:36:52.003Z"
   },
   {
    "duration": 2,
    "start_time": "2024-09-13T22:36:52.008Z"
   },
   {
    "duration": 2,
    "start_time": "2024-09-13T22:36:52.012Z"
   },
   {
    "duration": 2,
    "start_time": "2024-09-13T22:36:52.016Z"
   },
   {
    "duration": 2,
    "start_time": "2024-09-13T22:36:52.021Z"
   },
   {
    "duration": 2,
    "start_time": "2024-09-13T22:36:52.024Z"
   },
   {
    "duration": 3,
    "start_time": "2024-09-13T22:36:52.028Z"
   },
   {
    "duration": 2,
    "start_time": "2024-09-13T22:36:52.033Z"
   },
   {
    "duration": 3,
    "start_time": "2024-09-13T22:36:52.036Z"
   },
   {
    "duration": 2,
    "start_time": "2024-09-13T22:36:52.040Z"
   },
   {
    "duration": 2,
    "start_time": "2024-09-13T22:36:52.044Z"
   },
   {
    "duration": 57,
    "start_time": "2024-09-13T22:36:52.048Z"
   },
   {
    "duration": 3,
    "start_time": "2024-09-13T22:36:52.106Z"
   },
   {
    "duration": 9,
    "start_time": "2024-09-13T22:37:20.937Z"
   },
   {
    "duration": 27,
    "start_time": "2024-09-13T22:37:34.720Z"
   },
   {
    "duration": 8,
    "start_time": "2024-09-13T22:37:45.440Z"
   },
   {
    "duration": 11,
    "start_time": "2024-09-13T22:39:01.883Z"
   },
   {
    "duration": 10,
    "start_time": "2024-09-13T22:39:12.269Z"
   },
   {
    "duration": 10,
    "start_time": "2024-09-13T22:39:16.155Z"
   },
   {
    "duration": 6,
    "start_time": "2024-09-13T22:40:48.022Z"
   }
  ],
  "colab": {
   "provenance": []
  },
  "kernelspec": {
   "display_name": "Python 3 (ipykernel)",
   "language": "python",
   "name": "python3"
  },
  "language_info": {
   "codemirror_mode": {
    "name": "ipython",
    "version": 3
   },
   "file_extension": ".py",
   "mimetype": "text/x-python",
   "name": "python",
   "nbconvert_exporter": "python",
   "pygments_lexer": "ipython3",
   "version": "3.12.4"
  },
  "toc": {
   "base_numbering": 1,
   "nav_menu": {},
   "number_sections": true,
   "sideBar": true,
   "skip_h1_title": false,
   "title_cell": "Table of Contents",
   "title_sidebar": "Contents",
   "toc_cell": false,
   "toc_position": {
    "height": "calc(100% - 180px)",
    "left": "10px",
    "top": "150px",
    "width": "252.391px"
   },
   "toc_section_display": true,
   "toc_window_display": true
  }
 },
 "nbformat": 4,
 "nbformat_minor": 1
}

{
 "cells": [
  {
   "cell_type": "markdown",
   "metadata": {
    "id": "3rYiDeEH0q0f"
   },
   "source": [
    "# ¿Cuál es la mejor tarifa?\n",
    "\n",
    "## Descripción del proyecto\n",
    "---\n",
    "\n",
    "Trabajas como analista para el operador de telecomunicaciones Megaline. La empresa ofrece a sus clientes dos tarifas de prepago, Surf y Ultimate. El departamento comercial quiere saber cuál de las tarifas genera más ingresos para poder ajustar el presupuesto de publicidad.\n",
    "\n",
    "Vas a realizar un análisis preliminar de las tarifas basado en una selección de clientes relativamente pequeña. Tendrás los datos de 500 clientes de Megaline: quiénes son los clientes, de dónde son, qué tarifa usan, así como la cantidad de llamadas que hicieron y los mensajes de texto que enviaron en 2018. Tu trabajo es analizar el comportamiento de los clientes y determinar qué tarifa de prepago genera más ingresos."
   ]
  },
  {
   "cell_type": "markdown",
   "metadata": {
    "id": "VNddPNRQ0q0w"
   },
   "source": [
    "### Objetivo\n",
    "El objetivo de este proyecto es evaluar el comportamiento de los clientes y determinar cuál tarifa de Megaline es más rentable.\n",
    "\n",
    "Las acciones a realizar: \n",
    "- Paso 1: Cargar y explorar los datos\n",
    "- Paso 2: Manipulación de datos\n",
    "- Paso 3: Análisis de datos\n",
    "- Paso 4: Pruebas de hipótesis\n",
    "- Paso 5: Conclusiones"
   ]
  },
  {
   "cell_type": "markdown",
   "metadata": {},
   "source": [
    "## Cargar y explorar los datos\n",
    "---\n",
    "\n",
    "En esta sección, comenzaremos cargando las bibliotecas necesarias y los datos proporcionados. Luego, realizaremos una exploración inicial del conjunto de datos para comprender su estructura. Esto incluirá:\n",
    "\n",
    "- Verificar el tamaño del dataset (número de filas y columnas)\n",
    "- Examinar los tipos de datos en cada columna\n",
    "- Identificar la presencia de valores faltantes o atípicos que puedan requerir tratamiento antes de proceder con el análisis."
   ]
  },
  {
   "cell_type": "markdown",
   "metadata": {},
   "source": [
    "### Cargar ambiente\n",
    "Importamos las bibliotecas esenciales para el análisis."
   ]
  },
  {
   "cell_type": "code",
   "execution_count": 208,
   "metadata": {
    "id": "MtYIuBxu0q0z"
   },
   "outputs": [],
   "source": [
    "## Cargar el ambiente de trabajo\n",
    "import pandas as pd\n",
    "import numpy as np\n",
    "import math as mt\n",
    "from matplotlib import pyplot as plt\n",
    "from scipy import stats as st\n",
    "import seaborn as sns"
   ]
  },
  {
   "cell_type": "markdown",
   "metadata": {},
   "source": [
    "### Cargar datasets\n",
    "Leemos los archivos de datos proporcionados para cada dataset por analizar. "
   ]
  },
  {
   "cell_type": "code",
   "execution_count": 209,
   "metadata": {
    "id": "CCqPW7rS0q01"
   },
   "outputs": [],
   "source": [
    "# Cargar los datos en diferentes DataFrames\n",
    "\n",
    "## Usuarios\n",
    "df_users= pd.read_csv(\"../data/megaline_users.csv\")\n",
    "\n",
    "## Llamadas\n",
    "df_calls= pd.read_csv(\"../data/megaline_calls.csv\")\n",
    "\n",
    "## Mensajes\n",
    "df_messages= pd.read_csv(\"../data/megaline_messages.csv\")\n",
    "\n",
    "## Tráfico de datos\n",
    "df_internet= pd.read_csv(\"../data/megaline_internet.csv\")\n",
    "\n",
    "## Tarifas\n",
    "df_plans= pd.read_csv(\"../data/megaline_plans.csv\")"
   ]
  },
  {
   "cell_type": "markdown",
   "metadata": {},
   "source": [
    "### Exploración de datasets\n",
    "En esta etapa, realizaremos un análisis preliminar de los datasets para comprender su estructura y calidad. "
   ]
  },
  {
   "cell_type": "markdown",
   "metadata": {},
   "source": [
    "#### Inspección de la base de datos **`users`**"
   ]
  },
  {
   "cell_type": "code",
   "execution_count": 210,
   "metadata": {},
   "outputs": [
    {
     "name": "stdout",
     "output_type": "stream",
     "text": [
      "   user_id first_name  last_name  age                                   city  \\\n",
      "0     1000   Anamaria      Bauer   45  Atlanta-Sandy Springs-Roswell, GA MSA   \n",
      "1     1001     Mickey  Wilkerson   28        Seattle-Tacoma-Bellevue, WA MSA   \n",
      "2     1002     Carlee    Hoffman   36   Las Vegas-Henderson-Paradise, NV MSA   \n",
      "3     1003   Reynaldo    Jenkins   52                          Tulsa, OK MSA   \n",
      "4     1004    Leonila   Thompson   40        Seattle-Tacoma-Bellevue, WA MSA   \n",
      "\n",
      "     reg_date      plan churn_date  \n",
      "0  2018-12-24  ultimate        NaN  \n",
      "1  2018-08-13      surf        NaN  \n",
      "2  2018-10-21      surf        NaN  \n",
      "3  2018-01-28      surf        NaN  \n",
      "4  2018-05-23      surf        NaN  \n"
     ]
    }
   ],
   "source": [
    "## Visualización del df\n",
    "print(df_users.head())"
   ]
  },
  {
   "cell_type": "code",
   "execution_count": 211,
   "metadata": {},
   "outputs": [
    {
     "name": "stdout",
     "output_type": "stream",
     "text": [
      "<class 'pandas.core.frame.DataFrame'>\n",
      "RangeIndex: 500 entries, 0 to 499\n",
      "Data columns (total 8 columns):\n",
      " #   Column      Non-Null Count  Dtype \n",
      "---  ------      --------------  ----- \n",
      " 0   user_id     500 non-null    int64 \n",
      " 1   first_name  500 non-null    object\n",
      " 2   last_name   500 non-null    object\n",
      " 3   age         500 non-null    int64 \n",
      " 4   city        500 non-null    object\n",
      " 5   reg_date    500 non-null    object\n",
      " 6   plan        500 non-null    object\n",
      " 7   churn_date  34 non-null     object\n",
      "dtypes: int64(2), object(6)\n",
      "memory usage: 31.4+ KB\n"
     ]
    }
   ],
   "source": [
    "## Información general \n",
    "df_users.info()"
   ]
  },
  {
   "cell_type": "code",
   "execution_count": 212,
   "metadata": {},
   "outputs": [
    {
     "name": "stdout",
     "output_type": "stream",
     "text": [
      "0\n",
      "\n",
      "Empty DataFrame\n",
      "Columns: [user_id, first_name, last_name, age, city, reg_date, plan, churn_date]\n",
      "Index: []\n"
     ]
    }
   ],
   "source": [
    "# Valores duplicados explícitos\n",
    "## Número de valores duplicados\n",
    "print(df_users.duplicated().sum())\n",
    "print()\n",
    "\n",
    "## Identificación de valores duplicados\n",
    "print(df_users[df_users.duplicated()])"
   ]
  },
  {
   "cell_type": "code",
   "execution_count": 213,
   "metadata": {},
   "outputs": [
    {
     "name": "stdout",
     "output_type": "stream",
     "text": [
      "0\n",
      "\n",
      "Empty DataFrame\n",
      "Columns: [user_id, first_name, last_name, age, city, reg_date, plan, churn_date]\n",
      "Index: []\n"
     ]
    }
   ],
   "source": [
    "# Valores duplicados implícitos\n",
    "## Número de valores duplicados\n",
    "print(df_users.duplicated(subset=\"user_id\").sum())\n",
    "print()\n",
    "\n",
    "## Identificación de valores duplicados\n",
    "print(df_users[df_users.duplicated(subset=\"user_id\")])"
   ]
  },
  {
   "cell_type": "code",
   "execution_count": 214,
   "metadata": {},
   "outputs": [
    {
     "name": "stdout",
     "output_type": "stream",
     "text": [
      "user_id         0\n",
      "first_name      0\n",
      "last_name       0\n",
      "age             0\n",
      "city            0\n",
      "reg_date        0\n",
      "plan            0\n",
      "churn_date    466\n",
      "dtype: int64\n"
     ]
    }
   ],
   "source": [
    "## Valores faltantes\n",
    "print(df_users.isna().sum())"
   ]
  },
  {
   "cell_type": "code",
   "execution_count": 215,
   "metadata": {},
   "outputs": [
    {
     "data": {
      "text/html": [
       "<div>\n",
       "<style scoped>\n",
       "    .dataframe tbody tr th:only-of-type {\n",
       "        vertical-align: middle;\n",
       "    }\n",
       "\n",
       "    .dataframe tbody tr th {\n",
       "        vertical-align: top;\n",
       "    }\n",
       "\n",
       "    .dataframe thead th {\n",
       "        text-align: right;\n",
       "    }\n",
       "</style>\n",
       "<table border=\"1\" class=\"dataframe\">\n",
       "  <thead>\n",
       "    <tr style=\"text-align: right;\">\n",
       "      <th></th>\n",
       "      <th>user_id</th>\n",
       "      <th>age</th>\n",
       "    </tr>\n",
       "  </thead>\n",
       "  <tbody>\n",
       "    <tr>\n",
       "      <th>count</th>\n",
       "      <td>500.00</td>\n",
       "      <td>500.00</td>\n",
       "    </tr>\n",
       "    <tr>\n",
       "      <th>mean</th>\n",
       "      <td>1249.50</td>\n",
       "      <td>45.49</td>\n",
       "    </tr>\n",
       "    <tr>\n",
       "      <th>std</th>\n",
       "      <td>144.48</td>\n",
       "      <td>16.97</td>\n",
       "    </tr>\n",
       "    <tr>\n",
       "      <th>min</th>\n",
       "      <td>1000.00</td>\n",
       "      <td>18.00</td>\n",
       "    </tr>\n",
       "    <tr>\n",
       "      <th>25%</th>\n",
       "      <td>1124.75</td>\n",
       "      <td>30.00</td>\n",
       "    </tr>\n",
       "    <tr>\n",
       "      <th>50%</th>\n",
       "      <td>1249.50</td>\n",
       "      <td>46.00</td>\n",
       "    </tr>\n",
       "    <tr>\n",
       "      <th>75%</th>\n",
       "      <td>1374.25</td>\n",
       "      <td>61.00</td>\n",
       "    </tr>\n",
       "    <tr>\n",
       "      <th>max</th>\n",
       "      <td>1499.00</td>\n",
       "      <td>75.00</td>\n",
       "    </tr>\n",
       "  </tbody>\n",
       "</table>\n",
       "</div>"
      ],
      "text/plain": [
       "       user_id     age\n",
       "count   500.00  500.00\n",
       "mean   1249.50   45.49\n",
       "std     144.48   16.97\n",
       "min    1000.00   18.00\n",
       "25%    1124.75   30.00\n",
       "50%    1249.50   46.00\n",
       "75%    1374.25   61.00\n",
       "max    1499.00   75.00"
      ]
     },
     "execution_count": 215,
     "metadata": {},
     "output_type": "execute_result"
    }
   ],
   "source": [
    "## Estadísticas descriptivas para columnas numéricas\n",
    "round(df_users.describe(),2)"
   ]
  },
  {
   "cell_type": "code",
   "execution_count": 216,
   "metadata": {},
   "outputs": [
    {
     "data": {
      "text/html": [
       "<div>\n",
       "<style scoped>\n",
       "    .dataframe tbody tr th:only-of-type {\n",
       "        vertical-align: middle;\n",
       "    }\n",
       "\n",
       "    .dataframe tbody tr th {\n",
       "        vertical-align: top;\n",
       "    }\n",
       "\n",
       "    .dataframe thead th {\n",
       "        text-align: right;\n",
       "    }\n",
       "</style>\n",
       "<table border=\"1\" class=\"dataframe\">\n",
       "  <thead>\n",
       "    <tr style=\"text-align: right;\">\n",
       "      <th></th>\n",
       "      <th>first_name</th>\n",
       "      <th>last_name</th>\n",
       "      <th>city</th>\n",
       "      <th>reg_date</th>\n",
       "      <th>plan</th>\n",
       "      <th>churn_date</th>\n",
       "    </tr>\n",
       "  </thead>\n",
       "  <tbody>\n",
       "    <tr>\n",
       "      <th>count</th>\n",
       "      <td>500</td>\n",
       "      <td>500</td>\n",
       "      <td>500</td>\n",
       "      <td>500</td>\n",
       "      <td>500</td>\n",
       "      <td>34</td>\n",
       "    </tr>\n",
       "    <tr>\n",
       "      <th>unique</th>\n",
       "      <td>458</td>\n",
       "      <td>399</td>\n",
       "      <td>73</td>\n",
       "      <td>266</td>\n",
       "      <td>2</td>\n",
       "      <td>29</td>\n",
       "    </tr>\n",
       "    <tr>\n",
       "      <th>top</th>\n",
       "      <td>Seymour</td>\n",
       "      <td>Wilkinson</td>\n",
       "      <td>New York-Newark-Jersey City, NY-NJ-PA MSA</td>\n",
       "      <td>2018-06-04</td>\n",
       "      <td>surf</td>\n",
       "      <td>2018-12-18</td>\n",
       "    </tr>\n",
       "    <tr>\n",
       "      <th>freq</th>\n",
       "      <td>3</td>\n",
       "      <td>3</td>\n",
       "      <td>80</td>\n",
       "      <td>5</td>\n",
       "      <td>339</td>\n",
       "      <td>3</td>\n",
       "    </tr>\n",
       "  </tbody>\n",
       "</table>\n",
       "</div>"
      ],
      "text/plain": [
       "       first_name  last_name                                       city  \\\n",
       "count         500        500                                        500   \n",
       "unique        458        399                                         73   \n",
       "top       Seymour  Wilkinson  New York-Newark-Jersey City, NY-NJ-PA MSA   \n",
       "freq            3          3                                         80   \n",
       "\n",
       "          reg_date  plan  churn_date  \n",
       "count          500   500          34  \n",
       "unique         266     2          29  \n",
       "top     2018-06-04  surf  2018-12-18  \n",
       "freq             5   339           3  "
      ]
     },
     "execution_count": 216,
     "metadata": {},
     "output_type": "execute_result"
    }
   ],
   "source": [
    "## Estadísticas descriptivas para columnas categóricas\n",
    "df_users.describe(include=\"object\")"
   ]
  },
  {
   "cell_type": "markdown",
   "metadata": {},
   "source": [
    "El DataFrame de usuarios de Megaline contiene 500 observaciones y 8 variables, proporcionando tanto información personal de los clientes como datos sobre su interacción con la compañía.\n",
    "\n",
    "Durante la exploración inicial, identificamos los siguientes problemas:\n",
    "\n",
    "- La columna `city` incluye información adicional de la localidad que no corresponde solo a la ciudad.\n",
    "- Las columnas `reg_date` y `churn_date` están formateadas como tipo objeto en lugar de tipo fecha.\n",
    "- La columna `churn_date` presenta 466 valores faltantes.\n",
    "- La variable `plan` podría ser más específica en cuanto a los tipos de plan.\n",
    "\n",
    "No encontramos duplicados explícitos en el dataset. Para los duplicados implícitos, analizamos únicamente la columna `user_id`, ya que se supone que este identificador no debe repetirse.\n",
    "\n",
    "En cuanto a los clientes, las edades oscilan entre 18 y 75 años, con una media de 46 años. El nombre más común es *Jasper* y el apellido más frecuente es *Caldwell*. Verificamos que no hubiera más de un cliente llamado *Jasper Caldwell*. La mayoría de los usuarios están suscritos al plan `surf`."
   ]
  },
  {
   "cell_type": "markdown",
   "metadata": {},
   "source": [
    "#### Inspección de la base de datos **`calls`**"
   ]
  },
  {
   "cell_type": "code",
   "execution_count": 217,
   "metadata": {},
   "outputs": [
    {
     "name": "stdout",
     "output_type": "stream",
     "text": [
      "         id  user_id   call_date  duration\n",
      "0   1000_93     1000  2018-12-27      8.52\n",
      "1  1000_145     1000  2018-12-27     13.66\n",
      "2  1000_247     1000  2018-12-27     14.48\n",
      "3  1000_309     1000  2018-12-28      5.76\n",
      "4  1000_380     1000  2018-12-30      4.22\n"
     ]
    }
   ],
   "source": [
    "## Visualización del df\n",
    "print(df_calls.head())"
   ]
  },
  {
   "cell_type": "code",
   "execution_count": 218,
   "metadata": {},
   "outputs": [
    {
     "name": "stdout",
     "output_type": "stream",
     "text": [
      "<class 'pandas.core.frame.DataFrame'>\n",
      "RangeIndex: 137735 entries, 0 to 137734\n",
      "Data columns (total 4 columns):\n",
      " #   Column     Non-Null Count   Dtype  \n",
      "---  ------     --------------   -----  \n",
      " 0   id         137735 non-null  object \n",
      " 1   user_id    137735 non-null  int64  \n",
      " 2   call_date  137735 non-null  object \n",
      " 3   duration   137735 non-null  float64\n",
      "dtypes: float64(1), int64(1), object(2)\n",
      "memory usage: 4.2+ MB\n"
     ]
    }
   ],
   "source": [
    "## Información general \n",
    "df_calls.info()"
   ]
  },
  {
   "cell_type": "code",
   "execution_count": 219,
   "metadata": {},
   "outputs": [
    {
     "name": "stdout",
     "output_type": "stream",
     "text": [
      "0\n",
      "\n",
      "Empty DataFrame\n",
      "Columns: [id, user_id, call_date, duration]\n",
      "Index: []\n"
     ]
    }
   ],
   "source": [
    "# Valores duplicados explícitos\n",
    "## Número de valores duplicados\n",
    "print(df_calls.duplicated().sum())\n",
    "print()\n",
    "\n",
    "## Identificación de valores duplicados\n",
    "print(df_calls[df_calls.duplicated()])"
   ]
  },
  {
   "cell_type": "code",
   "execution_count": 220,
   "metadata": {},
   "outputs": [
    {
     "name": "stdout",
     "output_type": "stream",
     "text": [
      "0\n",
      "\n",
      "Empty DataFrame\n",
      "Columns: [id, user_id, call_date, duration]\n",
      "Index: []\n"
     ]
    }
   ],
   "source": [
    "# Valores duplicados implícitos\n",
    "## Número de valores duplicados\n",
    "print(df_calls.duplicated(subset=\"id\").sum())\n",
    "print()\n",
    "\n",
    "## Identificación de valores duplicados\n",
    "print(df_calls[df_calls.duplicated(subset=\"id\")])"
   ]
  },
  {
   "cell_type": "code",
   "execution_count": 221,
   "metadata": {},
   "outputs": [
    {
     "name": "stdout",
     "output_type": "stream",
     "text": [
      "id           0\n",
      "user_id      0\n",
      "call_date    0\n",
      "duration     0\n",
      "dtype: int64\n"
     ]
    }
   ],
   "source": [
    "## Valores faltantes\n",
    "print(df_calls.isna().sum())"
   ]
  },
  {
   "cell_type": "code",
   "execution_count": 222,
   "metadata": {},
   "outputs": [
    {
     "data": {
      "text/html": [
       "<div>\n",
       "<style scoped>\n",
       "    .dataframe tbody tr th:only-of-type {\n",
       "        vertical-align: middle;\n",
       "    }\n",
       "\n",
       "    .dataframe tbody tr th {\n",
       "        vertical-align: top;\n",
       "    }\n",
       "\n",
       "    .dataframe thead th {\n",
       "        text-align: right;\n",
       "    }\n",
       "</style>\n",
       "<table border=\"1\" class=\"dataframe\">\n",
       "  <thead>\n",
       "    <tr style=\"text-align: right;\">\n",
       "      <th></th>\n",
       "      <th>user_id</th>\n",
       "      <th>duration</th>\n",
       "    </tr>\n",
       "  </thead>\n",
       "  <tbody>\n",
       "    <tr>\n",
       "      <th>count</th>\n",
       "      <td>137735.00</td>\n",
       "      <td>137735.00</td>\n",
       "    </tr>\n",
       "    <tr>\n",
       "      <th>mean</th>\n",
       "      <td>1247.66</td>\n",
       "      <td>6.75</td>\n",
       "    </tr>\n",
       "    <tr>\n",
       "      <th>std</th>\n",
       "      <td>139.42</td>\n",
       "      <td>5.84</td>\n",
       "    </tr>\n",
       "    <tr>\n",
       "      <th>min</th>\n",
       "      <td>1000.00</td>\n",
       "      <td>0.00</td>\n",
       "    </tr>\n",
       "    <tr>\n",
       "      <th>25%</th>\n",
       "      <td>1128.00</td>\n",
       "      <td>1.29</td>\n",
       "    </tr>\n",
       "    <tr>\n",
       "      <th>50%</th>\n",
       "      <td>1247.00</td>\n",
       "      <td>5.98</td>\n",
       "    </tr>\n",
       "    <tr>\n",
       "      <th>75%</th>\n",
       "      <td>1365.00</td>\n",
       "      <td>10.69</td>\n",
       "    </tr>\n",
       "    <tr>\n",
       "      <th>max</th>\n",
       "      <td>1499.00</td>\n",
       "      <td>37.60</td>\n",
       "    </tr>\n",
       "  </tbody>\n",
       "</table>\n",
       "</div>"
      ],
      "text/plain": [
       "         user_id   duration\n",
       "count  137735.00  137735.00\n",
       "mean     1247.66       6.75\n",
       "std       139.42       5.84\n",
       "min      1000.00       0.00\n",
       "25%      1128.00       1.29\n",
       "50%      1247.00       5.98\n",
       "75%      1365.00      10.69\n",
       "max      1499.00      37.60"
      ]
     },
     "execution_count": 222,
     "metadata": {},
     "output_type": "execute_result"
    }
   ],
   "source": [
    "## Estadísticas descriptivas para columnas numéricas\n",
    "round(df_calls.describe(),2)"
   ]
  },
  {
   "cell_type": "code",
   "execution_count": 223,
   "metadata": {},
   "outputs": [
    {
     "data": {
      "text/html": [
       "<div>\n",
       "<style scoped>\n",
       "    .dataframe tbody tr th:only-of-type {\n",
       "        vertical-align: middle;\n",
       "    }\n",
       "\n",
       "    .dataframe tbody tr th {\n",
       "        vertical-align: top;\n",
       "    }\n",
       "\n",
       "    .dataframe thead th {\n",
       "        text-align: right;\n",
       "    }\n",
       "</style>\n",
       "<table border=\"1\" class=\"dataframe\">\n",
       "  <thead>\n",
       "    <tr style=\"text-align: right;\">\n",
       "      <th></th>\n",
       "      <th>id</th>\n",
       "      <th>call_date</th>\n",
       "    </tr>\n",
       "  </thead>\n",
       "  <tbody>\n",
       "    <tr>\n",
       "      <th>count</th>\n",
       "      <td>137735</td>\n",
       "      <td>137735</td>\n",
       "    </tr>\n",
       "    <tr>\n",
       "      <th>unique</th>\n",
       "      <td>137735</td>\n",
       "      <td>351</td>\n",
       "    </tr>\n",
       "    <tr>\n",
       "      <th>top</th>\n",
       "      <td>1499_203</td>\n",
       "      <td>2018-12-27</td>\n",
       "    </tr>\n",
       "    <tr>\n",
       "      <th>freq</th>\n",
       "      <td>1</td>\n",
       "      <td>1091</td>\n",
       "    </tr>\n",
       "  </tbody>\n",
       "</table>\n",
       "</div>"
      ],
      "text/plain": [
       "              id   call_date\n",
       "count     137735      137735\n",
       "unique    137735         351\n",
       "top     1499_203  2018-12-27\n",
       "freq           1        1091"
      ]
     },
     "execution_count": 223,
     "metadata": {},
     "output_type": "execute_result"
    }
   ],
   "source": [
    "## Estadísticas descriptivas para columnas categóricas\n",
    "df_calls.describe(include=\"object\")"
   ]
  },
  {
   "cell_type": "markdown",
   "metadata": {},
   "source": [
    "El DataFrame de las llamadas con Megaline contiene 137,735 observaciones y 4 variables, con información sobre las llamadas realizadas durante el año 2018.\n",
    "\n",
    "Durante la revisión inicial, identificamos los siguientes problemas:\n",
    "\n",
    "- La columna `duration` no especifica las unidades de medida.\n",
    "- La columna `call_date` está almacenada como tipo objeto en lugar de tipo fecha.\n",
    "- La columna `id` no deja claro que se refiere al identificador de cada llamada.\n",
    "\n",
    "No se encontraron duplicados explícitos en el dataset. Para los duplicados implícitos, analizamos únicamente la columna `id`, ya que este identificador debe ser único. Tampoco se identificaron valores ausentes.\n",
    "\n",
    "En cuanto a las llamadas, observamos que tienen una duración promedio de 6.75 minutos, variando entre 0 y 37.6 minutos. El registro de llamadas comienza el *15 de enero de 2018* y finaliza el *31 de diciembre de 2018*. La fecha con mayor número de llamadas fue el *27 de diciembre de 2018*, probablemente debido a las celebraciones de Navidad y Año Nuevo."
   ]
  },
  {
   "cell_type": "markdown",
   "metadata": {},
   "source": [
    "#### Inspección de la base de datos **`messages`**"
   ]
  },
  {
   "cell_type": "code",
   "execution_count": 224,
   "metadata": {},
   "outputs": [
    {
     "data": {
      "text/html": [
       "<div>\n",
       "<style scoped>\n",
       "    .dataframe tbody tr th:only-of-type {\n",
       "        vertical-align: middle;\n",
       "    }\n",
       "\n",
       "    .dataframe tbody tr th {\n",
       "        vertical-align: top;\n",
       "    }\n",
       "\n",
       "    .dataframe thead th {\n",
       "        text-align: right;\n",
       "    }\n",
       "</style>\n",
       "<table border=\"1\" class=\"dataframe\">\n",
       "  <thead>\n",
       "    <tr style=\"text-align: right;\">\n",
       "      <th></th>\n",
       "      <th>id</th>\n",
       "      <th>user_id</th>\n",
       "      <th>message_date</th>\n",
       "    </tr>\n",
       "  </thead>\n",
       "  <tbody>\n",
       "    <tr>\n",
       "      <th>0</th>\n",
       "      <td>1000_125</td>\n",
       "      <td>1000</td>\n",
       "      <td>2018-12-27</td>\n",
       "    </tr>\n",
       "    <tr>\n",
       "      <th>1</th>\n",
       "      <td>1000_160</td>\n",
       "      <td>1000</td>\n",
       "      <td>2018-12-31</td>\n",
       "    </tr>\n",
       "    <tr>\n",
       "      <th>2</th>\n",
       "      <td>1000_223</td>\n",
       "      <td>1000</td>\n",
       "      <td>2018-12-31</td>\n",
       "    </tr>\n",
       "    <tr>\n",
       "      <th>3</th>\n",
       "      <td>1000_251</td>\n",
       "      <td>1000</td>\n",
       "      <td>2018-12-27</td>\n",
       "    </tr>\n",
       "    <tr>\n",
       "      <th>4</th>\n",
       "      <td>1000_255</td>\n",
       "      <td>1000</td>\n",
       "      <td>2018-12-26</td>\n",
       "    </tr>\n",
       "  </tbody>\n",
       "</table>\n",
       "</div>"
      ],
      "text/plain": [
       "         id  user_id message_date\n",
       "0  1000_125     1000   2018-12-27\n",
       "1  1000_160     1000   2018-12-31\n",
       "2  1000_223     1000   2018-12-31\n",
       "3  1000_251     1000   2018-12-27\n",
       "4  1000_255     1000   2018-12-26"
      ]
     },
     "execution_count": 224,
     "metadata": {},
     "output_type": "execute_result"
    }
   ],
   "source": [
    "## Visualización del df\n",
    "df_messages.head()"
   ]
  },
  {
   "cell_type": "code",
   "execution_count": 225,
   "metadata": {},
   "outputs": [
    {
     "name": "stdout",
     "output_type": "stream",
     "text": [
      "<class 'pandas.core.frame.DataFrame'>\n",
      "RangeIndex: 76051 entries, 0 to 76050\n",
      "Data columns (total 3 columns):\n",
      " #   Column        Non-Null Count  Dtype \n",
      "---  ------        --------------  ----- \n",
      " 0   id            76051 non-null  object\n",
      " 1   user_id       76051 non-null  int64 \n",
      " 2   message_date  76051 non-null  object\n",
      "dtypes: int64(1), object(2)\n",
      "memory usage: 1.7+ MB\n"
     ]
    }
   ],
   "source": [
    "## Información general \n",
    "df_messages.info()"
   ]
  },
  {
   "cell_type": "code",
   "execution_count": 226,
   "metadata": {},
   "outputs": [
    {
     "name": "stdout",
     "output_type": "stream",
     "text": [
      "0\n",
      "\n",
      "Empty DataFrame\n",
      "Columns: [id, user_id, message_date]\n",
      "Index: []\n"
     ]
    }
   ],
   "source": [
    "# Valores duplicados explícitos\n",
    "## Número de valores duplicados\n",
    "print(df_messages.duplicated().sum())\n",
    "print()\n",
    "\n",
    "## Identificación de valores duplicados\n",
    "print(df_messages[df_messages.duplicated()])"
   ]
  },
  {
   "cell_type": "code",
   "execution_count": 227,
   "metadata": {},
   "outputs": [
    {
     "name": "stdout",
     "output_type": "stream",
     "text": [
      "0\n",
      "\n",
      "Empty DataFrame\n",
      "Columns: [id, user_id, message_date]\n",
      "Index: []\n"
     ]
    }
   ],
   "source": [
    "# Valores duplicados implícitos\n",
    "## Número de valores duplicados\n",
    "print(df_messages.duplicated(subset=\"id\").sum())\n",
    "print()\n",
    "\n",
    "## Identificación de valores duplicados\n",
    "print(df_messages[df_messages.duplicated(subset=\"id\")])"
   ]
  },
  {
   "cell_type": "code",
   "execution_count": 228,
   "metadata": {},
   "outputs": [
    {
     "name": "stdout",
     "output_type": "stream",
     "text": [
      "id              0\n",
      "user_id         0\n",
      "message_date    0\n",
      "dtype: int64\n"
     ]
    }
   ],
   "source": [
    "## Valores faltantes\n",
    "print(df_messages.isna().sum())"
   ]
  },
  {
   "cell_type": "code",
   "execution_count": 229,
   "metadata": {},
   "outputs": [
    {
     "data": {
      "text/html": [
       "<div>\n",
       "<style scoped>\n",
       "    .dataframe tbody tr th:only-of-type {\n",
       "        vertical-align: middle;\n",
       "    }\n",
       "\n",
       "    .dataframe tbody tr th {\n",
       "        vertical-align: top;\n",
       "    }\n",
       "\n",
       "    .dataframe thead th {\n",
       "        text-align: right;\n",
       "    }\n",
       "</style>\n",
       "<table border=\"1\" class=\"dataframe\">\n",
       "  <thead>\n",
       "    <tr style=\"text-align: right;\">\n",
       "      <th></th>\n",
       "      <th>id</th>\n",
       "      <th>message_date</th>\n",
       "    </tr>\n",
       "  </thead>\n",
       "  <tbody>\n",
       "    <tr>\n",
       "      <th>count</th>\n",
       "      <td>76051</td>\n",
       "      <td>76051</td>\n",
       "    </tr>\n",
       "    <tr>\n",
       "      <th>unique</th>\n",
       "      <td>76051</td>\n",
       "      <td>351</td>\n",
       "    </tr>\n",
       "    <tr>\n",
       "      <th>top</th>\n",
       "      <td>1497_613</td>\n",
       "      <td>2018-12-28</td>\n",
       "    </tr>\n",
       "    <tr>\n",
       "      <th>freq</th>\n",
       "      <td>1</td>\n",
       "      <td>702</td>\n",
       "    </tr>\n",
       "  </tbody>\n",
       "</table>\n",
       "</div>"
      ],
      "text/plain": [
       "              id message_date\n",
       "count      76051        76051\n",
       "unique     76051          351\n",
       "top     1497_613   2018-12-28\n",
       "freq           1          702"
      ]
     },
     "execution_count": 229,
     "metadata": {},
     "output_type": "execute_result"
    }
   ],
   "source": [
    "## Estadísticas descriptivas para columnas categóricas\n",
    "df_messages.describe(include=\"object\")"
   ]
  },
  {
   "cell_type": "markdown",
   "metadata": {},
   "source": [
    "El DataFrame de los mensajes de Megaline contiene 76,051 observaciones y 3 variables, con información sobre los mensajes enviados durante el año 2018.\n",
    "\n",
    "Durante la exploración inicial, identificamos los siguientes problemas:\n",
    "\n",
    "- La columna `message_date` está almacenada como tipo objeto en lugar de tipo fecha.\n",
    "- La columna `id` no deja claro que se refiere al identificador de cada mensaje.\n",
    "\n",
    "No se encontraron duplicados explícitos. Para los duplicados implícitos, analizamos solo la columna `id`, ya que se espera que este identificador sea único. Tampoco se identificaron valores ausentes en el dataset.\n",
    "\n",
    "En cuanto a los mensajes, los registros comienzan el *15 de enero de 2018* y finalizan el *31 de diciembre de 2018*, de forma similar al dataset de las llamadas. La fecha con mayor actividad fue el *28 de diciembre de 2018*, un patrón cercano al observado en las llamadas, posiblemente vinculado con las celebraciones de Navidad y Año Nuevo."
   ]
  },
  {
   "cell_type": "markdown",
   "metadata": {},
   "source": [
    "#### Inspección de la base de datos **`internet`**"
   ]
  },
  {
   "cell_type": "code",
   "execution_count": 230,
   "metadata": {},
   "outputs": [
    {
     "data": {
      "text/html": [
       "<div>\n",
       "<style scoped>\n",
       "    .dataframe tbody tr th:only-of-type {\n",
       "        vertical-align: middle;\n",
       "    }\n",
       "\n",
       "    .dataframe tbody tr th {\n",
       "        vertical-align: top;\n",
       "    }\n",
       "\n",
       "    .dataframe thead th {\n",
       "        text-align: right;\n",
       "    }\n",
       "</style>\n",
       "<table border=\"1\" class=\"dataframe\">\n",
       "  <thead>\n",
       "    <tr style=\"text-align: right;\">\n",
       "      <th></th>\n",
       "      <th>id</th>\n",
       "      <th>user_id</th>\n",
       "      <th>session_date</th>\n",
       "      <th>mb_used</th>\n",
       "    </tr>\n",
       "  </thead>\n",
       "  <tbody>\n",
       "    <tr>\n",
       "      <th>0</th>\n",
       "      <td>1000_13</td>\n",
       "      <td>1000</td>\n",
       "      <td>2018-12-29</td>\n",
       "      <td>89.86</td>\n",
       "    </tr>\n",
       "    <tr>\n",
       "      <th>1</th>\n",
       "      <td>1000_204</td>\n",
       "      <td>1000</td>\n",
       "      <td>2018-12-31</td>\n",
       "      <td>0.00</td>\n",
       "    </tr>\n",
       "    <tr>\n",
       "      <th>2</th>\n",
       "      <td>1000_379</td>\n",
       "      <td>1000</td>\n",
       "      <td>2018-12-28</td>\n",
       "      <td>660.40</td>\n",
       "    </tr>\n",
       "    <tr>\n",
       "      <th>3</th>\n",
       "      <td>1000_413</td>\n",
       "      <td>1000</td>\n",
       "      <td>2018-12-26</td>\n",
       "      <td>270.99</td>\n",
       "    </tr>\n",
       "    <tr>\n",
       "      <th>4</th>\n",
       "      <td>1000_442</td>\n",
       "      <td>1000</td>\n",
       "      <td>2018-12-27</td>\n",
       "      <td>880.22</td>\n",
       "    </tr>\n",
       "  </tbody>\n",
       "</table>\n",
       "</div>"
      ],
      "text/plain": [
       "         id  user_id session_date  mb_used\n",
       "0   1000_13     1000   2018-12-29    89.86\n",
       "1  1000_204     1000   2018-12-31     0.00\n",
       "2  1000_379     1000   2018-12-28   660.40\n",
       "3  1000_413     1000   2018-12-26   270.99\n",
       "4  1000_442     1000   2018-12-27   880.22"
      ]
     },
     "execution_count": 230,
     "metadata": {},
     "output_type": "execute_result"
    }
   ],
   "source": [
    "## Visualización del df\n",
    "df_internet.head()"
   ]
  },
  {
   "cell_type": "code",
   "execution_count": 231,
   "metadata": {},
   "outputs": [
    {
     "name": "stdout",
     "output_type": "stream",
     "text": [
      "<class 'pandas.core.frame.DataFrame'>\n",
      "RangeIndex: 104825 entries, 0 to 104824\n",
      "Data columns (total 4 columns):\n",
      " #   Column        Non-Null Count   Dtype  \n",
      "---  ------        --------------   -----  \n",
      " 0   id            104825 non-null  object \n",
      " 1   user_id       104825 non-null  int64  \n",
      " 2   session_date  104825 non-null  object \n",
      " 3   mb_used       104825 non-null  float64\n",
      "dtypes: float64(1), int64(1), object(2)\n",
      "memory usage: 3.2+ MB\n"
     ]
    }
   ],
   "source": [
    "## Información general \n",
    "df_internet.info()"
   ]
  },
  {
   "cell_type": "code",
   "execution_count": 232,
   "metadata": {},
   "outputs": [
    {
     "name": "stdout",
     "output_type": "stream",
     "text": [
      "0\n",
      "\n",
      "Empty DataFrame\n",
      "Columns: [id, user_id, session_date, mb_used]\n",
      "Index: []\n"
     ]
    }
   ],
   "source": [
    "# Valores duplicados explícitos\n",
    "## Número de valores duplicados\n",
    "print(df_internet.duplicated().sum())\n",
    "print()\n",
    "\n",
    "## Identificación de valores duplicados\n",
    "print(df_internet[df_internet.duplicated()])"
   ]
  },
  {
   "cell_type": "code",
   "execution_count": 233,
   "metadata": {},
   "outputs": [
    {
     "name": "stdout",
     "output_type": "stream",
     "text": [
      "0\n",
      "\n",
      "Empty DataFrame\n",
      "Columns: [id, user_id, session_date, mb_used]\n",
      "Index: []\n"
     ]
    }
   ],
   "source": [
    "# Valores duplicados implícitos\n",
    "## Número de valores duplicados\n",
    "print(df_internet.duplicated(subset=\"id\").sum())\n",
    "print()\n",
    "\n",
    "## Identificación de valores duplicados\n",
    "print(df_internet[df_internet.duplicated(subset=\"id\")])"
   ]
  },
  {
   "cell_type": "code",
   "execution_count": 234,
   "metadata": {},
   "outputs": [
    {
     "name": "stdout",
     "output_type": "stream",
     "text": [
      "id              0\n",
      "user_id         0\n",
      "session_date    0\n",
      "mb_used         0\n",
      "dtype: int64\n"
     ]
    }
   ],
   "source": [
    "## Valores faltantes\n",
    "print(df_internet.isna().sum())"
   ]
  },
  {
   "cell_type": "code",
   "execution_count": 235,
   "metadata": {},
   "outputs": [
    {
     "data": {
      "text/html": [
       "<div>\n",
       "<style scoped>\n",
       "    .dataframe tbody tr th:only-of-type {\n",
       "        vertical-align: middle;\n",
       "    }\n",
       "\n",
       "    .dataframe tbody tr th {\n",
       "        vertical-align: top;\n",
       "    }\n",
       "\n",
       "    .dataframe thead th {\n",
       "        text-align: right;\n",
       "    }\n",
       "</style>\n",
       "<table border=\"1\" class=\"dataframe\">\n",
       "  <thead>\n",
       "    <tr style=\"text-align: right;\">\n",
       "      <th></th>\n",
       "      <th>user_id</th>\n",
       "      <th>mb_used</th>\n",
       "    </tr>\n",
       "  </thead>\n",
       "  <tbody>\n",
       "    <tr>\n",
       "      <th>count</th>\n",
       "      <td>104825.00</td>\n",
       "      <td>104825.00</td>\n",
       "    </tr>\n",
       "    <tr>\n",
       "      <th>mean</th>\n",
       "      <td>1242.50</td>\n",
       "      <td>366.71</td>\n",
       "    </tr>\n",
       "    <tr>\n",
       "      <th>std</th>\n",
       "      <td>142.05</td>\n",
       "      <td>277.17</td>\n",
       "    </tr>\n",
       "    <tr>\n",
       "      <th>min</th>\n",
       "      <td>1000.00</td>\n",
       "      <td>0.00</td>\n",
       "    </tr>\n",
       "    <tr>\n",
       "      <th>25%</th>\n",
       "      <td>1122.00</td>\n",
       "      <td>136.08</td>\n",
       "    </tr>\n",
       "    <tr>\n",
       "      <th>50%</th>\n",
       "      <td>1236.00</td>\n",
       "      <td>343.98</td>\n",
       "    </tr>\n",
       "    <tr>\n",
       "      <th>75%</th>\n",
       "      <td>1367.00</td>\n",
       "      <td>554.61</td>\n",
       "    </tr>\n",
       "    <tr>\n",
       "      <th>max</th>\n",
       "      <td>1499.00</td>\n",
       "      <td>1693.47</td>\n",
       "    </tr>\n",
       "  </tbody>\n",
       "</table>\n",
       "</div>"
      ],
      "text/plain": [
       "         user_id    mb_used\n",
       "count  104825.00  104825.00\n",
       "mean     1242.50     366.71\n",
       "std       142.05     277.17\n",
       "min      1000.00       0.00\n",
       "25%      1122.00     136.08\n",
       "50%      1236.00     343.98\n",
       "75%      1367.00     554.61\n",
       "max      1499.00    1693.47"
      ]
     },
     "execution_count": 235,
     "metadata": {},
     "output_type": "execute_result"
    }
   ],
   "source": [
    "## Estadísticas descriptivas para columnas numéricas\n",
    "round(df_internet.describe(),2)"
   ]
  },
  {
   "cell_type": "code",
   "execution_count": 236,
   "metadata": {},
   "outputs": [
    {
     "data": {
      "text/html": [
       "<div>\n",
       "<style scoped>\n",
       "    .dataframe tbody tr th:only-of-type {\n",
       "        vertical-align: middle;\n",
       "    }\n",
       "\n",
       "    .dataframe tbody tr th {\n",
       "        vertical-align: top;\n",
       "    }\n",
       "\n",
       "    .dataframe thead th {\n",
       "        text-align: right;\n",
       "    }\n",
       "</style>\n",
       "<table border=\"1\" class=\"dataframe\">\n",
       "  <thead>\n",
       "    <tr style=\"text-align: right;\">\n",
       "      <th></th>\n",
       "      <th>id</th>\n",
       "      <th>session_date</th>\n",
       "    </tr>\n",
       "  </thead>\n",
       "  <tbody>\n",
       "    <tr>\n",
       "      <th>count</th>\n",
       "      <td>104825</td>\n",
       "      <td>104825</td>\n",
       "    </tr>\n",
       "    <tr>\n",
       "      <th>unique</th>\n",
       "      <td>104825</td>\n",
       "      <td>351</td>\n",
       "    </tr>\n",
       "    <tr>\n",
       "      <th>top</th>\n",
       "      <td>1499_219</td>\n",
       "      <td>2018-12-24</td>\n",
       "    </tr>\n",
       "    <tr>\n",
       "      <th>freq</th>\n",
       "      <td>1</td>\n",
       "      <td>851</td>\n",
       "    </tr>\n",
       "  </tbody>\n",
       "</table>\n",
       "</div>"
      ],
      "text/plain": [
       "              id session_date\n",
       "count     104825       104825\n",
       "unique    104825          351\n",
       "top     1499_219   2018-12-24\n",
       "freq           1          851"
      ]
     },
     "execution_count": 236,
     "metadata": {},
     "output_type": "execute_result"
    }
   ],
   "source": [
    "## Estadísticas descriptivas para columnas categóricas\n",
    "df_internet.describe(include=\"object\")"
   ]
  },
  {
   "cell_type": "code",
   "execution_count": 237,
   "metadata": {},
   "outputs": [
    {
     "name": "stdout",
     "output_type": "stream",
     "text": [
      "17220    2018-01-15\n",
      "17098    2018-01-15\n",
      "17135    2018-01-16\n",
      "17051    2018-01-16\n",
      "44475    2018-01-17\n",
      "Name: session_date, dtype: object\n",
      "\n",
      "69664    2018-12-31\n",
      "89875    2018-12-31\n",
      "11395    2018-12-31\n",
      "70988    2018-12-31\n",
      "26960    2018-12-31\n",
      "Name: session_date, dtype: object\n"
     ]
    }
   ],
   "source": [
    "print(df_internet[\"session_date\"].sort_values().head())\n",
    "print()\n",
    "print(df_internet[\"session_date\"].sort_values().tail())"
   ]
  },
  {
   "cell_type": "markdown",
   "metadata": {},
   "source": [
    "El DataFrame de tráfico de datos de Megaline contiene 104,825 observaciones y 4 variables, que detallan el uso de internet de los clientes durante el año 2018.\n",
    "\n",
    "Durante la revisión inicial, identificamos los siguientes problemas:\n",
    "\n",
    "- La columna `session_date` está almacenada como tipo objeto en lugar de tipo fecha.\n",
    "- La columna `id` no especifica claramente que es el identificador de cada sesión de internet.\n",
    "- La columna `mb_used` podría ser convertida de megabytes a gigabytes para una mayor claridad.\n",
    "\n",
    "No se encontraron duplicados explícitos en el dataset. Para los duplicados implícitos, revisamos únicamente la columna `id`, que debería ser única. Tampoco se detectaron valores ausentes.\n",
    "\n",
    "En cuanto al uso de internet, los registros abarcan desde el *15 de enero de 2018* hasta el *31 de diciembre de 2018*, coincidiendo con los periodos de las bases de datos de llamadas y mensajes. La fecha con mayor actividad fue el *24 de diciembre de 2018*, probablemente debido a las festividades de Nochebuena."
   ]
  },
  {
   "cell_type": "markdown",
   "metadata": {},
   "source": [
    "#### Inspección de la base de datos **`plans`**"
   ]
  },
  {
   "cell_type": "code",
   "execution_count": 238,
   "metadata": {},
   "outputs": [
    {
     "data": {
      "text/html": [
       "<div>\n",
       "<style scoped>\n",
       "    .dataframe tbody tr th:only-of-type {\n",
       "        vertical-align: middle;\n",
       "    }\n",
       "\n",
       "    .dataframe tbody tr th {\n",
       "        vertical-align: top;\n",
       "    }\n",
       "\n",
       "    .dataframe thead th {\n",
       "        text-align: right;\n",
       "    }\n",
       "</style>\n",
       "<table border=\"1\" class=\"dataframe\">\n",
       "  <thead>\n",
       "    <tr style=\"text-align: right;\">\n",
       "      <th></th>\n",
       "      <th>messages_included</th>\n",
       "      <th>mb_per_month_included</th>\n",
       "      <th>minutes_included</th>\n",
       "      <th>usd_monthly_pay</th>\n",
       "      <th>usd_per_gb</th>\n",
       "      <th>usd_per_message</th>\n",
       "      <th>usd_per_minute</th>\n",
       "      <th>plan_name</th>\n",
       "    </tr>\n",
       "  </thead>\n",
       "  <tbody>\n",
       "    <tr>\n",
       "      <th>0</th>\n",
       "      <td>50</td>\n",
       "      <td>15360</td>\n",
       "      <td>500</td>\n",
       "      <td>20</td>\n",
       "      <td>10</td>\n",
       "      <td>0.03</td>\n",
       "      <td>0.03</td>\n",
       "      <td>surf</td>\n",
       "    </tr>\n",
       "    <tr>\n",
       "      <th>1</th>\n",
       "      <td>1000</td>\n",
       "      <td>30720</td>\n",
       "      <td>3000</td>\n",
       "      <td>70</td>\n",
       "      <td>7</td>\n",
       "      <td>0.01</td>\n",
       "      <td>0.01</td>\n",
       "      <td>ultimate</td>\n",
       "    </tr>\n",
       "  </tbody>\n",
       "</table>\n",
       "</div>"
      ],
      "text/plain": [
       "   messages_included  mb_per_month_included  minutes_included  \\\n",
       "0                 50                  15360               500   \n",
       "1               1000                  30720              3000   \n",
       "\n",
       "   usd_monthly_pay  usd_per_gb  usd_per_message  usd_per_minute plan_name  \n",
       "0               20          10             0.03            0.03      surf  \n",
       "1               70           7             0.01            0.01  ultimate  "
      ]
     },
     "execution_count": 238,
     "metadata": {},
     "output_type": "execute_result"
    }
   ],
   "source": [
    "## Visualización del df\n",
    "df_plans.head()"
   ]
  },
  {
   "cell_type": "code",
   "execution_count": 239,
   "metadata": {},
   "outputs": [
    {
     "name": "stdout",
     "output_type": "stream",
     "text": [
      "<class 'pandas.core.frame.DataFrame'>\n",
      "RangeIndex: 2 entries, 0 to 1\n",
      "Data columns (total 8 columns):\n",
      " #   Column                 Non-Null Count  Dtype  \n",
      "---  ------                 --------------  -----  \n",
      " 0   messages_included      2 non-null      int64  \n",
      " 1   mb_per_month_included  2 non-null      int64  \n",
      " 2   minutes_included       2 non-null      int64  \n",
      " 3   usd_monthly_pay        2 non-null      int64  \n",
      " 4   usd_per_gb             2 non-null      int64  \n",
      " 5   usd_per_message        2 non-null      float64\n",
      " 6   usd_per_minute         2 non-null      float64\n",
      " 7   plan_name              2 non-null      object \n",
      "dtypes: float64(2), int64(5), object(1)\n",
      "memory usage: 260.0+ bytes\n"
     ]
    }
   ],
   "source": [
    "## Información general \n",
    "df_plans.info()"
   ]
  },
  {
   "cell_type": "code",
   "execution_count": 240,
   "metadata": {},
   "outputs": [
    {
     "name": "stdout",
     "output_type": "stream",
     "text": [
      "0\n"
     ]
    }
   ],
   "source": [
    "# Valores duplicados explícitos\n",
    "## Número de valores duplicados\n",
    "print(df_plans.duplicated().sum())"
   ]
  },
  {
   "cell_type": "code",
   "execution_count": 241,
   "metadata": {},
   "outputs": [
    {
     "name": "stdout",
     "output_type": "stream",
     "text": [
      "messages_included        0\n",
      "mb_per_month_included    0\n",
      "minutes_included         0\n",
      "usd_monthly_pay          0\n",
      "usd_per_gb               0\n",
      "usd_per_message          0\n",
      "usd_per_minute           0\n",
      "plan_name                0\n",
      "dtype: int64\n"
     ]
    }
   ],
   "source": [
    "## Valores faltantes\n",
    "print(df_plans.isna().sum())"
   ]
  },
  {
   "cell_type": "markdown",
   "metadata": {},
   "source": [
    "El DataFrame de planes tarifarios de Megaline contiene solo 2 observaciones y 8 variables, proporcionando detalles sobre las características de los planes ofrecidos por la compañía.\n",
    "\n",
    "Durante la revisión, identificamos los siguientes aspectos que podrían mejorarse:\n",
    "\n",
    "- La variable `mb_per_month_included` podría describirse de manera más clara.\n",
    "- Las variables `usd_monthly_pay`, `usd_per_gb`, `usd_per_minute` y `usd_per_message` podrían tener nombres más descriptivos para reflejar mejor el costo de cada servicio.\n",
    "- La variable `mb_included` podría convertirse a gigabytes para mayor claridad.\n",
    "\n",
    "Aunque la base de datos es pequeña, realizamos una revisión de valores duplicados y ausentes, sin encontrar problemas.\n",
    "\n",
    "Con base en la inspección de los datos, se puede inferir que el plan `surf` es una opción más económica, mientras que el plan `ultimate` parece ser un paquete más exclusivo."
   ]
  },
  {
   "cell_type": "markdown",
   "metadata": {
    "id": "69qqoJ3r0q01"
   },
   "source": [
    "## Manipulación de datos\n",
    "---\n",
    "En esta etapa, abordamos los errores identificados en los diferentes DataFrames, lo que nos permite preparar los datos para un análisis más adecuado."
   ]
  },
  {
   "cell_type": "markdown",
   "metadata": {},
   "source": [
    "### Manipulación base de datos **`users`**"
   ]
  },
  {
   "cell_type": "markdown",
   "metadata": {
    "id": "vUuZw80S0q01"
   },
   "source": [
    "Los errores observados en la tabla de usuaris fueron los siguientes: \n",
    "- La columna `city` incluye información adicional de la localidad que no corresponde solo a la ciudad.\n",
    "- Las columnas `reg_date` y `churn_date` están formateadas como tipo objeto en lugar de tipo fecha.\n",
    "- La columna `churn_date` presenta 466 valores faltantes.\n",
    "- La variable `plan` podría ser más específica en cuanto a los tipos de plan."
   ]
  },
  {
   "cell_type": "markdown",
   "metadata": {},
   "source": [
    "1. Para la variable `city` observamos que contiene información sobre la ciudad, el estado y sobre el área estadística metropolitana o *metropolitan statistical area* (MSA). Separamos la información en distintas columnas. "
   ]
  },
  {
   "cell_type": "code",
   "execution_count": 242,
   "metadata": {},
   "outputs": [
    {
     "data": {
      "text/html": [
       "<div>\n",
       "<style scoped>\n",
       "    .dataframe tbody tr th:only-of-type {\n",
       "        vertical-align: middle;\n",
       "    }\n",
       "\n",
       "    .dataframe tbody tr th {\n",
       "        vertical-align: top;\n",
       "    }\n",
       "\n",
       "    .dataframe thead th {\n",
       "        text-align: right;\n",
       "    }\n",
       "</style>\n",
       "<table border=\"1\" class=\"dataframe\">\n",
       "  <thead>\n",
       "    <tr style=\"text-align: right;\">\n",
       "      <th></th>\n",
       "      <th>city_fixed</th>\n",
       "      <th>state</th>\n",
       "      <th>geographical_entity</th>\n",
       "    </tr>\n",
       "  </thead>\n",
       "  <tbody>\n",
       "    <tr>\n",
       "      <th>0</th>\n",
       "      <td>Atlanta-Sandy Springs-Roswell</td>\n",
       "      <td>GA</td>\n",
       "      <td>MSA</td>\n",
       "    </tr>\n",
       "    <tr>\n",
       "      <th>1</th>\n",
       "      <td>Seattle-Tacoma-Bellevue</td>\n",
       "      <td>WA</td>\n",
       "      <td>MSA</td>\n",
       "    </tr>\n",
       "    <tr>\n",
       "      <th>2</th>\n",
       "      <td>Las Vegas-Henderson-Paradise</td>\n",
       "      <td>NV</td>\n",
       "      <td>MSA</td>\n",
       "    </tr>\n",
       "    <tr>\n",
       "      <th>3</th>\n",
       "      <td>Tulsa</td>\n",
       "      <td>OK</td>\n",
       "      <td>MSA</td>\n",
       "    </tr>\n",
       "    <tr>\n",
       "      <th>4</th>\n",
       "      <td>Seattle-Tacoma-Bellevue</td>\n",
       "      <td>WA</td>\n",
       "      <td>MSA</td>\n",
       "    </tr>\n",
       "  </tbody>\n",
       "</table>\n",
       "</div>"
      ],
      "text/plain": [
       "                      city_fixed state geographical_entity\n",
       "0  Atlanta-Sandy Springs-Roswell    GA                 MSA\n",
       "1        Seattle-Tacoma-Bellevue    WA                 MSA\n",
       "2   Las Vegas-Henderson-Paradise    NV                 MSA\n",
       "3                          Tulsa    OK                 MSA\n",
       "4        Seattle-Tacoma-Bellevue    WA                 MSA"
      ]
     },
     "execution_count": 242,
     "metadata": {},
     "output_type": "execute_result"
    }
   ],
   "source": [
    "# Separar la columna `city`\n",
    "## Dividir columna en ciudad estado y entidad geográfica utilizando expresiones regulares:\n",
    "# Ciudad: ^(.*?); cualquier texto antes de la coma.\n",
    "# Estado: ([A-Z]{2}(?:-[A-Z]{2})*); permite estados compuestos como NY-NJ-PA.\n",
    "# Entidad geográfica: (\\w+)$; parte final (como \"MSA\").\n",
    "\n",
    "df_users[[\"city_fixed\", \"state\", \"geographical_entity\"]] = df_users[\"city\"].str.extract(r\"^(.*?),\\s([A-Z]{2}(?:-[A-Z]{2})*)\\s(\\w+)$\")\n",
    "\n",
    "## Visualización de las nuevas columnas\n",
    "df_users[[\"city_fixed\", \"state\", \"geographical_entity\"]].head()"
   ]
  },
  {
   "cell_type": "code",
   "execution_count": 243,
   "metadata": {},
   "outputs": [
    {
     "data": {
      "text/html": [
       "<div>\n",
       "<style scoped>\n",
       "    .dataframe tbody tr th:only-of-type {\n",
       "        vertical-align: middle;\n",
       "    }\n",
       "\n",
       "    .dataframe tbody tr th {\n",
       "        vertical-align: top;\n",
       "    }\n",
       "\n",
       "    .dataframe thead th {\n",
       "        text-align: right;\n",
       "    }\n",
       "</style>\n",
       "<table border=\"1\" class=\"dataframe\">\n",
       "  <thead>\n",
       "    <tr style=\"text-align: right;\">\n",
       "      <th></th>\n",
       "      <th>city_fixed</th>\n",
       "      <th>state</th>\n",
       "      <th>geographical_entity</th>\n",
       "    </tr>\n",
       "  </thead>\n",
       "  <tbody>\n",
       "    <tr>\n",
       "      <th>count</th>\n",
       "      <td>500</td>\n",
       "      <td>500</td>\n",
       "      <td>500</td>\n",
       "    </tr>\n",
       "    <tr>\n",
       "      <th>unique</th>\n",
       "      <td>73</td>\n",
       "      <td>42</td>\n",
       "      <td>1</td>\n",
       "    </tr>\n",
       "    <tr>\n",
       "      <th>top</th>\n",
       "      <td>New York-Newark-Jersey City</td>\n",
       "      <td>NY-NJ-PA</td>\n",
       "      <td>MSA</td>\n",
       "    </tr>\n",
       "    <tr>\n",
       "      <th>freq</th>\n",
       "      <td>80</td>\n",
       "      <td>80</td>\n",
       "      <td>500</td>\n",
       "    </tr>\n",
       "  </tbody>\n",
       "</table>\n",
       "</div>"
      ],
      "text/plain": [
       "                         city_fixed     state geographical_entity\n",
       "count                           500       500                 500\n",
       "unique                           73        42                   1\n",
       "top     New York-Newark-Jersey City  NY-NJ-PA                 MSA\n",
       "freq                             80        80                 500"
      ]
     },
     "execution_count": 243,
     "metadata": {},
     "output_type": "execute_result"
    }
   ],
   "source": [
    "## Estadísticas descriptivas para columnas \n",
    "df_users[[\"city_fixed\", \"state\", \"geographical_entity\"]].describe(include=\"object\")"
   ]
  },
  {
   "cell_type": "markdown",
   "metadata": {},
   "source": [
    "2. Para la variables `reg_date` hicimos la conversión de tipo objeto a tipo fecha. "
   ]
  },
  {
   "cell_type": "code",
   "execution_count": 244,
   "metadata": {},
   "outputs": [],
   "source": [
    "## Convertir tipo de columna\n",
    "df_users[\"reg_date\"]= pd.to_datetime(df_users[\"reg_date\"])"
   ]
  },
  {
   "cell_type": "markdown",
   "metadata": {},
   "source": [
    "3. Para la variable `churn_date`, suponemos que los clientes sin una fecha de cancelación registrada **continuaron activos** hasta finales de 2018.\n",
    "\n",
    "    Primero, aprovechamos los valores faltantes para crear una nueva variable categórica llamada `client_status`, asignando el valor activo a aquellos registros que no tienen una fecha de cancelación.\n",
    "\n",
    "    A continuación, imputamos la fecha `2019-01-01` en los valores faltantes de `churn_date`.   \n",
    "\n",
    "> Es importante comentar y revisar estos pasos con el supervisor.\n"
   ]
  },
  {
   "cell_type": "code",
   "execution_count": 245,
   "metadata": {},
   "outputs": [],
   "source": [
    "# Etiquetado de los clientes de acuerdo a su estatus e\n",
    "## Creación función de etiquetado\n",
    "def asignar_estado(row):\n",
    "    if pd.isna(row[\"churn_date\"]):\n",
    "        return \"Activo\"\n",
    "    else:\n",
    "        return \"Baja\"\n",
    "\n",
    "## Implementación de la función\n",
    "df_users[\"client_status\"] = df_users.apply(asignar_estado, axis=1)"
   ]
  },
  {
   "cell_type": "code",
   "execution_count": 246,
   "metadata": {},
   "outputs": [],
   "source": [
    "# Imputación de las fechas NA\n",
    "## Rellenar laos Nas fecha posterior a 2018\n",
    "df_users[\"churn_date\"] = df_users[\"churn_date\"].fillna(\"2019-01-01\")\n",
    "\n",
    "## Convertir tipo de columna\n",
    "df_users[\"churn_date\"]= pd.to_datetime(df_users[\"churn_date\"])"
   ]
  },
  {
   "cell_type": "markdown",
   "metadata": {},
   "source": [
    "4. Finalmente renombramos el nombre de la variable `plans` por algo más informativo. "
   ]
  },
  {
   "cell_type": "code",
   "execution_count": 247,
   "metadata": {},
   "outputs": [],
   "source": [
    "## Renombrar la columna \n",
    "df_users= df_users.rename(columns={\"plan\": \"plan_name\"})"
   ]
  },
  {
   "cell_type": "code",
   "execution_count": 248,
   "metadata": {},
   "outputs": [
    {
     "data": {
      "text/html": [
       "<div>\n",
       "<style scoped>\n",
       "    .dataframe tbody tr th:only-of-type {\n",
       "        vertical-align: middle;\n",
       "    }\n",
       "\n",
       "    .dataframe tbody tr th {\n",
       "        vertical-align: top;\n",
       "    }\n",
       "\n",
       "    .dataframe thead th {\n",
       "        text-align: right;\n",
       "    }\n",
       "</style>\n",
       "<table border=\"1\" class=\"dataframe\">\n",
       "  <thead>\n",
       "    <tr style=\"text-align: right;\">\n",
       "      <th></th>\n",
       "      <th>first_name</th>\n",
       "      <th>last_name</th>\n",
       "      <th>city</th>\n",
       "      <th>plan_name</th>\n",
       "      <th>city_fixed</th>\n",
       "      <th>state</th>\n",
       "      <th>geographical_entity</th>\n",
       "      <th>client_status</th>\n",
       "    </tr>\n",
       "  </thead>\n",
       "  <tbody>\n",
       "    <tr>\n",
       "      <th>count</th>\n",
       "      <td>500</td>\n",
       "      <td>500</td>\n",
       "      <td>500</td>\n",
       "      <td>500</td>\n",
       "      <td>500</td>\n",
       "      <td>500</td>\n",
       "      <td>500</td>\n",
       "      <td>500</td>\n",
       "    </tr>\n",
       "    <tr>\n",
       "      <th>unique</th>\n",
       "      <td>458</td>\n",
       "      <td>399</td>\n",
       "      <td>73</td>\n",
       "      <td>2</td>\n",
       "      <td>73</td>\n",
       "      <td>42</td>\n",
       "      <td>1</td>\n",
       "      <td>2</td>\n",
       "    </tr>\n",
       "    <tr>\n",
       "      <th>top</th>\n",
       "      <td>Seymour</td>\n",
       "      <td>Wilkinson</td>\n",
       "      <td>New York-Newark-Jersey City, NY-NJ-PA MSA</td>\n",
       "      <td>surf</td>\n",
       "      <td>New York-Newark-Jersey City</td>\n",
       "      <td>NY-NJ-PA</td>\n",
       "      <td>MSA</td>\n",
       "      <td>Activo</td>\n",
       "    </tr>\n",
       "    <tr>\n",
       "      <th>freq</th>\n",
       "      <td>3</td>\n",
       "      <td>3</td>\n",
       "      <td>80</td>\n",
       "      <td>339</td>\n",
       "      <td>80</td>\n",
       "      <td>80</td>\n",
       "      <td>500</td>\n",
       "      <td>466</td>\n",
       "    </tr>\n",
       "  </tbody>\n",
       "</table>\n",
       "</div>"
      ],
      "text/plain": [
       "       first_name  last_name                                       city  \\\n",
       "count         500        500                                        500   \n",
       "unique        458        399                                         73   \n",
       "top       Seymour  Wilkinson  New York-Newark-Jersey City, NY-NJ-PA MSA   \n",
       "freq            3          3                                         80   \n",
       "\n",
       "       plan_name                   city_fixed     state geographical_entity  \\\n",
       "count        500                          500       500                 500   \n",
       "unique         2                           73        42                   1   \n",
       "top         surf  New York-Newark-Jersey City  NY-NJ-PA                 MSA   \n",
       "freq         339                           80        80                 500   \n",
       "\n",
       "       client_status  \n",
       "count            500  \n",
       "unique             2  \n",
       "top           Activo  \n",
       "freq             466  "
      ]
     },
     "execution_count": 248,
     "metadata": {},
     "output_type": "execute_result"
    }
   ],
   "source": [
    "## Estadísticas descriptivas para columnas categóricas\n",
    "df_users.describe(include=\"object\")"
   ]
  },
  {
   "cell_type": "markdown",
   "metadata": {},
   "source": [
    "Los pasos realizados en la tabla de usuarios fueron los siguientes:\n",
    "\n",
    "1. Separamos la columna `city` en tres columnas: ciudad, estado y tipo de entidad geográfica.\n",
    "2. Convertimos la variable `reg_date` al tipo de fecha.\n",
    "3. Convertimos la variable `churn_date` al tipo de fecha e imputamos los 466 valores ausentes con la fecha activa \"2019-01-01\".\n",
    "4. Creamos la variable `client_status`, que proporciona información sobre el estado del cliente en la compañía.\n",
    "5. Cambiamos el nombre de la variable `plan` para que sea más coherente con otra base de datos.\n",
    "\n",
    "Gracias a estos cambios, pudimos obtener nueva información. Por ejemplo, identificamos 73 ciudades, siendo New York-Newark-Jersey City la más frecuente. Entre los 42 estados, el más común fue NY-NJ-PA, y no registramos usuarios con una entidad geográfica diferente a MSA. Además, la gran mayoría de los clientes permanecieron activos hasta el 31 de diciembre de 2018, como habíamos observado previamente."
   ]
  },
  {
   "cell_type": "markdown",
   "metadata": {},
   "source": [
    "### Manipulación base de datos **`calls`**"
   ]
  },
  {
   "cell_type": "markdown",
   "metadata": {},
   "source": [
    "En cuanto a los errores que identificamos, se encuentran: \n",
    "- La columna `duration` no especifica las unidades de medida.\n",
    "- La columna `call_date` está almacenada como tipo objeto en lugar de tipo fecha.\n",
    "- La columna `id` no deja claro que se refiere al identificador de cada llamada."
   ]
  },
  {
   "cell_type": "markdown",
   "metadata": {},
   "source": [
    "1. Renombrar las columnas `duration` e `id` para hacerlas más específicas. "
   ]
  },
  {
   "cell_type": "code",
   "execution_count": 249,
   "metadata": {},
   "outputs": [],
   "source": [
    "## Renombrar las columnas \n",
    "df_calls= df_calls.rename(columns={\"id\": \"call_id\",\"duration\": \"call_duration_minutes\"})"
   ]
  },
  {
   "cell_type": "markdown",
   "metadata": {},
   "source": [
    "2. Convertir el tipo de columna `call_date` a tipo fecha. "
   ]
  },
  {
   "cell_type": "code",
   "execution_count": 250,
   "metadata": {},
   "outputs": [],
   "source": [
    "## Convertir tipo de columna\n",
    "df_calls[\"call_date\"]= pd.to_datetime(df_calls[\"call_date\"])"
   ]
  },
  {
   "cell_type": "markdown",
   "metadata": {},
   "source": [
    "Los pasos realizados en la tabla de llamadas fueron los siguientes:\n",
    "\n",
    "- Especificamos el nombre de la columna `id`.\n",
    "- Definimos las unidades para la duración de llamadas de la variable `duration`.\n",
    "- Convertimos la variable `call_date` al tipo de fecha."
   ]
  },
  {
   "cell_type": "markdown",
   "metadata": {},
   "source": [
    "### Manipulación base de datos **`messages`**"
   ]
  },
  {
   "cell_type": "markdown",
   "metadata": {},
   "source": [
    "En cuanto a los errores que identificamos, se encuentran: \n",
    "- La columna `id` no deja claro que se refiere al identificador de cada mensaje.\n",
    "- La columna `message_date` está almacenada como tipo objeto en lugar de tipo fecha."
   ]
  },
  {
   "cell_type": "markdown",
   "metadata": {},
   "source": [
    "1. Renombrar la columna `id` para hacerla más específica. "
   ]
  },
  {
   "cell_type": "code",
   "execution_count": 251,
   "metadata": {},
   "outputs": [],
   "source": [
    "## Renombrar las columnas \n",
    "df_messages= df_messages.rename(columns={\"id\": \"message_id\"})"
   ]
  },
  {
   "cell_type": "markdown",
   "metadata": {},
   "source": [
    "2. Convertir el tipo de columna `message_date` a tipo fecha. "
   ]
  },
  {
   "cell_type": "code",
   "execution_count": 252,
   "metadata": {},
   "outputs": [],
   "source": [
    "## Convertir tipo de columna\n",
    "df_messages[\"message_date\"]= pd.to_datetime(df_messages[\"message_date\"])"
   ]
  },
  {
   "cell_type": "markdown",
   "metadata": {},
   "source": [
    "Los pasos realizados en la tabla de mensajes fueron los siguientes:\n",
    "\n",
    "- Especificamos el nombre de la columna `id`.\n",
    "- Convertimos la variable `message_date` al tipo de fecha."
   ]
  },
  {
   "cell_type": "markdown",
   "metadata": {},
   "source": [
    "### Manipulación base de datos **`internet`**"
   ]
  },
  {
   "cell_type": "markdown",
   "metadata": {},
   "source": [
    "En cuanto a los errores que identificamos, se encuentran: \n",
    "- La columna `session_date` está almacenada como tipo objeto en lugar de tipo fecha.\n",
    "- La columna `id` no especifica claramente que es el identificador de cada sesión de internet.\n",
    "- La columna `mb_used` podría ser convertida de megabytes a gigabytes para una mayor claridad."
   ]
  },
  {
   "cell_type": "markdown",
   "metadata": {},
   "source": [
    "1. Renombrar la columna `id` para hacerla más específica. "
   ]
  },
  {
   "cell_type": "code",
   "execution_count": 253,
   "metadata": {},
   "outputs": [],
   "source": [
    "## Renombrar las columnas \n",
    "df_internet= df_internet.rename(columns={\"id\": \"internet_id\"})"
   ]
  },
  {
   "cell_type": "markdown",
   "metadata": {},
   "source": [
    "2. Convertir el tipo de columna `session_date` a tipo fecha. "
   ]
  },
  {
   "cell_type": "code",
   "execution_count": 254,
   "metadata": {},
   "outputs": [],
   "source": [
    "## Convertir tipo de columna\n",
    "df_internet[\"session_date\"]= pd.to_datetime(df_internet[\"session_date\"])"
   ]
  },
  {
   "cell_type": "markdown",
   "metadata": {},
   "source": [
    "3. Transformar el consumo de Mb utilizados a Gb."
   ]
  },
  {
   "cell_type": "code",
   "execution_count": 255,
   "metadata": {},
   "outputs": [],
   "source": [
    "## Convertir unidades mb a gb\n",
    "df_internet[\"gb_used\"]= round(df_internet[\"mb_used\"]/ 1024.2)"
   ]
  },
  {
   "cell_type": "markdown",
   "metadata": {},
   "source": [
    "Los pasos realizados en la tabla de tráfico de internet fueron los siguientes:\n",
    "\n",
    "- Especificamos el nombre de la columna `id`.\n",
    "- Convertimos la variable `session_date` al tipo de fecha.\n",
    "- Creamos la variable `gb_used` al convertir megabytes (Mb) a gigabytes (Gb)."
   ]
  },
  {
   "cell_type": "markdown",
   "metadata": {},
   "source": [
    "### Manipulación base de datos **`plans`**"
   ]
  },
  {
   "cell_type": "markdown",
   "metadata": {},
   "source": [
    "En cuanto a los errores que identificamos, se encuentran: \n",
    "- La variable `mb_per_month_included` podría describirse de manera más clara.\n",
    "- Las variables `usd_monthly_pay`, `usd_per_gb`, `usd_per_minute` y `usd_per_message` podrían tener nombres más descriptivos para reflejar mejor el costo de cada servicio.\n",
    "- La variable `mb_included` podría convertirse a gigabytes para mayor claridad."
   ]
  },
  {
   "cell_type": "markdown",
   "metadata": {},
   "source": [
    "1. Renombramos las variables `usd_monthly_pay`, `usd_per_gb`, `usd_per_minute` y `usd_per_message` para tener una mejor conotación. "
   ]
  },
  {
   "cell_type": "code",
   "execution_count": 256,
   "metadata": {},
   "outputs": [],
   "source": [
    "## Renombrar las columnas \n",
    "df_plans= df_plans.rename(columns={\n",
    "    \"usd_monthly_pay\": \"monthly_fee_usd\", \n",
    "    \"mb_per_month_included\": \"mb_included\", \n",
    "    \"usd_per_minute\": \"minutes_extra_price\", \n",
    "    \"usd_per_message\": \"message_extra_price\",\n",
    "    \"usd_per_gb\": \"gb_extra_price\"\n",
    "    })"
   ]
  },
  {
   "cell_type": "markdown",
   "metadata": {},
   "source": [
    "2. Transformamos los Mb incluidos a Gb. "
   ]
  },
  {
   "cell_type": "code",
   "execution_count": 257,
   "metadata": {},
   "outputs": [],
   "source": [
    "## Convertir los mb incluidos a Gb\n",
    "df_plans[\"gb_included\"]= round(df_plans[\"mb_included\"]/ 1024.2)"
   ]
  },
  {
   "cell_type": "markdown",
   "metadata": {},
   "source": [
    "Los pasos realizados en la tabla de planes fueron los siguientes:\n",
    "\n",
    "- Especificamos el nombre de las columnas `mb_per_month_included`, `usd_monthly_pay`, `usd_per_gb`, `usd_per_minute` y `usd_per_message`. \n",
    "- Creamos la variable `gb_included` al convertir megabytes (Mb) a gigabytes (Gb)."
   ]
  },
  {
   "cell_type": "markdown",
   "metadata": {},
   "source": [
    "## Análisis de datos\n",
    "En esta sección, realizamos un análisis de los datos de clientes, llamadas, mensajes y tráfico de internet para determinar cuál de las tarifas de Megaline es más rentable."
   ]
  },
  {
   "cell_type": "markdown",
   "metadata": {},
   "source": [
    "### Estudiar las condiciones de las tarifas\n",
    "Antes de comenzar el análisis, estudiamos las condiciones de las tarifas Surf y Ultimate para comprender sus características y beneficios.  "
   ]
  },
  {
   "cell_type": "code",
   "execution_count": 258,
   "metadata": {
    "id": "i409op8p0q1F"
   },
   "outputs": [
    {
     "name": "stdout",
     "output_type": "stream",
     "text": [
      "   messages_included  mb_included  minutes_included  monthly_fee_usd  \\\n",
      "0                 50        15360               500               20   \n",
      "1               1000        30720              3000               70   \n",
      "\n",
      "   gb_extra_price  message_extra_price  minutes_extra_price plan_name  \\\n",
      "0              10                 0.03                 0.03      surf   \n",
      "1               7                 0.01                 0.01  ultimate   \n",
      "\n",
      "   gb_included  \n",
      "0         15.0  \n",
      "1         30.0  \n"
     ]
    }
   ],
   "source": [
    "# Imprime las condiciones de la tarifa y asegúrate de que te quedan claras\n",
    "print(df_plans)"
   ]
  },
  {
   "cell_type": "markdown",
   "metadata": {
    "id": "hMR1tP5d0q1F"
   },
   "source": [
    "### Agregar datos por usuario\n",
    "Realizamos los resumenes de datos, agregando los datos por usuario y por periodo para que solo haya un registro por usuario y por periodo. Esto facilitará mucho el análisis posterior."
   ]
  },
  {
   "cell_type": "markdown",
   "metadata": {},
   "source": [
    "#### Número de llamadas mensuales por cliente"
   ]
  },
  {
   "cell_type": "code",
   "execution_count": 259,
   "metadata": {
    "id": "A332cedB0q1G"
   },
   "outputs": [
    {
     "name": "stdout",
     "output_type": "stream",
     "text": [
      "   user_id  month  total_calls\n",
      "0     1000     12           16\n",
      "1     1001      8           27\n",
      "2     1001      9           49\n",
      "3     1001     10           65\n",
      "4     1001     11           64\n",
      "\n",
      "Número de llamadas registradas:  2258\n"
     ]
    }
   ],
   "source": [
    "# Número de llamadas hechas por cada usuario al mes\n",
    "## Determinar el mes \n",
    "df_calls[\"month\"] = df_calls[\"call_date\"].dt.month\n",
    "\n",
    "## Calcular el número de llamadas al mes por usuario\n",
    "total_calls_user = df_calls.groupby([\"user_id\", \"month\"])[\"call_id\"].count().reset_index().sort_values(by=[\"user_id\", \"month\"],ascending=[True, True])\n",
    "\n",
    "## Renombrar columna \n",
    "total_calls_user = total_calls_user.rename(columns={\"call_id\": \"total_calls\"})\n",
    "\n",
    "## Visualización del df\n",
    "print(total_calls_user.head())\n",
    "print()\n",
    "\n",
    "print(\"Número de llamadas registradas: \", total_calls_user.shape[0])"
   ]
  },
  {
   "cell_type": "markdown",
   "metadata": {},
   "source": [
    "#### Número de minutos mensuales por cliente "
   ]
  },
  {
   "cell_type": "code",
   "execution_count": 260,
   "metadata": {
    "id": "aw2cmuql0q1G"
   },
   "outputs": [
    {
     "name": "stdout",
     "output_type": "stream",
     "text": [
      "   user_id  month  total_minutes\n",
      "0     1000     12         116.83\n",
      "1     1001      8         171.14\n",
      "2     1001      9         297.69\n",
      "3     1001     10         374.11\n",
      "4     1001     11         404.59\n"
     ]
    }
   ],
   "source": [
    "# Cantidad de minutos usados por cada usuario al mes. Guarda el resultado.\n",
    "## Calcular la cantidad de minutos usados por cada usuario al mes\n",
    "total_minutes_user = df_calls.groupby([\"user_id\", \"month\"])[\"call_duration_minutes\"].sum().reset_index().sort_values(by=[\"user_id\", \"month\"],ascending=[True, True])\n",
    "\n",
    "## Renombrar columna \n",
    "total_minutes_user = total_minutes_user.rename(columns={\"call_duration_minutes\": \"total_minutes\"})\n",
    "\n",
    "## Visualización del df\n",
    "print(total_minutes_user.head())"
   ]
  },
  {
   "cell_type": "markdown",
   "metadata": {},
   "source": [
    "#### Número de mensajes mensuales por cliente"
   ]
  },
  {
   "cell_type": "code",
   "execution_count": 261,
   "metadata": {
    "id": "CcQvNHn60q1G"
   },
   "outputs": [
    {
     "name": "stdout",
     "output_type": "stream",
     "text": [
      "   user_id  month  total_messages\n",
      "0     1000     12              11\n",
      "1     1001      8              30\n",
      "2     1001      9              44\n",
      "3     1001     10              53\n",
      "4     1001     11              36\n",
      "\n",
      "Número de mensajes registrados:  1806\n"
     ]
    }
   ],
   "source": [
    "# Número de mensajes enviados por cada usuario al mes\n",
    "## Determinar el mes \n",
    "df_messages[\"month\"] = df_messages[\"message_date\"].dt.month\n",
    "\n",
    "## Calcular el número de mensajes al mes por usuario\n",
    "total_messages_user = df_messages.groupby([\"user_id\", \"month\"])[\"message_id\"].count().reset_index().sort_values(by=[\"user_id\", \"month\"],ascending=[True, True])\n",
    "\n",
    "## Renombrar columna \n",
    "total_messages_user = total_messages_user.rename(columns={\"message_id\": \"total_messages\"})\n",
    "\n",
    "## Visualización del df\n",
    "print(total_messages_user.head())\n",
    "print()\n",
    "\n",
    "print(\"Número de mensajes registrados: \", total_messages_user.shape[0])"
   ]
  },
  {
   "cell_type": "markdown",
   "metadata": {},
   "source": [
    "#### Número de flujo de datos mensuales por cliente"
   ]
  },
  {
   "cell_type": "code",
   "execution_count": 262,
   "metadata": {
    "id": "H1AqN2eG0q1H"
   },
   "outputs": [
    {
     "name": "stdout",
     "output_type": "stream",
     "text": [
      "   user_id  month  total_internet_mb  total_internet_gb\n",
      "0     1000     12            1901.47                2.0\n",
      "1     1001      8            6919.15                5.0\n",
      "2     1001      9           13314.82                8.0\n",
      "3     1001     10           22330.49               20.0\n",
      "4     1001     11           18504.30               13.0\n",
      "\n"
     ]
    }
   ],
   "source": [
    "# Volumen de tráfico de messages por cada usuario al mes\n",
    "## Determinar el mes \n",
    "df_internet[\"month\"] = df_internet[\"session_date\"].dt.month\n",
    "\n",
    "## Calcula el volumen del tráfico de Internet por usuario\n",
    "total_internet_user = df_internet.groupby([\"user_id\", \"month\"])[[\"mb_used\", \"gb_used\"]].sum().reset_index().sort_values(by=[\"user_id\", \"month\"],ascending=[True, True])\n",
    "\n",
    "## Renombrar columna \n",
    "total_internet_user = total_internet_user.rename(columns={\"mb_used\": \"total_internet_mb\", \"gb_used\": \"total_internet_gb\"})\n",
    "\n",
    "## Visualización del df\n",
    "print(total_internet_user.head())\n",
    "print()"
   ]
  },
  {
   "cell_type": "markdown",
   "metadata": {},
   "source": [
    "#### Información consumo telefónico por cliente"
   ]
  },
  {
   "cell_type": "markdown",
   "metadata": {
    "id": "VDfYXnj80q1H"
   },
   "source": [
    "Para tener una noción del consumo que tienen los clientes de la compañía juntamos los datos agregados en un DataFrame para que haya un registro que represente lo que consumió un usuario único en un mes determinado."
   ]
  },
  {
   "cell_type": "code",
   "execution_count": 263,
   "metadata": {
    "id": "FW99ykyf0q1H"
   },
   "outputs": [],
   "source": [
    "# Fusiona los datos de llamadas, minutos, mensajes e Internet con base en user_id y month\n",
    "## Llamadas y minutos\n",
    "total_user_info = total_calls_user.merge(total_minutes_user, on = [\"user_id\", \"month\"], how = \"outer\")\n",
    "\n",
    "## Mensajes\n",
    "total_user_info = total_user_info.merge(total_messages_user, on = [\"user_id\", \"month\"], how = \"outer\")\n",
    "\n",
    "## Internet\n",
    "total_user_info = total_user_info.merge(total_internet_user, on = [\"user_id\", \"month\"], how = \"outer\")"
   ]
  },
  {
   "cell_type": "code",
   "execution_count": 264,
   "metadata": {
    "id": "0dNOXHag0q1H"
   },
   "outputs": [
    {
     "data": {
      "text/html": [
       "<div>\n",
       "<style scoped>\n",
       "    .dataframe tbody tr th:only-of-type {\n",
       "        vertical-align: middle;\n",
       "    }\n",
       "\n",
       "    .dataframe tbody tr th {\n",
       "        vertical-align: top;\n",
       "    }\n",
       "\n",
       "    .dataframe thead th {\n",
       "        text-align: right;\n",
       "    }\n",
       "</style>\n",
       "<table border=\"1\" class=\"dataframe\">\n",
       "  <thead>\n",
       "    <tr style=\"text-align: right;\">\n",
       "      <th></th>\n",
       "      <th>user_id</th>\n",
       "      <th>plan_name</th>\n",
       "      <th>month</th>\n",
       "      <th>total_calls</th>\n",
       "      <th>total_minutes</th>\n",
       "      <th>total_messages</th>\n",
       "      <th>total_internet_mb</th>\n",
       "      <th>total_internet_gb</th>\n",
       "    </tr>\n",
       "  </thead>\n",
       "  <tbody>\n",
       "    <tr>\n",
       "      <th>0</th>\n",
       "      <td>1000</td>\n",
       "      <td>ultimate</td>\n",
       "      <td>12.0</td>\n",
       "      <td>16.0</td>\n",
       "      <td>116.83</td>\n",
       "      <td>11.0</td>\n",
       "      <td>1901.47</td>\n",
       "      <td>2.0</td>\n",
       "    </tr>\n",
       "    <tr>\n",
       "      <th>1</th>\n",
       "      <td>1001</td>\n",
       "      <td>surf</td>\n",
       "      <td>8.0</td>\n",
       "      <td>27.0</td>\n",
       "      <td>171.14</td>\n",
       "      <td>30.0</td>\n",
       "      <td>6919.15</td>\n",
       "      <td>5.0</td>\n",
       "    </tr>\n",
       "    <tr>\n",
       "      <th>2</th>\n",
       "      <td>1001</td>\n",
       "      <td>surf</td>\n",
       "      <td>9.0</td>\n",
       "      <td>49.0</td>\n",
       "      <td>297.69</td>\n",
       "      <td>44.0</td>\n",
       "      <td>13314.82</td>\n",
       "      <td>8.0</td>\n",
       "    </tr>\n",
       "    <tr>\n",
       "      <th>3</th>\n",
       "      <td>1001</td>\n",
       "      <td>surf</td>\n",
       "      <td>10.0</td>\n",
       "      <td>65.0</td>\n",
       "      <td>374.11</td>\n",
       "      <td>53.0</td>\n",
       "      <td>22330.49</td>\n",
       "      <td>20.0</td>\n",
       "    </tr>\n",
       "    <tr>\n",
       "      <th>4</th>\n",
       "      <td>1001</td>\n",
       "      <td>surf</td>\n",
       "      <td>11.0</td>\n",
       "      <td>64.0</td>\n",
       "      <td>404.59</td>\n",
       "      <td>36.0</td>\n",
       "      <td>18504.30</td>\n",
       "      <td>13.0</td>\n",
       "    </tr>\n",
       "  </tbody>\n",
       "</table>\n",
       "</div>"
      ],
      "text/plain": [
       "   user_id plan_name  month  total_calls  total_minutes  total_messages  \\\n",
       "0     1000  ultimate   12.0         16.0         116.83            11.0   \n",
       "1     1001      surf    8.0         27.0         171.14            30.0   \n",
       "2     1001      surf    9.0         49.0         297.69            44.0   \n",
       "3     1001      surf   10.0         65.0         374.11            53.0   \n",
       "4     1001      surf   11.0         64.0         404.59            36.0   \n",
       "\n",
       "   total_internet_mb  total_internet_gb  \n",
       "0            1901.47                2.0  \n",
       "1            6919.15                5.0  \n",
       "2           13314.82                8.0  \n",
       "3           22330.49               20.0  \n",
       "4           18504.30               13.0  "
      ]
     },
     "execution_count": 264,
     "metadata": {},
     "output_type": "execute_result"
    }
   ],
   "source": [
    "# Añade la información de la tarifa\n",
    "total_user_info = df_users[[\"user_id\", \"plan_name\"]].merge(total_user_info, on = \"user_id\", how = \"outer\")\n",
    "\n",
    "total_user_info.head()"
   ]
  },
  {
   "cell_type": "markdown",
   "metadata": {
    "id": "1IwGo4wg0q1I"
   },
   "source": [
    "#### Calculo mensual por usuario\n",
    "\n",
    "Una vez que tenemos los datos agregados de las llamadas, mensajes y tráfico por usuario, calcula los ingresos mensuales en una nueva variable llamada `monthly_revenue`. Para ello, restamos el límite del plan gratuito el número total de llamadas, mensajes de texto y datos. Posteriormente multiplicamos cada resultado por el valor del plan de llamadas. Seguimos una serie de paso para poder obtener el total de inngresos por cleinte seguimos los siguientes pasos: "
   ]
  },
  {
   "cell_type": "markdown",
   "metadata": {},
   "source": [
    "1. Inpeccionamos la base de datos que contiene los datos agregados por usuario. "
   ]
  },
  {
   "cell_type": "code",
   "execution_count": 265,
   "metadata": {},
   "outputs": [
    {
     "data": {
      "text/plain": [
       "user_id                0\n",
       "plan_name              0\n",
       "month                 10\n",
       "total_calls           45\n",
       "total_minutes         45\n",
       "total_messages       497\n",
       "total_internet_mb     26\n",
       "total_internet_gb     26\n",
       "dtype: int64"
      ]
     },
     "execution_count": 265,
     "metadata": {},
     "output_type": "execute_result"
    }
   ],
   "source": [
    "# Inspección de valores faltantes\n",
    "total_user_info.isna().sum()"
   ]
  },
  {
   "cell_type": "markdown",
   "metadata": {},
   "source": [
    "Notamos que existían valores faltantes a lo largo del Dataset creado. Por un lado, existen registros donde no se tiene información sobre el mes. Por otro lado, tenemos información faltante sobre llamadas, mensajes e internet. Esto puede ser debido al comportamiento único de cada cliente; Por ejemplo, existen clientes que no registran mensajes pero si llamadas y uso de interne. "
   ]
  },
  {
   "cell_type": "markdown",
   "metadata": {},
   "source": [
    "2. Eliminamos los valores donde no tenemos información sobre los meses e imputamos los valores donde no existe registro con 0, entendiendo que el usuario no hace uso de ese servicio. \n",
    "\n",
    "> Corroborar con el supervisor la eliminación e imputación de valores. "
   ]
  },
  {
   "cell_type": "code",
   "execution_count": 266,
   "metadata": {},
   "outputs": [],
   "source": [
    "## Eliminar datos sin información de meses\n",
    "total_user_info.dropna(subset=[\"month\"], inplace=True)\n",
    "\n",
    "## Rellenar valores con 0\n",
    "total_user_info.fillna(0, inplace=True)\n",
    "\n",
    "## Convertimos a entero\n",
    "total_user_info[\"month\"] = total_user_info[\"month\"].astype(int)"
   ]
  },
  {
   "cell_type": "markdown",
   "metadata": {},
   "source": [
    "3. Aunque pueden existir otras maneras, quizás más sencillas. Decidimos unir la información de los planes al DataFrame con la información de cada usuario. "
   ]
  },
  {
   "cell_type": "code",
   "execution_count": 267,
   "metadata": {},
   "outputs": [
    {
     "data": {
      "text/html": [
       "<div>\n",
       "<style scoped>\n",
       "    .dataframe tbody tr th:only-of-type {\n",
       "        vertical-align: middle;\n",
       "    }\n",
       "\n",
       "    .dataframe tbody tr th {\n",
       "        vertical-align: top;\n",
       "    }\n",
       "\n",
       "    .dataframe thead th {\n",
       "        text-align: right;\n",
       "    }\n",
       "</style>\n",
       "<table border=\"1\" class=\"dataframe\">\n",
       "  <thead>\n",
       "    <tr style=\"text-align: right;\">\n",
       "      <th></th>\n",
       "      <th>user_id</th>\n",
       "      <th>plan_name</th>\n",
       "      <th>month</th>\n",
       "      <th>total_calls</th>\n",
       "      <th>total_minutes</th>\n",
       "      <th>total_messages</th>\n",
       "      <th>total_internet_mb</th>\n",
       "      <th>total_internet_gb</th>\n",
       "      <th>messages_included</th>\n",
       "      <th>mb_included</th>\n",
       "      <th>minutes_included</th>\n",
       "      <th>monthly_fee_usd</th>\n",
       "      <th>gb_extra_price</th>\n",
       "      <th>message_extra_price</th>\n",
       "      <th>minutes_extra_price</th>\n",
       "      <th>gb_included</th>\n",
       "    </tr>\n",
       "  </thead>\n",
       "  <tbody>\n",
       "    <tr>\n",
       "      <th>0</th>\n",
       "      <td>1001</td>\n",
       "      <td>surf</td>\n",
       "      <td>8</td>\n",
       "      <td>27.0</td>\n",
       "      <td>171.14</td>\n",
       "      <td>30.0</td>\n",
       "      <td>6919.15</td>\n",
       "      <td>5.0</td>\n",
       "      <td>50</td>\n",
       "      <td>15360</td>\n",
       "      <td>500</td>\n",
       "      <td>20</td>\n",
       "      <td>10</td>\n",
       "      <td>0.03</td>\n",
       "      <td>0.03</td>\n",
       "      <td>15.0</td>\n",
       "    </tr>\n",
       "    <tr>\n",
       "      <th>1</th>\n",
       "      <td>1001</td>\n",
       "      <td>surf</td>\n",
       "      <td>9</td>\n",
       "      <td>49.0</td>\n",
       "      <td>297.69</td>\n",
       "      <td>44.0</td>\n",
       "      <td>13314.82</td>\n",
       "      <td>8.0</td>\n",
       "      <td>50</td>\n",
       "      <td>15360</td>\n",
       "      <td>500</td>\n",
       "      <td>20</td>\n",
       "      <td>10</td>\n",
       "      <td>0.03</td>\n",
       "      <td>0.03</td>\n",
       "      <td>15.0</td>\n",
       "    </tr>\n",
       "    <tr>\n",
       "      <th>2</th>\n",
       "      <td>1001</td>\n",
       "      <td>surf</td>\n",
       "      <td>10</td>\n",
       "      <td>65.0</td>\n",
       "      <td>374.11</td>\n",
       "      <td>53.0</td>\n",
       "      <td>22330.49</td>\n",
       "      <td>20.0</td>\n",
       "      <td>50</td>\n",
       "      <td>15360</td>\n",
       "      <td>500</td>\n",
       "      <td>20</td>\n",
       "      <td>10</td>\n",
       "      <td>0.03</td>\n",
       "      <td>0.03</td>\n",
       "      <td>15.0</td>\n",
       "    </tr>\n",
       "    <tr>\n",
       "      <th>3</th>\n",
       "      <td>1001</td>\n",
       "      <td>surf</td>\n",
       "      <td>11</td>\n",
       "      <td>64.0</td>\n",
       "      <td>404.59</td>\n",
       "      <td>36.0</td>\n",
       "      <td>18504.30</td>\n",
       "      <td>13.0</td>\n",
       "      <td>50</td>\n",
       "      <td>15360</td>\n",
       "      <td>500</td>\n",
       "      <td>20</td>\n",
       "      <td>10</td>\n",
       "      <td>0.03</td>\n",
       "      <td>0.03</td>\n",
       "      <td>15.0</td>\n",
       "    </tr>\n",
       "    <tr>\n",
       "      <th>4</th>\n",
       "      <td>1001</td>\n",
       "      <td>surf</td>\n",
       "      <td>12</td>\n",
       "      <td>56.0</td>\n",
       "      <td>392.93</td>\n",
       "      <td>44.0</td>\n",
       "      <td>19369.18</td>\n",
       "      <td>12.0</td>\n",
       "      <td>50</td>\n",
       "      <td>15360</td>\n",
       "      <td>500</td>\n",
       "      <td>20</td>\n",
       "      <td>10</td>\n",
       "      <td>0.03</td>\n",
       "      <td>0.03</td>\n",
       "      <td>15.0</td>\n",
       "    </tr>\n",
       "    <tr>\n",
       "      <th>...</th>\n",
       "      <td>...</td>\n",
       "      <td>...</td>\n",
       "      <td>...</td>\n",
       "      <td>...</td>\n",
       "      <td>...</td>\n",
       "      <td>...</td>\n",
       "      <td>...</td>\n",
       "      <td>...</td>\n",
       "      <td>...</td>\n",
       "      <td>...</td>\n",
       "      <td>...</td>\n",
       "      <td>...</td>\n",
       "      <td>...</td>\n",
       "      <td>...</td>\n",
       "      <td>...</td>\n",
       "      <td>...</td>\n",
       "    </tr>\n",
       "    <tr>\n",
       "      <th>2288</th>\n",
       "      <td>1493</td>\n",
       "      <td>ultimate</td>\n",
       "      <td>9</td>\n",
       "      <td>66.0</td>\n",
       "      <td>505.13</td>\n",
       "      <td>0.0</td>\n",
       "      <td>14991.17</td>\n",
       "      <td>12.0</td>\n",
       "      <td>1000</td>\n",
       "      <td>30720</td>\n",
       "      <td>3000</td>\n",
       "      <td>70</td>\n",
       "      <td>7</td>\n",
       "      <td>0.01</td>\n",
       "      <td>0.01</td>\n",
       "      <td>30.0</td>\n",
       "    </tr>\n",
       "    <tr>\n",
       "      <th>2289</th>\n",
       "      <td>1493</td>\n",
       "      <td>ultimate</td>\n",
       "      <td>10</td>\n",
       "      <td>66.0</td>\n",
       "      <td>424.25</td>\n",
       "      <td>0.0</td>\n",
       "      <td>16329.57</td>\n",
       "      <td>11.0</td>\n",
       "      <td>1000</td>\n",
       "      <td>30720</td>\n",
       "      <td>3000</td>\n",
       "      <td>70</td>\n",
       "      <td>7</td>\n",
       "      <td>0.01</td>\n",
       "      <td>0.01</td>\n",
       "      <td>30.0</td>\n",
       "    </tr>\n",
       "    <tr>\n",
       "      <th>2290</th>\n",
       "      <td>1493</td>\n",
       "      <td>ultimate</td>\n",
       "      <td>11</td>\n",
       "      <td>73.0</td>\n",
       "      <td>472.15</td>\n",
       "      <td>0.0</td>\n",
       "      <td>15630.78</td>\n",
       "      <td>12.0</td>\n",
       "      <td>1000</td>\n",
       "      <td>30720</td>\n",
       "      <td>3000</td>\n",
       "      <td>70</td>\n",
       "      <td>7</td>\n",
       "      <td>0.01</td>\n",
       "      <td>0.01</td>\n",
       "      <td>30.0</td>\n",
       "    </tr>\n",
       "    <tr>\n",
       "      <th>2291</th>\n",
       "      <td>1493</td>\n",
       "      <td>ultimate</td>\n",
       "      <td>12</td>\n",
       "      <td>65.0</td>\n",
       "      <td>446.28</td>\n",
       "      <td>0.0</td>\n",
       "      <td>15289.09</td>\n",
       "      <td>16.0</td>\n",
       "      <td>1000</td>\n",
       "      <td>30720</td>\n",
       "      <td>3000</td>\n",
       "      <td>70</td>\n",
       "      <td>7</td>\n",
       "      <td>0.01</td>\n",
       "      <td>0.01</td>\n",
       "      <td>30.0</td>\n",
       "    </tr>\n",
       "    <tr>\n",
       "      <th>2292</th>\n",
       "      <td>1497</td>\n",
       "      <td>ultimate</td>\n",
       "      <td>12</td>\n",
       "      <td>54.0</td>\n",
       "      <td>276.53</td>\n",
       "      <td>50.0</td>\n",
       "      <td>11106.55</td>\n",
       "      <td>8.0</td>\n",
       "      <td>1000</td>\n",
       "      <td>30720</td>\n",
       "      <td>3000</td>\n",
       "      <td>70</td>\n",
       "      <td>7</td>\n",
       "      <td>0.01</td>\n",
       "      <td>0.01</td>\n",
       "      <td>30.0</td>\n",
       "    </tr>\n",
       "  </tbody>\n",
       "</table>\n",
       "<p>2293 rows × 16 columns</p>\n",
       "</div>"
      ],
      "text/plain": [
       "      user_id plan_name  month  total_calls  total_minutes  total_messages  \\\n",
       "0        1001      surf      8         27.0         171.14            30.0   \n",
       "1        1001      surf      9         49.0         297.69            44.0   \n",
       "2        1001      surf     10         65.0         374.11            53.0   \n",
       "3        1001      surf     11         64.0         404.59            36.0   \n",
       "4        1001      surf     12         56.0         392.93            44.0   \n",
       "...       ...       ...    ...          ...            ...             ...   \n",
       "2288     1493  ultimate      9         66.0         505.13             0.0   \n",
       "2289     1493  ultimate     10         66.0         424.25             0.0   \n",
       "2290     1493  ultimate     11         73.0         472.15             0.0   \n",
       "2291     1493  ultimate     12         65.0         446.28             0.0   \n",
       "2292     1497  ultimate     12         54.0         276.53            50.0   \n",
       "\n",
       "      total_internet_mb  total_internet_gb  messages_included  mb_included  \\\n",
       "0               6919.15                5.0                 50        15360   \n",
       "1              13314.82                8.0                 50        15360   \n",
       "2              22330.49               20.0                 50        15360   \n",
       "3              18504.30               13.0                 50        15360   \n",
       "4              19369.18               12.0                 50        15360   \n",
       "...                 ...                ...                ...          ...   \n",
       "2288           14991.17               12.0               1000        30720   \n",
       "2289           16329.57               11.0               1000        30720   \n",
       "2290           15630.78               12.0               1000        30720   \n",
       "2291           15289.09               16.0               1000        30720   \n",
       "2292           11106.55                8.0               1000        30720   \n",
       "\n",
       "      minutes_included  monthly_fee_usd  gb_extra_price  message_extra_price  \\\n",
       "0                  500               20              10                 0.03   \n",
       "1                  500               20              10                 0.03   \n",
       "2                  500               20              10                 0.03   \n",
       "3                  500               20              10                 0.03   \n",
       "4                  500               20              10                 0.03   \n",
       "...                ...              ...             ...                  ...   \n",
       "2288              3000               70               7                 0.01   \n",
       "2289              3000               70               7                 0.01   \n",
       "2290              3000               70               7                 0.01   \n",
       "2291              3000               70               7                 0.01   \n",
       "2292              3000               70               7                 0.01   \n",
       "\n",
       "      minutes_extra_price  gb_included  \n",
       "0                    0.03         15.0  \n",
       "1                    0.03         15.0  \n",
       "2                    0.03         15.0  \n",
       "3                    0.03         15.0  \n",
       "4                    0.03         15.0  \n",
       "...                   ...          ...  \n",
       "2288                 0.01         30.0  \n",
       "2289                 0.01         30.0  \n",
       "2290                 0.01         30.0  \n",
       "2291                 0.01         30.0  \n",
       "2292                 0.01         30.0  \n",
       "\n",
       "[2293 rows x 16 columns]"
      ]
     },
     "execution_count": 267,
     "metadata": {},
     "output_type": "execute_result"
    }
   ],
   "source": [
    "## Unión características del plan\n",
    "total_user_info = total_user_info.merge(df_plans, on = \"plan_name\", how = \"outer\")\n",
    "\n",
    "total_user_info"
   ]
  },
  {
   "cell_type": "markdown",
   "metadata": {},
   "source": [
    "4. Con la Dataframe con la información del consumo por usuario mensual y con la información de su plan, realizamos el cálculo de cada servicio excedido con su respectivo costro extra. De esta manera calculamos el ingreso total mensual por usuario. "
   ]
  },
  {
   "cell_type": "code",
   "execution_count": 268,
   "metadata": {
    "id": "5FGCf_c60q1I"
   },
   "outputs": [
    {
     "data": {
      "text/html": [
       "<div>\n",
       "<style scoped>\n",
       "    .dataframe tbody tr th:only-of-type {\n",
       "        vertical-align: middle;\n",
       "    }\n",
       "\n",
       "    .dataframe tbody tr th {\n",
       "        vertical-align: top;\n",
       "    }\n",
       "\n",
       "    .dataframe thead th {\n",
       "        text-align: right;\n",
       "    }\n",
       "</style>\n",
       "<table border=\"1\" class=\"dataframe\">\n",
       "  <thead>\n",
       "    <tr style=\"text-align: right;\">\n",
       "      <th></th>\n",
       "      <th>user_id</th>\n",
       "      <th>plan_name</th>\n",
       "      <th>month</th>\n",
       "      <th>total_calls</th>\n",
       "      <th>total_minutes</th>\n",
       "      <th>total_messages</th>\n",
       "      <th>total_internet_mb</th>\n",
       "      <th>total_internet_gb</th>\n",
       "      <th>messages_included</th>\n",
       "      <th>mb_included</th>\n",
       "      <th>...</th>\n",
       "      <th>message_extra_price</th>\n",
       "      <th>minutes_extra_price</th>\n",
       "      <th>gb_included</th>\n",
       "      <th>extra_minutes</th>\n",
       "      <th>extra_minutes_cost</th>\n",
       "      <th>extra_messages</th>\n",
       "      <th>extra_messages_cost</th>\n",
       "      <th>extra_gb</th>\n",
       "      <th>extra_gb_cost</th>\n",
       "      <th>monthly_revenue</th>\n",
       "    </tr>\n",
       "  </thead>\n",
       "  <tbody>\n",
       "    <tr>\n",
       "      <th>0</th>\n",
       "      <td>1001</td>\n",
       "      <td>surf</td>\n",
       "      <td>8</td>\n",
       "      <td>27.0</td>\n",
       "      <td>171.14</td>\n",
       "      <td>30.0</td>\n",
       "      <td>6919.15</td>\n",
       "      <td>5.0</td>\n",
       "      <td>50</td>\n",
       "      <td>15360</td>\n",
       "      <td>...</td>\n",
       "      <td>0.03</td>\n",
       "      <td>0.03</td>\n",
       "      <td>15.0</td>\n",
       "      <td>0.0</td>\n",
       "      <td>0.0</td>\n",
       "      <td>0.0</td>\n",
       "      <td>0.00</td>\n",
       "      <td>0.0</td>\n",
       "      <td>0.0</td>\n",
       "      <td>20.00</td>\n",
       "    </tr>\n",
       "    <tr>\n",
       "      <th>1</th>\n",
       "      <td>1001</td>\n",
       "      <td>surf</td>\n",
       "      <td>9</td>\n",
       "      <td>49.0</td>\n",
       "      <td>297.69</td>\n",
       "      <td>44.0</td>\n",
       "      <td>13314.82</td>\n",
       "      <td>8.0</td>\n",
       "      <td>50</td>\n",
       "      <td>15360</td>\n",
       "      <td>...</td>\n",
       "      <td>0.03</td>\n",
       "      <td>0.03</td>\n",
       "      <td>15.0</td>\n",
       "      <td>0.0</td>\n",
       "      <td>0.0</td>\n",
       "      <td>0.0</td>\n",
       "      <td>0.00</td>\n",
       "      <td>0.0</td>\n",
       "      <td>0.0</td>\n",
       "      <td>20.00</td>\n",
       "    </tr>\n",
       "    <tr>\n",
       "      <th>2</th>\n",
       "      <td>1001</td>\n",
       "      <td>surf</td>\n",
       "      <td>10</td>\n",
       "      <td>65.0</td>\n",
       "      <td>374.11</td>\n",
       "      <td>53.0</td>\n",
       "      <td>22330.49</td>\n",
       "      <td>20.0</td>\n",
       "      <td>50</td>\n",
       "      <td>15360</td>\n",
       "      <td>...</td>\n",
       "      <td>0.03</td>\n",
       "      <td>0.03</td>\n",
       "      <td>15.0</td>\n",
       "      <td>0.0</td>\n",
       "      <td>0.0</td>\n",
       "      <td>3.0</td>\n",
       "      <td>0.09</td>\n",
       "      <td>5.0</td>\n",
       "      <td>50.0</td>\n",
       "      <td>70.09</td>\n",
       "    </tr>\n",
       "    <tr>\n",
       "      <th>3</th>\n",
       "      <td>1001</td>\n",
       "      <td>surf</td>\n",
       "      <td>11</td>\n",
       "      <td>64.0</td>\n",
       "      <td>404.59</td>\n",
       "      <td>36.0</td>\n",
       "      <td>18504.30</td>\n",
       "      <td>13.0</td>\n",
       "      <td>50</td>\n",
       "      <td>15360</td>\n",
       "      <td>...</td>\n",
       "      <td>0.03</td>\n",
       "      <td>0.03</td>\n",
       "      <td>15.0</td>\n",
       "      <td>0.0</td>\n",
       "      <td>0.0</td>\n",
       "      <td>0.0</td>\n",
       "      <td>0.00</td>\n",
       "      <td>0.0</td>\n",
       "      <td>0.0</td>\n",
       "      <td>20.00</td>\n",
       "    </tr>\n",
       "    <tr>\n",
       "      <th>4</th>\n",
       "      <td>1001</td>\n",
       "      <td>surf</td>\n",
       "      <td>12</td>\n",
       "      <td>56.0</td>\n",
       "      <td>392.93</td>\n",
       "      <td>44.0</td>\n",
       "      <td>19369.18</td>\n",
       "      <td>12.0</td>\n",
       "      <td>50</td>\n",
       "      <td>15360</td>\n",
       "      <td>...</td>\n",
       "      <td>0.03</td>\n",
       "      <td>0.03</td>\n",
       "      <td>15.0</td>\n",
       "      <td>0.0</td>\n",
       "      <td>0.0</td>\n",
       "      <td>0.0</td>\n",
       "      <td>0.00</td>\n",
       "      <td>0.0</td>\n",
       "      <td>0.0</td>\n",
       "      <td>20.00</td>\n",
       "    </tr>\n",
       "    <tr>\n",
       "      <th>...</th>\n",
       "      <td>...</td>\n",
       "      <td>...</td>\n",
       "      <td>...</td>\n",
       "      <td>...</td>\n",
       "      <td>...</td>\n",
       "      <td>...</td>\n",
       "      <td>...</td>\n",
       "      <td>...</td>\n",
       "      <td>...</td>\n",
       "      <td>...</td>\n",
       "      <td>...</td>\n",
       "      <td>...</td>\n",
       "      <td>...</td>\n",
       "      <td>...</td>\n",
       "      <td>...</td>\n",
       "      <td>...</td>\n",
       "      <td>...</td>\n",
       "      <td>...</td>\n",
       "      <td>...</td>\n",
       "      <td>...</td>\n",
       "      <td>...</td>\n",
       "    </tr>\n",
       "    <tr>\n",
       "      <th>2288</th>\n",
       "      <td>1493</td>\n",
       "      <td>ultimate</td>\n",
       "      <td>9</td>\n",
       "      <td>66.0</td>\n",
       "      <td>505.13</td>\n",
       "      <td>0.0</td>\n",
       "      <td>14991.17</td>\n",
       "      <td>12.0</td>\n",
       "      <td>1000</td>\n",
       "      <td>30720</td>\n",
       "      <td>...</td>\n",
       "      <td>0.01</td>\n",
       "      <td>0.01</td>\n",
       "      <td>30.0</td>\n",
       "      <td>0.0</td>\n",
       "      <td>0.0</td>\n",
       "      <td>0.0</td>\n",
       "      <td>0.00</td>\n",
       "      <td>0.0</td>\n",
       "      <td>0.0</td>\n",
       "      <td>70.00</td>\n",
       "    </tr>\n",
       "    <tr>\n",
       "      <th>2289</th>\n",
       "      <td>1493</td>\n",
       "      <td>ultimate</td>\n",
       "      <td>10</td>\n",
       "      <td>66.0</td>\n",
       "      <td>424.25</td>\n",
       "      <td>0.0</td>\n",
       "      <td>16329.57</td>\n",
       "      <td>11.0</td>\n",
       "      <td>1000</td>\n",
       "      <td>30720</td>\n",
       "      <td>...</td>\n",
       "      <td>0.01</td>\n",
       "      <td>0.01</td>\n",
       "      <td>30.0</td>\n",
       "      <td>0.0</td>\n",
       "      <td>0.0</td>\n",
       "      <td>0.0</td>\n",
       "      <td>0.00</td>\n",
       "      <td>0.0</td>\n",
       "      <td>0.0</td>\n",
       "      <td>70.00</td>\n",
       "    </tr>\n",
       "    <tr>\n",
       "      <th>2290</th>\n",
       "      <td>1493</td>\n",
       "      <td>ultimate</td>\n",
       "      <td>11</td>\n",
       "      <td>73.0</td>\n",
       "      <td>472.15</td>\n",
       "      <td>0.0</td>\n",
       "      <td>15630.78</td>\n",
       "      <td>12.0</td>\n",
       "      <td>1000</td>\n",
       "      <td>30720</td>\n",
       "      <td>...</td>\n",
       "      <td>0.01</td>\n",
       "      <td>0.01</td>\n",
       "      <td>30.0</td>\n",
       "      <td>0.0</td>\n",
       "      <td>0.0</td>\n",
       "      <td>0.0</td>\n",
       "      <td>0.00</td>\n",
       "      <td>0.0</td>\n",
       "      <td>0.0</td>\n",
       "      <td>70.00</td>\n",
       "    </tr>\n",
       "    <tr>\n",
       "      <th>2291</th>\n",
       "      <td>1493</td>\n",
       "      <td>ultimate</td>\n",
       "      <td>12</td>\n",
       "      <td>65.0</td>\n",
       "      <td>446.28</td>\n",
       "      <td>0.0</td>\n",
       "      <td>15289.09</td>\n",
       "      <td>16.0</td>\n",
       "      <td>1000</td>\n",
       "      <td>30720</td>\n",
       "      <td>...</td>\n",
       "      <td>0.01</td>\n",
       "      <td>0.01</td>\n",
       "      <td>30.0</td>\n",
       "      <td>0.0</td>\n",
       "      <td>0.0</td>\n",
       "      <td>0.0</td>\n",
       "      <td>0.00</td>\n",
       "      <td>0.0</td>\n",
       "      <td>0.0</td>\n",
       "      <td>70.00</td>\n",
       "    </tr>\n",
       "    <tr>\n",
       "      <th>2292</th>\n",
       "      <td>1497</td>\n",
       "      <td>ultimate</td>\n",
       "      <td>12</td>\n",
       "      <td>54.0</td>\n",
       "      <td>276.53</td>\n",
       "      <td>50.0</td>\n",
       "      <td>11106.55</td>\n",
       "      <td>8.0</td>\n",
       "      <td>1000</td>\n",
       "      <td>30720</td>\n",
       "      <td>...</td>\n",
       "      <td>0.01</td>\n",
       "      <td>0.01</td>\n",
       "      <td>30.0</td>\n",
       "      <td>0.0</td>\n",
       "      <td>0.0</td>\n",
       "      <td>0.0</td>\n",
       "      <td>0.00</td>\n",
       "      <td>0.0</td>\n",
       "      <td>0.0</td>\n",
       "      <td>70.00</td>\n",
       "    </tr>\n",
       "  </tbody>\n",
       "</table>\n",
       "<p>2293 rows × 23 columns</p>\n",
       "</div>"
      ],
      "text/plain": [
       "      user_id plan_name  month  total_calls  total_minutes  total_messages  \\\n",
       "0        1001      surf      8         27.0         171.14            30.0   \n",
       "1        1001      surf      9         49.0         297.69            44.0   \n",
       "2        1001      surf     10         65.0         374.11            53.0   \n",
       "3        1001      surf     11         64.0         404.59            36.0   \n",
       "4        1001      surf     12         56.0         392.93            44.0   \n",
       "...       ...       ...    ...          ...            ...             ...   \n",
       "2288     1493  ultimate      9         66.0         505.13             0.0   \n",
       "2289     1493  ultimate     10         66.0         424.25             0.0   \n",
       "2290     1493  ultimate     11         73.0         472.15             0.0   \n",
       "2291     1493  ultimate     12         65.0         446.28             0.0   \n",
       "2292     1497  ultimate     12         54.0         276.53            50.0   \n",
       "\n",
       "      total_internet_mb  total_internet_gb  messages_included  mb_included  \\\n",
       "0               6919.15                5.0                 50        15360   \n",
       "1              13314.82                8.0                 50        15360   \n",
       "2              22330.49               20.0                 50        15360   \n",
       "3              18504.30               13.0                 50        15360   \n",
       "4              19369.18               12.0                 50        15360   \n",
       "...                 ...                ...                ...          ...   \n",
       "2288           14991.17               12.0               1000        30720   \n",
       "2289           16329.57               11.0               1000        30720   \n",
       "2290           15630.78               12.0               1000        30720   \n",
       "2291           15289.09               16.0               1000        30720   \n",
       "2292           11106.55                8.0               1000        30720   \n",
       "\n",
       "      ...  message_extra_price  minutes_extra_price  gb_included  \\\n",
       "0     ...                 0.03                 0.03         15.0   \n",
       "1     ...                 0.03                 0.03         15.0   \n",
       "2     ...                 0.03                 0.03         15.0   \n",
       "3     ...                 0.03                 0.03         15.0   \n",
       "4     ...                 0.03                 0.03         15.0   \n",
       "...   ...                  ...                  ...          ...   \n",
       "2288  ...                 0.01                 0.01         30.0   \n",
       "2289  ...                 0.01                 0.01         30.0   \n",
       "2290  ...                 0.01                 0.01         30.0   \n",
       "2291  ...                 0.01                 0.01         30.0   \n",
       "2292  ...                 0.01                 0.01         30.0   \n",
       "\n",
       "      extra_minutes  extra_minutes_cost  extra_messages  extra_messages_cost  \\\n",
       "0               0.0                 0.0             0.0                 0.00   \n",
       "1               0.0                 0.0             0.0                 0.00   \n",
       "2               0.0                 0.0             3.0                 0.09   \n",
       "3               0.0                 0.0             0.0                 0.00   \n",
       "4               0.0                 0.0             0.0                 0.00   \n",
       "...             ...                 ...             ...                  ...   \n",
       "2288            0.0                 0.0             0.0                 0.00   \n",
       "2289            0.0                 0.0             0.0                 0.00   \n",
       "2290            0.0                 0.0             0.0                 0.00   \n",
       "2291            0.0                 0.0             0.0                 0.00   \n",
       "2292            0.0                 0.0             0.0                 0.00   \n",
       "\n",
       "      extra_gb  extra_gb_cost  monthly_revenue  \n",
       "0          0.0            0.0            20.00  \n",
       "1          0.0            0.0            20.00  \n",
       "2          5.0           50.0            70.09  \n",
       "3          0.0            0.0            20.00  \n",
       "4          0.0            0.0            20.00  \n",
       "...        ...            ...              ...  \n",
       "2288       0.0            0.0            70.00  \n",
       "2289       0.0            0.0            70.00  \n",
       "2290       0.0            0.0            70.00  \n",
       "2291       0.0            0.0            70.00  \n",
       "2292       0.0            0.0            70.00  \n",
       "\n",
       "[2293 rows x 23 columns]"
      ]
     },
     "execution_count": 268,
     "metadata": {},
     "output_type": "execute_result"
    }
   ],
   "source": [
    "# Calcula el ingreso mensual para cada usuario\n",
    "## Calcular los extras\n",
    "### Minutos adicionales\n",
    "total_user_info[\"extra_minutes\"] = np.maximum(0, np.ceil(total_user_info[\"total_minutes\"]-total_user_info[\"minutes_included\"]))\n",
    "\n",
    "### Costo extra por minutos excedidos\n",
    "total_user_info[\"extra_minutes_cost\"] = total_user_info[\"extra_minutes\"]* total_user_info[\"minutes_extra_price\"]\n",
    "\n",
    "### Mensajes adicionales\n",
    "total_user_info[\"extra_messages\"] = np.maximum(0, total_user_info[\"total_messages\"]-total_user_info[\"messages_included\"])\n",
    "\n",
    "### Costo extra por mensajes excedidos\n",
    "total_user_info[\"extra_messages_cost\"] = total_user_info[\"extra_messages\"]* total_user_info[\"message_extra_price\"]\n",
    "\n",
    "### Gb adicionales\n",
    "total_user_info[\"extra_gb\"] = np.maximum(0, np.ceil(total_user_info[\"total_internet_gb\"]-total_user_info[\"gb_included\"]))\n",
    "\n",
    "### Costo extra por Gb excedidos\n",
    "total_user_info[\"extra_gb_cost\"] = total_user_info[\"extra_gb\"]* total_user_info[\"gb_extra_price\"]\n",
    "\n",
    "\n",
    "## Calculo ingreso mensual\n",
    "total_user_info[\"monthly_revenue\"]= total_user_info[\"monthly_fee_usd\"] + total_user_info[\"extra_minutes_cost\"]+ total_user_info[\"extra_messages_cost\"]+ total_user_info[\"extra_gb_cost\"]\n",
    "\n",
    "# Mostrar los ingresos mensuales calculados\n",
    "total_user_info"
   ]
  },
  {
   "cell_type": "markdown",
   "metadata": {
    "id": "-jtyHzJb0q1I"
   },
   "source": [
    "### Estudia el comportamiento de usuario\n",
    "\n",
    "Examinamos el comportamiento de los clientes en función de su tarifa, evaluando variables como la duración de las llamadas, la cantidad de mensajes enviados y el uso de datos. Calculamos algunas estadísticas descriptivas para los datos agregados y fusionados que fueran útiles y que mostraran un panorama general captado por los datos. Además, realizamos gráficos útiles para facilitar su comprensión."
   ]
  },
  {
   "cell_type": "markdown",
   "metadata": {},
   "source": [
    "#### Comportamiento de las llamadas\n",
    "Para analizar el comportamiento de las llamadas por plan, iniciamos observando la actividad de los clientes a lo largo del año. "
   ]
  },
  {
   "cell_type": "code",
   "execution_count": 296,
   "metadata": {},
   "outputs": [
    {
     "data": {
      "image/png": "[encoded data removed]",
      "text/plain": [
       "<Figure size 1200x600 with 1 Axes>"
      ]
     },
     "metadata": {},
     "output_type": "display_data"
    }
   ],
   "source": [
    "# Comportamiento de llamadas \n",
    "## Obtener el estadística descriptiva del total de llamadas mensuales\n",
    "calls_summary= total_user_info.groupby(by=[\"plan_name\", \"month\"])[\"total_calls\"].agg(promedio=\"mean\", varianza= \"var\", desv=\"std\", mediana=\"median\", minimo=\"min\", maximo=\"max\").round(2)\n",
    "\n",
    "## Gráfico de barras para el promedio de llamadas mensuales por plan\n",
    "### Customización\n",
    "plt.figure(figsize=(12,6))\n",
    "custom_palette = {\"surf\":\"#c9c6c2\" , \"ultimate\":\"#1995AD\"}\n",
    "\n",
    "## Gráfica de barras \n",
    "sns.barplot(data=calls_summary, \n",
    "            x=\"month\", y=\"promedio\", \n",
    "            hue=\"plan_name\", hue_order=[\"ultimate\", \"surf\"],\n",
    "            palette= custom_palette)\n",
    "plt.title(\"Comportamiento llamadas mensuales por plan \\n\")\n",
    "plt.xlabel(\" \\n Mes\")\n",
    "plt.ylabel(\"No. llamadas promedio \\n\")\n",
    "plt.show()"
   ]
  },
  {
   "cell_type": "markdown",
   "metadata": {},
   "source": [
    "Posteriormente, obtenemos el resumen estadístico por grupo y la distribución de los datos del número de llamadas realizadas por los usuarios. Además realizamos el histograma con la distribución de los mismos. "
   ]
  },
  {
   "cell_type": "code",
   "execution_count": 270,
   "metadata": {},
   "outputs": [
    {
     "data": {
      "text/html": [
       "<div>\n",
       "<style scoped>\n",
       "    .dataframe tbody tr th:only-of-type {\n",
       "        vertical-align: middle;\n",
       "    }\n",
       "\n",
       "    .dataframe tbody tr th {\n",
       "        vertical-align: top;\n",
       "    }\n",
       "\n",
       "    .dataframe thead th {\n",
       "        text-align: right;\n",
       "    }\n",
       "</style>\n",
       "<table border=\"1\" class=\"dataframe\">\n",
       "  <thead>\n",
       "    <tr style=\"text-align: right;\">\n",
       "      <th></th>\n",
       "      <th>count</th>\n",
       "      <th>mean</th>\n",
       "      <th>std</th>\n",
       "      <th>min</th>\n",
       "      <th>25%</th>\n",
       "      <th>50%</th>\n",
       "      <th>75%</th>\n",
       "      <th>max</th>\n",
       "    </tr>\n",
       "    <tr>\n",
       "      <th>plan_name</th>\n",
       "      <th></th>\n",
       "      <th></th>\n",
       "      <th></th>\n",
       "      <th></th>\n",
       "      <th></th>\n",
       "      <th></th>\n",
       "      <th></th>\n",
       "      <th></th>\n",
       "    </tr>\n",
       "  </thead>\n",
       "  <tbody>\n",
       "    <tr>\n",
       "      <th>surf</th>\n",
       "      <td>1573.0</td>\n",
       "      <td>59.81</td>\n",
       "      <td>32.02</td>\n",
       "      <td>0.0</td>\n",
       "      <td>39.0</td>\n",
       "      <td>60.0</td>\n",
       "      <td>79.0</td>\n",
       "      <td>205.0</td>\n",
       "    </tr>\n",
       "    <tr>\n",
       "      <th>ultimate</th>\n",
       "      <td>720.0</td>\n",
       "      <td>60.63</td>\n",
       "      <td>33.24</td>\n",
       "      <td>0.0</td>\n",
       "      <td>36.0</td>\n",
       "      <td>61.0</td>\n",
       "      <td>80.0</td>\n",
       "      <td>191.0</td>\n",
       "    </tr>\n",
       "  </tbody>\n",
       "</table>\n",
       "</div>"
      ],
      "text/plain": [
       "            count   mean    std  min   25%   50%   75%    max\n",
       "plan_name                                                    \n",
       "surf       1573.0  59.81  32.02  0.0  39.0  60.0  79.0  205.0\n",
       "ultimate    720.0  60.63  33.24  0.0  36.0  61.0  80.0  191.0"
      ]
     },
     "execution_count": 270,
     "metadata": {},
     "output_type": "execute_result"
    }
   ],
   "source": [
    "# Distribución del numero de llamadas por plan\n",
    "## Estadísticos descriptivos del total de llamadas\n",
    "total_user_info.groupby(by=[\"plan_name\"])[\"total_calls\"].describe().round(2)"
   ]
  },
  {
   "cell_type": "code",
   "execution_count": 271,
   "metadata": {},
   "outputs": [
    {
     "data": {
      "image/png": "[encoded data removed]",
      "text/plain": [
       "<Figure size 1200x600 with 1 Axes>"
      ]
     },
     "metadata": {},
     "output_type": "display_data"
    }
   ],
   "source": [
    "## Gráfico distribución de llamadas por plan\n",
    "### Customización\n",
    "plt.figure(figsize=(12, 6))\n",
    "custom_palette= [\"#1995AD\" , \"#c9c6c2\"]\n",
    "\n",
    "### Histograma número de llamadas por plan\n",
    "sns.histplot(data=total_user_info, \n",
    "            x=\"total_calls\",\n",
    "            hue=\"plan_name\", hue_order=[\"ultimate\", \"surf\"],\n",
    "            palette= custom_palette, kde= True,\n",
    "            bins=18,alpha=0.6)\n",
    "plt.title(\"Distribución del número de llamadas mensuales por plan \\n\")\n",
    "plt.xlabel(\" \\n No. de llamadas\")\n",
    "plt.ylabel(\"Frecuencia \\n\")\n",
    "plt.show()"
   ]
  },
  {
   "cell_type": "markdown",
   "metadata": {},
   "source": [
    "Finalmente, a través de un gráfico de cajas y bigotes, observamos de manera visual la comparación en el número de llamadas realizadas por los clientes por plan. "
   ]
  },
  {
   "cell_type": "code",
   "execution_count": 272,
   "metadata": {},
   "outputs": [
    {
     "data": {
      "image/png": "[encoded data removed]",
      "text/plain": [
       "<Figure size 1200x600 with 1 Axes>"
      ]
     },
     "metadata": {},
     "output_type": "display_data"
    }
   ],
   "source": [
    "# Comparación del número de llamadas entre planes\n",
    "## Customización\n",
    "plt.figure(figsize=(12,6))\n",
    "custom_palette = {\"surf\":\"#c9c6c2\" , \"ultimate\":\"#1995AD\"}\n",
    "\n",
    "sns.boxplot(data=total_user_info, \n",
    "            x=\"plan_name\", y=\"total_calls\", \n",
    "            hue=\"plan_name\", hue_order=[\"ultimate\", \"surf\"],\n",
    "            palette= custom_palette)\n",
    "plt.title(\"Comparativo entre el número de llamadas por plan \\n\")\n",
    "plt.xlabel(None)\n",
    "plt.ylabel(\"No. de llamadas \\n\")\n",
    "plt.show()"
   ]
  },
  {
   "cell_type": "markdown",
   "metadata": {},
   "source": [
    "Además del número de llamadas, para entender el comportamiento de los clientes, analizamos la duración de las llamadas. Para ello, observamos el comportamiento promedio de la duración de las llamadas mes con mes. "
   ]
  },
  {
   "cell_type": "code",
   "execution_count": 317,
   "metadata": {},
   "outputs": [
    {
     "data": {
      "image/png": "[encoded data removed]",
      "text/plain": [
       "<Figure size 1200x600 with 1 Axes>"
      ]
     },
     "metadata": {},
     "output_type": "display_data"
    }
   ],
   "source": [
    "# Comportamiento de duración de las llamadas \n",
    "## Obtener el estadística descriptiva del total de llamadas mensuales\n",
    "duration_summary= total_user_info.groupby(by=[\"plan_name\", \"month\"])[\"total_minutes\"].agg(promedio=\"mean\", varianza= \"var\", desv=\"std\", mediana=\"median\", minimo=\"min\", maximo=\"max\").round(2)\n",
    "\n",
    "## Gráfico de barras para el promedio de la duración de las llamadas por plan\n",
    "### Customización\n",
    "plt.figure(figsize=(12,6))\n",
    "custom_palette = {\"surf\":\"#d7d8d2\" , \"ultimate\":\"#3d7a98\"}\n",
    "\n",
    "## Gráfica de barras \n",
    "sns.barplot(data=duration_summary, \n",
    "            x=\"month\", y=\"promedio\", \n",
    "            hue=\"plan_name\", hue_order=[\"ultimate\", \"surf\"],\n",
    "            palette= custom_palette)\n",
    "plt.title(\"Comportamiento duración de las llamadas mensuales por plan \\n\")\n",
    "plt.xlabel(\" \\n Mes\")\n",
    "plt.ylabel(\"Duración de las llamadas promedio (min) \\n\")\n",
    "plt.axhline(y=500, color=\"#A64826\", linestyle=\"--\", label=\"Límite 50\", linewidth=1.5)\n",
    "plt.show()"
   ]
  },
  {
   "cell_type": "markdown",
   "metadata": {},
   "source": [
    "Y similar a lo realizado con el número de llamadas, obtuvimos los resumenes estadísticos y la distribución en la duración de las llamadas de los clientes de acuerdo a su plan."
   ]
  },
  {
   "cell_type": "code",
   "execution_count": 276,
   "metadata": {},
   "outputs": [
    {
     "data": {
      "text/html": [
       "<div>\n",
       "<style scoped>\n",
       "    .dataframe tbody tr th:only-of-type {\n",
       "        vertical-align: middle;\n",
       "    }\n",
       "\n",
       "    .dataframe tbody tr th {\n",
       "        vertical-align: top;\n",
       "    }\n",
       "\n",
       "    .dataframe thead th {\n",
       "        text-align: right;\n",
       "    }\n",
       "</style>\n",
       "<table border=\"1\" class=\"dataframe\">\n",
       "  <thead>\n",
       "    <tr style=\"text-align: right;\">\n",
       "      <th></th>\n",
       "      <th>count</th>\n",
       "      <th>mean</th>\n",
       "      <th>std</th>\n",
       "      <th>min</th>\n",
       "      <th>25%</th>\n",
       "      <th>50%</th>\n",
       "      <th>75%</th>\n",
       "      <th>max</th>\n",
       "    </tr>\n",
       "    <tr>\n",
       "      <th>plan_name</th>\n",
       "      <th></th>\n",
       "      <th></th>\n",
       "      <th></th>\n",
       "      <th></th>\n",
       "      <th></th>\n",
       "      <th></th>\n",
       "      <th></th>\n",
       "      <th></th>\n",
       "    </tr>\n",
       "  </thead>\n",
       "  <tbody>\n",
       "    <tr>\n",
       "      <th>surf</th>\n",
       "      <td>1573.0</td>\n",
       "      <td>404.76</td>\n",
       "      <td>221.66</td>\n",
       "      <td>0.0</td>\n",
       "      <td>255.47</td>\n",
       "      <td>401.76</td>\n",
       "      <td>543.68</td>\n",
       "      <td>1431.22</td>\n",
       "    </tr>\n",
       "    <tr>\n",
       "      <th>ultimate</th>\n",
       "      <td>720.0</td>\n",
       "      <td>406.19</td>\n",
       "      <td>227.25</td>\n",
       "      <td>0.0</td>\n",
       "      <td>246.29</td>\n",
       "      <td>398.58</td>\n",
       "      <td>532.23</td>\n",
       "      <td>1292.09</td>\n",
       "    </tr>\n",
       "  </tbody>\n",
       "</table>\n",
       "</div>"
      ],
      "text/plain": [
       "            count    mean     std  min     25%     50%     75%      max\n",
       "plan_name                                                              \n",
       "surf       1573.0  404.76  221.66  0.0  255.47  401.76  543.68  1431.22\n",
       "ultimate    720.0  406.19  227.25  0.0  246.29  398.58  532.23  1292.09"
      ]
     },
     "execution_count": 276,
     "metadata": {},
     "output_type": "execute_result"
    }
   ],
   "source": [
    "# Distribución de la duración de llamadas por plan\n",
    "## Estadísticos descriptivos de la duración de las llamadas\n",
    "total_user_info.groupby(by=[\"plan_name\"])[\"total_minutes\"].describe().round(2)"
   ]
  },
  {
   "cell_type": "code",
   "execution_count": 318,
   "metadata": {},
   "outputs": [
    {
     "data": {
      "image/png": "[encoded data removed]",
      "text/plain": [
       "<Figure size 1200x600 with 1 Axes>"
      ]
     },
     "metadata": {},
     "output_type": "display_data"
    }
   ],
   "source": [
    "## Gráfico distribución de la distribución de las llamadas por plan\n",
    "### Customización\n",
    "plt.figure(figsize=(12, 6))\n",
    "custom_palette= [\"#3d7a98\" , \"#d7d8d2\"]\n",
    "\n",
    "### Histograma número de llamadas por plan\n",
    "sns.histplot(data=total_user_info, \n",
    "            x=\"total_minutes\",\n",
    "            hue=\"plan_name\", hue_order=[\"ultimate\", \"surf\"],\n",
    "            palette= custom_palette, kde= True,\n",
    "            bins=18,alpha=0.8)\n",
    "plt.title(\"Distribución de la duración de la llamadas por plan \\n\")\n",
    "plt.xlabel(\" \\n Duración llamada (min)\")\n",
    "plt.ylabel(\"Frecuencia \\n\")\n",
    "plt.axvline(x=500, color=\"#A64826\", linestyle=\"--\", label=\"Límite 50\", linewidth=1.5)\n",
    "plt.axvline(x=3000, color=\"#4469BB\", linestyle=\"--\", label=\"Límite 50\", linewidth=1.5)\n",
    "plt.show()"
   ]
  },
  {
   "cell_type": "markdown",
   "metadata": {},
   "source": [
    "**Conclusión comportamiento en las llamadas**  \n",
    "    \n",
    "De manera general observamos que **el número de llamadas** tiende a aumentar mes con mes para ambos planes.\n",
    "\n",
    "- El plan **Surf** muestra un aumento constante en el promedio de llamadas desde enero, alcanzando un pico en julio, seguido de una ligera disminución en agosto. Sin embargo, experimenta otro crecimiento en diciembre, donde alcanza un máximo de 205 llamadas. \n",
    "\n",
    "- El plan **Ultimate** muestra un pico llamadas en febrero, seguido de un crecimiento constante hasta junio. A partir de julio, observamos una ligera disminución, pero repunta en agosto y continúa creciendo hasta diciembre, alcanzando un máximo de 191 llamadas. \n",
    "\n",
    "Durante el primer semestre, el númeor de llamadas es generalmente mayor en el plan Surf, excepto en febrero y mayo. Por otro lado, el segundo semestre, el plan Ultimate muestra un mayor número de llamadas mayor al plan Surf, salvo julio y diciembre. \n",
    "\n",
    "\n",
    "El análisis de la distribución revela que el número de llamadas es similar en ambos planes, aunque con variaciones en el número total de llamadas. En ambos gráficos, la distribución se asemeja a una normal y exhiben un sesgo positivo, lo que podría indicar que una parte de los usuarios tiende a utilizar más minutos de los que se incluyen en las tarifas. \n",
    "\n",
    "Las diferencias en los percentiles 25 y 75 son mínimas entre los planes, siendo ligeramente más altos en el plan Surf. Este comportamiento podría estar relacionado con factores estacionales o promociones de la compañía, lo cual es necesario corroborar con el supervisor.\n",
    "\n",
    "En cuanto a la **duración de las llamadas**, el comportamiento promedio a lo largo del año sigue un patrón similar al del número de llamadas, mostrando un crecimiento gradual. \n",
    "\n",
    "La duración promedio de las llamadas en el plan Surf es comparable a la del plan Ultimate, aunque ambos presentan una alta variación en los datos. En promedio, ninguno de los planes excede el límite de 500 minutos, ni siquiera el plan Surf. Sin embargo, la distribución de los datos indica que el 75% de los usuarios tiene una duración de llamadas superior a 500 minutos. Para el plan Surf, esto representa un límite establecido, lo que puede resultar en restricciones en el uso del servicio, generando potencial insatisfacción del cliente o la necesidad de ofrecer un cambio de plan.\n",
    "\n",
    "Valdría la pena realizar un análisis más profundo sobre el gasto extra que enfrentan los usuarios del plan Surf al exceder el límite de duración de las llamadas. Esto permitirá comprender mejor el comportamiento de los clientes y ajustar las ofertas de los planes según sus necesidades."
   ]
  },
  {
   "cell_type": "markdown",
   "metadata": {},
   "source": [
    "> La asimetría y la abundancia de los valores atípicos **pueden afectar nuestros futuros análisis** si consideramos un tipo de distribución normal. La media y la desviación estándar son propensos a los valores extremos. Por lo tanto, sugerimos que para obtener una representación más precisa del comportamiento típico de los usuarios, nos enfoquemos en una distribución no paramétrica utilizando la mediana y los rangos intercuartílicos (cuartiles 25% y 75%), así como en los valores mínimos y máximos para un mayor entendimiento del comportamiento de los usuarios. "
   ]
  },
  {
   "cell_type": "markdown",
   "metadata": {
    "id": "8idKy8Wh0q1L"
   },
   "source": [
    "#### Comportamiento de mensajes\n",
    "A continuación, examinamos el comportamiento de los mensajes enviados por los usuarios de cada plan."
   ]
  },
  {
   "cell_type": "code",
   "execution_count": 331,
   "metadata": {},
   "outputs": [
    {
     "data": {
      "text/html": [
       "<div>\n",
       "<style scoped>\n",
       "    .dataframe tbody tr th:only-of-type {\n",
       "        vertical-align: middle;\n",
       "    }\n",
       "\n",
       "    .dataframe tbody tr th {\n",
       "        vertical-align: top;\n",
       "    }\n",
       "\n",
       "    .dataframe thead th {\n",
       "        text-align: right;\n",
       "    }\n",
       "</style>\n",
       "<table border=\"1\" class=\"dataframe\">\n",
       "  <thead>\n",
       "    <tr style=\"text-align: right;\">\n",
       "      <th></th>\n",
       "      <th>messages_included</th>\n",
       "      <th>mb_included</th>\n",
       "      <th>minutes_included</th>\n",
       "      <th>monthly_fee_usd</th>\n",
       "      <th>gb_extra_price</th>\n",
       "      <th>message_extra_price</th>\n",
       "      <th>minutes_extra_price</th>\n",
       "      <th>plan_name</th>\n",
       "      <th>gb_included</th>\n",
       "    </tr>\n",
       "  </thead>\n",
       "  <tbody>\n",
       "    <tr>\n",
       "      <th>0</th>\n",
       "      <td>50</td>\n",
       "      <td>15360</td>\n",
       "      <td>500</td>\n",
       "      <td>20</td>\n",
       "      <td>10</td>\n",
       "      <td>0.03</td>\n",
       "      <td>0.03</td>\n",
       "      <td>surf</td>\n",
       "      <td>15.0</td>\n",
       "    </tr>\n",
       "    <tr>\n",
       "      <th>1</th>\n",
       "      <td>1000</td>\n",
       "      <td>30720</td>\n",
       "      <td>3000</td>\n",
       "      <td>70</td>\n",
       "      <td>7</td>\n",
       "      <td>0.01</td>\n",
       "      <td>0.01</td>\n",
       "      <td>ultimate</td>\n",
       "      <td>30.0</td>\n",
       "    </tr>\n",
       "  </tbody>\n",
       "</table>\n",
       "</div>"
      ],
      "text/plain": [
       "   messages_included  mb_included  minutes_included  monthly_fee_usd  \\\n",
       "0                 50        15360               500               20   \n",
       "1               1000        30720              3000               70   \n",
       "\n",
       "   gb_extra_price  message_extra_price  minutes_extra_price plan_name  \\\n",
       "0              10                 0.03                 0.03      surf   \n",
       "1               7                 0.01                 0.01  ultimate   \n",
       "\n",
       "   gb_included  \n",
       "0         15.0  \n",
       "1         30.0  "
      ]
     },
     "execution_count": 331,
     "metadata": {},
     "output_type": "execute_result"
    }
   ],
   "source": [
    "df_plans"
   ]
  },
  {
   "cell_type": "code",
   "execution_count": 319,
   "metadata": {
    "id": "NXLxiTit0q1L"
   },
   "outputs": [
    {
     "data": {
      "image/png": "[encoded data removed]",
      "text/plain": [
       "<Figure size 1200x600 with 1 Axes>"
      ]
     },
     "metadata": {},
     "output_type": "display_data"
    }
   ],
   "source": [
    "# Comportamiento de mensajes \n",
    "## Obtener el estadística descriptiva del total mensajes mensuales\n",
    "messages_summary= total_user_info.groupby(by=[\"plan_name\", \"month\"])[\"total_messages\"].agg(promedio=\"mean\", varianza= \"var\", desv=\"std\", mediana=\"median\", minimo=\"min\", maximo=\"max\").round(2)\n",
    "\n",
    "## Gráfico de barras para el promedio de mensajes mensuales por plan\n",
    "### Customización\n",
    "plt.figure(figsize=(12,6))\n",
    "custom_palette = {\"surf\":\"#B9B3A0\" , \"ultimate\":\"#588157\"}\n",
    "\n",
    "## Gráfica de barras \n",
    "sns.barplot(data=messages_summary, \n",
    "            x=\"month\", y=\"promedio\", \n",
    "            hue=\"plan_name\", hue_order=[\"ultimate\", \"surf\"],\n",
    "            palette= custom_palette)\n",
    "plt.title(\"Comportamiento mensajes mensuales por plan \\n\")\n",
    "plt.xlabel(\" \\n Mes\")\n",
    "plt.ylabel(\"No. mensajes promedio \\n\")\n",
    "plt.axhline(y=50, color=\"red\", linestyle=\"--\", label=\"Límite 50\", linewidth=1.5)\n",
    "plt.show()"
   ]
  },
  {
   "cell_type": "code",
   "execution_count": 305,
   "metadata": {},
   "outputs": [
    {
     "data": {
      "text/html": [
       "<div>\n",
       "<style scoped>\n",
       "    .dataframe tbody tr th:only-of-type {\n",
       "        vertical-align: middle;\n",
       "    }\n",
       "\n",
       "    .dataframe tbody tr th {\n",
       "        vertical-align: top;\n",
       "    }\n",
       "\n",
       "    .dataframe thead th {\n",
       "        text-align: right;\n",
       "    }\n",
       "</style>\n",
       "<table border=\"1\" class=\"dataframe\">\n",
       "  <thead>\n",
       "    <tr style=\"text-align: right;\">\n",
       "      <th></th>\n",
       "      <th>count</th>\n",
       "      <th>mean</th>\n",
       "      <th>std</th>\n",
       "      <th>min</th>\n",
       "      <th>25%</th>\n",
       "      <th>50%</th>\n",
       "      <th>75%</th>\n",
       "      <th>max</th>\n",
       "    </tr>\n",
       "    <tr>\n",
       "      <th>plan_name</th>\n",
       "      <th></th>\n",
       "      <th></th>\n",
       "      <th></th>\n",
       "      <th></th>\n",
       "      <th></th>\n",
       "      <th></th>\n",
       "      <th></th>\n",
       "      <th></th>\n",
       "    </tr>\n",
       "  </thead>\n",
       "  <tbody>\n",
       "    <tr>\n",
       "      <th>surf</th>\n",
       "      <td>1573.0</td>\n",
       "      <td>31.16</td>\n",
       "      <td>33.57</td>\n",
       "      <td>0.0</td>\n",
       "      <td>3.0</td>\n",
       "      <td>24.0</td>\n",
       "      <td>47.0</td>\n",
       "      <td>266.0</td>\n",
       "    </tr>\n",
       "    <tr>\n",
       "      <th>ultimate</th>\n",
       "      <td>720.0</td>\n",
       "      <td>37.55</td>\n",
       "      <td>34.77</td>\n",
       "      <td>0.0</td>\n",
       "      <td>7.0</td>\n",
       "      <td>30.0</td>\n",
       "      <td>61.0</td>\n",
       "      <td>166.0</td>\n",
       "    </tr>\n",
       "  </tbody>\n",
       "</table>\n",
       "</div>"
      ],
      "text/plain": [
       "            count   mean    std  min  25%   50%   75%    max\n",
       "plan_name                                                   \n",
       "surf       1573.0  31.16  33.57  0.0  3.0  24.0  47.0  266.0\n",
       "ultimate    720.0  37.55  34.77  0.0  7.0  30.0  61.0  166.0"
      ]
     },
     "execution_count": 305,
     "metadata": {},
     "output_type": "execute_result"
    }
   ],
   "source": [
    "# Distribución del numero de mensajes por plan\n",
    "## Estadísticos descriptivos del total de mensajes\n",
    "total_user_info.groupby(by=[\"plan_name\"])[\"total_messages\"].describe().round(2)"
   ]
  },
  {
   "cell_type": "code",
   "execution_count": 320,
   "metadata": {
    "id": "dtFwCGAp0q1M"
   },
   "outputs": [
    {
     "data": {
      "image/png": "[encoded data removed]",
      "text/plain": [
       "<Figure size 1200x600 with 1 Axes>"
      ]
     },
     "metadata": {},
     "output_type": "display_data"
    }
   ],
   "source": [
    "## Gráfico distribución de mensajes por plan\n",
    "### Customización\n",
    "plt.figure(figsize=(12, 6))\n",
    "custom_palette= [\"#588157\" , \"#B9B3A0\"]\n",
    "\n",
    "### Histograma número de llamadas por plan\n",
    "sns.histplot(data=total_user_info, \n",
    "            x=\"total_messages\",\n",
    "            hue=\"plan_name\", hue_order=[\"ultimate\", \"surf\"],\n",
    "            palette= custom_palette, kde= True,\n",
    "            bins=18,alpha=0.8)\n",
    "plt.title(\"Distribución del número de mensajes mensuales por plan \\n\")\n",
    "plt.xlabel(\" \\n No. de mensajes\")\n",
    "plt.ylabel(\"Frecuencia \\n\")\n",
    "plt.axvline(x=50, color=\"red\", linestyle=\"--\", label=\"Límite 50\", linewidth=1.5)\n",
    "plt.show()"
   ]
  },
  {
   "cell_type": "code",
   "execution_count": 329,
   "metadata": {},
   "outputs": [
    {
     "data": {
      "image/png": "[encoded data removed]",
      "text/plain": [
       "<Figure size 1200x600 with 1 Axes>"
      ]
     },
     "metadata": {},
     "output_type": "display_data"
    }
   ],
   "source": [
    "# Comparación del número de mensajes entre planes\n",
    "## Customización\n",
    "plt.figure(figsize=(12,6))\n",
    "custom_palette = {\"surf\":\"#B9B3A0\" , \"ultimate\":\"#588157\"}\n",
    "\n",
    "sns.boxplot(data=total_user_info, \n",
    "            x=\"plan_name\", y=\"total_messages\", \n",
    "            hue=\"plan_name\", hue_order=[\"ultimate\", \"surf\"],\n",
    "            palette= custom_palette)\n",
    "plt.title(\"Comparativo entre el número de mensajes por plan \\n\")\n",
    "plt.xlabel(None)\n",
    "plt.ylabel(\"No. de mensajes \\n\")\n",
    "plt.show()"
   ]
  },
  {
   "cell_type": "markdown",
   "metadata": {
    "id": "390SSL480q1M"
   },
   "source": [
    "[Elabora las conclusiones sobre el comportamiento de los usuarios con respecto a los mensajes. ¿Su comportamiento varía en función del plan?]"
   ]
  },
  {
   "cell_type": "code",
   "execution_count": null,
   "metadata": {},
   "outputs": [],
   "source": []
  },
  {
   "cell_type": "markdown",
   "metadata": {
    "id": "42YSypXz0q1M"
   },
   "source": [
    "#### Comportamiento de internet\n",
    "Finalmente, analizamos el consumo de Internet de los usuarios, enfocándonos en las sesiones de navegación a lo largo del año."
   ]
  },
  {
   "cell_type": "code",
   "execution_count": 332,
   "metadata": {
    "id": "lSuKPtjh0q1M"
   },
   "outputs": [
    {
     "data": {
      "text/plain": [
       "<matplotlib.lines.Line2D at 0x13e711940>"
      ]
     },
     "execution_count": 332,
     "metadata": {},
     "output_type": "execute_result"
    },
    {
     "data": {
      "image/png": "[encoded data removed]",
      "text/plain": [
       "<Figure size 1200x600 with 1 Axes>"
      ]
     },
     "metadata": {},
     "output_type": "display_data"
    }
   ],
   "source": [
    "# Comportamiento de tráfico de internet \n",
    "## Obtener el estadística descriptiva del total mensajes mensuales\n",
    "internet_summary= total_user_info.groupby(by=[\"plan_name\", \"month\"])[\"total_internet_gb\"].agg(promedio=\"mean\", varianza= \"var\", desv=\"std\", mediana=\"median\", minimo=\"min\", maximo=\"max\").round(2)\n",
    "\n",
    "## Gráfico de barras para el promedio de mensajes mensuales por plan\n",
    "### Customización\n",
    "plt.figure(figsize=(12,6))\n",
    "custom_palette = {\"surf\":\"#c2ece4\" , \"ultimate\":\"#2f4d66\"}\n",
    "\n",
    "## Gráfica de barras \n",
    "sns.barplot(data=internet_summary, \n",
    "            x=\"month\", y=\"promedio\", \n",
    "            hue=\"plan_name\", hue_order=[\"ultimate\", \"surf\"],\n",
    "            palette= custom_palette)\n",
    "plt.title(\"Comportamiento datos consumidos mensualmente por plan \\n\")\n",
    "plt.xlabel(\" \\n Mes\")\n",
    "plt.ylabel(\"Datos cosumidos promedio (Gb) \\n\")\n",
    "plt.axhline(y=15, color=\"red\", linestyle=\"--\", label=\"Límite 50\", linewidth=1.5)"
   ]
  },
  {
   "cell_type": "code",
   "execution_count": 333,
   "metadata": {},
   "outputs": [
    {
     "data": {
      "text/html": [
       "<div>\n",
       "<style scoped>\n",
       "    .dataframe tbody tr th:only-of-type {\n",
       "        vertical-align: middle;\n",
       "    }\n",
       "\n",
       "    .dataframe tbody tr th {\n",
       "        vertical-align: top;\n",
       "    }\n",
       "\n",
       "    .dataframe thead th {\n",
       "        text-align: right;\n",
       "    }\n",
       "</style>\n",
       "<table border=\"1\" class=\"dataframe\">\n",
       "  <thead>\n",
       "    <tr style=\"text-align: right;\">\n",
       "      <th></th>\n",
       "      <th>count</th>\n",
       "      <th>mean</th>\n",
       "      <th>std</th>\n",
       "      <th>min</th>\n",
       "      <th>25%</th>\n",
       "      <th>50%</th>\n",
       "      <th>75%</th>\n",
       "      <th>max</th>\n",
       "    </tr>\n",
       "    <tr>\n",
       "      <th>plan_name</th>\n",
       "      <th></th>\n",
       "      <th></th>\n",
       "      <th></th>\n",
       "      <th></th>\n",
       "      <th></th>\n",
       "      <th></th>\n",
       "      <th></th>\n",
       "      <th></th>\n",
       "    </tr>\n",
       "  </thead>\n",
       "  <tbody>\n",
       "    <tr>\n",
       "      <th>surf</th>\n",
       "      <td>1573.0</td>\n",
       "      <td>13.25</td>\n",
       "      <td>7.91</td>\n",
       "      <td>0.0</td>\n",
       "      <td>8.0</td>\n",
       "      <td>12.0</td>\n",
       "      <td>17.0</td>\n",
       "      <td>70.0</td>\n",
       "    </tr>\n",
       "    <tr>\n",
       "      <th>ultimate</th>\n",
       "      <td>720.0</td>\n",
       "      <td>13.99</td>\n",
       "      <td>8.04</td>\n",
       "      <td>0.0</td>\n",
       "      <td>9.0</td>\n",
       "      <td>12.0</td>\n",
       "      <td>18.0</td>\n",
       "      <td>44.0</td>\n",
       "    </tr>\n",
       "  </tbody>\n",
       "</table>\n",
       "</div>"
      ],
      "text/plain": [
       "            count   mean   std  min  25%   50%   75%   max\n",
       "plan_name                                                 \n",
       "surf       1573.0  13.25  7.91  0.0  8.0  12.0  17.0  70.0\n",
       "ultimate    720.0  13.99  8.04  0.0  9.0  12.0  18.0  44.0"
      ]
     },
     "execution_count": 333,
     "metadata": {},
     "output_type": "execute_result"
    }
   ],
   "source": [
    "# Distribución del numero de datos consumidos por plan\n",
    "## Estadísticos descriptivos del total de datos\n",
    "total_user_info.groupby(by=[\"plan_name\"])[\"total_internet_gb\"].describe().round(2)"
   ]
  },
  {
   "cell_type": "code",
   "execution_count": 335,
   "metadata": {},
   "outputs": [
    {
     "data": {
      "image/png": "[encoded data removed]",
      "text/plain": [
       "<Figure size 1200x600 with 1 Axes>"
      ]
     },
     "metadata": {},
     "output_type": "display_data"
    }
   ],
   "source": [
    "## Gráfico distribución de datos por plan\n",
    "### Customización\n",
    "plt.figure(figsize=(12, 6))\n",
    "custom_palette= [\"#2f4d66\" , \"#c2ece4\"]\n",
    "\n",
    "### Histograma número de llamadas por plan\n",
    "sns.histplot(data=total_user_info, \n",
    "            x=\"total_internet_gb\",\n",
    "            hue=\"plan_name\", hue_order=[\"ultimate\", \"surf\"],\n",
    "            palette= custom_palette, kde= True,\n",
    "            bins=18,alpha=0.8)\n",
    "plt.title(\"Distribución consumo de datos mensuales por plan \\n\")\n",
    "plt.xlabel(\" \\n Datos consumidos (Gb)\")\n",
    "plt.ylabel(\"Frecuencia \\n\")\n",
    "plt.axvline(x=15, color=\"red\", linestyle=\"--\", label=\"Límite 50\", linewidth=1.5)\n",
    "plt.show()"
   ]
  },
  {
   "cell_type": "code",
   "execution_count": 336,
   "metadata": {},
   "outputs": [
    {
     "data": {
      "image/png": "[encoded data removed]",
      "text/plain": [
       "<Figure size 1200x600 with 1 Axes>"
      ]
     },
     "metadata": {},
     "output_type": "display_data"
    }
   ],
   "source": [
    "# Comparación del gasto de internet entre planes\n",
    "## Customización\n",
    "plt.figure(figsize=(12,6))\n",
    "custom_palette = {\"surf\":\"#c2ece4\" , \"ultimate\":\"#2f4d66\"}\n",
    "\n",
    "sns.boxplot(data=total_user_info, \n",
    "            x=\"plan_name\", y=\"total_internet_gb\", \n",
    "            hue=\"plan_name\", hue_order=[\"ultimate\", \"surf\"],\n",
    "            palette= custom_palette)\n",
    "plt.title(\"Comparativo entre el consumo de datos por plan \\n\")\n",
    "plt.xlabel(None)\n",
    "plt.ylabel(\"Datos consumidos (Gb) \\n\")\n",
    "plt.show()"
   ]
  },
  {
   "cell_type": "markdown",
   "metadata": {
    "id": "UN9zwuMP0q1N"
   },
   "source": [
    "[Elabora las conclusiones sobre cómo los usuarios tienden a consumir el tráfico de Internet. ¿Su comportamiento varía en función del plan?]"
   ]
  },
  {
   "cell_type": "markdown",
   "metadata": {
    "id": "tCijq3260q1N"
   },
   "source": [
    "### Ingreso"
   ]
  },
  {
   "cell_type": "code",
   "execution_count": 337,
   "metadata": {},
   "outputs": [
    {
     "data": {
      "text/html": [
       "<div>\n",
       "<style scoped>\n",
       "    .dataframe tbody tr th:only-of-type {\n",
       "        vertical-align: middle;\n",
       "    }\n",
       "\n",
       "    .dataframe tbody tr th {\n",
       "        vertical-align: top;\n",
       "    }\n",
       "\n",
       "    .dataframe thead th {\n",
       "        text-align: right;\n",
       "    }\n",
       "</style>\n",
       "<table border=\"1\" class=\"dataframe\">\n",
       "  <thead>\n",
       "    <tr style=\"text-align: right;\">\n",
       "      <th></th>\n",
       "      <th>user_id</th>\n",
       "      <th>plan_name</th>\n",
       "      <th>month</th>\n",
       "      <th>total_calls</th>\n",
       "      <th>total_minutes</th>\n",
       "      <th>total_messages</th>\n",
       "      <th>total_internet_mb</th>\n",
       "      <th>total_internet_gb</th>\n",
       "      <th>messages_included</th>\n",
       "      <th>mb_included</th>\n",
       "      <th>...</th>\n",
       "      <th>message_extra_price</th>\n",
       "      <th>minutes_extra_price</th>\n",
       "      <th>gb_included</th>\n",
       "      <th>extra_minutes</th>\n",
       "      <th>extra_minutes_cost</th>\n",
       "      <th>extra_messages</th>\n",
       "      <th>extra_messages_cost</th>\n",
       "      <th>extra_gb</th>\n",
       "      <th>extra_gb_cost</th>\n",
       "      <th>monthly_revenue</th>\n",
       "    </tr>\n",
       "  </thead>\n",
       "  <tbody>\n",
       "    <tr>\n",
       "      <th>0</th>\n",
       "      <td>1001</td>\n",
       "      <td>surf</td>\n",
       "      <td>8</td>\n",
       "      <td>27.0</td>\n",
       "      <td>171.14</td>\n",
       "      <td>30.0</td>\n",
       "      <td>6919.15</td>\n",
       "      <td>5.0</td>\n",
       "      <td>50</td>\n",
       "      <td>15360</td>\n",
       "      <td>...</td>\n",
       "      <td>0.03</td>\n",
       "      <td>0.03</td>\n",
       "      <td>15.0</td>\n",
       "      <td>0.0</td>\n",
       "      <td>0.0</td>\n",
       "      <td>0.0</td>\n",
       "      <td>0.00</td>\n",
       "      <td>0.0</td>\n",
       "      <td>0.0</td>\n",
       "      <td>20.00</td>\n",
       "    </tr>\n",
       "    <tr>\n",
       "      <th>1</th>\n",
       "      <td>1001</td>\n",
       "      <td>surf</td>\n",
       "      <td>9</td>\n",
       "      <td>49.0</td>\n",
       "      <td>297.69</td>\n",
       "      <td>44.0</td>\n",
       "      <td>13314.82</td>\n",
       "      <td>8.0</td>\n",
       "      <td>50</td>\n",
       "      <td>15360</td>\n",
       "      <td>...</td>\n",
       "      <td>0.03</td>\n",
       "      <td>0.03</td>\n",
       "      <td>15.0</td>\n",
       "      <td>0.0</td>\n",
       "      <td>0.0</td>\n",
       "      <td>0.0</td>\n",
       "      <td>0.00</td>\n",
       "      <td>0.0</td>\n",
       "      <td>0.0</td>\n",
       "      <td>20.00</td>\n",
       "    </tr>\n",
       "    <tr>\n",
       "      <th>2</th>\n",
       "      <td>1001</td>\n",
       "      <td>surf</td>\n",
       "      <td>10</td>\n",
       "      <td>65.0</td>\n",
       "      <td>374.11</td>\n",
       "      <td>53.0</td>\n",
       "      <td>22330.49</td>\n",
       "      <td>20.0</td>\n",
       "      <td>50</td>\n",
       "      <td>15360</td>\n",
       "      <td>...</td>\n",
       "      <td>0.03</td>\n",
       "      <td>0.03</td>\n",
       "      <td>15.0</td>\n",
       "      <td>0.0</td>\n",
       "      <td>0.0</td>\n",
       "      <td>3.0</td>\n",
       "      <td>0.09</td>\n",
       "      <td>5.0</td>\n",
       "      <td>50.0</td>\n",
       "      <td>70.09</td>\n",
       "    </tr>\n",
       "    <tr>\n",
       "      <th>3</th>\n",
       "      <td>1001</td>\n",
       "      <td>surf</td>\n",
       "      <td>11</td>\n",
       "      <td>64.0</td>\n",
       "      <td>404.59</td>\n",
       "      <td>36.0</td>\n",
       "      <td>18504.30</td>\n",
       "      <td>13.0</td>\n",
       "      <td>50</td>\n",
       "      <td>15360</td>\n",
       "      <td>...</td>\n",
       "      <td>0.03</td>\n",
       "      <td>0.03</td>\n",
       "      <td>15.0</td>\n",
       "      <td>0.0</td>\n",
       "      <td>0.0</td>\n",
       "      <td>0.0</td>\n",
       "      <td>0.00</td>\n",
       "      <td>0.0</td>\n",
       "      <td>0.0</td>\n",
       "      <td>20.00</td>\n",
       "    </tr>\n",
       "    <tr>\n",
       "      <th>4</th>\n",
       "      <td>1001</td>\n",
       "      <td>surf</td>\n",
       "      <td>12</td>\n",
       "      <td>56.0</td>\n",
       "      <td>392.93</td>\n",
       "      <td>44.0</td>\n",
       "      <td>19369.18</td>\n",
       "      <td>12.0</td>\n",
       "      <td>50</td>\n",
       "      <td>15360</td>\n",
       "      <td>...</td>\n",
       "      <td>0.03</td>\n",
       "      <td>0.03</td>\n",
       "      <td>15.0</td>\n",
       "      <td>0.0</td>\n",
       "      <td>0.0</td>\n",
       "      <td>0.0</td>\n",
       "      <td>0.00</td>\n",
       "      <td>0.0</td>\n",
       "      <td>0.0</td>\n",
       "      <td>20.00</td>\n",
       "    </tr>\n",
       "    <tr>\n",
       "      <th>...</th>\n",
       "      <td>...</td>\n",
       "      <td>...</td>\n",
       "      <td>...</td>\n",
       "      <td>...</td>\n",
       "      <td>...</td>\n",
       "      <td>...</td>\n",
       "      <td>...</td>\n",
       "      <td>...</td>\n",
       "      <td>...</td>\n",
       "      <td>...</td>\n",
       "      <td>...</td>\n",
       "      <td>...</td>\n",
       "      <td>...</td>\n",
       "      <td>...</td>\n",
       "      <td>...</td>\n",
       "      <td>...</td>\n",
       "      <td>...</td>\n",
       "      <td>...</td>\n",
       "      <td>...</td>\n",
       "      <td>...</td>\n",
       "      <td>...</td>\n",
       "    </tr>\n",
       "    <tr>\n",
       "      <th>2288</th>\n",
       "      <td>1493</td>\n",
       "      <td>ultimate</td>\n",
       "      <td>9</td>\n",
       "      <td>66.0</td>\n",
       "      <td>505.13</td>\n",
       "      <td>0.0</td>\n",
       "      <td>14991.17</td>\n",
       "      <td>12.0</td>\n",
       "      <td>1000</td>\n",
       "      <td>30720</td>\n",
       "      <td>...</td>\n",
       "      <td>0.01</td>\n",
       "      <td>0.01</td>\n",
       "      <td>30.0</td>\n",
       "      <td>0.0</td>\n",
       "      <td>0.0</td>\n",
       "      <td>0.0</td>\n",
       "      <td>0.00</td>\n",
       "      <td>0.0</td>\n",
       "      <td>0.0</td>\n",
       "      <td>70.00</td>\n",
       "    </tr>\n",
       "    <tr>\n",
       "      <th>2289</th>\n",
       "      <td>1493</td>\n",
       "      <td>ultimate</td>\n",
       "      <td>10</td>\n",
       "      <td>66.0</td>\n",
       "      <td>424.25</td>\n",
       "      <td>0.0</td>\n",
       "      <td>16329.57</td>\n",
       "      <td>11.0</td>\n",
       "      <td>1000</td>\n",
       "      <td>30720</td>\n",
       "      <td>...</td>\n",
       "      <td>0.01</td>\n",
       "      <td>0.01</td>\n",
       "      <td>30.0</td>\n",
       "      <td>0.0</td>\n",
       "      <td>0.0</td>\n",
       "      <td>0.0</td>\n",
       "      <td>0.00</td>\n",
       "      <td>0.0</td>\n",
       "      <td>0.0</td>\n",
       "      <td>70.00</td>\n",
       "    </tr>\n",
       "    <tr>\n",
       "      <th>2290</th>\n",
       "      <td>1493</td>\n",
       "      <td>ultimate</td>\n",
       "      <td>11</td>\n",
       "      <td>73.0</td>\n",
       "      <td>472.15</td>\n",
       "      <td>0.0</td>\n",
       "      <td>15630.78</td>\n",
       "      <td>12.0</td>\n",
       "      <td>1000</td>\n",
       "      <td>30720</td>\n",
       "      <td>...</td>\n",
       "      <td>0.01</td>\n",
       "      <td>0.01</td>\n",
       "      <td>30.0</td>\n",
       "      <td>0.0</td>\n",
       "      <td>0.0</td>\n",
       "      <td>0.0</td>\n",
       "      <td>0.00</td>\n",
       "      <td>0.0</td>\n",
       "      <td>0.0</td>\n",
       "      <td>70.00</td>\n",
       "    </tr>\n",
       "    <tr>\n",
       "      <th>2291</th>\n",
       "      <td>1493</td>\n",
       "      <td>ultimate</td>\n",
       "      <td>12</td>\n",
       "      <td>65.0</td>\n",
       "      <td>446.28</td>\n",
       "      <td>0.0</td>\n",
       "      <td>15289.09</td>\n",
       "      <td>16.0</td>\n",
       "      <td>1000</td>\n",
       "      <td>30720</td>\n",
       "      <td>...</td>\n",
       "      <td>0.01</td>\n",
       "      <td>0.01</td>\n",
       "      <td>30.0</td>\n",
       "      <td>0.0</td>\n",
       "      <td>0.0</td>\n",
       "      <td>0.0</td>\n",
       "      <td>0.00</td>\n",
       "      <td>0.0</td>\n",
       "      <td>0.0</td>\n",
       "      <td>70.00</td>\n",
       "    </tr>\n",
       "    <tr>\n",
       "      <th>2292</th>\n",
       "      <td>1497</td>\n",
       "      <td>ultimate</td>\n",
       "      <td>12</td>\n",
       "      <td>54.0</td>\n",
       "      <td>276.53</td>\n",
       "      <td>50.0</td>\n",
       "      <td>11106.55</td>\n",
       "      <td>8.0</td>\n",
       "      <td>1000</td>\n",
       "      <td>30720</td>\n",
       "      <td>...</td>\n",
       "      <td>0.01</td>\n",
       "      <td>0.01</td>\n",
       "      <td>30.0</td>\n",
       "      <td>0.0</td>\n",
       "      <td>0.0</td>\n",
       "      <td>0.0</td>\n",
       "      <td>0.00</td>\n",
       "      <td>0.0</td>\n",
       "      <td>0.0</td>\n",
       "      <td>70.00</td>\n",
       "    </tr>\n",
       "  </tbody>\n",
       "</table>\n",
       "<p>2293 rows × 23 columns</p>\n",
       "</div>"
      ],
      "text/plain": [
       "      user_id plan_name  month  total_calls  total_minutes  total_messages  \\\n",
       "0        1001      surf      8         27.0         171.14            30.0   \n",
       "1        1001      surf      9         49.0         297.69            44.0   \n",
       "2        1001      surf     10         65.0         374.11            53.0   \n",
       "3        1001      surf     11         64.0         404.59            36.0   \n",
       "4        1001      surf     12         56.0         392.93            44.0   \n",
       "...       ...       ...    ...          ...            ...             ...   \n",
       "2288     1493  ultimate      9         66.0         505.13             0.0   \n",
       "2289     1493  ultimate     10         66.0         424.25             0.0   \n",
       "2290     1493  ultimate     11         73.0         472.15             0.0   \n",
       "2291     1493  ultimate     12         65.0         446.28             0.0   \n",
       "2292     1497  ultimate     12         54.0         276.53            50.0   \n",
       "\n",
       "      total_internet_mb  total_internet_gb  messages_included  mb_included  \\\n",
       "0               6919.15                5.0                 50        15360   \n",
       "1              13314.82                8.0                 50        15360   \n",
       "2              22330.49               20.0                 50        15360   \n",
       "3              18504.30               13.0                 50        15360   \n",
       "4              19369.18               12.0                 50        15360   \n",
       "...                 ...                ...                ...          ...   \n",
       "2288           14991.17               12.0               1000        30720   \n",
       "2289           16329.57               11.0               1000        30720   \n",
       "2290           15630.78               12.0               1000        30720   \n",
       "2291           15289.09               16.0               1000        30720   \n",
       "2292           11106.55                8.0               1000        30720   \n",
       "\n",
       "      ...  message_extra_price  minutes_extra_price  gb_included  \\\n",
       "0     ...                 0.03                 0.03         15.0   \n",
       "1     ...                 0.03                 0.03         15.0   \n",
       "2     ...                 0.03                 0.03         15.0   \n",
       "3     ...                 0.03                 0.03         15.0   \n",
       "4     ...                 0.03                 0.03         15.0   \n",
       "...   ...                  ...                  ...          ...   \n",
       "2288  ...                 0.01                 0.01         30.0   \n",
       "2289  ...                 0.01                 0.01         30.0   \n",
       "2290  ...                 0.01                 0.01         30.0   \n",
       "2291  ...                 0.01                 0.01         30.0   \n",
       "2292  ...                 0.01                 0.01         30.0   \n",
       "\n",
       "      extra_minutes  extra_minutes_cost  extra_messages  extra_messages_cost  \\\n",
       "0               0.0                 0.0             0.0                 0.00   \n",
       "1               0.0                 0.0             0.0                 0.00   \n",
       "2               0.0                 0.0             3.0                 0.09   \n",
       "3               0.0                 0.0             0.0                 0.00   \n",
       "4               0.0                 0.0             0.0                 0.00   \n",
       "...             ...                 ...             ...                  ...   \n",
       "2288            0.0                 0.0             0.0                 0.00   \n",
       "2289            0.0                 0.0             0.0                 0.00   \n",
       "2290            0.0                 0.0             0.0                 0.00   \n",
       "2291            0.0                 0.0             0.0                 0.00   \n",
       "2292            0.0                 0.0             0.0                 0.00   \n",
       "\n",
       "      extra_gb  extra_gb_cost  monthly_revenue  \n",
       "0          0.0            0.0            20.00  \n",
       "1          0.0            0.0            20.00  \n",
       "2          5.0           50.0            70.09  \n",
       "3          0.0            0.0            20.00  \n",
       "4          0.0            0.0            20.00  \n",
       "...        ...            ...              ...  \n",
       "2288       0.0            0.0            70.00  \n",
       "2289       0.0            0.0            70.00  \n",
       "2290       0.0            0.0            70.00  \n",
       "2291       0.0            0.0            70.00  \n",
       "2292       0.0            0.0            70.00  \n",
       "\n",
       "[2293 rows x 23 columns]"
      ]
     },
     "execution_count": 337,
     "metadata": {},
     "output_type": "execute_result"
    }
   ],
   "source": [
    "total_user_info"
   ]
  },
  {
   "cell_type": "code",
   "execution_count": 339,
   "metadata": {},
   "outputs": [
    {
     "data": {
      "image/png": "[encoded data removed]",
      "text/plain": [
       "<Figure size 1200x600 with 1 Axes>"
      ]
     },
     "metadata": {},
     "output_type": "display_data"
    }
   ],
   "source": [
    "# Comportamiento de gastos mensuales \n",
    "## Obtener el estadística descriptiva del total mensajes mensuales\n",
    "revenue_summary= total_user_info.groupby(by=[\"plan_name\", \"month\"])[\"monthly_revenue\"].agg(promedio=\"mean\", varianza= \"var\", desv=\"std\", mediana=\"median\", minimo=\"min\", maximo=\"max\").round(2)\n",
    "\n",
    "## Gráfico de barras para el promedio de mensajes mensuales por plan\n",
    "### Customización\n",
    "plt.figure(figsize=(12,6))\n",
    "custom_palette = {\"surf\":\"#d5cbac\" , \"ultimate\":\"#153c51\"}\n",
    "\n",
    "## Gráfica de barras \n",
    "sns.barplot(data=revenue_summary, \n",
    "            x=\"month\", y=\"promedio\", \n",
    "            hue=\"plan_name\", hue_order=[\"ultimate\", \"surf\"],\n",
    "            palette= custom_palette)\n",
    "plt.title(\"Comportamiento mensajes mensuales por plan \\n\")\n",
    "plt.xlabel(\" \\n Mes\")\n",
    "plt.ylabel(\"No. mensajes promedio \\n\")\n",
    "plt.show()"
   ]
  },
  {
   "cell_type": "code",
   "execution_count": 340,
   "metadata": {},
   "outputs": [
    {
     "data": {
      "text/html": [
       "<div>\n",
       "<style scoped>\n",
       "    .dataframe tbody tr th:only-of-type {\n",
       "        vertical-align: middle;\n",
       "    }\n",
       "\n",
       "    .dataframe tbody tr th {\n",
       "        vertical-align: top;\n",
       "    }\n",
       "\n",
       "    .dataframe thead th {\n",
       "        text-align: right;\n",
       "    }\n",
       "</style>\n",
       "<table border=\"1\" class=\"dataframe\">\n",
       "  <thead>\n",
       "    <tr style=\"text-align: right;\">\n",
       "      <th></th>\n",
       "      <th>count</th>\n",
       "      <th>mean</th>\n",
       "      <th>std</th>\n",
       "      <th>min</th>\n",
       "      <th>25%</th>\n",
       "      <th>50%</th>\n",
       "      <th>75%</th>\n",
       "      <th>max</th>\n",
       "    </tr>\n",
       "    <tr>\n",
       "      <th>plan_name</th>\n",
       "      <th></th>\n",
       "      <th></th>\n",
       "      <th></th>\n",
       "      <th></th>\n",
       "      <th></th>\n",
       "      <th></th>\n",
       "      <th></th>\n",
       "      <th></th>\n",
       "    </tr>\n",
       "  </thead>\n",
       "  <tbody>\n",
       "    <tr>\n",
       "      <th>surf</th>\n",
       "      <td>1573.0</td>\n",
       "      <td>43.81</td>\n",
       "      <td>51.96</td>\n",
       "      <td>20.0</td>\n",
       "      <td>20.0</td>\n",
       "      <td>20.69</td>\n",
       "      <td>40.0</td>\n",
       "      <td>571.41</td>\n",
       "    </tr>\n",
       "    <tr>\n",
       "      <th>ultimate</th>\n",
       "      <td>720.0</td>\n",
       "      <td>71.96</td>\n",
       "      <td>10.63</td>\n",
       "      <td>70.0</td>\n",
       "      <td>70.0</td>\n",
       "      <td>70.00</td>\n",
       "      <td>70.0</td>\n",
       "      <td>168.00</td>\n",
       "    </tr>\n",
       "  </tbody>\n",
       "</table>\n",
       "</div>"
      ],
      "text/plain": [
       "            count   mean    std   min   25%    50%   75%     max\n",
       "plan_name                                                       \n",
       "surf       1573.0  43.81  51.96  20.0  20.0  20.69  40.0  571.41\n",
       "ultimate    720.0  71.96  10.63  70.0  70.0  70.00  70.0  168.00"
      ]
     },
     "execution_count": 340,
     "metadata": {},
     "output_type": "execute_result"
    }
   ],
   "source": [
    "# Distribución del numero de mensajes por plan\n",
    "## Estadísticos descriptivos del total de mensajes\n",
    "total_user_info.groupby(by=[\"plan_name\"])[\"monthly_revenue\"].describe().round(2)"
   ]
  },
  {
   "cell_type": "markdown",
   "metadata": {
    "id": "9nq5IAcy0q1O"
   },
   "source": [
    "[Del mismo modo que has estudiado el comportamiento de los usuarios, describe estadísticamente los ingresos de los planes.]"
   ]
  },
  {
   "cell_type": "code",
   "execution_count": 345,
   "metadata": {
    "id": "tz-dq_V00q1O"
   },
   "outputs": [
    {
     "data": {
      "image/png": "[encoded data removed]",
      "text/plain": [
       "<Figure size 1200x600 with 1 Axes>"
      ]
     },
     "metadata": {},
     "output_type": "display_data"
    }
   ],
   "source": [
    "## Gráfico distribución de mensajes por plan\n",
    "### Customización\n",
    "plt.figure(figsize=(12, 6))\n",
    "custom_palette= [\"#153c51\" , \"#d5cbac\"]\n",
    "\n",
    "### Histograma número de llamadas por plan\n",
    "sns.histplot(data=total_user_info, \n",
    "            x=\"monthly_revenue\",\n",
    "            hue=\"plan_name\", hue_order=[\"ultimate\", \"surf\"],\n",
    "            palette= custom_palette, kde= False,\n",
    "            bins=18,alpha=0.8)\n",
    "plt.title(\"Distribución del número de mensajes mensuales por plan \\n\")\n",
    "plt.xlabel(\" \\n No. de mensajes\")\n",
    "plt.ylabel(\"Frecuencia \\n\")\n",
    "plt.show()"
   ]
  },
  {
   "cell_type": "code",
   "execution_count": 344,
   "metadata": {},
   "outputs": [
    {
     "data": {
      "image/png": "[encoded data removed]",
      "text/plain": [
       "<Figure size 1200x600 with 1 Axes>"
      ]
     },
     "metadata": {},
     "output_type": "display_data"
    }
   ],
   "source": [
    "# Comparación del número de mensajes entre planes\n",
    "## Customización\n",
    "plt.figure(figsize=(12,6))\n",
    "custom_palette = {\"surf\":\"#d5cbac\" , \"ultimate\":\"#153c51\"}\n",
    "\n",
    "sns.boxplot(data=total_user_info, \n",
    "            x=\"plan_name\", y=\"monthly_revenue\", \n",
    "            hue=\"plan_name\", hue_order=[\"ultimate\", \"surf\"],\n",
    "            palette= custom_palette)\n",
    "plt.title(\"Comparativo entre el número de mensajes por plan \\n\")\n",
    "plt.xlabel(None)\n",
    "plt.ylabel(\"No. de mensajes \\n\")\n",
    "plt.show()"
   ]
  },
  {
   "cell_type": "code",
   "execution_count": null,
   "metadata": {},
   "outputs": [],
   "source": []
  },
  {
   "cell_type": "code",
   "execution_count": null,
   "metadata": {},
   "outputs": [],
   "source": []
  },
  {
   "cell_type": "code",
   "execution_count": null,
   "metadata": {
    "id": "0Y1v8ZUz0q1P"
   },
   "outputs": [],
   "source": []
  },
  {
   "cell_type": "code",
   "execution_count": null,
   "metadata": {
    "id": "bYmwxyVh0q1P"
   },
   "outputs": [],
   "source": []
  },
  {
   "cell_type": "markdown",
   "metadata": {
    "id": "KAFidcXZ0q1P"
   },
   "source": [
    "[Elabora las conclusiones sobre cómo difiere el ingreso entre los planes.]"
   ]
  },
  {
   "cell_type": "markdown",
   "metadata": {
    "id": "ajJ7VKeI0q1Q"
   },
   "source": [
    "## Pruebas de hipótesis"
   ]
  },
  {
   "cell_type": "markdown",
   "metadata": {
    "id": "AdXAZ-yL0q1Q"
   },
   "source": [
    "[Prueba la hipótesis de que son diferentes los ingresos promedio procedentes de los usuarios de los planes de llamada Ultimate y Surf.]"
   ]
  },
  {
   "cell_type": "markdown",
   "metadata": {
    "id": "IQwa_hsh0q1Q"
   },
   "source": [
    "[Elabora las hipótesis nula y alternativa, escoge la prueba estadística, determina el valor alfa.]"
   ]
  },
  {
   "cell_type": "code",
   "execution_count": 293,
   "metadata": {
    "id": "nFoPNlPq0q1R"
   },
   "outputs": [],
   "source": [
    "# Prueba las hipótesis\n",
    "\n"
   ]
  },
  {
   "cell_type": "markdown",
   "metadata": {
    "id": "tCcAruM60q1R"
   },
   "source": [
    "[Prueba la hipótesis de que el ingreso promedio de los usuarios del área NY-NJ es diferente al de los usuarios de otras regiones.]"
   ]
  },
  {
   "cell_type": "markdown",
   "metadata": {
    "id": "LsBgitqj0q1R"
   },
   "source": [
    "[Elabora las hipótesis nula y alternativa, escoge la prueba estadística, determina el valor alfa.]"
   ]
  },
  {
   "cell_type": "code",
   "execution_count": 294,
   "metadata": {
    "id": "Cqcj7wrZ0q1S"
   },
   "outputs": [],
   "source": [
    "# Prueba las hipótesis\n",
    "\n"
   ]
  },
  {
   "cell_type": "markdown",
   "metadata": {
    "id": "bbTR8UQO0q1T"
   },
   "source": [
    "## Conclusión general\n",
    "\n",
    "[En esta sección final, enumera tus conclusiones importantes. Asegúrate de que estas abarquen todas las decisiones (suposiciones) importantes que adoptaste y que determinaron la forma elegida para procesar y analizar los datos.]"
   ]
  }
 ],
 "metadata": {
  "ExecuteTimeLog": [
   {
    "duration": 828,
    "start_time": "2021-11-16T09:21:11.304Z"
   },
   {
    "duration": 893,
    "start_time": "2021-11-16T09:21:17.728Z"
   },
   {
    "duration": 1150,
    "start_time": "2021-11-16T09:21:29.568Z"
   },
   {
    "duration": 3,
    "start_time": "2021-11-16T09:24:14.495Z"
   },
   {
    "duration": 120,
    "start_time": "2021-11-16T09:24:46.630Z"
   },
   {
    "duration": 3,
    "start_time": "2021-11-16T09:28:27.882Z"
   },
   {
    "duration": 4,
    "start_time": "2021-11-16T09:29:54.281Z"
   },
   {
    "duration": 3,
    "start_time": "2021-11-16T09:30:45.936Z"
   },
   {
    "duration": 4,
    "start_time": "2021-11-16T09:31:06.300Z"
   },
   {
    "duration": 113,
    "start_time": "2021-11-16T09:31:37.208Z"
   },
   {
    "duration": 143,
    "start_time": "2021-11-16T09:31:48.656Z"
   },
   {
    "duration": 98,
    "start_time": "2021-11-16T09:31:55.678Z"
   },
   {
    "duration": 3,
    "start_time": "2021-11-16T09:32:08.535Z"
   },
   {
    "duration": 111,
    "start_time": "2021-11-16T09:32:10.120Z"
   },
   {
    "duration": 3,
    "start_time": "2021-11-16T09:32:15.732Z"
   },
   {
    "duration": 4,
    "start_time": "2021-11-16T09:32:29.423Z"
   },
   {
    "duration": 3,
    "start_time": "2021-11-16T10:03:03.074Z"
   },
   {
    "duration": 3,
    "start_time": "2021-11-16T10:10:01.288Z"
   },
   {
    "duration": 3,
    "start_time": "2021-11-16T10:10:46.923Z"
   },
   {
    "duration": 121,
    "start_time": "2021-11-16T10:37:46.494Z"
   },
   {
    "duration": 125,
    "start_time": "2021-11-16T10:38:20.632Z"
   },
   {
    "duration": 112,
    "start_time": "2021-11-16T10:46:53.001Z"
   },
   {
    "duration": 110,
    "start_time": "2021-11-16T10:48:25.775Z"
   },
   {
    "duration": 3,
    "start_time": "2021-11-16T10:50:18.720Z"
   },
   {
    "duration": 4,
    "start_time": "2021-11-16T10:50:37.649Z"
   },
   {
    "duration": 2,
    "start_time": "2021-11-16T10:50:51.884Z"
   },
   {
    "duration": 3,
    "start_time": "2021-11-16T10:51:56.237Z"
   },
   {
    "duration": 101,
    "start_time": "2021-11-16T10:53:13.791Z"
   },
   {
    "duration": 3,
    "start_time": "2021-11-16T10:55:59.186Z"
   },
   {
    "duration": 3,
    "start_time": "2021-11-16T10:56:10.751Z"
   },
   {
    "duration": 3,
    "start_time": "2021-11-16T10:56:49.038Z"
   },
   {
    "duration": 3,
    "start_time": "2021-11-16T10:56:49.174Z"
   },
   {
    "duration": 4,
    "start_time": "2021-11-16T10:56:49.414Z"
   },
   {
    "duration": 3,
    "start_time": "2021-11-16T10:56:49.680Z"
   },
   {
    "duration": 3,
    "start_time": "2021-11-16T10:56:50.370Z"
   },
   {
    "duration": 114,
    "start_time": "2021-11-16T10:59:34.518Z"
   },
   {
    "duration": 3,
    "start_time": "2021-11-16T11:01:41.201Z"
   },
   {
    "duration": 116,
    "start_time": "2021-11-16T11:01:48.754Z"
   },
   {
    "duration": 3,
    "start_time": "2021-11-16T11:02:16.685Z"
   },
   {
    "duration": 3,
    "start_time": "2021-11-16T11:02:19.479Z"
   },
   {
    "duration": 3,
    "start_time": "2021-11-16T11:02:47.067Z"
   },
   {
    "duration": 3,
    "start_time": "2021-11-16T11:02:49.353Z"
   },
   {
    "duration": 3,
    "start_time": "2021-11-16T11:03:07.835Z"
   },
   {
    "duration": 3,
    "start_time": "2021-11-16T11:03:07.953Z"
   },
   {
    "duration": 112,
    "start_time": "2021-11-16T11:07:52.072Z"
   },
   {
    "duration": 187,
    "start_time": "2021-11-16T11:09:23.468Z"
   },
   {
    "duration": 4,
    "start_time": "2021-11-16T11:10:01.455Z"
   },
   {
    "duration": 3,
    "start_time": "2021-11-16T11:10:05.069Z"
   },
   {
    "duration": 4,
    "start_time": "2021-11-16T11:10:13.376Z"
   },
   {
    "duration": 3,
    "start_time": "2021-11-16T11:10:14.434Z"
   },
   {
    "duration": 3,
    "start_time": "2021-11-16T11:10:22.853Z"
   },
   {
    "duration": 4,
    "start_time": "2021-11-16T11:27:29.279Z"
   },
   {
    "duration": 4,
    "start_time": "2021-11-16T11:29:08.919Z"
   },
   {
    "duration": 118,
    "start_time": "2021-11-16T11:29:46.703Z"
   },
   {
    "duration": 437,
    "start_time": "2021-11-16T11:36:02.181Z"
   },
   {
    "duration": 157,
    "start_time": "2021-11-16T11:36:14.388Z"
   },
   {
    "duration": 207,
    "start_time": "2021-11-16T11:47:15.898Z"
   },
   {
    "duration": 3,
    "start_time": "2021-11-16T11:53:52.092Z"
   },
   {
    "duration": 3,
    "start_time": "2021-11-16T11:53:52.236Z"
   },
   {
    "duration": 3,
    "start_time": "2021-11-16T11:59:12.005Z"
   },
   {
    "duration": 112,
    "start_time": "2021-11-16T12:00:33.446Z"
   },
   {
    "duration": 3,
    "start_time": "2021-11-16T12:02:14.453Z"
   },
   {
    "duration": 3,
    "start_time": "2021-11-16T12:02:39.512Z"
   },
   {
    "duration": 106,
    "start_time": "2021-11-16T12:03:03.460Z"
   },
   {
    "duration": 3,
    "start_time": "2021-11-17T20:37:21.139Z"
   },
   {
    "duration": 3,
    "start_time": "2021-11-17T20:37:22.229Z"
   },
   {
    "duration": 3,
    "start_time": "2021-11-17T20:38:38.806Z"
   },
   {
    "duration": 3,
    "start_time": "2021-11-17T20:38:41.958Z"
   },
   {
    "duration": 3,
    "start_time": "2021-11-17T20:43:46.551Z"
   },
   {
    "duration": 4,
    "start_time": "2021-11-17T20:58:21.835Z"
   },
   {
    "duration": 3,
    "start_time": "2021-11-17T20:59:21.872Z"
   },
   {
    "duration": 4,
    "start_time": "2021-11-17T20:59:45.352Z"
   },
   {
    "duration": 4,
    "start_time": "2021-11-17T20:59:49.646Z"
   },
   {
    "duration": 159,
    "start_time": "2021-11-17T21:02:26.949Z"
   },
   {
    "duration": 3,
    "start_time": "2021-11-17T21:03:53.461Z"
   },
   {
    "duration": 3,
    "start_time": "2021-11-17T21:03:53.694Z"
   },
   {
    "duration": 3,
    "start_time": "2021-11-17T21:05:28.145Z"
   },
   {
    "duration": 116,
    "start_time": "2021-11-17T21:05:57.787Z"
   },
   {
    "duration": 3,
    "start_time": "2021-11-17T21:06:37.993Z"
   },
   {
    "duration": 3,
    "start_time": "2021-11-17T21:06:38.261Z"
   },
   {
    "duration": 3,
    "start_time": "2021-11-17T21:11:54.358Z"
   },
   {
    "duration": 3,
    "start_time": "2021-11-17T21:12:43.846Z"
   },
   {
    "duration": 4,
    "start_time": "2021-11-17T21:13:08.773Z"
   },
   {
    "duration": 3,
    "start_time": "2021-11-17T21:14:44.441Z"
   },
   {
    "duration": 3,
    "start_time": "2021-11-17T21:15:42.059Z"
   },
   {
    "duration": 4,
    "start_time": "2021-11-17T21:15:51.995Z"
   },
   {
    "duration": 3,
    "start_time": "2021-11-17T21:15:53.923Z"
   },
   {
    "duration": 3,
    "start_time": "2021-11-17T21:15:55.282Z"
   },
   {
    "duration": 3,
    "start_time": "2021-11-17T21:16:28.492Z"
   },
   {
    "duration": 3,
    "start_time": "2021-11-17T21:16:32.603Z"
   },
   {
    "duration": 3,
    "start_time": "2021-11-17T21:17:06.941Z"
   },
   {
    "duration": 98,
    "start_time": "2021-11-17T21:18:05.733Z"
   },
   {
    "duration": 4,
    "start_time": "2021-11-17T21:21:35.255Z"
   },
   {
    "duration": 3,
    "start_time": "2021-11-17T21:21:37.804Z"
   },
   {
    "duration": 4,
    "start_time": "2021-11-17T21:23:06.071Z"
   },
   {
    "duration": 3,
    "start_time": "2021-11-17T21:23:24.799Z"
   },
   {
    "duration": 3,
    "start_time": "2021-11-17T21:23:32.591Z"
   },
   {
    "duration": 98,
    "start_time": "2021-11-17T21:28:31.559Z"
   },
   {
    "duration": 3,
    "start_time": "2021-11-17T21:28:45.448Z"
   },
   {
    "duration": 3,
    "start_time": "2021-11-17T21:29:17.303Z"
   },
   {
    "duration": 3,
    "start_time": "2021-11-17T21:29:29.617Z"
   },
   {
    "duration": 3,
    "start_time": "2021-11-17T21:29:32.681Z"
   },
   {
    "duration": 3,
    "start_time": "2021-11-17T21:36:11.474Z"
   },
   {
    "duration": 3,
    "start_time": "2021-11-17T21:36:14.791Z"
   },
   {
    "duration": 3,
    "start_time": "2021-11-17T21:36:53.943Z"
   },
   {
    "duration": 3,
    "start_time": "2021-11-17T21:36:56.165Z"
   },
   {
    "duration": 4,
    "start_time": "2021-11-17T21:37:16.590Z"
   },
   {
    "duration": 3,
    "start_time": "2021-11-17T21:37:22.702Z"
   },
   {
    "duration": 4,
    "start_time": "2021-11-17T21:38:03.479Z"
   },
   {
    "duration": 3,
    "start_time": "2021-11-17T21:38:08.601Z"
   },
   {
    "duration": 3,
    "start_time": "2021-11-17T21:38:12.928Z"
   },
   {
    "duration": 3,
    "start_time": "2021-11-17T21:38:48.896Z"
   },
   {
    "duration": 2,
    "start_time": "2021-11-17T21:38:49.171Z"
   },
   {
    "duration": 4,
    "start_time": "2021-11-17T21:39:57.889Z"
   },
   {
    "duration": 3,
    "start_time": "2021-11-17T21:39:58.057Z"
   },
   {
    "duration": 3,
    "start_time": "2021-11-17T21:41:20.108Z"
   },
   {
    "duration": 3,
    "start_time": "2021-11-17T21:41:20.629Z"
   },
   {
    "duration": 3,
    "start_time": "2021-11-17T21:42:49.136Z"
   },
   {
    "duration": 3,
    "start_time": "2021-11-17T21:43:15.137Z"
   },
   {
    "duration": 4,
    "start_time": "2021-11-17T21:43:16.766Z"
   },
   {
    "duration": 4,
    "start_time": "2021-11-17T21:43:31.711Z"
   },
   {
    "duration": 3,
    "start_time": "2021-11-17T21:43:36.312Z"
   },
   {
    "duration": 4,
    "start_time": "2021-11-17T21:45:08.825Z"
   },
   {
    "duration": 4,
    "start_time": "2021-11-17T21:45:10.119Z"
   },
   {
    "duration": 4,
    "start_time": "2021-11-17T21:45:13.748Z"
   },
   {
    "duration": 3,
    "start_time": "2021-11-17T21:45:22.219Z"
   },
   {
    "duration": 3,
    "start_time": "2021-11-17T21:45:33.412Z"
   },
   {
    "duration": 2,
    "start_time": "2021-11-17T21:46:01.885Z"
   },
   {
    "duration": 3,
    "start_time": "2021-11-17T21:46:03.628Z"
   },
   {
    "duration": 107,
    "start_time": "2021-11-17T21:47:32.512Z"
   },
   {
    "duration": 103,
    "start_time": "2021-11-17T21:50:36.243Z"
   },
   {
    "duration": 3,
    "start_time": "2021-11-18T06:28:31.440Z"
   },
   {
    "duration": 3,
    "start_time": "2021-11-18T06:29:00.168Z"
   },
   {
    "duration": 3,
    "start_time": "2021-11-18T06:31:27.008Z"
   },
   {
    "duration": 2,
    "start_time": "2021-11-18T06:35:34.288Z"
   },
   {
    "duration": 2,
    "start_time": "2021-11-18T06:38:04.527Z"
   },
   {
    "duration": 2457,
    "start_time": "2024-09-13T22:23:48.704Z"
   },
   {
    "duration": 4,
    "start_time": "2024-09-13T22:26:09.788Z"
   },
   {
    "duration": 2,
    "start_time": "2024-09-13T22:26:09.794Z"
   },
   {
    "duration": 2,
    "start_time": "2024-09-13T22:26:09.840Z"
   },
   {
    "duration": 3,
    "start_time": "2024-09-13T22:26:09.844Z"
   },
   {
    "duration": 2,
    "start_time": "2024-09-13T22:26:09.850Z"
   },
   {
    "duration": 2,
    "start_time": "2024-09-13T22:26:09.854Z"
   },
   {
    "duration": 2,
    "start_time": "2024-09-13T22:26:09.859Z"
   },
   {
    "duration": 3,
    "start_time": "2024-09-13T22:26:09.862Z"
   },
   {
    "duration": 2,
    "start_time": "2024-09-13T22:26:09.867Z"
   },
   {
    "duration": 2,
    "start_time": "2024-09-13T22:26:09.871Z"
   },
   {
    "duration": 1,
    "start_time": "2024-09-13T22:26:09.878Z"
   },
   {
    "duration": 2,
    "start_time": "2024-09-13T22:26:09.882Z"
   },
   {
    "duration": 2,
    "start_time": "2024-09-13T22:26:09.886Z"
   },
   {
    "duration": 5,
    "start_time": "2024-09-13T22:26:09.900Z"
   },
   {
    "duration": 2,
    "start_time": "2024-09-13T22:26:09.907Z"
   },
   {
    "duration": 2,
    "start_time": "2024-09-13T22:26:09.911Z"
   },
   {
    "duration": 13,
    "start_time": "2024-09-13T22:26:09.916Z"
   },
   {
    "duration": 3,
    "start_time": "2024-09-13T22:26:09.930Z"
   },
   {
    "duration": 2,
    "start_time": "2024-09-13T22:26:09.934Z"
   },
   {
    "duration": 2,
    "start_time": "2024-09-13T22:26:09.938Z"
   },
   {
    "duration": 3,
    "start_time": "2024-09-13T22:26:09.942Z"
   },
   {
    "duration": 3,
    "start_time": "2024-09-13T22:26:09.946Z"
   },
   {
    "duration": 2,
    "start_time": "2024-09-13T22:26:09.951Z"
   },
   {
    "duration": 2,
    "start_time": "2024-09-13T22:26:09.955Z"
   },
   {
    "duration": 3,
    "start_time": "2024-09-13T22:26:09.959Z"
   },
   {
    "duration": 3,
    "start_time": "2024-09-13T22:26:10.005Z"
   },
   {
    "duration": 3,
    "start_time": "2024-09-13T22:26:10.009Z"
   },
   {
    "duration": 2,
    "start_time": "2024-09-13T22:26:10.013Z"
   },
   {
    "duration": 9,
    "start_time": "2024-09-13T22:28:48.175Z"
   },
   {
    "duration": 237,
    "start_time": "2024-09-13T22:30:26.151Z"
   },
   {
    "duration": 209,
    "start_time": "2024-09-13T22:30:40.850Z"
   },
   {
    "duration": 6,
    "start_time": "2024-09-13T22:30:57.814Z"
   },
   {
    "duration": 3,
    "start_time": "2024-09-13T22:31:37.834Z"
   },
   {
    "duration": 155,
    "start_time": "2024-09-13T22:31:37.839Z"
   },
   {
    "duration": 3,
    "start_time": "2024-09-13T22:31:37.995Z"
   },
   {
    "duration": 6,
    "start_time": "2024-09-13T22:31:37.999Z"
   },
   {
    "duration": 1,
    "start_time": "2024-09-13T22:31:38.008Z"
   },
   {
    "duration": 3,
    "start_time": "2024-09-13T22:31:38.011Z"
   },
   {
    "duration": 3,
    "start_time": "2024-09-13T22:31:38.015Z"
   },
   {
    "duration": 3,
    "start_time": "2024-09-13T22:31:38.020Z"
   },
   {
    "duration": 3,
    "start_time": "2024-09-13T22:31:38.024Z"
   },
   {
    "duration": 3,
    "start_time": "2024-09-13T22:31:38.028Z"
   },
   {
    "duration": 3,
    "start_time": "2024-09-13T22:31:38.033Z"
   },
   {
    "duration": 3,
    "start_time": "2024-09-13T22:31:38.037Z"
   },
   {
    "duration": 2,
    "start_time": "2024-09-13T22:31:38.042Z"
   },
   {
    "duration": 3,
    "start_time": "2024-09-13T22:31:38.046Z"
   },
   {
    "duration": 3,
    "start_time": "2024-09-13T22:31:38.050Z"
   },
   {
    "duration": 2,
    "start_time": "2024-09-13T22:31:38.055Z"
   },
   {
    "duration": 48,
    "start_time": "2024-09-13T22:31:38.059Z"
   },
   {
    "duration": 2,
    "start_time": "2024-09-13T22:31:38.109Z"
   },
   {
    "duration": 2,
    "start_time": "2024-09-13T22:31:38.113Z"
   },
   {
    "duration": 2,
    "start_time": "2024-09-13T22:31:38.117Z"
   },
   {
    "duration": 3,
    "start_time": "2024-09-13T22:31:38.120Z"
   },
   {
    "duration": 3,
    "start_time": "2024-09-13T22:31:38.124Z"
   },
   {
    "duration": 3,
    "start_time": "2024-09-13T22:31:38.128Z"
   },
   {
    "duration": 3,
    "start_time": "2024-09-13T22:31:38.132Z"
   },
   {
    "duration": 2,
    "start_time": "2024-09-13T22:31:38.136Z"
   },
   {
    "duration": 2,
    "start_time": "2024-09-13T22:31:38.141Z"
   },
   {
    "duration": 3,
    "start_time": "2024-09-13T22:31:38.144Z"
   },
   {
    "duration": 2,
    "start_time": "2024-09-13T22:31:38.149Z"
   },
   {
    "duration": 3,
    "start_time": "2024-09-13T22:33:25.160Z"
   },
   {
    "duration": 169,
    "start_time": "2024-09-13T22:33:25.165Z"
   },
   {
    "duration": 3,
    "start_time": "2024-09-13T22:33:25.338Z"
   },
   {
    "duration": 5,
    "start_time": "2024-09-13T22:33:25.342Z"
   },
   {
    "duration": 2,
    "start_time": "2024-09-13T22:33:25.351Z"
   },
   {
    "duration": 5,
    "start_time": "2024-09-13T22:33:25.356Z"
   },
   {
    "duration": 5,
    "start_time": "2024-09-13T22:33:25.363Z"
   },
   {
    "duration": 3,
    "start_time": "2024-09-13T22:33:25.370Z"
   },
   {
    "duration": 2,
    "start_time": "2024-09-13T22:33:25.375Z"
   },
   {
    "duration": 3,
    "start_time": "2024-09-13T22:33:25.379Z"
   },
   {
    "duration": 3,
    "start_time": "2024-09-13T22:33:25.407Z"
   },
   {
    "duration": 3,
    "start_time": "2024-09-13T22:33:25.411Z"
   },
   {
    "duration": 3,
    "start_time": "2024-09-13T22:33:25.415Z"
   },
   {
    "duration": 2,
    "start_time": "2024-09-13T22:33:25.420Z"
   },
   {
    "duration": 3,
    "start_time": "2024-09-13T22:33:25.424Z"
   },
   {
    "duration": 3,
    "start_time": "2024-09-13T22:33:25.428Z"
   },
   {
    "duration": 3,
    "start_time": "2024-09-13T22:33:25.432Z"
   },
   {
    "duration": 2,
    "start_time": "2024-09-13T22:33:25.437Z"
   },
   {
    "duration": 2,
    "start_time": "2024-09-13T22:33:25.441Z"
   },
   {
    "duration": 2,
    "start_time": "2024-09-13T22:33:25.445Z"
   },
   {
    "duration": 3,
    "start_time": "2024-09-13T22:33:25.449Z"
   },
   {
    "duration": 2,
    "start_time": "2024-09-13T22:33:25.453Z"
   },
   {
    "duration": 2,
    "start_time": "2024-09-13T22:33:25.505Z"
   },
   {
    "duration": 4,
    "start_time": "2024-09-13T22:33:25.509Z"
   },
   {
    "duration": 3,
    "start_time": "2024-09-13T22:33:25.515Z"
   },
   {
    "duration": 2,
    "start_time": "2024-09-13T22:33:25.519Z"
   },
   {
    "duration": 2,
    "start_time": "2024-09-13T22:33:25.526Z"
   },
   {
    "duration": 2,
    "start_time": "2024-09-13T22:33:25.530Z"
   },
   {
    "duration": 3,
    "start_time": "2024-09-13T22:36:51.637Z"
   },
   {
    "duration": 155,
    "start_time": "2024-09-13T22:36:51.643Z"
   },
   {
    "duration": 3,
    "start_time": "2024-09-13T22:36:51.800Z"
   },
   {
    "duration": 2,
    "start_time": "2024-09-13T22:36:51.805Z"
   },
   {
    "duration": 2,
    "start_time": "2024-09-13T22:36:51.810Z"
   },
   {
    "duration": 2,
    "start_time": "2024-09-13T22:36:51.814Z"
   },
   {
    "duration": 2,
    "start_time": "2024-09-13T22:36:51.818Z"
   },
   {
    "duration": 2,
    "start_time": "2024-09-13T22:36:51.822Z"
   },
   {
    "duration": 2,
    "start_time": "2024-09-13T22:36:51.852Z"
   },
   {
    "duration": 2,
    "start_time": "2024-09-13T22:36:51.856Z"
   },
   {
    "duration": 2,
    "start_time": "2024-09-13T22:36:51.923Z"
   },
   {
    "duration": 2,
    "start_time": "2024-09-13T22:36:51.928Z"
   },
   {
    "duration": 2,
    "start_time": "2024-09-13T22:36:51.991Z"
   },
   {
    "duration": 2,
    "start_time": "2024-09-13T22:36:51.995Z"
   },
   {
    "duration": 3,
    "start_time": "2024-09-13T22:36:51.998Z"
   },
   {
    "duration": 2,
    "start_time": "2024-09-13T22:36:52.003Z"
   },
   {
    "duration": 2,
    "start_time": "2024-09-13T22:36:52.008Z"
   },
   {
    "duration": 2,
    "start_time": "2024-09-13T22:36:52.012Z"
   },
   {
    "duration": 2,
    "start_time": "2024-09-13T22:36:52.016Z"
   },
   {
    "duration": 2,
    "start_time": "2024-09-13T22:36:52.021Z"
   },
   {
    "duration": 2,
    "start_time": "2024-09-13T22:36:52.024Z"
   },
   {
    "duration": 3,
    "start_time": "2024-09-13T22:36:52.028Z"
   },
   {
    "duration": 2,
    "start_time": "2024-09-13T22:36:52.033Z"
   },
   {
    "duration": 3,
    "start_time": "2024-09-13T22:36:52.036Z"
   },
   {
    "duration": 2,
    "start_time": "2024-09-13T22:36:52.040Z"
   },
   {
    "duration": 2,
    "start_time": "2024-09-13T22:36:52.044Z"
   },
   {
    "duration": 57,
    "start_time": "2024-09-13T22:36:52.048Z"
   },
   {
    "duration": 3,
    "start_time": "2024-09-13T22:36:52.106Z"
   },
   {
    "duration": 9,
    "start_time": "2024-09-13T22:37:20.937Z"
   },
   {
    "duration": 27,
    "start_time": "2024-09-13T22:37:34.720Z"
   },
   {
    "duration": 8,
    "start_time": "2024-09-13T22:37:45.440Z"
   },
   {
    "duration": 11,
    "start_time": "2024-09-13T22:39:01.883Z"
   },
   {
    "duration": 10,
    "start_time": "2024-09-13T22:39:12.269Z"
   },
   {
    "duration": 10,
    "start_time": "2024-09-13T22:39:16.155Z"
   },
   {
    "duration": 6,
    "start_time": "2024-09-13T22:40:48.022Z"
   },
   {
    "duration": 162,
    "start_time": "2024-09-15T22:03:58.944Z"
   },
   {
    "duration": 2565,
    "start_time": "2024-09-15T22:04:05.680Z"
   },
   {
    "duration": 249,
    "start_time": "2024-09-15T22:04:08.247Z"
   },
   {
    "duration": 71,
    "start_time": "2024-09-15T22:04:08.498Z"
   },
   {
    "duration": 0,
    "start_time": "2024-09-15T22:04:08.571Z"
   },
   {
    "duration": 0,
    "start_time": "2024-09-15T22:04:08.573Z"
   },
   {
    "duration": 0,
    "start_time": "2024-09-15T22:04:08.575Z"
   },
   {
    "duration": 1,
    "start_time": "2024-09-15T22:04:08.575Z"
   },
   {
    "duration": 0,
    "start_time": "2024-09-15T22:04:08.576Z"
   },
   {
    "duration": 0,
    "start_time": "2024-09-15T22:04:08.577Z"
   },
   {
    "duration": 0,
    "start_time": "2024-09-15T22:04:08.578Z"
   },
   {
    "duration": 0,
    "start_time": "2024-09-15T22:04:08.579Z"
   },
   {
    "duration": 0,
    "start_time": "2024-09-15T22:04:08.580Z"
   },
   {
    "duration": 0,
    "start_time": "2024-09-15T22:04:08.582Z"
   },
   {
    "duration": 0,
    "start_time": "2024-09-15T22:04:08.583Z"
   },
   {
    "duration": 0,
    "start_time": "2024-09-15T22:04:08.584Z"
   },
   {
    "duration": 0,
    "start_time": "2024-09-15T22:04:08.585Z"
   },
   {
    "duration": 0,
    "start_time": "2024-09-15T22:04:08.586Z"
   },
   {
    "duration": 0,
    "start_time": "2024-09-15T22:04:08.587Z"
   },
   {
    "duration": 0,
    "start_time": "2024-09-15T22:04:08.588Z"
   },
   {
    "duration": 0,
    "start_time": "2024-09-15T22:04:08.589Z"
   },
   {
    "duration": 0,
    "start_time": "2024-09-15T22:04:08.609Z"
   },
   {
    "duration": 0,
    "start_time": "2024-09-15T22:04:08.610Z"
   },
   {
    "duration": 0,
    "start_time": "2024-09-15T22:04:08.611Z"
   },
   {
    "duration": 0,
    "start_time": "2024-09-15T22:04:08.613Z"
   },
   {
    "duration": 0,
    "start_time": "2024-09-15T22:04:08.614Z"
   },
   {
    "duration": 0,
    "start_time": "2024-09-15T22:04:08.616Z"
   },
   {
    "duration": 0,
    "start_time": "2024-09-15T22:04:08.617Z"
   },
   {
    "duration": 0,
    "start_time": "2024-09-15T22:04:08.618Z"
   },
   {
    "duration": 0,
    "start_time": "2024-09-15T22:04:08.619Z"
   },
   {
    "duration": 13,
    "start_time": "2024-09-15T22:04:20.456Z"
   },
   {
    "duration": 11,
    "start_time": "2024-09-15T22:04:25.385Z"
   },
   {
    "duration": 15,
    "start_time": "2024-09-15T22:05:51.037Z"
   },
   {
    "duration": 12,
    "start_time": "2024-09-15T22:06:11.027Z"
   },
   {
    "duration": 9,
    "start_time": "2024-09-15T22:11:19.370Z"
   },
   {
    "duration": 8,
    "start_time": "2024-09-15T22:11:53.844Z"
   },
   {
    "duration": 5,
    "start_time": "2024-09-15T22:24:33.477Z"
   },
   {
    "duration": 8,
    "start_time": "2024-09-15T22:24:50.940Z"
   },
   {
    "duration": 6,
    "start_time": "2024-09-15T22:25:08.464Z"
   },
   {
    "duration": 8,
    "start_time": "2024-09-15T22:27:27.175Z"
   },
   {
    "duration": 6,
    "start_time": "2024-09-15T22:28:00.681Z"
   },
   {
    "duration": 5,
    "start_time": "2024-09-15T22:28:09.967Z"
   },
   {
    "duration": 6,
    "start_time": "2024-09-15T22:33:18.131Z"
   },
   {
    "duration": 5,
    "start_time": "2024-09-15T22:33:22.379Z"
   },
   {
    "duration": 9,
    "start_time": "2024-09-15T22:34:07.522Z"
   },
   {
    "duration": 10,
    "start_time": "2024-09-15T22:34:16.907Z"
   },
   {
    "duration": 9,
    "start_time": "2024-09-15T22:34:21.908Z"
   },
   {
    "duration": 10,
    "start_time": "2024-09-15T22:38:05.376Z"
   },
   {
    "duration": 5,
    "start_time": "2024-09-15T22:39:14.148Z"
   },
   {
    "duration": 4,
    "start_time": "2024-09-15T22:39:29.954Z"
   },
   {
    "duration": 5,
    "start_time": "2024-09-15T22:39:38.133Z"
   },
   {
    "duration": 6,
    "start_time": "2024-09-15T22:41:06.436Z"
   },
   {
    "duration": 12,
    "start_time": "2024-09-15T22:41:16.511Z"
   },
   {
    "duration": 10,
    "start_time": "2024-09-15T22:43:26.341Z"
   },
   {
    "duration": 9,
    "start_time": "2024-09-15T22:46:04.914Z"
   },
   {
    "duration": 23,
    "start_time": "2024-09-15T22:47:08.620Z"
   },
   {
    "duration": 11,
    "start_time": "2024-09-15T22:48:21.863Z"
   },
   {
    "duration": 8,
    "start_time": "2024-09-15T22:50:51.710Z"
   },
   {
    "duration": 6,
    "start_time": "2024-09-15T22:51:15.249Z"
   },
   {
    "duration": 5,
    "start_time": "2024-09-15T22:51:29.198Z"
   },
   {
    "duration": 14,
    "start_time": "2024-09-15T22:51:49.618Z"
   },
   {
    "duration": 13,
    "start_time": "2024-09-15T22:52:06.373Z"
   },
   {
    "duration": 17,
    "start_time": "2024-09-15T22:52:12.880Z"
   },
   {
    "duration": 17,
    "start_time": "2024-09-15T22:52:22.517Z"
   },
   {
    "duration": 16,
    "start_time": "2024-09-15T22:57:23.215Z"
   },
   {
    "duration": 10,
    "start_time": "2024-09-15T22:58:35.043Z"
   },
   {
    "duration": 9,
    "start_time": "2024-09-15T23:20:09.895Z"
   },
   {
    "duration": 3,
    "start_time": "2024-09-15T23:53:17.358Z"
   },
   {
    "duration": 3,
    "start_time": "2024-09-15T23:53:19.772Z"
   },
   {
    "duration": 169,
    "start_time": "2024-09-15T23:53:28.026Z"
   },
   {
    "duration": 3,
    "start_time": "2024-09-15T23:53:32.633Z"
   },
   {
    "duration": 155,
    "start_time": "2024-09-15T23:53:32.640Z"
   },
   {
    "duration": 11,
    "start_time": "2024-09-15T23:53:32.798Z"
   },
   {
    "duration": 8,
    "start_time": "2024-09-15T23:53:32.811Z"
   },
   {
    "duration": 6,
    "start_time": "2024-09-15T23:53:32.822Z"
   },
   {
    "duration": 5,
    "start_time": "2024-09-15T23:53:32.829Z"
   },
   {
    "duration": 4,
    "start_time": "2024-09-15T23:53:32.836Z"
   },
   {
    "duration": 11,
    "start_time": "2024-09-15T23:53:32.841Z"
   },
   {
    "duration": 56,
    "start_time": "2024-09-15T23:53:32.854Z"
   },
   {
    "duration": 4,
    "start_time": "2024-09-15T23:53:32.912Z"
   },
   {
    "duration": 13,
    "start_time": "2024-09-15T23:53:32.919Z"
   },
   {
    "duration": 0,
    "start_time": "2024-09-15T23:53:32.934Z"
   },
   {
    "duration": 0,
    "start_time": "2024-09-15T23:53:32.934Z"
   },
   {
    "duration": 0,
    "start_time": "2024-09-15T23:53:32.936Z"
   },
   {
    "duration": 0,
    "start_time": "2024-09-15T23:53:32.936Z"
   },
   {
    "duration": 0,
    "start_time": "2024-09-15T23:53:32.937Z"
   },
   {
    "duration": 0,
    "start_time": "2024-09-15T23:53:32.939Z"
   },
   {
    "duration": 0,
    "start_time": "2024-09-15T23:53:32.940Z"
   },
   {
    "duration": 0,
    "start_time": "2024-09-15T23:53:32.942Z"
   },
   {
    "duration": 0,
    "start_time": "2024-09-15T23:53:32.943Z"
   },
   {
    "duration": 0,
    "start_time": "2024-09-15T23:53:32.944Z"
   },
   {
    "duration": 0,
    "start_time": "2024-09-15T23:53:32.946Z"
   },
   {
    "duration": 0,
    "start_time": "2024-09-15T23:53:32.947Z"
   },
   {
    "duration": 0,
    "start_time": "2024-09-15T23:53:32.949Z"
   },
   {
    "duration": 0,
    "start_time": "2024-09-15T23:53:32.950Z"
   },
   {
    "duration": 0,
    "start_time": "2024-09-15T23:53:32.952Z"
   },
   {
    "duration": 0,
    "start_time": "2024-09-15T23:53:32.953Z"
   },
   {
    "duration": 0,
    "start_time": "2024-09-15T23:53:32.956Z"
   },
   {
    "duration": 0,
    "start_time": "2024-09-15T23:53:32.957Z"
   },
   {
    "duration": 0,
    "start_time": "2024-09-15T23:53:33.009Z"
   },
   {
    "duration": 0,
    "start_time": "2024-09-15T23:53:33.010Z"
   },
   {
    "duration": 0,
    "start_time": "2024-09-15T23:53:33.012Z"
   },
   {
    "duration": 0,
    "start_time": "2024-09-15T23:53:33.013Z"
   },
   {
    "duration": 0,
    "start_time": "2024-09-15T23:53:33.014Z"
   },
   {
    "duration": 0,
    "start_time": "2024-09-15T23:53:33.016Z"
   },
   {
    "duration": 0,
    "start_time": "2024-09-15T23:53:33.017Z"
   },
   {
    "duration": 2,
    "start_time": "2024-09-15T23:53:47.718Z"
   },
   {
    "duration": 4,
    "start_time": "2024-09-15T23:53:57.197Z"
   },
   {
    "duration": 154,
    "start_time": "2024-09-15T23:58:21.219Z"
   },
   {
    "duration": 6,
    "start_time": "2024-09-15T23:58:27.844Z"
   },
   {
    "duration": 8,
    "start_time": "2024-09-15T23:58:31.710Z"
   },
   {
    "duration": 5,
    "start_time": "2024-09-15T23:58:39.872Z"
   },
   {
    "duration": 15,
    "start_time": "2024-09-15T23:59:14.512Z"
   },
   {
    "duration": 31,
    "start_time": "2024-09-16T00:03:57.830Z"
   },
   {
    "duration": 365,
    "start_time": "2024-09-16T00:04:03.425Z"
   },
   {
    "duration": 53,
    "start_time": "2024-09-16T00:04:13.120Z"
   },
   {
    "duration": 42,
    "start_time": "2024-09-16T00:05:12.237Z"
   },
   {
    "duration": 36,
    "start_time": "2024-09-16T00:05:23.289Z"
   },
   {
    "duration": 12,
    "start_time": "2024-09-16T00:06:15.502Z"
   },
   {
    "duration": 17,
    "start_time": "2024-09-16T00:06:54.361Z"
   },
   {
    "duration": 74,
    "start_time": "2024-09-16T00:07:20.511Z"
   },
   {
    "duration": 79,
    "start_time": "2024-09-16T00:07:28.898Z"
   },
   {
    "duration": 5,
    "start_time": "2024-09-16T00:13:12.324Z"
   },
   {
    "duration": 71,
    "start_time": "2024-09-16T00:13:40.529Z"
   },
   {
    "duration": 73,
    "start_time": "2024-09-16T00:13:49.437Z"
   },
   {
    "duration": 139,
    "start_time": "2024-09-16T00:14:15.675Z"
   },
   {
    "duration": 153,
    "start_time": "2024-09-16T00:15:14.677Z"
   },
   {
    "duration": 3,
    "start_time": "2024-09-16T00:32:54.200Z"
   },
   {
    "duration": 208,
    "start_time": "2024-09-16T00:32:54.206Z"
   },
   {
    "duration": 5,
    "start_time": "2024-09-16T00:32:54.416Z"
   },
   {
    "duration": 7,
    "start_time": "2024-09-16T00:32:54.423Z"
   },
   {
    "duration": 7,
    "start_time": "2024-09-16T00:32:54.432Z"
   },
   {
    "duration": 5,
    "start_time": "2024-09-16T00:32:54.440Z"
   },
   {
    "duration": 4,
    "start_time": "2024-09-16T00:32:54.447Z"
   },
   {
    "duration": 12,
    "start_time": "2024-09-16T00:32:54.453Z"
   },
   {
    "duration": 56,
    "start_time": "2024-09-16T00:32:54.466Z"
   },
   {
    "duration": 5,
    "start_time": "2024-09-16T00:32:54.524Z"
   },
   {
    "duration": 19,
    "start_time": "2024-09-16T00:32:54.533Z"
   },
   {
    "duration": 88,
    "start_time": "2024-09-16T00:32:54.555Z"
   },
   {
    "duration": 30,
    "start_time": "2024-09-16T00:32:54.644Z"
   },
   {
    "duration": 11,
    "start_time": "2024-09-16T00:32:54.677Z"
   },
   {
    "duration": 32,
    "start_time": "2024-09-16T00:32:54.690Z"
   },
   {
    "duration": 178,
    "start_time": "2024-09-16T00:32:54.724Z"
   },
   {
    "duration": 20,
    "start_time": "2024-09-16T00:32:54.904Z"
   },
   {
    "duration": 0,
    "start_time": "2024-09-16T00:32:54.927Z"
   },
   {
    "duration": 0,
    "start_time": "2024-09-16T00:32:54.928Z"
   },
   {
    "duration": 0,
    "start_time": "2024-09-16T00:32:54.931Z"
   },
   {
    "duration": 0,
    "start_time": "2024-09-16T00:32:54.932Z"
   },
   {
    "duration": 0,
    "start_time": "2024-09-16T00:32:54.934Z"
   },
   {
    "duration": 0,
    "start_time": "2024-09-16T00:32:54.935Z"
   },
   {
    "duration": 0,
    "start_time": "2024-09-16T00:32:54.936Z"
   },
   {
    "duration": 0,
    "start_time": "2024-09-16T00:32:54.938Z"
   },
   {
    "duration": 0,
    "start_time": "2024-09-16T00:32:54.940Z"
   },
   {
    "duration": 0,
    "start_time": "2024-09-16T00:32:54.941Z"
   },
   {
    "duration": 0,
    "start_time": "2024-09-16T00:32:54.943Z"
   },
   {
    "duration": 0,
    "start_time": "2024-09-16T00:32:54.944Z"
   },
   {
    "duration": 0,
    "start_time": "2024-09-16T00:32:54.946Z"
   },
   {
    "duration": 0,
    "start_time": "2024-09-16T00:32:54.947Z"
   },
   {
    "duration": 0,
    "start_time": "2024-09-16T00:32:54.949Z"
   },
   {
    "duration": 0,
    "start_time": "2024-09-16T00:32:54.950Z"
   },
   {
    "duration": 0,
    "start_time": "2024-09-16T00:32:54.952Z"
   },
   {
    "duration": 0,
    "start_time": "2024-09-16T00:32:55.012Z"
   },
   {
    "duration": 0,
    "start_time": "2024-09-16T00:32:55.014Z"
   },
   {
    "duration": 0,
    "start_time": "2024-09-16T00:32:55.016Z"
   },
   {
    "duration": 0,
    "start_time": "2024-09-16T00:32:55.018Z"
   },
   {
    "duration": 0,
    "start_time": "2024-09-16T00:32:55.020Z"
   },
   {
    "duration": 0,
    "start_time": "2024-09-16T00:32:55.021Z"
   },
   {
    "duration": 0,
    "start_time": "2024-09-16T00:32:55.023Z"
   },
   {
    "duration": 0,
    "start_time": "2024-09-16T00:32:55.024Z"
   },
   {
    "duration": 7,
    "start_time": "2024-09-16T00:34:26.131Z"
   },
   {
    "duration": 13,
    "start_time": "2024-09-16T00:34:40.208Z"
   },
   {
    "duration": 29,
    "start_time": "2024-09-16T00:36:11.328Z"
   },
   {
    "duration": 20,
    "start_time": "2024-09-16T00:36:50.678Z"
   },
   {
    "duration": 8,
    "start_time": "2024-09-16T00:37:16.411Z"
   },
   {
    "duration": 10,
    "start_time": "2024-09-16T00:37:38.560Z"
   },
   {
    "duration": 78,
    "start_time": "2024-09-16T00:38:00.690Z"
   },
   {
    "duration": 94,
    "start_time": "2024-09-16T00:39:59.997Z"
   },
   {
    "duration": 2,
    "start_time": "2024-09-16T01:04:40.138Z"
   },
   {
    "duration": 155,
    "start_time": "2024-09-16T01:04:40.146Z"
   },
   {
    "duration": 9,
    "start_time": "2024-09-16T01:04:40.303Z"
   },
   {
    "duration": 8,
    "start_time": "2024-09-16T01:04:40.314Z"
   },
   {
    "duration": 7,
    "start_time": "2024-09-16T01:04:40.324Z"
   },
   {
    "duration": 5,
    "start_time": "2024-09-16T01:04:40.333Z"
   },
   {
    "duration": 4,
    "start_time": "2024-09-16T01:04:40.340Z"
   },
   {
    "duration": 12,
    "start_time": "2024-09-16T01:04:40.346Z"
   },
   {
    "duration": 65,
    "start_time": "2024-09-16T01:04:40.360Z"
   },
   {
    "duration": 5,
    "start_time": "2024-09-16T01:04:40.426Z"
   },
   {
    "duration": 14,
    "start_time": "2024-09-16T01:04:40.434Z"
   },
   {
    "duration": 72,
    "start_time": "2024-09-16T01:04:40.449Z"
   },
   {
    "duration": 30,
    "start_time": "2024-09-16T01:04:40.523Z"
   },
   {
    "duration": 12,
    "start_time": "2024-09-16T01:04:40.555Z"
   },
   {
    "duration": 43,
    "start_time": "2024-09-16T01:04:40.569Z"
   },
   {
    "duration": 72,
    "start_time": "2024-09-16T01:04:40.614Z"
   },
   {
    "duration": 6,
    "start_time": "2024-09-16T01:04:40.687Z"
   },
   {
    "duration": 11,
    "start_time": "2024-09-16T01:04:40.709Z"
   },
   {
    "duration": 26,
    "start_time": "2024-09-16T01:04:40.722Z"
   },
   {
    "duration": 18,
    "start_time": "2024-09-16T01:04:40.750Z"
   },
   {
    "duration": 39,
    "start_time": "2024-09-16T01:04:40.770Z"
   },
   {
    "duration": 13,
    "start_time": "2024-09-16T01:04:40.810Z"
   },
   {
    "duration": 38,
    "start_time": "2024-09-16T01:04:40.825Z"
   },
   {
    "duration": 13,
    "start_time": "2024-09-16T01:04:40.865Z"
   },
   {
    "duration": 0,
    "start_time": "2024-09-16T01:04:40.882Z"
   },
   {
    "duration": 0,
    "start_time": "2024-09-16T01:04:40.883Z"
   },
   {
    "duration": 0,
    "start_time": "2024-09-16T01:04:40.885Z"
   },
   {
    "duration": 0,
    "start_time": "2024-09-16T01:04:40.885Z"
   },
   {
    "duration": 0,
    "start_time": "2024-09-16T01:04:40.886Z"
   },
   {
    "duration": 0,
    "start_time": "2024-09-16T01:04:40.909Z"
   },
   {
    "duration": 0,
    "start_time": "2024-09-16T01:04:40.910Z"
   },
   {
    "duration": 0,
    "start_time": "2024-09-16T01:04:40.911Z"
   },
   {
    "duration": 1,
    "start_time": "2024-09-16T01:04:40.911Z"
   },
   {
    "duration": 0,
    "start_time": "2024-09-16T01:04:40.913Z"
   },
   {
    "duration": 0,
    "start_time": "2024-09-16T01:04:40.914Z"
   },
   {
    "duration": 0,
    "start_time": "2024-09-16T01:04:40.915Z"
   },
   {
    "duration": 0,
    "start_time": "2024-09-16T01:04:40.917Z"
   },
   {
    "duration": 0,
    "start_time": "2024-09-16T01:04:40.919Z"
   },
   {
    "duration": 0,
    "start_time": "2024-09-16T01:04:40.920Z"
   },
   {
    "duration": 0,
    "start_time": "2024-09-16T01:04:40.921Z"
   },
   {
    "duration": 0,
    "start_time": "2024-09-16T01:04:40.923Z"
   },
   {
    "duration": 0,
    "start_time": "2024-09-16T01:04:40.924Z"
   },
   {
    "duration": 0,
    "start_time": "2024-09-16T01:04:40.925Z"
   },
   {
    "duration": 0,
    "start_time": "2024-09-16T01:04:40.926Z"
   },
   {
    "duration": 0,
    "start_time": "2024-09-16T01:04:40.927Z"
   },
   {
    "duration": 0,
    "start_time": "2024-09-16T01:04:40.928Z"
   },
   {
    "duration": 0,
    "start_time": "2024-09-16T01:04:40.929Z"
   },
   {
    "duration": 0,
    "start_time": "2024-09-16T01:04:40.930Z"
   },
   {
    "duration": 0,
    "start_time": "2024-09-16T01:04:40.931Z"
   },
   {
    "duration": 8,
    "start_time": "2024-09-16T01:04:56.513Z"
   },
   {
    "duration": 45,
    "start_time": "2024-09-16T01:07:17.606Z"
   },
   {
    "duration": 77,
    "start_time": "2024-09-16T01:07:31.749Z"
   },
   {
    "duration": 77,
    "start_time": "2024-09-16T01:07:42.173Z"
   },
   {
    "duration": 3,
    "start_time": "2024-09-16T01:14:44.262Z"
   },
   {
    "duration": 159,
    "start_time": "2024-09-16T01:14:44.269Z"
   },
   {
    "duration": 6,
    "start_time": "2024-09-16T01:14:44.430Z"
   },
   {
    "duration": 10,
    "start_time": "2024-09-16T01:14:44.437Z"
   },
   {
    "duration": 6,
    "start_time": "2024-09-16T01:14:44.449Z"
   },
   {
    "duration": 5,
    "start_time": "2024-09-16T01:14:44.457Z"
   },
   {
    "duration": 5,
    "start_time": "2024-09-16T01:14:44.464Z"
   },
   {
    "duration": 44,
    "start_time": "2024-09-16T01:14:44.470Z"
   },
   {
    "duration": 15,
    "start_time": "2024-09-16T01:14:44.516Z"
   },
   {
    "duration": 4,
    "start_time": "2024-09-16T01:14:44.534Z"
   },
   {
    "duration": 15,
    "start_time": "2024-09-16T01:14:44.541Z"
   },
   {
    "duration": 83,
    "start_time": "2024-09-16T01:14:44.558Z"
   },
   {
    "duration": 35,
    "start_time": "2024-09-16T01:14:44.643Z"
   },
   {
    "duration": 36,
    "start_time": "2024-09-16T01:14:44.680Z"
   },
   {
    "duration": 17,
    "start_time": "2024-09-16T01:14:44.718Z"
   },
   {
    "duration": 119,
    "start_time": "2024-09-16T01:14:44.737Z"
   },
   {
    "duration": 6,
    "start_time": "2024-09-16T01:14:44.857Z"
   },
   {
    "duration": 11,
    "start_time": "2024-09-16T01:14:44.865Z"
   },
   {
    "duration": 49,
    "start_time": "2024-09-16T01:14:44.878Z"
   },
   {
    "duration": 17,
    "start_time": "2024-09-16T01:14:44.929Z"
   },
   {
    "duration": 8,
    "start_time": "2024-09-16T01:14:44.948Z"
   },
   {
    "duration": 58,
    "start_time": "2024-09-16T01:14:44.958Z"
   },
   {
    "duration": 14,
    "start_time": "2024-09-16T01:14:45.018Z"
   },
   {
    "duration": 0,
    "start_time": "2024-09-16T01:14:45.035Z"
   },
   {
    "duration": 0,
    "start_time": "2024-09-16T01:14:45.036Z"
   },
   {
    "duration": 0,
    "start_time": "2024-09-16T01:14:45.037Z"
   },
   {
    "duration": 0,
    "start_time": "2024-09-16T01:14:45.038Z"
   },
   {
    "duration": 0,
    "start_time": "2024-09-16T01:14:45.039Z"
   },
   {
    "duration": 0,
    "start_time": "2024-09-16T01:14:45.040Z"
   },
   {
    "duration": 0,
    "start_time": "2024-09-16T01:14:45.042Z"
   },
   {
    "duration": 0,
    "start_time": "2024-09-16T01:14:45.043Z"
   },
   {
    "duration": 0,
    "start_time": "2024-09-16T01:14:45.045Z"
   },
   {
    "duration": 0,
    "start_time": "2024-09-16T01:14:45.046Z"
   },
   {
    "duration": 0,
    "start_time": "2024-09-16T01:14:45.048Z"
   },
   {
    "duration": 0,
    "start_time": "2024-09-16T01:14:45.050Z"
   },
   {
    "duration": 0,
    "start_time": "2024-09-16T01:14:45.051Z"
   },
   {
    "duration": 0,
    "start_time": "2024-09-16T01:14:45.053Z"
   },
   {
    "duration": 0,
    "start_time": "2024-09-16T01:14:45.054Z"
   },
   {
    "duration": 0,
    "start_time": "2024-09-16T01:14:45.056Z"
   },
   {
    "duration": 0,
    "start_time": "2024-09-16T01:14:45.057Z"
   },
   {
    "duration": 0,
    "start_time": "2024-09-16T01:14:45.059Z"
   },
   {
    "duration": 0,
    "start_time": "2024-09-16T01:14:45.060Z"
   },
   {
    "duration": 0,
    "start_time": "2024-09-16T01:14:45.109Z"
   },
   {
    "duration": 0,
    "start_time": "2024-09-16T01:14:45.110Z"
   },
   {
    "duration": 0,
    "start_time": "2024-09-16T01:14:45.112Z"
   },
   {
    "duration": 0,
    "start_time": "2024-09-16T01:14:45.114Z"
   },
   {
    "duration": 0,
    "start_time": "2024-09-16T01:14:45.115Z"
   },
   {
    "duration": 0,
    "start_time": "2024-09-16T01:14:45.117Z"
   },
   {
    "duration": 7,
    "start_time": "2024-09-16T01:16:08.099Z"
   },
   {
    "duration": 3,
    "start_time": "2024-09-16T01:17:13.834Z"
   },
   {
    "duration": 150,
    "start_time": "2024-09-16T01:17:13.839Z"
   },
   {
    "duration": 5,
    "start_time": "2024-09-16T01:17:13.990Z"
   },
   {
    "duration": 18,
    "start_time": "2024-09-16T01:17:13.997Z"
   },
   {
    "duration": 7,
    "start_time": "2024-09-16T01:17:14.017Z"
   },
   {
    "duration": 6,
    "start_time": "2024-09-16T01:17:14.025Z"
   },
   {
    "duration": 5,
    "start_time": "2024-09-16T01:17:14.033Z"
   },
   {
    "duration": 13,
    "start_time": "2024-09-16T01:17:14.039Z"
   },
   {
    "duration": 16,
    "start_time": "2024-09-16T01:17:14.053Z"
   },
   {
    "duration": 5,
    "start_time": "2024-09-16T01:17:14.109Z"
   },
   {
    "duration": 15,
    "start_time": "2024-09-16T01:17:14.118Z"
   },
   {
    "duration": 83,
    "start_time": "2024-09-16T01:17:14.135Z"
   },
   {
    "duration": 35,
    "start_time": "2024-09-16T01:17:14.220Z"
   },
   {
    "duration": 13,
    "start_time": "2024-09-16T01:17:14.256Z"
   },
   {
    "duration": 37,
    "start_time": "2024-09-16T01:17:14.272Z"
   },
   {
    "duration": 76,
    "start_time": "2024-09-16T01:17:14.312Z"
   },
   {
    "duration": 18,
    "start_time": "2024-09-16T01:17:14.390Z"
   },
   {
    "duration": 13,
    "start_time": "2024-09-16T01:17:14.410Z"
   },
   {
    "duration": 30,
    "start_time": "2024-09-16T01:17:14.424Z"
   },
   {
    "duration": 18,
    "start_time": "2024-09-16T01:17:14.456Z"
   },
   {
    "duration": 8,
    "start_time": "2024-09-16T01:17:14.476Z"
   },
   {
    "duration": 38,
    "start_time": "2024-09-16T01:17:14.509Z"
   },
   {
    "duration": 8,
    "start_time": "2024-09-16T01:17:14.549Z"
   },
   {
    "duration": 16,
    "start_time": "2024-09-16T01:17:14.559Z"
   },
   {
    "duration": 0,
    "start_time": "2024-09-16T01:17:14.577Z"
   },
   {
    "duration": 1,
    "start_time": "2024-09-16T01:17:14.578Z"
   },
   {
    "duration": 0,
    "start_time": "2024-09-16T01:17:14.580Z"
   },
   {
    "duration": 1,
    "start_time": "2024-09-16T01:17:14.581Z"
   },
   {
    "duration": 0,
    "start_time": "2024-09-16T01:17:14.609Z"
   },
   {
    "duration": 0,
    "start_time": "2024-09-16T01:17:14.610Z"
   },
   {
    "duration": 0,
    "start_time": "2024-09-16T01:17:14.611Z"
   },
   {
    "duration": 0,
    "start_time": "2024-09-16T01:17:14.613Z"
   },
   {
    "duration": 0,
    "start_time": "2024-09-16T01:17:14.614Z"
   },
   {
    "duration": 0,
    "start_time": "2024-09-16T01:17:14.615Z"
   },
   {
    "duration": 0,
    "start_time": "2024-09-16T01:17:14.616Z"
   },
   {
    "duration": 0,
    "start_time": "2024-09-16T01:17:14.617Z"
   },
   {
    "duration": 0,
    "start_time": "2024-09-16T01:17:14.618Z"
   },
   {
    "duration": 0,
    "start_time": "2024-09-16T01:17:14.619Z"
   },
   {
    "duration": 0,
    "start_time": "2024-09-16T01:17:14.620Z"
   },
   {
    "duration": 0,
    "start_time": "2024-09-16T01:17:14.621Z"
   },
   {
    "duration": 0,
    "start_time": "2024-09-16T01:17:14.622Z"
   },
   {
    "duration": 0,
    "start_time": "2024-09-16T01:17:14.623Z"
   },
   {
    "duration": 0,
    "start_time": "2024-09-16T01:17:14.625Z"
   },
   {
    "duration": 0,
    "start_time": "2024-09-16T01:17:14.627Z"
   },
   {
    "duration": 0,
    "start_time": "2024-09-16T01:17:14.627Z"
   },
   {
    "duration": 0,
    "start_time": "2024-09-16T01:17:14.628Z"
   },
   {
    "duration": 0,
    "start_time": "2024-09-16T01:17:14.629Z"
   },
   {
    "duration": 0,
    "start_time": "2024-09-16T01:17:14.630Z"
   },
   {
    "duration": 0,
    "start_time": "2024-09-16T01:17:14.631Z"
   },
   {
    "duration": 14,
    "start_time": "2024-09-16T01:17:30.555Z"
   },
   {
    "duration": 33,
    "start_time": "2024-09-16T01:23:36.374Z"
   },
   {
    "duration": 43,
    "start_time": "2024-09-16T01:24:08.438Z"
   },
   {
    "duration": 64,
    "start_time": "2024-09-16T01:24:56.048Z"
   },
   {
    "duration": 43,
    "start_time": "2024-09-16T01:25:26.940Z"
   },
   {
    "duration": 9,
    "start_time": "2024-09-16T01:25:56.989Z"
   },
   {
    "duration": 14,
    "start_time": "2024-09-16T01:26:01.763Z"
   },
   {
    "duration": 15,
    "start_time": "2024-09-16T01:27:28.094Z"
   },
   {
    "duration": 3,
    "start_time": "2024-09-16T01:42:18.029Z"
   },
   {
    "duration": 180,
    "start_time": "2024-09-16T01:42:18.037Z"
   },
   {
    "duration": 5,
    "start_time": "2024-09-16T01:42:18.220Z"
   },
   {
    "duration": 8,
    "start_time": "2024-09-16T01:42:18.226Z"
   },
   {
    "duration": 6,
    "start_time": "2024-09-16T01:42:18.236Z"
   },
   {
    "duration": 5,
    "start_time": "2024-09-16T01:42:18.244Z"
   },
   {
    "duration": 4,
    "start_time": "2024-09-16T01:42:18.250Z"
   },
   {
    "duration": 53,
    "start_time": "2024-09-16T01:42:18.256Z"
   },
   {
    "duration": 16,
    "start_time": "2024-09-16T01:42:18.310Z"
   },
   {
    "duration": 5,
    "start_time": "2024-09-16T01:42:18.328Z"
   },
   {
    "duration": 16,
    "start_time": "2024-09-16T01:42:18.335Z"
   },
   {
    "duration": 90,
    "start_time": "2024-09-16T01:42:18.353Z"
   },
   {
    "duration": 34,
    "start_time": "2024-09-16T01:42:18.445Z"
   },
   {
    "duration": 28,
    "start_time": "2024-09-16T01:42:18.481Z"
   },
   {
    "duration": 17,
    "start_time": "2024-09-16T01:42:18.514Z"
   },
   {
    "duration": 83,
    "start_time": "2024-09-16T01:42:18.532Z"
   },
   {
    "duration": 6,
    "start_time": "2024-09-16T01:42:18.616Z"
   },
   {
    "duration": 12,
    "start_time": "2024-09-16T01:42:18.624Z"
   },
   {
    "duration": 27,
    "start_time": "2024-09-16T01:42:18.637Z"
   },
   {
    "duration": 47,
    "start_time": "2024-09-16T01:42:18.666Z"
   },
   {
    "duration": 9,
    "start_time": "2024-09-16T01:42:18.714Z"
   },
   {
    "duration": 39,
    "start_time": "2024-09-16T01:42:18.724Z"
   },
   {
    "duration": 7,
    "start_time": "2024-09-16T01:42:18.765Z"
   },
   {
    "duration": 40,
    "start_time": "2024-09-16T01:42:18.774Z"
   },
   {
    "duration": 62,
    "start_time": "2024-09-16T01:42:18.817Z"
   },
   {
    "duration": 61,
    "start_time": "2024-09-16T01:42:18.881Z"
   },
   {
    "duration": 10,
    "start_time": "2024-09-16T01:42:18.943Z"
   },
   {
    "duration": 4,
    "start_time": "2024-09-16T01:42:18.955Z"
   },
   {
    "duration": 0,
    "start_time": "2024-09-16T01:42:18.962Z"
   },
   {
    "duration": 0,
    "start_time": "2024-09-16T01:42:18.963Z"
   },
   {
    "duration": 0,
    "start_time": "2024-09-16T01:42:18.964Z"
   },
   {
    "duration": 0,
    "start_time": "2024-09-16T01:42:18.965Z"
   },
   {
    "duration": 0,
    "start_time": "2024-09-16T01:42:18.967Z"
   },
   {
    "duration": 0,
    "start_time": "2024-09-16T01:42:18.968Z"
   },
   {
    "duration": 0,
    "start_time": "2024-09-16T01:42:18.969Z"
   },
   {
    "duration": 0,
    "start_time": "2024-09-16T01:42:18.970Z"
   },
   {
    "duration": 0,
    "start_time": "2024-09-16T01:42:18.971Z"
   },
   {
    "duration": 0,
    "start_time": "2024-09-16T01:42:18.972Z"
   },
   {
    "duration": 0,
    "start_time": "2024-09-16T01:42:19.009Z"
   },
   {
    "duration": 0,
    "start_time": "2024-09-16T01:42:19.010Z"
   },
   {
    "duration": 0,
    "start_time": "2024-09-16T01:42:19.012Z"
   },
   {
    "duration": 0,
    "start_time": "2024-09-16T01:42:19.013Z"
   },
   {
    "duration": 0,
    "start_time": "2024-09-16T01:42:19.014Z"
   },
   {
    "duration": 0,
    "start_time": "2024-09-16T01:42:19.015Z"
   },
   {
    "duration": 0,
    "start_time": "2024-09-16T01:42:19.016Z"
   },
   {
    "duration": 0,
    "start_time": "2024-09-16T01:42:19.020Z"
   },
   {
    "duration": 0,
    "start_time": "2024-09-16T01:42:19.021Z"
   },
   {
    "duration": 0,
    "start_time": "2024-09-16T01:42:19.023Z"
   },
   {
    "duration": 0,
    "start_time": "2024-09-16T01:42:19.024Z"
   },
   {
    "duration": 0,
    "start_time": "2024-09-16T01:42:19.026Z"
   },
   {
    "duration": 0,
    "start_time": "2024-09-16T01:42:19.027Z"
   },
   {
    "duration": 0,
    "start_time": "2024-09-16T01:42:19.028Z"
   },
   {
    "duration": 0,
    "start_time": "2024-09-16T01:42:19.030Z"
   },
   {
    "duration": 0,
    "start_time": "2024-09-16T01:42:19.031Z"
   },
   {
    "duration": 0,
    "start_time": "2024-09-16T01:42:19.033Z"
   },
   {
    "duration": 17,
    "start_time": "2024-09-16T01:43:16.020Z"
   },
   {
    "duration": 61,
    "start_time": "2024-09-16T01:44:57.944Z"
   },
   {
    "duration": 53,
    "start_time": "2024-09-16T01:46:40.364Z"
   },
   {
    "duration": 102,
    "start_time": "2024-09-16T01:47:06.923Z"
   },
   {
    "duration": 192,
    "start_time": "2024-09-16T17:42:14.058Z"
   },
   {
    "duration": 12,
    "start_time": "2024-09-16T17:42:45.315Z"
   },
   {
    "duration": 18,
    "start_time": "2024-09-16T17:42:52.858Z"
   },
   {
    "duration": 2713,
    "start_time": "2024-09-16T17:42:59.299Z"
   },
   {
    "duration": 465,
    "start_time": "2024-09-16T17:43:02.015Z"
   },
   {
    "duration": 8,
    "start_time": "2024-09-16T17:43:02.482Z"
   },
   {
    "duration": 52,
    "start_time": "2024-09-16T17:43:02.493Z"
   },
   {
    "duration": 9,
    "start_time": "2024-09-16T17:43:02.547Z"
   },
   {
    "duration": 7,
    "start_time": "2024-09-16T17:43:02.558Z"
   },
   {
    "duration": 9,
    "start_time": "2024-09-16T17:43:02.567Z"
   },
   {
    "duration": 17,
    "start_time": "2024-09-16T17:43:02.578Z"
   },
   {
    "duration": 63,
    "start_time": "2024-09-16T17:43:02.597Z"
   },
   {
    "duration": 5,
    "start_time": "2024-09-16T17:43:02.664Z"
   },
   {
    "duration": 74,
    "start_time": "2024-09-16T17:43:02.670Z"
   },
   {
    "duration": 77,
    "start_time": "2024-09-16T17:43:02.746Z"
   },
   {
    "duration": 54,
    "start_time": "2024-09-16T17:43:02.825Z"
   },
   {
    "duration": 13,
    "start_time": "2024-09-16T17:43:02.881Z"
   },
   {
    "duration": 18,
    "start_time": "2024-09-16T17:43:02.896Z"
   },
   {
    "duration": 119,
    "start_time": "2024-09-16T17:43:02.916Z"
   },
   {
    "duration": 13,
    "start_time": "2024-09-16T17:43:03.037Z"
   },
   {
    "duration": 14,
    "start_time": "2024-09-16T17:43:03.052Z"
   },
   {
    "duration": 31,
    "start_time": "2024-09-16T17:43:03.068Z"
   },
   {
    "duration": 44,
    "start_time": "2024-09-16T17:43:03.102Z"
   },
   {
    "duration": 14,
    "start_time": "2024-09-16T17:43:03.147Z"
   },
   {
    "duration": 46,
    "start_time": "2024-09-16T17:43:03.162Z"
   },
   {
    "duration": 6,
    "start_time": "2024-09-16T17:43:03.210Z"
   },
   {
    "duration": 34,
    "start_time": "2024-09-16T17:43:03.218Z"
   },
   {
    "duration": 64,
    "start_time": "2024-09-16T17:43:03.254Z"
   },
   {
    "duration": 71,
    "start_time": "2024-09-16T17:43:03.320Z"
   },
   {
    "duration": 10,
    "start_time": "2024-09-16T17:43:03.392Z"
   },
   {
    "duration": 14,
    "start_time": "2024-09-16T17:43:03.406Z"
   },
   {
    "duration": 91,
    "start_time": "2024-09-16T17:43:03.422Z"
   },
   {
    "duration": 82,
    "start_time": "2024-09-16T17:43:03.514Z"
   },
   {
    "duration": 75,
    "start_time": "2024-09-16T17:43:03.598Z"
   },
   {
    "duration": 0,
    "start_time": "2024-09-16T17:43:03.675Z"
   },
   {
    "duration": 0,
    "start_time": "2024-09-16T17:43:03.676Z"
   },
   {
    "duration": 0,
    "start_time": "2024-09-16T17:43:03.677Z"
   },
   {
    "duration": 0,
    "start_time": "2024-09-16T17:43:03.678Z"
   },
   {
    "duration": 1,
    "start_time": "2024-09-16T17:43:03.679Z"
   },
   {
    "duration": 0,
    "start_time": "2024-09-16T17:43:03.682Z"
   },
   {
    "duration": 0,
    "start_time": "2024-09-16T17:43:03.683Z"
   },
   {
    "duration": 0,
    "start_time": "2024-09-16T17:43:03.685Z"
   },
   {
    "duration": 0,
    "start_time": "2024-09-16T17:43:03.686Z"
   },
   {
    "duration": 0,
    "start_time": "2024-09-16T17:43:03.687Z"
   },
   {
    "duration": 0,
    "start_time": "2024-09-16T17:43:03.688Z"
   },
   {
    "duration": 0,
    "start_time": "2024-09-16T17:43:03.689Z"
   },
   {
    "duration": 0,
    "start_time": "2024-09-16T17:43:03.690Z"
   },
   {
    "duration": 0,
    "start_time": "2024-09-16T17:43:03.692Z"
   },
   {
    "duration": 0,
    "start_time": "2024-09-16T17:43:03.693Z"
   },
   {
    "duration": 0,
    "start_time": "2024-09-16T17:43:03.694Z"
   },
   {
    "duration": 0,
    "start_time": "2024-09-16T17:43:03.695Z"
   },
   {
    "duration": 0,
    "start_time": "2024-09-16T17:43:03.696Z"
   },
   {
    "duration": 0,
    "start_time": "2024-09-16T17:43:03.697Z"
   },
   {
    "duration": 0,
    "start_time": "2024-09-16T17:43:03.699Z"
   },
   {
    "duration": 0,
    "start_time": "2024-09-16T17:43:03.700Z"
   },
   {
    "duration": 0,
    "start_time": "2024-09-16T17:43:03.701Z"
   },
   {
    "duration": 0,
    "start_time": "2024-09-16T17:43:03.702Z"
   },
   {
    "duration": 0,
    "start_time": "2024-09-16T17:43:03.703Z"
   },
   {
    "duration": 0,
    "start_time": "2024-09-16T17:43:03.705Z"
   },
   {
    "duration": 136,
    "start_time": "2024-09-16T17:43:33.846Z"
   },
   {
    "duration": 155,
    "start_time": "2024-09-16T23:01:19.996Z"
   },
   {
    "duration": 2506,
    "start_time": "2024-09-16T23:01:30.271Z"
   },
   {
    "duration": 249,
    "start_time": "2024-09-16T23:01:32.778Z"
   },
   {
    "duration": 6,
    "start_time": "2024-09-16T23:01:33.028Z"
   },
   {
    "duration": 9,
    "start_time": "2024-09-16T23:01:33.037Z"
   },
   {
    "duration": 7,
    "start_time": "2024-09-16T23:01:33.048Z"
   },
   {
    "duration": 6,
    "start_time": "2024-09-16T23:01:33.056Z"
   },
   {
    "duration": 4,
    "start_time": "2024-09-16T23:01:33.063Z"
   },
   {
    "duration": 13,
    "start_time": "2024-09-16T23:01:33.069Z"
   },
   {
    "duration": 15,
    "start_time": "2024-09-16T23:01:33.084Z"
   },
   {
    "duration": 42,
    "start_time": "2024-09-16T23:01:33.102Z"
   },
   {
    "duration": 15,
    "start_time": "2024-09-16T23:01:33.146Z"
   },
   {
    "duration": 58,
    "start_time": "2024-09-16T23:01:33.162Z"
   },
   {
    "duration": 55,
    "start_time": "2024-09-16T23:01:33.222Z"
   },
   {
    "duration": 11,
    "start_time": "2024-09-16T23:01:33.280Z"
   },
   {
    "duration": 18,
    "start_time": "2024-09-16T23:01:33.293Z"
   },
   {
    "duration": 88,
    "start_time": "2024-09-16T23:01:33.312Z"
   },
   {
    "duration": 6,
    "start_time": "2024-09-16T23:01:33.402Z"
   },
   {
    "duration": 11,
    "start_time": "2024-09-16T23:01:33.409Z"
   },
   {
    "duration": 46,
    "start_time": "2024-09-16T23:01:33.422Z"
   },
   {
    "duration": 19,
    "start_time": "2024-09-16T23:01:33.470Z"
   },
   {
    "duration": 10,
    "start_time": "2024-09-16T23:01:33.491Z"
   },
   {
    "duration": 65,
    "start_time": "2024-09-16T23:01:33.503Z"
   },
   {
    "duration": 7,
    "start_time": "2024-09-16T23:01:33.570Z"
   },
   {
    "duration": 21,
    "start_time": "2024-09-16T23:01:33.578Z"
   },
   {
    "duration": 71,
    "start_time": "2024-09-16T23:01:33.601Z"
   },
   {
    "duration": 42,
    "start_time": "2024-09-16T23:01:33.673Z"
   },
   {
    "duration": 28,
    "start_time": "2024-09-16T23:01:33.717Z"
   },
   {
    "duration": 15,
    "start_time": "2024-09-16T23:01:33.749Z"
   },
   {
    "duration": 55,
    "start_time": "2024-09-16T23:01:33.766Z"
   },
   {
    "duration": 109,
    "start_time": "2024-09-16T23:01:33.822Z"
   },
   {
    "duration": 7,
    "start_time": "2024-09-16T23:01:33.943Z"
   },
   {
    "duration": 70,
    "start_time": "2024-09-16T23:01:33.952Z"
   },
   {
    "duration": 0,
    "start_time": "2024-09-16T23:01:34.023Z"
   },
   {
    "duration": 0,
    "start_time": "2024-09-16T23:01:34.042Z"
   },
   {
    "duration": 0,
    "start_time": "2024-09-16T23:01:34.044Z"
   },
   {
    "duration": 0,
    "start_time": "2024-09-16T23:01:34.045Z"
   },
   {
    "duration": 0,
    "start_time": "2024-09-16T23:01:34.046Z"
   },
   {
    "duration": 0,
    "start_time": "2024-09-16T23:01:34.047Z"
   },
   {
    "duration": 0,
    "start_time": "2024-09-16T23:01:34.049Z"
   },
   {
    "duration": 0,
    "start_time": "2024-09-16T23:01:34.050Z"
   },
   {
    "duration": 0,
    "start_time": "2024-09-16T23:01:34.051Z"
   },
   {
    "duration": 0,
    "start_time": "2024-09-16T23:01:34.052Z"
   },
   {
    "duration": 0,
    "start_time": "2024-09-16T23:01:34.053Z"
   },
   {
    "duration": 0,
    "start_time": "2024-09-16T23:01:34.054Z"
   },
   {
    "duration": 0,
    "start_time": "2024-09-16T23:01:34.055Z"
   },
   {
    "duration": 0,
    "start_time": "2024-09-16T23:01:34.056Z"
   },
   {
    "duration": 0,
    "start_time": "2024-09-16T23:01:34.057Z"
   },
   {
    "duration": 0,
    "start_time": "2024-09-16T23:01:34.060Z"
   },
   {
    "duration": 0,
    "start_time": "2024-09-16T23:01:34.061Z"
   },
   {
    "duration": 0,
    "start_time": "2024-09-16T23:01:34.062Z"
   },
   {
    "duration": 0,
    "start_time": "2024-09-16T23:01:34.063Z"
   },
   {
    "duration": 0,
    "start_time": "2024-09-16T23:01:34.064Z"
   },
   {
    "duration": 0,
    "start_time": "2024-09-16T23:01:34.065Z"
   },
   {
    "duration": 0,
    "start_time": "2024-09-16T23:01:34.066Z"
   },
   {
    "duration": 0,
    "start_time": "2024-09-16T23:01:34.068Z"
   },
   {
    "duration": 0,
    "start_time": "2024-09-16T23:01:34.069Z"
   },
   {
    "duration": 0,
    "start_time": "2024-09-16T23:01:34.070Z"
   },
   {
    "duration": 8,
    "start_time": "2024-09-16T23:02:28.271Z"
   },
   {
    "duration": 61,
    "start_time": "2024-09-16T23:02:48.229Z"
   },
   {
    "duration": 4,
    "start_time": "2024-09-16T23:03:49.786Z"
   },
   {
    "duration": 4,
    "start_time": "2024-09-16T23:03:56.112Z"
   },
   {
    "duration": 2581,
    "start_time": "2024-09-17T02:56:13.915Z"
   },
   {
    "duration": 250,
    "start_time": "2024-09-17T02:56:16.499Z"
   },
   {
    "duration": 6,
    "start_time": "2024-09-17T02:56:16.751Z"
   },
   {
    "duration": 8,
    "start_time": "2024-09-17T02:56:16.759Z"
   },
   {
    "duration": 6,
    "start_time": "2024-09-17T02:56:16.770Z"
   },
   {
    "duration": 5,
    "start_time": "2024-09-17T02:56:16.777Z"
   },
   {
    "duration": 24,
    "start_time": "2024-09-17T02:56:16.784Z"
   },
   {
    "duration": 13,
    "start_time": "2024-09-17T02:56:16.811Z"
   },
   {
    "duration": 16,
    "start_time": "2024-09-17T02:56:16.825Z"
   },
   {
    "duration": 4,
    "start_time": "2024-09-17T02:56:16.842Z"
   },
   {
    "duration": 15,
    "start_time": "2024-09-17T02:56:16.848Z"
   },
   {
    "duration": 95,
    "start_time": "2024-09-17T02:56:16.865Z"
   },
   {
    "duration": 50,
    "start_time": "2024-09-17T02:56:16.962Z"
   },
   {
    "duration": 11,
    "start_time": "2024-09-17T02:56:17.016Z"
   },
   {
    "duration": 17,
    "start_time": "2024-09-17T02:56:17.028Z"
   },
   {
    "duration": 86,
    "start_time": "2024-09-17T02:56:17.047Z"
   },
   {
    "duration": 5,
    "start_time": "2024-09-17T02:56:17.135Z"
   },
   {
    "duration": 11,
    "start_time": "2024-09-17T02:56:17.142Z"
   },
   {
    "duration": 26,
    "start_time": "2024-09-17T02:56:17.155Z"
   },
   {
    "duration": 44,
    "start_time": "2024-09-17T02:56:17.184Z"
   },
   {
    "duration": 10,
    "start_time": "2024-09-17T02:56:17.231Z"
   },
   {
    "duration": 79,
    "start_time": "2024-09-17T02:56:17.244Z"
   },
   {
    "duration": 7,
    "start_time": "2024-09-17T02:56:17.324Z"
   },
   {
    "duration": 12,
    "start_time": "2024-09-17T02:56:17.333Z"
   },
   {
    "duration": 94,
    "start_time": "2024-09-17T02:56:17.347Z"
   },
   {
    "duration": 42,
    "start_time": "2024-09-17T02:56:17.444Z"
   },
   {
    "duration": 23,
    "start_time": "2024-09-17T02:56:17.487Z"
   },
   {
    "duration": 17,
    "start_time": "2024-09-17T02:56:17.513Z"
   },
   {
    "duration": 60,
    "start_time": "2024-09-17T02:56:17.532Z"
   },
   {
    "duration": 115,
    "start_time": "2024-09-17T02:56:17.610Z"
   },
   {
    "duration": 12,
    "start_time": "2024-09-17T02:56:17.726Z"
   },
   {
    "duration": 8,
    "start_time": "2024-09-17T02:56:17.744Z"
   },
   {
    "duration": 4,
    "start_time": "2024-09-17T02:56:17.754Z"
   },
   {
    "duration": 4,
    "start_time": "2024-09-17T02:56:17.759Z"
   },
   {
    "duration": 231,
    "start_time": "2024-09-17T02:56:17.766Z"
   },
   {
    "duration": 0,
    "start_time": "2024-09-17T02:56:18.000Z"
   },
   {
    "duration": 0,
    "start_time": "2024-09-17T02:56:18.008Z"
   },
   {
    "duration": 0,
    "start_time": "2024-09-17T02:56:18.010Z"
   },
   {
    "duration": 0,
    "start_time": "2024-09-17T02:56:18.011Z"
   },
   {
    "duration": 0,
    "start_time": "2024-09-17T02:56:18.012Z"
   },
   {
    "duration": 0,
    "start_time": "2024-09-17T02:56:18.013Z"
   },
   {
    "duration": 0,
    "start_time": "2024-09-17T02:56:18.014Z"
   },
   {
    "duration": 0,
    "start_time": "2024-09-17T02:56:18.016Z"
   },
   {
    "duration": 0,
    "start_time": "2024-09-17T02:56:18.017Z"
   },
   {
    "duration": 0,
    "start_time": "2024-09-17T02:56:18.019Z"
   },
   {
    "duration": 0,
    "start_time": "2024-09-17T02:56:18.020Z"
   },
   {
    "duration": 0,
    "start_time": "2024-09-17T02:56:18.022Z"
   },
   {
    "duration": 0,
    "start_time": "2024-09-17T02:56:18.023Z"
   },
   {
    "duration": 0,
    "start_time": "2024-09-17T02:56:18.025Z"
   },
   {
    "duration": 0,
    "start_time": "2024-09-17T02:56:18.026Z"
   },
   {
    "duration": 0,
    "start_time": "2024-09-17T02:56:18.027Z"
   },
   {
    "duration": 0,
    "start_time": "2024-09-17T02:56:18.029Z"
   },
   {
    "duration": 0,
    "start_time": "2024-09-17T02:56:18.030Z"
   },
   {
    "duration": 0,
    "start_time": "2024-09-17T02:56:18.032Z"
   },
   {
    "duration": 0,
    "start_time": "2024-09-17T02:56:18.033Z"
   },
   {
    "duration": 0,
    "start_time": "2024-09-17T02:56:18.035Z"
   },
   {
    "duration": 0,
    "start_time": "2024-09-17T02:56:18.037Z"
   },
   {
    "duration": 0,
    "start_time": "2024-09-17T02:56:18.038Z"
   },
   {
    "duration": 0,
    "start_time": "2024-09-17T02:56:18.039Z"
   },
   {
    "duration": 0,
    "start_time": "2024-09-17T02:56:18.040Z"
   },
   {
    "duration": 6,
    "start_time": "2024-09-17T03:02:20.815Z"
   },
   {
    "duration": 5,
    "start_time": "2024-09-17T03:02:31.546Z"
   },
   {
    "duration": 7,
    "start_time": "2024-09-17T03:07:13.573Z"
   },
   {
    "duration": 15,
    "start_time": "2024-09-17T03:07:28.353Z"
   },
   {
    "duration": 8,
    "start_time": "2024-09-17T03:08:25.799Z"
   },
   {
    "duration": 16,
    "start_time": "2024-09-17T03:08:29.709Z"
   },
   {
    "duration": 6,
    "start_time": "2024-09-17T03:09:03.069Z"
   },
   {
    "duration": 8,
    "start_time": "2024-09-17T03:14:55.191Z"
   },
   {
    "duration": 7,
    "start_time": "2024-09-17T03:15:04.554Z"
   },
   {
    "duration": 6,
    "start_time": "2024-09-17T03:17:02.646Z"
   },
   {
    "duration": 6,
    "start_time": "2024-09-17T03:17:21.057Z"
   },
   {
    "duration": 7,
    "start_time": "2024-09-17T03:17:35.138Z"
   },
   {
    "duration": 4,
    "start_time": "2024-09-17T03:17:41.828Z"
   },
   {
    "duration": 3,
    "start_time": "2024-09-17T03:17:46.676Z"
   },
   {
    "duration": 152,
    "start_time": "2024-09-17T03:17:46.681Z"
   },
   {
    "duration": 6,
    "start_time": "2024-09-17T03:17:46.836Z"
   },
   {
    "duration": 8,
    "start_time": "2024-09-17T03:17:46.844Z"
   },
   {
    "duration": 6,
    "start_time": "2024-09-17T03:17:46.856Z"
   },
   {
    "duration": 5,
    "start_time": "2024-09-17T03:17:46.863Z"
   },
   {
    "duration": 3,
    "start_time": "2024-09-17T03:17:46.870Z"
   },
   {
    "duration": 11,
    "start_time": "2024-09-17T03:17:46.909Z"
   },
   {
    "duration": 15,
    "start_time": "2024-09-17T03:17:46.922Z"
   },
   {
    "duration": 4,
    "start_time": "2024-09-17T03:17:46.939Z"
   },
   {
    "duration": 15,
    "start_time": "2024-09-17T03:17:46.946Z"
   },
   {
    "duration": 85,
    "start_time": "2024-09-17T03:17:46.963Z"
   },
   {
    "duration": 37,
    "start_time": "2024-09-17T03:17:47.050Z"
   },
   {
    "duration": 28,
    "start_time": "2024-09-17T03:17:47.088Z"
   },
   {
    "duration": 17,
    "start_time": "2024-09-17T03:17:47.118Z"
   },
   {
    "duration": 138,
    "start_time": "2024-09-17T03:17:47.137Z"
   },
   {
    "duration": 7,
    "start_time": "2024-09-17T03:17:47.277Z"
   },
   {
    "duration": 22,
    "start_time": "2024-09-17T03:17:47.288Z"
   },
   {
    "duration": 29,
    "start_time": "2024-09-17T03:17:47.311Z"
   },
   {
    "duration": 17,
    "start_time": "2024-09-17T03:17:47.342Z"
   },
   {
    "duration": 10,
    "start_time": "2024-09-17T03:17:47.361Z"
   },
   {
    "duration": 62,
    "start_time": "2024-09-17T03:17:47.373Z"
   },
   {
    "duration": 7,
    "start_time": "2024-09-17T03:17:47.437Z"
   },
   {
    "duration": 13,
    "start_time": "2024-09-17T03:17:47.446Z"
   },
   {
    "duration": 93,
    "start_time": "2024-09-17T03:17:47.461Z"
   },
   {
    "duration": 54,
    "start_time": "2024-09-17T03:17:47.555Z"
   },
   {
    "duration": 18,
    "start_time": "2024-09-17T03:17:47.610Z"
   },
   {
    "duration": 19,
    "start_time": "2024-09-17T03:17:47.630Z"
   },
   {
    "duration": 71,
    "start_time": "2024-09-17T03:17:47.655Z"
   },
   {
    "duration": 117,
    "start_time": "2024-09-17T03:17:47.728Z"
   },
   {
    "duration": 7,
    "start_time": "2024-09-17T03:17:47.847Z"
   },
   {
    "duration": 9,
    "start_time": "2024-09-17T03:17:47.856Z"
   },
   {
    "duration": 4,
    "start_time": "2024-09-17T03:17:47.866Z"
   },
   {
    "duration": 4,
    "start_time": "2024-09-17T03:17:47.871Z"
   },
   {
    "duration": 4,
    "start_time": "2024-09-17T03:17:47.877Z"
   },
   {
    "duration": 7,
    "start_time": "2024-09-17T03:17:47.910Z"
   },
   {
    "duration": 7,
    "start_time": "2024-09-17T03:17:47.918Z"
   },
   {
    "duration": 2,
    "start_time": "2024-09-17T03:17:47.926Z"
   },
   {
    "duration": 6,
    "start_time": "2024-09-17T03:17:47.930Z"
   },
   {
    "duration": 33,
    "start_time": "2024-09-17T03:17:47.938Z"
   },
   {
    "duration": 30,
    "start_time": "2024-09-17T03:17:47.973Z"
   },
   {
    "duration": 33,
    "start_time": "2024-09-17T03:17:48.004Z"
   },
   {
    "duration": 31,
    "start_time": "2024-09-17T03:17:48.039Z"
   },
   {
    "duration": 19,
    "start_time": "2024-09-17T03:17:48.071Z"
   },
   {
    "duration": 10,
    "start_time": "2024-09-17T03:17:48.091Z"
   },
   {
    "duration": 8,
    "start_time": "2024-09-17T03:17:48.102Z"
   },
   {
    "duration": 9,
    "start_time": "2024-09-17T03:17:48.111Z"
   },
   {
    "duration": 7,
    "start_time": "2024-09-17T03:17:48.121Z"
   },
   {
    "duration": 6,
    "start_time": "2024-09-17T03:17:48.129Z"
   },
   {
    "duration": 5,
    "start_time": "2024-09-17T03:17:48.137Z"
   },
   {
    "duration": 4,
    "start_time": "2024-09-17T03:17:48.143Z"
   },
   {
    "duration": 4,
    "start_time": "2024-09-17T03:17:48.148Z"
   },
   {
    "duration": 2,
    "start_time": "2024-09-17T03:17:48.153Z"
   },
   {
    "duration": 2,
    "start_time": "2024-09-17T03:17:48.157Z"
   },
   {
    "duration": 2,
    "start_time": "2024-09-17T03:17:48.161Z"
   },
   {
    "duration": 2,
    "start_time": "2024-09-17T03:17:48.165Z"
   },
   {
    "duration": 3,
    "start_time": "2024-09-17T03:17:48.169Z"
   },
   {
    "duration": 2,
    "start_time": "2024-09-17T03:17:48.174Z"
   },
   {
    "duration": 2,
    "start_time": "2024-09-17T03:17:48.210Z"
   },
   {
    "duration": 2,
    "start_time": "2024-09-17T03:17:48.214Z"
   },
   {
    "duration": 2,
    "start_time": "2024-09-17T03:17:48.218Z"
   },
   {
    "duration": 12,
    "start_time": "2024-09-17T03:18:18.942Z"
   },
   {
    "duration": 12,
    "start_time": "2024-09-17T03:18:51.990Z"
   },
   {
    "duration": 12,
    "start_time": "2024-09-17T03:19:43.899Z"
   },
   {
    "duration": 2,
    "start_time": "2024-09-17T03:19:52.541Z"
   },
   {
    "duration": 154,
    "start_time": "2024-09-17T03:19:52.547Z"
   },
   {
    "duration": 7,
    "start_time": "2024-09-17T03:19:52.702Z"
   },
   {
    "duration": 9,
    "start_time": "2024-09-17T03:19:52.710Z"
   },
   {
    "duration": 7,
    "start_time": "2024-09-17T03:19:52.721Z"
   },
   {
    "duration": 4,
    "start_time": "2024-09-17T03:19:52.730Z"
   },
   {
    "duration": 4,
    "start_time": "2024-09-17T03:19:52.736Z"
   },
   {
    "duration": 11,
    "start_time": "2024-09-17T03:19:52.742Z"
   },
   {
    "duration": 16,
    "start_time": "2024-09-17T03:19:52.754Z"
   },
   {
    "duration": 42,
    "start_time": "2024-09-17T03:19:52.771Z"
   },
   {
    "duration": 15,
    "start_time": "2024-09-17T03:19:52.816Z"
   },
   {
    "duration": 81,
    "start_time": "2024-09-17T03:19:52.833Z"
   },
   {
    "duration": 34,
    "start_time": "2024-09-17T03:19:52.916Z"
   },
   {
    "duration": 12,
    "start_time": "2024-09-17T03:19:52.951Z"
   },
   {
    "duration": 16,
    "start_time": "2024-09-17T03:19:52.965Z"
   },
   {
    "duration": 80,
    "start_time": "2024-09-17T03:19:53.009Z"
   },
   {
    "duration": 6,
    "start_time": "2024-09-17T03:19:53.091Z"
   },
   {
    "duration": 12,
    "start_time": "2024-09-17T03:19:53.110Z"
   },
   {
    "duration": 27,
    "start_time": "2024-09-17T03:19:53.124Z"
   },
   {
    "duration": 18,
    "start_time": "2024-09-17T03:19:53.153Z"
   },
   {
    "duration": 38,
    "start_time": "2024-09-17T03:19:53.173Z"
   },
   {
    "duration": 47,
    "start_time": "2024-09-17T03:19:53.213Z"
   },
   {
    "duration": 7,
    "start_time": "2024-09-17T03:19:53.261Z"
   },
   {
    "duration": 13,
    "start_time": "2024-09-17T03:19:53.269Z"
   },
   {
    "duration": 80,
    "start_time": "2024-09-17T03:19:53.284Z"
   },
   {
    "duration": 49,
    "start_time": "2024-09-17T03:19:53.366Z"
   },
   {
    "duration": 9,
    "start_time": "2024-09-17T03:19:53.417Z"
   },
   {
    "duration": 14,
    "start_time": "2024-09-17T03:19:53.429Z"
   },
   {
    "duration": 72,
    "start_time": "2024-09-17T03:19:53.448Z"
   },
   {
    "duration": 108,
    "start_time": "2024-09-17T03:19:53.522Z"
   },
   {
    "duration": 8,
    "start_time": "2024-09-17T03:19:53.632Z"
   },
   {
    "duration": 9,
    "start_time": "2024-09-17T03:19:53.641Z"
   },
   {
    "duration": 4,
    "start_time": "2024-09-17T03:19:53.651Z"
   },
   {
    "duration": 4,
    "start_time": "2024-09-17T03:19:53.657Z"
   },
   {
    "duration": 4,
    "start_time": "2024-09-17T03:19:53.663Z"
   },
   {
    "duration": 45,
    "start_time": "2024-09-17T03:19:53.669Z"
   },
   {
    "duration": 12,
    "start_time": "2024-09-17T03:19:53.716Z"
   },
   {
    "duration": 3,
    "start_time": "2024-09-17T03:19:53.729Z"
   },
   {
    "duration": 2,
    "start_time": "2024-09-17T03:19:53.734Z"
   },
   {
    "duration": 2,
    "start_time": "2024-09-17T03:19:53.738Z"
   },
   {
    "duration": 4,
    "start_time": "2024-09-17T03:19:53.741Z"
   },
   {
    "duration": 3,
    "start_time": "2024-09-17T03:19:53.746Z"
   },
   {
    "duration": 3,
    "start_time": "2024-09-17T03:19:53.750Z"
   },
   {
    "duration": 2,
    "start_time": "2024-09-17T03:19:53.755Z"
   },
   {
    "duration": 2,
    "start_time": "2024-09-17T03:19:53.760Z"
   },
   {
    "duration": 46,
    "start_time": "2024-09-17T03:19:53.764Z"
   },
   {
    "duration": 4,
    "start_time": "2024-09-17T03:19:53.812Z"
   },
   {
    "duration": 3,
    "start_time": "2024-09-17T03:19:53.817Z"
   },
   {
    "duration": 3,
    "start_time": "2024-09-17T03:19:53.821Z"
   },
   {
    "duration": 2,
    "start_time": "2024-09-17T03:19:53.826Z"
   },
   {
    "duration": 2,
    "start_time": "2024-09-17T03:19:53.830Z"
   },
   {
    "duration": 3,
    "start_time": "2024-09-17T03:19:53.834Z"
   },
   {
    "duration": 3,
    "start_time": "2024-09-17T03:19:53.838Z"
   },
   {
    "duration": 3,
    "start_time": "2024-09-17T03:19:53.843Z"
   },
   {
    "duration": 2,
    "start_time": "2024-09-17T03:19:53.848Z"
   },
   {
    "duration": 2,
    "start_time": "2024-09-17T03:19:53.852Z"
   },
   {
    "duration": 2,
    "start_time": "2024-09-17T03:19:53.856Z"
   },
   {
    "duration": 52,
    "start_time": "2024-09-17T03:19:53.860Z"
   },
   {
    "duration": 3,
    "start_time": "2024-09-17T03:19:53.914Z"
   },
   {
    "duration": 2,
    "start_time": "2024-09-17T03:19:53.918Z"
   },
   {
    "duration": 3,
    "start_time": "2024-09-17T03:19:53.922Z"
   },
   {
    "duration": 10,
    "start_time": "2024-09-17T03:20:19.123Z"
   },
   {
    "duration": 2,
    "start_time": "2024-09-17T03:20:25.597Z"
   },
   {
    "duration": 158,
    "start_time": "2024-09-17T03:20:25.603Z"
   },
   {
    "duration": 6,
    "start_time": "2024-09-17T03:20:25.763Z"
   },
   {
    "duration": 9,
    "start_time": "2024-09-17T03:20:25.770Z"
   },
   {
    "duration": 29,
    "start_time": "2024-09-17T03:20:25.780Z"
   },
   {
    "duration": 5,
    "start_time": "2024-09-17T03:20:25.812Z"
   },
   {
    "duration": 4,
    "start_time": "2024-09-17T03:20:25.820Z"
   },
   {
    "duration": 11,
    "start_time": "2024-09-17T03:20:25.826Z"
   },
   {
    "duration": 16,
    "start_time": "2024-09-17T03:20:25.838Z"
   },
   {
    "duration": 5,
    "start_time": "2024-09-17T03:20:25.856Z"
   },
   {
    "duration": 52,
    "start_time": "2024-09-17T03:20:25.863Z"
   },
   {
    "duration": 53,
    "start_time": "2024-09-17T03:20:25.916Z"
   },
   {
    "duration": 50,
    "start_time": "2024-09-17T03:20:25.971Z"
   },
   {
    "duration": 12,
    "start_time": "2024-09-17T03:20:26.023Z"
   },
   {
    "duration": 17,
    "start_time": "2024-09-17T03:20:26.038Z"
   },
   {
    "duration": 94,
    "start_time": "2024-09-17T03:20:26.057Z"
   },
   {
    "duration": 7,
    "start_time": "2024-09-17T03:20:26.153Z"
   },
   {
    "duration": 14,
    "start_time": "2024-09-17T03:20:26.161Z"
   },
   {
    "duration": 47,
    "start_time": "2024-09-17T03:20:26.177Z"
   },
   {
    "duration": 22,
    "start_time": "2024-09-17T03:20:26.226Z"
   },
   {
    "duration": 9,
    "start_time": "2024-09-17T03:20:26.250Z"
   },
   {
    "duration": 67,
    "start_time": "2024-09-17T03:20:26.260Z"
   },
   {
    "duration": 7,
    "start_time": "2024-09-17T03:20:26.328Z"
   },
   {
    "duration": 13,
    "start_time": "2024-09-17T03:20:26.337Z"
   },
   {
    "duration": 82,
    "start_time": "2024-09-17T03:20:26.352Z"
   },
   {
    "duration": 36,
    "start_time": "2024-09-17T03:20:26.436Z"
   },
   {
    "duration": 10,
    "start_time": "2024-09-17T03:20:26.474Z"
   },
   {
    "duration": 34,
    "start_time": "2024-09-17T03:20:26.486Z"
   },
   {
    "duration": 61,
    "start_time": "2024-09-17T03:20:26.522Z"
   },
   {
    "duration": 117,
    "start_time": "2024-09-17T03:20:26.585Z"
   },
   {
    "duration": 9,
    "start_time": "2024-09-17T03:20:26.708Z"
   },
   {
    "duration": 8,
    "start_time": "2024-09-17T03:20:26.719Z"
   },
   {
    "duration": 3,
    "start_time": "2024-09-17T03:20:26.729Z"
   },
   {
    "duration": 4,
    "start_time": "2024-09-17T03:20:26.734Z"
   },
   {
    "duration": 5,
    "start_time": "2024-09-17T03:20:26.739Z"
   },
   {
    "duration": 11,
    "start_time": "2024-09-17T03:20:26.746Z"
   },
   {
    "duration": 51,
    "start_time": "2024-09-17T03:20:26.759Z"
   },
   {
    "duration": 3,
    "start_time": "2024-09-17T03:20:26.811Z"
   },
   {
    "duration": 2,
    "start_time": "2024-09-17T03:20:26.816Z"
   },
   {
    "duration": 2,
    "start_time": "2024-09-17T03:20:26.820Z"
   },
   {
    "duration": 3,
    "start_time": "2024-09-17T03:20:26.823Z"
   },
   {
    "duration": 2,
    "start_time": "2024-09-17T03:20:26.831Z"
   },
   {
    "duration": 2,
    "start_time": "2024-09-17T03:20:26.835Z"
   },
   {
    "duration": 3,
    "start_time": "2024-09-17T03:20:26.839Z"
   },
   {
    "duration": 3,
    "start_time": "2024-09-17T03:20:26.843Z"
   },
   {
    "duration": 4,
    "start_time": "2024-09-17T03:20:26.847Z"
   },
   {
    "duration": 3,
    "start_time": "2024-09-17T03:20:26.852Z"
   },
   {
    "duration": 3,
    "start_time": "2024-09-17T03:20:26.856Z"
   },
   {
    "duration": 49,
    "start_time": "2024-09-17T03:20:26.860Z"
   },
   {
    "duration": 2,
    "start_time": "2024-09-17T03:20:26.910Z"
   },
   {
    "duration": 2,
    "start_time": "2024-09-17T03:20:26.914Z"
   },
   {
    "duration": 3,
    "start_time": "2024-09-17T03:20:26.917Z"
   },
   {
    "duration": 2,
    "start_time": "2024-09-17T03:20:26.923Z"
   },
   {
    "duration": 3,
    "start_time": "2024-09-17T03:20:26.926Z"
   },
   {
    "duration": 2,
    "start_time": "2024-09-17T03:20:26.931Z"
   },
   {
    "duration": 3,
    "start_time": "2024-09-17T03:20:26.935Z"
   },
   {
    "duration": 4,
    "start_time": "2024-09-17T03:20:26.939Z"
   },
   {
    "duration": 3,
    "start_time": "2024-09-17T03:20:26.944Z"
   },
   {
    "duration": 3,
    "start_time": "2024-09-17T03:20:26.949Z"
   },
   {
    "duration": 3,
    "start_time": "2024-09-17T03:20:26.953Z"
   },
   {
    "duration": 3,
    "start_time": "2024-09-17T03:20:26.958Z"
   },
   {
    "duration": 11,
    "start_time": "2024-09-17T03:20:41.004Z"
   },
   {
    "duration": 13,
    "start_time": "2024-09-17T03:21:36.570Z"
   },
   {
    "duration": 3,
    "start_time": "2024-09-17T03:21:45.112Z"
   },
   {
    "duration": 165,
    "start_time": "2024-09-17T03:21:45.118Z"
   },
   {
    "duration": 6,
    "start_time": "2024-09-17T03:21:45.286Z"
   },
   {
    "duration": 9,
    "start_time": "2024-09-17T03:21:45.309Z"
   },
   {
    "duration": 6,
    "start_time": "2024-09-17T03:21:45.320Z"
   },
   {
    "duration": 6,
    "start_time": "2024-09-17T03:21:45.328Z"
   },
   {
    "duration": 4,
    "start_time": "2024-09-17T03:21:45.335Z"
   },
   {
    "duration": 11,
    "start_time": "2024-09-17T03:21:45.341Z"
   },
   {
    "duration": 61,
    "start_time": "2024-09-17T03:21:45.354Z"
   },
   {
    "duration": 6,
    "start_time": "2024-09-17T03:21:45.416Z"
   },
   {
    "duration": 14,
    "start_time": "2024-09-17T03:21:45.425Z"
   },
   {
    "duration": 77,
    "start_time": "2024-09-17T03:21:45.441Z"
   },
   {
    "duration": 33,
    "start_time": "2024-09-17T03:21:45.520Z"
   },
   {
    "duration": 12,
    "start_time": "2024-09-17T03:21:45.555Z"
   },
   {
    "duration": 41,
    "start_time": "2024-09-17T03:21:45.569Z"
   },
   {
    "duration": 71,
    "start_time": "2024-09-17T03:21:45.612Z"
   },
   {
    "duration": 6,
    "start_time": "2024-09-17T03:21:45.685Z"
   },
   {
    "duration": 13,
    "start_time": "2024-09-17T03:21:45.708Z"
   },
   {
    "duration": 25,
    "start_time": "2024-09-17T03:21:45.724Z"
   },
   {
    "duration": 17,
    "start_time": "2024-09-17T03:21:45.751Z"
   },
   {
    "duration": 8,
    "start_time": "2024-09-17T03:21:45.770Z"
   },
   {
    "duration": 62,
    "start_time": "2024-09-17T03:21:45.780Z"
   },
   {
    "duration": 7,
    "start_time": "2024-09-17T03:21:45.844Z"
   },
   {
    "duration": 14,
    "start_time": "2024-09-17T03:21:45.852Z"
   },
   {
    "duration": 82,
    "start_time": "2024-09-17T03:21:45.867Z"
   },
   {
    "duration": 36,
    "start_time": "2024-09-17T03:21:45.950Z"
   },
   {
    "duration": 27,
    "start_time": "2024-09-17T03:21:45.988Z"
   },
   {
    "duration": 16,
    "start_time": "2024-09-17T03:21:46.017Z"
   },
   {
    "duration": 77,
    "start_time": "2024-09-17T03:21:46.038Z"
   },
   {
    "duration": 111,
    "start_time": "2024-09-17T03:21:46.118Z"
   },
   {
    "duration": 8,
    "start_time": "2024-09-17T03:21:46.231Z"
   },
   {
    "duration": 8,
    "start_time": "2024-09-17T03:21:46.241Z"
   },
   {
    "duration": 4,
    "start_time": "2024-09-17T03:21:46.250Z"
   },
   {
    "duration": 5,
    "start_time": "2024-09-17T03:21:46.255Z"
   },
   {
    "duration": 12,
    "start_time": "2024-09-17T03:21:46.261Z"
   },
   {
    "duration": 46,
    "start_time": "2024-09-17T03:21:46.274Z"
   },
   {
    "duration": 2,
    "start_time": "2024-09-17T03:21:46.322Z"
   },
   {
    "duration": 3,
    "start_time": "2024-09-17T03:21:46.325Z"
   },
   {
    "duration": 2,
    "start_time": "2024-09-17T03:21:46.330Z"
   },
   {
    "duration": 3,
    "start_time": "2024-09-17T03:21:46.333Z"
   },
   {
    "duration": 2,
    "start_time": "2024-09-17T03:21:46.338Z"
   },
   {
    "duration": 3,
    "start_time": "2024-09-17T03:21:46.342Z"
   },
   {
    "duration": 3,
    "start_time": "2024-09-17T03:21:46.346Z"
   },
   {
    "duration": 4,
    "start_time": "2024-09-17T03:21:46.350Z"
   },
   {
    "duration": 3,
    "start_time": "2024-09-17T03:21:46.355Z"
   },
   {
    "duration": 48,
    "start_time": "2024-09-17T03:21:46.360Z"
   },
   {
    "duration": 3,
    "start_time": "2024-09-17T03:21:46.410Z"
   },
   {
    "duration": 3,
    "start_time": "2024-09-17T03:21:46.414Z"
   },
   {
    "duration": 3,
    "start_time": "2024-09-17T03:21:46.418Z"
   },
   {
    "duration": 3,
    "start_time": "2024-09-17T03:21:46.423Z"
   },
   {
    "duration": 2,
    "start_time": "2024-09-17T03:21:46.428Z"
   },
   {
    "duration": 2,
    "start_time": "2024-09-17T03:21:46.432Z"
   },
   {
    "duration": 3,
    "start_time": "2024-09-17T03:21:46.436Z"
   },
   {
    "duration": 3,
    "start_time": "2024-09-17T03:21:46.440Z"
   },
   {
    "duration": 3,
    "start_time": "2024-09-17T03:21:46.444Z"
   },
   {
    "duration": 3,
    "start_time": "2024-09-17T03:21:46.448Z"
   },
   {
    "duration": 3,
    "start_time": "2024-09-17T03:21:46.452Z"
   },
   {
    "duration": 3,
    "start_time": "2024-09-17T03:21:46.457Z"
   },
   {
    "duration": 3,
    "start_time": "2024-09-17T03:21:46.461Z"
   },
   {
    "duration": 2,
    "start_time": "2024-09-17T03:21:46.509Z"
   },
   {
    "duration": 14,
    "start_time": "2024-09-17T03:22:22.579Z"
   },
   {
    "duration": 323,
    "start_time": "2024-09-17T03:23:09.114Z"
   },
   {
    "duration": 3,
    "start_time": "2024-09-17T03:23:13.285Z"
   },
   {
    "duration": 158,
    "start_time": "2024-09-17T03:23:13.290Z"
   },
   {
    "duration": 5,
    "start_time": "2024-09-17T03:23:13.451Z"
   },
   {
    "duration": 9,
    "start_time": "2024-09-17T03:23:13.459Z"
   },
   {
    "duration": 7,
    "start_time": "2024-09-17T03:23:13.470Z"
   },
   {
    "duration": 34,
    "start_time": "2024-09-17T03:23:13.479Z"
   },
   {
    "duration": 4,
    "start_time": "2024-09-17T03:23:13.515Z"
   },
   {
    "duration": 12,
    "start_time": "2024-09-17T03:23:13.520Z"
   },
   {
    "duration": 16,
    "start_time": "2024-09-17T03:23:13.534Z"
   },
   {
    "duration": 4,
    "start_time": "2024-09-17T03:23:13.551Z"
   },
   {
    "duration": 56,
    "start_time": "2024-09-17T03:23:13.558Z"
   },
   {
    "duration": 59,
    "start_time": "2024-09-17T03:23:13.615Z"
   },
   {
    "duration": 53,
    "start_time": "2024-09-17T03:23:13.676Z"
   },
   {
    "duration": 11,
    "start_time": "2024-09-17T03:23:13.731Z"
   },
   {
    "duration": 17,
    "start_time": "2024-09-17T03:23:13.743Z"
   },
   {
    "duration": 89,
    "start_time": "2024-09-17T03:23:13.761Z"
   },
   {
    "duration": 6,
    "start_time": "2024-09-17T03:23:13.852Z"
   },
   {
    "duration": 12,
    "start_time": "2024-09-17T03:23:13.859Z"
   },
   {
    "duration": 45,
    "start_time": "2024-09-17T03:23:13.873Z"
   },
   {
    "duration": 17,
    "start_time": "2024-09-17T03:23:13.920Z"
   },
   {
    "duration": 8,
    "start_time": "2024-09-17T03:23:13.938Z"
   },
   {
    "duration": 41,
    "start_time": "2024-09-17T03:23:13.947Z"
   },
   {
    "duration": 8,
    "start_time": "2024-09-17T03:23:14.009Z"
   },
   {
    "duration": 18,
    "start_time": "2024-09-17T03:23:14.020Z"
   },
   {
    "duration": 94,
    "start_time": "2024-09-17T03:23:14.039Z"
   },
   {
    "duration": 42,
    "start_time": "2024-09-17T03:23:14.134Z"
   },
   {
    "duration": 10,
    "start_time": "2024-09-17T03:23:14.178Z"
   },
   {
    "duration": 31,
    "start_time": "2024-09-17T03:23:14.189Z"
   },
   {
    "duration": 58,
    "start_time": "2024-09-17T03:23:14.224Z"
   },
   {
    "duration": 117,
    "start_time": "2024-09-17T03:23:14.283Z"
   },
   {
    "duration": 12,
    "start_time": "2024-09-17T03:23:14.402Z"
   },
   {
    "duration": 9,
    "start_time": "2024-09-17T03:23:14.415Z"
   },
   {
    "duration": 4,
    "start_time": "2024-09-17T03:23:14.425Z"
   },
   {
    "duration": 6,
    "start_time": "2024-09-17T03:23:14.430Z"
   },
   {
    "duration": 12,
    "start_time": "2024-09-17T03:23:14.437Z"
   },
   {
    "duration": 12,
    "start_time": "2024-09-17T03:23:14.450Z"
   },
   {
    "duration": 52,
    "start_time": "2024-09-17T03:23:14.463Z"
   },
   {
    "duration": 2,
    "start_time": "2024-09-17T03:23:14.517Z"
   },
   {
    "duration": 3,
    "start_time": "2024-09-17T03:23:14.520Z"
   },
   {
    "duration": 2,
    "start_time": "2024-09-17T03:23:14.524Z"
   },
   {
    "duration": 2,
    "start_time": "2024-09-17T03:23:14.528Z"
   },
   {
    "duration": 3,
    "start_time": "2024-09-17T03:23:14.532Z"
   },
   {
    "duration": 2,
    "start_time": "2024-09-17T03:23:14.537Z"
   },
   {
    "duration": 2,
    "start_time": "2024-09-17T03:23:14.542Z"
   },
   {
    "duration": 2,
    "start_time": "2024-09-17T03:23:14.546Z"
   },
   {
    "duration": 2,
    "start_time": "2024-09-17T03:23:14.550Z"
   },
   {
    "duration": 2,
    "start_time": "2024-09-17T03:23:14.554Z"
   },
   {
    "duration": 52,
    "start_time": "2024-09-17T03:23:14.557Z"
   },
   {
    "duration": 2,
    "start_time": "2024-09-17T03:23:14.611Z"
   },
   {
    "duration": 2,
    "start_time": "2024-09-17T03:23:14.615Z"
   },
   {
    "duration": 2,
    "start_time": "2024-09-17T03:23:14.619Z"
   },
   {
    "duration": 2,
    "start_time": "2024-09-17T03:23:14.623Z"
   },
   {
    "duration": 4,
    "start_time": "2024-09-17T03:23:14.627Z"
   },
   {
    "duration": 3,
    "start_time": "2024-09-17T03:23:14.632Z"
   },
   {
    "duration": 2,
    "start_time": "2024-09-17T03:23:14.636Z"
   },
   {
    "duration": 2,
    "start_time": "2024-09-17T03:23:14.640Z"
   },
   {
    "duration": 2,
    "start_time": "2024-09-17T03:23:14.644Z"
   },
   {
    "duration": 2,
    "start_time": "2024-09-17T03:23:14.648Z"
   },
   {
    "duration": 2,
    "start_time": "2024-09-17T03:23:14.652Z"
   },
   {
    "duration": 53,
    "start_time": "2024-09-17T03:23:14.656Z"
   },
   {
    "duration": 3,
    "start_time": "2024-09-17T03:23:14.711Z"
   },
   {
    "duration": 3,
    "start_time": "2024-09-17T03:24:00.379Z"
   },
   {
    "duration": 157,
    "start_time": "2024-09-17T03:24:00.385Z"
   },
   {
    "duration": 6,
    "start_time": "2024-09-17T03:24:00.544Z"
   },
   {
    "duration": 8,
    "start_time": "2024-09-17T03:24:00.551Z"
   },
   {
    "duration": 6,
    "start_time": "2024-09-17T03:24:00.562Z"
   },
   {
    "duration": 6,
    "start_time": "2024-09-17T03:24:00.569Z"
   },
   {
    "duration": 35,
    "start_time": "2024-09-17T03:24:00.577Z"
   },
   {
    "duration": 11,
    "start_time": "2024-09-17T03:24:00.614Z"
   },
   {
    "duration": 18,
    "start_time": "2024-09-17T03:24:00.627Z"
   },
   {
    "duration": 5,
    "start_time": "2024-09-17T03:24:00.646Z"
   },
   {
    "duration": 15,
    "start_time": "2024-09-17T03:24:00.655Z"
   },
   {
    "duration": 50,
    "start_time": "2024-09-17T03:24:00.710Z"
   },
   {
    "duration": 47,
    "start_time": "2024-09-17T03:24:00.762Z"
   },
   {
    "duration": 12,
    "start_time": "2024-09-17T03:24:00.810Z"
   },
   {
    "duration": 16,
    "start_time": "2024-09-17T03:24:00.823Z"
   },
   {
    "duration": 90,
    "start_time": "2024-09-17T03:24:00.841Z"
   },
   {
    "duration": 6,
    "start_time": "2024-09-17T03:24:00.934Z"
   },
   {
    "duration": 12,
    "start_time": "2024-09-17T03:24:00.943Z"
   },
   {
    "duration": 54,
    "start_time": "2024-09-17T03:24:00.957Z"
   },
   {
    "duration": 18,
    "start_time": "2024-09-17T03:24:01.013Z"
   },
   {
    "duration": 8,
    "start_time": "2024-09-17T03:24:01.033Z"
   },
   {
    "duration": 39,
    "start_time": "2024-09-17T03:24:01.042Z"
   },
   {
    "duration": 27,
    "start_time": "2024-09-17T03:24:01.083Z"
   },
   {
    "duration": 14,
    "start_time": "2024-09-17T03:24:01.112Z"
   },
   {
    "duration": 83,
    "start_time": "2024-09-17T03:24:01.128Z"
   },
   {
    "duration": 36,
    "start_time": "2024-09-17T03:24:01.212Z"
   },
   {
    "duration": 10,
    "start_time": "2024-09-17T03:24:01.250Z"
   },
   {
    "duration": 15,
    "start_time": "2024-09-17T03:24:01.262Z"
   },
   {
    "duration": 82,
    "start_time": "2024-09-17T03:24:01.281Z"
   },
   {
    "duration": 113,
    "start_time": "2024-09-17T03:24:01.365Z"
   },
   {
    "duration": 7,
    "start_time": "2024-09-17T03:24:01.480Z"
   },
   {
    "duration": 21,
    "start_time": "2024-09-17T03:24:01.489Z"
   },
   {
    "duration": 4,
    "start_time": "2024-09-17T03:24:01.512Z"
   },
   {
    "duration": 4,
    "start_time": "2024-09-17T03:24:01.518Z"
   },
   {
    "duration": 11,
    "start_time": "2024-09-17T03:24:01.524Z"
   },
   {
    "duration": 11,
    "start_time": "2024-09-17T03:24:01.537Z"
   },
   {
    "duration": 13,
    "start_time": "2024-09-17T03:24:01.550Z"
   },
   {
    "duration": 2,
    "start_time": "2024-09-17T03:24:01.565Z"
   },
   {
    "duration": 42,
    "start_time": "2024-09-17T03:24:01.569Z"
   },
   {
    "duration": 2,
    "start_time": "2024-09-17T03:24:01.612Z"
   },
   {
    "duration": 3,
    "start_time": "2024-09-17T03:24:01.616Z"
   },
   {
    "duration": 3,
    "start_time": "2024-09-17T03:24:01.620Z"
   },
   {
    "duration": 3,
    "start_time": "2024-09-17T03:24:01.624Z"
   },
   {
    "duration": 3,
    "start_time": "2024-09-17T03:24:01.629Z"
   },
   {
    "duration": 3,
    "start_time": "2024-09-17T03:24:01.633Z"
   },
   {
    "duration": 3,
    "start_time": "2024-09-17T03:24:01.638Z"
   },
   {
    "duration": 3,
    "start_time": "2024-09-17T03:24:01.642Z"
   },
   {
    "duration": 2,
    "start_time": "2024-09-17T03:24:01.647Z"
   },
   {
    "duration": 2,
    "start_time": "2024-09-17T03:24:01.651Z"
   },
   {
    "duration": 3,
    "start_time": "2024-09-17T03:24:01.655Z"
   },
   {
    "duration": 50,
    "start_time": "2024-09-17T03:24:01.660Z"
   },
   {
    "duration": 3,
    "start_time": "2024-09-17T03:24:01.712Z"
   },
   {
    "duration": 3,
    "start_time": "2024-09-17T03:24:01.716Z"
   },
   {
    "duration": 3,
    "start_time": "2024-09-17T03:24:01.721Z"
   },
   {
    "duration": 3,
    "start_time": "2024-09-17T03:24:01.725Z"
   },
   {
    "duration": 2,
    "start_time": "2024-09-17T03:24:01.730Z"
   },
   {
    "duration": 3,
    "start_time": "2024-09-17T03:24:01.733Z"
   },
   {
    "duration": 2,
    "start_time": "2024-09-17T03:24:01.738Z"
   },
   {
    "duration": 2,
    "start_time": "2024-09-17T03:24:01.742Z"
   },
   {
    "duration": 3,
    "start_time": "2024-09-17T03:24:01.746Z"
   },
   {
    "duration": 3,
    "start_time": "2024-09-17T03:24:01.750Z"
   },
   {
    "duration": 15,
    "start_time": "2024-09-17T03:29:16.193Z"
   },
   {
    "duration": 5,
    "start_time": "2024-09-17T03:29:26.365Z"
   },
   {
    "duration": 171,
    "start_time": "2024-09-17T18:25:24.048Z"
   },
   {
    "duration": 2529,
    "start_time": "2024-09-17T18:25:26.940Z"
   },
   {
    "duration": 273,
    "start_time": "2024-09-17T18:25:29.471Z"
   },
   {
    "duration": 8,
    "start_time": "2024-09-17T18:25:29.746Z"
   },
   {
    "duration": 11,
    "start_time": "2024-09-17T18:25:29.757Z"
   },
   {
    "duration": 8,
    "start_time": "2024-09-17T18:25:29.770Z"
   },
   {
    "duration": 6,
    "start_time": "2024-09-17T18:25:29.780Z"
   },
   {
    "duration": 5,
    "start_time": "2024-09-17T18:25:29.806Z"
   },
   {
    "duration": 15,
    "start_time": "2024-09-17T18:25:29.813Z"
   },
   {
    "duration": 24,
    "start_time": "2024-09-17T18:25:29.830Z"
   },
   {
    "duration": 5,
    "start_time": "2024-09-17T18:25:29.860Z"
   },
   {
    "duration": 47,
    "start_time": "2024-09-17T18:25:29.867Z"
   },
   {
    "duration": 94,
    "start_time": "2024-09-17T18:25:29.916Z"
   },
   {
    "duration": 38,
    "start_time": "2024-09-17T18:25:30.012Z"
   },
   {
    "duration": 12,
    "start_time": "2024-09-17T18:25:30.052Z"
   },
   {
    "duration": 42,
    "start_time": "2024-09-17T18:25:30.068Z"
   },
   {
    "duration": 82,
    "start_time": "2024-09-17T18:25:30.112Z"
   },
   {
    "duration": 16,
    "start_time": "2024-09-17T18:25:30.195Z"
   },
   {
    "duration": 16,
    "start_time": "2024-09-17T18:25:30.213Z"
   },
   {
    "duration": 25,
    "start_time": "2024-09-17T18:25:30.230Z"
   },
   {
    "duration": 18,
    "start_time": "2024-09-17T18:25:30.257Z"
   },
   {
    "duration": 33,
    "start_time": "2024-09-17T18:25:30.277Z"
   },
   {
    "duration": 41,
    "start_time": "2024-09-17T18:25:30.312Z"
   },
   {
    "duration": 6,
    "start_time": "2024-09-17T18:25:30.355Z"
   },
   {
    "duration": 13,
    "start_time": "2024-09-17T18:25:30.363Z"
   },
   {
    "duration": 69,
    "start_time": "2024-09-17T18:25:30.406Z"
   },
   {
    "duration": 66,
    "start_time": "2024-09-17T18:25:30.479Z"
   },
   {
    "duration": 11,
    "start_time": "2024-09-17T18:25:30.548Z"
   },
   {
    "duration": 21,
    "start_time": "2024-09-17T18:25:30.565Z"
   },
   {
    "duration": 106,
    "start_time": "2024-09-17T18:25:30.587Z"
   },
   {
    "duration": 117,
    "start_time": "2024-09-17T18:25:30.695Z"
   },
   {
    "duration": 10,
    "start_time": "2024-09-17T18:25:30.815Z"
   },
   {
    "duration": 11,
    "start_time": "2024-09-17T18:25:30.827Z"
   },
   {
    "duration": 4,
    "start_time": "2024-09-17T18:25:30.840Z"
   },
   {
    "duration": 3,
    "start_time": "2024-09-17T18:25:30.846Z"
   },
   {
    "duration": 13,
    "start_time": "2024-09-17T18:25:30.851Z"
   },
   {
    "duration": 46,
    "start_time": "2024-09-17T18:25:30.866Z"
   },
   {
    "duration": 13,
    "start_time": "2024-09-17T18:25:30.914Z"
   },
   {
    "duration": 3,
    "start_time": "2024-09-17T18:25:30.930Z"
   },
   {
    "duration": 2,
    "start_time": "2024-09-17T18:25:30.935Z"
   },
   {
    "duration": 3,
    "start_time": "2024-09-17T18:25:30.939Z"
   },
   {
    "duration": 2,
    "start_time": "2024-09-17T18:25:30.944Z"
   },
   {
    "duration": 3,
    "start_time": "2024-09-17T18:25:30.948Z"
   },
   {
    "duration": 2,
    "start_time": "2024-09-17T18:25:30.953Z"
   },
   {
    "duration": 3,
    "start_time": "2024-09-17T18:25:30.957Z"
   },
   {
    "duration": 43,
    "start_time": "2024-09-17T18:25:30.962Z"
   },
   {
    "duration": 3,
    "start_time": "2024-09-17T18:25:31.007Z"
   },
   {
    "duration": 2,
    "start_time": "2024-09-17T18:25:31.012Z"
   },
   {
    "duration": 4,
    "start_time": "2024-09-17T18:25:31.017Z"
   },
   {
    "duration": 4,
    "start_time": "2024-09-17T18:25:31.023Z"
   },
   {
    "duration": 2,
    "start_time": "2024-09-17T18:25:31.028Z"
   },
   {
    "duration": 2,
    "start_time": "2024-09-17T18:25:31.032Z"
   },
   {
    "duration": 2,
    "start_time": "2024-09-17T18:25:31.036Z"
   },
   {
    "duration": 2,
    "start_time": "2024-09-17T18:25:31.039Z"
   },
   {
    "duration": 2,
    "start_time": "2024-09-17T18:25:31.043Z"
   },
   {
    "duration": 2,
    "start_time": "2024-09-17T18:25:31.047Z"
   },
   {
    "duration": 3,
    "start_time": "2024-09-17T18:25:31.050Z"
   },
   {
    "duration": 3,
    "start_time": "2024-09-17T18:25:31.054Z"
   },
   {
    "duration": 2,
    "start_time": "2024-09-17T18:25:31.105Z"
   },
   {
    "duration": 2,
    "start_time": "2024-09-17T18:25:31.109Z"
   },
   {
    "duration": 2,
    "start_time": "2024-09-17T18:25:31.113Z"
   },
   {
    "duration": 3,
    "start_time": "2024-09-17T18:25:31.117Z"
   },
   {
    "duration": 17,
    "start_time": "2024-09-17T18:26:43.013Z"
   },
   {
    "duration": 5,
    "start_time": "2024-09-17T18:28:18.317Z"
   },
   {
    "duration": 5,
    "start_time": "2024-09-17T18:28:23.852Z"
   },
   {
    "duration": 5,
    "start_time": "2024-09-17T18:28:31.531Z"
   },
   {
    "duration": 5,
    "start_time": "2024-09-17T18:28:38.250Z"
   },
   {
    "duration": 317,
    "start_time": "2024-09-17T18:44:08.964Z"
   },
   {
    "duration": 3,
    "start_time": "2024-09-17T18:44:25.075Z"
   },
   {
    "duration": 160,
    "start_time": "2024-09-17T18:44:25.080Z"
   },
   {
    "duration": 6,
    "start_time": "2024-09-17T18:44:25.243Z"
   },
   {
    "duration": 8,
    "start_time": "2024-09-17T18:44:25.252Z"
   },
   {
    "duration": 5,
    "start_time": "2024-09-17T18:44:25.263Z"
   },
   {
    "duration": 5,
    "start_time": "2024-09-17T18:44:25.269Z"
   },
   {
    "duration": 32,
    "start_time": "2024-09-17T18:44:25.276Z"
   },
   {
    "duration": 11,
    "start_time": "2024-09-17T18:44:25.310Z"
   },
   {
    "duration": 15,
    "start_time": "2024-09-17T18:44:25.324Z"
   },
   {
    "duration": 4,
    "start_time": "2024-09-17T18:44:25.340Z"
   },
   {
    "duration": 14,
    "start_time": "2024-09-17T18:44:25.347Z"
   },
   {
    "duration": 97,
    "start_time": "2024-09-17T18:44:25.362Z"
   },
   {
    "duration": 44,
    "start_time": "2024-09-17T18:44:25.461Z"
   },
   {
    "duration": 11,
    "start_time": "2024-09-17T18:44:25.507Z"
   },
   {
    "duration": 15,
    "start_time": "2024-09-17T18:44:25.520Z"
   },
   {
    "duration": 88,
    "start_time": "2024-09-17T18:44:25.537Z"
   },
   {
    "duration": 6,
    "start_time": "2024-09-17T18:44:25.626Z"
   },
   {
    "duration": 12,
    "start_time": "2024-09-17T18:44:25.634Z"
   },
   {
    "duration": 28,
    "start_time": "2024-09-17T18:44:25.647Z"
   },
   {
    "duration": 38,
    "start_time": "2024-09-17T18:44:25.676Z"
   },
   {
    "duration": 7,
    "start_time": "2024-09-17T18:44:25.716Z"
   },
   {
    "duration": 38,
    "start_time": "2024-09-17T18:44:25.725Z"
   },
   {
    "duration": 7,
    "start_time": "2024-09-17T18:44:25.765Z"
   },
   {
    "duration": 13,
    "start_time": "2024-09-17T18:44:25.805Z"
   },
   {
    "duration": 63,
    "start_time": "2024-09-17T18:44:25.820Z"
   },
   {
    "duration": 53,
    "start_time": "2024-09-17T18:44:25.884Z"
   },
   {
    "duration": 9,
    "start_time": "2024-09-17T18:44:25.939Z"
   },
   {
    "duration": 15,
    "start_time": "2024-09-17T18:44:25.950Z"
   },
   {
    "duration": 75,
    "start_time": "2024-09-17T18:44:25.967Z"
   },
   {
    "duration": 111,
    "start_time": "2024-09-17T18:44:26.046Z"
   },
   {
    "duration": 7,
    "start_time": "2024-09-17T18:44:26.158Z"
   },
   {
    "duration": 8,
    "start_time": "2024-09-17T18:44:26.167Z"
   },
   {
    "duration": 4,
    "start_time": "2024-09-17T18:44:26.176Z"
   },
   {
    "duration": 25,
    "start_time": "2024-09-17T18:44:26.182Z"
   },
   {
    "duration": 5,
    "start_time": "2024-09-17T18:44:26.209Z"
   },
   {
    "duration": 26,
    "start_time": "2024-09-17T18:44:26.215Z"
   },
   {
    "duration": 0,
    "start_time": "2024-09-17T18:44:26.242Z"
   },
   {
    "duration": 0,
    "start_time": "2024-09-17T18:44:26.243Z"
   },
   {
    "duration": 0,
    "start_time": "2024-09-17T18:44:26.244Z"
   },
   {
    "duration": 0,
    "start_time": "2024-09-17T18:44:26.245Z"
   },
   {
    "duration": 0,
    "start_time": "2024-09-17T18:44:26.247Z"
   },
   {
    "duration": 0,
    "start_time": "2024-09-17T18:44:26.248Z"
   },
   {
    "duration": 0,
    "start_time": "2024-09-17T18:44:26.249Z"
   },
   {
    "duration": 0,
    "start_time": "2024-09-17T18:44:26.250Z"
   },
   {
    "duration": 0,
    "start_time": "2024-09-17T18:44:26.251Z"
   },
   {
    "duration": 0,
    "start_time": "2024-09-17T18:44:26.251Z"
   },
   {
    "duration": 0,
    "start_time": "2024-09-17T18:44:26.253Z"
   },
   {
    "duration": 0,
    "start_time": "2024-09-17T18:44:26.253Z"
   },
   {
    "duration": 0,
    "start_time": "2024-09-17T18:44:26.254Z"
   },
   {
    "duration": 0,
    "start_time": "2024-09-17T18:44:26.255Z"
   },
   {
    "duration": 0,
    "start_time": "2024-09-17T18:44:26.256Z"
   },
   {
    "duration": 0,
    "start_time": "2024-09-17T18:44:26.257Z"
   },
   {
    "duration": 0,
    "start_time": "2024-09-17T18:44:26.259Z"
   },
   {
    "duration": 0,
    "start_time": "2024-09-17T18:44:26.260Z"
   },
   {
    "duration": 0,
    "start_time": "2024-09-17T18:44:26.306Z"
   },
   {
    "duration": 0,
    "start_time": "2024-09-17T18:44:26.307Z"
   },
   {
    "duration": 0,
    "start_time": "2024-09-17T18:44:26.308Z"
   },
   {
    "duration": 0,
    "start_time": "2024-09-17T18:44:26.309Z"
   },
   {
    "duration": 0,
    "start_time": "2024-09-17T18:44:26.311Z"
   },
   {
    "duration": 0,
    "start_time": "2024-09-17T18:44:26.312Z"
   },
   {
    "duration": 0,
    "start_time": "2024-09-17T18:44:26.313Z"
   },
   {
    "duration": 0,
    "start_time": "2024-09-17T18:44:26.314Z"
   },
   {
    "duration": 0,
    "start_time": "2024-09-17T18:44:26.315Z"
   },
   {
    "duration": 24,
    "start_time": "2024-09-17T18:44:54.047Z"
   },
   {
    "duration": 5,
    "start_time": "2024-09-17T18:46:04.830Z"
   },
   {
    "duration": 15,
    "start_time": "2024-09-17T18:46:14.549Z"
   },
   {
    "duration": 26,
    "start_time": "2024-09-17T18:46:40.067Z"
   },
   {
    "duration": 8,
    "start_time": "2024-09-17T18:46:43.880Z"
   },
   {
    "duration": 12,
    "start_time": "2024-09-17T18:46:49.059Z"
   },
   {
    "duration": 12,
    "start_time": "2024-09-17T18:49:42.445Z"
   },
   {
    "duration": 2,
    "start_time": "2024-09-17T18:51:00.326Z"
   },
   {
    "duration": 166,
    "start_time": "2024-09-17T18:51:00.331Z"
   },
   {
    "duration": 8,
    "start_time": "2024-09-17T18:51:00.499Z"
   },
   {
    "duration": 8,
    "start_time": "2024-09-17T18:51:00.509Z"
   },
   {
    "duration": 7,
    "start_time": "2024-09-17T18:51:00.519Z"
   },
   {
    "duration": 5,
    "start_time": "2024-09-17T18:51:00.528Z"
   },
   {
    "duration": 4,
    "start_time": "2024-09-17T18:51:00.534Z"
   },
   {
    "duration": 11,
    "start_time": "2024-09-17T18:51:00.540Z"
   },
   {
    "duration": 56,
    "start_time": "2024-09-17T18:51:00.553Z"
   },
   {
    "duration": 4,
    "start_time": "2024-09-17T18:51:00.611Z"
   },
   {
    "duration": 15,
    "start_time": "2024-09-17T18:51:00.619Z"
   },
   {
    "duration": 79,
    "start_time": "2024-09-17T18:51:00.635Z"
   },
   {
    "duration": 35,
    "start_time": "2024-09-17T18:51:00.717Z"
   },
   {
    "duration": 11,
    "start_time": "2024-09-17T18:51:00.754Z"
   },
   {
    "duration": 15,
    "start_time": "2024-09-17T18:51:00.767Z"
   },
   {
    "duration": 65,
    "start_time": "2024-09-17T18:51:00.806Z"
   },
   {
    "duration": 6,
    "start_time": "2024-09-17T18:51:00.872Z"
   },
   {
    "duration": 30,
    "start_time": "2024-09-17T18:51:00.880Z"
   },
   {
    "duration": 25,
    "start_time": "2024-09-17T18:51:00.911Z"
   },
   {
    "duration": 17,
    "start_time": "2024-09-17T18:51:00.938Z"
   },
   {
    "duration": 8,
    "start_time": "2024-09-17T18:51:00.956Z"
   },
   {
    "duration": 61,
    "start_time": "2024-09-17T18:51:00.965Z"
   },
   {
    "duration": 6,
    "start_time": "2024-09-17T18:51:01.028Z"
   },
   {
    "duration": 13,
    "start_time": "2024-09-17T18:51:01.035Z"
   },
   {
    "duration": 77,
    "start_time": "2024-09-17T18:51:01.050Z"
   },
   {
    "duration": 38,
    "start_time": "2024-09-17T18:51:01.129Z"
   },
   {
    "duration": 10,
    "start_time": "2024-09-17T18:51:01.169Z"
   },
   {
    "duration": 35,
    "start_time": "2024-09-17T18:51:01.180Z"
   },
   {
    "duration": 69,
    "start_time": "2024-09-17T18:51:01.219Z"
   },
   {
    "duration": 115,
    "start_time": "2024-09-17T18:51:01.290Z"
   },
   {
    "duration": 7,
    "start_time": "2024-09-17T18:51:01.407Z"
   },
   {
    "duration": 10,
    "start_time": "2024-09-17T18:51:01.415Z"
   },
   {
    "duration": 3,
    "start_time": "2024-09-17T18:51:01.427Z"
   },
   {
    "duration": 4,
    "start_time": "2024-09-17T18:51:01.432Z"
   },
   {
    "duration": 4,
    "start_time": "2024-09-17T18:51:01.438Z"
   },
   {
    "duration": 10,
    "start_time": "2024-09-17T18:51:01.444Z"
   },
   {
    "duration": 52,
    "start_time": "2024-09-17T18:51:01.455Z"
   },
   {
    "duration": 9,
    "start_time": "2024-09-17T18:51:01.508Z"
   },
   {
    "duration": 6,
    "start_time": "2024-09-17T18:51:01.519Z"
   },
   {
    "duration": 3,
    "start_time": "2024-09-17T18:51:01.526Z"
   },
   {
    "duration": 3,
    "start_time": "2024-09-17T18:51:01.530Z"
   },
   {
    "duration": 3,
    "start_time": "2024-09-17T18:51:01.534Z"
   },
   {
    "duration": 3,
    "start_time": "2024-09-17T18:51:01.538Z"
   },
   {
    "duration": 3,
    "start_time": "2024-09-17T18:51:01.542Z"
   },
   {
    "duration": 3,
    "start_time": "2024-09-17T18:51:01.546Z"
   },
   {
    "duration": 2,
    "start_time": "2024-09-17T18:51:01.550Z"
   },
   {
    "duration": 3,
    "start_time": "2024-09-17T18:51:01.554Z"
   },
   {
    "duration": 1,
    "start_time": "2024-09-17T18:51:01.606Z"
   },
   {
    "duration": 3,
    "start_time": "2024-09-17T18:51:01.609Z"
   },
   {
    "duration": 2,
    "start_time": "2024-09-17T18:51:01.613Z"
   },
   {
    "duration": 5,
    "start_time": "2024-09-17T18:51:01.617Z"
   },
   {
    "duration": 2,
    "start_time": "2024-09-17T18:51:01.624Z"
   },
   {
    "duration": 2,
    "start_time": "2024-09-17T18:51:01.628Z"
   },
   {
    "duration": 3,
    "start_time": "2024-09-17T18:51:01.631Z"
   },
   {
    "duration": 2,
    "start_time": "2024-09-17T18:51:01.635Z"
   },
   {
    "duration": 2,
    "start_time": "2024-09-17T18:51:01.639Z"
   },
   {
    "duration": 3,
    "start_time": "2024-09-17T18:51:01.643Z"
   },
   {
    "duration": 2,
    "start_time": "2024-09-17T18:51:01.647Z"
   },
   {
    "duration": 2,
    "start_time": "2024-09-17T18:51:01.652Z"
   },
   {
    "duration": 49,
    "start_time": "2024-09-17T18:51:01.656Z"
   },
   {
    "duration": 2,
    "start_time": "2024-09-17T18:51:01.708Z"
   },
   {
    "duration": 2,
    "start_time": "2024-09-17T18:51:01.712Z"
   },
   {
    "duration": 2,
    "start_time": "2024-09-17T18:51:01.716Z"
   },
   {
    "duration": 8,
    "start_time": "2024-09-17T18:52:56.600Z"
   },
   {
    "duration": 736,
    "start_time": "2024-09-17T18:53:07.896Z"
   },
   {
    "duration": 157,
    "start_time": "2024-09-17T18:53:08.635Z"
   },
   {
    "duration": 7,
    "start_time": "2024-09-17T18:53:08.793Z"
   },
   {
    "duration": 9,
    "start_time": "2024-09-17T18:53:08.802Z"
   },
   {
    "duration": 8,
    "start_time": "2024-09-17T18:53:08.813Z"
   },
   {
    "duration": 5,
    "start_time": "2024-09-17T18:53:08.822Z"
   },
   {
    "duration": 4,
    "start_time": "2024-09-17T18:53:08.829Z"
   },
   {
    "duration": 13,
    "start_time": "2024-09-17T18:53:08.834Z"
   },
   {
    "duration": 15,
    "start_time": "2024-09-17T18:53:08.848Z"
   },
   {
    "duration": 6,
    "start_time": "2024-09-17T18:53:08.905Z"
   },
   {
    "duration": 15,
    "start_time": "2024-09-17T18:53:08.913Z"
   },
   {
    "duration": 75,
    "start_time": "2024-09-17T18:53:08.930Z"
   },
   {
    "duration": 37,
    "start_time": "2024-09-17T18:53:09.007Z"
   },
   {
    "duration": 11,
    "start_time": "2024-09-17T18:53:09.045Z"
   },
   {
    "duration": 16,
    "start_time": "2024-09-17T18:53:09.058Z"
   },
   {
    "duration": 92,
    "start_time": "2024-09-17T18:53:09.076Z"
   },
   {
    "duration": 6,
    "start_time": "2024-09-17T18:53:09.170Z"
   },
   {
    "duration": 28,
    "start_time": "2024-09-17T18:53:09.178Z"
   },
   {
    "duration": 25,
    "start_time": "2024-09-17T18:53:09.208Z"
   },
   {
    "duration": 16,
    "start_time": "2024-09-17T18:53:09.235Z"
   },
   {
    "duration": 7,
    "start_time": "2024-09-17T18:53:09.253Z"
   },
   {
    "duration": 62,
    "start_time": "2024-09-17T18:53:09.261Z"
   },
   {
    "duration": 6,
    "start_time": "2024-09-17T18:53:09.325Z"
   },
   {
    "duration": 14,
    "start_time": "2024-09-17T18:53:09.332Z"
   },
   {
    "duration": 77,
    "start_time": "2024-09-17T18:53:09.348Z"
   },
   {
    "duration": 40,
    "start_time": "2024-09-17T18:53:09.427Z"
   },
   {
    "duration": 10,
    "start_time": "2024-09-17T18:53:09.468Z"
   },
   {
    "duration": 16,
    "start_time": "2024-09-17T18:53:09.507Z"
   },
   {
    "duration": 55,
    "start_time": "2024-09-17T18:53:09.524Z"
   },
   {
    "duration": 114,
    "start_time": "2024-09-17T18:53:09.581Z"
   },
   {
    "duration": 12,
    "start_time": "2024-09-17T18:53:09.697Z"
   },
   {
    "duration": 9,
    "start_time": "2024-09-17T18:53:09.711Z"
   },
   {
    "duration": 4,
    "start_time": "2024-09-17T18:53:09.723Z"
   },
   {
    "duration": 4,
    "start_time": "2024-09-17T18:53:09.729Z"
   },
   {
    "duration": 10,
    "start_time": "2024-09-17T18:53:09.735Z"
   },
   {
    "duration": 12,
    "start_time": "2024-09-17T18:53:09.747Z"
   },
   {
    "duration": 3,
    "start_time": "2024-09-17T18:53:09.760Z"
   },
   {
    "duration": 41,
    "start_time": "2024-09-17T18:53:09.765Z"
   },
   {
    "duration": 3,
    "start_time": "2024-09-17T18:53:09.808Z"
   },
   {
    "duration": 2,
    "start_time": "2024-09-17T18:53:09.813Z"
   },
   {
    "duration": 2,
    "start_time": "2024-09-17T18:53:09.817Z"
   },
   {
    "duration": 1,
    "start_time": "2024-09-17T18:53:09.823Z"
   },
   {
    "duration": 2,
    "start_time": "2024-09-17T18:53:09.826Z"
   },
   {
    "duration": 2,
    "start_time": "2024-09-17T18:53:09.830Z"
   },
   {
    "duration": 3,
    "start_time": "2024-09-17T18:53:09.834Z"
   },
   {
    "duration": 3,
    "start_time": "2024-09-17T18:53:09.838Z"
   },
   {
    "duration": 3,
    "start_time": "2024-09-17T18:53:09.842Z"
   },
   {
    "duration": 2,
    "start_time": "2024-09-17T18:53:09.847Z"
   },
   {
    "duration": 2,
    "start_time": "2024-09-17T18:53:09.851Z"
   },
   {
    "duration": 51,
    "start_time": "2024-09-17T18:53:09.854Z"
   },
   {
    "duration": 2,
    "start_time": "2024-09-17T18:53:09.907Z"
   },
   {
    "duration": 3,
    "start_time": "2024-09-17T18:53:09.910Z"
   },
   {
    "duration": 3,
    "start_time": "2024-09-17T18:53:09.914Z"
   },
   {
    "duration": 2,
    "start_time": "2024-09-17T18:53:09.919Z"
   },
   {
    "duration": 3,
    "start_time": "2024-09-17T18:53:09.923Z"
   },
   {
    "duration": 2,
    "start_time": "2024-09-17T18:53:09.927Z"
   },
   {
    "duration": 3,
    "start_time": "2024-09-17T18:53:09.931Z"
   },
   {
    "duration": 2,
    "start_time": "2024-09-17T18:53:09.936Z"
   },
   {
    "duration": 2,
    "start_time": "2024-09-17T18:53:09.940Z"
   },
   {
    "duration": 2,
    "start_time": "2024-09-17T18:53:09.944Z"
   },
   {
    "duration": 2,
    "start_time": "2024-09-17T18:53:09.948Z"
   },
   {
    "duration": 14,
    "start_time": "2024-09-17T18:55:37.138Z"
   },
   {
    "duration": 14,
    "start_time": "2024-09-17T18:55:44.783Z"
   },
   {
    "duration": 205,
    "start_time": "2024-09-17T18:56:05.442Z"
   },
   {
    "duration": 15,
    "start_time": "2024-09-17T18:56:10.317Z"
   },
   {
    "duration": 14,
    "start_time": "2024-09-17T18:56:15.211Z"
   },
   {
    "duration": 6,
    "start_time": "2024-09-17T18:56:30.092Z"
   },
   {
    "duration": 14,
    "start_time": "2024-09-17T19:15:51.759Z"
   },
   {
    "duration": 9,
    "start_time": "2024-09-17T19:16:17.925Z"
   },
   {
    "duration": 15,
    "start_time": "2024-09-17T19:16:31.999Z"
   },
   {
    "duration": 11,
    "start_time": "2024-09-17T19:16:41.679Z"
   },
   {
    "duration": 22,
    "start_time": "2024-09-17T19:16:57.028Z"
   },
   {
    "duration": 15,
    "start_time": "2024-09-17T19:19:21.684Z"
   },
   {
    "duration": 4,
    "start_time": "2024-09-17T19:21:03.895Z"
   },
   {
    "duration": 9,
    "start_time": "2024-09-17T19:21:20.694Z"
   },
   {
    "duration": 3,
    "start_time": "2024-09-17T19:25:07.178Z"
   },
   {
    "duration": 10,
    "start_time": "2024-09-17T19:25:10.224Z"
   },
   {
    "duration": 5,
    "start_time": "2024-09-17T19:25:37.795Z"
   },
   {
    "duration": 10,
    "start_time": "2024-09-17T19:25:40.498Z"
   },
   {
    "duration": 3,
    "start_time": "2024-09-17T19:26:59.166Z"
   },
   {
    "duration": 170,
    "start_time": "2024-09-17T19:26:59.173Z"
   },
   {
    "duration": 5,
    "start_time": "2024-09-17T19:26:59.345Z"
   },
   {
    "duration": 8,
    "start_time": "2024-09-17T19:26:59.352Z"
   },
   {
    "duration": 7,
    "start_time": "2024-09-17T19:26:59.363Z"
   },
   {
    "duration": 5,
    "start_time": "2024-09-17T19:26:59.372Z"
   },
   {
    "duration": 6,
    "start_time": "2024-09-17T19:26:59.406Z"
   },
   {
    "duration": 13,
    "start_time": "2024-09-17T19:26:59.415Z"
   },
   {
    "duration": 21,
    "start_time": "2024-09-17T19:26:59.429Z"
   },
   {
    "duration": 5,
    "start_time": "2024-09-17T19:26:59.452Z"
   },
   {
    "duration": 53,
    "start_time": "2024-09-17T19:26:59.460Z"
   },
   {
    "duration": 57,
    "start_time": "2024-09-17T19:26:59.514Z"
   },
   {
    "duration": 71,
    "start_time": "2024-09-17T19:26:59.572Z"
   },
   {
    "duration": 12,
    "start_time": "2024-09-17T19:26:59.646Z"
   },
   {
    "duration": 22,
    "start_time": "2024-09-17T19:26:59.659Z"
   },
   {
    "duration": 89,
    "start_time": "2024-09-17T19:26:59.683Z"
   },
   {
    "duration": 8,
    "start_time": "2024-09-17T19:26:59.774Z"
   },
   {
    "duration": 26,
    "start_time": "2024-09-17T19:26:59.784Z"
   },
   {
    "duration": 28,
    "start_time": "2024-09-17T19:26:59.811Z"
   },
   {
    "duration": 25,
    "start_time": "2024-09-17T19:26:59.841Z"
   },
   {
    "duration": 9,
    "start_time": "2024-09-17T19:26:59.868Z"
   },
   {
    "duration": 59,
    "start_time": "2024-09-17T19:26:59.881Z"
   },
   {
    "duration": 8,
    "start_time": "2024-09-17T19:26:59.941Z"
   },
   {
    "duration": 19,
    "start_time": "2024-09-17T19:26:59.951Z"
   },
   {
    "duration": 107,
    "start_time": "2024-09-17T19:26:59.973Z"
   },
   {
    "duration": 50,
    "start_time": "2024-09-17T19:27:00.083Z"
   },
   {
    "duration": 11,
    "start_time": "2024-09-17T19:27:00.135Z"
   },
   {
    "duration": 17,
    "start_time": "2024-09-17T19:27:00.148Z"
   },
   {
    "duration": 85,
    "start_time": "2024-09-17T19:27:00.170Z"
   },
   {
    "duration": 131,
    "start_time": "2024-09-17T19:27:00.257Z"
   },
   {
    "duration": 66,
    "start_time": "2024-09-17T19:27:00.390Z"
   },
   {
    "duration": 10,
    "start_time": "2024-09-17T19:27:00.458Z"
   },
   {
    "duration": 6,
    "start_time": "2024-09-17T19:27:00.470Z"
   },
   {
    "duration": 4,
    "start_time": "2024-09-17T19:27:00.478Z"
   },
   {
    "duration": 29,
    "start_time": "2024-09-17T19:27:00.486Z"
   },
   {
    "duration": 15,
    "start_time": "2024-09-17T19:27:00.517Z"
   },
   {
    "duration": 3,
    "start_time": "2024-09-17T19:27:00.534Z"
   },
   {
    "duration": 11,
    "start_time": "2024-09-17T19:27:00.539Z"
   },
   {
    "duration": 4,
    "start_time": "2024-09-17T19:27:00.552Z"
   },
   {
    "duration": 9,
    "start_time": "2024-09-17T19:27:00.557Z"
   },
   {
    "duration": 38,
    "start_time": "2024-09-17T19:27:00.568Z"
   },
   {
    "duration": 3,
    "start_time": "2024-09-17T19:27:00.608Z"
   },
   {
    "duration": 2,
    "start_time": "2024-09-17T19:27:00.613Z"
   },
   {
    "duration": 4,
    "start_time": "2024-09-17T19:27:00.621Z"
   },
   {
    "duration": 2,
    "start_time": "2024-09-17T19:27:00.627Z"
   },
   {
    "duration": 3,
    "start_time": "2024-09-17T19:27:00.631Z"
   },
   {
    "duration": 2,
    "start_time": "2024-09-17T19:27:00.636Z"
   },
   {
    "duration": 3,
    "start_time": "2024-09-17T19:27:00.640Z"
   },
   {
    "duration": 3,
    "start_time": "2024-09-17T19:27:00.645Z"
   },
   {
    "duration": 3,
    "start_time": "2024-09-17T19:27:00.649Z"
   },
   {
    "duration": 3,
    "start_time": "2024-09-17T19:27:00.654Z"
   },
   {
    "duration": 46,
    "start_time": "2024-09-17T19:27:00.659Z"
   },
   {
    "duration": 3,
    "start_time": "2024-09-17T19:27:00.706Z"
   },
   {
    "duration": 3,
    "start_time": "2024-09-17T19:27:00.712Z"
   },
   {
    "duration": 2,
    "start_time": "2024-09-17T19:27:00.716Z"
   },
   {
    "duration": 2,
    "start_time": "2024-09-17T19:27:00.720Z"
   },
   {
    "duration": 3,
    "start_time": "2024-09-17T19:27:00.724Z"
   },
   {
    "duration": 3,
    "start_time": "2024-09-17T19:27:00.728Z"
   },
   {
    "duration": 2,
    "start_time": "2024-09-17T19:27:00.732Z"
   },
   {
    "duration": 2,
    "start_time": "2024-09-17T19:27:00.736Z"
   },
   {
    "duration": 2,
    "start_time": "2024-09-17T19:27:00.740Z"
   },
   {
    "duration": 2,
    "start_time": "2024-09-17T19:27:00.744Z"
   },
   {
    "duration": 3,
    "start_time": "2024-09-17T19:27:00.747Z"
   },
   {
    "duration": 3,
    "start_time": "2024-09-17T19:27:00.751Z"
   },
   {
    "duration": 3,
    "start_time": "2024-09-17T19:30:41.257Z"
   },
   {
    "duration": 16,
    "start_time": "2024-09-17T19:30:50.089Z"
   },
   {
    "duration": 3,
    "start_time": "2024-09-17T19:31:07.730Z"
   },
   {
    "duration": 16,
    "start_time": "2024-09-17T19:31:10.676Z"
   },
   {
    "duration": 10,
    "start_time": "2024-09-17T19:31:43.871Z"
   },
   {
    "duration": 12,
    "start_time": "2024-09-17T19:32:19.254Z"
   },
   {
    "duration": 19,
    "start_time": "2024-09-17T19:32:23.395Z"
   },
   {
    "duration": 3,
    "start_time": "2024-09-17T19:52:59.750Z"
   },
   {
    "duration": 166,
    "start_time": "2024-09-17T19:52:59.755Z"
   },
   {
    "duration": 6,
    "start_time": "2024-09-17T19:52:59.923Z"
   },
   {
    "duration": 9,
    "start_time": "2024-09-17T19:52:59.930Z"
   },
   {
    "duration": 6,
    "start_time": "2024-09-17T19:52:59.942Z"
   },
   {
    "duration": 5,
    "start_time": "2024-09-17T19:52:59.949Z"
   },
   {
    "duration": 4,
    "start_time": "2024-09-17T19:52:59.956Z"
   },
   {
    "duration": 50,
    "start_time": "2024-09-17T19:52:59.962Z"
   },
   {
    "duration": 16,
    "start_time": "2024-09-17T19:53:00.014Z"
   },
   {
    "duration": 4,
    "start_time": "2024-09-17T19:53:00.032Z"
   },
   {
    "duration": 15,
    "start_time": "2024-09-17T19:53:00.039Z"
   },
   {
    "duration": 90,
    "start_time": "2024-09-17T19:53:00.056Z"
   },
   {
    "duration": 57,
    "start_time": "2024-09-17T19:53:00.148Z"
   },
   {
    "duration": 12,
    "start_time": "2024-09-17T19:53:00.207Z"
   },
   {
    "duration": 17,
    "start_time": "2024-09-17T19:53:00.221Z"
   },
   {
    "duration": 97,
    "start_time": "2024-09-17T19:53:00.239Z"
   },
   {
    "duration": 6,
    "start_time": "2024-09-17T19:53:00.338Z"
   },
   {
    "duration": 12,
    "start_time": "2024-09-17T19:53:00.346Z"
   },
   {
    "duration": 46,
    "start_time": "2024-09-17T19:53:00.359Z"
   },
   {
    "duration": 20,
    "start_time": "2024-09-17T19:53:00.407Z"
   },
   {
    "duration": 8,
    "start_time": "2024-09-17T19:53:00.429Z"
   },
   {
    "duration": 39,
    "start_time": "2024-09-17T19:53:00.439Z"
   },
   {
    "duration": 31,
    "start_time": "2024-09-17T19:53:00.480Z"
   },
   {
    "duration": 14,
    "start_time": "2024-09-17T19:53:00.513Z"
   },
   {
    "duration": 88,
    "start_time": "2024-09-17T19:53:00.528Z"
   },
   {
    "duration": 47,
    "start_time": "2024-09-17T19:53:00.617Z"
   },
   {
    "duration": 10,
    "start_time": "2024-09-17T19:53:00.666Z"
   },
   {
    "duration": 38,
    "start_time": "2024-09-17T19:53:00.677Z"
   },
   {
    "duration": 57,
    "start_time": "2024-09-17T19:53:00.720Z"
   },
   {
    "duration": 116,
    "start_time": "2024-09-17T19:53:00.778Z"
   },
   {
    "duration": 14,
    "start_time": "2024-09-17T19:53:00.895Z"
   },
   {
    "duration": 8,
    "start_time": "2024-09-17T19:53:00.911Z"
   },
   {
    "duration": 4,
    "start_time": "2024-09-17T19:53:00.921Z"
   },
   {
    "duration": 4,
    "start_time": "2024-09-17T19:53:00.926Z"
   },
   {
    "duration": 10,
    "start_time": "2024-09-17T19:53:00.932Z"
   },
   {
    "duration": 12,
    "start_time": "2024-09-17T19:53:00.943Z"
   },
   {
    "duration": 4,
    "start_time": "2024-09-17T19:53:00.957Z"
   },
   {
    "duration": 8,
    "start_time": "2024-09-17T19:53:01.005Z"
   },
   {
    "duration": 5,
    "start_time": "2024-09-17T19:53:01.015Z"
   },
   {
    "duration": 3,
    "start_time": "2024-09-17T19:53:01.022Z"
   },
   {
    "duration": 18,
    "start_time": "2024-09-17T19:53:01.026Z"
   },
   {
    "duration": 2,
    "start_time": "2024-09-17T19:53:01.046Z"
   },
   {
    "duration": 2,
    "start_time": "2024-09-17T19:53:01.050Z"
   },
   {
    "duration": 3,
    "start_time": "2024-09-17T19:53:01.054Z"
   },
   {
    "duration": 2,
    "start_time": "2024-09-17T19:53:01.059Z"
   },
   {
    "duration": 3,
    "start_time": "2024-09-17T19:53:01.062Z"
   },
   {
    "duration": 2,
    "start_time": "2024-09-17T19:53:01.105Z"
   },
   {
    "duration": 2,
    "start_time": "2024-09-17T19:53:01.109Z"
   },
   {
    "duration": 2,
    "start_time": "2024-09-17T19:53:01.113Z"
   },
   {
    "duration": 4,
    "start_time": "2024-09-17T19:53:01.116Z"
   },
   {
    "duration": 3,
    "start_time": "2024-09-17T19:53:01.121Z"
   },
   {
    "duration": 2,
    "start_time": "2024-09-17T19:53:01.126Z"
   },
   {
    "duration": 3,
    "start_time": "2024-09-17T19:53:01.129Z"
   },
   {
    "duration": 3,
    "start_time": "2024-09-17T19:53:01.134Z"
   },
   {
    "duration": 2,
    "start_time": "2024-09-17T19:53:01.138Z"
   },
   {
    "duration": 2,
    "start_time": "2024-09-17T19:53:01.143Z"
   },
   {
    "duration": 2,
    "start_time": "2024-09-17T19:53:01.147Z"
   },
   {
    "duration": 3,
    "start_time": "2024-09-17T19:53:01.150Z"
   },
   {
    "duration": 2,
    "start_time": "2024-09-17T19:53:01.205Z"
   },
   {
    "duration": 2,
    "start_time": "2024-09-17T19:53:01.209Z"
   },
   {
    "duration": 2,
    "start_time": "2024-09-17T19:53:01.213Z"
   },
   {
    "duration": 2,
    "start_time": "2024-09-17T19:53:01.217Z"
   },
   {
    "duration": 2,
    "start_time": "2024-09-17T19:53:01.223Z"
   },
   {
    "duration": 2,
    "start_time": "2024-09-17T19:53:01.227Z"
   },
   {
    "duration": 2,
    "start_time": "2024-09-17T19:53:01.231Z"
   },
   {
    "duration": 12,
    "start_time": "2024-09-17T19:56:54.144Z"
   },
   {
    "duration": 13,
    "start_time": "2024-09-17T19:58:56.246Z"
   },
   {
    "duration": 13,
    "start_time": "2024-09-17T19:59:04.087Z"
   },
   {
    "duration": 4,
    "start_time": "2024-09-17T19:59:07.978Z"
   },
   {
    "duration": 10,
    "start_time": "2024-09-17T19:59:14.615Z"
   },
   {
    "duration": 435,
    "start_time": "2024-09-17T19:59:59.856Z"
   },
   {
    "duration": 19,
    "start_time": "2024-09-17T20:00:08.440Z"
   },
   {
    "duration": 15,
    "start_time": "2024-09-17T20:00:17.519Z"
   },
   {
    "duration": 4,
    "start_time": "2024-09-17T20:05:26.716Z"
   },
   {
    "duration": 8,
    "start_time": "2024-09-17T20:05:43.623Z"
   },
   {
    "duration": 12,
    "start_time": "2024-09-17T20:06:01.300Z"
   },
   {
    "duration": 9,
    "start_time": "2024-09-17T20:06:05.697Z"
   },
   {
    "duration": 14,
    "start_time": "2024-09-17T20:15:22.801Z"
   },
   {
    "duration": 3,
    "start_time": "2024-09-17T20:16:00.376Z"
   },
   {
    "duration": 10,
    "start_time": "2024-09-17T20:16:04.559Z"
   },
   {
    "duration": 4,
    "start_time": "2024-09-17T20:16:18.222Z"
   },
   {
    "duration": 9,
    "start_time": "2024-09-17T20:16:20.959Z"
   },
   {
    "duration": 2,
    "start_time": "2024-09-17T20:16:27.255Z"
   },
   {
    "duration": 173,
    "start_time": "2024-09-17T20:16:27.260Z"
   },
   {
    "duration": 6,
    "start_time": "2024-09-17T20:16:27.435Z"
   },
   {
    "duration": 8,
    "start_time": "2024-09-17T20:16:27.443Z"
   },
   {
    "duration": 7,
    "start_time": "2024-09-17T20:16:27.454Z"
   },
   {
    "duration": 4,
    "start_time": "2024-09-17T20:16:27.462Z"
   },
   {
    "duration": 4,
    "start_time": "2024-09-17T20:16:27.468Z"
   },
   {
    "duration": 44,
    "start_time": "2024-09-17T20:16:27.473Z"
   },
   {
    "duration": 15,
    "start_time": "2024-09-17T20:16:27.519Z"
   },
   {
    "duration": 5,
    "start_time": "2024-09-17T20:16:27.535Z"
   },
   {
    "duration": 14,
    "start_time": "2024-09-17T20:16:27.544Z"
   },
   {
    "duration": 87,
    "start_time": "2024-09-17T20:16:27.560Z"
   },
   {
    "duration": 33,
    "start_time": "2024-09-17T20:16:27.649Z"
   },
   {
    "duration": 31,
    "start_time": "2024-09-17T20:16:27.684Z"
   },
   {
    "duration": 16,
    "start_time": "2024-09-17T20:16:27.717Z"
   },
   {
    "duration": 89,
    "start_time": "2024-09-17T20:16:27.735Z"
   },
   {
    "duration": 7,
    "start_time": "2024-09-17T20:16:27.826Z"
   },
   {
    "duration": 11,
    "start_time": "2024-09-17T20:16:27.835Z"
   },
   {
    "duration": 25,
    "start_time": "2024-09-17T20:16:27.848Z"
   },
   {
    "duration": 42,
    "start_time": "2024-09-17T20:16:27.875Z"
   },
   {
    "duration": 8,
    "start_time": "2024-09-17T20:16:27.919Z"
   },
   {
    "duration": 39,
    "start_time": "2024-09-17T20:16:27.928Z"
   },
   {
    "duration": 7,
    "start_time": "2024-09-17T20:16:27.969Z"
   },
   {
    "duration": 15,
    "start_time": "2024-09-17T20:16:28.006Z"
   },
   {
    "duration": 84,
    "start_time": "2024-09-17T20:16:28.023Z"
   },
   {
    "duration": 41,
    "start_time": "2024-09-17T20:16:28.109Z"
   },
   {
    "duration": 9,
    "start_time": "2024-09-17T20:16:28.152Z"
   },
   {
    "duration": 16,
    "start_time": "2024-09-17T20:16:28.163Z"
   },
   {
    "duration": 67,
    "start_time": "2024-09-17T20:16:28.204Z"
   },
   {
    "duration": 108,
    "start_time": "2024-09-17T20:16:28.275Z"
   },
   {
    "duration": 20,
    "start_time": "2024-09-17T20:16:28.385Z"
   },
   {
    "duration": 9,
    "start_time": "2024-09-17T20:16:28.407Z"
   },
   {
    "duration": 5,
    "start_time": "2024-09-17T20:16:28.418Z"
   },
   {
    "duration": 4,
    "start_time": "2024-09-17T20:16:28.424Z"
   },
   {
    "duration": 10,
    "start_time": "2024-09-17T20:16:28.429Z"
   },
   {
    "duration": 11,
    "start_time": "2024-09-17T20:16:28.441Z"
   },
   {
    "duration": 3,
    "start_time": "2024-09-17T20:16:28.454Z"
   },
   {
    "duration": 7,
    "start_time": "2024-09-17T20:16:28.459Z"
   },
   {
    "duration": 41,
    "start_time": "2024-09-17T20:16:28.468Z"
   },
   {
    "duration": 3,
    "start_time": "2024-09-17T20:16:28.512Z"
   },
   {
    "duration": 18,
    "start_time": "2024-09-17T20:16:28.517Z"
   },
   {
    "duration": 9,
    "start_time": "2024-09-17T20:16:28.537Z"
   },
   {
    "duration": 4,
    "start_time": "2024-09-17T20:16:28.547Z"
   },
   {
    "duration": 18,
    "start_time": "2024-09-17T20:16:28.552Z"
   },
   {
    "duration": 3,
    "start_time": "2024-09-17T20:16:28.606Z"
   },
   {
    "duration": 11,
    "start_time": "2024-09-17T20:16:28.611Z"
   },
   {
    "duration": 11,
    "start_time": "2024-09-17T20:16:28.623Z"
   },
   {
    "duration": 4,
    "start_time": "2024-09-17T20:16:28.636Z"
   },
   {
    "duration": 2,
    "start_time": "2024-09-17T20:16:28.642Z"
   },
   {
    "duration": 6,
    "start_time": "2024-09-17T20:16:28.645Z"
   },
   {
    "duration": 2,
    "start_time": "2024-09-17T20:16:28.653Z"
   },
   {
    "duration": 2,
    "start_time": "2024-09-17T20:16:28.657Z"
   },
   {
    "duration": 2,
    "start_time": "2024-09-17T20:16:28.661Z"
   },
   {
    "duration": 3,
    "start_time": "2024-09-17T20:16:28.705Z"
   },
   {
    "duration": 4,
    "start_time": "2024-09-17T20:16:28.709Z"
   },
   {
    "duration": 2,
    "start_time": "2024-09-17T20:16:28.715Z"
   },
   {
    "duration": 2,
    "start_time": "2024-09-17T20:16:28.719Z"
   },
   {
    "duration": 2,
    "start_time": "2024-09-17T20:16:28.723Z"
   },
   {
    "duration": 2,
    "start_time": "2024-09-17T20:16:28.727Z"
   },
   {
    "duration": 2,
    "start_time": "2024-09-17T20:16:28.731Z"
   },
   {
    "duration": 2,
    "start_time": "2024-09-17T20:16:28.735Z"
   },
   {
    "duration": 2,
    "start_time": "2024-09-17T20:16:28.739Z"
   },
   {
    "duration": 3,
    "start_time": "2024-09-17T20:16:28.743Z"
   },
   {
    "duration": 2,
    "start_time": "2024-09-17T20:16:28.748Z"
   },
   {
    "duration": 2,
    "start_time": "2024-09-17T20:16:28.752Z"
   },
   {
    "duration": 51,
    "start_time": "2024-09-17T20:16:28.756Z"
   },
   {
    "duration": 2,
    "start_time": "2024-09-17T20:16:28.809Z"
   },
   {
    "duration": 2,
    "start_time": "2024-09-17T20:16:28.813Z"
   },
   {
    "duration": 4,
    "start_time": "2024-09-17T20:16:28.816Z"
   },
   {
    "duration": 3,
    "start_time": "2024-09-17T20:16:28.822Z"
   },
   {
    "duration": 3,
    "start_time": "2024-09-17T20:16:28.826Z"
   },
   {
    "duration": 3,
    "start_time": "2024-09-17T20:16:28.830Z"
   },
   {
    "duration": 10,
    "start_time": "2024-09-17T20:16:36.535Z"
   },
   {
    "duration": 42,
    "start_time": "2024-09-17T20:17:11.138Z"
   },
   {
    "duration": 15,
    "start_time": "2024-09-17T20:17:24.592Z"
   },
   {
    "duration": 11,
    "start_time": "2024-09-17T20:17:34.649Z"
   },
   {
    "duration": 12,
    "start_time": "2024-09-17T20:17:41.563Z"
   },
   {
    "duration": 4,
    "start_time": "2024-09-17T20:25:13.433Z"
   },
   {
    "duration": 12,
    "start_time": "2024-09-17T20:25:28.498Z"
   },
   {
    "duration": 2,
    "start_time": "2024-09-17T20:28:21.043Z"
   },
   {
    "duration": 170,
    "start_time": "2024-09-17T20:28:21.049Z"
   },
   {
    "duration": 5,
    "start_time": "2024-09-17T20:28:21.221Z"
   },
   {
    "duration": 8,
    "start_time": "2024-09-17T20:28:21.228Z"
   },
   {
    "duration": 6,
    "start_time": "2024-09-17T20:28:21.239Z"
   },
   {
    "duration": 5,
    "start_time": "2024-09-17T20:28:21.246Z"
   },
   {
    "duration": 5,
    "start_time": "2024-09-17T20:28:21.252Z"
   },
   {
    "duration": 47,
    "start_time": "2024-09-17T20:28:21.258Z"
   },
   {
    "duration": 17,
    "start_time": "2024-09-17T20:28:21.307Z"
   },
   {
    "duration": 5,
    "start_time": "2024-09-17T20:28:21.325Z"
   },
   {
    "duration": 15,
    "start_time": "2024-09-17T20:28:21.332Z"
   },
   {
    "duration": 95,
    "start_time": "2024-09-17T20:28:21.348Z"
   },
   {
    "duration": 39,
    "start_time": "2024-09-17T20:28:21.446Z"
   },
   {
    "duration": 29,
    "start_time": "2024-09-17T20:28:21.486Z"
   },
   {
    "duration": 18,
    "start_time": "2024-09-17T20:28:21.518Z"
   },
   {
    "duration": 99,
    "start_time": "2024-09-17T20:28:21.538Z"
   },
   {
    "duration": 6,
    "start_time": "2024-09-17T20:28:21.639Z"
   },
   {
    "duration": 12,
    "start_time": "2024-09-17T20:28:21.646Z"
   },
   {
    "duration": 49,
    "start_time": "2024-09-17T20:28:21.659Z"
   },
   {
    "duration": 17,
    "start_time": "2024-09-17T20:28:21.710Z"
   },
   {
    "duration": 17,
    "start_time": "2024-09-17T20:28:21.729Z"
   },
   {
    "duration": 42,
    "start_time": "2024-09-17T20:28:21.748Z"
   },
   {
    "duration": 19,
    "start_time": "2024-09-17T20:28:21.791Z"
   },
   {
    "duration": 14,
    "start_time": "2024-09-17T20:28:21.812Z"
   },
   {
    "duration": 59,
    "start_time": "2024-09-17T20:28:21.827Z"
   },
   {
    "duration": 40,
    "start_time": "2024-09-17T20:28:21.905Z"
   },
   {
    "duration": 10,
    "start_time": "2024-09-17T20:28:21.947Z"
   },
   {
    "duration": 15,
    "start_time": "2024-09-17T20:28:21.959Z"
   },
   {
    "duration": 77,
    "start_time": "2024-09-17T20:28:21.979Z"
   },
   {
    "duration": 107,
    "start_time": "2024-09-17T20:28:22.058Z"
   },
   {
    "duration": 7,
    "start_time": "2024-09-17T20:28:22.167Z"
   },
   {
    "duration": 8,
    "start_time": "2024-09-17T20:28:22.177Z"
   },
   {
    "duration": 21,
    "start_time": "2024-09-17T20:28:22.187Z"
   },
   {
    "duration": 4,
    "start_time": "2024-09-17T20:28:22.210Z"
   },
   {
    "duration": 12,
    "start_time": "2024-09-17T20:28:22.216Z"
   },
   {
    "duration": 12,
    "start_time": "2024-09-17T20:28:22.230Z"
   },
   {
    "duration": 5,
    "start_time": "2024-09-17T20:28:22.244Z"
   },
   {
    "duration": 10,
    "start_time": "2024-09-17T20:28:22.251Z"
   },
   {
    "duration": 42,
    "start_time": "2024-09-17T20:28:22.264Z"
   },
   {
    "duration": 3,
    "start_time": "2024-09-17T20:28:22.308Z"
   },
   {
    "duration": 19,
    "start_time": "2024-09-17T20:28:22.313Z"
   },
   {
    "duration": 9,
    "start_time": "2024-09-17T20:28:22.334Z"
   },
   {
    "duration": 5,
    "start_time": "2024-09-17T20:28:22.345Z"
   },
   {
    "duration": 16,
    "start_time": "2024-09-17T20:28:22.352Z"
   },
   {
    "duration": 36,
    "start_time": "2024-09-17T20:28:22.370Z"
   },
   {
    "duration": 12,
    "start_time": "2024-09-17T20:28:22.408Z"
   },
   {
    "duration": 19,
    "start_time": "2024-09-17T20:28:22.422Z"
   },
   {
    "duration": 9,
    "start_time": "2024-09-17T20:28:22.443Z"
   },
   {
    "duration": 15,
    "start_time": "2024-09-17T20:28:22.454Z"
   },
   {
    "duration": 4,
    "start_time": "2024-09-17T20:28:22.470Z"
   },
   {
    "duration": 29,
    "start_time": "2024-09-17T20:28:22.476Z"
   },
   {
    "duration": 3,
    "start_time": "2024-09-17T20:28:22.509Z"
   },
   {
    "duration": 2,
    "start_time": "2024-09-17T20:28:22.514Z"
   },
   {
    "duration": 2,
    "start_time": "2024-09-17T20:28:22.518Z"
   },
   {
    "duration": 2,
    "start_time": "2024-09-17T20:28:22.522Z"
   },
   {
    "duration": 2,
    "start_time": "2024-09-17T20:28:22.526Z"
   },
   {
    "duration": 2,
    "start_time": "2024-09-17T20:28:22.530Z"
   },
   {
    "duration": 3,
    "start_time": "2024-09-17T20:28:22.533Z"
   },
   {
    "duration": 2,
    "start_time": "2024-09-17T20:28:22.537Z"
   },
   {
    "duration": 2,
    "start_time": "2024-09-17T20:28:22.541Z"
   },
   {
    "duration": 2,
    "start_time": "2024-09-17T20:28:22.545Z"
   },
   {
    "duration": 2,
    "start_time": "2024-09-17T20:28:22.549Z"
   },
   {
    "duration": 3,
    "start_time": "2024-09-17T20:28:22.552Z"
   },
   {
    "duration": 2,
    "start_time": "2024-09-17T20:28:22.557Z"
   },
   {
    "duration": 3,
    "start_time": "2024-09-17T20:28:22.607Z"
   },
   {
    "duration": 3,
    "start_time": "2024-09-17T20:28:22.612Z"
   },
   {
    "duration": 3,
    "start_time": "2024-09-17T20:28:22.616Z"
   },
   {
    "duration": 3,
    "start_time": "2024-09-17T20:28:22.620Z"
   },
   {
    "duration": 3,
    "start_time": "2024-09-17T20:28:22.624Z"
   },
   {
    "duration": 3,
    "start_time": "2024-09-17T20:28:22.628Z"
   },
   {
    "duration": 9,
    "start_time": "2024-09-17T20:28:22.633Z"
   },
   {
    "duration": 3,
    "start_time": "2024-09-17T20:28:22.644Z"
   },
   {
    "duration": 2,
    "start_time": "2024-09-17T20:28:22.649Z"
   },
   {
    "duration": 3,
    "start_time": "2024-09-17T20:28:22.652Z"
   },
   {
    "duration": 11,
    "start_time": "2024-09-17T20:29:15.687Z"
   },
   {
    "duration": 7,
    "start_time": "2024-09-17T20:32:53.431Z"
   },
   {
    "duration": 5,
    "start_time": "2024-09-17T20:33:32.925Z"
   },
   {
    "duration": 5,
    "start_time": "2024-09-17T20:34:27.044Z"
   },
   {
    "duration": 4,
    "start_time": "2024-09-17T20:34:35.852Z"
   },
   {
    "duration": 3,
    "start_time": "2024-09-17T20:34:39.225Z"
   },
   {
    "duration": 163,
    "start_time": "2024-09-17T20:35:13.209Z"
   },
   {
    "duration": 803,
    "start_time": "2024-09-17T20:35:17.135Z"
   },
   {
    "duration": 165,
    "start_time": "2024-09-17T20:35:17.939Z"
   },
   {
    "duration": 6,
    "start_time": "2024-09-17T20:35:18.106Z"
   },
   {
    "duration": 9,
    "start_time": "2024-09-17T20:35:18.114Z"
   },
   {
    "duration": 7,
    "start_time": "2024-09-17T20:35:18.124Z"
   },
   {
    "duration": 5,
    "start_time": "2024-09-17T20:35:18.133Z"
   },
   {
    "duration": 4,
    "start_time": "2024-09-17T20:35:18.139Z"
   },
   {
    "duration": 13,
    "start_time": "2024-09-17T20:35:18.145Z"
   },
   {
    "duration": 56,
    "start_time": "2024-09-17T20:35:18.160Z"
   },
   {
    "duration": 4,
    "start_time": "2024-09-17T20:35:18.220Z"
   },
   {
    "duration": 15,
    "start_time": "2024-09-17T20:35:18.226Z"
   },
   {
    "duration": 80,
    "start_time": "2024-09-17T20:35:18.243Z"
   },
   {
    "duration": 39,
    "start_time": "2024-09-17T20:35:18.325Z"
   },
   {
    "duration": 13,
    "start_time": "2024-09-17T20:35:18.365Z"
   },
   {
    "duration": 42,
    "start_time": "2024-09-17T20:35:18.379Z"
   },
   {
    "duration": 89,
    "start_time": "2024-09-17T20:35:18.423Z"
   },
   {
    "duration": 6,
    "start_time": "2024-09-17T20:35:18.514Z"
   },
   {
    "duration": 11,
    "start_time": "2024-09-17T20:35:18.522Z"
   },
   {
    "duration": 26,
    "start_time": "2024-09-17T20:35:18.535Z"
   },
   {
    "duration": 42,
    "start_time": "2024-09-17T20:35:18.563Z"
   },
   {
    "duration": 9,
    "start_time": "2024-09-17T20:35:18.607Z"
   },
   {
    "duration": 42,
    "start_time": "2024-09-17T20:35:18.617Z"
   },
   {
    "duration": 7,
    "start_time": "2024-09-17T20:35:18.661Z"
   },
   {
    "duration": 36,
    "start_time": "2024-09-17T20:35:18.670Z"
   },
   {
    "duration": 77,
    "start_time": "2024-09-17T20:35:18.708Z"
   },
   {
    "duration": 61,
    "start_time": "2024-09-17T20:35:18.787Z"
   },
   {
    "duration": 9,
    "start_time": "2024-09-17T20:35:18.850Z"
   },
   {
    "duration": 15,
    "start_time": "2024-09-17T20:35:18.865Z"
   },
   {
    "duration": 81,
    "start_time": "2024-09-17T20:35:18.882Z"
   },
   {
    "duration": 114,
    "start_time": "2024-09-17T20:35:18.964Z"
   },
   {
    "duration": 7,
    "start_time": "2024-09-17T20:35:19.079Z"
   },
   {
    "duration": 21,
    "start_time": "2024-09-17T20:35:19.088Z"
   },
   {
    "duration": 4,
    "start_time": "2024-09-17T20:35:19.110Z"
   },
   {
    "duration": 4,
    "start_time": "2024-09-17T20:35:19.116Z"
   },
   {
    "duration": 11,
    "start_time": "2024-09-17T20:35:19.122Z"
   },
   {
    "duration": 12,
    "start_time": "2024-09-17T20:35:19.134Z"
   },
   {
    "duration": 3,
    "start_time": "2024-09-17T20:35:19.148Z"
   },
   {
    "duration": 9,
    "start_time": "2024-09-17T20:35:19.154Z"
   },
   {
    "duration": 43,
    "start_time": "2024-09-17T20:35:19.164Z"
   },
   {
    "duration": 3,
    "start_time": "2024-09-17T20:35:19.209Z"
   },
   {
    "duration": 20,
    "start_time": "2024-09-17T20:35:19.214Z"
   },
   {
    "duration": 9,
    "start_time": "2024-09-17T20:35:19.235Z"
   },
   {
    "duration": 5,
    "start_time": "2024-09-17T20:35:19.246Z"
   },
   {
    "duration": 17,
    "start_time": "2024-09-17T20:35:19.252Z"
   },
   {
    "duration": 37,
    "start_time": "2024-09-17T20:35:19.271Z"
   },
   {
    "duration": 10,
    "start_time": "2024-09-17T20:35:19.310Z"
   },
   {
    "duration": 3,
    "start_time": "2024-09-17T20:35:19.322Z"
   },
   {
    "duration": 14,
    "start_time": "2024-09-17T20:35:19.327Z"
   },
   {
    "duration": 3,
    "start_time": "2024-09-17T20:35:19.343Z"
   },
   {
    "duration": 7,
    "start_time": "2024-09-17T20:35:19.348Z"
   },
   {
    "duration": 4,
    "start_time": "2024-09-17T20:35:19.356Z"
   },
   {
    "duration": 3,
    "start_time": "2024-09-17T20:35:19.362Z"
   },
   {
    "duration": 39,
    "start_time": "2024-09-17T20:35:19.366Z"
   },
   {
    "duration": 5,
    "start_time": "2024-09-17T20:35:19.407Z"
   },
   {
    "duration": 3,
    "start_time": "2024-09-17T20:35:19.413Z"
   },
   {
    "duration": 2,
    "start_time": "2024-09-17T20:35:19.418Z"
   },
   {
    "duration": 2,
    "start_time": "2024-09-17T20:35:19.422Z"
   },
   {
    "duration": 2,
    "start_time": "2024-09-17T20:35:19.426Z"
   },
   {
    "duration": 2,
    "start_time": "2024-09-17T20:35:19.430Z"
   },
   {
    "duration": 3,
    "start_time": "2024-09-17T20:35:19.433Z"
   },
   {
    "duration": 2,
    "start_time": "2024-09-17T20:35:19.437Z"
   },
   {
    "duration": 3,
    "start_time": "2024-09-17T20:35:19.441Z"
   },
   {
    "duration": 2,
    "start_time": "2024-09-17T20:35:19.445Z"
   },
   {
    "duration": 3,
    "start_time": "2024-09-17T20:35:19.449Z"
   },
   {
    "duration": 2,
    "start_time": "2024-09-17T20:35:19.454Z"
   },
   {
    "duration": 2,
    "start_time": "2024-09-17T20:35:19.505Z"
   },
   {
    "duration": 2,
    "start_time": "2024-09-17T20:35:19.510Z"
   },
   {
    "duration": 3,
    "start_time": "2024-09-17T20:35:19.513Z"
   },
   {
    "duration": 3,
    "start_time": "2024-09-17T20:35:19.517Z"
   },
   {
    "duration": 2,
    "start_time": "2024-09-17T20:35:19.522Z"
   },
   {
    "duration": 3,
    "start_time": "2024-09-17T20:35:19.525Z"
   },
   {
    "duration": 2,
    "start_time": "2024-09-17T20:35:19.529Z"
   },
   {
    "duration": 3,
    "start_time": "2024-09-17T20:35:19.533Z"
   },
   {
    "duration": 2,
    "start_time": "2024-09-17T20:35:19.538Z"
   },
   {
    "duration": 2,
    "start_time": "2024-09-17T20:35:19.541Z"
   },
   {
    "duration": 2,
    "start_time": "2024-09-17T20:35:28.650Z"
   },
   {
    "duration": 3,
    "start_time": "2024-09-17T20:35:31.284Z"
   },
   {
    "duration": 3,
    "start_time": "2024-09-17T20:36:26.385Z"
   },
   {
    "duration": 162,
    "start_time": "2024-09-17T20:36:26.390Z"
   },
   {
    "duration": 5,
    "start_time": "2024-09-17T20:36:26.554Z"
   },
   {
    "duration": 8,
    "start_time": "2024-09-17T20:36:26.560Z"
   },
   {
    "duration": 7,
    "start_time": "2024-09-17T20:36:26.570Z"
   },
   {
    "duration": 31,
    "start_time": "2024-09-17T20:36:26.578Z"
   },
   {
    "duration": 5,
    "start_time": "2024-09-17T20:36:26.611Z"
   },
   {
    "duration": 13,
    "start_time": "2024-09-17T20:36:26.618Z"
   },
   {
    "duration": 17,
    "start_time": "2024-09-17T20:36:26.633Z"
   },
   {
    "duration": 5,
    "start_time": "2024-09-17T20:36:26.651Z"
   },
   {
    "duration": 56,
    "start_time": "2024-09-17T20:36:26.660Z"
   },
   {
    "duration": 49,
    "start_time": "2024-09-17T20:36:26.718Z"
   },
   {
    "duration": 49,
    "start_time": "2024-09-17T20:36:26.769Z"
   },
   {
    "duration": 12,
    "start_time": "2024-09-17T20:36:26.820Z"
   },
   {
    "duration": 17,
    "start_time": "2024-09-17T20:36:26.834Z"
   },
   {
    "duration": 106,
    "start_time": "2024-09-17T20:36:26.852Z"
   },
   {
    "duration": 7,
    "start_time": "2024-09-17T20:36:26.961Z"
   },
   {
    "duration": 12,
    "start_time": "2024-09-17T20:36:26.970Z"
   },
   {
    "duration": 44,
    "start_time": "2024-09-17T20:36:26.983Z"
   },
   {
    "duration": 16,
    "start_time": "2024-09-17T20:36:27.029Z"
   },
   {
    "duration": 8,
    "start_time": "2024-09-17T20:36:27.047Z"
   },
   {
    "duration": 62,
    "start_time": "2024-09-17T20:36:27.057Z"
   },
   {
    "duration": 7,
    "start_time": "2024-09-17T20:36:27.121Z"
   },
   {
    "duration": 13,
    "start_time": "2024-09-17T20:36:27.129Z"
   },
   {
    "duration": 81,
    "start_time": "2024-09-17T20:36:27.144Z"
   },
   {
    "duration": 40,
    "start_time": "2024-09-17T20:36:27.227Z"
   },
   {
    "duration": 10,
    "start_time": "2024-09-17T20:36:27.269Z"
   },
   {
    "duration": 39,
    "start_time": "2024-09-17T20:36:27.281Z"
   },
   {
    "duration": 83,
    "start_time": "2024-09-17T20:36:27.325Z"
   },
   {
    "duration": 114,
    "start_time": "2024-09-17T20:36:27.410Z"
   },
   {
    "duration": 8,
    "start_time": "2024-09-17T20:36:27.525Z"
   },
   {
    "duration": 9,
    "start_time": "2024-09-17T20:36:27.535Z"
   },
   {
    "duration": 4,
    "start_time": "2024-09-17T20:36:27.545Z"
   },
   {
    "duration": 5,
    "start_time": "2024-09-17T20:36:27.551Z"
   },
   {
    "duration": 11,
    "start_time": "2024-09-17T20:36:27.557Z"
   },
   {
    "duration": 47,
    "start_time": "2024-09-17T20:36:27.569Z"
   },
   {
    "duration": 6,
    "start_time": "2024-09-17T20:36:27.618Z"
   },
   {
    "duration": 8,
    "start_time": "2024-09-17T20:36:27.627Z"
   },
   {
    "duration": 5,
    "start_time": "2024-09-17T20:36:27.637Z"
   },
   {
    "duration": 3,
    "start_time": "2024-09-17T20:36:27.644Z"
   },
   {
    "duration": 96,
    "start_time": "2024-09-17T20:36:27.648Z"
   },
   {
    "duration": 0,
    "start_time": "2024-09-17T20:36:27.745Z"
   },
   {
    "duration": 0,
    "start_time": "2024-09-17T20:36:27.747Z"
   },
   {
    "duration": 0,
    "start_time": "2024-09-17T20:36:27.748Z"
   },
   {
    "duration": 0,
    "start_time": "2024-09-17T20:36:27.750Z"
   },
   {
    "duration": 0,
    "start_time": "2024-09-17T20:36:27.752Z"
   },
   {
    "duration": 0,
    "start_time": "2024-09-17T20:36:27.753Z"
   },
   {
    "duration": 0,
    "start_time": "2024-09-17T20:36:27.755Z"
   },
   {
    "duration": 0,
    "start_time": "2024-09-17T20:36:27.756Z"
   },
   {
    "duration": 0,
    "start_time": "2024-09-17T20:36:27.758Z"
   },
   {
    "duration": 0,
    "start_time": "2024-09-17T20:36:27.759Z"
   },
   {
    "duration": 0,
    "start_time": "2024-09-17T20:36:27.761Z"
   },
   {
    "duration": 0,
    "start_time": "2024-09-17T20:36:27.762Z"
   },
   {
    "duration": 0,
    "start_time": "2024-09-17T20:36:27.763Z"
   },
   {
    "duration": 0,
    "start_time": "2024-09-17T20:36:27.765Z"
   },
   {
    "duration": 0,
    "start_time": "2024-09-17T20:36:27.766Z"
   },
   {
    "duration": 0,
    "start_time": "2024-09-17T20:36:27.806Z"
   },
   {
    "duration": 0,
    "start_time": "2024-09-17T20:36:27.807Z"
   },
   {
    "duration": 0,
    "start_time": "2024-09-17T20:36:27.808Z"
   },
   {
    "duration": 0,
    "start_time": "2024-09-17T20:36:27.809Z"
   },
   {
    "duration": 0,
    "start_time": "2024-09-17T20:36:27.810Z"
   },
   {
    "duration": 0,
    "start_time": "2024-09-17T20:36:27.812Z"
   },
   {
    "duration": 0,
    "start_time": "2024-09-17T20:36:27.813Z"
   },
   {
    "duration": 1,
    "start_time": "2024-09-17T20:36:27.813Z"
   },
   {
    "duration": 0,
    "start_time": "2024-09-17T20:36:27.815Z"
   },
   {
    "duration": 0,
    "start_time": "2024-09-17T20:36:27.816Z"
   },
   {
    "duration": 0,
    "start_time": "2024-09-17T20:36:27.818Z"
   },
   {
    "duration": 0,
    "start_time": "2024-09-17T20:36:27.819Z"
   },
   {
    "duration": 0,
    "start_time": "2024-09-17T20:36:27.820Z"
   },
   {
    "duration": 0,
    "start_time": "2024-09-17T20:36:27.821Z"
   },
   {
    "duration": 0,
    "start_time": "2024-09-17T20:36:27.822Z"
   },
   {
    "duration": 0,
    "start_time": "2024-09-17T20:36:27.822Z"
   },
   {
    "duration": 0,
    "start_time": "2024-09-17T20:36:27.823Z"
   },
   {
    "duration": 0,
    "start_time": "2024-09-17T20:36:27.823Z"
   },
   {
    "duration": 0,
    "start_time": "2024-09-17T20:36:27.824Z"
   },
   {
    "duration": 7,
    "start_time": "2024-09-17T20:36:33.385Z"
   },
   {
    "duration": 7,
    "start_time": "2024-09-17T20:37:06.264Z"
   },
   {
    "duration": 3,
    "start_time": "2024-09-17T20:37:11.332Z"
   },
   {
    "duration": 3,
    "start_time": "2024-09-17T20:37:27.470Z"
   },
   {
    "duration": 13,
    "start_time": "2024-09-17T20:37:50.660Z"
   },
   {
    "duration": 11,
    "start_time": "2024-09-17T20:38:24.130Z"
   },
   {
    "duration": 4,
    "start_time": "2024-09-17T20:38:46.097Z"
   },
   {
    "duration": 10,
    "start_time": "2024-09-17T20:38:49.008Z"
   },
   {
    "duration": 5,
    "start_time": "2024-09-17T20:39:40.855Z"
   },
   {
    "duration": 163,
    "start_time": "2024-09-17T20:39:40.862Z"
   },
   {
    "duration": 6,
    "start_time": "2024-09-17T20:39:41.026Z"
   },
   {
    "duration": 8,
    "start_time": "2024-09-17T20:39:41.034Z"
   },
   {
    "duration": 6,
    "start_time": "2024-09-17T20:39:41.044Z"
   },
   {
    "duration": 4,
    "start_time": "2024-09-17T20:39:41.052Z"
   },
   {
    "duration": 4,
    "start_time": "2024-09-17T20:39:41.058Z"
   },
   {
    "duration": 54,
    "start_time": "2024-09-17T20:39:41.064Z"
   },
   {
    "duration": 18,
    "start_time": "2024-09-17T20:39:41.120Z"
   },
   {
    "duration": 4,
    "start_time": "2024-09-17T20:39:41.140Z"
   },
   {
    "duration": 16,
    "start_time": "2024-09-17T20:39:41.148Z"
   },
   {
    "duration": 89,
    "start_time": "2024-09-17T20:39:41.166Z"
   },
   {
    "duration": 50,
    "start_time": "2024-09-17T20:39:41.257Z"
   },
   {
    "duration": 13,
    "start_time": "2024-09-17T20:39:41.309Z"
   },
   {
    "duration": 16,
    "start_time": "2024-09-17T20:39:41.323Z"
   },
   {
    "duration": 94,
    "start_time": "2024-09-17T20:39:41.341Z"
   },
   {
    "duration": 5,
    "start_time": "2024-09-17T20:39:41.437Z"
   },
   {
    "duration": 12,
    "start_time": "2024-09-17T20:39:41.444Z"
   },
   {
    "duration": 50,
    "start_time": "2024-09-17T20:39:41.457Z"
   },
   {
    "duration": 19,
    "start_time": "2024-09-17T20:39:41.509Z"
   },
   {
    "duration": 8,
    "start_time": "2024-09-17T20:39:41.530Z"
   },
   {
    "duration": 38,
    "start_time": "2024-09-17T20:39:41.540Z"
   },
   {
    "duration": 31,
    "start_time": "2024-09-17T20:39:41.580Z"
   },
   {
    "duration": 15,
    "start_time": "2024-09-17T20:39:41.612Z"
   },
   {
    "duration": 83,
    "start_time": "2024-09-17T20:39:41.629Z"
   },
   {
    "duration": 39,
    "start_time": "2024-09-17T20:39:41.714Z"
   },
   {
    "duration": 10,
    "start_time": "2024-09-17T20:39:41.755Z"
   },
   {
    "duration": 39,
    "start_time": "2024-09-17T20:39:41.767Z"
   },
   {
    "duration": 58,
    "start_time": "2024-09-17T20:39:41.812Z"
   },
   {
    "duration": 113,
    "start_time": "2024-09-17T20:39:41.871Z"
   },
   {
    "duration": 8,
    "start_time": "2024-09-17T20:39:41.986Z"
   },
   {
    "duration": 8,
    "start_time": "2024-09-17T20:39:42.007Z"
   },
   {
    "duration": 5,
    "start_time": "2024-09-17T20:39:42.017Z"
   },
   {
    "duration": 5,
    "start_time": "2024-09-17T20:39:42.024Z"
   },
   {
    "duration": 81,
    "start_time": "2024-09-17T20:39:42.030Z"
   },
   {
    "duration": 14,
    "start_time": "2024-09-17T20:39:42.114Z"
   },
   {
    "duration": 4,
    "start_time": "2024-09-17T20:39:42.130Z"
   },
   {
    "duration": 8,
    "start_time": "2024-09-17T20:39:42.135Z"
   },
   {
    "duration": 6,
    "start_time": "2024-09-17T20:39:42.145Z"
   },
   {
    "duration": 3,
    "start_time": "2024-09-17T20:39:42.152Z"
   },
   {
    "duration": 49,
    "start_time": "2024-09-17T20:39:42.157Z"
   },
   {
    "duration": 13,
    "start_time": "2024-09-17T20:39:42.208Z"
   },
   {
    "duration": 5,
    "start_time": "2024-09-17T20:39:42.223Z"
   },
   {
    "duration": 21,
    "start_time": "2024-09-17T20:39:42.230Z"
   },
   {
    "duration": 4,
    "start_time": "2024-09-17T20:39:42.255Z"
   },
   {
    "duration": 11,
    "start_time": "2024-09-17T20:39:42.261Z"
   },
   {
    "duration": 34,
    "start_time": "2024-09-17T20:39:42.274Z"
   },
   {
    "duration": 15,
    "start_time": "2024-09-17T20:39:42.309Z"
   },
   {
    "duration": 4,
    "start_time": "2024-09-17T20:39:42.327Z"
   },
   {
    "duration": 8,
    "start_time": "2024-09-17T20:39:42.333Z"
   },
   {
    "duration": 8,
    "start_time": "2024-09-17T20:39:42.343Z"
   },
   {
    "duration": 9,
    "start_time": "2024-09-17T20:39:42.353Z"
   },
   {
    "duration": 3,
    "start_time": "2024-09-17T20:39:42.364Z"
   },
   {
    "duration": 3,
    "start_time": "2024-09-17T20:39:42.405Z"
   },
   {
    "duration": 2,
    "start_time": "2024-09-17T20:39:42.410Z"
   },
   {
    "duration": 2,
    "start_time": "2024-09-17T20:39:42.414Z"
   },
   {
    "duration": 4,
    "start_time": "2024-09-17T20:39:42.418Z"
   },
   {
    "duration": 5,
    "start_time": "2024-09-17T20:39:42.424Z"
   },
   {
    "duration": 3,
    "start_time": "2024-09-17T20:39:42.432Z"
   },
   {
    "duration": 9,
    "start_time": "2024-09-17T20:39:42.437Z"
   },
   {
    "duration": 2,
    "start_time": "2024-09-17T20:39:42.451Z"
   },
   {
    "duration": 3,
    "start_time": "2024-09-17T20:39:42.455Z"
   },
   {
    "duration": 2,
    "start_time": "2024-09-17T20:39:42.459Z"
   },
   {
    "duration": 2,
    "start_time": "2024-09-17T20:39:42.463Z"
   },
   {
    "duration": 38,
    "start_time": "2024-09-17T20:39:42.467Z"
   },
   {
    "duration": 2,
    "start_time": "2024-09-17T20:39:42.508Z"
   },
   {
    "duration": 3,
    "start_time": "2024-09-17T20:39:42.512Z"
   },
   {
    "duration": 3,
    "start_time": "2024-09-17T20:39:42.516Z"
   },
   {
    "duration": 3,
    "start_time": "2024-09-17T20:39:42.520Z"
   },
   {
    "duration": 2,
    "start_time": "2024-09-17T20:39:42.525Z"
   },
   {
    "duration": 2,
    "start_time": "2024-09-17T20:39:42.529Z"
   },
   {
    "duration": 4,
    "start_time": "2024-09-17T20:39:42.532Z"
   },
   {
    "duration": 2,
    "start_time": "2024-09-17T20:39:42.537Z"
   },
   {
    "duration": 2,
    "start_time": "2024-09-17T20:39:42.542Z"
   },
   {
    "duration": 2,
    "start_time": "2024-09-17T20:39:42.546Z"
   },
   {
    "duration": 2,
    "start_time": "2024-09-17T20:39:42.550Z"
   },
   {
    "duration": 4,
    "start_time": "2024-09-17T20:40:13.862Z"
   },
   {
    "duration": 8,
    "start_time": "2024-09-17T20:40:23.715Z"
   },
   {
    "duration": 3,
    "start_time": "2024-09-17T20:40:56.569Z"
   },
   {
    "duration": 9,
    "start_time": "2024-09-17T20:40:59.004Z"
   },
   {
    "duration": 2,
    "start_time": "2024-09-17T20:44:35.174Z"
   },
   {
    "duration": 161,
    "start_time": "2024-09-17T20:44:35.178Z"
   },
   {
    "duration": 5,
    "start_time": "2024-09-17T20:44:35.341Z"
   },
   {
    "duration": 9,
    "start_time": "2024-09-17T20:44:35.348Z"
   },
   {
    "duration": 6,
    "start_time": "2024-09-17T20:44:35.360Z"
   },
   {
    "duration": 6,
    "start_time": "2024-09-17T20:44:35.367Z"
   },
   {
    "duration": 5,
    "start_time": "2024-09-17T20:44:35.405Z"
   },
   {
    "duration": 14,
    "start_time": "2024-09-17T20:44:35.411Z"
   },
   {
    "duration": 16,
    "start_time": "2024-09-17T20:44:35.426Z"
   },
   {
    "duration": 6,
    "start_time": "2024-09-17T20:44:35.443Z"
   },
   {
    "duration": 17,
    "start_time": "2024-09-17T20:44:35.452Z"
   },
   {
    "duration": 51,
    "start_time": "2024-09-17T20:44:35.505Z"
   },
   {
    "duration": 50,
    "start_time": "2024-09-17T20:44:35.557Z"
   },
   {
    "duration": 12,
    "start_time": "2024-09-17T20:44:35.609Z"
   },
   {
    "duration": 18,
    "start_time": "2024-09-17T20:44:35.623Z"
   },
   {
    "duration": 108,
    "start_time": "2024-09-17T20:44:35.643Z"
   },
   {
    "duration": 6,
    "start_time": "2024-09-17T20:44:35.753Z"
   },
   {
    "duration": 12,
    "start_time": "2024-09-17T20:44:35.761Z"
   },
   {
    "duration": 53,
    "start_time": "2024-09-17T20:44:35.775Z"
   },
   {
    "duration": 18,
    "start_time": "2024-09-17T20:44:35.830Z"
   },
   {
    "duration": 8,
    "start_time": "2024-09-17T20:44:35.850Z"
   },
   {
    "duration": 60,
    "start_time": "2024-09-17T20:44:35.860Z"
   },
   {
    "duration": 7,
    "start_time": "2024-09-17T20:44:35.921Z"
   },
   {
    "duration": 14,
    "start_time": "2024-09-17T20:44:35.929Z"
   },
   {
    "duration": 80,
    "start_time": "2024-09-17T20:44:35.945Z"
   },
   {
    "duration": 41,
    "start_time": "2024-09-17T20:44:36.027Z"
   },
   {
    "duration": 9,
    "start_time": "2024-09-17T20:44:36.070Z"
   },
   {
    "duration": 39,
    "start_time": "2024-09-17T20:44:36.081Z"
   },
   {
    "duration": 61,
    "start_time": "2024-09-17T20:44:36.126Z"
   },
   {
    "duration": 123,
    "start_time": "2024-09-17T20:44:36.189Z"
   },
   {
    "duration": 9,
    "start_time": "2024-09-17T20:44:36.314Z"
   },
   {
    "duration": 8,
    "start_time": "2024-09-17T20:44:36.324Z"
   },
   {
    "duration": 3,
    "start_time": "2024-09-17T20:44:36.335Z"
   },
   {
    "duration": 5,
    "start_time": "2024-09-17T20:44:36.340Z"
   },
   {
    "duration": 10,
    "start_time": "2024-09-17T20:44:36.346Z"
   },
   {
    "duration": 49,
    "start_time": "2024-09-17T20:44:36.358Z"
   },
   {
    "duration": 3,
    "start_time": "2024-09-17T20:44:36.409Z"
   },
   {
    "duration": 9,
    "start_time": "2024-09-17T20:44:36.414Z"
   },
   {
    "duration": 4,
    "start_time": "2024-09-17T20:44:36.425Z"
   },
   {
    "duration": 3,
    "start_time": "2024-09-17T20:44:36.431Z"
   },
   {
    "duration": 18,
    "start_time": "2024-09-17T20:44:36.435Z"
   },
   {
    "duration": 9,
    "start_time": "2024-09-17T20:44:36.454Z"
   },
   {
    "duration": 4,
    "start_time": "2024-09-17T20:44:36.465Z"
   },
   {
    "duration": 55,
    "start_time": "2024-09-17T20:44:36.470Z"
   },
   {
    "duration": 5,
    "start_time": "2024-09-17T20:44:36.527Z"
   },
   {
    "duration": 14,
    "start_time": "2024-09-17T20:44:36.534Z"
   },
   {
    "duration": 4,
    "start_time": "2024-09-17T20:44:36.550Z"
   },
   {
    "duration": 14,
    "start_time": "2024-09-17T20:44:36.555Z"
   },
   {
    "duration": 4,
    "start_time": "2024-09-17T20:44:36.570Z"
   },
   {
    "duration": 3,
    "start_time": "2024-09-17T20:44:36.606Z"
   },
   {
    "duration": 2,
    "start_time": "2024-09-17T20:44:36.611Z"
   },
   {
    "duration": 3,
    "start_time": "2024-09-17T20:44:36.615Z"
   },
   {
    "duration": 3,
    "start_time": "2024-09-17T20:44:36.619Z"
   },
   {
    "duration": 2,
    "start_time": "2024-09-17T20:44:36.624Z"
   },
   {
    "duration": 2,
    "start_time": "2024-09-17T20:44:36.628Z"
   },
   {
    "duration": 2,
    "start_time": "2024-09-17T20:44:36.632Z"
   },
   {
    "duration": 3,
    "start_time": "2024-09-17T20:44:36.635Z"
   },
   {
    "duration": 3,
    "start_time": "2024-09-17T20:44:36.639Z"
   },
   {
    "duration": 3,
    "start_time": "2024-09-17T20:44:36.643Z"
   },
   {
    "duration": 3,
    "start_time": "2024-09-17T20:44:36.647Z"
   },
   {
    "duration": 3,
    "start_time": "2024-09-17T20:44:36.651Z"
   },
   {
    "duration": 51,
    "start_time": "2024-09-17T20:44:36.655Z"
   },
   {
    "duration": 3,
    "start_time": "2024-09-17T20:44:36.708Z"
   },
   {
    "duration": 3,
    "start_time": "2024-09-17T20:44:36.713Z"
   },
   {
    "duration": 2,
    "start_time": "2024-09-17T20:44:36.718Z"
   },
   {
    "duration": 2,
    "start_time": "2024-09-17T20:44:36.722Z"
   },
   {
    "duration": 8,
    "start_time": "2024-09-17T20:45:06.532Z"
   },
   {
    "duration": 5,
    "start_time": "2024-09-17T20:45:15.115Z"
   },
   {
    "duration": 5,
    "start_time": "2024-09-17T20:47:39.427Z"
   },
   {
    "duration": 10,
    "start_time": "2024-09-17T20:54:36.926Z"
   },
   {
    "duration": 82,
    "start_time": "2024-09-17T20:56:01.411Z"
   },
   {
    "duration": 10,
    "start_time": "2024-09-17T20:56:45.124Z"
   },
   {
    "duration": 4,
    "start_time": "2024-09-17T20:56:56.326Z"
   },
   {
    "duration": 18,
    "start_time": "2024-09-17T20:57:52.052Z"
   },
   {
    "duration": 17,
    "start_time": "2024-09-17T20:58:01.767Z"
   },
   {
    "duration": 85,
    "start_time": "2024-09-17T20:59:34.000Z"
   },
   {
    "duration": 192,
    "start_time": "2024-09-17T21:00:01.021Z"
   },
   {
    "duration": 5,
    "start_time": "2024-09-17T21:01:26.322Z"
   },
   {
    "duration": 6,
    "start_time": "2024-09-17T21:01:34.300Z"
   },
   {
    "duration": 6,
    "start_time": "2024-09-17T21:02:18.213Z"
   },
   {
    "duration": 42,
    "start_time": "2024-09-17T21:02:53.224Z"
   },
   {
    "duration": 7,
    "start_time": "2024-09-17T21:03:21.957Z"
   },
   {
    "duration": 7,
    "start_time": "2024-09-17T21:03:36.513Z"
   },
   {
    "duration": 7,
    "start_time": "2024-09-17T21:04:00.331Z"
   },
   {
    "duration": 9,
    "start_time": "2024-09-17T21:09:34.862Z"
   },
   {
    "duration": 10,
    "start_time": "2024-09-17T21:09:48.734Z"
   },
   {
    "duration": 21,
    "start_time": "2024-09-17T21:10:05.980Z"
   },
   {
    "duration": 11,
    "start_time": "2024-09-17T21:10:14.132Z"
   },
   {
    "duration": 10,
    "start_time": "2024-09-17T21:10:28.460Z"
   },
   {
    "duration": 10,
    "start_time": "2024-09-17T21:11:03.770Z"
   },
   {
    "duration": 16,
    "start_time": "2024-09-17T21:13:47.630Z"
   },
   {
    "duration": 14,
    "start_time": "2024-09-17T21:14:55.245Z"
   },
   {
    "duration": 10,
    "start_time": "2024-09-17T21:15:04.349Z"
   },
   {
    "duration": 15,
    "start_time": "2024-09-17T21:15:12.055Z"
   },
   {
    "duration": 18,
    "start_time": "2024-09-17T21:19:08.260Z"
   },
   {
    "duration": 13,
    "start_time": "2024-09-17T21:20:03.991Z"
   },
   {
    "duration": 20,
    "start_time": "2024-09-17T21:21:33.979Z"
   },
   {
    "duration": 21,
    "start_time": "2024-09-17T21:22:00.868Z"
   },
   {
    "duration": 17,
    "start_time": "2024-09-17T21:23:19.841Z"
   },
   {
    "duration": 19,
    "start_time": "2024-09-17T21:23:31.632Z"
   },
   {
    "duration": 19,
    "start_time": "2024-09-17T21:24:04.034Z"
   },
   {
    "duration": 26,
    "start_time": "2024-09-17T21:24:22.552Z"
   },
   {
    "duration": 27,
    "start_time": "2024-09-17T21:24:47.975Z"
   },
   {
    "duration": 19,
    "start_time": "2024-09-17T21:25:19.120Z"
   },
   {
    "duration": 19,
    "start_time": "2024-09-17T21:25:41.326Z"
   },
   {
    "duration": 20,
    "start_time": "2024-09-17T21:25:53.396Z"
   },
   {
    "duration": 20,
    "start_time": "2024-09-17T21:26:04.067Z"
   },
   {
    "duration": 20,
    "start_time": "2024-09-17T21:27:35.686Z"
   },
   {
    "duration": 20,
    "start_time": "2024-09-17T21:27:42.176Z"
   },
   {
    "duration": 20,
    "start_time": "2024-09-17T21:28:35.759Z"
   },
   {
    "duration": 19,
    "start_time": "2024-09-17T21:28:44.234Z"
   },
   {
    "duration": 22,
    "start_time": "2024-09-17T21:28:56.355Z"
   },
   {
    "duration": 27,
    "start_time": "2024-09-17T21:29:12.210Z"
   },
   {
    "duration": 27,
    "start_time": "2024-09-17T21:29:21.234Z"
   },
   {
    "duration": 22,
    "start_time": "2024-09-17T21:29:27.801Z"
   },
   {
    "duration": 22,
    "start_time": "2024-09-17T21:29:48.260Z"
   },
   {
    "duration": 22,
    "start_time": "2024-09-17T21:29:56.223Z"
   },
   {
    "duration": 22,
    "start_time": "2024-09-17T21:30:02.296Z"
   },
   {
    "duration": 30,
    "start_time": "2024-09-17T21:30:11.632Z"
   },
   {
    "duration": 26,
    "start_time": "2024-09-17T21:30:15.208Z"
   },
   {
    "duration": 23,
    "start_time": "2024-09-17T21:30:26.346Z"
   },
   {
    "duration": 25,
    "start_time": "2024-09-17T21:32:50.132Z"
   },
   {
    "duration": 24,
    "start_time": "2024-09-17T21:33:02.603Z"
   },
   {
    "duration": 21,
    "start_time": "2024-09-17T21:34:59.229Z"
   },
   {
    "duration": 23,
    "start_time": "2024-09-17T21:35:07.677Z"
   },
   {
    "duration": 31,
    "start_time": "2024-09-17T21:35:23.471Z"
   },
   {
    "duration": 20,
    "start_time": "2024-09-17T21:35:28.342Z"
   },
   {
    "duration": 19,
    "start_time": "2024-09-17T21:36:00.853Z"
   },
   {
    "duration": 21,
    "start_time": "2024-09-17T21:36:09.983Z"
   },
   {
    "duration": 3,
    "start_time": "2024-09-17T21:36:28.358Z"
   },
   {
    "duration": 160,
    "start_time": "2024-09-17T21:36:28.363Z"
   },
   {
    "duration": 5,
    "start_time": "2024-09-17T21:36:28.525Z"
   },
   {
    "duration": 8,
    "start_time": "2024-09-17T21:36:28.532Z"
   },
   {
    "duration": 7,
    "start_time": "2024-09-17T21:36:28.543Z"
   },
   {
    "duration": 5,
    "start_time": "2024-09-17T21:36:28.552Z"
   },
   {
    "duration": 4,
    "start_time": "2024-09-17T21:36:28.559Z"
   },
   {
    "duration": 51,
    "start_time": "2024-09-17T21:36:28.565Z"
   },
   {
    "duration": 16,
    "start_time": "2024-09-17T21:36:28.619Z"
   },
   {
    "duration": 5,
    "start_time": "2024-09-17T21:36:28.637Z"
   },
   {
    "duration": 16,
    "start_time": "2024-09-17T21:36:28.644Z"
   },
   {
    "duration": 82,
    "start_time": "2024-09-17T21:36:28.662Z"
   },
   {
    "duration": 32,
    "start_time": "2024-09-17T21:36:28.746Z"
   },
   {
    "duration": 28,
    "start_time": "2024-09-17T21:36:28.780Z"
   },
   {
    "duration": 17,
    "start_time": "2024-09-17T21:36:28.809Z"
   },
   {
    "duration": 84,
    "start_time": "2024-09-17T21:36:28.828Z"
   },
   {
    "duration": 5,
    "start_time": "2024-09-17T21:36:28.914Z"
   },
   {
    "duration": 12,
    "start_time": "2024-09-17T21:36:28.921Z"
   },
   {
    "duration": 26,
    "start_time": "2024-09-17T21:36:28.934Z"
   },
   {
    "duration": 46,
    "start_time": "2024-09-17T21:36:28.962Z"
   },
   {
    "duration": 8,
    "start_time": "2024-09-17T21:36:29.010Z"
   },
   {
    "duration": 37,
    "start_time": "2024-09-17T21:36:29.020Z"
   },
   {
    "duration": 6,
    "start_time": "2024-09-17T21:36:29.059Z"
   },
   {
    "duration": 14,
    "start_time": "2024-09-17T21:36:29.067Z"
   },
   {
    "duration": 61,
    "start_time": "2024-09-17T21:36:29.107Z"
   },
   {
    "duration": 51,
    "start_time": "2024-09-17T21:36:29.169Z"
   },
   {
    "duration": 9,
    "start_time": "2024-09-17T21:36:29.223Z"
   },
   {
    "duration": 15,
    "start_time": "2024-09-17T21:36:29.234Z"
   },
   {
    "duration": 80,
    "start_time": "2024-09-17T21:36:29.253Z"
   },
   {
    "duration": 109,
    "start_time": "2024-09-17T21:36:29.335Z"
   },
   {
    "duration": 7,
    "start_time": "2024-09-17T21:36:29.446Z"
   },
   {
    "duration": 8,
    "start_time": "2024-09-17T21:36:29.455Z"
   },
   {
    "duration": 3,
    "start_time": "2024-09-17T21:36:29.465Z"
   },
   {
    "duration": 4,
    "start_time": "2024-09-17T21:36:29.470Z"
   },
   {
    "duration": 39,
    "start_time": "2024-09-17T21:36:29.475Z"
   },
   {
    "duration": 13,
    "start_time": "2024-09-17T21:36:29.516Z"
   },
   {
    "duration": 4,
    "start_time": "2024-09-17T21:36:29.531Z"
   },
   {
    "duration": 8,
    "start_time": "2024-09-17T21:36:29.537Z"
   },
   {
    "duration": 5,
    "start_time": "2024-09-17T21:36:29.546Z"
   },
   {
    "duration": 3,
    "start_time": "2024-09-17T21:36:29.553Z"
   },
   {
    "duration": 51,
    "start_time": "2024-09-17T21:36:29.558Z"
   },
   {
    "duration": 10,
    "start_time": "2024-09-17T21:36:29.611Z"
   },
   {
    "duration": 4,
    "start_time": "2024-09-17T21:36:29.623Z"
   },
   {
    "duration": 15,
    "start_time": "2024-09-17T21:36:29.629Z"
   },
   {
    "duration": 3,
    "start_time": "2024-09-17T21:36:29.646Z"
   },
   {
    "duration": 11,
    "start_time": "2024-09-17T21:36:29.650Z"
   },
   {
    "duration": 4,
    "start_time": "2024-09-17T21:36:29.662Z"
   },
   {
    "duration": 49,
    "start_time": "2024-09-17T21:36:29.668Z"
   },
   {
    "duration": 3,
    "start_time": "2024-09-17T21:36:29.719Z"
   },
   {
    "duration": 4,
    "start_time": "2024-09-17T21:36:29.724Z"
   },
   {
    "duration": 6,
    "start_time": "2024-09-17T21:36:29.729Z"
   },
   {
    "duration": 25,
    "start_time": "2024-09-17T21:36:29.736Z"
   },
   {
    "duration": 2,
    "start_time": "2024-09-17T21:36:29.763Z"
   },
   {
    "duration": 3,
    "start_time": "2024-09-17T21:36:29.766Z"
   },
   {
    "duration": 36,
    "start_time": "2024-09-17T21:36:29.770Z"
   },
   {
    "duration": 2,
    "start_time": "2024-09-17T21:36:29.808Z"
   },
   {
    "duration": 3,
    "start_time": "2024-09-17T21:36:29.812Z"
   },
   {
    "duration": 3,
    "start_time": "2024-09-17T21:36:29.816Z"
   },
   {
    "duration": 2,
    "start_time": "2024-09-17T21:36:29.821Z"
   },
   {
    "duration": 3,
    "start_time": "2024-09-17T21:36:29.824Z"
   },
   {
    "duration": 2,
    "start_time": "2024-09-17T21:36:29.829Z"
   },
   {
    "duration": 2,
    "start_time": "2024-09-17T21:36:29.833Z"
   },
   {
    "duration": 3,
    "start_time": "2024-09-17T21:36:29.837Z"
   },
   {
    "duration": 3,
    "start_time": "2024-09-17T21:36:29.842Z"
   },
   {
    "duration": 3,
    "start_time": "2024-09-17T21:36:29.846Z"
   },
   {
    "duration": 3,
    "start_time": "2024-09-17T21:36:29.851Z"
   },
   {
    "duration": 2,
    "start_time": "2024-09-17T21:37:17.304Z"
   },
   {
    "duration": 2,
    "start_time": "2024-09-17T21:37:27.650Z"
   },
   {
    "duration": 12,
    "start_time": "2024-09-17T21:40:52.917Z"
   },
   {
    "duration": 19,
    "start_time": "2024-09-17T21:41:58.911Z"
   },
   {
    "duration": 24,
    "start_time": "2024-09-17T21:42:05.607Z"
   },
   {
    "duration": 20,
    "start_time": "2024-09-17T21:42:11.121Z"
   },
   {
    "duration": 24,
    "start_time": "2024-09-17T21:43:47.981Z"
   },
   {
    "duration": 24,
    "start_time": "2024-09-17T21:45:41.865Z"
   },
   {
    "duration": 15,
    "start_time": "2024-09-17T21:45:45.072Z"
   },
   {
    "duration": 26,
    "start_time": "2024-09-17T21:46:59.187Z"
   },
   {
    "duration": 5,
    "start_time": "2024-09-17T21:47:19.225Z"
   },
   {
    "duration": 25,
    "start_time": "2024-09-17T21:47:22.675Z"
   },
   {
    "duration": 25,
    "start_time": "2024-09-17T21:47:51.560Z"
   },
   {
    "duration": 3,
    "start_time": "2024-09-17T21:50:21.424Z"
   },
   {
    "duration": 162,
    "start_time": "2024-09-17T21:50:21.429Z"
   },
   {
    "duration": 5,
    "start_time": "2024-09-17T21:50:21.593Z"
   },
   {
    "duration": 8,
    "start_time": "2024-09-17T21:50:21.606Z"
   },
   {
    "duration": 7,
    "start_time": "2024-09-17T21:50:21.617Z"
   },
   {
    "duration": 5,
    "start_time": "2024-09-17T21:50:21.625Z"
   },
   {
    "duration": 4,
    "start_time": "2024-09-17T21:50:21.632Z"
   },
   {
    "duration": 12,
    "start_time": "2024-09-17T21:50:21.637Z"
   },
   {
    "duration": 56,
    "start_time": "2024-09-17T21:50:21.650Z"
   },
   {
    "duration": 5,
    "start_time": "2024-09-17T21:50:21.708Z"
   },
   {
    "duration": 15,
    "start_time": "2024-09-17T21:50:21.715Z"
   },
   {
    "duration": 47,
    "start_time": "2024-09-17T21:50:21.732Z"
   },
   {
    "duration": 50,
    "start_time": "2024-09-17T21:50:21.781Z"
   },
   {
    "duration": 12,
    "start_time": "2024-09-17T21:50:21.832Z"
   },
   {
    "duration": 15,
    "start_time": "2024-09-17T21:50:21.846Z"
   },
   {
    "duration": 95,
    "start_time": "2024-09-17T21:50:21.863Z"
   },
   {
    "duration": 5,
    "start_time": "2024-09-17T21:50:21.961Z"
   },
   {
    "duration": 11,
    "start_time": "2024-09-17T21:50:21.968Z"
   },
   {
    "duration": 45,
    "start_time": "2024-09-17T21:50:21.981Z"
   },
   {
    "duration": 17,
    "start_time": "2024-09-17T21:50:22.028Z"
   },
   {
    "duration": 8,
    "start_time": "2024-09-17T21:50:22.047Z"
   },
   {
    "duration": 66,
    "start_time": "2024-09-17T21:50:22.057Z"
   },
   {
    "duration": 10,
    "start_time": "2024-09-17T21:50:22.125Z"
   },
   {
    "duration": 15,
    "start_time": "2024-09-17T21:50:22.137Z"
   },
   {
    "duration": 73,
    "start_time": "2024-09-17T21:50:22.154Z"
   },
   {
    "duration": 33,
    "start_time": "2024-09-17T21:50:22.229Z"
   },
   {
    "duration": 10,
    "start_time": "2024-09-17T21:50:22.264Z"
   },
   {
    "duration": 38,
    "start_time": "2024-09-17T21:50:22.276Z"
   },
   {
    "duration": 56,
    "start_time": "2024-09-17T21:50:22.319Z"
   },
   {
    "duration": 123,
    "start_time": "2024-09-17T21:50:22.377Z"
   },
   {
    "duration": 13,
    "start_time": "2024-09-17T21:50:22.501Z"
   },
   {
    "duration": 11,
    "start_time": "2024-09-17T21:50:22.516Z"
   },
   {
    "duration": 4,
    "start_time": "2024-09-17T21:50:22.528Z"
   },
   {
    "duration": 4,
    "start_time": "2024-09-17T21:50:22.534Z"
   },
   {
    "duration": 10,
    "start_time": "2024-09-17T21:50:22.540Z"
   },
   {
    "duration": 12,
    "start_time": "2024-09-17T21:50:22.551Z"
   },
   {
    "duration": 3,
    "start_time": "2024-09-17T21:50:22.566Z"
   },
   {
    "duration": 11,
    "start_time": "2024-09-17T21:50:22.606Z"
   },
   {
    "duration": 6,
    "start_time": "2024-09-17T21:50:22.619Z"
   },
   {
    "duration": 4,
    "start_time": "2024-09-17T21:50:22.626Z"
   },
   {
    "duration": 24,
    "start_time": "2024-09-17T21:50:22.631Z"
   },
   {
    "duration": 9,
    "start_time": "2024-09-17T21:50:22.657Z"
   },
   {
    "duration": 4,
    "start_time": "2024-09-17T21:50:22.667Z"
   },
   {
    "duration": 48,
    "start_time": "2024-09-17T21:50:22.673Z"
   },
   {
    "duration": 4,
    "start_time": "2024-09-17T21:50:22.723Z"
   },
   {
    "duration": 10,
    "start_time": "2024-09-17T21:50:22.729Z"
   },
   {
    "duration": 4,
    "start_time": "2024-09-17T21:50:22.741Z"
   },
   {
    "duration": 13,
    "start_time": "2024-09-17T21:50:22.747Z"
   },
   {
    "duration": 3,
    "start_time": "2024-09-17T21:50:22.762Z"
   },
   {
    "duration": 39,
    "start_time": "2024-09-17T21:50:22.767Z"
   },
   {
    "duration": 7,
    "start_time": "2024-09-17T21:50:22.808Z"
   },
   {
    "duration": 10,
    "start_time": "2024-09-17T21:50:22.818Z"
   },
   {
    "duration": 24,
    "start_time": "2024-09-17T21:50:22.830Z"
   },
   {
    "duration": 16,
    "start_time": "2024-09-17T21:50:22.856Z"
   },
   {
    "duration": 32,
    "start_time": "2024-09-17T21:50:22.873Z"
   },
   {
    "duration": 2,
    "start_time": "2024-09-17T21:50:22.907Z"
   },
   {
    "duration": 2,
    "start_time": "2024-09-17T21:50:22.912Z"
   },
   {
    "duration": 2,
    "start_time": "2024-09-17T21:50:22.916Z"
   },
   {
    "duration": 2,
    "start_time": "2024-09-17T21:50:22.920Z"
   },
   {
    "duration": 2,
    "start_time": "2024-09-17T21:50:22.925Z"
   },
   {
    "duration": 2,
    "start_time": "2024-09-17T21:50:22.929Z"
   },
   {
    "duration": 3,
    "start_time": "2024-09-17T21:50:22.932Z"
   },
   {
    "duration": 2,
    "start_time": "2024-09-17T21:50:22.937Z"
   },
   {
    "duration": 3,
    "start_time": "2024-09-17T21:50:22.941Z"
   },
   {
    "duration": 3,
    "start_time": "2024-09-17T21:50:22.946Z"
   },
   {
    "duration": 3,
    "start_time": "2024-09-17T21:50:22.950Z"
   },
   {
    "duration": 2,
    "start_time": "2024-09-17T21:50:22.956Z"
   },
   {
    "duration": 26,
    "start_time": "2024-09-17T22:02:36.948Z"
   },
   {
    "duration": 308,
    "start_time": "2024-09-17T22:03:28.423Z"
   },
   {
    "duration": 126,
    "start_time": "2024-09-17T22:03:43.392Z"
   }
  ],
  "colab": {
   "provenance": []
  },
  "kernelspec": {
   "display_name": "Python 3 (ipykernel)",
   "language": "python",
   "name": "python3"
  },
  "language_info": {
   "codemirror_mode": {
    "name": "ipython",
    "version": 3
   },
   "file_extension": ".py",
   "mimetype": "text/x-python",
   "name": "python",
   "nbconvert_exporter": "python",
   "pygments_lexer": "ipython3",
   "version": "3.12.5"
  },
  "toc": {
   "base_numbering": 1,
   "nav_menu": {},
   "number_sections": true,
   "sideBar": true,
   "skip_h1_title": false,
   "title_cell": "Table of Contents",
   "title_sidebar": "Contents",
   "toc_cell": false,
   "toc_position": {
    "height": "calc(100% - 180px)",
    "left": "10px",
    "top": "150px",
    "width": "359.391px"
   },
   "toc_section_display": true,
   "toc_window_display": true
  }
 },
 "nbformat": 4,
 "nbformat_minor": 1
}

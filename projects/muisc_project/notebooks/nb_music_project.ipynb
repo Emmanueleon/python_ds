{
 "cells": [
  {
   "cell_type": "markdown",
   "metadata": {
    "id": "E0vqbgi9ay0H"
   },
   "source": [
    "# Déjame escuchar la música"
   ]
  },
  {
   "cell_type": "markdown",
   "metadata": {
    "id": "fhq_eyov_Zcs"
   },
   "source": [
    "# Contenido <a id='back'></a>\n",
    "\n",
    "* [Introducción](#intro)\n",
    "* [Etapa 1. Descripción de los datos](#data_review)\n",
    "    * [Conclusiones](#data_review_conclusions)\n",
    "* [Etapa 2. Preprocesamiento de datos](#data_preprocessing)\n",
    "    * [2.1 Estilo del encabezado](#header_style)\n",
    "    * [2.2 Valores ausentes](#missing_values)\n",
    "    * [2.3 Duplicados](#duplicates)\n",
    "    * [2.4 Conclusiones](#data_preprocessing_conclusions)\n",
    "* [Etapa 3. Prueba de hipótesis](#hypothesis)\n",
    "    * [3.1 Hipótesis 1: actividad de los usuarios y las usuarias en las dos ciudades](#activity)\n",
    "* [Conclusiones](#end)"
   ]
  },
  {
   "cell_type": "markdown",
   "metadata": {
    "id": "VUC88oWjTJw2"
   },
   "source": [
    "## Introducción <a id='intro'></a>\n",
    "---\n",
    "\n",
    "Como analista de datos, tu trabajo consiste en analizar datos para extraer información valiosa y tomar decisiones basadas en ellos. Esto implica diferentes etapas, como la descripción general de los datos, el preprocesamiento y la prueba de hipótesis.\n",
    "\n",
    "Siempre que investigamos, necesitamos formular hipótesis que después podamos probar. A veces aceptamos estas hipótesis; otras veces, las rechazamos. Para tomar las decisiones correctas, una empresa debe ser capaz de entender si está haciendo las suposiciones correctas.\n",
    "\n",
    "En este proyecto, compararás las preferencias musicales de las ciudades de Springfield y Shelbyville. Estudiarás datos reales de transmisión de música online para probar la hipótesis a continuación y comparar el comportamiento de los usuarios y las usuarias de estas dos ciudades.\n",
    "\n",
    "### Objetivo:\n",
    "Prueba la hipótesis:\n",
    "1. La actividad de los usuarios y las usuarias difiere según el día de la semana y dependiendo de la ciudad.\n",
    "\n",
    "\n",
    "### Etapas\n",
    "Los datos del comportamiento del usuario se almacenan en el archivo `/datasets/music_project_en.csv`. No hay ninguna información sobre la calidad de los datos, así que necesitarás examinarlos antes de probar la hipótesis.\n",
    "\n",
    "Primero, evaluarás la calidad de los datos y verás si los problemas son significativos. Entonces, durante el preprocesamiento de datos, tomarás en cuenta los problemas más críticos.\n",
    "\n",
    "Tu proyecto consistirá en tres etapas:\n",
    " 1. Descripción de los datos.\n",
    " 2. Preprocesamiento de datos.\n",
    " 3. Prueba de hipótesis.\n",
    "\n",
    "\n",
    "\n",
    "\n",
    "\n",
    "\n"
   ]
  },
  {
   "cell_type": "markdown",
   "metadata": {
    "id": "hDt6pg-Rw-1U"
   },
   "source": [
    "[Volver a Contenidos](#back)"
   ]
  },
  {
   "cell_type": "markdown",
   "metadata": {
    "id": "Ml1hmfXC_Zcs"
   },
   "source": [
    "## Etapa 1. Descripción de los datos <a id='data_review'></a>\n",
    "---\n",
    "\n",
    "\n",
    "### Exploración de los datos  \n",
    "\n",
    "1. Abre los datos y examínalos. Necesitarás `pandas`, así que impórtalo."
   ]
  },
  {
   "cell_type": "code",
   "execution_count": 4,
   "metadata": {
    "id": "AXN7PHPN_Zcs"
   },
   "outputs": [],
   "source": [
    "# Importar pandas\n",
    "import pandas as pd"
   ]
  },
  {
   "cell_type": "markdown",
   "metadata": {
    "id": "SG23P8tt_Zcs"
   },
   "source": [
    "2. Lee el archivo `music_project_en.csv` de la carpeta `/datasets/` y guárdalo en la variable `df`:"
   ]
  },
  {
   "cell_type": "code",
   "execution_count": 5,
   "metadata": {
    "id": "fFVu7vqh_Zct"
   },
   "outputs": [],
   "source": [
    "# Leer el archivo y almacenarlo en df\n",
    "df = pd.read_csv(\"../data/music_project_en.csv\")"
   ]
  },
  {
   "cell_type": "markdown",
   "metadata": {
    "id": "rDoOMd3uTqnZ"
   },
   "source": [
    "3. Muestra las 10 primeras filas de la tabla:"
   ]
  },
  {
   "cell_type": "code",
   "execution_count": 6,
   "metadata": {
    "id": "oWTVX3gW_Zct"
   },
   "outputs": [
    {
     "name": "stdout",
     "output_type": "stream",
     "text": [
      "     userID                        Track            artist   genre  \\\n",
      "0  FFB692EC            Kamigata To Boots  The Mass Missile    rock   \n",
      "1  55204538  Delayed Because of Accident  Andreas Rönnberg    rock   \n",
      "2    20EC38            Funiculì funiculà       Mario Lanza     pop   \n",
      "3  A3DD03C9        Dragons in the Sunset        Fire + Ice    folk   \n",
      "4  E2DC1FAE                  Soul People        Space Echo   dance   \n",
      "5  842029A1                       Chains          Obladaet  rusrap   \n",
      "6  4CB90AA5                         True      Roman Messer   dance   \n",
      "7  F03E1C1F             Feeling This Way   Polina Griffith   dance   \n",
      "8  8FA1D3BE                     L’estate       Julia Dalia  ruspop   \n",
      "9  E772D5C0                    Pessimist               NaN   dance   \n",
      "\n",
      "        City        time        Day  \n",
      "0  Shelbyville  20:28:33  Wednesday  \n",
      "1  Springfield  14:07:09     Friday  \n",
      "2  Shelbyville  20:58:07  Wednesday  \n",
      "3  Shelbyville  08:37:09     Monday  \n",
      "4  Springfield  08:34:34     Monday  \n",
      "5  Shelbyville  13:09:41     Friday  \n",
      "6  Springfield  13:00:07  Wednesday  \n",
      "7  Springfield  20:47:49  Wednesday  \n",
      "8  Springfield  09:17:40     Friday  \n",
      "9  Shelbyville  21:20:49  Wednesday  \n"
     ]
    }
   ],
   "source": [
    "# Obtener las 10 primeras filas de la tabla df\n",
    "print(df.head(10))"
   ]
  },
  {
   "cell_type": "markdown",
   "metadata": {
    "id": "EO73Kwic_Zct"
   },
   "source": [
    "4. Obtén la información general sobre la tabla con un comando. Conoces el método que muestra la información general que necesitamos."
   ]
  },
  {
   "cell_type": "code",
   "execution_count": 7,
   "metadata": {
    "id": "DSf2kIb-_Zct"
   },
   "outputs": [
    {
     "name": "stdout",
     "output_type": "stream",
     "text": [
      "<class 'pandas.core.frame.DataFrame'>\n",
      "RangeIndex: 65079 entries, 0 to 65078\n",
      "Data columns (total 7 columns):\n",
      " #   Column    Non-Null Count  Dtype \n",
      "---  ------    --------------  ----- \n",
      " 0     userID  65079 non-null  object\n",
      " 1   Track     63736 non-null  object\n",
      " 2   artist    57512 non-null  object\n",
      " 3   genre     63881 non-null  object\n",
      " 4     City    65079 non-null  object\n",
      " 5   time      65079 non-null  object\n",
      " 6   Day       65079 non-null  object\n",
      "dtypes: object(7)\n",
      "memory usage: 3.5+ MB\n"
     ]
    }
   ],
   "source": [
    "# Obtener la información general sobre nuestros datos\n",
    "df.info()"
   ]
  },
  {
   "cell_type": "code",
   "execution_count": 8,
   "metadata": {},
   "outputs": [
    {
     "name": "stdout",
     "output_type": "stream",
     "text": [
      "Index(['  userID', 'Track', 'artist', 'genre', '  City  ', 'time', 'Day'], dtype='object')\n"
     ]
    }
   ],
   "source": [
    "# Revisar el nombre de las columnas \n",
    "print(df.columns)"
   ]
  },
  {
   "cell_type": "markdown",
   "metadata": {
    "id": "TaQ2Iwbr_Zct"
   },
   "source": [
    "### Observaciones generales\n",
    "\n",
    "Estas son nuestras observaciones sobre la tabla. Contiene siete columnas. Almacenan los mismos tipos de datos: `object`.\n",
    "\n",
    "Según la documentación:\n",
    "- `' userID'`: identificador del usuario o la usuaria;\n",
    "- `'Track'`: título de la canción;\n",
    "- `'artist'`: nombre del artista;\n",
    "- `'genre'`: género de la pista;\n",
    "- `'City'`: ciudad del usuario o la usuaria;\n",
    "- `'time'`: la hora exacta en la que se reprodujo la canción;\n",
    "- `'Day'`: día de la semana.\n",
    "\n",
    "Podemos ver tres problemas con el estilo en los encabezados de la tabla:\n",
    "1. Algunos encabezados están en mayúsculas, otros en minúsculas.\n",
    "2. Hay espacios en algunos encabezados.\n",
    "3. Parece que el formato de `userID` es camelCase, siendo distinto a los demás. \n",
    "4. Existe un espacio al final de la columna `City`.\n",
    "5. **Opcional**. En lo personal, la columna `time` es muy genérica, la nombraría como `track_play_time` para tener un mejor entendimiento de lo que la variable describe. \n"
   ]
  },
  {
   "cell_type": "markdown",
   "metadata": {
    "id": "MCB6-dXG_Zct"
   },
   "source": [
    "### Escribe observaciones de tu parte. Estas son algunas de las preguntas que pueden ser útiles: <a id='data_review_conclusions'></a>\n",
    "\n",
    "1. ¿Qué tipo de datos tenemos a nuestra disposición en las filas? "
   ]
  },
  {
   "cell_type": "code",
   "execution_count": 9,
   "metadata": {},
   "outputs": [
    {
     "name": "stdout",
     "output_type": "stream",
     "text": [
      "  userID    object\n",
      "Track       object\n",
      "artist      object\n",
      "genre       object\n",
      "  City      object\n",
      "time        object\n",
      "Day         object\n",
      "dtype: object\n"
     ]
    }
   ],
   "source": [
    "## Conocer el tipo de datos que se almacenan en el df\n",
    "print(df.dtypes)"
   ]
  },
  {
   "cell_type": "markdown",
   "metadata": {},
   "source": [
    "¿Y cómo podemos entender lo que almacenan las columnas?"
   ]
  },
  {
   "cell_type": "code",
   "execution_count": 10,
   "metadata": {},
   "outputs": [
    {
     "name": "stdout",
     "output_type": "stream",
     "text": [
      "          userID  Track     artist  genre       City        time     Day\n",
      "count      65079  63736      57512  63881        65079     65079   65079\n",
      "unique     41748  39666      37806    268            2     20392       3\n",
      "top     A8AE9169  Brand  Kartvelli    pop  Springfield  08:14:07  Friday\n",
      "freq          76    136        136   8850        45360        14   23149\n"
     ]
    }
   ],
   "source": [
    "## Conocer lo que almacenan las columnas\n",
    "print(df.describe())"
   ]
  },
  {
   "cell_type": "markdown",
   "metadata": {},
   "source": [
    "2. ¿Hay suficientes datos para proporcionar respuestas a nuestra hipótesis o necesitamos más información?"
   ]
  },
  {
   "cell_type": "code",
   "execution_count": 11,
   "metadata": {},
   "outputs": [
    {
     "name": "stdout",
     "output_type": "stream",
     "text": [
      "(65079, 7)\n"
     ]
    }
   ],
   "source": [
    "## Conocer la dimensión de la df \n",
    "print(df.shape)"
   ]
  },
  {
   "cell_type": "markdown",
   "metadata": {},
   "source": [
    "3. ¿Notaste algún problema en los datos, como valores ausentes, duplicados o tipos de datos incorrectos?"
   ]
  },
  {
   "cell_type": "code",
   "execution_count": 12,
   "metadata": {},
   "outputs": [
    {
     "name": "stdout",
     "output_type": "stream",
     "text": [
      "  userID       0\n",
      "Track       1343\n",
      "artist      7567\n",
      "genre       1198\n",
      "  City         0\n",
      "time           0\n",
      "Day            0\n",
      "dtype: int64\n",
      "  userID     0.000000\n",
      "Track        2.063646\n",
      "artist      11.627407\n",
      "genre        1.840840\n",
      "  City       0.000000\n",
      "time         0.000000\n",
      "Day          0.000000\n",
      "dtype: float64\n"
     ]
    }
   ],
   "source": [
    "## Valores ausentes\n",
    "\n",
    "### Número de valores ausentes por columna\n",
    "print(df.isna().sum())\n",
    "\n",
    "### Porcentaje de valores ausentes por columna\n",
    "print(df.isna().mean()*100)"
   ]
  },
  {
   "cell_type": "code",
   "execution_count": 13,
   "metadata": {},
   "outputs": [
    {
     "name": "stdout",
     "output_type": "stream",
     "text": [
      "3826\n",
      "\n",
      "         userID                Track                          artist  \\\n",
      "575    E7F07B46                Crazy                  The Manhattans   \n",
      "832    7671A47A           Johnny Go!                          NikitA   \n",
      "1216   69467B01        Change It All                  Harrison Storm   \n",
      "1754   13B1A573    Te Adoramos Jesús                         Athenas   \n",
      "1964   B24668A0  Mad over You Mashup                      Nana Fofie   \n",
      "...         ...                  ...                             ...   \n",
      "65042  83E9C8C4        Buddhist Beat  Asian Zen Spa Music Meditation   \n",
      "65056  2E25BCD2          Psychobitch                          Easter   \n",
      "65059  F231C47E  All Summer in a Day                     VHS Or BETA   \n",
      "65067  F1B93F29          Poison Kiss                     Centerstone   \n",
      "65069  BE1AAD74            Waterwalk                Eduardo Gonzales   \n",
      "\n",
      "            genre       City        time        Day  \n",
      "575           rnb  Springfield  13:39:46     Monday  \n",
      "832        ruspop  Springfield  21:59:33  Wednesday  \n",
      "1216       singer  Springfield  20:53:06  Wednesday  \n",
      "1754    spiritual  Springfield  13:19:37     Monday  \n",
      "1964       singer  Springfield  20:36:51     Monday  \n",
      "...           ...          ...       ...        ...  \n",
      "65042     ambient  Springfield  13:25:29     Monday  \n",
      "65056         pop  Springfield  14:53:07     Friday  \n",
      "65059  electronic  Springfield  20:31:23     Friday  \n",
      "65067        rock  Shelbyville  22:00:29     Monday  \n",
      "65069  electronic  Springfield  20:38:59     Monday  \n",
      "\n",
      "[3826 rows x 7 columns]\n"
     ]
    }
   ],
   "source": [
    "## Valores duplicados explícitos\n",
    "\n",
    "## Número de datos duplicados\n",
    "print(df.duplicated().sum())\n",
    "print()\n",
    "\n",
    "## Identificar filas duplicadas\n",
    "print(df[df.duplicated()])"
   ]
  },
  {
   "cell_type": "markdown",
   "metadata": {},
   "source": [
    "Creamos una nueva dataframe eliminando los duplicados explícitos y la volvemos a analizar. "
   ]
  },
  {
   "cell_type": "code",
   "execution_count": 14,
   "metadata": {},
   "outputs": [],
   "source": [
    "## Eliminar duplicados explícitos\n",
    "df_clean = df.drop_duplicates().reset_index(drop= True)"
   ]
  },
  {
   "cell_type": "code",
   "execution_count": 15,
   "metadata": {},
   "outputs": [
    {
     "name": "stdout",
     "output_type": "stream",
     "text": [
      "          userID  Track     artist  genre       City        time     Day\n",
      "count      61253  59991      54156  60126        61253     61253   61253\n",
      "unique     41748  39666      37806    268            2     20392       3\n",
      "top     A8AE9169  Brand  Kartvelli    pop  Springfield  08:14:07  Friday\n",
      "freq          71    127        127   8323        42741        13   21840\n"
     ]
    }
   ],
   "source": [
    "## Conocer composición\n",
    "print(df_clean.describe())"
   ]
  },
  {
   "cell_type": "markdown",
   "metadata": {},
   "source": [
    "### Conclusión \n",
    "\n",
    "El análisis del DataFrame revela un total de 65,079 observaciones. Inicialmente, todas las columnas parecen estar catalogadas como tipo `object`. Esto podría deberse a varios factores, como una importación incorrecta de datos, datos mixtos en las columnas o una interpretación inadecuada de los datos. Sin embargo, tras revisar las primeras 10 observaciones, hemos descartado problemas relacionados con la importación de datos.\n",
    "\n",
    "De las siete variables presentes en el DataFrame, tres presentan valores faltantes. La columna `artist` tiene el mayor porcentaje de datos faltantes (11.63%), seguida por `Track` (2.06%) y `genre` (1.84%).\n",
    "\n",
    "En cuanto a los valores duplicados, se identificaron un total de 3,826 filas duplicadas, lo que representa aproximadamente el 5.88% del total del DataFrame. Para investigar posibles duplicados intrínsecos, creamos un nuevo DataFrame eliminando los duplicados extrínsecos y realizamos un análisis adicional. Observamos una sobrerepresentación de ciertos valores, pero esto no necesariamente indica duplicados implícitos. Se requiere un análisis más detallado para cada columna.\n",
    "\n",
    "Dado que los datos faltantes y duplicados representan una pequeña fracción del DataFrame, consideramos que contamos con una muestra poblacional adecuada para llevar a cabo nuestros análisis."
   ]
  },
  {
   "cell_type": "markdown",
   "metadata": {
    "id": "3eL__vcwViOi"
   },
   "source": [
    "[Volver a Contenidos](#back)"
   ]
  },
  {
   "cell_type": "markdown",
   "metadata": {
    "id": "SjYF6Ub9_Zct"
   },
   "source": [
    "## Etapa 2. Preprocesamiento de datos <a id='data_preprocessing'></a>\n",
    "---\n",
    "\n",
    "El objetivo aquí es preparar los datos para que sean analizados.\n",
    "El primer paso es resolver cualquier problema con los encabezados. Luego podemos avanzar a los valores ausentes y duplicados. Empecemos.\n",
    "\n",
    "Corrige el formato en los encabezados de la tabla.\n"
   ]
  },
  {
   "cell_type": "markdown",
   "metadata": {
    "id": "dIaKXr29_Zct"
   },
   "source": [
    "### Estilo del encabezado <a id='header_style'></a>\n",
    "Muestra los encabezados de la tabla (los nombres de las columnas):"
   ]
  },
  {
   "cell_type": "code",
   "execution_count": 16,
   "metadata": {
    "id": "oKOTdF_Q_Zct"
   },
   "outputs": [
    {
     "name": "stdout",
     "output_type": "stream",
     "text": [
      "Index(['  userID', 'Track', 'artist', 'genre', '  City  ', 'time', 'Day'], dtype='object')\n"
     ]
    }
   ],
   "source": [
    "# Muestra los nombres de las columnas\n",
    "print(df.columns)"
   ]
  },
  {
   "cell_type": "markdown",
   "metadata": {
    "id": "zj5534cv_Zct"
   },
   "source": [
    "Cambia los encabezados de la tabla de acuerdo con las reglas del buen estilo:\n",
    "* Todos los caracteres deben ser minúsculas.\n",
    "* Elimina los espacios.\n",
    "* Si el nombre tiene varias palabras, utiliza snake_case."
   ]
  },
  {
   "cell_type": "markdown",
   "metadata": {
    "id": "Xu0zkfe5zNJe"
   },
   "source": [
    "Anteriormente, aprendiste acerca de la forma automática de cambiar el nombre de las columnas. Vamos a aplicarla ahora. Utiliza el bucle for para iterar sobre los nombres de las columnas y poner todos los caracteres en minúsculas. Cuando hayas terminado, vuelve a mostrar los encabezados de la tabla:"
   ]
  },
  {
   "cell_type": "code",
   "execution_count": 17,
   "metadata": {
    "id": "6I_RwwMhzM4e"
   },
   "outputs": [
    {
     "name": "stdout",
     "output_type": "stream",
     "text": [
      "Index(['  userid', 'track', 'artist', 'genre', '  city  ', 'time', 'day'], dtype='object')\n"
     ]
    }
   ],
   "source": [
    "# Bucle en los encabezados poniendo todo en minúsculas\n",
    "new_col_names = []\n",
    "\n",
    "for old_name in df.columns: \n",
    "    name_lowered = old_name.lower()\n",
    "    new_col_names.append(name_lowered)\n",
    "    \n",
    "df.columns = new_col_names \n",
    "print(df.columns)\n"
   ]
  },
  {
   "cell_type": "markdown",
   "metadata": {
    "id": "pweIRxjSzPYW"
   },
   "source": [
    "Ahora, utilizando el mismo método, elimina los espacios al principio y al final de los nombres de las columnas e imprime los nombres de las columnas nuevamente:"
   ]
  },
  {
   "cell_type": "code",
   "execution_count": 18,
   "metadata": {
    "id": "vVQXbFyJzSYl"
   },
   "outputs": [
    {
     "name": "stdout",
     "output_type": "stream",
     "text": [
      "Index(['userid', 'track', 'artist', 'genre', 'city', 'time', 'day'], dtype='object')\n"
     ]
    }
   ],
   "source": [
    "# Bucle en los encabezados eliminando los espacios\n",
    "new_col_names = []\n",
    "\n",
    "for old_name in df.columns: \n",
    "    name_stripped = old_name.strip()\n",
    "    new_col_names.append(name_stripped)\n",
    "    \n",
    "df.columns = new_col_names \n",
    "print(df.columns)"
   ]
  },
  {
   "cell_type": "markdown",
   "metadata": {
    "id": "yCb8MW1JzURd"
   },
   "source": [
    "Necesitamos aplicar la regla de snake_case a la columna `userid`. Debe ser `user_id`. Cambia el nombre de esta columna y muestra los nombres de todas las columnas cuando hayas terminado."
   ]
  },
  {
   "cell_type": "code",
   "execution_count": 19,
   "metadata": {
    "id": "ISlFqs5y_Zct"
   },
   "outputs": [],
   "source": [
    "# Cambiar el nombre de la columna \"userid\"\n",
    "df.rename(columns = {\"userid\": \"user_id\"}, inplace= True)\n"
   ]
  },
  {
   "cell_type": "markdown",
   "metadata": {
    "id": "1dqbh00J_Zct"
   },
   "source": [
    "Comprueba el resultado. Muestra los encabezados una vez más:"
   ]
  },
  {
   "cell_type": "code",
   "execution_count": 20,
   "metadata": {
    "id": "d4NOAmTW_Zct"
   },
   "outputs": [
    {
     "name": "stdout",
     "output_type": "stream",
     "text": [
      "Index(['user_id', 'track', 'artist', 'genre', 'city', 'time', 'day'], dtype='object')\n"
     ]
    }
   ],
   "source": [
    "# Comprobar el resultado: la lista de encabezados\n",
    "print(df.columns)"
   ]
  },
  {
   "cell_type": "markdown",
   "metadata": {
    "id": "xYJk6ksJVpOl"
   },
   "source": [
    "[Volver a Contenidos](#back)"
   ]
  },
  {
   "cell_type": "markdown",
   "metadata": {
    "id": "5ISfbcfY_Zct"
   },
   "source": [
    "### Valores ausentes <a id='missing_values'></a>\n",
    " Primero, encuentra el número de valores ausentes en la tabla. Debes utilizar dos métodos en una secuencia para obtener el número de valores ausentes."
   ]
  },
  {
   "cell_type": "code",
   "execution_count": 21,
   "metadata": {
    "id": "RskX29qr_Zct"
   },
   "outputs": [
    {
     "name": "stdout",
     "output_type": "stream",
     "text": [
      "user_id       0\n",
      "track      1343\n",
      "artist     7567\n",
      "genre      1198\n",
      "city          0\n",
      "time          0\n",
      "day           0\n",
      "dtype: int64\n",
      "\n",
      "Datos faltantes totales:  10108\n"
     ]
    }
   ],
   "source": [
    "# Calcular el número de valores ausentes\n",
    "\n",
    "## Valores ausentes por columa\n",
    "missing_by_column = df.isna().sum()\n",
    "print(missing_by_column)\n",
    "print() # Espacio\n",
    "\n",
    "## Valores ausentes totales\n",
    "print(\"Datos faltantes totales: \", missing_by_column.sum())"
   ]
  },
  {
   "cell_type": "markdown",
   "metadata": {
    "id": "qubhgnlO_Zct"
   },
   "source": [
    "No todos los valores ausentes afectan a la investigación. Por ejemplo, los valores ausentes en `track` y `artist` no son cruciales. Simplemente puedes reemplazarlos con valores predeterminados como el string `'unknown'` (desconocido).\n",
    "\n",
    "Pero los valores ausentes en `'genre'` pueden afectar la comparación entre las preferencias musicales de Springfield y Shelbyville. En la vida real, sería útil saber las razones por las cuales hay datos ausentes e intentar recuperarlos. Pero no tenemos esa oportunidad en este proyecto. Así que tendrás que:\n",
    "* rellenar estos valores ausentes con un valor predeterminado;\n",
    "* evaluar cuánto podrían afectar los valores ausentes a tus cómputos;"
   ]
  },
  {
   "cell_type": "markdown",
   "metadata": {
    "id": "fSv2laPA_Zct"
   },
   "source": [
    "Reemplazar los valores ausentes en las columnas `'track'`, `'artist'` y `'genre'` con el string `'unknown'`. Como mostramos anteriormente en las lecciones, la mejor forma de hacerlo es crear una lista que almacene los nombres de las columnas donde se necesita el reemplazo. Luego, utiliza esta lista e itera sobre las columnas donde se necesita el reemplazo haciendo el propio reemplazo."
   ]
  },
  {
   "cell_type": "code",
   "execution_count": 22,
   "metadata": {
    "id": "KplB5qWs_Zct"
   },
   "outputs": [
    {
     "name": "stderr",
     "output_type": "stream",
     "text": [
      "/var/folders/_8/p4kd7db956n4lq8gs8sy4xv80000gp/T/ipykernel_71995/3540213823.py:7: FutureWarning: A value is trying to be set on a copy of a DataFrame or Series through chained assignment using an inplace method.\n",
      "The behavior will change in pandas 3.0. This inplace method will never work because the intermediate object on which we are setting values always behaves as a copy.\n",
      "\n",
      "For example, when doing 'df[col].method(value, inplace=True)', try using 'df.method({col: value}, inplace=True)' or df[col] = df[col].method(value) instead, to perform the operation inplace on the original object.\n",
      "\n",
      "\n",
      "  df[col].fillna(\"unknown\", inplace=True)\n"
     ]
    }
   ],
   "source": [
    "# Bucle en los encabezados reemplazando los valores ausentes con 'unknown'\n",
    "## Definir las columnas a inspeccionar\n",
    "columns_to_replace = [\"track\", \"artist\", \"genre\"]\n",
    "\n",
    "## Bucle para remplazar \n",
    "for col in columns_to_replace: \n",
    "    df[col].fillna(\"unknown\", inplace=True)"
   ]
  },
  {
   "cell_type": "markdown",
   "metadata": {
    "id": "Ilsm-MZo_Zct"
   },
   "source": [
    "Ahora comprueba el resultado para asegurarte de que después del reemplazo no haya valores ausentes en el conjunto de datos. Para hacer esto, cuenta los valores ausentes nuevamente."
   ]
  },
  {
   "cell_type": "code",
   "execution_count": 23,
   "metadata": {
    "id": "Tq4nYRX4_Zct"
   },
   "outputs": [
    {
     "name": "stdout",
     "output_type": "stream",
     "text": [
      "user_id    0\n",
      "track      0\n",
      "artist     0\n",
      "genre      0\n",
      "city       0\n",
      "time       0\n",
      "day        0\n",
      "dtype: int64\n",
      "\n",
      "Datos faltantes totales:  0\n"
     ]
    }
   ],
   "source": [
    "# Contar valores ausentes\n",
    "## Por columna\n",
    "missing_by_column = df.isna().sum()\n",
    "print(missing_by_column)\n",
    "print() # Espacio\n",
    "\n",
    "## Totales\n",
    "print(\"Datos faltantes totales: \", missing_by_column.sum())"
   ]
  },
  {
   "cell_type": "markdown",
   "metadata": {
    "id": "74ZIBmq9VrsK"
   },
   "source": [
    "[Volver a Contenidos](#back)"
   ]
  },
  {
   "cell_type": "markdown",
   "metadata": {
    "id": "BWKRtBJ3_Zct"
   },
   "source": [
    "### Duplicados <a id='duplicates'></a>\n",
    "Encuentra el número de duplicados explícitos en la tabla. Una vez más, debes aplicar dos métodos en una secuencia para obtener la cantidad de duplicados explícitos."
   ]
  },
  {
   "cell_type": "code",
   "execution_count": 24,
   "metadata": {
    "id": "36eES_S0_Zct"
   },
   "outputs": [
    {
     "name": "stdout",
     "output_type": "stream",
     "text": [
      "3826\n"
     ]
    }
   ],
   "source": [
    "# Contar duplicados explícitos\n",
    "## 1. Identificar los datos duplicados\n",
    "duplicated_data = df.duplicated()\n",
    "\n",
    "print(duplicated_data.sum())"
   ]
  },
  {
   "cell_type": "markdown",
   "metadata": {
    "id": "Ot25h6XR_Zct"
   },
   "source": [
    "Ahora, elimina todos los duplicados. Para ello, llama al método que hace exactamente esto."
   ]
  },
  {
   "cell_type": "code",
   "execution_count": 25,
   "metadata": {
    "id": "exFHq6tt_Zct"
   },
   "outputs": [],
   "source": [
    "# Eliminar duplicados explícitos\n",
    "df.drop_duplicates(inplace= True)"
   ]
  },
  {
   "cell_type": "markdown",
   "metadata": {
    "id": "Im2YwBEG_Zct"
   },
   "source": [
    "Comprobemos ahora si eliminamos con éxito todos los duplicados. Cuenta los duplicados explícitos una vez más para asegurarte de haberlos eliminado todos:"
   ]
  },
  {
   "cell_type": "code",
   "execution_count": 26,
   "metadata": {
    "id": "-8PuNWQ0_Zct"
   },
   "outputs": [
    {
     "name": "stdout",
     "output_type": "stream",
     "text": [
      "0\n"
     ]
    }
   ],
   "source": [
    "# Comprobar de nuevo si hay duplicados\n",
    "print(df.duplicated().sum())"
   ]
  },
  {
   "cell_type": "markdown",
   "metadata": {
    "id": "QlFBsxAr_Zct"
   },
   "source": [
    "Ahora queremos deshacernos de los duplicados implícitos en la columna `genre`. Por ejemplo, el nombre de un género se puede escribir de varias formas. Dichos errores también pueden afectar al resultado."
   ]
  },
  {
   "cell_type": "markdown",
   "metadata": {
    "id": "eSjWwsOh_Zct"
   },
   "source": [
    "Para hacerlo, primero mostremos una lista de nombres de género únicos, ordenados en orden alfabético. Para ello:\n",
    "* Extrae la columna `genre` del DataFrame.\n",
    "* Llama al método que devolverá todos los valores únicos en la columna extraída.\n"
   ]
  },
  {
   "cell_type": "code",
   "execution_count": 27,
   "metadata": {
    "id": "JIUcqzZN_Zct"
   },
   "outputs": [
    {
     "name": "stdout",
     "output_type": "stream",
     "text": [
      "269\n",
      "269\n"
     ]
    }
   ],
   "source": [
    "# Inspeccionar los nombres de géneros únicos\n",
    "## Extracción columna `genre`\n",
    "genre_colunm= df[\"genre\"]\n",
    "\n",
    "## Número de géneros únicos\n",
    "print(genre_colunm.nunique())\n",
    "\n",
    "## Alternativa en un solo comando\n",
    "print(df[\"genre\"].nunique())"
   ]
  },
  {
   "cell_type": "markdown",
   "metadata": {
    "id": "qej-Qmuo_Zct"
   },
   "source": [
    "Busca en la lista para encontrar duplicados implícitos del género `hiphop`. Estos pueden ser nombres escritos incorrectamente o nombres alternativos para el mismo género."
   ]
  },
  {
   "cell_type": "code",
   "execution_count": 28,
   "metadata": {},
   "outputs": [
    {
     "name": "stdout",
     "output_type": "stream",
     "text": [
      "79\n"
     ]
    }
   ],
   "source": [
    "## Conocer el número de veces que aparece \"hiphop\"\n",
    "print(df[df[\"genre\"] == \"hiphop\"].shape[0])"
   ]
  },
  {
   "cell_type": "code",
   "execution_count": 29,
   "metadata": {},
   "outputs": [
    {
     "name": "stdout",
     "output_type": "stream",
     "text": [
      "\"hip\" appeared 2975 times\n",
      "\"hop\" appeared 1 times\n",
      "\"hip-hop\" appeared 1 times\n"
     ]
    }
   ],
   "source": [
    "## Conocer el número de veces que aparece \"hip\" \"hop\" \"hip-hop\"\n",
    "hiphop_misspelled = [\"hip\", \"hop\", \"hip-hop\"]\n",
    "\n",
    "for name in hiphop_misspelled: \n",
    "    count = df[df[\"genre\"] == name].shape[0]\n",
    "    print(f'\"{name}\" appeared {count} times')\n",
    "    "
   ]
  },
  {
   "cell_type": "markdown",
   "metadata": {},
   "source": [
    "Verás los siguientes duplicados implícitos:\n",
    "* `hip`\n",
    "* `hop`\n",
    "* `hip-hop`\n",
    "\n",
    "Para deshacerte de ellos, crea una función llamada `replace_wrong_genres()` con dos parámetros:\n",
    "* `wrong_genres=`: esta es una lista que contiene todos los valores que necesitas reemplazar.\n",
    "* `correct_genre=`: este es un string que vas a utilizar como reemplazo.\n",
    "\n",
    "Como resultado, la función debería corregir los nombres en la columna `'genre'` de la tabla `df`, es decir, remplazar cada valor de la lista `wrong_genres` por el valor en `correct_genre`.\n",
    "\n",
    "Dentro del cuerpo de la función, utiliza un bucle `'for'` para iterar sobre la lista de géneros incorrectos, extrae la columna `'genre'` y aplica el método `replace` para hacer correcciones."
   ]
  },
  {
   "cell_type": "code",
   "execution_count": 30,
   "metadata": {
    "id": "ErNDkmns_Zct"
   },
   "outputs": [],
   "source": [
    "# Función para reemplazar duplicados implícitos\n",
    "def replace_wrong_genres(wrong_genres, correct_genre): \n",
    "        \n",
    "       for wrong_genre in wrong_genres: \n",
    "            df[\"genre\"] = df[\"genre\"].replace(wrong_genre, correct_genre)\n",
    "       return df"
   ]
  },
  {
   "cell_type": "markdown",
   "metadata": {
    "id": "aDoBJxbA_Zct"
   },
   "source": [
    "Ahora, llama a `replace_wrong_genres()` y pásale tales argumentos para que retire los duplicados implícitos (`hip`, `hop` y `hip-hop`) y los reemplace por `hiphop`:"
   ]
  },
  {
   "cell_type": "code",
   "execution_count": 31,
   "metadata": {
    "id": "YN5i2hpmSo09"
   },
   "outputs": [],
   "source": [
    "# Eliminar duplicados implícitos\n",
    "## Definir variables\n",
    "misspelled = [\"hip\", \"hop\", \"hip-hop\"]\n",
    "correct_name = \"hiphop\"\n",
    "\n",
    "## Asignación dataframe nuevo\n",
    "df_corrected = replace_wrong_genres(wrong_genres = misspelled, correct_genre= correct_name)"
   ]
  },
  {
   "cell_type": "markdown",
   "metadata": {
    "id": "zQKF16_RG15m"
   },
   "source": [
    "Asegúrate de que los nombres duplicados han sido eliminados. Muestra la lista de valores únicos de la columna `'genre'` una vez más:"
   ]
  },
  {
   "cell_type": "code",
   "execution_count": 32,
   "metadata": {},
   "outputs": [
    {
     "name": "stdout",
     "output_type": "stream",
     "text": [
      "266\n"
     ]
    }
   ],
   "source": [
    "## Nombres duplicados \n",
    "print(df_corrected[\"genre\"].nunique())"
   ]
  },
  {
   "cell_type": "code",
   "execution_count": 33,
   "metadata": {
    "id": "wvixALnFG15m"
   },
   "outputs": [
    {
     "name": "stdout",
     "output_type": "stream",
     "text": [
      "3056\n"
     ]
    }
   ],
   "source": [
    "# Comprobación de duplicados implícitos\n",
    "print(df_corrected[df_corrected[\"genre\"] == \"hiphop\"].shape[0])"
   ]
  },
  {
   "cell_type": "markdown",
   "metadata": {
    "id": "ALgNbvF3VtPA"
   },
   "source": [
    "[Volver a Contenidos](#back)"
   ]
  },
  {
   "cell_type": "markdown",
   "metadata": {
    "id": "jz6a9-7HQUDd"
   },
   "source": [
    "### Tus observaciones <a id='data_preprocessing_conclusions'></a>\n",
    "\n",
    "`Describe brevemente lo que has notado al analizar duplicados, cómo abordaste sus eliminaciones y qué resultados obtuviste.`\n",
    "Estoy aqui "
   ]
  },
  {
   "cell_type": "markdown",
   "metadata": {
    "id": "eK1es74rVujj"
   },
   "source": [
    "[Volver a Contenidos](#back)"
   ]
  },
  {
   "cell_type": "markdown",
   "metadata": {
    "id": "WttZHXH0SqKk"
   },
   "source": [
    "## Etapa 3. Prueba de hipótesis <a id='hypothesis'></a>"
   ]
  },
  {
   "cell_type": "markdown",
   "metadata": {
    "id": "Im936VVi_Zcu"
   },
   "source": [
    "### Hipótesis: comparar el comportamiento del usuario o la usuaria en las dos ciudades <a id='activity'></a>"
   ]
  },
  {
   "cell_type": "markdown",
   "metadata": {
    "id": "nwt_MuaL_Zcu"
   },
   "source": [
    "La hipótesis afirma que existen diferencias en la forma en que los usuarios y las usuarias de Springfield y Shelbyville consumen música. Para comprobar esto, usa los datos de tres días de la semana: lunes, miércoles y viernes.\n",
    "\n",
    "* Agrupa a los usuarios y las usuarias por ciudad.\n",
    "* Compara el número de canciones que cada grupo reprodujo el lunes, el miércoles y el viernes.\n"
   ]
  },
  {
   "cell_type": "markdown",
   "metadata": {
    "id": "8Dw_YMmT_Zcu"
   },
   "source": [
    "Realiza cada cálculo por separado.\n",
    "\n",
    "El primer paso es evaluar la actividad del usuario en cada ciudad. Recuerda las etapas dividir-aplicar-combinar de las que hablamos anteriormente en la lección. Tu objetivo ahora es agrupar los datos por ciudad, aplicar el método apropiado para contar durante la etapa de aplicación y luego encontrar la cantidad de canciones reproducidas en cada grupo especificando la columna para obtener el recuento.\n",
    "\n",
    "A continuación se muestra un ejemplo de cómo debería verse el resultado final:\n",
    "`df.groupby(by='....')['column'].method()`Realiza cada cálculo por separado.\n",
    "\n",
    "Para evaluar la actividad de los usuarios y las usuarias en cada ciudad, agrupa los datos por ciudad y encuentra la cantidad de canciones reproducidas en cada grupo.\n",
    "\n"
   ]
  },
  {
   "cell_type": "code",
   "execution_count": 34,
   "metadata": {
    "id": "0_Qs96oh_Zcu"
   },
   "outputs": [],
   "source": [
    "# Contar las canciones reproducidas en cada ciudad\n"
   ]
  },
  {
   "cell_type": "markdown",
   "metadata": {
    "id": "t_Qx-3NewAnK"
   },
   "source": [
    "`Comenta tus observaciones aquí`"
   ]
  },
  {
   "cell_type": "markdown",
   "metadata": {
    "id": "dzli3w8o_Zcu"
   },
   "source": [
    "Ahora agrupemos los datos por día de la semana y encontremos el número de canciones reproducidas el lunes, miércoles y viernes. Utiliza el mismo método que antes, pero ahora necesitamos una agrupación diferente.\n"
   ]
  },
  {
   "cell_type": "code",
   "execution_count": 35,
   "metadata": {
    "id": "uZMKjiJz_Zcu"
   },
   "outputs": [],
   "source": [
    "# Calcular las canciones reproducidas en cada uno de los tres días\n"
   ]
  },
  {
   "cell_type": "markdown",
   "metadata": {
    "id": "cC2tNrlL_Zcu"
   },
   "source": [
    "`Comenta tus observaciones aquí`"
   ]
  },
  {
   "cell_type": "markdown",
   "metadata": {
    "id": "POzs8bGa_Zcu"
   },
   "source": [
    "Ya sabes cómo contar entradas agrupándolas por ciudad o día. Ahora necesitas escribir una función que pueda contar entradas según ambos criterios simultáneamente.\n",
    "\n",
    "Crea la función `number_tracks()` para calcular el número de canciones reproducidas en un determinado día **y** ciudad. La función debe aceptar dos parámetros:\n",
    "\n",
    "- `day`: un día de la semana para filtrar. Por ejemplo, `'Monday'` (lunes).\n",
    "- `city`: una ciudad para filtrar. Por ejemplo, `'Springfield'`.\n",
    "\n",
    "Dentro de la función, aplicarás un filtrado consecutivo con indexación lógica.\n",
    "\n",
    "Primero filtra los datos por día y luego filtra la tabla resultante por ciudad.\n",
    "\n",
    "Después de filtrar los datos por dos criterios, cuenta el número de valores de la columna 'user_id' en la tabla resultante. Este recuento representa el número de entradas que estás buscando. Guarda el resultado en una nueva variable y devuélvelo desde la función."
   ]
  },
  {
   "cell_type": "code",
   "execution_count": 36,
   "metadata": {
    "id": "Nz3GdQB1_Zcu"
   },
   "outputs": [],
   "source": [
    "# Declara la función number_tracks() con dos parámetros: day= y city=.\n",
    "\n",
    "    # Almacena las filas del DataFrame donde el valor en la columna 'day' es igual al parámetro day=\n",
    "\n",
    "    # Filtra las filas donde el valor en la columna 'city' es igual al parámetro city=\n",
    "\n",
    "    # Extrae la columna 'user_id' de la tabla filtrada y aplica el método count()\n",
    "\n",
    "    # Devolve el número de valores de la columna 'user_id'"
   ]
  },
  {
   "cell_type": "markdown",
   "metadata": {
    "id": "ytf7xFrFJQ2r"
   },
   "source": [
    "Llama a `number_tracks()` seis veces, cambiando los valores de los parámetros para que recuperes los datos de ambas ciudades para cada uno de los tres días."
   ]
  },
  {
   "cell_type": "code",
   "execution_count": 37,
   "metadata": {
    "id": "rJcRATNQ_Zcu"
   },
   "outputs": [],
   "source": [
    "# El número de canciones reproducidas en Springfield el lunes\n"
   ]
  },
  {
   "cell_type": "code",
   "execution_count": 38,
   "metadata": {
    "id": "hq_ncZ5T_Zcu"
   },
   "outputs": [],
   "source": [
    "# El número de canciones reproducidas en Shelbyville el lunes\n"
   ]
  },
  {
   "cell_type": "code",
   "execution_count": 39,
   "metadata": {
    "id": "_NTy2VPU_Zcu"
   },
   "outputs": [],
   "source": [
    "# El número de canciones reproducidas en Springfield el miércoles\n"
   ]
  },
  {
   "cell_type": "code",
   "execution_count": 40,
   "metadata": {
    "id": "j2y3TAwo_Zcu"
   },
   "outputs": [],
   "source": [
    "# El número de canciones reproducidas en Shelbyville el miércoles\n"
   ]
  },
  {
   "cell_type": "code",
   "execution_count": 41,
   "metadata": {
    "id": "vYDw5u_K_Zcu"
   },
   "outputs": [],
   "source": [
    "# El número de canciones reproducidas en Springfield el viernes\n"
   ]
  },
  {
   "cell_type": "code",
   "execution_count": 42,
   "metadata": {
    "id": "8_yzFtW3_Zcu"
   },
   "outputs": [],
   "source": [
    "# El número de canciones reproducidas en Shelbyville el viernes\n"
   ]
  },
  {
   "cell_type": "markdown",
   "metadata": {
    "id": "-EgPIHYu_Zcu"
   },
   "source": [
    "**Conclusiones**\n",
    "\n",
    "`Comenta si la hipótesis es correcta o se debe rechazar. Explica tu razonamiento.`"
   ]
  },
  {
   "cell_type": "markdown",
   "metadata": {
    "id": "p7nFQajCVw5B"
   },
   "source": [
    "[Volver a Contenidos](#back)"
   ]
  },
  {
   "cell_type": "markdown",
   "metadata": {
    "id": "ykKQ0N65_Zcv"
   },
   "source": [
    "# Conclusiones <a id='end'></a>"
   ]
  },
  {
   "cell_type": "markdown",
   "metadata": {
    "id": "tjUwbHb3_Zcv"
   },
   "source": [
    "`Resume aquí tus conclusiones sobre la hipótesis.`"
   ]
  },
  {
   "cell_type": "markdown",
   "metadata": {
    "id": "azLHu64yOIp7"
   },
   "source": [
    "### Nota\n",
    "En proyectos de investigación reales, la prueba de hipótesis estadística es más precisa y cuantitativa. También ten en cuenta que no siempre se pueden sacar conclusiones sobre una ciudad entera a partir de datos de una sola fuente.\n",
    "\n",
    "Aprenderás más sobre la prueba de hipótesis en el sprint de análisis estadístico de datos."
   ]
  },
  {
   "cell_type": "markdown",
   "metadata": {
    "id": "Ju4AHDSgV1FE"
   },
   "source": [
    "[Volver a Contenidos](#back)"
   ]
  }
 ],
 "metadata": {
  "ExecuteTimeLog": [
   {
    "duration": 451,
    "start_time": "2024-08-08T17:31:33.934Z"
   },
   {
    "duration": 8,
    "start_time": "2024-08-08T17:43:41.617Z"
   },
   {
    "duration": 185,
    "start_time": "2024-08-08T17:43:58.686Z"
   },
   {
    "duration": 10,
    "start_time": "2024-08-08T17:46:53.734Z"
   },
   {
    "duration": 10,
    "start_time": "2024-08-08T17:47:00.446Z"
   },
   {
    "duration": 32,
    "start_time": "2024-08-08T17:47:32.605Z"
   },
   {
    "duration": 343,
    "start_time": "2024-08-08T18:00:35.156Z"
   },
   {
    "duration": 5,
    "start_time": "2024-08-08T18:01:03.668Z"
   },
   {
    "duration": 22,
    "start_time": "2024-08-08T18:08:24.213Z"
   },
   {
    "duration": 5,
    "start_time": "2024-08-08T18:08:32.411Z"
   },
   {
    "duration": 32,
    "start_time": "2024-08-08T18:11:05.309Z"
   },
   {
    "duration": 57,
    "start_time": "2024-08-08T18:20:48.280Z"
   },
   {
    "duration": 178,
    "start_time": "2024-08-08T18:20:54.797Z"
   },
   {
    "duration": 193,
    "start_time": "2024-08-08T18:21:14.693Z"
   },
   {
    "duration": 26,
    "start_time": "2024-08-08T18:27:43.065Z"
   },
   {
    "duration": 25,
    "start_time": "2024-08-08T18:27:51.624Z"
   },
   {
    "duration": 24,
    "start_time": "2024-08-08T18:27:56.522Z"
   },
   {
    "duration": 190,
    "start_time": "2024-08-08T18:28:07.714Z"
   },
   {
    "duration": 171,
    "start_time": "2024-08-08T18:31:39.076Z"
   },
   {
    "duration": 174,
    "start_time": "2024-08-08T18:31:44.157Z"
   },
   {
    "duration": 184,
    "start_time": "2024-08-08T18:32:24.346Z"
   },
   {
    "duration": 231,
    "start_time": "2024-08-08T18:32:29.900Z"
   },
   {
    "duration": 849,
    "start_time": "2024-08-08T18:35:24.260Z"
   },
   {
    "duration": 82,
    "start_time": "2024-08-08T18:35:32.078Z"
   },
   {
    "duration": 279,
    "start_time": "2024-08-08T18:36:11.595Z"
   },
   {
    "duration": 297,
    "start_time": "2024-08-08T18:36:42.829Z"
   },
   {
    "duration": 318,
    "start_time": "2024-08-08T18:36:55.856Z"
   },
   {
    "duration": 88,
    "start_time": "2024-08-08T18:37:28.277Z"
   },
   {
    "duration": 83,
    "start_time": "2024-08-08T18:37:32.724Z"
   },
   {
    "duration": 244,
    "start_time": "2024-08-08T18:38:43.355Z"
   },
   {
    "duration": 4,
    "start_time": "2024-08-08T18:48:03.328Z"
   },
   {
    "duration": 4,
    "start_time": "2024-08-08T18:48:49.949Z"
   },
   {
    "duration": 164,
    "start_time": "2024-08-08T18:48:50.802Z"
   },
   {
    "duration": 8,
    "start_time": "2024-08-08T18:48:52.398Z"
   },
   {
    "duration": 32,
    "start_time": "2024-08-08T18:48:53.458Z"
   },
   {
    "duration": 6,
    "start_time": "2024-08-08T18:48:53.917Z"
   },
   {
    "duration": 6,
    "start_time": "2024-08-08T18:53:13.693Z"
   },
   {
    "duration": 162,
    "start_time": "2024-08-08T18:53:53.073Z"
   },
   {
    "duration": 153,
    "start_time": "2024-08-08T18:54:22.959Z"
   },
   {
    "duration": 117,
    "start_time": "2024-08-08T18:57:03.960Z"
   },
   {
    "duration": 26,
    "start_time": "2024-08-08T18:57:22.224Z"
   },
   {
    "duration": 66,
    "start_time": "2024-08-08T18:59:51.438Z"
   },
   {
    "duration": 131,
    "start_time": "2024-08-08T19:00:45.981Z"
   },
   {
    "duration": 219,
    "start_time": "2024-08-08T19:01:40.717Z"
   },
   {
    "duration": 158,
    "start_time": "2024-08-08T19:02:22.054Z"
   },
   {
    "duration": 139,
    "start_time": "2024-08-08T19:03:21.525Z"
   },
   {
    "duration": 4,
    "start_time": "2024-08-08T19:06:09.901Z"
   },
   {
    "duration": 166,
    "start_time": "2024-08-08T19:06:11.092Z"
   },
   {
    "duration": 4,
    "start_time": "2024-08-08T19:06:16.762Z"
   },
   {
    "duration": 48,
    "start_time": "2024-08-08T19:06:19.405Z"
   },
   {
    "duration": 149,
    "start_time": "2024-08-08T19:06:21.463Z"
   },
   {
    "duration": 133,
    "start_time": "2024-08-08T19:06:30.509Z"
   },
   {
    "duration": 79,
    "start_time": "2024-08-08T19:08:44.766Z"
   },
   {
    "duration": 7,
    "start_time": "2024-08-08T19:09:59.733Z"
   },
   {
    "duration": 4,
    "start_time": "2024-08-08T19:10:11.738Z"
   },
   {
    "duration": 4,
    "start_time": "2024-08-08T19:10:43.006Z"
   },
   {
    "duration": 5,
    "start_time": "2024-08-08T19:11:02.878Z"
   },
   {
    "duration": 4,
    "start_time": "2024-08-08T19:11:14.405Z"
   },
   {
    "duration": 80,
    "start_time": "2024-08-08T19:11:46.307Z"
   },
   {
    "duration": 5,
    "start_time": "2024-08-08T19:11:57.075Z"
   },
   {
    "duration": 126,
    "start_time": "2024-08-08T19:27:18.018Z"
   },
   {
    "duration": 22,
    "start_time": "2024-08-08T19:30:13.309Z"
   },
   {
    "duration": 8,
    "start_time": "2024-08-08T19:30:36.536Z"
   },
   {
    "duration": 570,
    "start_time": "2024-08-08T19:33:02.623Z"
   },
   {
    "duration": 93,
    "start_time": "2024-08-08T19:33:21.942Z"
   },
   {
    "duration": 63,
    "start_time": "2024-08-08T19:33:41.592Z"
   },
   {
    "duration": 65,
    "start_time": "2024-08-08T19:33:52.382Z"
   },
   {
    "duration": 73,
    "start_time": "2024-08-08T19:34:10.299Z"
   },
   {
    "duration": 76,
    "start_time": "2024-08-08T19:37:57.423Z"
   },
   {
    "duration": 62,
    "start_time": "2024-08-08T19:38:47.190Z"
   },
   {
    "duration": 146,
    "start_time": "2024-08-08T19:39:43.236Z"
   },
   {
    "duration": 22,
    "start_time": "2024-08-08T19:44:20.244Z"
   },
   {
    "duration": 157,
    "start_time": "2024-08-08T19:44:24.551Z"
   },
   {
    "duration": 134,
    "start_time": "2024-08-08T19:44:37.988Z"
   },
   {
    "duration": 27,
    "start_time": "2024-08-08T19:55:55.659Z"
   },
   {
    "duration": 28,
    "start_time": "2024-08-08T19:56:04.530Z"
   },
   {
    "duration": 23,
    "start_time": "2024-08-08T20:02:14.130Z"
   },
   {
    "duration": 5,
    "start_time": "2024-08-08T20:02:21.103Z"
   },
   {
    "duration": 4,
    "start_time": "2024-08-08T20:16:31.100Z"
   },
   {
    "duration": 5,
    "start_time": "2024-08-08T20:16:52.620Z"
   },
   {
    "duration": 6,
    "start_time": "2024-08-08T20:17:36.688Z"
   },
   {
    "duration": 6,
    "start_time": "2024-08-08T20:18:40.574Z"
   },
   {
    "duration": 4,
    "start_time": "2024-08-08T20:21:45.483Z"
   },
   {
    "duration": 5,
    "start_time": "2024-08-08T20:21:55.298Z"
   },
   {
    "duration": 23,
    "start_time": "2024-08-08T20:24:52.416Z"
   },
   {
    "duration": 33,
    "start_time": "2024-08-08T20:25:02.962Z"
   },
   {
    "duration": 42,
    "start_time": "2024-08-08T20:26:48.091Z"
   },
   {
    "duration": 30,
    "start_time": "2024-08-08T20:27:12.138Z"
   },
   {
    "duration": 32,
    "start_time": "2024-08-08T20:27:19.762Z"
   },
   {
    "duration": 27,
    "start_time": "2024-08-08T20:27:48.783Z"
   },
   {
    "duration": 25,
    "start_time": "2024-08-08T20:29:30.412Z"
   },
   {
    "duration": 42,
    "start_time": "2024-08-08T20:30:17.946Z"
   },
   {
    "duration": 25,
    "start_time": "2024-08-08T20:30:30.633Z"
   },
   {
    "duration": 41,
    "start_time": "2024-08-08T20:31:08.873Z"
   },
   {
    "duration": 45,
    "start_time": "2024-08-08T20:31:13.589Z"
   },
   {
    "duration": 27,
    "start_time": "2024-08-08T20:31:17.037Z"
   },
   {
    "duration": 25,
    "start_time": "2024-08-08T20:31:29.524Z"
   },
   {
    "duration": 45,
    "start_time": "2024-08-08T20:31:54.163Z"
   },
   {
    "duration": 28,
    "start_time": "2024-08-08T20:32:12.842Z"
   },
   {
    "duration": 536,
    "start_time": "2024-08-08T20:38:21.321Z"
   },
   {
    "duration": 16,
    "start_time": "2024-08-08T20:38:34.269Z"
   },
   {
    "duration": 27,
    "start_time": "2024-08-08T20:38:58.105Z"
   },
   {
    "duration": 24,
    "start_time": "2024-08-08T20:39:43.078Z"
   },
   {
    "duration": 31,
    "start_time": "2024-08-08T20:39:58.373Z"
   },
   {
    "duration": 27,
    "start_time": "2024-08-08T20:40:23.164Z"
   },
   {
    "duration": 26,
    "start_time": "2024-08-08T20:40:53.850Z"
   },
   {
    "duration": 5,
    "start_time": "2024-08-08T20:42:42.261Z"
   },
   {
    "duration": 5,
    "start_time": "2024-08-08T20:42:48.330Z"
   },
   {
    "duration": 70,
    "start_time": "2024-08-08T20:43:21.891Z"
   },
   {
    "duration": 162,
    "start_time": "2024-08-08T20:44:41.424Z"
   },
   {
    "duration": 70,
    "start_time": "2024-08-08T20:44:57.760Z"
   },
   {
    "duration": 22,
    "start_time": "2024-08-08T20:45:23.709Z"
   },
   {
    "duration": 18,
    "start_time": "2024-08-08T20:45:31.078Z"
   },
   {
    "duration": 75,
    "start_time": "2024-08-08T20:45:56.027Z"
   },
   {
    "duration": 76,
    "start_time": "2024-08-08T20:46:31.674Z"
   },
   {
    "duration": 8,
    "start_time": "2024-08-08T20:47:09.239Z"
   },
   {
    "duration": 7,
    "start_time": "2024-08-08T20:47:15.847Z"
   },
   {
    "duration": 10,
    "start_time": "2024-08-08T20:48:07.688Z"
   },
   {
    "duration": 5,
    "start_time": "2024-08-08T20:48:25.578Z"
   },
   {
    "duration": 21,
    "start_time": "2024-08-08T20:48:29.441Z"
   },
   {
    "duration": 5,
    "start_time": "2024-08-08T20:48:33.939Z"
   },
   {
    "duration": 23,
    "start_time": "2024-08-08T20:48:40.115Z"
   },
   {
    "duration": 5,
    "start_time": "2024-08-08T20:48:44.192Z"
   },
   {
    "duration": 23,
    "start_time": "2024-08-08T20:49:27.656Z"
   },
   {
    "duration": 24,
    "start_time": "2024-08-08T20:49:31.136Z"
   },
   {
    "duration": 67,
    "start_time": "2024-08-08T20:49:41.841Z"
   },
   {
    "duration": 9,
    "start_time": "2024-08-08T20:49:46.665Z"
   },
   {
    "duration": 14,
    "start_time": "2024-08-08T20:50:59.307Z"
   },
   {
    "duration": 27,
    "start_time": "2024-08-08T20:51:16.674Z"
   },
   {
    "duration": 26,
    "start_time": "2024-08-08T20:51:23.844Z"
   },
   {
    "duration": 10,
    "start_time": "2024-08-08T20:52:10.842Z"
   },
   {
    "duration": 22,
    "start_time": "2024-08-08T20:53:25.053Z"
   },
   {
    "duration": 22,
    "start_time": "2024-08-08T20:53:37.718Z"
   },
   {
    "duration": 12,
    "start_time": "2024-08-08T20:53:44.352Z"
   },
   {
    "duration": 20,
    "start_time": "2024-08-08T20:54:29.562Z"
   },
   {
    "duration": 7,
    "start_time": "2024-08-08T21:21:20.407Z"
   },
   {
    "duration": 4,
    "start_time": "2024-08-08T21:21:31.830Z"
   },
   {
    "duration": 35,
    "start_time": "2024-08-08T21:23:30.343Z"
   },
   {
    "duration": 5,
    "start_time": "2024-08-08T21:23:55.485Z"
   },
   {
    "duration": 26,
    "start_time": "2024-08-08T21:23:58.686Z"
   },
   {
    "duration": 4,
    "start_time": "2024-08-08T21:24:31.565Z"
   },
   {
    "duration": 14,
    "start_time": "2024-08-08T21:24:35.121Z"
   },
   {
    "duration": 4,
    "start_time": "2024-08-08T21:25:14.059Z"
   },
   {
    "duration": 13,
    "start_time": "2024-08-08T21:25:17.103Z"
   },
   {
    "duration": 11,
    "start_time": "2024-08-08T21:25:20.827Z"
   },
   {
    "duration": 7,
    "start_time": "2024-08-08T21:26:57.542Z"
   },
   {
    "duration": 11,
    "start_time": "2024-08-08T21:27:49.474Z"
   },
   {
    "duration": 12,
    "start_time": "2024-08-08T21:29:42.318Z"
   },
   {
    "duration": 25,
    "start_time": "2024-08-08T21:30:41.112Z"
   },
   {
    "duration": 12,
    "start_time": "2024-08-08T21:31:02.458Z"
   },
   {
    "duration": 13,
    "start_time": "2024-08-08T21:31:46.591Z"
   },
   {
    "duration": 11,
    "start_time": "2024-08-08T21:32:00.068Z"
   },
   {
    "duration": 5,
    "start_time": "2024-08-08T21:32:04.451Z"
   },
   {
    "duration": 24,
    "start_time": "2024-08-08T21:32:07.773Z"
   },
   {
    "duration": 15,
    "start_time": "2024-08-08T21:32:13.612Z"
   },
   {
    "duration": 11,
    "start_time": "2024-08-08T21:32:17.411Z"
   },
   {
    "duration": 4,
    "start_time": "2024-08-08T21:32:55.090Z"
   },
   {
    "duration": 24,
    "start_time": "2024-08-08T21:33:04.675Z"
   },
   {
    "duration": 5,
    "start_time": "2024-08-08T21:33:08.737Z"
   },
   {
    "duration": 26,
    "start_time": "2024-08-08T21:33:12.410Z"
   },
   {
    "duration": 12,
    "start_time": "2024-08-08T21:33:33.303Z"
   },
   {
    "duration": 12,
    "start_time": "2024-08-08T21:33:44.039Z"
   },
   {
    "duration": 12,
    "start_time": "2024-08-08T21:34:26.397Z"
   },
   {
    "duration": 21,
    "start_time": "2024-08-08T21:35:39.839Z"
   },
   {
    "duration": 153,
    "start_time": "2024-08-08T21:35:48.895Z"
   }
  ],
  "colab": {
   "collapsed_sections": [
    "E0vqbgi9ay0H",
    "VUC88oWjTJw2"
   ],
   "provenance": []
  },
  "kernelspec": {
   "display_name": "Python 3 (ipykernel)",
   "language": "python",
   "name": "python3"
  },
  "language_info": {
   "codemirror_mode": {
    "name": "ipython",
    "version": 3
   },
   "file_extension": ".py",
   "mimetype": "text/x-python",
   "name": "python",
   "nbconvert_exporter": "python",
   "pygments_lexer": "ipython3",
   "version": "3.12.4"
  },
  "toc": {
   "base_numbering": 1,
   "nav_menu": {},
   "number_sections": true,
   "sideBar": true,
   "skip_h1_title": true,
   "title_cell": "Table of Contents",
   "title_sidebar": "Contents",
   "toc_cell": false,
   "toc_position": {},
   "toc_section_display": true,
   "toc_window_display": false
  }
 },
 "nbformat": 4,
 "nbformat_minor": 1
}

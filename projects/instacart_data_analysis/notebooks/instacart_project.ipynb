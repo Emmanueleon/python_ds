{
 "cells": [
  {
   "cell_type": "markdown",
   "id": "3Xg_RQfnafXz",
   "metadata": {
    "id": "3Xg_RQfnafXz"
   },
   "source": [
    "# ¡Llena ese carrito!"
   ]
  },
  {
   "cell_type": "markdown",
   "id": "mhIvmmkW414q",
   "metadata": {
    "id": "mhIvmmkW414q"
   },
   "source": [
    "## Introducción\n",
    "---\n",
    "\n",
    "Instacart es una plataforma de entregas de comestibles donde la clientela puede registrar un pedido y hacer que se lo entreguen, similar a Uber Eats y Door Dash.\n",
    "El conjunto de datos que te hemos proporcionado tiene modificaciones del original. Redujimos el tamaño del conjunto para que tus cálculos se hicieran más rápido e introdujimos valores ausentes y duplicados. Tuvimos cuidado de conservar las distribuciones de los datos originales cuando hicimos los cambios.\n",
    "\n",
    "Debes completar tres pasos. Para cada uno de ellos, escribe una breve introducción que refleje con claridad cómo pretendes resolver cada paso, y escribe párrafos explicatorios que justifiquen tus decisiones al tiempo que avanzas en tu solución.  También escribe una conclusión que resuma tus hallazgos y elecciones.\n"
   ]
  },
  {
   "cell_type": "markdown",
   "id": "3MbyzpOQZ5Or",
   "metadata": {
    "id": "3MbyzpOQZ5Or"
   },
   "source": [
    "## Diccionario de datos\n",
    "---\n",
    "\n",
    "Hay cinco tablas en el conjunto de datos, y tendrás que usarlas todas para hacer el preprocesamiento de datos y el análisis exploratorio de datos. A continuación se muestra un diccionario de datos que enumera las columnas de cada tabla y describe los datos que contienen.\n",
    "\n",
    "- `instacart_orders.csv`: cada fila corresponde a un pedido en la aplicación Instacart.\n",
    "    - `'order_id'`: número de ID que identifica de manera única cada pedido.\n",
    "    - `'user_id'`: número de ID que identifica de manera única la cuenta de cada cliente.\n",
    "    - `'order_number'`: el número de veces que este cliente ha hecho un pedido.\n",
    "    - `'order_dow'`: día de la semana en que se hizo el pedido (0 si es domingo).\n",
    "    - `'order_hour_of_day'`: hora del día en que se hizo el pedido.\n",
    "    - `'days_since_prior_order'`: número de días transcurridos desde que este cliente hizo su pedido anterior.\n",
    "- `products.csv`: cada fila corresponde a un producto único que pueden comprar los clientes.\n",
    "    - `'product_id'`: número ID que identifica de manera única cada producto.\n",
    "    - `'product_name'`: nombre del producto.\n",
    "    - `'aisle_id'`: número ID que identifica de manera única cada categoría de pasillo de víveres.\n",
    "    - `'department_id'`: número ID que identifica de manera única cada departamento de víveres.\n",
    "- `order_products.csv`: cada fila corresponde a un artículo pedido en un pedido.\n",
    "    - `'order_id'`: número de ID que identifica de manera única cada pedido.\n",
    "    - `'product_id'`: número ID que identifica de manera única cada producto.\n",
    "    - `'add_to_cart_order'`: el orden secuencial en el que se añadió cada artículo en el carrito.\n",
    "    - `'reordered'`: 0 si el cliente nunca ha pedido este producto antes, 1 si lo ha pedido.\n",
    "- `aisles.csv`\n",
    "    - `'aisle_id'`: número ID que identifica de manera única cada categoría de pasillo de víveres.\n",
    "    - `'aisle'`: nombre del pasillo.\n",
    "- `departments.csv`\n",
    "    - `'department_id'`: número ID que identifica de manera única cada departamento de víveres.\n",
    "    - `'department'`: nombre del departamento."
   ]
  },
  {
   "cell_type": "markdown",
   "id": "n3Ha_cNSZ8lK",
   "metadata": {
    "id": "n3Ha_cNSZ8lK"
   },
   "source": [
    "## Paso 1. Descripción de los datos\n",
    "---\n",
    "\n",
    "Lee los archivos de datos (`/datasets/instacart_orders.csv`, `/datasets/products.csv`, `/datasets/aisles.csv`, `/datasets/departments.csv` y `/datasets/order_products.csv`) con `pd.read_csv()` usando los parámetros adecuados para leer los datos correctamente. Verifica la información para cada DataFrame creado.\n"
   ]
  },
  {
   "cell_type": "markdown",
   "id": "OmlQPLlyaAfR",
   "metadata": {
    "id": "OmlQPLlyaAfR"
   },
   "source": [
    "### 1.1 Plan de solución\n",
    "\n",
    "1. Importación de ambiente y datos\n",
    "   1. Importación de bibliotecas\n",
    "   2. Carga de datos\n",
    "   3. Inspección de los df\n"
   ]
  },
  {
   "cell_type": "markdown",
   "id": "424c9edd",
   "metadata": {},
   "source": [
    "### 1.2 Importación del ambiente y datos\n",
    "Primero, importamos las bibliotecas necesarias para el análisis de datos, las cuales incluyen: pandas, numpy y matplotlib. "
   ]
  },
  {
   "cell_type": "code",
   "execution_count": 1,
   "id": "fbf1adab",
   "metadata": {
    "id": "fbf1adab"
   },
   "outputs": [],
   "source": [
    "# Importación librerías a utilizar\n",
    "import pandas as pd\n",
    "import numpy as np\n",
    "from matplotlib import pyplot as plt"
   ]
  },
  {
   "cell_type": "markdown",
   "id": "1b43e485",
   "metadata": {},
   "source": [
    "Posteriormente cargamos los archivos CSV que contienen los datos del proyecto y verificamos como es que se visualizan. "
   ]
  },
  {
   "cell_type": "code",
   "execution_count": 2,
   "id": "ad36396d",
   "metadata": {
    "id": "ad36396d"
   },
   "outputs": [],
   "source": [
    "# Importación de datos\n",
    "## Pasillos \n",
    "aisles = pd.read_csv(\"../data/aisles.csv\", sep= \";\")\n",
    "\n",
    "## Departamentos\n",
    "departments = pd.read_csv(\"../data/departments.csv\", sep= \";\")\n",
    "\n",
    "## Ordenes instacart\n",
    "insta_orders = pd.read_csv(\"../data/instacart_orders.csv\", sep= \";\")\n",
    "\n",
    "## Ordenes porductos\n",
    "order_products = pd.read_csv(\"../data/order_products.csv\", sep= \";\")\n",
    "\n",
    "## Productos instacart \n",
    "products = pd.read_csv(\"../data/products.csv\", sep = \";\")\n"
   ]
  },
  {
   "cell_type": "code",
   "execution_count": 3,
   "id": "ad6a1efa",
   "metadata": {
    "id": "ad6a1efa"
   },
   "outputs": [
    {
     "name": "stdout",
     "output_type": "stream",
     "text": [
      "<class 'pandas.core.frame.DataFrame'>\n",
      "RangeIndex: 134 entries, 0 to 133\n",
      "Data columns (total 2 columns):\n",
      " #   Column    Non-Null Count  Dtype \n",
      "---  ------    --------------  ----- \n",
      " 0   aisle_id  134 non-null    int64 \n",
      " 1   aisle     134 non-null    object\n",
      "dtypes: int64(1), object(1)\n",
      "memory usage: 2.2+ KB\n",
      "\n",
      "   aisle_id                       aisle\n",
      "0         1       prepared soups salads\n",
      "1         2           specialty cheeses\n",
      "2         3         energy granola bars\n",
      "3         4               instant foods\n",
      "4         5  marinades meat preparation\n"
     ]
    }
   ],
   "source": [
    "# Mostrar información del DataFrame\n",
    "aisles.info(show_counts= True)\n",
    "print()\n",
    "print(aisles.head())\n"
   ]
  },
  {
   "cell_type": "code",
   "execution_count": 4,
   "id": "5130e05e",
   "metadata": {
    "id": "5130e05e"
   },
   "outputs": [
    {
     "name": "stdout",
     "output_type": "stream",
     "text": [
      "<class 'pandas.core.frame.DataFrame'>\n",
      "RangeIndex: 21 entries, 0 to 20\n",
      "Data columns (total 2 columns):\n",
      " #   Column         Non-Null Count  Dtype \n",
      "---  ------         --------------  ----- \n",
      " 0   department_id  21 non-null     int64 \n",
      " 1   department     21 non-null     object\n",
      "dtypes: int64(1), object(1)\n",
      "memory usage: 468.0+ bytes\n",
      "\n",
      "   department_id department\n",
      "0              1     frozen\n",
      "1              2      other\n",
      "2              3     bakery\n",
      "3              4    produce\n",
      "4              5    alcohol\n"
     ]
    }
   ],
   "source": [
    "# mostrar información del DataFrame\n",
    "departments.info(show_counts= True)\n",
    "print()\n",
    "print(departments.head())\n"
   ]
  },
  {
   "cell_type": "code",
   "execution_count": 5,
   "id": "d8370c05",
   "metadata": {
    "id": "d8370c05"
   },
   "outputs": [
    {
     "name": "stdout",
     "output_type": "stream",
     "text": [
      "<class 'pandas.core.frame.DataFrame'>\n",
      "RangeIndex: 478967 entries, 0 to 478966\n",
      "Data columns (total 6 columns):\n",
      " #   Column                  Non-Null Count   Dtype  \n",
      "---  ------                  --------------   -----  \n",
      " 0   order_id                478967 non-null  int64  \n",
      " 1   user_id                 478967 non-null  int64  \n",
      " 2   order_number            478967 non-null  int64  \n",
      " 3   order_dow               478967 non-null  int64  \n",
      " 4   order_hour_of_day       478967 non-null  int64  \n",
      " 5   days_since_prior_order  450148 non-null  float64\n",
      "dtypes: float64(1), int64(5)\n",
      "memory usage: 21.9 MB\n",
      "\n"
     ]
    },
    {
     "data": {
      "text/html": [
       "<div>\n",
       "<style scoped>\n",
       "    .dataframe tbody tr th:only-of-type {\n",
       "        vertical-align: middle;\n",
       "    }\n",
       "\n",
       "    .dataframe tbody tr th {\n",
       "        vertical-align: top;\n",
       "    }\n",
       "\n",
       "    .dataframe thead th {\n",
       "        text-align: right;\n",
       "    }\n",
       "</style>\n",
       "<table border=\"1\" class=\"dataframe\">\n",
       "  <thead>\n",
       "    <tr style=\"text-align: right;\">\n",
       "      <th></th>\n",
       "      <th>order_id</th>\n",
       "      <th>user_id</th>\n",
       "      <th>order_number</th>\n",
       "      <th>order_dow</th>\n",
       "      <th>order_hour_of_day</th>\n",
       "      <th>days_since_prior_order</th>\n",
       "    </tr>\n",
       "  </thead>\n",
       "  <tbody>\n",
       "    <tr>\n",
       "      <th>0</th>\n",
       "      <td>1515936</td>\n",
       "      <td>183418</td>\n",
       "      <td>11</td>\n",
       "      <td>6</td>\n",
       "      <td>13</td>\n",
       "      <td>30.0</td>\n",
       "    </tr>\n",
       "    <tr>\n",
       "      <th>1</th>\n",
       "      <td>1690866</td>\n",
       "      <td>163593</td>\n",
       "      <td>5</td>\n",
       "      <td>5</td>\n",
       "      <td>12</td>\n",
       "      <td>9.0</td>\n",
       "    </tr>\n",
       "    <tr>\n",
       "      <th>2</th>\n",
       "      <td>1454967</td>\n",
       "      <td>39980</td>\n",
       "      <td>4</td>\n",
       "      <td>5</td>\n",
       "      <td>19</td>\n",
       "      <td>2.0</td>\n",
       "    </tr>\n",
       "    <tr>\n",
       "      <th>3</th>\n",
       "      <td>1768857</td>\n",
       "      <td>82516</td>\n",
       "      <td>56</td>\n",
       "      <td>0</td>\n",
       "      <td>20</td>\n",
       "      <td>10.0</td>\n",
       "    </tr>\n",
       "    <tr>\n",
       "      <th>4</th>\n",
       "      <td>3007858</td>\n",
       "      <td>196724</td>\n",
       "      <td>2</td>\n",
       "      <td>4</td>\n",
       "      <td>12</td>\n",
       "      <td>17.0</td>\n",
       "    </tr>\n",
       "  </tbody>\n",
       "</table>\n",
       "</div>"
      ],
      "text/plain": [
       "   order_id  user_id  order_number  order_dow  order_hour_of_day  \\\n",
       "0   1515936   183418            11          6                 13   \n",
       "1   1690866   163593             5          5                 12   \n",
       "2   1454967    39980             4          5                 19   \n",
       "3   1768857    82516            56          0                 20   \n",
       "4   3007858   196724             2          4                 12   \n",
       "\n",
       "   days_since_prior_order  \n",
       "0                    30.0  \n",
       "1                     9.0  \n",
       "2                     2.0  \n",
       "3                    10.0  \n",
       "4                    17.0  "
      ]
     },
     "execution_count": 5,
     "metadata": {},
     "output_type": "execute_result"
    }
   ],
   "source": [
    "# mostrar información del DataFrame\n",
    "insta_orders.info(show_counts= True)\n",
    "print()\n",
    "insta_orders.head()"
   ]
  },
  {
   "cell_type": "code",
   "execution_count": 6,
   "id": "59e2090f",
   "metadata": {
    "id": "59e2090f"
   },
   "outputs": [
    {
     "name": "stdout",
     "output_type": "stream",
     "text": [
      "<class 'pandas.core.frame.DataFrame'>\n",
      "RangeIndex: 4545007 entries, 0 to 4545006\n",
      "Data columns (total 4 columns):\n",
      " #   Column             Non-Null Count    Dtype  \n",
      "---  ------             --------------    -----  \n",
      " 0   order_id           4545007 non-null  int64  \n",
      " 1   product_id         4545007 non-null  int64  \n",
      " 2   add_to_cart_order  4544171 non-null  float64\n",
      " 3   reordered          4545007 non-null  int64  \n",
      "dtypes: float64(1), int64(3)\n",
      "memory usage: 138.7 MB\n",
      "\n"
     ]
    },
    {
     "data": {
      "text/html": [
       "<div>\n",
       "<style scoped>\n",
       "    .dataframe tbody tr th:only-of-type {\n",
       "        vertical-align: middle;\n",
       "    }\n",
       "\n",
       "    .dataframe tbody tr th {\n",
       "        vertical-align: top;\n",
       "    }\n",
       "\n",
       "    .dataframe thead th {\n",
       "        text-align: right;\n",
       "    }\n",
       "</style>\n",
       "<table border=\"1\" class=\"dataframe\">\n",
       "  <thead>\n",
       "    <tr style=\"text-align: right;\">\n",
       "      <th></th>\n",
       "      <th>order_id</th>\n",
       "      <th>product_id</th>\n",
       "      <th>add_to_cart_order</th>\n",
       "      <th>reordered</th>\n",
       "    </tr>\n",
       "  </thead>\n",
       "  <tbody>\n",
       "    <tr>\n",
       "      <th>0</th>\n",
       "      <td>2141543</td>\n",
       "      <td>11440</td>\n",
       "      <td>17.0</td>\n",
       "      <td>0</td>\n",
       "    </tr>\n",
       "    <tr>\n",
       "      <th>1</th>\n",
       "      <td>567889</td>\n",
       "      <td>1560</td>\n",
       "      <td>1.0</td>\n",
       "      <td>1</td>\n",
       "    </tr>\n",
       "    <tr>\n",
       "      <th>2</th>\n",
       "      <td>2261212</td>\n",
       "      <td>26683</td>\n",
       "      <td>1.0</td>\n",
       "      <td>1</td>\n",
       "    </tr>\n",
       "    <tr>\n",
       "      <th>3</th>\n",
       "      <td>491251</td>\n",
       "      <td>8670</td>\n",
       "      <td>35.0</td>\n",
       "      <td>1</td>\n",
       "    </tr>\n",
       "    <tr>\n",
       "      <th>4</th>\n",
       "      <td>2571142</td>\n",
       "      <td>1940</td>\n",
       "      <td>5.0</td>\n",
       "      <td>1</td>\n",
       "    </tr>\n",
       "  </tbody>\n",
       "</table>\n",
       "</div>"
      ],
      "text/plain": [
       "   order_id  product_id  add_to_cart_order  reordered\n",
       "0   2141543       11440               17.0          0\n",
       "1    567889        1560                1.0          1\n",
       "2   2261212       26683                1.0          1\n",
       "3    491251        8670               35.0          1\n",
       "4   2571142        1940                5.0          1"
      ]
     },
     "execution_count": 6,
     "metadata": {},
     "output_type": "execute_result"
    }
   ],
   "source": [
    "# mostrar información del DataFrame\n",
    "order_products.info(show_counts= True)\n",
    "print()\n",
    "order_products.head()"
   ]
  },
  {
   "cell_type": "code",
   "execution_count": 7,
   "id": "6fc81694",
   "metadata": {
    "id": "6fc81694"
   },
   "outputs": [
    {
     "name": "stdout",
     "output_type": "stream",
     "text": [
      "<class 'pandas.core.frame.DataFrame'>\n",
      "RangeIndex: 49694 entries, 0 to 49693\n",
      "Data columns (total 4 columns):\n",
      " #   Column         Non-Null Count  Dtype \n",
      "---  ------         --------------  ----- \n",
      " 0   product_id     49694 non-null  int64 \n",
      " 1   product_name   48436 non-null  object\n",
      " 2   aisle_id       49694 non-null  int64 \n",
      " 3   department_id  49694 non-null  int64 \n",
      "dtypes: int64(3), object(1)\n",
      "memory usage: 1.5+ MB\n",
      "\n"
     ]
    },
    {
     "data": {
      "text/html": [
       "<div>\n",
       "<style scoped>\n",
       "    .dataframe tbody tr th:only-of-type {\n",
       "        vertical-align: middle;\n",
       "    }\n",
       "\n",
       "    .dataframe tbody tr th {\n",
       "        vertical-align: top;\n",
       "    }\n",
       "\n",
       "    .dataframe thead th {\n",
       "        text-align: right;\n",
       "    }\n",
       "</style>\n",
       "<table border=\"1\" class=\"dataframe\">\n",
       "  <thead>\n",
       "    <tr style=\"text-align: right;\">\n",
       "      <th></th>\n",
       "      <th>product_id</th>\n",
       "      <th>product_name</th>\n",
       "      <th>aisle_id</th>\n",
       "      <th>department_id</th>\n",
       "    </tr>\n",
       "  </thead>\n",
       "  <tbody>\n",
       "    <tr>\n",
       "      <th>0</th>\n",
       "      <td>1</td>\n",
       "      <td>Chocolate Sandwich Cookies</td>\n",
       "      <td>61</td>\n",
       "      <td>19</td>\n",
       "    </tr>\n",
       "    <tr>\n",
       "      <th>1</th>\n",
       "      <td>2</td>\n",
       "      <td>All-Seasons Salt</td>\n",
       "      <td>104</td>\n",
       "      <td>13</td>\n",
       "    </tr>\n",
       "    <tr>\n",
       "      <th>2</th>\n",
       "      <td>3</td>\n",
       "      <td>Robust Golden Unsweetened Oolong Tea</td>\n",
       "      <td>94</td>\n",
       "      <td>7</td>\n",
       "    </tr>\n",
       "    <tr>\n",
       "      <th>3</th>\n",
       "      <td>4</td>\n",
       "      <td>Smart Ones Classic Favorites Mini Rigatoni Wit...</td>\n",
       "      <td>38</td>\n",
       "      <td>1</td>\n",
       "    </tr>\n",
       "    <tr>\n",
       "      <th>4</th>\n",
       "      <td>5</td>\n",
       "      <td>Green Chile Anytime Sauce</td>\n",
       "      <td>5</td>\n",
       "      <td>13</td>\n",
       "    </tr>\n",
       "  </tbody>\n",
       "</table>\n",
       "</div>"
      ],
      "text/plain": [
       "   product_id                                       product_name  aisle_id  \\\n",
       "0           1                         Chocolate Sandwich Cookies        61   \n",
       "1           2                                   All-Seasons Salt       104   \n",
       "2           3               Robust Golden Unsweetened Oolong Tea        94   \n",
       "3           4  Smart Ones Classic Favorites Mini Rigatoni Wit...        38   \n",
       "4           5                          Green Chile Anytime Sauce         5   \n",
       "\n",
       "   department_id  \n",
       "0             19  \n",
       "1             13  \n",
       "2              7  \n",
       "3              1  \n",
       "4             13  "
      ]
     },
     "execution_count": 7,
     "metadata": {},
     "output_type": "execute_result"
    }
   ],
   "source": [
    "# mostrar información del DataFrame\n",
    "products.info(show_counts= True)\n",
    "print()\n",
    "products.head()"
   ]
  },
  {
   "cell_type": "markdown",
   "id": "88448638",
   "metadata": {},
   "source": [
    "### 1.3 Conclusión\n",
    "\n",
    "Durante la importación de librerías y la carga de los archivos de datos, se identificaron varios aspectos que requieren atención para proceder con el análisis de datos de manera efectiva:\n",
    "\n",
    "1. **Separador de Archivos**: Todos los archivos CSV utilizados en este análisis tenían un separador de tipo ;, lo cual fue identificado y corregido durante la carga de los datos utilizando el argumento adecuado en la función pd.read_csv().\n",
    "\n",
    "2. **Observaciones de los DataFrames Cargados**:\n",
    "   - `aisles`: 2 columnas, 134 observaciones. Completo. \n",
    "   - `departments`: 2 columnas, 21 observaciones. Completo.\n",
    "   - `insta_orders`: 6 columnas, 478,967 observaciones. Datos faltantes en `days_since_prior_order`.\n",
    "   - `order_products`: 4 columnas, 4,545,007 observaciones. Datos faltantes en `add_to_cart_order`.\n",
    "   - `products`: 4 columnas, 49,694 observaciones. Datos faltantes en `product_name`.\n",
    "\n",
    "3. **Manipulación de datos**. Cada DataFrame, a excepción de los dos primeros, requiere diferentes niveles de manipulación y limpieza para preparar los datos adecuadamente para los análisis posteriores.\n",
    "\n",
    "Notamos que existen columnas referenciadas entre los distintos dataframes que pueden ser de utilidad más adelante. "
   ]
  },
  {
   "cell_type": "markdown",
   "id": "8RJHqxVmaVsF",
   "metadata": {
    "id": "8RJHqxVmaVsF"
   },
   "source": [
    "## Paso 2. Preprocesamiento de los datos\n",
    "---\n",
    "\n",
    "Preprocesa los datos de la siguiente manera:\n",
    "\n",
    "- Verifica y corrige los tipos de datos (por ejemplo, asegúrate de que las columnas de ID sean números enteros).\n",
    "- Identifica y completa los valores ausentes.\n",
    "- Identifica y elimina los valores duplicados.\n",
    "\n",
    "Asegúrate de explicar qué tipos de valores ausentes y duplicados encontraste, cómo los completaste o eliminaste y por qué usaste esos métodos. ¿Por qué crees que estos valores ausentes y duplicados pueden haber estado presentes en el conjunto de datos?"
   ]
  },
  {
   "cell_type": "markdown",
   "id": "p6poABZQaZYb",
   "metadata": {
    "id": "p6poABZQaZYb"
   },
   "source": [
    "### 2.1 Plan de solución\n",
    "\n",
    "Para el paso 2 se realizará la limpieza de datos\n",
    "2. Limpieza de datos\n",
    "   1. Verificación y manipulación de tipo de datos\n",
    "   2. Identifica y completa los valores ausentes.\n",
    "   3. Verificación de datos duplicados\n"
   ]
  },
  {
   "cell_type": "markdown",
   "id": "291c32b4",
   "metadata": {},
   "source": [
    "### 2.2 Manipulación de datos\n",
    "Con respectoi a la manipulación de datos:\n",
    "- Df `aisles`: Dado que cada dato en la columna `aisle` es único, no es necesario categorizar esta variable.\n",
    "- Df `departments`: Similar al DataFrame `aisles`, la variable `department` no requiere categorización, ya que cada dato es único.\n",
    "- Df `instacart_orders`: Se convierte el formato numérico de los días a nombres de días de la semana para mejorar la comprensión.\n",
    "- Df `order_products`: Se ha convierte el valor binario en la columna `reordered` en palabras para mejorar la comprensión.\n",
    "- Df `products`: La categorización de la variable `product_name` se pospondrá hasta después de realizar la limpieza de duplicados."
   ]
  },
  {
   "cell_type": "code",
   "execution_count": 8,
   "id": "d1296b5a",
   "metadata": {},
   "outputs": [],
   "source": [
    "# Manipulación df insta_order\n",
    "\n",
    "## Conversión de día de pedido numérico a día \n",
    "### Creación función para convertir números en días\n",
    "def num_to_day(num):\n",
    "    if num == 0: \n",
    "        return \"domingo\"\n",
    "    elif num == 1: \n",
    "        return \"lunes\"\n",
    "    elif num== 2:\n",
    "        return \"martes\"\n",
    "    elif num== 3:\n",
    "        return \"miercoles\"\n",
    "    elif num== 4:\n",
    "        return \"jueves\"\n",
    "    elif num== 5:\n",
    "        return \"viernes\"\n",
    "    elif num== 6:\n",
    "        return \"sabado\"\n",
    "    \n",
    "### Transformación de la variable numérica a días\n",
    "insta_orders[\"order_days\"] =insta_orders[\"order_dow\"].apply(num_to_day) "
   ]
  },
  {
   "cell_type": "code",
   "execution_count": 9,
   "id": "e482d550",
   "metadata": {},
   "outputs": [],
   "source": [
    "# Manipulación de df order_products\n",
    "## Conversión reorden del producto numérico a palabras\n",
    "order_products[\"reordered_wd\"]= order_products[\"reordered\"].replace({0: 'No', 1: 'Si'})"
   ]
  },
  {
   "cell_type": "markdown",
   "id": "07357848-dc64-4156-9cc3-01ff4365226d",
   "metadata": {
    "id": "07357848-dc64-4156-9cc3-01ff4365226d"
   },
   "source": [
    "### 2.3 Identificación y eliminación de valores duplicados"
   ]
  },
  {
   "cell_type": "markdown",
   "id": "f179f0a9",
   "metadata": {
    "id": "f179f0a9"
   },
   "source": [
    "#### Dataframe `insta_orders`"
   ]
  },
  {
   "cell_type": "code",
   "execution_count": 10,
   "id": "b99297a5-405a-463d-8535-9adc3da4ad74",
   "metadata": {
    "id": "b99297a5-405a-463d-8535-9adc3da4ad74"
   },
   "outputs": [
    {
     "name": "stdout",
     "output_type": "stream",
     "text": [
      "Número de duplicados antes de eliminar: 15\n",
      "Número de filas antes de eliminar duplicados: 478967\n",
      "\n",
      "        order_id  user_id  order_number  order_dow  order_hour_of_day  \\\n",
      "145574    794638    50898            24          3                  2   \n",
      "223105   2160484   107525            16          3                  2   \n",
      "230807   1918001   188546            14          3                  2   \n",
      "266232   1782114   106752             1          3                  2   \n",
      "273805   1112182   202304            84          3                  2   \n",
      "284038   2845099    31189            11          3                  2   \n",
      "311713   1021560    53767             3          3                  2   \n",
      "321100    408114    68324             4          3                  2   \n",
      "323900   1919531   191501            32          3                  2   \n",
      "345917   2232988    82565             1          3                  2   \n",
      "371905    391768    57671            19          3                  2   \n",
      "394347    467134    63189            21          3                  2   \n",
      "411408   1286742   183220            48          3                  2   \n",
      "415163   2282673    86751            49          3                  2   \n",
      "441599   2125197    14050            48          3                  2   \n",
      "\n",
      "        days_since_prior_order order_days  \n",
      "145574                     2.0  miercoles  \n",
      "223105                    30.0  miercoles  \n",
      "230807                    16.0  miercoles  \n",
      "266232                     NaN  miercoles  \n",
      "273805                     6.0  miercoles  \n",
      "284038                     7.0  miercoles  \n",
      "311713                     9.0  miercoles  \n",
      "321100                    18.0  miercoles  \n",
      "323900                     7.0  miercoles  \n",
      "345917                     NaN  miercoles  \n",
      "371905                    10.0  miercoles  \n",
      "394347                     2.0  miercoles  \n",
      "411408                     4.0  miercoles  \n",
      "415163                     2.0  miercoles  \n",
      "441599                     3.0  miercoles  \n"
     ]
    }
   ],
   "source": [
    "# Revisa si hay pedidos duplicados\n",
    "## Número de duplicados antes de eliminar\n",
    "num_duplicados = insta_orders.duplicated().sum()\n",
    "print(f\"Número de duplicados antes de eliminar: {num_duplicados}\")\n",
    "print(f\"Número de filas antes de eliminar duplicados: {insta_orders.shape[0]}\")\n",
    "print()\n",
    "\n",
    "## Identificación de duplicados exactos\n",
    "insta_orders_duplicated = insta_orders[insta_orders.duplicated()]\n",
    "print(insta_orders_duplicated)\n"
   ]
  },
  {
   "cell_type": "markdown",
   "id": "PEkwUX_gvt5A",
   "metadata": {
    "id": "PEkwUX_gvt5A"
   },
   "source": [
    "¿Tienes líneas duplicadas? Si sí, ¿qué tienen en común?     \n",
    "**R**: Si, el dataframe tiene 15 duplicados explícitos. "
   ]
  },
  {
   "cell_type": "code",
   "execution_count": 11,
   "id": "0d44de5d",
   "metadata": {
    "id": "0d44de5d"
   },
   "outputs": [
    {
     "data": {
      "text/html": [
       "<div>\n",
       "<style scoped>\n",
       "    .dataframe tbody tr th:only-of-type {\n",
       "        vertical-align: middle;\n",
       "    }\n",
       "\n",
       "    .dataframe tbody tr th {\n",
       "        vertical-align: top;\n",
       "    }\n",
       "\n",
       "    .dataframe thead th {\n",
       "        text-align: right;\n",
       "    }\n",
       "</style>\n",
       "<table border=\"1\" class=\"dataframe\">\n",
       "  <thead>\n",
       "    <tr style=\"text-align: right;\">\n",
       "      <th></th>\n",
       "      <th>order_id</th>\n",
       "      <th>user_id</th>\n",
       "      <th>order_number</th>\n",
       "      <th>order_dow</th>\n",
       "      <th>order_hour_of_day</th>\n",
       "      <th>days_since_prior_order</th>\n",
       "      <th>order_days</th>\n",
       "    </tr>\n",
       "  </thead>\n",
       "  <tbody>\n",
       "    <tr>\n",
       "      <th>145574</th>\n",
       "      <td>794638</td>\n",
       "      <td>50898</td>\n",
       "      <td>24</td>\n",
       "      <td>3</td>\n",
       "      <td>2</td>\n",
       "      <td>2.0</td>\n",
       "      <td>miercoles</td>\n",
       "    </tr>\n",
       "    <tr>\n",
       "      <th>223105</th>\n",
       "      <td>2160484</td>\n",
       "      <td>107525</td>\n",
       "      <td>16</td>\n",
       "      <td>3</td>\n",
       "      <td>2</td>\n",
       "      <td>30.0</td>\n",
       "      <td>miercoles</td>\n",
       "    </tr>\n",
       "    <tr>\n",
       "      <th>230807</th>\n",
       "      <td>1918001</td>\n",
       "      <td>188546</td>\n",
       "      <td>14</td>\n",
       "      <td>3</td>\n",
       "      <td>2</td>\n",
       "      <td>16.0</td>\n",
       "      <td>miercoles</td>\n",
       "    </tr>\n",
       "    <tr>\n",
       "      <th>266232</th>\n",
       "      <td>1782114</td>\n",
       "      <td>106752</td>\n",
       "      <td>1</td>\n",
       "      <td>3</td>\n",
       "      <td>2</td>\n",
       "      <td>NaN</td>\n",
       "      <td>miercoles</td>\n",
       "    </tr>\n",
       "    <tr>\n",
       "      <th>273805</th>\n",
       "      <td>1112182</td>\n",
       "      <td>202304</td>\n",
       "      <td>84</td>\n",
       "      <td>3</td>\n",
       "      <td>2</td>\n",
       "      <td>6.0</td>\n",
       "      <td>miercoles</td>\n",
       "    </tr>\n",
       "    <tr>\n",
       "      <th>284038</th>\n",
       "      <td>2845099</td>\n",
       "      <td>31189</td>\n",
       "      <td>11</td>\n",
       "      <td>3</td>\n",
       "      <td>2</td>\n",
       "      <td>7.0</td>\n",
       "      <td>miercoles</td>\n",
       "    </tr>\n",
       "    <tr>\n",
       "      <th>311713</th>\n",
       "      <td>1021560</td>\n",
       "      <td>53767</td>\n",
       "      <td>3</td>\n",
       "      <td>3</td>\n",
       "      <td>2</td>\n",
       "      <td>9.0</td>\n",
       "      <td>miercoles</td>\n",
       "    </tr>\n",
       "    <tr>\n",
       "      <th>321100</th>\n",
       "      <td>408114</td>\n",
       "      <td>68324</td>\n",
       "      <td>4</td>\n",
       "      <td>3</td>\n",
       "      <td>2</td>\n",
       "      <td>18.0</td>\n",
       "      <td>miercoles</td>\n",
       "    </tr>\n",
       "    <tr>\n",
       "      <th>323900</th>\n",
       "      <td>1919531</td>\n",
       "      <td>191501</td>\n",
       "      <td>32</td>\n",
       "      <td>3</td>\n",
       "      <td>2</td>\n",
       "      <td>7.0</td>\n",
       "      <td>miercoles</td>\n",
       "    </tr>\n",
       "    <tr>\n",
       "      <th>345917</th>\n",
       "      <td>2232988</td>\n",
       "      <td>82565</td>\n",
       "      <td>1</td>\n",
       "      <td>3</td>\n",
       "      <td>2</td>\n",
       "      <td>NaN</td>\n",
       "      <td>miercoles</td>\n",
       "    </tr>\n",
       "    <tr>\n",
       "      <th>371905</th>\n",
       "      <td>391768</td>\n",
       "      <td>57671</td>\n",
       "      <td>19</td>\n",
       "      <td>3</td>\n",
       "      <td>2</td>\n",
       "      <td>10.0</td>\n",
       "      <td>miercoles</td>\n",
       "    </tr>\n",
       "    <tr>\n",
       "      <th>394347</th>\n",
       "      <td>467134</td>\n",
       "      <td>63189</td>\n",
       "      <td>21</td>\n",
       "      <td>3</td>\n",
       "      <td>2</td>\n",
       "      <td>2.0</td>\n",
       "      <td>miercoles</td>\n",
       "    </tr>\n",
       "    <tr>\n",
       "      <th>411408</th>\n",
       "      <td>1286742</td>\n",
       "      <td>183220</td>\n",
       "      <td>48</td>\n",
       "      <td>3</td>\n",
       "      <td>2</td>\n",
       "      <td>4.0</td>\n",
       "      <td>miercoles</td>\n",
       "    </tr>\n",
       "    <tr>\n",
       "      <th>415163</th>\n",
       "      <td>2282673</td>\n",
       "      <td>86751</td>\n",
       "      <td>49</td>\n",
       "      <td>3</td>\n",
       "      <td>2</td>\n",
       "      <td>2.0</td>\n",
       "      <td>miercoles</td>\n",
       "    </tr>\n",
       "    <tr>\n",
       "      <th>441599</th>\n",
       "      <td>2125197</td>\n",
       "      <td>14050</td>\n",
       "      <td>48</td>\n",
       "      <td>3</td>\n",
       "      <td>2</td>\n",
       "      <td>3.0</td>\n",
       "      <td>miercoles</td>\n",
       "    </tr>\n",
       "  </tbody>\n",
       "</table>\n",
       "</div>"
      ],
      "text/plain": [
       "        order_id  user_id  order_number  order_dow  order_hour_of_day  \\\n",
       "145574    794638    50898            24          3                  2   \n",
       "223105   2160484   107525            16          3                  2   \n",
       "230807   1918001   188546            14          3                  2   \n",
       "266232   1782114   106752             1          3                  2   \n",
       "273805   1112182   202304            84          3                  2   \n",
       "284038   2845099    31189            11          3                  2   \n",
       "311713   1021560    53767             3          3                  2   \n",
       "321100    408114    68324             4          3                  2   \n",
       "323900   1919531   191501            32          3                  2   \n",
       "345917   2232988    82565             1          3                  2   \n",
       "371905    391768    57671            19          3                  2   \n",
       "394347    467134    63189            21          3                  2   \n",
       "411408   1286742   183220            48          3                  2   \n",
       "415163   2282673    86751            49          3                  2   \n",
       "441599   2125197    14050            48          3                  2   \n",
       "\n",
       "        days_since_prior_order order_days  \n",
       "145574                     2.0  miercoles  \n",
       "223105                    30.0  miercoles  \n",
       "230807                    16.0  miercoles  \n",
       "266232                     NaN  miercoles  \n",
       "273805                     6.0  miercoles  \n",
       "284038                     7.0  miercoles  \n",
       "311713                     9.0  miercoles  \n",
       "321100                    18.0  miercoles  \n",
       "323900                     7.0  miercoles  \n",
       "345917                     NaN  miercoles  \n",
       "371905                    10.0  miercoles  \n",
       "394347                     2.0  miercoles  \n",
       "411408                     4.0  miercoles  \n",
       "415163                     2.0  miercoles  \n",
       "441599                     3.0  miercoles  "
      ]
     },
     "execution_count": 11,
     "metadata": {},
     "output_type": "execute_result"
    }
   ],
   "source": [
    "# Basándote en tus hallazgos,\n",
    "# Verifica todos los pedidos que se hicieron el miércoles a las 2:00 a.m.\n",
    "insta_orders_duplicated[(insta_orders_duplicated[\"order_days\"]== \"miercoles\") & (insta_orders_duplicated[\"order_hour_of_day\"]==2)]"
   ]
  },
  {
   "cell_type": "markdown",
   "id": "vu2OWyoqwOx5",
   "metadata": {
    "id": "vu2OWyoqwOx5"
   },
   "source": [
    "¿Qué sugiere este resultado?  \n",
    "**R**: El resultado de los 15 valores duplicados y después el filtro para ver si existen patrones me sugiere un posible fallo en el sistema que duplicó esas entradas más allá de un error ocaisonado por metar los datos, ya que al observar una hora y día en particular no observamos que exista un patrón en los datos. "
   ]
  },
  {
   "cell_type": "code",
   "execution_count": 12,
   "id": "480563c7",
   "metadata": {
    "id": "480563c7"
   },
   "outputs": [
    {
     "data": {
      "text/html": [
       "<div>\n",
       "<style scoped>\n",
       "    .dataframe tbody tr th:only-of-type {\n",
       "        vertical-align: middle;\n",
       "    }\n",
       "\n",
       "    .dataframe tbody tr th {\n",
       "        vertical-align: top;\n",
       "    }\n",
       "\n",
       "    .dataframe thead th {\n",
       "        text-align: right;\n",
       "    }\n",
       "</style>\n",
       "<table border=\"1\" class=\"dataframe\">\n",
       "  <thead>\n",
       "    <tr style=\"text-align: right;\">\n",
       "      <th></th>\n",
       "      <th>order_id</th>\n",
       "      <th>user_id</th>\n",
       "      <th>order_number</th>\n",
       "      <th>order_dow</th>\n",
       "      <th>order_hour_of_day</th>\n",
       "      <th>days_since_prior_order</th>\n",
       "      <th>order_days</th>\n",
       "    </tr>\n",
       "  </thead>\n",
       "  <tbody>\n",
       "    <tr>\n",
       "      <th>0</th>\n",
       "      <td>1515936</td>\n",
       "      <td>183418</td>\n",
       "      <td>11</td>\n",
       "      <td>6</td>\n",
       "      <td>13</td>\n",
       "      <td>30.0</td>\n",
       "      <td>sabado</td>\n",
       "    </tr>\n",
       "    <tr>\n",
       "      <th>1</th>\n",
       "      <td>1690866</td>\n",
       "      <td>163593</td>\n",
       "      <td>5</td>\n",
       "      <td>5</td>\n",
       "      <td>12</td>\n",
       "      <td>9.0</td>\n",
       "      <td>viernes</td>\n",
       "    </tr>\n",
       "    <tr>\n",
       "      <th>2</th>\n",
       "      <td>1454967</td>\n",
       "      <td>39980</td>\n",
       "      <td>4</td>\n",
       "      <td>5</td>\n",
       "      <td>19</td>\n",
       "      <td>2.0</td>\n",
       "      <td>viernes</td>\n",
       "    </tr>\n",
       "    <tr>\n",
       "      <th>3</th>\n",
       "      <td>1768857</td>\n",
       "      <td>82516</td>\n",
       "      <td>56</td>\n",
       "      <td>0</td>\n",
       "      <td>20</td>\n",
       "      <td>10.0</td>\n",
       "      <td>domingo</td>\n",
       "    </tr>\n",
       "    <tr>\n",
       "      <th>4</th>\n",
       "      <td>3007858</td>\n",
       "      <td>196724</td>\n",
       "      <td>2</td>\n",
       "      <td>4</td>\n",
       "      <td>12</td>\n",
       "      <td>17.0</td>\n",
       "      <td>jueves</td>\n",
       "    </tr>\n",
       "    <tr>\n",
       "      <th>...</th>\n",
       "      <td>...</td>\n",
       "      <td>...</td>\n",
       "      <td>...</td>\n",
       "      <td>...</td>\n",
       "      <td>...</td>\n",
       "      <td>...</td>\n",
       "      <td>...</td>\n",
       "    </tr>\n",
       "    <tr>\n",
       "      <th>478947</th>\n",
       "      <td>3210681</td>\n",
       "      <td>5617</td>\n",
       "      <td>5</td>\n",
       "      <td>1</td>\n",
       "      <td>14</td>\n",
       "      <td>7.0</td>\n",
       "      <td>lunes</td>\n",
       "    </tr>\n",
       "    <tr>\n",
       "      <th>478948</th>\n",
       "      <td>3270802</td>\n",
       "      <td>112087</td>\n",
       "      <td>2</td>\n",
       "      <td>3</td>\n",
       "      <td>13</td>\n",
       "      <td>6.0</td>\n",
       "      <td>miercoles</td>\n",
       "    </tr>\n",
       "    <tr>\n",
       "      <th>478949</th>\n",
       "      <td>885349</td>\n",
       "      <td>82944</td>\n",
       "      <td>16</td>\n",
       "      <td>2</td>\n",
       "      <td>11</td>\n",
       "      <td>6.0</td>\n",
       "      <td>martes</td>\n",
       "    </tr>\n",
       "    <tr>\n",
       "      <th>478950</th>\n",
       "      <td>216274</td>\n",
       "      <td>4391</td>\n",
       "      <td>3</td>\n",
       "      <td>3</td>\n",
       "      <td>8</td>\n",
       "      <td>8.0</td>\n",
       "      <td>miercoles</td>\n",
       "    </tr>\n",
       "    <tr>\n",
       "      <th>478951</th>\n",
       "      <td>2071924</td>\n",
       "      <td>1730</td>\n",
       "      <td>18</td>\n",
       "      <td>1</td>\n",
       "      <td>14</td>\n",
       "      <td>15.0</td>\n",
       "      <td>lunes</td>\n",
       "    </tr>\n",
       "  </tbody>\n",
       "</table>\n",
       "<p>478952 rows × 7 columns</p>\n",
       "</div>"
      ],
      "text/plain": [
       "        order_id  user_id  order_number  order_dow  order_hour_of_day  \\\n",
       "0        1515936   183418            11          6                 13   \n",
       "1        1690866   163593             5          5                 12   \n",
       "2        1454967    39980             4          5                 19   \n",
       "3        1768857    82516            56          0                 20   \n",
       "4        3007858   196724             2          4                 12   \n",
       "...          ...      ...           ...        ...                ...   \n",
       "478947   3210681     5617             5          1                 14   \n",
       "478948   3270802   112087             2          3                 13   \n",
       "478949    885349    82944            16          2                 11   \n",
       "478950    216274     4391             3          3                  8   \n",
       "478951   2071924     1730            18          1                 14   \n",
       "\n",
       "        days_since_prior_order order_days  \n",
       "0                         30.0     sabado  \n",
       "1                          9.0    viernes  \n",
       "2                          2.0    viernes  \n",
       "3                         10.0    domingo  \n",
       "4                         17.0     jueves  \n",
       "...                        ...        ...  \n",
       "478947                     7.0      lunes  \n",
       "478948                     6.0  miercoles  \n",
       "478949                     6.0     martes  \n",
       "478950                     8.0  miercoles  \n",
       "478951                    15.0      lunes  \n",
       "\n",
       "[478952 rows x 7 columns]"
      ]
     },
     "execution_count": 12,
     "metadata": {},
     "output_type": "execute_result"
    }
   ],
   "source": [
    "## Eliminación de duplicados exactos\n",
    "insta_orders.drop_duplicates(inplace=True)\n",
    "insta_orders.reset_index(drop=True)"
   ]
  },
  {
   "cell_type": "code",
   "execution_count": 13,
   "id": "0b2396a2",
   "metadata": {
    "id": "0b2396a2"
   },
   "outputs": [
    {
     "name": "stdout",
     "output_type": "stream",
     "text": [
      "Número de duplicados después de eliminar: 0\n",
      "Número de filas después de eliminar duplicados: 478952\n"
     ]
    }
   ],
   "source": [
    "## Corroboración después de eliminar duplicados\n",
    "num_duplicados_despues = insta_orders.duplicated().sum()\n",
    "print(f\"Número de duplicados después de eliminar: {num_duplicados_despues}\")\n",
    "print(f\"Número de filas después de eliminar duplicados: {insta_orders.shape[0]}\")"
   ]
  },
  {
   "cell_type": "code",
   "execution_count": 14,
   "id": "f6113ef1",
   "metadata": {
    "id": "f6113ef1"
   },
   "outputs": [
    {
     "name": "stdout",
     "output_type": "stream",
     "text": [
      "Empty DataFrame\n",
      "Columns: [order_id, user_id, order_number, order_dow, order_hour_of_day, days_since_prior_order, order_days]\n",
      "Index: []\n"
     ]
    }
   ],
   "source": [
    "# Vuelve a verificar si hay IDs duplicados de pedidos\n",
    "## Identificación de duplicados exactos\n",
    "print(insta_orders[insta_orders.duplicated()])"
   ]
  },
  {
   "cell_type": "markdown",
   "id": "5e8905ae",
   "metadata": {
    "id": "5e8905ae"
   },
   "source": [
    "Describe brevemente tus hallazgos y lo que hiciste con ellos  \n",
    "**R**: La base de datos `insta_orders ` presentó 15 duplicados explícitos por lo que se realizó la eliminación de los mismos, ya que no comprometen la información del dataframe. Además, revisamos de manera exploratoria si existía algun patrón en los datos que fueran similares pero encontramos heterogeneidad en los datos, por lo que se descarta esa opción. Se cree que el problema fue más por parte del sistema que duplicó entradas. "
   ]
  },
  {
   "cell_type": "markdown",
   "id": "45e6bc46",
   "metadata": {
    "id": "45e6bc46"
   },
   "source": [
    "#### Dataframe `products`"
   ]
  },
  {
   "cell_type": "code",
   "execution_count": 15,
   "id": "5f526b5b-8175-46fa-a0fd-441767d50e64",
   "metadata": {
    "id": "5f526b5b-8175-46fa-a0fd-441767d50e64"
   },
   "outputs": [
    {
     "name": "stdout",
     "output_type": "stream",
     "text": [
      "0\n"
     ]
    }
   ],
   "source": [
    "# Verifica si hay filas totalmente duplicadas\n",
    "print(products.duplicated().sum())"
   ]
  },
  {
   "cell_type": "code",
   "execution_count": 16,
   "id": "88daa4f4",
   "metadata": {
    "id": "88daa4f4"
   },
   "outputs": [
    {
     "name": "stdout",
     "output_type": "stream",
     "text": [
      "0\n"
     ]
    }
   ],
   "source": [
    "# Verifica si hay IDs duplicadas de productos\n",
    "print(products[\"product_id\"].duplicated().sum())"
   ]
  },
  {
   "cell_type": "code",
   "execution_count": 17,
   "id": "c773f0bf",
   "metadata": {
    "id": "c773f0bf"
   },
   "outputs": [
    {
     "name": "stdout",
     "output_type": "stream",
     "text": [
      "1257\n"
     ]
    },
    {
     "data": {
      "text/html": [
       "<div>\n",
       "<style scoped>\n",
       "    .dataframe tbody tr th:only-of-type {\n",
       "        vertical-align: middle;\n",
       "    }\n",
       "\n",
       "    .dataframe tbody tr th {\n",
       "        vertical-align: top;\n",
       "    }\n",
       "\n",
       "    .dataframe thead th {\n",
       "        text-align: right;\n",
       "    }\n",
       "</style>\n",
       "<table border=\"1\" class=\"dataframe\">\n",
       "  <thead>\n",
       "    <tr style=\"text-align: right;\">\n",
       "      <th></th>\n",
       "      <th>product_id</th>\n",
       "      <th>product_name</th>\n",
       "      <th>aisle_id</th>\n",
       "      <th>department_id</th>\n",
       "    </tr>\n",
       "  </thead>\n",
       "  <tbody>\n",
       "    <tr>\n",
       "      <th>71</th>\n",
       "      <td>72</td>\n",
       "      <td>NaN</td>\n",
       "      <td>100</td>\n",
       "      <td>21</td>\n",
       "    </tr>\n",
       "    <tr>\n",
       "      <th>109</th>\n",
       "      <td>110</td>\n",
       "      <td>NaN</td>\n",
       "      <td>100</td>\n",
       "      <td>21</td>\n",
       "    </tr>\n",
       "    <tr>\n",
       "      <th>296</th>\n",
       "      <td>297</td>\n",
       "      <td>NaN</td>\n",
       "      <td>100</td>\n",
       "      <td>21</td>\n",
       "    </tr>\n",
       "    <tr>\n",
       "      <th>416</th>\n",
       "      <td>417</td>\n",
       "      <td>NaN</td>\n",
       "      <td>100</td>\n",
       "      <td>21</td>\n",
       "    </tr>\n",
       "    <tr>\n",
       "      <th>436</th>\n",
       "      <td>437</td>\n",
       "      <td>NaN</td>\n",
       "      <td>100</td>\n",
       "      <td>21</td>\n",
       "    </tr>\n",
       "    <tr>\n",
       "      <th>...</th>\n",
       "      <td>...</td>\n",
       "      <td>...</td>\n",
       "      <td>...</td>\n",
       "      <td>...</td>\n",
       "    </tr>\n",
       "    <tr>\n",
       "      <th>49552</th>\n",
       "      <td>49553</td>\n",
       "      <td>NaN</td>\n",
       "      <td>100</td>\n",
       "      <td>21</td>\n",
       "    </tr>\n",
       "    <tr>\n",
       "      <th>49574</th>\n",
       "      <td>49575</td>\n",
       "      <td>NaN</td>\n",
       "      <td>100</td>\n",
       "      <td>21</td>\n",
       "    </tr>\n",
       "    <tr>\n",
       "      <th>49640</th>\n",
       "      <td>49641</td>\n",
       "      <td>NaN</td>\n",
       "      <td>100</td>\n",
       "      <td>21</td>\n",
       "    </tr>\n",
       "    <tr>\n",
       "      <th>49663</th>\n",
       "      <td>49664</td>\n",
       "      <td>NaN</td>\n",
       "      <td>100</td>\n",
       "      <td>21</td>\n",
       "    </tr>\n",
       "    <tr>\n",
       "      <th>49668</th>\n",
       "      <td>49669</td>\n",
       "      <td>NaN</td>\n",
       "      <td>100</td>\n",
       "      <td>21</td>\n",
       "    </tr>\n",
       "  </tbody>\n",
       "</table>\n",
       "<p>1257 rows × 4 columns</p>\n",
       "</div>"
      ],
      "text/plain": [
       "       product_id product_name  aisle_id  department_id\n",
       "71             72          NaN       100             21\n",
       "109           110          NaN       100             21\n",
       "296           297          NaN       100             21\n",
       "416           417          NaN       100             21\n",
       "436           437          NaN       100             21\n",
       "...           ...          ...       ...            ...\n",
       "49552       49553          NaN       100             21\n",
       "49574       49575          NaN       100             21\n",
       "49640       49641          NaN       100             21\n",
       "49663       49664          NaN       100             21\n",
       "49668       49669          NaN       100             21\n",
       "\n",
       "[1257 rows x 4 columns]"
      ]
     },
     "execution_count": 17,
     "metadata": {},
     "output_type": "execute_result"
    }
   ],
   "source": [
    "# Revisa si hay nombres duplicados de productos\n",
    "## Número de duplicados\n",
    "print(products[\"product_name\"].duplicated().sum())\n",
    "\n",
    "## Identificación de los duplicados\n",
    "products[products[\"product_name\"].duplicated()]"
   ]
  },
  {
   "cell_type": "code",
   "execution_count": 18,
   "id": "dad7031b",
   "metadata": {},
   "outputs": [
    {
     "name": "stdout",
     "output_type": "stream",
     "text": [
      "    aisle_id    aisle\n",
      "99       100  missing\n",
      "\n",
      "    department_id department\n",
      "20             21    missing\n"
     ]
    }
   ],
   "source": [
    "# Inspección de pasillo 100 y departamento 21\n",
    "print(aisles[aisles['aisle_id'] == 100])\n",
    "print()\n",
    "print(departments[departments[\"department_id\"]==21])\n"
   ]
  },
  {
   "cell_type": "code",
   "execution_count": 19,
   "id": "01efd02e",
   "metadata": {
    "id": "01efd02e"
   },
   "outputs": [
    {
     "name": "stdout",
     "output_type": "stream",
     "text": [
      "0\n"
     ]
    },
    {
     "data": {
      "text/plain": [
       "25772                                  #2 Coffee Filters\n",
       "2157                        #2 Cone White Coffee Filters\n",
       "26684                              #2 Mechanical Pencils\n",
       "26380                    #4 Natural Brown Coffee Filters\n",
       "20603             & Go! Hazelnut Spread + Pretzel Sticks\n",
       "27511                           'Swingtop' Premium Lager\n",
       "40775      (70% Juice!) Mountain Raspberry Juice Squeeze\n",
       "11907       +Energy Black Cherry Vegetable & Fruit Juice\n",
       "29881                               .5\\\" Waterproof Tape\n",
       "14772            0 Calorie Acai Raspberry Water Beverage\n",
       "25420           0 Calorie Fuji Apple Pear Water Beverage\n",
       "22964    0 Calorie Strawberry Dragonfruit Water Beverage\n",
       "7493                  0% Fat Black Cherry Greek Yogurt y\n",
       "3755                       0% Fat Blueberry Greek Yogurt\n",
       "49516                           0% Fat Free Organic Milk\n",
       "Name: product_name, dtype: object"
      ]
     },
     "execution_count": 19,
     "metadata": {},
     "output_type": "execute_result"
    }
   ],
   "source": [
    "# Revisa si hay nombres duplicados de productos no faltantes\n",
    "## Creeación de dataframe sin valores perdidos\n",
    "products_no_100 = products[(products[\"aisle_id\"]!=100) & (products[\"department_id\"] != 100)]\n",
    "print(products_no_100.duplicated().sum())\n",
    "\n",
    "## Inspección del dataframe sin valores perdidos\n",
    "products_no_100[\"product_name\"].sort_values(ascending=True).head(15)"
   ]
  },
  {
   "cell_type": "code",
   "execution_count": 20,
   "id": "5c5d4e4c",
   "metadata": {},
   "outputs": [
    {
     "name": "stdout",
     "output_type": "stream",
     "text": [
      "104\n"
     ]
    },
    {
     "data": {
      "text/html": [
       "<div>\n",
       "<style scoped>\n",
       "    .dataframe tbody tr th:only-of-type {\n",
       "        vertical-align: middle;\n",
       "    }\n",
       "\n",
       "    .dataframe tbody tr th {\n",
       "        vertical-align: top;\n",
       "    }\n",
       "\n",
       "    .dataframe thead th {\n",
       "        text-align: right;\n",
       "    }\n",
       "</style>\n",
       "<table border=\"1\" class=\"dataframe\">\n",
       "  <thead>\n",
       "    <tr style=\"text-align: right;\">\n",
       "      <th></th>\n",
       "      <th>product_id</th>\n",
       "      <th>product_name</th>\n",
       "      <th>aisle_id</th>\n",
       "      <th>department_id</th>\n",
       "    </tr>\n",
       "  </thead>\n",
       "  <tbody>\n",
       "    <tr>\n",
       "      <th>2058</th>\n",
       "      <td>2059</td>\n",
       "      <td>BIOTIN 1000 MCG</td>\n",
       "      <td>47</td>\n",
       "      <td>11</td>\n",
       "    </tr>\n",
       "    <tr>\n",
       "      <th>5455</th>\n",
       "      <td>5456</td>\n",
       "      <td>GREEN TEA WITH GINSENG AND HONEY</td>\n",
       "      <td>96</td>\n",
       "      <td>20</td>\n",
       "    </tr>\n",
       "    <tr>\n",
       "      <th>5558</th>\n",
       "      <td>5559</td>\n",
       "      <td>CREAM OF MUSHROOM SOUP</td>\n",
       "      <td>69</td>\n",
       "      <td>15</td>\n",
       "    </tr>\n",
       "    <tr>\n",
       "      <th>7558</th>\n",
       "      <td>7559</td>\n",
       "      <td>CINNAMON ROLLS WITH ICING</td>\n",
       "      <td>105</td>\n",
       "      <td>13</td>\n",
       "    </tr>\n",
       "    <tr>\n",
       "      <th>9037</th>\n",
       "      <td>9038</td>\n",
       "      <td>AMERICAN CHEESE SLICES</td>\n",
       "      <td>21</td>\n",
       "      <td>16</td>\n",
       "    </tr>\n",
       "    <tr>\n",
       "      <th>...</th>\n",
       "      <td>...</td>\n",
       "      <td>...</td>\n",
       "      <td>...</td>\n",
       "      <td>...</td>\n",
       "    </tr>\n",
       "    <tr>\n",
       "      <th>49689</th>\n",
       "      <td>49690</td>\n",
       "      <td>HIGH PERFORMANCE ENERGY DRINK</td>\n",
       "      <td>64</td>\n",
       "      <td>7</td>\n",
       "    </tr>\n",
       "    <tr>\n",
       "      <th>49690</th>\n",
       "      <td>49691</td>\n",
       "      <td>ORIGINAL PANCAKE &amp; WAFFLE MIX</td>\n",
       "      <td>130</td>\n",
       "      <td>14</td>\n",
       "    </tr>\n",
       "    <tr>\n",
       "      <th>49691</th>\n",
       "      <td>49692</td>\n",
       "      <td>ORGANIC INSTANT OATMEAL LIGHT MAPLE BROWN SUGAR</td>\n",
       "      <td>130</td>\n",
       "      <td>14</td>\n",
       "    </tr>\n",
       "    <tr>\n",
       "      <th>49692</th>\n",
       "      <td>49693</td>\n",
       "      <td>SPRING WATER BODY WASH</td>\n",
       "      <td>127</td>\n",
       "      <td>11</td>\n",
       "    </tr>\n",
       "    <tr>\n",
       "      <th>49693</th>\n",
       "      <td>49694</td>\n",
       "      <td>BURRITO- STEAK &amp; CHEESE</td>\n",
       "      <td>38</td>\n",
       "      <td>1</td>\n",
       "    </tr>\n",
       "  </tbody>\n",
       "</table>\n",
       "<p>104 rows × 4 columns</p>\n",
       "</div>"
      ],
      "text/plain": [
       "       product_id                                     product_name  aisle_id  \\\n",
       "2058         2059                                  BIOTIN 1000 MCG        47   \n",
       "5455         5456                 GREEN TEA WITH GINSENG AND HONEY        96   \n",
       "5558         5559                           CREAM OF MUSHROOM SOUP        69   \n",
       "7558         7559                        CINNAMON ROLLS WITH ICING       105   \n",
       "9037         9038                           AMERICAN CHEESE SLICES        21   \n",
       "...           ...                                              ...       ...   \n",
       "49689       49690                    HIGH PERFORMANCE ENERGY DRINK        64   \n",
       "49690       49691                    ORIGINAL PANCAKE & WAFFLE MIX       130   \n",
       "49691       49692  ORGANIC INSTANT OATMEAL LIGHT MAPLE BROWN SUGAR       130   \n",
       "49692       49693                           SPRING WATER BODY WASH       127   \n",
       "49693       49694                          BURRITO- STEAK & CHEESE        38   \n",
       "\n",
       "       department_id  \n",
       "2058              11  \n",
       "5455              20  \n",
       "5558              15  \n",
       "7558              13  \n",
       "9037              16  \n",
       "...              ...  \n",
       "49689              7  \n",
       "49690             14  \n",
       "49691             14  \n",
       "49692             11  \n",
       "49693              1  \n",
       "\n",
       "[104 rows x 4 columns]"
      ]
     },
     "execution_count": 20,
     "metadata": {},
     "output_type": "execute_result"
    }
   ],
   "source": [
    "# Revisa si hay nombres duplicados de productos (convierte los nombres a letras mayúsculas para compararlos mejor)\n",
    "## Conversión a mayúsculas\n",
    "products_no_100.loc[:, \"product_name\"] = products_no_100[\"product_name\"].str.upper()\n",
    "\n",
    "## Número de duplicados\n",
    "print(products_no_100[\"product_name\"].duplicated().sum())\n",
    "\n",
    "## Identificación de los duplicados\n",
    "products_no_100[products_no_100[\"product_name\"].duplicated()]"
   ]
  },
  {
   "cell_type": "markdown",
   "id": "9da8d293",
   "metadata": {
    "id": "9da8d293"
   },
   "source": [
    "Describe brevemente tus hallazgos y lo que hiciste con ellos.  \n",
    "**R**: En la base de datos products, inicialmente no se encontraron duplicados explícitos. Sin embargo, durante la exploración del DataFrame, identificamos dos principales problemas:\n",
    "\n",
    "1. Valores faltantes en la columna `product_name`.\n",
    "2. Inconsistencias en la escritura de los nombres de productos.\n",
    "\n",
    "Primero, inspeccionamos la columna `product_name` y notamos un patrón: todos los nombres de productos asociados con el pasillo 100 y el departamento 21 estaban ausentes. Al verificar en los DataFrames correspondientes, confirmamos que estos valores están catalogados como faltantes.\n",
    "\n",
    "Luego, para abordar el segundo problema, realizamos un análisis más detallado de los nombres de productos. Debido a la posibilidad de duplicados implícitos por diferencias en la escritura, convertimos todos los nombres a mayúsculas para normalizar el formato. Tras este ajuste, detectamos 104 duplicados implícitos.\n",
    "\n",
    "Con esta información, es necesario consultar con el supervisor para determinar cómo proceder con el tratamiento de estos duplicados implícitos. En este momento se convierten a mayúsculas todos los nombres del producto. "
   ]
  },
  {
   "cell_type": "code",
   "execution_count": 21,
   "id": "93b1be8d",
   "metadata": {},
   "outputs": [
    {
     "data": {
      "text/html": [
       "<div>\n",
       "<style scoped>\n",
       "    .dataframe tbody tr th:only-of-type {\n",
       "        vertical-align: middle;\n",
       "    }\n",
       "\n",
       "    .dataframe tbody tr th {\n",
       "        vertical-align: top;\n",
       "    }\n",
       "\n",
       "    .dataframe thead th {\n",
       "        text-align: right;\n",
       "    }\n",
       "</style>\n",
       "<table border=\"1\" class=\"dataframe\">\n",
       "  <thead>\n",
       "    <tr style=\"text-align: right;\">\n",
       "      <th></th>\n",
       "      <th>product_id</th>\n",
       "      <th>product_name</th>\n",
       "      <th>aisle_id</th>\n",
       "      <th>department_id</th>\n",
       "    </tr>\n",
       "  </thead>\n",
       "  <tbody>\n",
       "    <tr>\n",
       "      <th>27646</th>\n",
       "      <td>27647</td>\n",
       "      <td>ORGANIC ROSEMARY OLIVE OIL STONEGROUND WHEAT C...</td>\n",
       "      <td>78</td>\n",
       "      <td>19</td>\n",
       "    </tr>\n",
       "    <tr>\n",
       "      <th>30056</th>\n",
       "      <td>30057</td>\n",
       "      <td>ORZO PASTA</td>\n",
       "      <td>131</td>\n",
       "      <td>9</td>\n",
       "    </tr>\n",
       "    <tr>\n",
       "      <th>27312</th>\n",
       "      <td>27313</td>\n",
       "      <td>LIGHT MOZARELLA STRING CHEESE</td>\n",
       "      <td>21</td>\n",
       "      <td>16</td>\n",
       "    </tr>\n",
       "    <tr>\n",
       "      <th>21785</th>\n",
       "      <td>21786</td>\n",
       "      <td>RED CHILE ENCHILADA SAUCE MILD</td>\n",
       "      <td>30</td>\n",
       "      <td>6</td>\n",
       "    </tr>\n",
       "    <tr>\n",
       "      <th>14006</th>\n",
       "      <td>14007</td>\n",
       "      <td>FRUCTIS® SLEEK &amp; SHINE INTENSELY SMOOTH LEAVE-...</td>\n",
       "      <td>22</td>\n",
       "      <td>11</td>\n",
       "    </tr>\n",
       "    <tr>\n",
       "      <th>6966</th>\n",
       "      <td>6967</td>\n",
       "      <td>GRADUATES STRAWBERRY APPLE PUFFS</td>\n",
       "      <td>92</td>\n",
       "      <td>18</td>\n",
       "    </tr>\n",
       "    <tr>\n",
       "      <th>27659</th>\n",
       "      <td>27660</td>\n",
       "      <td>CLASSIC CORN CHOWDER SOUP</td>\n",
       "      <td>69</td>\n",
       "      <td>15</td>\n",
       "    </tr>\n",
       "    <tr>\n",
       "      <th>1788</th>\n",
       "      <td>1789</td>\n",
       "      <td>FRUIT STEM CELL REVITALIZE SERUM</td>\n",
       "      <td>73</td>\n",
       "      <td>11</td>\n",
       "    </tr>\n",
       "    <tr>\n",
       "      <th>20094</th>\n",
       "      <td>20095</td>\n",
       "      <td>CHLOROXYGEN ALCOHOL FREE CHLOROPHYLL CONCENTRATE</td>\n",
       "      <td>47</td>\n",
       "      <td>11</td>\n",
       "    </tr>\n",
       "    <tr>\n",
       "      <th>49143</th>\n",
       "      <td>49144</td>\n",
       "      <td>BAKED CHEESE RAVIOLI</td>\n",
       "      <td>38</td>\n",
       "      <td>1</td>\n",
       "    </tr>\n",
       "  </tbody>\n",
       "</table>\n",
       "</div>"
      ],
      "text/plain": [
       "       product_id                                       product_name  \\\n",
       "27646       27647  ORGANIC ROSEMARY OLIVE OIL STONEGROUND WHEAT C...   \n",
       "30056       30057                                         ORZO PASTA   \n",
       "27312       27313                      LIGHT MOZARELLA STRING CHEESE   \n",
       "21785       21786                     RED CHILE ENCHILADA SAUCE MILD   \n",
       "14006       14007  FRUCTIS® SLEEK & SHINE INTENSELY SMOOTH LEAVE-...   \n",
       "6966         6967                   GRADUATES STRAWBERRY APPLE PUFFS   \n",
       "27659       27660                          CLASSIC CORN CHOWDER SOUP   \n",
       "1788         1789                   FRUIT STEM CELL REVITALIZE SERUM   \n",
       "20094       20095   CHLOROXYGEN ALCOHOL FREE CHLOROPHYLL CONCENTRATE   \n",
       "49143       49144                               BAKED CHEESE RAVIOLI   \n",
       "\n",
       "       aisle_id  department_id  \n",
       "27646        78             19  \n",
       "30056       131              9  \n",
       "27312        21             16  \n",
       "21785        30              6  \n",
       "14006        22             11  \n",
       "6966         92             18  \n",
       "27659        69             15  \n",
       "1788         73             11  \n",
       "20094        47             11  \n",
       "49143        38              1  "
      ]
     },
     "execution_count": 21,
     "metadata": {},
     "output_type": "execute_result"
    }
   ],
   "source": [
    "## Conversión del nombre de productos a upper\n",
    "products[\"product_name\"] = products[\"product_name\"].str.upper()\n",
    "\n",
    "## Corroboración\n",
    "products.sample(10)"
   ]
  },
  {
   "cell_type": "markdown",
   "id": "60f30db1",
   "metadata": {
    "id": "60f30db1"
   },
   "source": [
    "#### Dataframe `departments`"
   ]
  },
  {
   "cell_type": "code",
   "execution_count": 22,
   "id": "fb410ad4-0fbf-4b80-bb09-23fdea79afe3",
   "metadata": {
    "id": "fb410ad4-0fbf-4b80-bb09-23fdea79afe3"
   },
   "outputs": [
    {
     "name": "stdout",
     "output_type": "stream",
     "text": [
      "0\n"
     ]
    }
   ],
   "source": [
    "# Revisa si hay filas totalmente duplicadas\n",
    "print(departments.duplicated().sum())"
   ]
  },
  {
   "cell_type": "code",
   "execution_count": 23,
   "id": "332b12bb",
   "metadata": {
    "id": "332b12bb"
   },
   "outputs": [
    {
     "name": "stdout",
     "output_type": "stream",
     "text": [
      "0\n"
     ]
    }
   ],
   "source": [
    "# Revisa si hay IDs duplicadas de productos\n",
    "print(departments[\"department_id\"].duplicated().sum())"
   ]
  },
  {
   "cell_type": "code",
   "execution_count": 24,
   "id": "09b249c0",
   "metadata": {},
   "outputs": [
    {
     "data": {
      "text/plain": [
       "count         21\n",
       "unique        21\n",
       "top       frozen\n",
       "freq           1\n",
       "Name: department, dtype: object"
      ]
     },
     "execution_count": 24,
     "metadata": {},
     "output_type": "execute_result"
    }
   ],
   "source": [
    "# Inspección de nombre de departamentos\n",
    "departments[\"department\"].describe()"
   ]
  },
  {
   "cell_type": "markdown",
   "id": "bd30d78e",
   "metadata": {
    "id": "bd30d78e"
   },
   "source": [
    "Describe brevemente tus hallazgos y lo que hiciste con ellos.  \n",
    "**R**: Al inspeccionar el DataFrame departments, observamos que tanto la columna `department_id` como la columna `department` tienen valores únicos. Es decir cada departamento tiene una id única. Por lo tanto, no es necesario realizar ninguna manipulación adicional en estas columnas."
   ]
  },
  {
   "cell_type": "markdown",
   "id": "889349c1",
   "metadata": {
    "id": "889349c1"
   },
   "source": [
    "#### Dataframe `aisles`"
   ]
  },
  {
   "cell_type": "code",
   "execution_count": 25,
   "id": "9da89fb9-4679-40f5-ad0d-c34df753a3f8",
   "metadata": {
    "id": "9da89fb9-4679-40f5-ad0d-c34df753a3f8"
   },
   "outputs": [
    {
     "name": "stdout",
     "output_type": "stream",
     "text": [
      "0\n"
     ]
    }
   ],
   "source": [
    "# Revisa si hay filas totalmente duplicadas\n",
    "print(aisles.duplicated().sum())"
   ]
  },
  {
   "cell_type": "code",
   "execution_count": 26,
   "id": "da7c2822",
   "metadata": {
    "id": "da7c2822"
   },
   "outputs": [
    {
     "name": "stdout",
     "output_type": "stream",
     "text": [
      "0\n"
     ]
    }
   ],
   "source": [
    "# Revisa si hay IDs duplicadas de productos\n",
    "print(aisles[\"aisle_id\"].duplicated().sum())"
   ]
  },
  {
   "cell_type": "code",
   "execution_count": 27,
   "id": "f1715f56",
   "metadata": {},
   "outputs": [
    {
     "data": {
      "text/plain": [
       "count                       134\n",
       "unique                      134\n",
       "top       prepared soups salads\n",
       "freq                          1\n",
       "Name: aisle, dtype: object"
      ]
     },
     "execution_count": 27,
     "metadata": {},
     "output_type": "execute_result"
    }
   ],
   "source": [
    "aisles[\"aisle\"].describe()"
   ]
  },
  {
   "cell_type": "markdown",
   "id": "ac63826f",
   "metadata": {
    "id": "ac63826f"
   },
   "source": [
    "Describe brevemente tus hallazgos y lo que hiciste con ellos.   \n",
    "**R**: Similar al Dataframe `departments`, el dataframe `aisles` contiene valores únicos. No requiere manipulación alguna."
   ]
  },
  {
   "cell_type": "markdown",
   "id": "274cd06a",
   "metadata": {
    "id": "274cd06a"
   },
   "source": [
    "#### Dataframe `order_products`"
   ]
  },
  {
   "cell_type": "code",
   "execution_count": 28,
   "id": "52326689-84a8-4b8f-a881-7c68780f62c9",
   "metadata": {
    "id": "52326689-84a8-4b8f-a881-7c68780f62c9"
   },
   "outputs": [
    {
     "name": "stdout",
     "output_type": "stream",
     "text": [
      "0\n"
     ]
    }
   ],
   "source": [
    "# Revisa si hay filas totalmente duplicadas\n",
    "print(order_products.duplicated().sum())"
   ]
  },
  {
   "cell_type": "code",
   "execution_count": 29,
   "id": "7b861391",
   "metadata": {
    "id": "7b861391"
   },
   "outputs": [
    {
     "name": "stdout",
     "output_type": "stream",
     "text": [
      "0\n"
     ]
    }
   ],
   "source": [
    "# Vuelve a verificar si hay cualquier otro duplicado engañoso\n",
    "print(order_products[[\"order_id\", \"product_id\"]].duplicated().sum())"
   ]
  },
  {
   "cell_type": "markdown",
   "id": "0b890492",
   "metadata": {
    "id": "0b890492"
   },
   "source": [
    "Describe brevemente tus hallazgos y lo que hiciste con ellos.   \n",
    "**R**: Al analizar el DataFrame `order_products`, encontramos que no hay duplicados exactos en el DataFrame. Sin embargo, para identificar posibles duplicados implícitos, entendemos que, un `product_id` puede aparecer varias veces si el producto se solicita en diferentes pedidos, y un `order_id` puede repetirse si una orden contiene múltiples productos. Por lo tanto, la combinación de `product_id` y `order_id` debe ser única para cada entrada. Al realizar el análisis de duplicados de acuerdo a lo anterior, notamos que no existen duplicados, confirmando que cada `order_id` está asociado con el `product_id` correspondiente de manera única. "
   ]
  },
  {
   "cell_type": "markdown",
   "id": "1e46de76",
   "metadata": {
    "id": "1e46de76"
   },
   "source": [
    "### 2.4 Encuentra y elimina los valores ausentes\n",
    "\n",
    "Al trabajar con valores duplicados, pudimos observar que también nos falta investigar valores ausentes:\n",
    "\n",
    "* La columna `'product_name'` de la tabla products.\n",
    "* La columna `'days_since_prior_order'` de la tabla orders.\n",
    "* La columna `'add_to_cart_order'` de la tabla order_productos."
   ]
  },
  {
   "cell_type": "markdown",
   "id": "c0aebd78",
   "metadata": {
    "id": "c0aebd78"
   },
   "source": [
    "#### Data frame `products`"
   ]
  },
  {
   "cell_type": "code",
   "execution_count": 30,
   "id": "fe4a8b0f",
   "metadata": {
    "id": "fe4a8b0f"
   },
   "outputs": [
    {
     "data": {
      "text/html": [
       "<div>\n",
       "<style scoped>\n",
       "    .dataframe tbody tr th:only-of-type {\n",
       "        vertical-align: middle;\n",
       "    }\n",
       "\n",
       "    .dataframe tbody tr th {\n",
       "        vertical-align: top;\n",
       "    }\n",
       "\n",
       "    .dataframe thead th {\n",
       "        text-align: right;\n",
       "    }\n",
       "</style>\n",
       "<table border=\"1\" class=\"dataframe\">\n",
       "  <thead>\n",
       "    <tr style=\"text-align: right;\">\n",
       "      <th></th>\n",
       "      <th>product_id</th>\n",
       "      <th>product_name</th>\n",
       "      <th>aisle_id</th>\n",
       "      <th>department_id</th>\n",
       "    </tr>\n",
       "  </thead>\n",
       "  <tbody>\n",
       "    <tr>\n",
       "      <th>37</th>\n",
       "      <td>38</td>\n",
       "      <td>NaN</td>\n",
       "      <td>100</td>\n",
       "      <td>21</td>\n",
       "    </tr>\n",
       "    <tr>\n",
       "      <th>71</th>\n",
       "      <td>72</td>\n",
       "      <td>NaN</td>\n",
       "      <td>100</td>\n",
       "      <td>21</td>\n",
       "    </tr>\n",
       "    <tr>\n",
       "      <th>109</th>\n",
       "      <td>110</td>\n",
       "      <td>NaN</td>\n",
       "      <td>100</td>\n",
       "      <td>21</td>\n",
       "    </tr>\n",
       "    <tr>\n",
       "      <th>296</th>\n",
       "      <td>297</td>\n",
       "      <td>NaN</td>\n",
       "      <td>100</td>\n",
       "      <td>21</td>\n",
       "    </tr>\n",
       "    <tr>\n",
       "      <th>416</th>\n",
       "      <td>417</td>\n",
       "      <td>NaN</td>\n",
       "      <td>100</td>\n",
       "      <td>21</td>\n",
       "    </tr>\n",
       "    <tr>\n",
       "      <th>...</th>\n",
       "      <td>...</td>\n",
       "      <td>...</td>\n",
       "      <td>...</td>\n",
       "      <td>...</td>\n",
       "    </tr>\n",
       "    <tr>\n",
       "      <th>49552</th>\n",
       "      <td>49553</td>\n",
       "      <td>NaN</td>\n",
       "      <td>100</td>\n",
       "      <td>21</td>\n",
       "    </tr>\n",
       "    <tr>\n",
       "      <th>49574</th>\n",
       "      <td>49575</td>\n",
       "      <td>NaN</td>\n",
       "      <td>100</td>\n",
       "      <td>21</td>\n",
       "    </tr>\n",
       "    <tr>\n",
       "      <th>49640</th>\n",
       "      <td>49641</td>\n",
       "      <td>NaN</td>\n",
       "      <td>100</td>\n",
       "      <td>21</td>\n",
       "    </tr>\n",
       "    <tr>\n",
       "      <th>49663</th>\n",
       "      <td>49664</td>\n",
       "      <td>NaN</td>\n",
       "      <td>100</td>\n",
       "      <td>21</td>\n",
       "    </tr>\n",
       "    <tr>\n",
       "      <th>49668</th>\n",
       "      <td>49669</td>\n",
       "      <td>NaN</td>\n",
       "      <td>100</td>\n",
       "      <td>21</td>\n",
       "    </tr>\n",
       "  </tbody>\n",
       "</table>\n",
       "<p>1258 rows × 4 columns</p>\n",
       "</div>"
      ],
      "text/plain": [
       "       product_id product_name  aisle_id  department_id\n",
       "37             38          NaN       100             21\n",
       "71             72          NaN       100             21\n",
       "109           110          NaN       100             21\n",
       "296           297          NaN       100             21\n",
       "416           417          NaN       100             21\n",
       "...           ...          ...       ...            ...\n",
       "49552       49553          NaN       100             21\n",
       "49574       49575          NaN       100             21\n",
       "49640       49641          NaN       100             21\n",
       "49663       49664          NaN       100             21\n",
       "49668       49669          NaN       100             21\n",
       "\n",
       "[1258 rows x 4 columns]"
      ]
     },
     "execution_count": 30,
     "metadata": {},
     "output_type": "execute_result"
    }
   ],
   "source": [
    "# Encuentra los valores ausentes en la columna 'product_name'\n",
    "products[products[\"product_name\"].isna()]"
   ]
  },
  {
   "cell_type": "markdown",
   "id": "-A6x1AbJhjkp",
   "metadata": {
    "id": "-A6x1AbJhjkp"
   },
   "source": [
    "Describe brevemente cuáles son tus hallazgos.   \n",
    "**R**: Como habiamos notado con anterioridad existen valores faltantes en el pasillo 100 y el departamento 21. "
   ]
  },
  {
   "cell_type": "code",
   "execution_count": 31,
   "id": "e96167bc",
   "metadata": {
    "id": "e96167bc"
   },
   "outputs": [
    {
     "data": {
      "text/html": [
       "<div>\n",
       "<style scoped>\n",
       "    .dataframe tbody tr th:only-of-type {\n",
       "        vertical-align: middle;\n",
       "    }\n",
       "\n",
       "    .dataframe tbody tr th {\n",
       "        vertical-align: top;\n",
       "    }\n",
       "\n",
       "    .dataframe thead th {\n",
       "        text-align: right;\n",
       "    }\n",
       "</style>\n",
       "<table border=\"1\" class=\"dataframe\">\n",
       "  <thead>\n",
       "    <tr style=\"text-align: right;\">\n",
       "      <th></th>\n",
       "      <th>product_id</th>\n",
       "      <th>product_name</th>\n",
       "      <th>aisle_id</th>\n",
       "      <th>department_id</th>\n",
       "    </tr>\n",
       "  </thead>\n",
       "  <tbody>\n",
       "  </tbody>\n",
       "</table>\n",
       "</div>"
      ],
      "text/plain": [
       "Empty DataFrame\n",
       "Columns: [product_id, product_name, aisle_id, department_id]\n",
       "Index: []"
      ]
     },
     "execution_count": 31,
     "metadata": {},
     "output_type": "execute_result"
    }
   ],
   "source": [
    "#  ¿Todos los nombres de productos ausentes están relacionados con el pasillo con ID 100?\n",
    "products[(products[\"product_name\"].isna()) & (products[\"aisle_id\"] != 100)]"
   ]
  },
  {
   "cell_type": "markdown",
   "id": "WRpIfXRphpSL",
   "metadata": {
    "id": "WRpIfXRphpSL"
   },
   "source": [
    "Describe brevemente cuáles son tus hallazgos.  \n",
    "**R**. Afirmativo, todos los productos ausentes se relacionan con el pasillo con id 100. "
   ]
  },
  {
   "cell_type": "code",
   "execution_count": 32,
   "id": "8fd0a541",
   "metadata": {
    "id": "8fd0a541"
   },
   "outputs": [
    {
     "data": {
      "text/html": [
       "<div>\n",
       "<style scoped>\n",
       "    .dataframe tbody tr th:only-of-type {\n",
       "        vertical-align: middle;\n",
       "    }\n",
       "\n",
       "    .dataframe tbody tr th {\n",
       "        vertical-align: top;\n",
       "    }\n",
       "\n",
       "    .dataframe thead th {\n",
       "        text-align: right;\n",
       "    }\n",
       "</style>\n",
       "<table border=\"1\" class=\"dataframe\">\n",
       "  <thead>\n",
       "    <tr style=\"text-align: right;\">\n",
       "      <th></th>\n",
       "      <th>product_id</th>\n",
       "      <th>product_name</th>\n",
       "      <th>aisle_id</th>\n",
       "      <th>department_id</th>\n",
       "    </tr>\n",
       "  </thead>\n",
       "  <tbody>\n",
       "  </tbody>\n",
       "</table>\n",
       "</div>"
      ],
      "text/plain": [
       "Empty DataFrame\n",
       "Columns: [product_id, product_name, aisle_id, department_id]\n",
       "Index: []"
      ]
     },
     "execution_count": 32,
     "metadata": {},
     "output_type": "execute_result"
    }
   ],
   "source": [
    "# ¿Todos los nombres de productos ausentes están relacionados con el departamento con ID 21?\n",
    "products[(products[\"product_name\"].isna()) & (products[\"department_id\"] != 21)]"
   ]
  },
  {
   "cell_type": "markdown",
   "id": "qDpdYn1Fht_I",
   "metadata": {
    "id": "qDpdYn1Fht_I"
   },
   "source": [
    "Describe brevemente cuáles son tus hallazgos.   \n",
    "**R**. Afirmativo, todos los productos ausentes se relacionan con el departamento con id 21. "
   ]
  },
  {
   "cell_type": "code",
   "execution_count": 33,
   "id": "325c3464",
   "metadata": {
    "id": "325c3464"
   },
   "outputs": [
    {
     "name": "stdout",
     "output_type": "stream",
     "text": [
      "    aisle_id    aisle\n",
      "99       100  missing\n",
      "\n",
      "    department_id department\n",
      "20             21    missing\n"
     ]
    }
   ],
   "source": [
    "# Usa las tablas department y aisle para revisar los datos del pasillo con ID 100 y el departamento con ID 21.\n",
    "## Tabla ailes\n",
    "print(aisles[aisles['aisle_id'] == 100])\n",
    "print()\n",
    "\n",
    "## Tabla departments\n",
    "print(departments[departments[\"department_id\"]==21])"
   ]
  },
  {
   "cell_type": "markdown",
   "id": "nqhSTUPhhvEJ",
   "metadata": {
    "id": "nqhSTUPhhvEJ"
   },
   "source": [
    "Describe brevemente cuáles son tus hallazgos.   \n",
    "**R**. Como habiamos indicado con anterioridad, los pasillos con id 100 y departamento con id 21 están catalogados como productos faltantes."
   ]
  },
  {
   "cell_type": "code",
   "execution_count": 34,
   "id": "6b295120",
   "metadata": {
    "id": "6b295120"
   },
   "outputs": [
    {
     "name": "stdout",
     "output_type": "stream",
     "text": [
      "0\n"
     ]
    }
   ],
   "source": [
    "# Completa los nombres de productos ausentes con 'Unknown'\n",
    "## Remplazo de NaNs \n",
    "products[\"product_name\"] = products[\"product_name\"].fillna(\"Unknown\")\n",
    "\n",
    "### Corroboración valores ausentes\n",
    "print(products[\"product_name\"].isna().sum())\n"
   ]
  },
  {
   "cell_type": "markdown",
   "id": "fc70e5ad",
   "metadata": {
    "id": "fc70e5ad"
   },
   "source": [
    "Describe brevemente tus hallazgos y lo que hiciste con ellos.   \n",
    "**R**. Los productos con nombres faltantes están asociados a un departamento y pasillo específicos. Sin embargo, es necesario rectificar la metadata con el supervisor para asegurar su precisión. Además, sería útil entender mejor el tipo de productos que se encuentran en esta sección. Por ahora, estos valores han sido etiquetados como `unknown`."
   ]
  },
  {
   "cell_type": "markdown",
   "id": "7eb45c86",
   "metadata": {
    "id": "7eb45c86"
   },
   "source": [
    "#### Dataframe `orders`"
   ]
  },
  {
   "cell_type": "code",
   "execution_count": 35,
   "id": "93e41d96",
   "metadata": {
    "id": "93e41d96"
   },
   "outputs": [
    {
     "data": {
      "text/plain": [
       "order_id                      0\n",
       "user_id                       0\n",
       "order_number                  0\n",
       "order_dow                     0\n",
       "order_hour_of_day             0\n",
       "days_since_prior_order    28817\n",
       "order_days                    0\n",
       "dtype: int64"
      ]
     },
     "execution_count": 35,
     "metadata": {},
     "output_type": "execute_result"
    }
   ],
   "source": [
    "# Encuentra los valores ausentes\n",
    "insta_orders.isna().sum()"
   ]
  },
  {
   "cell_type": "code",
   "execution_count": 36,
   "id": "166e5a86",
   "metadata": {
    "id": "166e5a86"
   },
   "outputs": [
    {
     "data": {
      "text/plain": [
       "28817"
      ]
     },
     "execution_count": 36,
     "metadata": {},
     "output_type": "execute_result"
    }
   ],
   "source": [
    "# ¿Hay algún valor ausente que no sea el primer pedido del cliente?\n",
    "## Filtramos para conocer los valores ausentes distintos a primera orden\n",
    "insta_orders[(insta_orders[\"days_since_prior_order\"].isna()) & (insta_orders[\"order_number\"]!=1)]\n",
    "\n",
    "## Determinamos el número de valores ausentes relacionados al primer pedido\n",
    "days_missing = insta_orders[(insta_orders[\"days_since_prior_order\"].isna()) & (insta_orders[\"order_number\"]==1)]\n",
    "days_missing.shape[0]"
   ]
  },
  {
   "cell_type": "markdown",
   "id": "4e23d089",
   "metadata": {
    "id": "4e23d089"
   },
   "source": [
    "Describe brevemente tus hallazgos y lo que hiciste con ellos.  \n",
    "Observamos que la dataframe `insta_orders` contiene aproximadamente el 6% de valores ausentes, todos ellos se encuentran en la variable `days_since_prior_order`. Determinamos que 28817 valores faltantes en el dataframe se encuentra relacionado con la primer orden. Es necesario checar con el supervisor de qué manera se trabajará con esos valores ausentes, se momento se dejaron así. "
   ]
  },
  {
   "cell_type": "markdown",
   "id": "69dc9ca4",
   "metadata": {
    "id": "69dc9ca4"
   },
   "source": [
    "#### Dataframe `order_products`"
   ]
  },
  {
   "cell_type": "code",
   "execution_count": 37,
   "id": "b8240253",
   "metadata": {
    "id": "b8240253"
   },
   "outputs": [
    {
     "name": "stdout",
     "output_type": "stream",
     "text": [
      "order_id               0\n",
      "product_id             0\n",
      "add_to_cart_order    836\n",
      "reordered              0\n",
      "reordered_wd           0\n",
      "dtype: int64\n",
      "\n",
      "         order_id  product_id  add_to_cart_order  reordered reordered_wd\n",
      "737       2449164        5068                NaN          0           No\n",
      "9926      1968313       43867                NaN          0           No\n",
      "14394     2926893       11688                NaN          0           No\n",
      "16418     1717990        4142                NaN          0           No\n",
      "30114     1959075       42828                NaN          1           Si\n",
      "...           ...         ...                ...        ...          ...\n",
      "4505662   1800005        7411                NaN          0           No\n",
      "4511400   1633337         260                NaN          0           No\n",
      "4517562    404157        9517                NaN          0           No\n",
      "4534112   1673227       17835                NaN          0           No\n",
      "4535739   1832957       17949                NaN          1           Si\n",
      "\n",
      "[836 rows x 5 columns]\n"
     ]
    }
   ],
   "source": [
    "# Encuentra los valores ausentes\n",
    "## Determinamos donde se encuentran los valores ausentes\n",
    "print(order_products.isna().sum())\n",
    "print()\n",
    "\n",
    "## Identificamos los valores ausentes\n",
    "missing_cart_order = order_products[order_products[\"add_to_cart_order\"].isna()]\n",
    "print(missing_cart_order)\n"
   ]
  },
  {
   "cell_type": "code",
   "execution_count": 38,
   "id": "9a78e5ee",
   "metadata": {
    "id": "9a78e5ee"
   },
   "outputs": [
    {
     "name": "stdout",
     "output_type": "stream",
     "text": [
      "Valor mínimo:  1.0 \n",
      "Valor máximo:  64.0\n"
     ]
    },
    {
     "data": {
      "text/plain": [
       "64"
      ]
     },
     "execution_count": 38,
     "metadata": {},
     "output_type": "execute_result"
    }
   ],
   "source": [
    "# ¿Cuáles son los valores mínimos y máximos en esta columna?\n",
    "## Identificamos los valores mínimos y máximos\n",
    "print(\"Valor mínimo: \", order_products[\"add_to_cart_order\"].min(), \"\\nValor máximo: \", order_products[\"add_to_cart_order\"].max())\n",
    "\n",
    "## Observamos el resumen de la variable\n",
    "order_products[\"add_to_cart_order\"].nunique()"
   ]
  },
  {
   "cell_type": "markdown",
   "id": "-Z2Ja215jW78",
   "metadata": {
    "id": "-Z2Ja215jW78"
   },
   "source": [
    "Describe brevemente cuáles son tus hallazgos.  \n",
    "**R**: De acuerdo con el dataframe de `order_products` observamos que existen 836 valores ausentes. Gracias a las pistas que tiene el proyecto vemos que solo existen 64 valores únicos, siendo el mínimo el 1 y el máximo 64, es decir no continuaron con el orden secuencial en el que se añadió a partir del artículo 65."
   ]
  },
  {
   "cell_type": "code",
   "execution_count": 56,
   "id": "ab9d0c2b",
   "metadata": {
    "id": "ab9d0c2b"
   },
   "outputs": [
    {
     "data": {
      "text/plain": [
       "737        2449164\n",
       "9926       1968313\n",
       "14394      2926893\n",
       "16418      1717990\n",
       "30114      1959075\n",
       "            ...   \n",
       "4505662    1800005\n",
       "4511400    1633337\n",
       "4517562     404157\n",
       "4534112    1673227\n",
       "4535739    1832957\n",
       "Name: order_id, Length: 836, dtype: int64"
      ]
     },
     "execution_count": 56,
     "metadata": {},
     "output_type": "execute_result"
    }
   ],
   "source": [
    "# Guarda todas las IDs de pedidos que tengan un valor ausente en 'add_to_cart_order'\n",
    "missing_order_vector = missing_cart_order[\"order_id\"]"
   ]
  },
  {
   "cell_type": "code",
   "execution_count": 57,
   "id": "ee68b92c",
   "metadata": {},
   "outputs": [
    {
     "name": "stdout",
     "output_type": "stream",
     "text": [
      "         order_id  product_id  add_to_cart_order  reordered reordered_wd\n",
      "267       2094761       31469                 57          1           Si\n",
      "737       2449164        5068                999          0           No\n",
      "1742      2997021        4920                 37          0           No\n",
      "3463       871281       40063                 61          1           Si\n",
      "3535       171934       36397                  7          0           No\n",
      "...           ...         ...                ...        ...          ...\n",
      "4543519   2621907       32018                 28          1           Si\n",
      "4544672    102236       34688                 49          0           No\n",
      "4544708   2256933       41544                 21          0           No\n",
      "4544771    180546       12741                 46          1           Si\n",
      "4544810   2136777       20072                 10          0           No\n",
      "\n",
      "[5316 rows x 5 columns]\n"
     ]
    }
   ],
   "source": [
    "# ¿Todos los pedidos con valores ausentes tienen más de 64 productos?\n",
    "## Filtrar del dataframe los order_id con pedidos ausentes\n",
    "missing_orders = order_products.query(\"order_id in @missing_order_vector\")\n",
    "\n",
    "print(missing_orders)"
   ]
  },
  {
   "cell_type": "code",
   "execution_count": 79,
   "id": "54c31695",
   "metadata": {
    "id": "54c31695"
   },
   "outputs": [
    {
     "name": "stdout",
     "output_type": "stream",
     "text": [
      "order_id\n",
      "61355      127\n",
      "3308010    115\n",
      "2136777    108\n",
      "171934     104\n",
      "1959075     98\n",
      "          ... \n",
      "888470      65\n",
      "2170451     65\n",
      "2729254     65\n",
      "2621907     65\n",
      "2652650     65\n",
      "Name: product_id, Length: 70, dtype: int64\n",
      "\n",
      "Valor mínimo de conteo de paquetes 65\n",
      "\n",
      "product_id\n",
      "65     9\n",
      "70     6\n",
      "67     6\n",
      "69     6\n",
      "66     5\n",
      "73     4\n",
      "74     3\n",
      "71     3\n",
      "86     3\n",
      "95     2\n",
      "78     2\n",
      "77     2\n",
      "76     2\n",
      "75     2\n",
      "68     2\n",
      "92     2\n",
      "91     2\n",
      "115    1\n",
      "87     1\n",
      "108    1\n",
      "104    1\n",
      "98     1\n",
      "127    1\n",
      "85     1\n",
      "80     1\n",
      "72     1\n",
      "Name: count, dtype: int64\n",
      "\n",
      "Total de ordenes ausentes:  70\n"
     ]
    }
   ],
   "source": [
    "## Agrupar todos los pedidos con datos ausentes por su ID de pedido.\n",
    "missing_grouped_orders= missing_orders.groupby(by=\"order_id\")[\"product_id\"].count().sort_values(ascending=False)\n",
    "\n",
    "## Contar el número de 'product_id' en cada pedido y revisar el valor mínimo del conteo.\n",
    "print(missing_grouped_orders)\n",
    "print()\n",
    "print(\"Valor mínimo de conteo de paquetes\", missing_grouped_orders.min())\n",
    "print()\n",
    "\n",
    "## Observar la distribución de los pedidos\n",
    "print(missing_grouped_orders.value_counts())\n",
    "print()\n",
    "print(\"Total de ordenes ausentes: \", missing_grouped_orders.value_counts().sum())"
   ]
  },
  {
   "cell_type": "markdown",
   "id": "p9V6pddtjglj",
   "metadata": {
    "id": "p9V6pddtjglj"
   },
   "source": [
    "Describe brevemente cuáles son tus hallazgos.   \n",
    "**R**: Hemos confirmado la hipótesis sobre la cantidad de productos en los pedidos con datos ausentes en la columna `add_to_cart_order`, siendo mayor a 65 productos."
   ]
  },
  {
   "cell_type": "code",
   "execution_count": 42,
   "id": "7a987d08",
   "metadata": {
    "id": "7a987d08"
   },
   "outputs": [],
   "source": [
    "# Remplaza los valores ausentes en la columna 'add_to_cart? con 999 y convierte la columna al tipo entero.\n",
    "order_products[\"add_to_cart_order\"] = order_products[\"add_to_cart_order\"].fillna(999).astype(\"int\")"
   ]
  },
  {
   "cell_type": "markdown",
   "id": "fea4bcc7",
   "metadata": {
    "id": "fea4bcc7"
   },
   "source": [
    "Describe brevemente tus hallazgos y lo que hiciste con ellos.   \n",
    "**R**:  Al agrupar los pedidos por su `order_id`, observamos que las ordenes con valores ausentes contienen mínimo 65 y máximo 127 productos. En total, identificamos 70 pedidos con esta característica, la mayoría de ellos tienen exactamente 65 productos, seguidos por otros con 67, 69 y 70 productos. Se ha determinado que todas aquellas ordenes con más de 65 productos tengan el valor de 999. Es importante **tener en cuenta** esrto al momento de realizar análisis posteriores. "
   ]
  },
  {
   "cell_type": "markdown",
   "id": "RnplPFY1gSrb",
   "metadata": {
    "id": "RnplPFY1gSrb"
   },
   "source": [
    "### 2.5 Conclusiones\n",
    "\n",
    "Durante el paso del análisis de datos, que involucró el preprocesamiento de los datos, llevamos a cabo la limpieza de los diferentes dataframes con los que trabajamos. Las tareas realizadas incluyen la manipulación de datos, identificación y eliminación de valores duplicados, así como de valores ausentes. \n",
    "\n",
    "A manera de resumen se presentan los hallazgos y acciones principales: \n",
    "\n",
    "1. **Manipulación de datos**   \n",
    "    Verificamos y ajustamos los tipos de datos opara asegurar el formato correcto. Por ejemplo, mejoramos la comprensión de los datos numéricos a categóricas más intuitivas. \n",
    "\n",
    "2. **Identificación y eliminación de valores duplicados**   \n",
    "    Identificamos y eliminamos valores duplicados en distintos datasets. En algunos casos realizamos análisis más detallados para detectar duplicados implícitos, especialmente en nombres de productos y combinaciones de identificadores. \n",
    "\n",
    "3. **Identificación y manejo de valores ausentes**  \n",
    "    Identificamos varios valores ausentes en distintos Dataframes, por ejemplo: \n",
    "       - Dataframe `products`, los nombres de productos sin asignación fueron etiquetados como `unknown`. \n",
    "       - Dataframe `insta_order`, observamos que 6% de los datos se encontraban ausentes, específicamente en la columna `days_since_prior_orden`. Entendemos que esta ausencia se asocia a las primeras ordenes del cliente. No realizamos correción alguna. \n",
    "       - Dataframe `order_products`, identificamos 836 valores ausentes, relacionado en la secuencia de productos agregados al carrito, estos datos. Los números ausentes fueron remplazados por valor de `999`. \n",
    "  \n",
    "Las acciones que realizamos han mejorado la calidad de los datos, lo que nos permite continuar con nuestor flujo de trabajo y realizar el análisis de datos. No obstante es importante rectificar con el supervisor las acciones tomadas. "
   ]
  },
  {
   "cell_type": "markdown",
   "id": "UjrOIwTcz3ri",
   "metadata": {
    "id": "UjrOIwTcz3ri"
   },
   "source": [
    "## Paso 3. Análisis de los datos\n",
    "---\n",
    "\n",
    "Una vez los datos estén procesados y listos, haz el siguiente análisis:"
   ]
  },
  {
   "cell_type": "markdown",
   "id": "turkish-kidney",
   "metadata": {
    "id": "turkish-kidney"
   },
   "source": [
    "### [A] Fácil\n",
    "1. Verifica que los valores en las columnas `'order_hour_of_day'` y `'order_dow'` en la tabla orders sean razonables (es decir, `'order_hour_of_day'` oscile entre 0 y 23 y `'order_dow'` oscile entre 0 y 6).\n",
    "2. Crea un gráfico que muestre el número de personas que hacen pedidos dependiendo de la hora del día.\n",
    "3. Crea un gráfico que muestre qué día de la semana la gente hace sus compras.\n",
    "4. Crea un gráfico que muestre el tiempo que la gente espera hasta hacer su siguiente pedido, y comenta sobre los valores mínimos y máximos."
   ]
  },
  {
   "cell_type": "markdown",
   "id": "short-capability",
   "metadata": {
    "id": "short-capability"
   },
   "source": [
    "#### [A1] Verifica que los valores sean sensibles"
   ]
  },
  {
   "cell_type": "code",
   "execution_count": 43,
   "id": "growing-fruit",
   "metadata": {
    "id": "growing-fruit"
   },
   "outputs": [
    {
     "data": {
      "text/html": [
       "<div>\n",
       "<style scoped>\n",
       "    .dataframe tbody tr th:only-of-type {\n",
       "        vertical-align: middle;\n",
       "    }\n",
       "\n",
       "    .dataframe tbody tr th {\n",
       "        vertical-align: top;\n",
       "    }\n",
       "\n",
       "    .dataframe thead th {\n",
       "        text-align: right;\n",
       "    }\n",
       "</style>\n",
       "<table border=\"1\" class=\"dataframe\">\n",
       "  <thead>\n",
       "    <tr style=\"text-align: right;\">\n",
       "      <th></th>\n",
       "      <th>order_hour_of_day</th>\n",
       "      <th>order_dow</th>\n",
       "    </tr>\n",
       "  </thead>\n",
       "  <tbody>\n",
       "    <tr>\n",
       "      <th>count</th>\n",
       "      <td>478952.0</td>\n",
       "      <td>478952.0</td>\n",
       "    </tr>\n",
       "    <tr>\n",
       "      <th>mean</th>\n",
       "      <td>13.4</td>\n",
       "      <td>2.8</td>\n",
       "    </tr>\n",
       "    <tr>\n",
       "      <th>std</th>\n",
       "      <td>4.2</td>\n",
       "      <td>2.0</td>\n",
       "    </tr>\n",
       "    <tr>\n",
       "      <th>min</th>\n",
       "      <td>0.0</td>\n",
       "      <td>0.0</td>\n",
       "    </tr>\n",
       "    <tr>\n",
       "      <th>25%</th>\n",
       "      <td>10.0</td>\n",
       "      <td>1.0</td>\n",
       "    </tr>\n",
       "    <tr>\n",
       "      <th>50%</th>\n",
       "      <td>13.0</td>\n",
       "      <td>3.0</td>\n",
       "    </tr>\n",
       "    <tr>\n",
       "      <th>75%</th>\n",
       "      <td>16.0</td>\n",
       "      <td>5.0</td>\n",
       "    </tr>\n",
       "    <tr>\n",
       "      <th>max</th>\n",
       "      <td>23.0</td>\n",
       "      <td>6.0</td>\n",
       "    </tr>\n",
       "  </tbody>\n",
       "</table>\n",
       "</div>"
      ],
      "text/plain": [
       "       order_hour_of_day  order_dow\n",
       "count           478952.0   478952.0\n",
       "mean                13.4        2.8\n",
       "std                  4.2        2.0\n",
       "min                  0.0        0.0\n",
       "25%                 10.0        1.0\n",
       "50%                 13.0        3.0\n",
       "75%                 16.0        5.0\n",
       "max                 23.0        6.0"
      ]
     },
     "execution_count": 43,
     "metadata": {},
     "output_type": "execute_result"
    }
   ],
   "source": [
    "# Verifica que los valores en las columnas `'order_hour_of_day'` y `'order_dow'` en la tabla orders sean razonables\n",
    "insta_orders[[\"order_hour_of_day\", \"order_dow\"]].describe().round(1)"
   ]
  },
  {
   "cell_type": "markdown",
   "id": "hmR2GNQ6lCsX",
   "metadata": {
    "id": "hmR2GNQ6lCsX"
   },
   "source": [
    "Escribe aquí tus conclusiones  \n",
    "**R**. A través de la descripción de las variables verificamos que los valores en las columnas  `'order_hour_of_day'` y `'order_dow'` son razonables. "
   ]
  },
  {
   "cell_type": "markdown",
   "id": "a6743a70",
   "metadata": {
    "id": "a6743a70"
   },
   "source": [
    "#### [A2] Para cada hora del día, ¿cuántas personas hacen órdenes?"
   ]
  },
  {
   "cell_type": "code",
   "execution_count": 91,
   "id": "a36cca27",
   "metadata": {
    "id": "a36cca27"
   },
   "outputs": [
    {
     "data": {
      "image/png": "[encoded data removed]",
      "text/plain": [
       "<Figure size 1000x500 with 1 Axes>"
      ]
     },
     "metadata": {},
     "output_type": "display_data"
    }
   ],
   "source": [
    "# Número de personas que hacen pedidos dependiendo de la hora del día.\n",
    "## Agrupar el número de usuarios por hora del pedido\n",
    "users_by_hour = insta_orders.groupby(by=\"order_hour_of_day\")[\"user_id\"].count()\n",
    "\n",
    "## Graficar \n",
    "users_by_hour.plot(kind=\"bar\", color=\"#0f61b8\",\n",
    "                    title=\"Distribución de pedidos al día\\n\",\n",
    "        xlabel= \"\\nHora del día\", ylabel= \"No. de personas\\n\", \n",
    "        figsize=(10, 5), rot=45)\n",
    "plt.show()"
   ]
  },
  {
   "cell_type": "markdown",
   "id": "11270eed",
   "metadata": {
    "id": "11270eed"
   },
   "source": [
    "En la gráfica podemos observar la cantidad de pedidos que se realizan a la aplicación durante cada hora dle día. Algunos patrones a destacar incluyen: \n",
    "\n",
    "- Como era de esperarse los pedidos en la madrugada son bajos. \n",
    "- A partir de las 6 de la mañana empiezan los pedidos a la aplicación, aumentando de manera constante hasta las 10 de la mañana. \n",
    "- Existen dos modas en la cantidad de pedidos, una por la mañana y otra por la tarde, siendo los picos las 10 y las 3 de la tarde. \n",
    "- A partir de las 4 de la tarde comienza una disminución en el número de personas que hacen pedidos. \n",
    "\n",
    "A partir de lo anterior, podemos sugerir que los usuarios tienden a realizar sus pedidos principalmente en dos momentos del día: durante la mañana y a primera hora de la tarde."
   ]
  },
  {
   "cell_type": "markdown",
   "id": "documented-command",
   "metadata": {
    "id": "documented-command"
   },
   "source": [
    "#### [A3] ¿Qué día de la semana compran víveres las personas?"
   ]
  },
  {
   "cell_type": "code",
   "execution_count": 88,
   "id": "chief-digit",
   "metadata": {
    "id": "chief-digit"
   },
   "outputs": [
    {
     "name": "stdout",
     "output_type": "stream",
     "text": [
      "order_dow\n",
      "0    84090\n",
      "1    82185\n",
      "2    65833\n",
      "3    60897\n",
      "4    59810\n",
      "5    63488\n",
      "6    62649\n",
      "Name: user_id, dtype: int64\n"
     ]
    },
    {
     "data": {
      "image/png": "[encoded data removed]",
      "text/plain": [
       "<Figure size 1000x500 with 1 Axes>"
      ]
     },
     "metadata": {},
     "output_type": "display_data"
    }
   ],
   "source": [
    "# Crea un gráfico que muestre qué día de la semana la gente hace sus compras.\n",
    "## Agrupar el número de usuarios por día\n",
    "users_by_day = insta_orders.groupby(by=\"order_dow\")[\"user_id\"].count()\n",
    "print(users_by_day)\n",
    "## Graficar\n",
    "users_by_day.plot(kind=\"bar\", color=\"#e1d0a7\",\n",
    "                    title=\"Distribución de pedidos a lo largo de la semana\\n\",\n",
    "        xlabel= \"\\nDía de la semana\", ylabel= \"No. de personas\\n\", \n",
    "        figsize=(10, 5), rot=0)\n",
    "plt.show()\n"
   ]
  },
  {
   "cell_type": "markdown",
   "id": "dominant-lightning",
   "metadata": {
    "id": "dominant-lightning"
   },
   "source": [
    "En la gráfica podemos observar la cantidad de pedidos que se realizan a la aplicación a lo largo de la semana. Algunos patrones a destacar incluyen: \n",
    "\n",
    "- Los pedidos se realizan a principios de semana y disminuyen a lo largo de la semana. \n",
    "- El Domingo es el día con mayor número de pedidos y estos disminuyen el día jueves, que es el punto más bajo. \n",
    "- El viernes parece retomarse la actividad en las compras. \n",
    "\n",
    "A partir de lo anterior, podemos sugerir que los usuarios tienden a realizar sus pedidos al inicio de la semana, posiblemente para preparase para los siguientes días. El viernes tiene un comportamiento particular, es posible que el repunte sea debido a una compra orientada para el fin de semana, sería interesante ver este efectro en otros registros. "
   ]
  },
  {
   "cell_type": "markdown",
   "id": "cutting-concert",
   "metadata": {
    "id": "cutting-concert"
   },
   "source": [
    "#### [A4] ¿Cuánto tiempo esperan las personas hasta hacer otro pedido? Comenta sobre los valores mínimos y máximos."
   ]
  },
  {
   "cell_type": "code",
   "execution_count": 47,
   "id": "1bd33140",
   "metadata": {},
   "outputs": [
    {
     "data": {
      "image/png": "[encoded data removed]",
      "text/plain": [
       "<Figure size 1000x500 with 1 Axes>"
      ]
     },
     "metadata": {},
     "output_type": "display_data"
    }
   ],
   "source": [
    "# Crea un gráfico que muestre el tiempo que la gente espera hasta hacer su siguiente pedido\n",
    "## Agrupar el número de usuarios por tiempo hasta el siguiente pedido\n",
    "users_by_order_wait = insta_orders.groupby(by=\"days_since_prior_order\")[\"user_id\"].count()\n",
    "\n",
    "## Graficar\n",
    "users_by_order_wait.plot(kind=\"bar\", color=\"#8b8f3a\", \n",
    "        title=\"Distribución de usuarios por tiempo de espera hasta próximo pedido\\n\",\n",
    "        xlabel= \"\\nDías desde el pedido anterior\", ylabel= \"No. de personas\\n\", \n",
    "        figsize=(10, 5))\n",
    "plt.show()"
   ]
  },
  {
   "cell_type": "code",
   "execution_count": 48,
   "id": "e37f3043",
   "metadata": {},
   "outputs": [
    {
     "data": {
      "text/plain": [
       "count    450135.000000\n",
       "mean         11.101814\n",
       "std           9.190004\n",
       "min           0.000000\n",
       "25%           4.000000\n",
       "50%           7.000000\n",
       "75%          15.000000\n",
       "max          30.000000\n",
       "Name: days_since_prior_order, dtype: float64"
      ]
     },
     "execution_count": 48,
     "metadata": {},
     "output_type": "execute_result"
    }
   ],
   "source": [
    "## Resumen estadístico días desde el pedido anterior\n",
    "insta_orders[\"days_since_prior_order\"].describe()"
   ]
  },
  {
   "cell_type": "markdown",
   "id": "discrete-vertex",
   "metadata": {
    "id": "discrete-vertex"
   },
   "source": [
    "Escribe aquí tus conclusiones"
   ]
  },
  {
   "cell_type": "markdown",
   "id": "tight-staff",
   "metadata": {
    "id": "tight-staff"
   },
   "source": [
    "### [B] Intermedio\n",
    "1. ¿Existe alguna diferencia entre las distribuciones `'order_hour_of_day'` de los miércoles y los sábados? Traza gráficos de barra de `'order_hour_of_day'` para ambos días en la misma figura y describe las diferencias que observes.\n",
    "2. Grafica la distribución para el número de órdenes que hacen los clientes (es decir, cuántos clientes hicieron solo 1 pedido, cuántos hicieron 2, cuántos 3, y así sucesivamente...).\n",
    "3. ¿Cuáles son los 20 principales productos que se piden con más frecuencia (muestra su identificación y nombre)?"
   ]
  },
  {
   "cell_type": "markdown",
   "id": "packed-classic",
   "metadata": {
    "id": "packed-classic"
   },
   "source": [
    "#### [B1] Diferencia entre miércoles y sábados para  `'order_hour_of_day'`. Traza gráficos de barra para los dos días y describe las diferencias que veas."
   ]
  },
  {
   "cell_type": "code",
   "execution_count": 49,
   "id": "d89b8403",
   "metadata": {
    "id": "d89b8403"
   },
   "outputs": [
    {
     "data": {
      "image/png": "[encoded data removed]",
      "text/plain": [
       "<Figure size 640x480 with 1 Axes>"
      ]
     },
     "metadata": {},
     "output_type": "display_data"
    },
    {
     "data": {
      "text/plain": [
       "<Figure size 1000x500 with 0 Axes>"
      ]
     },
     "metadata": {},
     "output_type": "display_data"
    }
   ],
   "source": [
    "# Diferencias hora del pedido entre miercoles y sabado\n",
    "\n",
    "## Datos del miercoles\n",
    "### Dataframe de día miercoles\n",
    "miercoles_df= insta_orders[insta_orders[\"order_days\"]== \"miercoles\"]\n",
    "\n",
    "### Agrupación de los usuarios de acuerdo a la hora del pedido\n",
    "miercoles_order = miercoles_df.groupby(by=\"order_hour_of_day\")[\"user_id\"].count()\n",
    "\n",
    "## Datos sabado \n",
    "### Dataframe de día sabado\n",
    "sabado_df= insta_orders[insta_orders[\"order_days\"]== \"sabado\"]\n",
    "\n",
    "### Agrupación de los usuarios de acuerdo a la hora del pedido\n",
    "sabado_order = sabado_df.groupby(by=\"order_hour_of_day\")[\"user_id\"].count()\n",
    "\n",
    "\n",
    "## Creación del gráfico\n",
    "miercoles_order.plot(kind=\"bar\", color=\"#d70053\", alpha=0.5)\n",
    "sabado_order.plot(kind=\"bar\", color=\"#007080\", alpha= 0.5)\n",
    "\n",
    "plt.title(\"Distribución de pedidos por hora del Día: Miércoles vs. Sábado\\n\")\n",
    "plt.xlabel(\"\\nHora del Día\")\n",
    "plt.ylabel(\"Número de Pedidos\\n\")\n",
    "plt.legend([\"Miércoles\", \"Sábado\"])\n",
    "plt.figure(figsize=(10, 5))\n",
    "plt.show()"
   ]
  },
  {
   "cell_type": "markdown",
   "id": "charitable-congo",
   "metadata": {
    "id": "charitable-congo"
   },
   "source": [
    "Escribe aquí tus conclusiones"
   ]
  },
  {
   "cell_type": "markdown",
   "id": "e3891143",
   "metadata": {
    "id": "e3891143"
   },
   "source": [
    "#### [B2] ¿Cuál es la distribución para el número de pedidos por cliente?"
   ]
  },
  {
   "cell_type": "code",
   "execution_count": 97,
   "id": "87dd211a",
   "metadata": {},
   "outputs": [
    {
     "data": {
      "text/html": [
       "<div>\n",
       "<style scoped>\n",
       "    .dataframe tbody tr th:only-of-type {\n",
       "        vertical-align: middle;\n",
       "    }\n",
       "\n",
       "    .dataframe tbody tr th {\n",
       "        vertical-align: top;\n",
       "    }\n",
       "\n",
       "    .dataframe thead th {\n",
       "        text-align: right;\n",
       "    }\n",
       "</style>\n",
       "<table border=\"1\" class=\"dataframe\">\n",
       "  <thead>\n",
       "    <tr style=\"text-align: right;\">\n",
       "      <th></th>\n",
       "      <th>order_id</th>\n",
       "      <th>product_id</th>\n",
       "      <th>add_to_cart_order</th>\n",
       "      <th>reordered</th>\n",
       "      <th>reordered_wd</th>\n",
       "    </tr>\n",
       "  </thead>\n",
       "  <tbody>\n",
       "    <tr>\n",
       "      <th>0</th>\n",
       "      <td>2141543</td>\n",
       "      <td>11440</td>\n",
       "      <td>17</td>\n",
       "      <td>0</td>\n",
       "      <td>No</td>\n",
       "    </tr>\n",
       "    <tr>\n",
       "      <th>1</th>\n",
       "      <td>567889</td>\n",
       "      <td>1560</td>\n",
       "      <td>1</td>\n",
       "      <td>1</td>\n",
       "      <td>Si</td>\n",
       "    </tr>\n",
       "    <tr>\n",
       "      <th>2</th>\n",
       "      <td>2261212</td>\n",
       "      <td>26683</td>\n",
       "      <td>1</td>\n",
       "      <td>1</td>\n",
       "      <td>Si</td>\n",
       "    </tr>\n",
       "    <tr>\n",
       "      <th>3</th>\n",
       "      <td>491251</td>\n",
       "      <td>8670</td>\n",
       "      <td>35</td>\n",
       "      <td>1</td>\n",
       "      <td>Si</td>\n",
       "    </tr>\n",
       "    <tr>\n",
       "      <th>4</th>\n",
       "      <td>2571142</td>\n",
       "      <td>1940</td>\n",
       "      <td>5</td>\n",
       "      <td>1</td>\n",
       "      <td>Si</td>\n",
       "    </tr>\n",
       "    <tr>\n",
       "      <th>...</th>\n",
       "      <td>...</td>\n",
       "      <td>...</td>\n",
       "      <td>...</td>\n",
       "      <td>...</td>\n",
       "      <td>...</td>\n",
       "    </tr>\n",
       "    <tr>\n",
       "      <th>4545002</th>\n",
       "      <td>577211</td>\n",
       "      <td>15290</td>\n",
       "      <td>12</td>\n",
       "      <td>1</td>\n",
       "      <td>Si</td>\n",
       "    </tr>\n",
       "    <tr>\n",
       "      <th>4545003</th>\n",
       "      <td>1219554</td>\n",
       "      <td>21914</td>\n",
       "      <td>9</td>\n",
       "      <td>0</td>\n",
       "      <td>No</td>\n",
       "    </tr>\n",
       "    <tr>\n",
       "      <th>4545004</th>\n",
       "      <td>692640</td>\n",
       "      <td>47766</td>\n",
       "      <td>4</td>\n",
       "      <td>1</td>\n",
       "      <td>Si</td>\n",
       "    </tr>\n",
       "    <tr>\n",
       "      <th>4545005</th>\n",
       "      <td>319435</td>\n",
       "      <td>691</td>\n",
       "      <td>8</td>\n",
       "      <td>1</td>\n",
       "      <td>Si</td>\n",
       "    </tr>\n",
       "    <tr>\n",
       "      <th>4545006</th>\n",
       "      <td>1398151</td>\n",
       "      <td>28733</td>\n",
       "      <td>9</td>\n",
       "      <td>0</td>\n",
       "      <td>No</td>\n",
       "    </tr>\n",
       "  </tbody>\n",
       "</table>\n",
       "<p>4545007 rows × 5 columns</p>\n",
       "</div>"
      ],
      "text/plain": [
       "         order_id  product_id  add_to_cart_order  reordered reordered_wd\n",
       "0         2141543       11440                 17          0           No\n",
       "1          567889        1560                  1          1           Si\n",
       "2         2261212       26683                  1          1           Si\n",
       "3          491251        8670                 35          1           Si\n",
       "4         2571142        1940                  5          1           Si\n",
       "...           ...         ...                ...        ...          ...\n",
       "4545002    577211       15290                 12          1           Si\n",
       "4545003   1219554       21914                  9          0           No\n",
       "4545004    692640       47766                  4          1           Si\n",
       "4545005    319435         691                  8          1           Si\n",
       "4545006   1398151       28733                  9          0           No\n",
       "\n",
       "[4545007 rows x 5 columns]"
      ]
     },
     "execution_count": 97,
     "metadata": {},
     "output_type": "execute_result"
    }
   ],
   "source": [
    "order_products"
   ]
  },
  {
   "cell_type": "code",
   "execution_count": 51,
   "id": "d8c26c23",
   "metadata": {
    "id": "d8c26c23"
   },
   "outputs": [
    {
     "data": {
      "text/plain": [
       "<Axes: title={'center': 'Distribución del número de pedidos\\n'}, xlabel='\\nNo. de pedidos', ylabel='No. de personas\\n'>"
      ]
     },
     "execution_count": 51,
     "metadata": {},
     "output_type": "execute_result"
    },
    {
     "data": {
      "image/png": "[encoded data removed]",
      "text/plain": [
       "<Figure size 1000x500 with 1 Axes>"
      ]
     },
     "metadata": {},
     "output_type": "display_data"
    }
   ],
   "source": [
    "# 2. Grafica la distribución para el número de órdenes que hacen los clientes (es decir, cuántos clientes hicieron solo 1 pedido, cuántos hicieron 2, cuántos 3, y así sucesivamente...).\n",
    "user_by_order_num = insta_orders.groupby(by=\"order_number\")[\"user_id\"].count()\n",
    "\n",
    "user_by_order_num.plot(kind=\"bar\", color=\"#e1d0a7\",\n",
    "                    title=\"Distribución del número de pedidos\\n\",\n",
    "        xlabel= \"\\nNo. de pedidos\", ylabel= \"No. de personas\\n\", \n",
    "        rot=45,\n",
    "        figsize=(10, 5))\n",
    "\n"
   ]
  },
  {
   "cell_type": "code",
   "execution_count": 52,
   "id": "00e69a66",
   "metadata": {
    "id": "00e69a66"
   },
   "outputs": [
    {
     "data": {
      "image/png": "[encoded data removed]",
      "text/plain": [
       "<Figure size 640x480 with 1 Axes>"
      ]
     },
     "metadata": {},
     "output_type": "display_data"
    }
   ],
   "source": [
    "\n",
    "insta_orders[\"order_number\"].plot(kind=\"hist\", alpha=0.3)\n",
    "\n",
    "plt.show()"
   ]
  },
  {
   "cell_type": "markdown",
   "id": "d2eff7d5",
   "metadata": {
    "id": "d2eff7d5"
   },
   "source": [
    "Escribe aquí tus conclusiones"
   ]
  },
  {
   "cell_type": "markdown",
   "id": "54a0319c",
   "metadata": {
    "id": "54a0319c"
   },
   "source": [
    "#### [B3] ¿Cuáles son los 20 productos más populares (muestra su ID y nombre)?"
   ]
  },
  {
   "cell_type": "code",
   "execution_count": 121,
   "id": "exterior-arizona",
   "metadata": {
    "id": "exterior-arizona",
    "scrolled": true
   },
   "outputs": [
    {
     "data": {
      "text/plain": [
       "product_name\n",
       "BANANA                      55763\n",
       "BAG OF ORGANIC BANANAS      44450\n",
       "ORGANIC STRAWBERRIES        28639\n",
       "ORGANIC BABY SPINACH        26233\n",
       "ORGANIC HASS AVOCADO        23629\n",
       "ORGANIC AVOCADO             18743\n",
       "ORGANIC WHOLE MILK          16251\n",
       "LARGE LEMON                 15044\n",
       "ORGANIC RASPBERRIES         14748\n",
       "STRAWBERRIES                13945\n",
       "LIMES                       13327\n",
       "ORGANIC YELLOW ONION        11145\n",
       "ORGANIC GARLIC              10411\n",
       "ORGANIC ZUCCHINI            10076\n",
       "CUCUMBER KIRBY               9538\n",
       "ORGANIC FUJI APPLE           8989\n",
       "APPLE HONEYCRISP ORGANIC     8836\n",
       "ORGANIC BLUEBERRIES          8799\n",
       "ORGANIC LEMON                8412\n",
       "ORGANIC HALF & HALF          8389\n",
       "Name: reordered, dtype: int64"
      ]
     },
     "execution_count": 121,
     "metadata": {},
     "output_type": "execute_result"
    }
   ],
   "source": [
    "popular_product = order_products.merge(products, on= \"product_id\")\n",
    "popular_product = popular_product[popular_product[\"reordered_wd\"]== \"Si\"]\n",
    "top10_products = popular_product.groupby(\"product_name\")[\"reordered\"].count().sort_values(ascending= False)\n",
    "top10_products.head(20)"
   ]
  },
  {
   "cell_type": "code",
   "execution_count": 122,
   "id": "0fb65536",
   "metadata": {},
   "outputs": [
    {
     "data": {
      "text/plain": [
       "product_name\n",
       "BANANA                      55763\n",
       "BAG OF ORGANIC BANANAS      44450\n",
       "ORGANIC STRAWBERRIES        28639\n",
       "ORGANIC BABY SPINACH        26233\n",
       "ORGANIC HASS AVOCADO        23629\n",
       "ORGANIC AVOCADO             18743\n",
       "ORGANIC WHOLE MILK          16251\n",
       "LARGE LEMON                 15044\n",
       "ORGANIC RASPBERRIES         14748\n",
       "STRAWBERRIES                13945\n",
       "LIMES                       13327\n",
       "ORGANIC YELLOW ONION        11145\n",
       "ORGANIC GARLIC              10411\n",
       "ORGANIC ZUCCHINI            10076\n",
       "CUCUMBER KIRBY               9538\n",
       "ORGANIC FUJI APPLE           8989\n",
       "APPLE HONEYCRISP ORGANIC     8836\n",
       "ORGANIC BLUEBERRIES          8799\n",
       "ORGANIC LEMON                8412\n",
       "ORGANIC HALF & HALF          8389\n",
       "Name: count, dtype: int64"
      ]
     },
     "execution_count": 122,
     "metadata": {},
     "output_type": "execute_result"
    }
   ],
   "source": [
    "# Comprobación \n",
    "top10_products_v2 = popular_product[\"product_name\"].value_counts()\n",
    "top10_products_v2.head(20)"
   ]
  },
  {
   "cell_type": "code",
   "execution_count": null,
   "id": "universal-facial",
   "metadata": {
    "id": "universal-facial"
   },
   "outputs": [],
   "source": [
    "popular_product_count"
   ]
  },
  {
   "cell_type": "code",
   "execution_count": null,
   "id": "bbcdd20b",
   "metadata": {
    "id": "bbcdd20b"
   },
   "outputs": [],
   "source": []
  },
  {
   "cell_type": "markdown",
   "id": "7df00f47",
   "metadata": {
    "id": "7df00f47"
   },
   "source": [
    "Escribe aquí tus conclusiones"
   ]
  },
  {
   "cell_type": "markdown",
   "id": "gross-theme",
   "metadata": {
    "id": "gross-theme"
   },
   "source": [
    "### [C] Difícil\n",
    "\n",
    "1. ¿Cuántos artículos suelen comprar las personas en un pedido? ¿Cómo es la distribución?\n",
    "2. ¿Cuáles son los 20 principales artículos que vuelven a pedirse con mayor frecuencia (muestra sus nombres e IDs de los productos)?\n",
    "3. Para cada producto, ¿cuál es la tasa de repetición del pedido (número de repeticiones de pedido/total de pedidos?\n",
    "4. Para cada cliente, ¿qué proporción de los productos que pidió ya los había pedido? Calcula la tasa de repetición de pedido para cada usuario en lugar de para cada producto.\n",
    "5. ¿Cuáles son los 20 principales artículos que la gente pone primero en sus carritos (muestra las IDs de los productos, sus nombres, y el número de veces en que fueron el primer artículo en añadirse al carrito)?"
   ]
  },
  {
   "cell_type": "markdown",
   "id": "romantic-deposit",
   "metadata": {
    "id": "romantic-deposit"
   },
   "source": [
    "#### [C1] ¿Cuántos artículos compran normalmente las personas en un pedido? ¿Cómo es la distribución?"
   ]
  },
  {
   "cell_type": "code",
   "execution_count": null,
   "id": "virtual-punch",
   "metadata": {
    "id": "virtual-punch"
   },
   "outputs": [],
   "source": []
  },
  {
   "cell_type": "code",
   "execution_count": null,
   "id": "sensitive-breathing",
   "metadata": {
    "id": "sensitive-breathing"
   },
   "outputs": [],
   "source": []
  },
  {
   "cell_type": "code",
   "execution_count": null,
   "id": "completed-frank",
   "metadata": {
    "id": "completed-frank"
   },
   "outputs": [],
   "source": []
  },
  {
   "cell_type": "markdown",
   "id": "designed-mortality",
   "metadata": {
    "id": "designed-mortality"
   },
   "source": [
    "Escribe aquí tus conclusiones"
   ]
  },
  {
   "cell_type": "markdown",
   "id": "5e6b5537",
   "metadata": {
    "id": "5e6b5537"
   },
   "source": [
    "#### [C2] ¿Cuáles son los 20 principales artículos que vuelven a pedirse con mayor frecuencia (muestra sus nombres e IDs de los productos)?"
   ]
  },
  {
   "cell_type": "code",
   "execution_count": null,
   "id": "9374e55a",
   "metadata": {
    "id": "9374e55a"
   },
   "outputs": [],
   "source": []
  },
  {
   "cell_type": "code",
   "execution_count": null,
   "id": "possible-change",
   "metadata": {
    "id": "possible-change",
    "scrolled": true
   },
   "outputs": [],
   "source": []
  },
  {
   "cell_type": "code",
   "execution_count": null,
   "id": "professional-surfing",
   "metadata": {
    "id": "professional-surfing",
    "scrolled": true
   },
   "outputs": [],
   "source": []
  },
  {
   "cell_type": "code",
   "execution_count": null,
   "id": "48dd3658",
   "metadata": {
    "id": "48dd3658"
   },
   "outputs": [],
   "source": []
  },
  {
   "cell_type": "markdown",
   "id": "80e70c74",
   "metadata": {
    "id": "80e70c74"
   },
   "source": [
    "Escribe aquí tus conclusiones"
   ]
  },
  {
   "cell_type": "markdown",
   "id": "9d312b14",
   "metadata": {
    "id": "9d312b14"
   },
   "source": [
    "#### [C3] Para cada producto, ¿cuál es la proporción de las veces que se pide y que se vuelve a pedir?"
   ]
  },
  {
   "cell_type": "code",
   "execution_count": null,
   "id": "8ae9f4b1",
   "metadata": {
    "id": "8ae9f4b1"
   },
   "outputs": [],
   "source": []
  },
  {
   "cell_type": "code",
   "execution_count": null,
   "id": "103e7fe1",
   "metadata": {
    "id": "103e7fe1"
   },
   "outputs": [],
   "source": []
  },
  {
   "cell_type": "code",
   "execution_count": null,
   "id": "social-individual",
   "metadata": {
    "id": "social-individual"
   },
   "outputs": [],
   "source": []
  },
  {
   "cell_type": "markdown",
   "id": "I10dEIAyldcO",
   "metadata": {
    "id": "I10dEIAyldcO"
   },
   "source": [
    "Escribe aquí tus conclusiones"
   ]
  },
  {
   "cell_type": "markdown",
   "id": "subject-boxing",
   "metadata": {
    "id": "subject-boxing"
   },
   "source": [
    "#### [C4] Para cada cliente, ¿qué proporción de sus productos ya los había pedido?"
   ]
  },
  {
   "cell_type": "code",
   "execution_count": null,
   "id": "medical-couple",
   "metadata": {
    "id": "medical-couple",
    "scrolled": true
   },
   "outputs": [],
   "source": []
  },
  {
   "cell_type": "code",
   "execution_count": null,
   "id": "8892e4b4",
   "metadata": {
    "id": "8892e4b4"
   },
   "outputs": [],
   "source": []
  },
  {
   "cell_type": "markdown",
   "id": "BgJSvXDsleXz",
   "metadata": {
    "id": "BgJSvXDsleXz"
   },
   "source": [
    "Escribe aquí tus conclusiones"
   ]
  },
  {
   "cell_type": "markdown",
   "id": "92d35137",
   "metadata": {
    "id": "92d35137"
   },
   "source": [
    "#### [C5] ¿Cuáles son los 20 principales artículos que las personas ponen primero en sus carritos?"
   ]
  },
  {
   "cell_type": "code",
   "execution_count": null,
   "id": "0ae57274",
   "metadata": {
    "id": "0ae57274",
    "scrolled": true
   },
   "outputs": [],
   "source": []
  },
  {
   "cell_type": "code",
   "execution_count": null,
   "id": "forty-netherlands",
   "metadata": {
    "id": "forty-netherlands",
    "scrolled": true
   },
   "outputs": [],
   "source": []
  },
  {
   "cell_type": "code",
   "execution_count": null,
   "id": "08e41ec2",
   "metadata": {
    "id": "08e41ec2"
   },
   "outputs": [],
   "source": []
  },
  {
   "cell_type": "markdown",
   "id": "28ce9872",
   "metadata": {
    "id": "28ce9872"
   },
   "source": [
    "Escribe aquí tus conclusiones"
   ]
  },
  {
   "cell_type": "markdown",
   "id": "uITbFCEoDosC",
   "metadata": {
    "id": "uITbFCEoDosC"
   },
   "source": [
    "## Conclusion general del proyecto\n",
    "---"
   ]
  },
  {
   "cell_type": "code",
   "execution_count": null,
   "id": "Nk-4GS7mDwqY",
   "metadata": {
    "id": "Nk-4GS7mDwqY"
   },
   "outputs": [],
   "source": []
  },
  {
   "cell_type": "markdown",
   "id": "e0c45487",
   "metadata": {},
   "source": [
    "aisles[\"aisle_id\"]=aisles[\"aisle_id\"].astype(\"int\")"
   ]
  },
  {
   "cell_type": "markdown",
   "id": "1763ff8f",
   "metadata": {},
   "source": [
    "3. Exploración inicial de los datos\n",
    "4. Análisis descriptivo\n",
    "5. Visualización de datos"
   ]
  }
 ],
 "metadata": {
  "colab": {
   "provenance": []
  },
  "kernelspec": {
   "display_name": "Python 3 (ipykernel)",
   "language": "python",
   "name": "python3"
  },
  "language_info": {
   "codemirror_mode": {
    "name": "ipython",
    "version": 3
   },
   "file_extension": ".py",
   "mimetype": "text/x-python",
   "name": "python",
   "nbconvert_exporter": "python",
   "pygments_lexer": "ipython3",
   "version": "3.12.4"
  },
  "toc": {
   "base_numbering": 1,
   "nav_menu": {},
   "number_sections": true,
   "sideBar": true,
   "skip_h1_title": true,
   "title_cell": "Table of Contents",
   "title_sidebar": "Contents",
   "toc_cell": false,
   "toc_position": {},
   "toc_section_display": true,
   "toc_window_display": false
  },
  "vscode": {
   "interpreter": {
    "hash": "01a7be9ec63e704a62cefc5fe7a4756944464ee731be31632bdf42a4cb4688cf"
   }
  }
 },
 "nbformat": 4,
 "nbformat_minor": 5
}
